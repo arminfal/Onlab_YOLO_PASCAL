{
 "cells": [
  {
   "cell_type": "markdown",
   "metadata": {},
   "source": [
    "Önálló Laboratórium\n",
    "    YOLO8 Gyakorlás\n",
    "        PASCAL VOC0712 Dataset"
   ]
  },
  {
   "cell_type": "markdown",
   "metadata": {},
   "source": [
    "Show X image, so you can see how does the original segmentation bitmask looks like. //\n",
    "X maszk megjelenítése, hogy az eredeti bitmaszkok is láthatóak legyenek"
   ]
  },
  {
   "cell_type": "code",
   "execution_count": null,
   "metadata": {},
   "outputs": [],
   "source": [
    "import cv2\n",
    "import numpy as np\n",
    "import os\n",
    "import matplotlib.pyplot as plt\n",
    "\n",
    "#Get the file names from SegmantationObject folder)\n",
    "folder_path = 'C:\\\\Onlab\\\\VOC_dataset\\\\VOCdevkit\\\\VOC2012\\\\SegmentationObject\\\\'\n",
    "file_names = os.listdir(folder_path)\n",
    "#Show x images from the dataset\n",
    "counter = 0\n",
    "for file_name in file_names:\n",
    "    if counter >= 1:\n",
    "        break\n",
    "\n",
    "    image_path = os.path.join(folder_path, file_name)\n",
    "    image = cv2.imread(image_path)\n",
    "    if image is None:\n",
    "        print(f\"Failed to load image at {image_path}\")\n",
    "        continue\n",
    "\n",
    "    plt.imshow(cv2.cvtColor(image, cv2.COLOR_BGR2RGB))\n",
    "    plt.show()\n",
    "\n",
    "    counter += 1"
   ]
  },
  {
   "cell_type": "markdown",
   "metadata": {},
   "source": [
    "Determine the colors used in the images, so the edge and background colors can be excluded later. //\n",
    "A P formátumú színek kódjának meghatározása pixel számmal, ennek segítségével később a háttér és a maszk széle kihagyható a címkegeneráláshoz."
   ]
  },
  {
   "cell_type": "code",
   "execution_count": 2,
   "metadata": {},
   "outputs": [
    {
     "name": "stdout",
     "output_type": "stream",
     "text": [
      "Color number: 0, Area: 129545\n",
      "Color number: 1, Area: 4083\n",
      "Color number: 2, Area: 651\n",
      "Color number: 3, Area: 417\n",
      "Color number: 4, Area: 449\n",
      "Color number: 255, Area: 5355\n",
      "Color number: 0, Area: 154539\n",
      "Color number: 1, Area: 30031\n",
      "Color number: 255, Area: 2930\n"
     ]
    }
   ],
   "source": [
    "from PIL import Image\n",
    "import numpy as np\n",
    "# Code to determine the P color of the background and the edges, so these can be excluded in the next step\n",
    "def print_color_areas(image_path):\n",
    "    # Load image in P format\n",
    "    img = Image.open(image_path)\n",
    "    img_array = np.array(img)\n",
    "\n",
    "    # Get unique colors and their counts\n",
    "    unique_colors, counts = np.unique(img_array, return_counts=True)\n",
    "\n",
    "    # Print color numbers and their areas\n",
    "    for color, count in zip(unique_colors, counts):\n",
    "        print(f'Color number: {color}, Area: {count}')\n",
    "\n",
    "print_color_areas(\"C:\\\\Onlab\\\\VOC_dataset\\\\VOCdevkit\\\\VOC2012\\\\SegmentationObject\\\\2007_000032.png\")\n",
    "print_color_areas(\"C:\\\\Onlab\\\\VOC_dataset\\\\VOCdevkit\\\\VOC2012\\\\SegmentationObject\\\\2007_000039.png\")\n",
    "#from the results we can see that the background is 0 and the edges are 255"
   ]
  },
  {
   "cell_type": "code",
   "execution_count": 3,
   "metadata": {},
   "outputs": [
    {
     "name": "stdout",
     "output_type": "stream",
     "text": [
      "{'sofa', 'cat', 'motorbike', 'person', 'horse', 'car', 'train', 'bicycle', 'cow', 'boat', 'chair', 'diningtable', 'pottedplant', 'sheep', 'tvmonitor', 'dog', 'bird', 'bottle', 'bus', 'aeroplane'}\n"
     ]
    }
   ],
   "source": [
    "import os\n",
    "import xml.etree.ElementTree as ET\n",
    "\n",
    "#Get the classes from the dataset and print them\n",
    "folder_path_xml = 'C:\\\\Onlab\\\\VOC_dataset\\\\VOCdevkit\\\\VOC2012\\\\Annotations'\n",
    "file_names = os.listdir(folder_path_xml)\n",
    "\n",
    "classes = set()\n",
    "\n",
    "for file_name in file_names:\n",
    "    xml_path = os.path.join(folder_path_xml, file_name)\n",
    "    tree = ET.parse(xml_path)\n",
    "    root = tree.getroot()\n",
    "\n",
    "    for obj in root.iter('object'):\n",
    "        class_name = obj.find('name').text\n",
    "        classes.add(class_name)\n",
    "\n",
    "print(classes)"
   ]
  },
  {
   "cell_type": "markdown",
   "metadata": {},
   "source": [
    "Defining a function to convert the multi color bitmasks to yolo segmentation format text files(class name, x1,y1,x2,y2...xn,yn) //\n",
    "Címkegeneráláshoz szükséges function definiálása. A címkegenerálás többszínű maszkokból készít yolo szegmentációs formátumú szöveges fájlokat(osztály név, x1, y1, x2, y2 ...xn, yn)"
   ]
  },
  {
   "cell_type": "code",
   "execution_count": 4,
   "metadata": {},
   "outputs": [],
   "source": [
    "import xml.etree.ElementTree as ET\n",
    "from PIL import Image\n",
    "import numpy as np\n",
    "from scipy import stats\n",
    "import glob\n",
    "import os\n",
    "import skimage.measure\n",
    "import cv2\n",
    "\n",
    "\n",
    "def is_clockwise(contour):\n",
    "    # calculate the signed area\n",
    "    signed_area = 0.5 * np.sum((contour[:-1, 0] * contour[1:, 1]) - (contour[:-1, 1] * contour[1:, 0]))\n",
    "    # If the signed area is negative, the points are in clockwise order\n",
    "    return signed_area < 0\n",
    "# Classes\n",
    "class_names = {\n",
    "    \"sofa\": 0,\n",
    "    \"train\": 1,\n",
    "    \"bicycle\": 2,\n",
    "    \"horse\": 3,\n",
    "    \"motorbike\": 4,\n",
    "    \"sheep\": 5,\n",
    "    \"cat\": 6,\n",
    "    \"bird\": 7,\n",
    "    \"bottle\": 8,\n",
    "    \"cow\": 9,\n",
    "    \"bus\": 10,\n",
    "    \"pottedplant\": 11,\n",
    "    \"diningtable\": 12,\n",
    "    \"person\": 13,\n",
    "    \"tvmonitor\": 14,\n",
    "    \"chair\": 15,\n",
    "    \"dog\": 16,\n",
    "    \"boat\": 17,\n",
    "    \"car\": 18,\n",
    "    \"aeroplane\": 19\n",
    "}\n",
    "\n",
    "\n",
    "def generate_labels(xml_file, png_file, label_file):\n",
    "    # Parse XML file\n",
    "    tree = ET.parse(xml_file)\n",
    "    root = tree.getroot()\n",
    "\n",
    "    # Load PNG mask in P format\n",
    "    img = Image.open(png_file).convert('P')\n",
    "    mask = np.array(img)\n",
    "\n",
    "    # Get image dimensions for normalization\n",
    "    width, height = img.size\n",
    "\n",
    "    # Initialize color-object mapping and class name mapping\n",
    "    color_object_mapping = {}\n",
    "    class_name_mapping = {}\n",
    "\n",
    "    # Get all objects\n",
    "    objects = list(root.findall('object'))\n",
    "\n",
    "    # For each object in the XML file\n",
    "    for idx, obj in enumerate(objects):\n",
    "        # Get class name and bounding box\n",
    "        class_name = obj.find('name').text\n",
    "        class_name_mapping[idx] = class_name \n",
    "        bndbox = obj.find('bndbox')\n",
    "        xmin = int(bndbox.find('xmin').text)\n",
    "        ymin = int(bndbox.find('ymin').text)\n",
    "        xmax = int(bndbox.find('xmax').text)\n",
    "        ymax = int(bndbox.find('ymax').text)\n",
    "\n",
    "        # Extract region from bounding box coordinates\n",
    "        region = mask[ymin:ymax, xmin:xmax]\n",
    "\n",
    "        # Exclude edge color(255) and black(0)\n",
    "        region = region[(region != 0) & (region != 255)]\n",
    "\n",
    "        # For each unique color in the region\n",
    "        for color_index in np.unique(region):\n",
    "            # Map color index to list of objects\n",
    "            color_object_mapping.setdefault(color_index, []).append(idx)\n",
    "\n",
    "     # Open label file for writing\n",
    "    with open(label_file, 'w') as f:\n",
    "        # For each unique color index in mask\n",
    "        for color_index in np.unique(mask.reshape(-1)):\n",
    "            # If color index is mapped to an object\n",
    "            if color_index in color_object_mapping:\n",
    "                # Get object IDs\n",
    "                obj_ids = color_object_mapping[color_index]\n",
    "\n",
    "                # Find contours of this color index and add a border to avoid edge cases\n",
    "                border_mask = cv2.copyMakeBorder(mask, 1, 1, 1, 1, cv2.BORDER_CONSTANT, value=0)\n",
    "                contours = skimage.measure.find_contours(border_mask == color_index, 0.5)\n",
    "\n",
    "                for contour in contours:\n",
    "                    # Ensure contour is in clockwise order\n",
    "                    if not is_clockwise(contour):\n",
    "                        contour = contour[::-1]\n",
    "\n",
    "                    # Check if contour size is less than 10\n",
    "                    if contour.shape[0] < 10:\n",
    "                        continue\n",
    "\n",
    "                    # Calculate bounding box of contour, so it can be compared later to the bounding box from the xml files\n",
    "                    min_y, min_x = np.min(contour, axis=0)\n",
    "                    max_y, max_x = np.max(contour, axis=0)\n",
    "\n",
    "                    # Initialize max intersection to a default value,it is used to find the most similar bounding box\n",
    "                    max_intersection = 0\n",
    "\n",
    "                    # Find object whose bounding box best matches the contour's bounding box\n",
    "                    for obj_id in obj_ids:\n",
    "                        obj = objects[obj_id]\n",
    "                        bndbox = obj.find('bndbox')\n",
    "                        xmin = int(bndbox.find('xmin').text)\n",
    "                        ymin = int(bndbox.find('ymin').text)\n",
    "                        xmax = int(bndbox.find('xmax').text)\n",
    "                        ymax = int(bndbox.find('ymax').text)\n",
    "\n",
    "                        # Calculate intersection of object's bounding box with contour's bounding box\n",
    "                        intersection = max(0, min(xmax, max_x) - max(xmin, min_x)) * max(0, min(ymax, max_y) - max(ymin, min_y))\n",
    "\n",
    "                        # Calculate area of contour's bounding box\n",
    "                        contour_area = (max_x - min_x) * (max_y - min_y)\n",
    "\n",
    "                        class_name = class_name_mapping[obj_id]  # assign class number, so if the if part doesn't run, there will still be an assigned class number\n",
    "                        class_number = class_names[class_name]\n",
    "                        # Initialize max_ratio, max_area and class_number to default values\n",
    "                        max_ratio = 0\n",
    "                        max_area = float('inf')\n",
    "\n",
    "                        # Find object whose bounding box best matches the contour's bounding box\n",
    "                        for obj_id in obj_ids:\n",
    "                            obj = objects[obj_id]\n",
    "                            bndbox = obj.find('bndbox')\n",
    "                            xmin = int(bndbox.find('xmin').text)\n",
    "                            ymin = int(bndbox.find('ymin').text)\n",
    "                            xmax = int(bndbox.find('xmax').text)\n",
    "                            ymax = int(bndbox.find('ymax').text)\n",
    "\n",
    "                            # Calculate intersection of object's bounding box with contour's bounding box\n",
    "                            intersection = max(0, min(xmax, max_x) - max(xmin, min_x)) * max(0, min(ymax, max_y) - max(ymin, min_y))\n",
    "\n",
    "                            # Calculate area of contour's bounding box\n",
    "                            contour_area = (max_x - min_x) * (max_y - min_y)\n",
    "\n",
    "                            # Calculate area of object's bounding box\n",
    "                            object_area = (xmax - xmin) * (ymax - ymin)\n",
    "\n",
    "                            # Calculate ratio of intersection area to contour area\n",
    "                            ratio = intersection / contour_area if contour_area > 0 else 0\n",
    "\n",
    "                            # If ratio is larger than the current maximum ratio, or if ratio is equal to the maximum ratio and object area is smaller than the current maximum area, then update the maximum ratio, maximum area, and class name+number\n",
    "                            if ratio > max_ratio or (ratio == max_ratio and object_area < max_area):\n",
    "                                max_ratio = ratio\n",
    "                                max_area = object_area\n",
    "                                class_name = class_name_mapping[obj_id]  # Get class name from dictionary\n",
    "                                class_number = class_names[class_name]\n",
    "\n",
    "                    # Initialize a string to store all contours of an object\n",
    "                    contour_str = ''\n",
    "                    for y, x in contour:\n",
    "                        # Normalize coordinates and remove the added border\n",
    "                        contour_str += f' {(x-1)/width} {(y-1)/height}'\n",
    "\n",
    "                    # Write class number and all contour coordinates to label file\n",
    "                    f.write(f'{class_number}{contour_str}\\n')"
   ]
  },
  {
   "cell_type": "code",
   "execution_count": 7,
   "metadata": {},
   "outputs": [],
   "source": [
    "# Get all XML files in folder\n",
    "xml_files = glob.glob('C:\\\\Onlab\\\\VOC_dataset\\\\VOCdevkit\\\\VOC2012\\\\Annotations\\\\*.xml')\n",
    "png_files_dir = 'C:\\\\Onlab\\\\VOC_dataset\\\\VOCdevkit\\\\VOC2012\\\\SegmentationObject\\\\'\n",
    "label_files_dir = 'C:\\\\Onlab\\\\VOC_dataset\\\\VOCdevkit\\\\VOC2012\\\\IMGAnnotations\\\\'\n",
    "\n",
    "# For each XML file\n",
    "for xml_file in xml_files:\n",
    "    # Extract the base name\n",
    "    base_name = os.path.splitext(os.path.basename(xml_file))[0]\n",
    "    \n",
    "    # Generate PNG and TXT file paths\n",
    "    png_file = os.path.join(png_files_dir, base_name + '.png')\n",
    "    label_file = os.path.join(label_files_dir, base_name + '.txt')\n",
    "\n",
    "    # Check if PNG file exists\n",
    "    if not os.path.exists(png_file):\n",
    "        continue\n",
    "\n",
    "    # Generate labels\n",
    "    generate_labels(xml_file, png_file, label_file)"
   ]
  },
  {
   "cell_type": "markdown",
   "metadata": {},
   "source": [
    "Previous versions of the label generation, these generated mislabeled and/or mismasked labels //\n",
    "Régebbi változata a címkegeneráló kódoknak, ezek a próbálkozások még több esetben rossz címkéket és/vagy rossz maszkokat generált."
   ]
  },
  {
   "cell_type": "code",
   "execution_count": null,
   "metadata": {},
   "outputs": [],
   "source": [
    "\"\"\" import cv2\n",
    "import numpy as np\n",
    "import os\n",
    "import xml.etree.ElementTree as ET\n",
    "\n",
    "folder_path_img = 'G=\\\\Onlab\\\\VOC_dataset\\\\VOCdevkit\\\\VOC2012\\\\SegmentationObject\\\\'\n",
    "folder_path_xml = 'G=\\\\Onlab\\\\VOC_dataset\\\\VOCdevkit\\\\VOC2012\\\\Annotations'\n",
    "file_names_xml = os.listdir(folder_path_xml)\n",
    "file_names = os.listdir(folder_path_img)\n",
    "\n",
    "classes = set()\n",
    "for file_name in file_names_xml:\n",
    "    xml_path = os.path.join(folder_path_xml, file_name)\n",
    "    tree = ET.parse(xml_path)\n",
    "    root = tree.getroot()\n",
    "\n",
    "    for obj in root.iter('object'):\n",
    "        class_name = obj.find('name').text\n",
    "        classes.add(class_name)\n",
    "\n",
    "class_to_index = {class_name: index for index, class_name in enumerate(classes)}\n",
    "\n",
    "for file_name in file_names:\n",
    "    image_path = os.path.join(folder_path_img, file_name)\n",
    "    xml_path = os.path.join(folder_path_xml, file_name.replace('.png', '.xml'))\n",
    "    image = cv2.imread(image_path)\n",
    "\n",
    "    # Parse the corresponding XML file\n",
    "    tree = ET.parse(xml_path)\n",
    "    root = tree.getroot()\n",
    "\n",
    "    polygons_dict = {}\n",
    "    bounding_boxes = []\n",
    "    for obj in root.iter('object'):\n",
    "        class_name = obj.find('name').text\n",
    "        class_index = class_to_index.get(class_name, -1)\n",
    "        if class_index == -1:\n",
    "            continue  # skip classes not in the mapping\n",
    "\n",
    "        # Get the bounding box coordinates\n",
    "        bndbox = obj.find('bndbox')\n",
    "        xmin = int(bndbox.find('xmin').text)\n",
    "        ymin = int(bndbox.find('ymin').text)\n",
    "        xmax = int(bndbox.find('xmax').text)\n",
    "        ymax = int(bndbox.find('ymax').text)\n",
    "        bounding_boxes.append([xmin, ymin, xmax, ymax])\n",
    "\n",
    "    # Group overlapping bounding boxes\n",
    "    grouped_bounding_boxes, weights = cv2.groupRectangles(np.array(bounding_boxes).tolist(), 1, 0.2)\n",
    "    # Sort the bounding boxes by area in descending order\n",
    "    bounding_boxes = sorted(bounding_boxes, key=lambda bbox: (bbox[2] - bbox[0]) * (bbox[3] - bbox[1]))\n",
    "\n",
    "    for index, bbox in enumerate(bounding_boxes):\n",
    "        xmin, ymin, xmax, ymax = bbox\n",
    "        # Extract the segment from the segmentation mask\n",
    "        segment = image[ymin:ymax, xmin:xmax]\n",
    "\n",
    "        # Find all unique colors in the image\n",
    "        colors = np.unique(segment.reshape(-1, segment.shape[2]), axis=0)\n",
    "        # Exclude black color and edge color\n",
    "        colors = colors[np.all(colors != [0, 0, 0], axis=1)]\n",
    "        colors = colors[np.all(colors != [224, 224, 192], axis=1)]\n",
    "\n",
    "    for color in set(tuple(c) for c in colors):            # Create a mask for the object with the current color\n",
    "            mask = np.all(image == color, axis=2)\n",
    "\n",
    "            # Find the contours in the mask\n",
    "            contours, _ = cv2.findContours(mask.astype(np.uint8), cv2.RETR_EXTERNAL, cv2.CHAIN_APPROX_SIMPLE)\n",
    "            for contour in contours:\n",
    "                epsilon = 0.001 * cv2.arcLength(contour, True)\n",
    "                approx = cv2.approxPolyDP(contour, epsilon, True)\n",
    "\n",
    "                # Calculate the centroid of the points\n",
    "                M = cv2.moments(approx)\n",
    "                if M[\"m00\"] != 0:\n",
    "                    cX = int(M[\"m10\"] / M[\"m00\"])\n",
    "                    cY = int(M[\"m01\"] / M[\"m00\"])\n",
    "                else:\n",
    "                    # Use the center of the bounding box as the default value\n",
    "                    cX, cY = (xmin + xmax) // 2, (ymin + ymax) // 2\n",
    "\n",
    "                # Sort the points in clockwise order\n",
    "                sorted_contour = sorted(approx, key=lambda pt: np.arctan2(pt[0][1] - cY, pt[0][0] - cX))\n",
    "\n",
    "                polygon = np.array(sorted_contour).reshape(-1, 2)\n",
    "\n",
    "                # Use a tuple of class index, bounding box, and index as the key\n",
    "                key = (class_index, (xmin, ymin, xmax, ymax), index)\n",
    "                if key in polygons_dict:\n",
    "                    if not any(np.array_equal(polygon, existing_polygon) for existing_polygon in polygons_dict[key]):\n",
    "                            # Append the new polygon to the list of polygons for this key\n",
    "                            polygons_dict[key].append(polygon)\n",
    "                else:\n",
    "                    # Add a new entry to the dictionary with a list containing the polygon\n",
    "                    polygons_dict[key] = [polygon]\n",
    "\n",
    "    height, width, _ = image.shape\n",
    "    polygons_list = []\n",
    "    for key, polygons in polygons_dict.items():\n",
    "        class_index, _, _ = key  # Extract the class index from the key\n",
    "        for polygon in polygons:\n",
    "            polygons_list.append((class_index, polygon))\n",
    "\n",
    "    txt_file_name = os.path.join('IMGAnnotations', file_name.replace('.png', '.txt'))\n",
    "    with open(txt_file_name, 'w') as f:\n",
    "        for class_index, polygon in polygons_list:\n",
    "            if len(polygon) >= 2:  # Ensure there are at least two points in the polygon\n",
    "                points = polygon.flatten()\n",
    "                f.write(f\"{class_index} {' '.join(map(str, points))}\\n\") \"\"\""
   ]
  },
  {
   "cell_type": "code",
   "execution_count": 8,
   "metadata": {},
   "outputs": [
    {
     "data": {
      "text/plain": [
       "' import xml.etree.ElementTree as ET\\nfrom PIL import Image\\nimport numpy as np\\nfrom scipy import stats\\nimport glob\\nimport os\\nimport skimage.measure\\nimport cv2\\n\\n\\ndef is_clockwise(contour):\\n    # Use the Shoelace formula to calculate the signed area\\n    signed_area = 0.5 * np.sum((contour[:-1, 0] * contour[1:, 1]) - (contour[:-1, 1] * contour[1:, 0]))\\n    # If the signed area is negative, the points are in clockwise order\\n    return signed_area < 0\\n# Classes\\nclass_names = {\\n    \"sofa\": 0,\\n    \"train\": 1,\\n    \"bicycle\": 2,\\n    \"horse\": 3,\\n    \"motorbike\": 4,\\n    \"sheep\": 5,\\n    \"cat\": 6,\\n    \"bird\": 7,\\n    \"bottle\": 8,\\n    \"cow\": 9,\\n    \"bus\": 10,\\n    \"pottedplant\": 11,\\n    \"diningtable\": 12,\\n    \"person\": 13,\\n    \"tvmonitor\": 14,\\n    \"chair\": 15,\\n    \"dog\": 16,\\n    \"boat\": 17,\\n    \"car\": 18,\\n    \"aeroplane\": 19\\n}\\n\\n\\ndef generate_labels(xml_file, png_file, label_file):\\n    # Parse XML file\\n    tree = ET.parse(xml_file)\\n    root = tree.getroot()\\n\\n    # Load PNG mask in P format\\n    img = Image.open(png_file).convert(\\'P\\')\\n    mask = np.array(img)\\n\\n    # Get image dimensions for normalization\\n    width, height = img.size\\n\\n    # Initialize color-object mapping\\n    color_object_mapping = {}\\n\\n    # Get all objects\\n    objects = list(root.findall(\\'object\\'))\\n\\n    # For each object in the XML file\\n    for idx, obj in enumerate(objects):\\n        # Get class name and bounding box\\n        class_name = obj.find(\\'name\\').text + str(idx)  # Append index to class name\\n        bndbox = obj.find(\\'bndbox\\')\\n        xmin = int(bndbox.find(\\'xmin\\').text)\\n        ymin = int(bndbox.find(\\'ymin\\').text)\\n        xmax = int(bndbox.find(\\'xmax\\').text)\\n        ymax = int(bndbox.find(\\'ymax\\').text)\\n\\n        # Extract region from mask\\n        region = mask[ymin:ymax, xmin:xmax]\\n\\n        # Exclude edge color(255) and black(0)\\n        region = region[(region != 0) & (region != 255)]\\n\\n        # For each unique color in the region\\n        for color_index in np.unique(region):\\n            # Map color index to list of objects\\n            color_object_mapping.setdefault(color_index, []).append(obj)\\n    # Open label file for writing\\n    with open(label_file, \\'w\\') as f:\\n        # For each unique color index in mask\\n        for color_index in np.unique(mask.reshape(-1)):\\n            # If color index is mapped to an object\\n            if color_index in color_object_mapping:\\n                # Get object and class number\\n                objs = color_object_mapping[color_index]\\n                if len(objs) > 1:\\n                    obj = min(objs, key=lambda o: (int(o.find(\\'bndbox\\').find(\\'xmax\\').text) - int(o.find(\\'bndbox\\').find(\\'xmin\\').text)) * (int(o.find(\\'bndbox\\').find(\\'ymax\\').text) - int(o.find(\\'bndbox\\').find(\\'ymin\\').text)))\\n                else:\\n                    obj = objs[0]\\n                class_name = obj.find(\\'name\\').text\\n                class_number = class_names[class_name]\\n\\n                # Find contours of this color index\\n                border_mask = cv2.copyMakeBorder(mask, 1, 1, 1, 1, cv2.BORDER_CONSTANT, value=0)\\n                contours = skimage.measure.find_contours(border_mask == color_index, 0.5)\\n\\n                for contour in contours:\\n                    # Ensure contour is in clockwise order\\n                    if not is_clockwise(contour):\\n                        contour = contour[::-1]\\n\\n                    # Initialize a string to store all contours of an object\\n                    contour_str = \\'\\'\\n                    for y, x in contour:\\n                        # Normalize and round coordinates to 5decimal places\\n                        x_rounded = (x-1)/width\\n                        y_rounded = (y-1)/height\\n                        contour_str += f\\' {x_rounded} {y_rounded}\\'\\n\\n                    # Write class number and all contour coordinates to label file\\n                    f.write(f\\'{class_number}{contour_str}\\n\\')\\n# Get all XML files in folder\\nxml_files = glob.glob(\\'G:\\\\Onlab\\\\VOC_dataset\\\\VOCdevkit\\\\VOC2012\\\\Annotations\\\\*.xml\\')\\npng_files_dir = \\'G:\\\\Onlab\\\\VOC_dataset\\\\VOCdevkit\\\\VOC2012\\\\SegmentationObject\\\\\\'\\nlabel_files_dir = \\'G:\\\\Onlab\\\\VOC_dataset\\\\VOCdevkit\\\\VOC2012\\\\IMGAnnotations\\\\\\'\\n\\n# For each XML file\\nfor xml_file in xml_files:\\n    # Extract the base name\\n    base_name = os.path.splitext(os.path.basename(xml_file))[0]\\n    \\n    # Generate PNG and TXT file paths\\n    png_file = os.path.join(png_files_dir, base_name + \\'.png\\')\\n    label_file = os.path.join(label_files_dir, base_name + \\'.txt\\')\\n\\n    # Check if PNG file exists\\n    if not os.path.exists(png_file):\\n        continue\\n\\n    # Generate labels\\n    generate_labels(xml_file, png_file, label_file) '"
      ]
     },
     "execution_count": 8,
     "metadata": {},
     "output_type": "execute_result"
    }
   ],
   "source": [
    "\"\"\"\n",
    "import xml.etree.ElementTree as ET\n",
    "from PIL import Image\n",
    "import numpy as np\n",
    "from scipy import stats\n",
    "import glob\n",
    "import os\n",
    "import skimage.measure\n",
    "import cv2\n",
    "\n",
    "\n",
    "def is_clockwise(contour):\n",
    "    # Use the Shoelace formula to calculate the signed area\n",
    "    signed_area = 0.5 * np.sum((contour[:-1, 0] * contour[1:, 1]) - (contour[:-1, 1] * contour[1:, 0]))\n",
    "    # If the signed area is negative, the points are in clockwise order\n",
    "    return signed_area < 0\n",
    "# Classes\n",
    "class_names = {\n",
    "    \"sofa\": 0,\n",
    "    \"train\": 1,\n",
    "    \"bicycle\": 2,\n",
    "    \"horse\": 3,\n",
    "    \"motorbike\": 4,\n",
    "    \"sheep\": 5,\n",
    "    \"cat\": 6,\n",
    "    \"bird\": 7,\n",
    "    \"bottle\": 8,\n",
    "    \"cow\": 9,\n",
    "    \"bus\": 10,\n",
    "    \"pottedplant\": 11,\n",
    "    \"diningtable\": 12,\n",
    "    \"person\": 13,\n",
    "    \"tvmonitor\": 14,\n",
    "    \"chair\": 15,\n",
    "    \"dog\": 16,\n",
    "    \"boat\": 17,\n",
    "    \"car\": 18,\n",
    "    \"aeroplane\": 19\n",
    "}\n",
    "\n",
    "\n",
    "def generate_labels(xml_file, png_file, label_file):\n",
    "    # Parse XML file\n",
    "    tree = ET.parse(xml_file)\n",
    "    root = tree.getroot()\n",
    "\n",
    "    # Load PNG mask in P format\n",
    "    img = Image.open(png_file).convert('P')\n",
    "    mask = np.array(img)\n",
    "\n",
    "    # Get image dimensions for normalization\n",
    "    width, height = img.size\n",
    "\n",
    "    # Initialize color-object mapping\n",
    "    color_object_mapping = {}\n",
    "\n",
    "    # Get all objects\n",
    "    objects = list(root.findall('object'))\n",
    "\n",
    "    # For each object in the XML file\n",
    "    for idx, obj in enumerate(objects):\n",
    "        # Get class name and bounding box\n",
    "        class_name = obj.find('name').text + str(idx)  # Append index to class name\n",
    "        bndbox = obj.find('bndbox')\n",
    "        xmin = int(bndbox.find('xmin').text)\n",
    "        ymin = int(bndbox.find('ymin').text)\n",
    "        xmax = int(bndbox.find('xmax').text)\n",
    "        ymax = int(bndbox.find('ymax').text)\n",
    "\n",
    "        # Extract region from mask\n",
    "        region = mask[ymin:ymax, xmin:xmax]\n",
    "\n",
    "        # Exclude edge color(255) and black(0)\n",
    "        region = region[(region != 0) & (region != 255)]\n",
    "\n",
    "        # For each unique color in the region\n",
    "        for color_index in np.unique(region):\n",
    "            # Map color index to list of objects\n",
    "            color_object_mapping.setdefault(color_index, []).append(obj)\n",
    "    # Open label file for writing\n",
    "    with open(label_file, 'w') as f:\n",
    "        # For each unique color index in mask\n",
    "        for color_index in np.unique(mask.reshape(-1)):\n",
    "            # If color index is mapped to an object\n",
    "            if color_index in color_object_mapping:\n",
    "                # Get object and class number\n",
    "                objs = color_object_mapping[color_index]\n",
    "                if len(objs) > 1:\n",
    "                    obj = min(objs, key=lambda o: (int(o.find('bndbox').find('xmax').text) - int(o.find('bndbox').find('xmin').text)) * (int(o.find('bndbox').find('ymax').text) - int(o.find('bndbox').find('ymin').text)))\n",
    "                else:\n",
    "                    obj = objs[0]\n",
    "                class_name = obj.find('name').text\n",
    "                class_number = class_names[class_name]\n",
    "\n",
    "                # Find contours of this color index\n",
    "                border_mask = cv2.copyMakeBorder(mask, 1, 1, 1, 1, cv2.BORDER_CONSTANT, value=0)\n",
    "                contours = skimage.measure.find_contours(border_mask == color_index, 0.5)\n",
    "\n",
    "                for contour in contours:\n",
    "                    # Ensure contour is in clockwise order\n",
    "                    if not is_clockwise(contour):\n",
    "                        contour = contour[::-1]\n",
    "\n",
    "                    # Initialize a string to store all contours of an object\n",
    "                    contour_str = ''\n",
    "                    for y, x in contour:\n",
    "                        # Normalize and round coordinates to 5decimal places\n",
    "                        x_rounded = (x-1)/width\n",
    "                        y_rounded = (y-1)/height\n",
    "                        contour_str += f' {x_rounded} {y_rounded}'\n",
    "\n",
    "                    # Write class number and all contour coordinates to label file\n",
    "                    f.write(f'{class_number}{contour_str}\\n')\n",
    "# Get all XML files in folder\n",
    "xml_files = glob.glob('G:\\\\Onlab\\\\VOC_dataset\\\\VOCdevkit\\\\VOC2012\\\\Annotations\\\\*.xml')\n",
    "png_files_dir = 'G:\\\\Onlab\\\\VOC_dataset\\\\VOCdevkit\\\\VOC2012\\\\SegmentationObject\\\\'\n",
    "label_files_dir = 'G:\\\\Onlab\\\\VOC_dataset\\\\VOCdevkit\\\\VOC2012\\\\IMGAnnotations\\\\'\n",
    "\n",
    "# For each XML file\n",
    "for xml_file in xml_files:\n",
    "    # Extract the base name\n",
    "    base_name = os.path.splitext(os.path.basename(xml_file))[0]\n",
    "    \n",
    "    # Generate PNG and TXT file paths\n",
    "    png_file = os.path.join(png_files_dir, base_name + '.png')\n",
    "    label_file = os.path.join(label_files_dir, base_name + '.txt')\n",
    "\n",
    "    # Check if PNG file exists\n",
    "    if not os.path.exists(png_file):\n",
    "        continue\n",
    "\n",
    "    # Generate labels\n",
    "    generate_labels(xml_file, png_file, label_file) \"\"\""
   ]
  },
  {
   "cell_type": "code",
   "execution_count": 9,
   "metadata": {},
   "outputs": [
    {
     "data": {
      "text/plain": [
       "' # Specify the paths to your XML and PNG files\\nxml_file = \\'G:\\\\Onlab\\\\VOC_dataset\\\\VOCdevkit\\\\VOC2012\\\\Annotations\\\\2007_000032.xml\\'\\npng_file = \\'G:\\\\Onlab\\\\VOC_dataset\\\\VOCdevkit\\\\VOC2012\\\\SegmentationClass\\\\2007_000032.png\\'\\n\\n# Specify the path to the output label file\\nlabel_file = \\'G:\\\\Onlab\\\\VOC_dataset\\\\VOCdevkit\\\\VOC2012\\\\2007.txt\\'\\n\\n# Check if PNG file exists\\nif not os.path.exists(png_file):\\n    print(f\"PNG file {png_file} does not exist.\")\\nelse:\\n    # Generate labels\\n    generate_labels(xml_file, png_file, label_file)\\n    print(f\"Labels generated and saved to {label_file}.\") '"
      ]
     },
     "execution_count": 9,
     "metadata": {},
     "output_type": "execute_result"
    }
   ],
   "source": [
    "\"\"\" \n",
    "def generate_labels(xml_file, png_file, label_file):\n",
    "    # Parse XML file\n",
    "    tree = ET.parse(xml_file)\n",
    "    root = tree.getroot()\n",
    "\n",
    "    # Load PNG mask in P format\n",
    "    img = Image.open(png_file).convert('P')\n",
    "    mask = np.array(img)\n",
    "\n",
    "    # Get image dimensions for normalization\n",
    "    width, height = img.size\n",
    "\n",
    "    # Initialize class-color mapping\n",
    "    class_color_mapping = {}\n",
    "\n",
    "    # Get all objects\n",
    "    objects = list(root.findall('object'))\n",
    "\n",
    "    # Calculate area of each bounding box and sort objects by area\n",
    "    objects.sort(key=lambda obj: (int(obj.find('bndbox/xmax').text) - int(obj.find('bndbox/xmin').text)) * (int(obj.find('bndbox/ymax').text) - int(obj.find('bndbox/ymin').text)))\n",
    "    \n",
    "    # For each object in the XML file\n",
    "    for obj in objects:\n",
    "        # Get class name and bounding box\n",
    "        class_name = obj.find('name').text\n",
    "        class_number = class_names[class_name]  # Get class number from dictionary\n",
    "        bndbox = obj.find('bndbox')\n",
    "        xmin = int(bndbox.find('xmin').text)\n",
    "        ymin = int(bndbox.find('ymin').text)\n",
    "        xmax = int(bndbox.find('xmax').text)\n",
    "        ymax = int(bndbox.find('ymax').text)\n",
    "\n",
    "        # Extract region from mask\n",
    "        region = mask[ymin:ymax, xmin:xmax]\n",
    "\n",
    "        # Exclude edge color and black\n",
    "        region = region[(region != 0) & (region != 255)]\n",
    "\n",
    "        # For each unique color in the region\n",
    "        for color_index in np.unique(region):\n",
    "            # If color index is not already mapped to a class\n",
    "            if color_index not in class_color_mapping:\n",
    "                # Map color index to class number\n",
    "                class_color_mapping[color_index] = class_number\n",
    "\n",
    "    # Open label file for writing\n",
    "    with open(label_file, 'w') as f:\n",
    "        # For each unique color index in mask\n",
    "        for color_index in np.unique(mask.reshape(-1)):\n",
    "            # If color index is mapped to a class\n",
    "            if color_index in class_color_mapping:\n",
    "                # Find contours of this color index\n",
    "                contours = skimage.measure.find_contours(mask == color_index, 0.5)\n",
    "\n",
    "                # Write class number and contour coordinates to label file\n",
    "                f.write(f'{class_color_mapping[color_index]}')\n",
    "                for contour in contours:\n",
    "                    # Ensure contour is in clockwise order\n",
    "                    if not is_clockwise(contour):\n",
    "                        contour = contour[::-1]\n",
    "\n",
    "                    for y, x in contour:\n",
    "                        # Normalize and round coordinates to 5 decimal places\n",
    "                        x_rounded = round(x/width, 5)\n",
    "                        y_rounded = round(y/height, 5)\n",
    "                        f.write(f' {x_rounded} {y_rounded}')\n",
    "                f.write('\\n') \"\"\"\n",
    "\"\"\" def generate_labels(xml_file, png_file, label_file):\n",
    "    # Parse XML file\n",
    "    tree = ET.parse(xml_file)\n",
    "    root = tree.getroot()\n",
    "\n",
    "    # Load PNG mask in P format\n",
    "    img = Image.open(png_file).convert('P')\n",
    "    mask = np.array(img)\n",
    "\n",
    "    # Get image dimensions for normalization\n",
    "    width, height = img.size\n",
    "\n",
    "    # Initialize class-color mapping\n",
    "    class_color_mapping = {}\n",
    "\n",
    "    # Get all objects\n",
    "    objects = list(root.findall('object'))\n",
    "\n",
    "    # Calculate area of each bounding box and sort objects by area\n",
    "    objects.sort(key=lambda obj: (int(obj.find('bndbox/xmax').text) - int(obj.find('bndbox/xmin').text)) * (int(obj.find('bndbox/ymax').text) - int(obj.find('bndbox/ymin').text)))\n",
    "\n",
    "    # For each object in the XML file\n",
    "    for obj in objects:\n",
    "        # Get class name and bounding box\n",
    "        class_name = obj.find('name').text\n",
    "        bndbox = obj.find('bndbox')\n",
    "        xmin = int(bndbox.find('xmin').text)\n",
    "        ymin = int(bndbox.find('ymin').text)\n",
    "        xmax = int(bndbox.find('xmax').text)\n",
    "        ymax = int(bndbox.find('ymax').text)\n",
    "\n",
    "        # Extract region from mask\n",
    "        region = mask[ymin:ymax, xmin:xmax]\n",
    "\n",
    "        # Exclude edge color and black\n",
    "        region = region[(region != 0) & (region != 224)]\n",
    "\n",
    "        # For each unique color in the region\n",
    "        for color_index in np.unique(region):\n",
    "            # Map color index to class name\n",
    "            class_color_mapping[color_index] = class_name\n",
    "\n",
    "    # Open label file for writing\n",
    "    with open(label_file, 'w') as f:\n",
    "        # For each unique color index in mask\n",
    "        for color_index in np.unique(mask.reshape(-1)):\n",
    "            # If color index is mapped to a class\n",
    "            if color_index in class_color_mapping:\n",
    "                # Find pixels that have this color index\n",
    "                pixels = np.argwhere(mask == color_index)\n",
    "\n",
    "                # Write class name and pixel coordinates to label file\n",
    "                f.write(f'{class_color_mapping[color_index]}')\n",
    "                for y, x in pixels:\n",
    "                    f.write(f' {x/width} {y/height}')\n",
    "                f.write('\\n') \"\"\"\n",
    "\"\"\" # Specify the paths to your XML and PNG files\n",
    "xml_file = 'G:\\\\Onlab\\\\VOC_dataset\\\\VOCdevkit\\\\VOC2012\\\\Annotations\\\\2007_000032.xml'\n",
    "png_file = 'G:\\\\Onlab\\\\VOC_dataset\\\\VOCdevkit\\\\VOC2012\\\\SegmentationClass\\\\2007_000032.png'\n",
    "\n",
    "# Specify the path to the output label file\n",
    "label_file = 'G:\\\\Onlab\\\\VOC_dataset\\\\VOCdevkit\\\\VOC2012\\\\2007.txt'\n",
    "\n",
    "# Check if PNG file exists\n",
    "if not os.path.exists(png_file):\n",
    "    print(f\"PNG file {png_file} does not exist.\")\n",
    "else:\n",
    "    # Generate labels\n",
    "    generate_labels(xml_file, png_file, label_file)\n",
    "    print(f\"Labels generated and saved to {label_file}.\") \"\"\""
   ]
  },
  {
   "cell_type": "code",
   "execution_count": 10,
   "metadata": {},
   "outputs": [
    {
     "data": {
      "text/plain": [
       "'\\n#Modified version of the previous code, because the previous one had multiple objects per class, and YOLOV8 deleted the multiple objects #Not true, there were  overlapping boxes, that caused the problem\\nimport cv2\\nimport numpy as np\\nimport os\\nimport xml.etree.ElementTree as ET\\n\\n# Get the classes from the dataset for further use\\nfolder_path_img = \\'G:\\\\Onlab\\\\VOC_dataset\\\\VOCdevkit\\\\VOC2012\\\\SegmentationObject\\\\\\'\\nfolder_path_xml = \\'G:\\\\Onlab\\\\VOC_dataset\\\\VOCdevkit\\\\VOC2012\\\\Annotations\\'\\nfile_names_xml = os.listdir(folder_path_xml)\\nfile_names = os.listdir(folder_path_img)\\n\\nclasses = set()\\nfor file_name in file_names_xml:\\n    xml_path = os.path.join(folder_path_xml, file_name)\\n    tree = ET.parse(xml_path)\\n    root = tree.getroot()\\n\\n    for obj in root.iter(\\'object\\'):\\n        class_name = obj.find(\\'name\\').text\\n        classes.add(class_name)\\n\\nclass_to_index = {class_name: index for index, class_name in enumerate(classes)}\\n\\nfor file_name in file_names:\\n    image_path = os.path.join(folder_path_img, file_name)\\n    xml_path = os.path.join(folder_path_xml, file_name.replace(\\'.png\\', \\'.xml\\'))\\n    image = cv2.imread(image_path)\\n\\n    # Parse the corresponding XML file\\n    tree = ET.parse(xml_path)\\n    root = tree.getroot()\\n\\n    polygons_per_class = {class_index: [] for class_index in class_to_index.values()}\\n    for obj in root.iter(\\'object\\'):\\n        class_name = obj.find(\\'name\\').text\\n        class_index = class_to_index.get(class_name, -1)\\n        if class_index == -1:\\n            continue  # skip classes not in the mapping\\n\\n        # Get the bounding box coordinates\\n        bndbox = obj.find(\\'bndbox\\')\\n        xmin = int(bndbox.find(\\'xmin\\').text)\\n        ymin = int(bndbox.find(\\'ymin\\').text)\\n        xmax = int(bndbox.find(\\'xmax\\').text)\\n        ymax = int(bndbox.find(\\'ymax\\').text)\\n\\n        # Extract the segment from the segmentation mask\\n        segment = image[ymin:ymax, xmin:xmax]\\n\\n        # Find the unique color in the segment\\n        colors = np.unique(segment.reshape(-1, segment.shape[2]), axis=0)\\n\\n        # Exclude black color\\n        colors = colors[np.any(colors != [0, 0, 0], axis=1)]\\n\\n        # Assume the most common color in the segment is the object color\\n        color = colors[0] if len(colors) > 0 else [0, 0, 0]\\n\\n        # Create a mask for the object within the bounding box\\n        mask = np.all(segment == color, axis=2)\\n\\n        # Find the contours in the mask\\n        contours, _ = cv2.findContours(mask.astype(np.uint8), cv2.RETR_EXTERNAL, cv2.CHAIN_APPROX_SIMPLE)\\n        for contour in contours:\\n            # Adjust the contour points to be relative to the entire image, not just the segment\\n            contour += [xmin, ymin]\\n            polygon = contour.reshape(-1, 2)\\n            polygons_per_class[class_index].append(polygon)\\n\\n    height, width, _ = image.shape\\n    normalized_polygons = []\\n    for class_index, polygons in polygons_per_class.items():\\n        # Skip if there are no polygons for this class\\n        if not polygons:\\n            continue\\n\\n        # Merge all polygons of the same class into a single polygon\\n        merged_polygon = np.concatenate(polygons)\\n        normalized_polygon = merged_polygon / [width, height]\\n        normalized_polygons.append((class_index, normalized_polygon))\\n\\n    txt_file_name = os.path.join(\\'IMGAnnotations\\', file_name.replace(\\'.png\\', \\'.txt\\'))\\n    with open(txt_file_name, \\'w\\') as f:\\n        for class_index, polygon in normalized_polygons:\\n            points = polygon.flatten()\\n            f.write(f\"{class_index} {\\' \\'.join(map(str, points))}\\n\")\\n'"
      ]
     },
     "execution_count": 10,
     "metadata": {},
     "output_type": "execute_result"
    }
   ],
   "source": [
    "\"\"\"\n",
    "#Modified version of the previous code, because the previous one had multiple objects per class, and YOLOV8 deleted the multiple objects #Not true, there were  overlapping boxes, that caused the problem\n",
    "import cv2\n",
    "import numpy as np\n",
    "import os\n",
    "import xml.etree.ElementTree as ET\n",
    "\n",
    "# Get the classes from the dataset for further use\n",
    "folder_path_img = 'G:\\\\Onlab\\\\VOC_dataset\\\\VOCdevkit\\\\VOC2012\\\\SegmentationObject\\\\'\n",
    "folder_path_xml = 'G:\\\\Onlab\\\\VOC_dataset\\\\VOCdevkit\\\\VOC2012\\\\Annotations'\n",
    "file_names_xml = os.listdir(folder_path_xml)\n",
    "file_names = os.listdir(folder_path_img)\n",
    "\n",
    "classes = set()\n",
    "for file_name in file_names_xml:\n",
    "    xml_path = os.path.join(folder_path_xml, file_name)\n",
    "    tree = ET.parse(xml_path)\n",
    "    root = tree.getroot()\n",
    "\n",
    "    for obj in root.iter('object'):\n",
    "        class_name = obj.find('name').text\n",
    "        classes.add(class_name)\n",
    "\n",
    "class_to_index = {class_name: index for index, class_name in enumerate(classes)}\n",
    "\n",
    "for file_name in file_names:\n",
    "    image_path = os.path.join(folder_path_img, file_name)\n",
    "    xml_path = os.path.join(folder_path_xml, file_name.replace('.png', '.xml'))\n",
    "    image = cv2.imread(image_path)\n",
    "\n",
    "    # Parse the corresponding XML file\n",
    "    tree = ET.parse(xml_path)\n",
    "    root = tree.getroot()\n",
    "\n",
    "    polygons_per_class = {class_index: [] for class_index in class_to_index.values()}\n",
    "    for obj in root.iter('object'):\n",
    "        class_name = obj.find('name').text\n",
    "        class_index = class_to_index.get(class_name, -1)\n",
    "        if class_index == -1:\n",
    "            continue  # skip classes not in the mapping\n",
    "\n",
    "        # Get the bounding box coordinates\n",
    "        bndbox = obj.find('bndbox')\n",
    "        xmin = int(bndbox.find('xmin').text)\n",
    "        ymin = int(bndbox.find('ymin').text)\n",
    "        xmax = int(bndbox.find('xmax').text)\n",
    "        ymax = int(bndbox.find('ymax').text)\n",
    "\n",
    "        # Extract the segment from the segmentation mask\n",
    "        segment = image[ymin:ymax, xmin:xmax]\n",
    "\n",
    "        # Find the unique color in the segment\n",
    "        colors = np.unique(segment.reshape(-1, segment.shape[2]), axis=0)\n",
    "\n",
    "        # Exclude black color\n",
    "        colors = colors[np.any(colors != [0, 0, 0], axis=1)]\n",
    "\n",
    "        # Assume the most common color in the segment is the object color\n",
    "        color = colors[0] if len(colors) > 0 else [0, 0, 0]\n",
    "\n",
    "        # Create a mask for the object within the bounding box\n",
    "        mask = np.all(segment == color, axis=2)\n",
    "\n",
    "        # Find the contours in the mask\n",
    "        contours, _ = cv2.findContours(mask.astype(np.uint8), cv2.RETR_EXTERNAL, cv2.CHAIN_APPROX_SIMPLE)\n",
    "        for contour in contours:\n",
    "            # Adjust the contour points to be relative to the entire image, not just the segment\n",
    "            contour += [xmin, ymin]\n",
    "            polygon = contour.reshape(-1, 2)\n",
    "            polygons_per_class[class_index].append(polygon)\n",
    "\n",
    "    height, width, _ = image.shape\n",
    "    normalized_polygons = []\n",
    "    for class_index, polygons in polygons_per_class.items():\n",
    "        # Skip if there are no polygons for this class\n",
    "        if not polygons:\n",
    "            continue\n",
    "\n",
    "        # Merge all polygons of the same class into a single polygon\n",
    "        merged_polygon = np.concatenate(polygons)\n",
    "        normalized_polygon = merged_polygon / [width, height]\n",
    "        normalized_polygons.append((class_index, normalized_polygon))\n",
    "\n",
    "    txt_file_name = os.path.join('IMGAnnotations', file_name.replace('.png', '.txt'))\n",
    "    with open(txt_file_name, 'w') as f:\n",
    "        for class_index, polygon in normalized_polygons:\n",
    "            points = polygon.flatten()\n",
    "            f.write(f\"{class_index} {' '.join(map(str, points))}\\n\")\n",
    "\"\"\""
   ]
  },
  {
   "cell_type": "markdown",
   "metadata": {},
   "source": [
    "Display a few randomly selected image to verify if the previous annotation conversion is correct or not. //\n",
    "Pár random kiválasztott kép megjelenítése a saját címkékből készített maszkokkal, így ellenőrizve a generált címkéket."
   ]
  },
  {
   "cell_type": "code",
   "execution_count": null,
   "metadata": {},
   "outputs": [],
   "source": [
    "import os\n",
    "import random\n",
    "import cv2\n",
    "import numpy as np\n",
    "import matplotlib.pyplot as plt\n",
    "%matplotlib inline\n",
    "\n",
    "# Define a dictionary to map class names to indices\n",
    "index_to_class_dict = {\n",
    "    0: 'sofa',\n",
    "    1: 'train',\n",
    "    2: 'bicycle',\n",
    "    3: 'horse',\n",
    "    4: 'motorbike',\n",
    "    5: 'sheep',\n",
    "    6: 'cat',\n",
    "    7: 'bird',\n",
    "    8: 'bottle',\n",
    "    9: 'cow',\n",
    "    10: 'bus',\n",
    "    11: 'pottedplant',\n",
    "    12: 'diningtable',\n",
    "    13: 'person',\n",
    "    14: 'tvmonitor',\n",
    "    15: 'chair',\n",
    "    16: 'dog',\n",
    "    17: 'boat',\n",
    "    18: 'car',\n",
    "    19: 'aeroplane'\n",
    "}\n",
    "# Directory containing the images\n",
    "image_directory = 'C:\\\\Onlab\\\\VOC_dataset\\\\VOCdevkit\\\\VOC2012\\\\JPEGImages'\n",
    "\n",
    "# Directory containing the text files\n",
    "text_directory = 'C:\\\\Onlab\\\\VOC_dataset\\\\VOCdevkit\\\\VOC2012\\\\IMGAnnotations'\n",
    "\n",
    "# Get all text files in the text directory\n",
    "text_files = [f for f in os.listdir(text_directory) if f.endswith('.txt')]\n",
    "\n",
    "# Randomly select 5 text files\n",
    "selected_files = random.sample(text_files, 5)\n",
    "\n",
    "# For each selected file\n",
    "for file in selected_files:\n",
    "    # Read the image\n",
    "    image = cv2.imread(os.path.join(image_directory, os.path.splitext(file)[0] + '.jpg'))\n",
    "\n",
    "    # Create an empty list to store the masks and class names\n",
    "    masks = []\n",
    "    class_names = []\n",
    "\n",
    "    # Open the corresponding text file\n",
    "    with open(os.path.join(text_directory, file)) as f:\n",
    "        # For each line in the file\n",
    "        for line in f:\n",
    "            # Split the line into class index and coordinates\n",
    "            parts = line.split()\n",
    "            class_index = int(parts[0])  # Convert the class index to an integer\n",
    "            class_name = index_to_class_dict[class_index]  # Use the index-to-class dictionary to get the class name\n",
    "            coords = list(map(float, parts[1:]))\n",
    "\n",
    "            # Denormalize the coordinates\n",
    "            coords_denorm = [(int(coord[0] * image.shape[1]), int(coord[1] * image.shape[0])) for coord in np.array(coords).reshape(-1, 2)]\n",
    "\n",
    "            # Create a separate mask for this object\n",
    "            object_mask = np.zeros_like(image)\n",
    "\n",
    "            # Draw the polygon on the object mask\n",
    "            cv2.fillPoly(object_mask, [np.array(coords_denorm, dtype=np.int32)], (255, 255, 255))\n",
    "\n",
    "            # Add the object mask and class name to the lists\n",
    "            masks.append(object_mask)\n",
    "            class_names.append(class_name)\n",
    "\n",
    "    # Display the image and each mask\n",
    "    plt.figure(figsize=(10, 5 * len(masks)))\n",
    "    plt.subplot(len(masks) + 1, 2, 1)\n",
    "    plt.imshow(cv2.cvtColor(image, cv2.COLOR_BGR2RGB))\n",
    "    plt.title(f'Image - {file}')  # Display the file name along with the image\n",
    "    for i, (mask, class_name) in enumerate(zip(masks, class_names), start=1):\n",
    "        plt.subplot(len(masks) + 1, 2, 2 * i + 1)\n",
    "        plt.imshow(mask, cmap='gray')\n",
    "        plt.title(f'Mask - {class_name} - {file}')  # Display the file name along with the class name and mask\n",
    "    plt.show()"
   ]
  },
  {
   "cell_type": "markdown",
   "metadata": {},
   "source": [
    "Copy the images and the generated labels to train test and validation directories for the training session. //\n",
    "A generált fájlok és az eredeti képek yolonak megfelelő mappákba másolása."
   ]
  },
  {
   "cell_type": "code",
   "execution_count": 13,
   "metadata": {},
   "outputs": [],
   "source": [
    "import os\n",
    "import shutil\n",
    "import numpy as np\n",
    "\n",
    "# Define the directories\n",
    "base_dir_images = 'C:\\\\Onlab\\\\VOC_dataset\\\\VOCdevkit\\\\VOC2012\\\\JPEGImages'\n",
    "base_dir_labels = 'C:\\\\Onlab\\\\VOC_dataset\\\\VOCdevkit\\\\VOC2012\\\\IMGAnnotations'\n",
    "train_dir_images = 'dataset/train/images'\n",
    "train_dir_labels = 'dataset/train/labels'\n",
    "valid_dir_images = 'dataset/valid/images'\n",
    "valid_dir_labels = 'dataset/valid/labels'\n",
    "test_dir_images = 'dataset/test/images'\n",
    "test_dir_labels = 'dataset/test/labels'\n",
    "\n",
    "# Create the directories\n",
    "os.makedirs(train_dir_images, exist_ok=True)\n",
    "os.makedirs(train_dir_labels, exist_ok=True)\n",
    "os.makedirs(valid_dir_images, exist_ok=True)\n",
    "os.makedirs(valid_dir_labels, exist_ok=True)\n",
    "os.makedirs(test_dir_images, exist_ok=True)\n",
    "os.makedirs(test_dir_labels, exist_ok=True)\n",
    "\n",
    "# Get all the labels in the base directory\n",
    "# Checking labels, because the images not necessarily have labels\n",
    "labels = [f for f in os.listdir(base_dir_labels) if f.endswith('.txt')]\n",
    "\n",
    "# Sort the labels\n",
    "labels.sort()\n",
    "\n",
    "# Create a list of corresponding images\n",
    "images = [f.replace('.txt', '.jpg') for f in labels]\n",
    "\n",
    "# Shuffle the indices\n",
    "indices = np.arange(len(labels))\n",
    "np.random.shuffle(indices)\n",
    "\n",
    "# Split the indices into 70% train, 15% validation, and 15% test\n",
    "train_indices, validate_indices, test_indices = np.split(indices, [int(.7*len(indices)), int(.85*len(indices))])\n",
    "\n",
    "# Copy the images and labels into the right directories\n",
    "for idx in train_indices:\n",
    "    shutil.copy(os.path.join(base_dir_images, images[idx]), os.path.join(train_dir_images, images[idx]))\n",
    "    shutil.copy(os.path.join(base_dir_labels, labels[idx]), os.path.join(train_dir_labels, labels[idx]))\n",
    "for idx in validate_indices:\n",
    "    shutil.copy(os.path.join(base_dir_images, images[idx]), os.path.join(valid_dir_images, images[idx]))\n",
    "    shutil.copy(os.path.join(base_dir_labels, labels[idx]), os.path.join(valid_dir_labels, labels[idx]))\n",
    "for idx in test_indices:\n",
    "    shutil.copy(os.path.join(base_dir_images, images[idx]), os.path.join(test_dir_images, images[idx]))\n",
    "    shutil.copy(os.path.join(base_dir_labels, labels[idx]), os.path.join(test_dir_labels, labels[idx]))"
   ]
  },
  {
   "cell_type": "markdown",
   "metadata": {},
   "source": [
    "The used YAML file for the yolo training //\n",
    "A yolo tanításhoz használt YAML fájl :"
   ]
  },
  {
   "cell_type": "code",
   "execution_count": 14,
   "metadata": {},
   "outputs": [
    {
     "data": {
      "text/plain": [
       "'\\npath: dataset  # dataset root dir\\ntrain: train/images  # train images relative path\\nval: valid/images  # val images relative path\\ntest: test/images  # test images relative path\\n\\n# Classes\\nnames:\\n  0: sofa\\n  1: train\\n  2: bicycle\\n  3: horse\\n  4: motorbike\\n  5: sheep\\n  6: cat\\n  7: bird\\n  8: bottle\\n  9: cow\\n  10: bus\\n  11: pottedplant\\n  12: diningtable\\n  13: person\\n  14: tvmonitor\\n  15: chair\\n  16: dog\\n  17: boat\\n  18: car\\n  19: aeroplane\\n  '"
      ]
     },
     "execution_count": 14,
     "metadata": {},
     "output_type": "execute_result"
    }
   ],
   "source": [
    "#YAML file:\n",
    "\"\"\"\n",
    "path: C:\\Onlab\\VOC_dataset\\VOCdevkit\\VOC2012\\dataset  # dataset root dir\n",
    "train: C:\\Onlab\\VOC_dataset\\VOCdevkit\\VOC2012\\dataset\\train\\images  # train images relative path\n",
    "val: C:\\Onlab\\VOC_dataset\\VOCdevkit\\VOC2012\\dataset\\valid\\images  # val images relative path\n",
    "test: C:\\Onlab\\VOC_dataset\\VOCdevkit\\VOC2012\\dataset\\test\\images  # test images relative path\n",
    "\n",
    "# Classes\n",
    "names:\n",
    "  0: sofa\n",
    "  1: train\n",
    "  2: bicycle\n",
    "  3: horse\n",
    "  4: motorbike\n",
    "  5: sheep\n",
    "  6: cat\n",
    "  7: bird\n",
    "  8: bottle\n",
    "  9: cow\n",
    "  10: bus\n",
    "  11: pottedplant\n",
    "  12: diningtable\n",
    "  13: person\n",
    "  14: tvmonitor\n",
    "  15: chair\n",
    "  16: dog\n",
    "  17: boat\n",
    "  18: car\n",
    "  19: aeroplane\n",
    "  \"\"\""
   ]
  },
  {
   "cell_type": "markdown",
   "metadata": {},
   "source": [
    "Checking if the current system has CUDA compatible GPU and tune the model hyperparameters with few epoch runs //\n",
    "CUDA verzió és elérhetőség ellenőrzése, majd hiperparaméterek hangolása a saját adathalmazon."
   ]
  },
  {
   "cell_type": "code",
   "execution_count": 1,
   "metadata": {},
   "outputs": [
    {
     "name": "stdout",
     "output_type": "stream",
     "text": [
      "cuDNN version: 8801\n"
     ]
    },
    {
     "data": {
      "text/plain": [
       "True"
      ]
     },
     "execution_count": 1,
     "metadata": {},
     "output_type": "execute_result"
    }
   ],
   "source": [
    "#CUDA check\n",
    "import torch\n",
    "print(\"cuDNN version:\", torch.backends.cudnn.version())\n",
    "torch.cuda.is_available()\n"
   ]
  },
  {
   "cell_type": "code",
   "execution_count": 1,
   "metadata": {},
   "outputs": [
    {
     "name": "stdout",
     "output_type": "stream",
     "text": [
      "\u001b[34m\u001b[1mTuner: \u001b[0mInitialized Tuner instance with 'tune_dir=runs\\segment\\tune7'\n",
      "\u001b[34m\u001b[1mTuner: \u001b[0m💡 Learn about tuning at https://docs.ultralytics.com/guides/hyperparameter-tuning\n",
      "\u001b[34m\u001b[1mTuner: \u001b[0mStarting iteration 1/50 with hyperparameters: {'lr0': 0.01, 'lrf': 0.01, 'momentum': 0.937, 'weight_decay': 0.0005, 'warmup_epochs': 3.0, 'warmup_momentum': 0.8, 'box': 7.5, 'cls': 0.5, 'dfl': 1.5, 'hsv_h': 0.015, 'hsv_s': 0.7, 'hsv_v': 0.4, 'degrees': 0.0, 'translate': 0.1, 'scale': 0.5, 'shear': 0.0, 'perspective': 0.0, 'flipud': 0.0, 'fliplr': 0.5, 'mosaic': 1.0, 'mixup': 0.0, 'copy_paste': 0.0}\n",
      "Saved runs\\segment\\tune7\\tune_scatter_plots.png\n",
      "Saved runs\\segment\\tune7\\tune_fitness.png\n",
      "\n",
      "\u001b[34m\u001b[1mTuner: \u001b[0m1/50 iterations complete ✅ (2137.88s)\n",
      "\u001b[34m\u001b[1mTuner: \u001b[0mResults saved to \u001b[1mruns\\segment\\tune7\u001b[0m\n",
      "\u001b[34m\u001b[1mTuner: \u001b[0mBest fitness=0.5238 observed at iteration 1\n",
      "\u001b[34m\u001b[1mTuner: \u001b[0mBest fitness metrics are {'metrics/precision(B)': 0.69561, 'metrics/recall(B)': 0.31793, 'metrics/mAP50(B)': 0.35635, 'metrics/mAP50-95(B)': 0.26826, 'metrics/precision(M)': 0.68679, 'metrics/recall(M)': 0.31006, 'metrics/mAP50(M)': 0.34602, 'metrics/mAP50-95(M)': 0.2357, 'val/box_loss': 1.24818, 'val/seg_loss': 2.73781, 'val/cls_loss': 1.61952, 'val/dfl_loss': 1.24102, 'fitness': 0.5238}\n",
      "\u001b[34m\u001b[1mTuner: \u001b[0mBest fitness model is runs\\segment\\train15\n",
      "\u001b[34m\u001b[1mTuner: \u001b[0mBest fitness hyperparameters are printed below.\n",
      "\n",
      "Printing '\u001b[1m\u001b[30mruns\\segment\\tune7\\best_hyperparameters.yaml\u001b[0m'\n",
      "\n",
      "lr0: 0.01\n",
      "lrf: 0.01\n",
      "momentum: 0.937\n",
      "weight_decay: 0.0005\n",
      "warmup_epochs: 3.0\n",
      "warmup_momentum: 0.8\n",
      "box: 7.5\n",
      "cls: 0.5\n",
      "dfl: 1.5\n",
      "hsv_h: 0.015\n",
      "hsv_s: 0.7\n",
      "hsv_v: 0.4\n",
      "degrees: 0.0\n",
      "translate: 0.1\n",
      "scale: 0.5\n",
      "shear: 0.0\n",
      "perspective: 0.0\n",
      "flipud: 0.0\n",
      "fliplr: 0.5\n",
      "mosaic: 1.0\n",
      "mixup: 0.0\n",
      "copy_paste: 0.0\n",
      "\n",
      "\u001b[34m\u001b[1mTuner: \u001b[0mStarting iteration 2/50 with hyperparameters: {'lr0': 0.01014, 'lrf': 0.01, 'momentum': 0.93936, 'weight_decay': 0.0005, 'warmup_epochs': 2.97315, 'warmup_momentum': 0.79252, 'box': 7.53119, 'cls': 0.5, 'dfl': 1.51933, 'hsv_h': 0.01506, 'hsv_s': 0.70221, 'hsv_v': 0.38889, 'degrees': 0.0, 'translate': 0.1, 'scale': 0.49908, 'shear': 0.0, 'perspective': 0.0, 'flipud': 0.0, 'fliplr': 0.49037, 'mosaic': 0.99831, 'mixup': 0.0, 'copy_paste': 0.0}\n",
      "Saved runs\\segment\\tune7\\tune_scatter_plots.png\n",
      "Saved runs\\segment\\tune7\\tune_fitness.png\n",
      "\n",
      "\u001b[34m\u001b[1mTuner: \u001b[0m2/50 iterations complete ✅ (4067.61s)\n",
      "\u001b[34m\u001b[1mTuner: \u001b[0mResults saved to \u001b[1mruns\\segment\\tune7\u001b[0m\n",
      "\u001b[34m\u001b[1mTuner: \u001b[0mBest fitness=0.5238 observed at iteration 1\n",
      "\u001b[34m\u001b[1mTuner: \u001b[0mBest fitness metrics are {'metrics/precision(B)': 0.69561, 'metrics/recall(B)': 0.31793, 'metrics/mAP50(B)': 0.35635, 'metrics/mAP50-95(B)': 0.26826, 'metrics/precision(M)': 0.68679, 'metrics/recall(M)': 0.31006, 'metrics/mAP50(M)': 0.34602, 'metrics/mAP50-95(M)': 0.2357, 'val/box_loss': 1.24818, 'val/seg_loss': 2.73781, 'val/cls_loss': 1.61952, 'val/dfl_loss': 1.24102, 'fitness': 0.5238}\n",
      "\u001b[34m\u001b[1mTuner: \u001b[0mBest fitness model is runs\\segment\\train15\n",
      "\u001b[34m\u001b[1mTuner: \u001b[0mBest fitness hyperparameters are printed below.\n",
      "\n",
      "Printing '\u001b[1m\u001b[30mruns\\segment\\tune7\\best_hyperparameters.yaml\u001b[0m'\n",
      "\n",
      "lr0: 0.01\n",
      "lrf: 0.01\n",
      "momentum: 0.937\n",
      "weight_decay: 0.0005\n",
      "warmup_epochs: 3.0\n",
      "warmup_momentum: 0.8\n",
      "box: 7.5\n",
      "cls: 0.5\n",
      "dfl: 1.5\n",
      "hsv_h: 0.015\n",
      "hsv_s: 0.7\n",
      "hsv_v: 0.4\n",
      "degrees: 0.0\n",
      "translate: 0.1\n",
      "scale: 0.5\n",
      "shear: 0.0\n",
      "perspective: 0.0\n",
      "flipud: 0.0\n",
      "fliplr: 0.5\n",
      "mosaic: 1.0\n",
      "mixup: 0.0\n",
      "copy_paste: 0.0\n",
      "\n",
      "\u001b[34m\u001b[1mTuner: \u001b[0mStarting iteration 3/50 with hyperparameters: {'lr0': 0.01, 'lrf': 0.00863, 'momentum': 0.9045, 'weight_decay': 0.00044, 'warmup_epochs': 2.2618, 'warmup_momentum': 0.78059, 'box': 7.01799, 'cls': 0.47165, 'dfl': 1.68303, 'hsv_h': 0.01592, 'hsv_s': 0.61353, 'hsv_v': 0.36648, 'degrees': 0.0, 'translate': 0.10362, 'scale': 0.44974, 'shear': 0.0, 'perspective': 0.0, 'flipud': 0.0, 'fliplr': 0.46894, 'mosaic': 1.0, 'mixup': 0.0, 'copy_paste': 0.0}\n",
      "Saved runs\\segment\\tune7\\tune_scatter_plots.png\n",
      "Saved runs\\segment\\tune7\\tune_fitness.png\n",
      "\n",
      "\u001b[34m\u001b[1mTuner: \u001b[0m3/50 iterations complete ✅ (4543.70s)\n",
      "\u001b[34m\u001b[1mTuner: \u001b[0mResults saved to \u001b[1mruns\\segment\\tune7\u001b[0m\n",
      "\u001b[34m\u001b[1mTuner: \u001b[0mBest fitness=0.52524 observed at iteration 3\n",
      "\u001b[34m\u001b[1mTuner: \u001b[0mBest fitness metrics are {'metrics/precision(B)': 0.70145, 'metrics/recall(B)': 0.32147, 'metrics/mAP50(B)': 0.35902, 'metrics/mAP50-95(B)': 0.26849, 'metrics/precision(M)': 0.70915, 'metrics/recall(M)': 0.31035, 'metrics/mAP50(M)': 0.34477, 'metrics/mAP50-95(M)': 0.23691, 'val/box_loss': 1.16448, 'val/seg_loss': 2.55459, 'val/cls_loss': 1.50709, 'val/dfl_loss': 1.38387, 'fitness': 0.52524}\n",
      "\u001b[34m\u001b[1mTuner: \u001b[0mBest fitness model is runs\\segment\\train17\n",
      "\u001b[34m\u001b[1mTuner: \u001b[0mBest fitness hyperparameters are printed below.\n",
      "\n",
      "Printing '\u001b[1m\u001b[30mruns\\segment\\tune7\\best_hyperparameters.yaml\u001b[0m'\n",
      "\n",
      "lr0: 0.01\n",
      "lrf: 0.00863\n",
      "momentum: 0.9045\n",
      "weight_decay: 0.00044\n",
      "warmup_epochs: 2.2618\n",
      "warmup_momentum: 0.78059\n",
      "box: 7.01799\n",
      "cls: 0.47165\n",
      "dfl: 1.68303\n",
      "hsv_h: 0.01592\n",
      "hsv_s: 0.61353\n",
      "hsv_v: 0.36648\n",
      "degrees: 0.0\n",
      "translate: 0.10362\n",
      "scale: 0.44974\n",
      "shear: 0.0\n",
      "perspective: 0.0\n",
      "flipud: 0.0\n",
      "fliplr: 0.46894\n",
      "mosaic: 1.0\n",
      "mixup: 0.0\n",
      "copy_paste: 0.0\n",
      "\n",
      "\u001b[34m\u001b[1mTuner: \u001b[0mStarting iteration 4/50 with hyperparameters: {'lr0': 0.01078, 'lrf': 0.00979, 'momentum': 0.92292, 'weight_decay': 0.00051, 'warmup_epochs': 2.93846, 'warmup_momentum': 0.95, 'box': 8.01026, 'cls': 0.46132, 'dfl': 1.40464, 'hsv_h': 0.015, 'hsv_s': 0.66235, 'hsv_v': 0.4297, 'degrees': 0.0, 'translate': 0.1, 'scale': 0.5582, 'shear': 0.0, 'perspective': 0.0, 'flipud': 0.0, 'fliplr': 0.5, 'mosaic': 0.92966, 'mixup': 0.0, 'copy_paste': 0.0}\n",
      "Saved runs\\segment\\tune7\\tune_scatter_plots.png\n",
      "Saved runs\\segment\\tune7\\tune_fitness.png\n",
      "\n",
      "\u001b[34m\u001b[1mTuner: \u001b[0m4/50 iterations complete ✅ (5006.34s)\n",
      "\u001b[34m\u001b[1mTuner: \u001b[0mResults saved to \u001b[1mruns\\segment\\tune7\u001b[0m\n",
      "\u001b[34m\u001b[1mTuner: \u001b[0mBest fitness=0.52524 observed at iteration 3\n",
      "\u001b[34m\u001b[1mTuner: \u001b[0mBest fitness metrics are {'metrics/precision(B)': 0.70145, 'metrics/recall(B)': 0.32147, 'metrics/mAP50(B)': 0.35902, 'metrics/mAP50-95(B)': 0.26849, 'metrics/precision(M)': 0.70915, 'metrics/recall(M)': 0.31035, 'metrics/mAP50(M)': 0.34477, 'metrics/mAP50-95(M)': 0.23691, 'val/box_loss': 1.16448, 'val/seg_loss': 2.55459, 'val/cls_loss': 1.50709, 'val/dfl_loss': 1.38387, 'fitness': 0.52524}\n",
      "\u001b[34m\u001b[1mTuner: \u001b[0mBest fitness model is runs\\segment\\train17\n",
      "\u001b[34m\u001b[1mTuner: \u001b[0mBest fitness hyperparameters are printed below.\n",
      "\n",
      "Printing '\u001b[1m\u001b[30mruns\\segment\\tune7\\best_hyperparameters.yaml\u001b[0m'\n",
      "\n",
      "lr0: 0.01\n",
      "lrf: 0.00863\n",
      "momentum: 0.9045\n",
      "weight_decay: 0.00044\n",
      "warmup_epochs: 2.2618\n",
      "warmup_momentum: 0.78059\n",
      "box: 7.01799\n",
      "cls: 0.47165\n",
      "dfl: 1.68303\n",
      "hsv_h: 0.01592\n",
      "hsv_s: 0.61353\n",
      "hsv_v: 0.36648\n",
      "degrees: 0.0\n",
      "translate: 0.10362\n",
      "scale: 0.44974\n",
      "shear: 0.0\n",
      "perspective: 0.0\n",
      "flipud: 0.0\n",
      "fliplr: 0.46894\n",
      "mosaic: 1.0\n",
      "mixup: 0.0\n",
      "copy_paste: 0.0\n",
      "\n",
      "\u001b[34m\u001b[1mTuner: \u001b[0mStarting iteration 5/50 with hyperparameters: {'lr0': 0.01015, 'lrf': 0.01021, 'momentum': 0.937, 'weight_decay': 0.00048, 'warmup_epochs': 3.0, 'warmup_momentum': 0.77826, 'box': 7.5, 'cls': 0.507, 'dfl': 1.48758, 'hsv_h': 0.01468, 'hsv_s': 0.69599, 'hsv_v': 0.41056, 'degrees': 0.0, 'translate': 0.1015, 'scale': 0.5, 'shear': 0.0, 'perspective': 0.0, 'flipud': 0.0, 'fliplr': 0.5, 'mosaic': 1.0, 'mixup': 0.0, 'copy_paste': 0.0}\n",
      "Saved runs\\segment\\tune7\\tune_scatter_plots.png\n",
      "Saved runs\\segment\\tune7\\tune_fitness.png\n",
      "\n",
      "\u001b[34m\u001b[1mTuner: \u001b[0m5/50 iterations complete ✅ (5470.49s)\n",
      "\u001b[34m\u001b[1mTuner: \u001b[0mResults saved to \u001b[1mruns\\segment\\tune7\u001b[0m\n",
      "\u001b[34m\u001b[1mTuner: \u001b[0mBest fitness=0.52524 observed at iteration 3\n",
      "\u001b[34m\u001b[1mTuner: \u001b[0mBest fitness metrics are {'metrics/precision(B)': 0.70145, 'metrics/recall(B)': 0.32147, 'metrics/mAP50(B)': 0.35902, 'metrics/mAP50-95(B)': 0.26849, 'metrics/precision(M)': 0.70915, 'metrics/recall(M)': 0.31035, 'metrics/mAP50(M)': 0.34477, 'metrics/mAP50-95(M)': 0.23691, 'val/box_loss': 1.16448, 'val/seg_loss': 2.55459, 'val/cls_loss': 1.50709, 'val/dfl_loss': 1.38387, 'fitness': 0.52524}\n",
      "\u001b[34m\u001b[1mTuner: \u001b[0mBest fitness model is runs\\segment\\train17\n",
      "\u001b[34m\u001b[1mTuner: \u001b[0mBest fitness hyperparameters are printed below.\n",
      "\n",
      "Printing '\u001b[1m\u001b[30mruns\\segment\\tune7\\best_hyperparameters.yaml\u001b[0m'\n",
      "\n",
      "lr0: 0.01\n",
      "lrf: 0.00863\n",
      "momentum: 0.9045\n",
      "weight_decay: 0.00044\n",
      "warmup_epochs: 2.2618\n",
      "warmup_momentum: 0.78059\n",
      "box: 7.01799\n",
      "cls: 0.47165\n",
      "dfl: 1.68303\n",
      "hsv_h: 0.01592\n",
      "hsv_s: 0.61353\n",
      "hsv_v: 0.36648\n",
      "degrees: 0.0\n",
      "translate: 0.10362\n",
      "scale: 0.44974\n",
      "shear: 0.0\n",
      "perspective: 0.0\n",
      "flipud: 0.0\n",
      "fliplr: 0.46894\n",
      "mosaic: 1.0\n",
      "mixup: 0.0\n",
      "copy_paste: 0.0\n",
      "\n",
      "\u001b[34m\u001b[1mTuner: \u001b[0mStarting iteration 6/50 with hyperparameters: {'lr0': 0.01014, 'lrf': 0.00727, 'momentum': 0.88095, 'weight_decay': 0.0005, 'warmup_epochs': 2.89675, 'warmup_momentum': 0.88197, 'box': 8.95132, 'cls': 0.56005, 'dfl': 1.6471, 'hsv_h': 0.01506, 'hsv_s': 0.70221, 'hsv_v': 0.42517, 'degrees': 0.0, 'translate': 0.1, 'scale': 0.34602, 'shear': 0.0, 'perspective': 0.0, 'flipud': 0.0, 'fliplr': 0.43075, 'mosaic': 0.89118, 'mixup': 0.0, 'copy_paste': 0.0}\n",
      "Saved runs\\segment\\tune7\\tune_scatter_plots.png\n",
      "Saved runs\\segment\\tune7\\tune_fitness.png\n",
      "\n",
      "\u001b[34m\u001b[1mTuner: \u001b[0m6/50 iterations complete ✅ (5970.12s)\n",
      "\u001b[34m\u001b[1mTuner: \u001b[0mResults saved to \u001b[1mruns\\segment\\tune7\u001b[0m\n",
      "\u001b[34m\u001b[1mTuner: \u001b[0mBest fitness=0.54293 observed at iteration 6\n",
      "\u001b[34m\u001b[1mTuner: \u001b[0mBest fitness metrics are {'metrics/precision(B)': 0.68968, 'metrics/recall(B)': 0.33001, 'metrics/mAP50(B)': 0.36721, 'metrics/mAP50-95(B)': 0.27963, 'metrics/precision(M)': 0.67745, 'metrics/recall(M)': 0.32041, 'metrics/mAP50(M)': 0.35463, 'metrics/mAP50-95(M)': 0.24343, 'val/box_loss': 1.45674, 'val/seg_loss': 3.18018, 'val/cls_loss': 1.76004, 'val/dfl_loss': 1.34022, 'fitness': 0.54293}\n",
      "\u001b[34m\u001b[1mTuner: \u001b[0mBest fitness model is runs\\segment\\train20\n",
      "\u001b[34m\u001b[1mTuner: \u001b[0mBest fitness hyperparameters are printed below.\n",
      "\n",
      "Printing '\u001b[1m\u001b[30mruns\\segment\\tune7\\best_hyperparameters.yaml\u001b[0m'\n",
      "\n",
      "lr0: 0.01014\n",
      "lrf: 0.00727\n",
      "momentum: 0.88095\n",
      "weight_decay: 0.0005\n",
      "warmup_epochs: 2.89675\n",
      "warmup_momentum: 0.88197\n",
      "box: 8.95132\n",
      "cls: 0.56005\n",
      "dfl: 1.6471\n",
      "hsv_h: 0.01506\n",
      "hsv_s: 0.70221\n",
      "hsv_v: 0.42517\n",
      "degrees: 0.0\n",
      "translate: 0.1\n",
      "scale: 0.34602\n",
      "shear: 0.0\n",
      "perspective: 0.0\n",
      "flipud: 0.0\n",
      "fliplr: 0.43075\n",
      "mosaic: 0.89118\n",
      "mixup: 0.0\n",
      "copy_paste: 0.0\n",
      "\n",
      "\u001b[34m\u001b[1mTuner: \u001b[0mStarting iteration 7/50 with hyperparameters: {'lr0': 0.00909, 'lrf': 0.00895, 'momentum': 0.86831, 'weight_decay': 0.00047, 'warmup_epochs': 3.37883, 'warmup_momentum': 0.77065, 'box': 8.27539, 'cls': 0.5354, 'dfl': 1.7919, 'hsv_h': 0.01445, 'hsv_s': 0.70221, 'hsv_v': 0.44405, 'degrees': 0.0, 'translate': 0.10317, 'scale': 0.34302, 'shear': 0.0, 'perspective': 0.0, 'flipud': 0.0, 'fliplr': 0.5072, 'mosaic': 1.0, 'mixup': 0.0, 'copy_paste': 0.0}\n",
      "Saved runs\\segment\\tune7\\tune_scatter_plots.png\n",
      "Saved runs\\segment\\tune7\\tune_fitness.png\n",
      "\n",
      "\u001b[34m\u001b[1mTuner: \u001b[0m7/50 iterations complete ✅ (6481.87s)\n",
      "\u001b[34m\u001b[1mTuner: \u001b[0mResults saved to \u001b[1mruns\\segment\\tune7\u001b[0m\n",
      "\u001b[34m\u001b[1mTuner: \u001b[0mBest fitness=0.54293 observed at iteration 6\n",
      "\u001b[34m\u001b[1mTuner: \u001b[0mBest fitness metrics are {'metrics/precision(B)': 0.68968, 'metrics/recall(B)': 0.33001, 'metrics/mAP50(B)': 0.36721, 'metrics/mAP50-95(B)': 0.27963, 'metrics/precision(M)': 0.67745, 'metrics/recall(M)': 0.32041, 'metrics/mAP50(M)': 0.35463, 'metrics/mAP50-95(M)': 0.24343, 'val/box_loss': 1.45674, 'val/seg_loss': 3.18018, 'val/cls_loss': 1.76004, 'val/dfl_loss': 1.34022, 'fitness': 0.54293}\n",
      "\u001b[34m\u001b[1mTuner: \u001b[0mBest fitness model is runs\\segment\\train20\n",
      "\u001b[34m\u001b[1mTuner: \u001b[0mBest fitness hyperparameters are printed below.\n",
      "\n",
      "Printing '\u001b[1m\u001b[30mruns\\segment\\tune7\\best_hyperparameters.yaml\u001b[0m'\n",
      "\n",
      "lr0: 0.01014\n",
      "lrf: 0.00727\n",
      "momentum: 0.88095\n",
      "weight_decay: 0.0005\n",
      "warmup_epochs: 2.89675\n",
      "warmup_momentum: 0.88197\n",
      "box: 8.95132\n",
      "cls: 0.56005\n",
      "dfl: 1.6471\n",
      "hsv_h: 0.01506\n",
      "hsv_s: 0.70221\n",
      "hsv_v: 0.42517\n",
      "degrees: 0.0\n",
      "translate: 0.1\n",
      "scale: 0.34602\n",
      "shear: 0.0\n",
      "perspective: 0.0\n",
      "flipud: 0.0\n",
      "fliplr: 0.43075\n",
      "mosaic: 0.89118\n",
      "mixup: 0.0\n",
      "copy_paste: 0.0\n",
      "\n",
      "\u001b[34m\u001b[1mTuner: \u001b[0mStarting iteration 8/50 with hyperparameters: {'lr0': 0.0115, 'lrf': 0.00897, 'momentum': 0.88892, 'weight_decay': 0.00051, 'warmup_epochs': 2.89675, 'warmup_momentum': 0.95, 'box': 10.14086, 'cls': 0.54668, 'dfl': 1.6471, 'hsv_h': 0.01841, 'hsv_s': 0.80096, 'hsv_v': 0.43185, 'degrees': 0.0, 'translate': 0.1, 'scale': 0.36802, 'shear': 0.0, 'perspective': 0.0, 'flipud': 0.0, 'fliplr': 0.39245, 'mosaic': 0.89523, 'mixup': 0.0, 'copy_paste': 0.0}\n",
      "Saved runs\\segment\\tune7\\tune_scatter_plots.png\n",
      "Saved runs\\segment\\tune7\\tune_fitness.png\n",
      "\n",
      "\u001b[34m\u001b[1mTuner: \u001b[0m8/50 iterations complete ✅ (6997.00s)\n",
      "\u001b[34m\u001b[1mTuner: \u001b[0mResults saved to \u001b[1mruns\\segment\\tune7\u001b[0m\n",
      "\u001b[34m\u001b[1mTuner: \u001b[0mBest fitness=0.54293 observed at iteration 6\n",
      "\u001b[34m\u001b[1mTuner: \u001b[0mBest fitness metrics are {'metrics/precision(B)': 0.68968, 'metrics/recall(B)': 0.33001, 'metrics/mAP50(B)': 0.36721, 'metrics/mAP50-95(B)': 0.27963, 'metrics/precision(M)': 0.67745, 'metrics/recall(M)': 0.32041, 'metrics/mAP50(M)': 0.35463, 'metrics/mAP50-95(M)': 0.24343, 'val/box_loss': 1.45674, 'val/seg_loss': 3.18018, 'val/cls_loss': 1.76004, 'val/dfl_loss': 1.34022, 'fitness': 0.54293}\n",
      "\u001b[34m\u001b[1mTuner: \u001b[0mBest fitness model is runs\\segment\\train20\n",
      "\u001b[34m\u001b[1mTuner: \u001b[0mBest fitness hyperparameters are printed below.\n",
      "\n",
      "Printing '\u001b[1m\u001b[30mruns\\segment\\tune7\\best_hyperparameters.yaml\u001b[0m'\n",
      "\n",
      "lr0: 0.01014\n",
      "lrf: 0.00727\n",
      "momentum: 0.88095\n",
      "weight_decay: 0.0005\n",
      "warmup_epochs: 2.89675\n",
      "warmup_momentum: 0.88197\n",
      "box: 8.95132\n",
      "cls: 0.56005\n",
      "dfl: 1.6471\n",
      "hsv_h: 0.01506\n",
      "hsv_s: 0.70221\n",
      "hsv_v: 0.42517\n",
      "degrees: 0.0\n",
      "translate: 0.1\n",
      "scale: 0.34602\n",
      "shear: 0.0\n",
      "perspective: 0.0\n",
      "flipud: 0.0\n",
      "fliplr: 0.43075\n",
      "mosaic: 0.89118\n",
      "mixup: 0.0\n",
      "copy_paste: 0.0\n",
      "\n",
      "\u001b[34m\u001b[1mTuner: \u001b[0mStarting iteration 9/50 with hyperparameters: {'lr0': 0.0115, 'lrf': 0.00899, 'momentum': 0.90775, 'weight_decay': 0.00043, 'warmup_epochs': 3.38955, 'warmup_momentum': 0.95, 'box': 10.23173, 'cls': 0.41769, 'dfl': 1.6471, 'hsv_h': 0.02105, 'hsv_s': 0.60806, 'hsv_v': 0.3812, 'degrees': 0.0, 'translate': 0.12712, 'scale': 0.37984, 'shear': 0.0, 'perspective': 0.0, 'flipud': 0.0, 'fliplr': 0.4063, 'mosaic': 0.86412, 'mixup': 0.0, 'copy_paste': 0.0}\n",
      "Saved runs\\segment\\tune7\\tune_scatter_plots.png\n",
      "Saved runs\\segment\\tune7\\tune_fitness.png\n",
      "\n",
      "\u001b[34m\u001b[1mTuner: \u001b[0m9/50 iterations complete ✅ (7512.44s)\n",
      "\u001b[34m\u001b[1mTuner: \u001b[0mResults saved to \u001b[1mruns\\segment\\tune7\u001b[0m\n",
      "\u001b[34m\u001b[1mTuner: \u001b[0mBest fitness=0.54293 observed at iteration 6\n",
      "\u001b[34m\u001b[1mTuner: \u001b[0mBest fitness metrics are {'metrics/precision(B)': 0.68968, 'metrics/recall(B)': 0.33001, 'metrics/mAP50(B)': 0.36721, 'metrics/mAP50-95(B)': 0.27963, 'metrics/precision(M)': 0.67745, 'metrics/recall(M)': 0.32041, 'metrics/mAP50(M)': 0.35463, 'metrics/mAP50-95(M)': 0.24343, 'val/box_loss': 1.45674, 'val/seg_loss': 3.18018, 'val/cls_loss': 1.76004, 'val/dfl_loss': 1.34022, 'fitness': 0.54293}\n",
      "\u001b[34m\u001b[1mTuner: \u001b[0mBest fitness model is runs\\segment\\train20\n",
      "\u001b[34m\u001b[1mTuner: \u001b[0mBest fitness hyperparameters are printed below.\n",
      "\n",
      "Printing '\u001b[1m\u001b[30mruns\\segment\\tune7\\best_hyperparameters.yaml\u001b[0m'\n",
      "\n",
      "lr0: 0.01014\n",
      "lrf: 0.00727\n",
      "momentum: 0.88095\n",
      "weight_decay: 0.0005\n",
      "warmup_epochs: 2.89675\n",
      "warmup_momentum: 0.88197\n",
      "box: 8.95132\n",
      "cls: 0.56005\n",
      "dfl: 1.6471\n",
      "hsv_h: 0.01506\n",
      "hsv_s: 0.70221\n",
      "hsv_v: 0.42517\n",
      "degrees: 0.0\n",
      "translate: 0.1\n",
      "scale: 0.34602\n",
      "shear: 0.0\n",
      "perspective: 0.0\n",
      "flipud: 0.0\n",
      "fliplr: 0.43075\n",
      "mosaic: 0.89118\n",
      "mixup: 0.0\n",
      "copy_paste: 0.0\n",
      "\n",
      "\u001b[34m\u001b[1mTuner: \u001b[0mStarting iteration 10/50 with hyperparameters: {'lr0': 0.01266, 'lrf': 0.01093, 'momentum': 0.8847, 'weight_decay': 0.00055, 'warmup_epochs': 2.15725, 'warmup_momentum': 0.95, 'box': 10.14086, 'cls': 0.65959, 'dfl': 1.72747, 'hsv_h': 0.02, 'hsv_s': 0.87978, 'hsv_v': 0.43185, 'degrees': 0.0, 'translate': 0.08804, 'scale': 0.3427, 'shear': 0.0, 'perspective': 0.0, 'flipud': 0.0, 'fliplr': 0.39245, 'mosaic': 0.9116, 'mixup': 0.0, 'copy_paste': 0.0}\n",
      "Saved runs\\segment\\tune7\\tune_scatter_plots.png\n",
      "Saved runs\\segment\\tune7\\tune_fitness.png\n",
      "\n",
      "\u001b[34m\u001b[1mTuner: \u001b[0m10/50 iterations complete ✅ (8025.12s)\n",
      "\u001b[34m\u001b[1mTuner: \u001b[0mResults saved to \u001b[1mruns\\segment\\tune7\u001b[0m\n",
      "\u001b[34m\u001b[1mTuner: \u001b[0mBest fitness=0.54293 observed at iteration 6\n",
      "\u001b[34m\u001b[1mTuner: \u001b[0mBest fitness metrics are {'metrics/precision(B)': 0.68968, 'metrics/recall(B)': 0.33001, 'metrics/mAP50(B)': 0.36721, 'metrics/mAP50-95(B)': 0.27963, 'metrics/precision(M)': 0.67745, 'metrics/recall(M)': 0.32041, 'metrics/mAP50(M)': 0.35463, 'metrics/mAP50-95(M)': 0.24343, 'val/box_loss': 1.45674, 'val/seg_loss': 3.18018, 'val/cls_loss': 1.76004, 'val/dfl_loss': 1.34022, 'fitness': 0.54293}\n",
      "\u001b[34m\u001b[1mTuner: \u001b[0mBest fitness model is runs\\segment\\train20\n",
      "\u001b[34m\u001b[1mTuner: \u001b[0mBest fitness hyperparameters are printed below.\n",
      "\n",
      "Printing '\u001b[1m\u001b[30mruns\\segment\\tune7\\best_hyperparameters.yaml\u001b[0m'\n",
      "\n",
      "lr0: 0.01014\n",
      "lrf: 0.00727\n",
      "momentum: 0.88095\n",
      "weight_decay: 0.0005\n",
      "warmup_epochs: 2.89675\n",
      "warmup_momentum: 0.88197\n",
      "box: 8.95132\n",
      "cls: 0.56005\n",
      "dfl: 1.6471\n",
      "hsv_h: 0.01506\n",
      "hsv_s: 0.70221\n",
      "hsv_v: 0.42517\n",
      "degrees: 0.0\n",
      "translate: 0.1\n",
      "scale: 0.34602\n",
      "shear: 0.0\n",
      "perspective: 0.0\n",
      "flipud: 0.0\n",
      "fliplr: 0.43075\n",
      "mosaic: 0.89118\n",
      "mixup: 0.0\n",
      "copy_paste: 0.0\n",
      "\n",
      "\u001b[34m\u001b[1mTuner: \u001b[0mStarting iteration 11/50 with hyperparameters: {'lr0': 0.00936, 'lrf': 0.00905, 'momentum': 0.85947, 'weight_decay': 0.00047, 'warmup_epochs': 3.34254, 'warmup_momentum': 0.78744, 'box': 8.20711, 'cls': 0.54457, 'dfl': 1.72588, 'hsv_h': 0.01459, 'hsv_s': 0.70221, 'hsv_v': 0.4076, 'degrees': 0.0, 'translate': 0.10196, 'scale': 0.34199, 'shear': 0.0, 'perspective': 0.0, 'flipud': 0.0, 'fliplr': 0.50973, 'mosaic': 1.0, 'mixup': 0.0, 'copy_paste': 0.0}\n",
      "Saved runs\\segment\\tune7\\tune_scatter_plots.png\n",
      "Saved runs\\segment\\tune7\\tune_fitness.png\n",
      "\n",
      "\u001b[34m\u001b[1mTuner: \u001b[0m11/50 iterations complete ✅ (8548.19s)\n",
      "\u001b[34m\u001b[1mTuner: \u001b[0mResults saved to \u001b[1mruns\\segment\\tune7\u001b[0m\n",
      "\u001b[34m\u001b[1mTuner: \u001b[0mBest fitness=0.54293 observed at iteration 6\n",
      "\u001b[34m\u001b[1mTuner: \u001b[0mBest fitness metrics are {'metrics/precision(B)': 0.68968, 'metrics/recall(B)': 0.33001, 'metrics/mAP50(B)': 0.36721, 'metrics/mAP50-95(B)': 0.27963, 'metrics/precision(M)': 0.67745, 'metrics/recall(M)': 0.32041, 'metrics/mAP50(M)': 0.35463, 'metrics/mAP50-95(M)': 0.24343, 'val/box_loss': 1.45674, 'val/seg_loss': 3.18018, 'val/cls_loss': 1.76004, 'val/dfl_loss': 1.34022, 'fitness': 0.54293}\n",
      "\u001b[34m\u001b[1mTuner: \u001b[0mBest fitness model is runs\\segment\\train20\n",
      "\u001b[34m\u001b[1mTuner: \u001b[0mBest fitness hyperparameters are printed below.\n",
      "\n",
      "Printing '\u001b[1m\u001b[30mruns\\segment\\tune7\\best_hyperparameters.yaml\u001b[0m'\n",
      "\n",
      "lr0: 0.01014\n",
      "lrf: 0.00727\n",
      "momentum: 0.88095\n",
      "weight_decay: 0.0005\n",
      "warmup_epochs: 2.89675\n",
      "warmup_momentum: 0.88197\n",
      "box: 8.95132\n",
      "cls: 0.56005\n",
      "dfl: 1.6471\n",
      "hsv_h: 0.01506\n",
      "hsv_s: 0.70221\n",
      "hsv_v: 0.42517\n",
      "degrees: 0.0\n",
      "translate: 0.1\n",
      "scale: 0.34602\n",
      "shear: 0.0\n",
      "perspective: 0.0\n",
      "flipud: 0.0\n",
      "fliplr: 0.43075\n",
      "mosaic: 0.89118\n",
      "mixup: 0.0\n",
      "copy_paste: 0.0\n",
      "\n",
      "\u001b[34m\u001b[1mTuner: \u001b[0mStarting iteration 12/50 with hyperparameters: {'lr0': 0.01019, 'lrf': 0.00727, 'momentum': 0.86997, 'weight_decay': 0.00048, 'warmup_epochs': 2.83158, 'warmup_momentum': 0.7154, 'box': 8.46001, 'cls': 0.50525, 'dfl': 1.8262, 'hsv_h': 0.01351, 'hsv_s': 0.9, 'hsv_v': 0.44094, 'degrees': 0.0, 'translate': 0.10613, 'scale': 0.35608, 'shear': 0.0, 'perspective': 0.0, 'flipud': 0.0, 'fliplr': 0.41922, 'mosaic': 0.87197, 'mixup': 0.0, 'copy_paste': 0.0}\n",
      "Saved runs\\segment\\tune7\\tune_scatter_plots.png\n",
      "Saved runs\\segment\\tune7\\tune_fitness.png\n",
      "\n",
      "\u001b[34m\u001b[1mTuner: \u001b[0m12/50 iterations complete ✅ (9062.38s)\n",
      "\u001b[34m\u001b[1mTuner: \u001b[0mResults saved to \u001b[1mruns\\segment\\tune7\u001b[0m\n",
      "\u001b[34m\u001b[1mTuner: \u001b[0mBest fitness=0.54293 observed at iteration 6\n",
      "\u001b[34m\u001b[1mTuner: \u001b[0mBest fitness metrics are {'metrics/precision(B)': 0.68968, 'metrics/recall(B)': 0.33001, 'metrics/mAP50(B)': 0.36721, 'metrics/mAP50-95(B)': 0.27963, 'metrics/precision(M)': 0.67745, 'metrics/recall(M)': 0.32041, 'metrics/mAP50(M)': 0.35463, 'metrics/mAP50-95(M)': 0.24343, 'val/box_loss': 1.45674, 'val/seg_loss': 3.18018, 'val/cls_loss': 1.76004, 'val/dfl_loss': 1.34022, 'fitness': 0.54293}\n",
      "\u001b[34m\u001b[1mTuner: \u001b[0mBest fitness model is runs\\segment\\train20\n",
      "\u001b[34m\u001b[1mTuner: \u001b[0mBest fitness hyperparameters are printed below.\n",
      "\n",
      "Printing '\u001b[1m\u001b[30mruns\\segment\\tune7\\best_hyperparameters.yaml\u001b[0m'\n",
      "\n",
      "lr0: 0.01014\n",
      "lrf: 0.00727\n",
      "momentum: 0.88095\n",
      "weight_decay: 0.0005\n",
      "warmup_epochs: 2.89675\n",
      "warmup_momentum: 0.88197\n",
      "box: 8.95132\n",
      "cls: 0.56005\n",
      "dfl: 1.6471\n",
      "hsv_h: 0.01506\n",
      "hsv_s: 0.70221\n",
      "hsv_v: 0.42517\n",
      "degrees: 0.0\n",
      "translate: 0.1\n",
      "scale: 0.34602\n",
      "shear: 0.0\n",
      "perspective: 0.0\n",
      "flipud: 0.0\n",
      "fliplr: 0.43075\n",
      "mosaic: 0.89118\n",
      "mixup: 0.0\n",
      "copy_paste: 0.0\n",
      "\n",
      "\u001b[34m\u001b[1mTuner: \u001b[0mStarting iteration 13/50 with hyperparameters: {'lr0': 0.01475, 'lrf': 0.01134, 'momentum': 0.80473, 'weight_decay': 0.00052, 'warmup_epochs': 3.13614, 'warmup_momentum': 0.77564, 'box': 8.20711, 'cls': 0.54457, 'dfl': 1.72588, 'hsv_h': 0.01406, 'hsv_s': 0.77971, 'hsv_v': 0.2356, 'degrees': 0.0, 'translate': 0.1074, 'scale': 0.28547, 'shear': 0.0, 'perspective': 0.0, 'flipud': 0.0, 'fliplr': 0.55903, 'mosaic': 0.87708, 'mixup': 0.0, 'copy_paste': 0.0}\n",
      "Saved runs\\segment\\tune7\\tune_scatter_plots.png\n",
      "Saved runs\\segment\\tune7\\tune_fitness.png\n",
      "\n",
      "\u001b[34m\u001b[1mTuner: \u001b[0m13/50 iterations complete ✅ (9574.55s)\n",
      "\u001b[34m\u001b[1mTuner: \u001b[0mResults saved to \u001b[1mruns\\segment\\tune7\u001b[0m\n",
      "\u001b[34m\u001b[1mTuner: \u001b[0mBest fitness=0.54293 observed at iteration 6\n",
      "\u001b[34m\u001b[1mTuner: \u001b[0mBest fitness metrics are {'metrics/precision(B)': 0.68968, 'metrics/recall(B)': 0.33001, 'metrics/mAP50(B)': 0.36721, 'metrics/mAP50-95(B)': 0.27963, 'metrics/precision(M)': 0.67745, 'metrics/recall(M)': 0.32041, 'metrics/mAP50(M)': 0.35463, 'metrics/mAP50-95(M)': 0.24343, 'val/box_loss': 1.45674, 'val/seg_loss': 3.18018, 'val/cls_loss': 1.76004, 'val/dfl_loss': 1.34022, 'fitness': 0.54293}\n",
      "\u001b[34m\u001b[1mTuner: \u001b[0mBest fitness model is runs\\segment\\train20\n",
      "\u001b[34m\u001b[1mTuner: \u001b[0mBest fitness hyperparameters are printed below.\n",
      "\n",
      "Printing '\u001b[1m\u001b[30mruns\\segment\\tune7\\best_hyperparameters.yaml\u001b[0m'\n",
      "\n",
      "lr0: 0.01014\n",
      "lrf: 0.00727\n",
      "momentum: 0.88095\n",
      "weight_decay: 0.0005\n",
      "warmup_epochs: 2.89675\n",
      "warmup_momentum: 0.88197\n",
      "box: 8.95132\n",
      "cls: 0.56005\n",
      "dfl: 1.6471\n",
      "hsv_h: 0.01506\n",
      "hsv_s: 0.70221\n",
      "hsv_v: 0.42517\n",
      "degrees: 0.0\n",
      "translate: 0.1\n",
      "scale: 0.34602\n",
      "shear: 0.0\n",
      "perspective: 0.0\n",
      "flipud: 0.0\n",
      "fliplr: 0.43075\n",
      "mosaic: 0.89118\n",
      "mixup: 0.0\n",
      "copy_paste: 0.0\n",
      "\n",
      "\u001b[34m\u001b[1mTuner: \u001b[0mStarting iteration 14/50 with hyperparameters: {'lr0': 0.00998, 'lrf': 0.00692, 'momentum': 0.89074, 'weight_decay': 0.00051, 'warmup_epochs': 3.02033, 'warmup_momentum': 0.9484, 'box': 9.14152, 'cls': 0.5326, 'dfl': 1.6471, 'hsv_h': 0.01506, 'hsv_s': 0.78873, 'hsv_v': 0.44535, 'degrees': 0.0, 'translate': 0.1, 'scale': 0.38173, 'shear': 0.0, 'perspective': 0.0, 'flipud': 0.0, 'fliplr': 0.39358, 'mosaic': 0.84702, 'mixup': 0.0, 'copy_paste': 0.0}\n",
      "Saved runs\\segment\\tune7\\tune_scatter_plots.png\n",
      "Saved runs\\segment\\tune7\\tune_fitness.png\n",
      "\n",
      "\u001b[34m\u001b[1mTuner: \u001b[0m14/50 iterations complete ✅ (10091.59s)\n",
      "\u001b[34m\u001b[1mTuner: \u001b[0mResults saved to \u001b[1mruns\\segment\\tune7\u001b[0m\n",
      "\u001b[34m\u001b[1mTuner: \u001b[0mBest fitness=0.54293 observed at iteration 6\n",
      "\u001b[34m\u001b[1mTuner: \u001b[0mBest fitness metrics are {'metrics/precision(B)': 0.68968, 'metrics/recall(B)': 0.33001, 'metrics/mAP50(B)': 0.36721, 'metrics/mAP50-95(B)': 0.27963, 'metrics/precision(M)': 0.67745, 'metrics/recall(M)': 0.32041, 'metrics/mAP50(M)': 0.35463, 'metrics/mAP50-95(M)': 0.24343, 'val/box_loss': 1.45674, 'val/seg_loss': 3.18018, 'val/cls_loss': 1.76004, 'val/dfl_loss': 1.34022, 'fitness': 0.54293}\n",
      "\u001b[34m\u001b[1mTuner: \u001b[0mBest fitness model is runs\\segment\\train20\n",
      "\u001b[34m\u001b[1mTuner: \u001b[0mBest fitness hyperparameters are printed below.\n",
      "\n",
      "Printing '\u001b[1m\u001b[30mruns\\segment\\tune7\\best_hyperparameters.yaml\u001b[0m'\n",
      "\n",
      "lr0: 0.01014\n",
      "lrf: 0.00727\n",
      "momentum: 0.88095\n",
      "weight_decay: 0.0005\n",
      "warmup_epochs: 2.89675\n",
      "warmup_momentum: 0.88197\n",
      "box: 8.95132\n",
      "cls: 0.56005\n",
      "dfl: 1.6471\n",
      "hsv_h: 0.01506\n",
      "hsv_s: 0.70221\n",
      "hsv_v: 0.42517\n",
      "degrees: 0.0\n",
      "translate: 0.1\n",
      "scale: 0.34602\n",
      "shear: 0.0\n",
      "perspective: 0.0\n",
      "flipud: 0.0\n",
      "fliplr: 0.43075\n",
      "mosaic: 0.89118\n",
      "mixup: 0.0\n",
      "copy_paste: 0.0\n",
      "\n",
      "\u001b[34m\u001b[1mTuner: \u001b[0mStarting iteration 15/50 with hyperparameters: {'lr0': 0.0062, 'lrf': 0.00781, 'momentum': 0.97256, 'weight_decay': 0.00043, 'warmup_epochs': 3.25827, 'warmup_momentum': 0.66106, 'box': 8.95132, 'cls': 0.56005, 'dfl': 1.69342, 'hsv_h': 0.01544, 'hsv_s': 0.70221, 'hsv_v': 0.3924, 'degrees': 0.0, 'translate': 0.0978, 'scale': 0.3671, 'shear': 0.0, 'perspective': 0.0, 'flipud': 0.0, 'fliplr': 0.47315, 'mosaic': 0.89118, 'mixup': 0.0, 'copy_paste': 0.0}\n",
      "Saved runs\\segment\\tune7\\tune_scatter_plots.png\n",
      "Saved runs\\segment\\tune7\\tune_fitness.png\n",
      "\n",
      "\u001b[34m\u001b[1mTuner: \u001b[0m15/50 iterations complete ✅ (10602.05s)\n",
      "\u001b[34m\u001b[1mTuner: \u001b[0mResults saved to \u001b[1mruns\\segment\\tune7\u001b[0m\n",
      "\u001b[34m\u001b[1mTuner: \u001b[0mBest fitness=0.54293 observed at iteration 6\n",
      "\u001b[34m\u001b[1mTuner: \u001b[0mBest fitness metrics are {'metrics/precision(B)': 0.68968, 'metrics/recall(B)': 0.33001, 'metrics/mAP50(B)': 0.36721, 'metrics/mAP50-95(B)': 0.27963, 'metrics/precision(M)': 0.67745, 'metrics/recall(M)': 0.32041, 'metrics/mAP50(M)': 0.35463, 'metrics/mAP50-95(M)': 0.24343, 'val/box_loss': 1.45674, 'val/seg_loss': 3.18018, 'val/cls_loss': 1.76004, 'val/dfl_loss': 1.34022, 'fitness': 0.54293}\n",
      "\u001b[34m\u001b[1mTuner: \u001b[0mBest fitness model is runs\\segment\\train20\n",
      "\u001b[34m\u001b[1mTuner: \u001b[0mBest fitness hyperparameters are printed below.\n",
      "\n",
      "Printing '\u001b[1m\u001b[30mruns\\segment\\tune7\\best_hyperparameters.yaml\u001b[0m'\n",
      "\n",
      "lr0: 0.01014\n",
      "lrf: 0.00727\n",
      "momentum: 0.88095\n",
      "weight_decay: 0.0005\n",
      "warmup_epochs: 2.89675\n",
      "warmup_momentum: 0.88197\n",
      "box: 8.95132\n",
      "cls: 0.56005\n",
      "dfl: 1.6471\n",
      "hsv_h: 0.01506\n",
      "hsv_s: 0.70221\n",
      "hsv_v: 0.42517\n",
      "degrees: 0.0\n",
      "translate: 0.1\n",
      "scale: 0.34602\n",
      "shear: 0.0\n",
      "perspective: 0.0\n",
      "flipud: 0.0\n",
      "fliplr: 0.43075\n",
      "mosaic: 0.89118\n",
      "mixup: 0.0\n",
      "copy_paste: 0.0\n",
      "\n",
      "\u001b[34m\u001b[1mTuner: \u001b[0mStarting iteration 16/50 with hyperparameters: {'lr0': 0.01031, 'lrf': 0.00703, 'momentum': 0.86976, 'weight_decay': 0.00046, 'warmup_epochs': 3.22064, 'warmup_momentum': 0.79375, 'box': 8.87546, 'cls': 0.59324, 'dfl': 1.65095, 'hsv_h': 0.0143, 'hsv_s': 0.73745, 'hsv_v': 0.42517, 'degrees': 0.0, 'translate': 0.1, 'scale': 0.30621, 'shear': 0.0, 'perspective': 0.0, 'flipud': 0.0, 'fliplr': 0.36624, 'mosaic': 0.94619, 'mixup': 0.0, 'copy_paste': 0.0}\n",
      "Saved runs\\segment\\tune7\\tune_scatter_plots.png\n",
      "Saved runs\\segment\\tune7\\tune_fitness.png\n",
      "\n",
      "\u001b[34m\u001b[1mTuner: \u001b[0m16/50 iterations complete ✅ (11113.30s)\n",
      "\u001b[34m\u001b[1mTuner: \u001b[0mResults saved to \u001b[1mruns\\segment\\tune7\u001b[0m\n",
      "\u001b[34m\u001b[1mTuner: \u001b[0mBest fitness=0.54887 observed at iteration 16\n",
      "\u001b[34m\u001b[1mTuner: \u001b[0mBest fitness metrics are {'metrics/precision(B)': 0.67219, 'metrics/recall(B)': 0.33922, 'metrics/mAP50(B)': 0.37091, 'metrics/mAP50-95(B)': 0.28244, 'metrics/precision(M)': 0.65198, 'metrics/recall(M)': 0.33365, 'metrics/mAP50(M)': 0.35858, 'metrics/mAP50-95(M)': 0.24635, 'val/box_loss': 1.42278, 'val/seg_loss': 3.1487, 'val/cls_loss': 1.82537, 'val/dfl_loss': 1.33382, 'fitness': 0.54887}\n",
      "\u001b[34m\u001b[1mTuner: \u001b[0mBest fitness model is runs\\segment\\train30\n",
      "\u001b[34m\u001b[1mTuner: \u001b[0mBest fitness hyperparameters are printed below.\n",
      "\n",
      "Printing '\u001b[1m\u001b[30mruns\\segment\\tune7\\best_hyperparameters.yaml\u001b[0m'\n",
      "\n",
      "lr0: 0.01031\n",
      "lrf: 0.00703\n",
      "momentum: 0.86976\n",
      "weight_decay: 0.00046\n",
      "warmup_epochs: 3.22064\n",
      "warmup_momentum: 0.79375\n",
      "box: 8.87546\n",
      "cls: 0.59324\n",
      "dfl: 1.65095\n",
      "hsv_h: 0.0143\n",
      "hsv_s: 0.73745\n",
      "hsv_v: 0.42517\n",
      "degrees: 0.0\n",
      "translate: 0.1\n",
      "scale: 0.30621\n",
      "shear: 0.0\n",
      "perspective: 0.0\n",
      "flipud: 0.0\n",
      "fliplr: 0.36624\n",
      "mosaic: 0.94619\n",
      "mixup: 0.0\n",
      "copy_paste: 0.0\n",
      "\n",
      "\u001b[34m\u001b[1mTuner: \u001b[0mStarting iteration 17/50 with hyperparameters: {'lr0': 0.01031, 'lrf': 0.00683, 'momentum': 0.87584, 'weight_decay': 0.00046, 'warmup_epochs': 3.22064, 'warmup_momentum': 0.8256, 'box': 8.68102, 'cls': 0.61381, 'dfl': 1.72537, 'hsv_h': 0.0129, 'hsv_s': 0.67816, 'hsv_v': 0.46399, 'degrees': 0.0, 'translate': 0.1, 'scale': 0.36326, 'shear': 0.0, 'perspective': 0.0, 'flipud': 0.0, 'fliplr': 0.39105, 'mosaic': 0.82633, 'mixup': 0.0, 'copy_paste': 0.0}\n",
      "Saved runs\\segment\\tune7\\tune_scatter_plots.png\n",
      "Saved runs\\segment\\tune7\\tune_fitness.png\n",
      "\n",
      "\u001b[34m\u001b[1mTuner: \u001b[0m17/50 iterations complete ✅ (11630.11s)\n",
      "\u001b[34m\u001b[1mTuner: \u001b[0mResults saved to \u001b[1mruns\\segment\\tune7\u001b[0m\n",
      "\u001b[34m\u001b[1mTuner: \u001b[0mBest fitness=0.5545 observed at iteration 17\n",
      "\u001b[34m\u001b[1mTuner: \u001b[0mBest fitness metrics are {'metrics/precision(B)': 0.7171, 'metrics/recall(B)': 0.33635, 'metrics/mAP50(B)': 0.37225, 'metrics/mAP50-95(B)': 0.28541, 'metrics/precision(M)': 0.7279, 'metrics/recall(M)': 0.32559, 'metrics/mAP50(M)': 0.36009, 'metrics/mAP50-95(M)': 0.24933, 'val/box_loss': 1.41602, 'val/seg_loss': 3.11319, 'val/cls_loss': 1.90965, 'val/dfl_loss': 1.40537, 'fitness': 0.5545}\n",
      "\u001b[34m\u001b[1mTuner: \u001b[0mBest fitness model is runs\\segment\\train31\n",
      "\u001b[34m\u001b[1mTuner: \u001b[0mBest fitness hyperparameters are printed below.\n",
      "\n",
      "Printing '\u001b[1m\u001b[30mruns\\segment\\tune7\\best_hyperparameters.yaml\u001b[0m'\n",
      "\n",
      "lr0: 0.01031\n",
      "lrf: 0.00683\n",
      "momentum: 0.87584\n",
      "weight_decay: 0.00046\n",
      "warmup_epochs: 3.22064\n",
      "warmup_momentum: 0.8256\n",
      "box: 8.68102\n",
      "cls: 0.61381\n",
      "dfl: 1.72537\n",
      "hsv_h: 0.0129\n",
      "hsv_s: 0.67816\n",
      "hsv_v: 0.46399\n",
      "degrees: 0.0\n",
      "translate: 0.1\n",
      "scale: 0.36326\n",
      "shear: 0.0\n",
      "perspective: 0.0\n",
      "flipud: 0.0\n",
      "fliplr: 0.39105\n",
      "mosaic: 0.82633\n",
      "mixup: 0.0\n",
      "copy_paste: 0.0\n",
      "\n",
      "\u001b[34m\u001b[1mTuner: \u001b[0mStarting iteration 18/50 with hyperparameters: {'lr0': 0.01031, 'lrf': 0.00642, 'momentum': 0.86961, 'weight_decay': 0.00047, 'warmup_epochs': 4.07646, 'warmup_momentum': 0.78387, 'box': 8.40789, 'cls': 0.58092, 'dfl': 1.93917, 'hsv_h': 0.01353, 'hsv_s': 0.64014, 'hsv_v': 0.41983, 'degrees': 0.0, 'translate': 0.09285, 'scale': 0.36326, 'shear': 0.0, 'perspective': 0.0, 'flipud': 0.0, 'fliplr': 0.40962, 'mosaic': 0.82633, 'mixup': 0.0, 'copy_paste': 0.0}\n",
      "Saved runs\\segment\\tune7\\tune_scatter_plots.png\n",
      "Saved runs\\segment\\tune7\\tune_fitness.png\n",
      "\n",
      "\u001b[34m\u001b[1mTuner: \u001b[0m18/50 iterations complete ✅ (12143.47s)\n",
      "\u001b[34m\u001b[1mTuner: \u001b[0mResults saved to \u001b[1mruns\\segment\\tune7\u001b[0m\n",
      "\u001b[34m\u001b[1mTuner: \u001b[0mBest fitness=0.5545 observed at iteration 17\n",
      "\u001b[34m\u001b[1mTuner: \u001b[0mBest fitness metrics are {'metrics/precision(B)': 0.7171, 'metrics/recall(B)': 0.33635, 'metrics/mAP50(B)': 0.37225, 'metrics/mAP50-95(B)': 0.28541, 'metrics/precision(M)': 0.7279, 'metrics/recall(M)': 0.32559, 'metrics/mAP50(M)': 0.36009, 'metrics/mAP50-95(M)': 0.24933, 'val/box_loss': 1.41602, 'val/seg_loss': 3.11319, 'val/cls_loss': 1.90965, 'val/dfl_loss': 1.40537, 'fitness': 0.5545}\n",
      "\u001b[34m\u001b[1mTuner: \u001b[0mBest fitness model is runs\\segment\\train31\n",
      "\u001b[34m\u001b[1mTuner: \u001b[0mBest fitness hyperparameters are printed below.\n",
      "\n",
      "Printing '\u001b[1m\u001b[30mruns\\segment\\tune7\\best_hyperparameters.yaml\u001b[0m'\n",
      "\n",
      "lr0: 0.01031\n",
      "lrf: 0.00683\n",
      "momentum: 0.87584\n",
      "weight_decay: 0.00046\n",
      "warmup_epochs: 3.22064\n",
      "warmup_momentum: 0.8256\n",
      "box: 8.68102\n",
      "cls: 0.61381\n",
      "dfl: 1.72537\n",
      "hsv_h: 0.0129\n",
      "hsv_s: 0.67816\n",
      "hsv_v: 0.46399\n",
      "degrees: 0.0\n",
      "translate: 0.1\n",
      "scale: 0.36326\n",
      "shear: 0.0\n",
      "perspective: 0.0\n",
      "flipud: 0.0\n",
      "fliplr: 0.39105\n",
      "mosaic: 0.82633\n",
      "mixup: 0.0\n",
      "copy_paste: 0.0\n",
      "\n",
      "\u001b[34m\u001b[1mTuner: \u001b[0mStarting iteration 19/50 with hyperparameters: {'lr0': 0.01031, 'lrf': 0.0069, 'momentum': 0.84253, 'weight_decay': 0.00047, 'warmup_epochs': 3.08445, 'warmup_momentum': 0.86943, 'box': 8.01426, 'cls': 0.60916, 'dfl': 1.59168, 'hsv_h': 0.01573, 'hsv_s': 0.66628, 'hsv_v': 0.38835, 'degrees': 0.0, 'translate': 0.09579, 'scale': 0.30891, 'shear': 0.0, 'perspective': 0.0, 'flipud': 0.0, 'fliplr': 0.40505, 'mosaic': 0.89918, 'mixup': 0.0, 'copy_paste': 0.0}\n",
      "Saved runs\\segment\\tune7\\tune_scatter_plots.png\n",
      "Saved runs\\segment\\tune7\\tune_fitness.png\n",
      "\n",
      "\u001b[34m\u001b[1mTuner: \u001b[0m19/50 iterations complete ✅ (12655.31s)\n",
      "\u001b[34m\u001b[1mTuner: \u001b[0mResults saved to \u001b[1mruns\\segment\\tune7\u001b[0m\n",
      "\u001b[34m\u001b[1mTuner: \u001b[0mBest fitness=0.5545 observed at iteration 17\n",
      "\u001b[34m\u001b[1mTuner: \u001b[0mBest fitness metrics are {'metrics/precision(B)': 0.7171, 'metrics/recall(B)': 0.33635, 'metrics/mAP50(B)': 0.37225, 'metrics/mAP50-95(B)': 0.28541, 'metrics/precision(M)': 0.7279, 'metrics/recall(M)': 0.32559, 'metrics/mAP50(M)': 0.36009, 'metrics/mAP50-95(M)': 0.24933, 'val/box_loss': 1.41602, 'val/seg_loss': 3.11319, 'val/cls_loss': 1.90965, 'val/dfl_loss': 1.40537, 'fitness': 0.5545}\n",
      "\u001b[34m\u001b[1mTuner: \u001b[0mBest fitness model is runs\\segment\\train31\n",
      "\u001b[34m\u001b[1mTuner: \u001b[0mBest fitness hyperparameters are printed below.\n",
      "\n",
      "Printing '\u001b[1m\u001b[30mruns\\segment\\tune7\\best_hyperparameters.yaml\u001b[0m'\n",
      "\n",
      "lr0: 0.01031\n",
      "lrf: 0.00683\n",
      "momentum: 0.87584\n",
      "weight_decay: 0.00046\n",
      "warmup_epochs: 3.22064\n",
      "warmup_momentum: 0.8256\n",
      "box: 8.68102\n",
      "cls: 0.61381\n",
      "dfl: 1.72537\n",
      "hsv_h: 0.0129\n",
      "hsv_s: 0.67816\n",
      "hsv_v: 0.46399\n",
      "degrees: 0.0\n",
      "translate: 0.1\n",
      "scale: 0.36326\n",
      "shear: 0.0\n",
      "perspective: 0.0\n",
      "flipud: 0.0\n",
      "fliplr: 0.39105\n",
      "mosaic: 0.82633\n",
      "mixup: 0.0\n",
      "copy_paste: 0.0\n",
      "\n",
      "\u001b[34m\u001b[1mTuner: \u001b[0mStarting iteration 20/50 with hyperparameters: {'lr0': 0.01031, 'lrf': 0.00683, 'momentum': 0.86547, 'weight_decay': 0.00046, 'warmup_epochs': 2.9163, 'warmup_momentum': 0.85805, 'box': 8.37557, 'cls': 0.63592, 'dfl': 1.72537, 'hsv_h': 0.01049, 'hsv_s': 0.71568, 'hsv_v': 0.48433, 'degrees': 0.0, 'translate': 0.10324, 'scale': 0.37495, 'shear': 0.0, 'perspective': 0.0, 'flipud': 0.0, 'fliplr': 0.45178, 'mosaic': 0.8623, 'mixup': 0.0, 'copy_paste': 0.0}\n",
      "Saved runs\\segment\\tune7\\tune_scatter_plots.png\n",
      "Saved runs\\segment\\tune7\\tune_fitness.png\n",
      "\n",
      "\u001b[34m\u001b[1mTuner: \u001b[0m20/50 iterations complete ✅ (13172.69s)\n",
      "\u001b[34m\u001b[1mTuner: \u001b[0mResults saved to \u001b[1mruns\\segment\\tune7\u001b[0m\n",
      "\u001b[34m\u001b[1mTuner: \u001b[0mBest fitness=0.5545 observed at iteration 17\n",
      "\u001b[34m\u001b[1mTuner: \u001b[0mBest fitness metrics are {'metrics/precision(B)': 0.7171, 'metrics/recall(B)': 0.33635, 'metrics/mAP50(B)': 0.37225, 'metrics/mAP50-95(B)': 0.28541, 'metrics/precision(M)': 0.7279, 'metrics/recall(M)': 0.32559, 'metrics/mAP50(M)': 0.36009, 'metrics/mAP50-95(M)': 0.24933, 'val/box_loss': 1.41602, 'val/seg_loss': 3.11319, 'val/cls_loss': 1.90965, 'val/dfl_loss': 1.40537, 'fitness': 0.5545}\n",
      "\u001b[34m\u001b[1mTuner: \u001b[0mBest fitness model is runs\\segment\\train31\n",
      "\u001b[34m\u001b[1mTuner: \u001b[0mBest fitness hyperparameters are printed below.\n",
      "\n",
      "Printing '\u001b[1m\u001b[30mruns\\segment\\tune7\\best_hyperparameters.yaml\u001b[0m'\n",
      "\n",
      "lr0: 0.01031\n",
      "lrf: 0.00683\n",
      "momentum: 0.87584\n",
      "weight_decay: 0.00046\n",
      "warmup_epochs: 3.22064\n",
      "warmup_momentum: 0.8256\n",
      "box: 8.68102\n",
      "cls: 0.61381\n",
      "dfl: 1.72537\n",
      "hsv_h: 0.0129\n",
      "hsv_s: 0.67816\n",
      "hsv_v: 0.46399\n",
      "degrees: 0.0\n",
      "translate: 0.1\n",
      "scale: 0.36326\n",
      "shear: 0.0\n",
      "perspective: 0.0\n",
      "flipud: 0.0\n",
      "fliplr: 0.39105\n",
      "mosaic: 0.82633\n",
      "mixup: 0.0\n",
      "copy_paste: 0.0\n",
      "\n",
      "\u001b[34m\u001b[1mTuner: \u001b[0mStarting iteration 21/50 with hyperparameters: {'lr0': 0.01031, 'lrf': 0.00676, 'momentum': 0.82527, 'weight_decay': 0.00055, 'warmup_epochs': 3.08445, 'warmup_momentum': 0.92751, 'box': 8.2489, 'cls': 0.68476, 'dfl': 1.06562, 'hsv_h': 0.01573, 'hsv_s': 0.68002, 'hsv_v': 0.3551, 'degrees': 0.0, 'translate': 0.09961, 'scale': 0.23886, 'shear': 0.0, 'perspective': 0.0, 'flipud': 0.0, 'fliplr': 0.39101, 'mosaic': 0.75165, 'mixup': 0.0, 'copy_paste': 0.0}\n",
      "Saved runs\\segment\\tune7\\tune_scatter_plots.png\n",
      "Saved runs\\segment\\tune7\\tune_fitness.png\n",
      "\n",
      "\u001b[34m\u001b[1mTuner: \u001b[0m21/50 iterations complete ✅ (13685.06s)\n",
      "\u001b[34m\u001b[1mTuner: \u001b[0mResults saved to \u001b[1mruns\\segment\\tune7\u001b[0m\n",
      "\u001b[34m\u001b[1mTuner: \u001b[0mBest fitness=0.55949 observed at iteration 21\n",
      "\u001b[34m\u001b[1mTuner: \u001b[0mBest fitness metrics are {'metrics/precision(B)': 0.67889, 'metrics/recall(B)': 0.34803, 'metrics/mAP50(B)': 0.37787, 'metrics/mAP50-95(B)': 0.28918, 'metrics/precision(M)': 0.66555, 'metrics/recall(M)': 0.33939, 'metrics/mAP50(M)': 0.36382, 'metrics/mAP50-95(M)': 0.25007, 'val/box_loss': 1.3131, 'val/seg_loss': 2.91663, 'val/cls_loss': 2.07098, 'val/dfl_loss': 0.85829, 'fitness': 0.55949}\n",
      "\u001b[34m\u001b[1mTuner: \u001b[0mBest fitness model is runs\\segment\\train35\n",
      "\u001b[34m\u001b[1mTuner: \u001b[0mBest fitness hyperparameters are printed below.\n",
      "\n",
      "Printing '\u001b[1m\u001b[30mruns\\segment\\tune7\\best_hyperparameters.yaml\u001b[0m'\n",
      "\n",
      "lr0: 0.01031\n",
      "lrf: 0.00676\n",
      "momentum: 0.82527\n",
      "weight_decay: 0.00055\n",
      "warmup_epochs: 3.08445\n",
      "warmup_momentum: 0.92751\n",
      "box: 8.2489\n",
      "cls: 0.68476\n",
      "dfl: 1.06562\n",
      "hsv_h: 0.01573\n",
      "hsv_s: 0.68002\n",
      "hsv_v: 0.3551\n",
      "degrees: 0.0\n",
      "translate: 0.09961\n",
      "scale: 0.23886\n",
      "shear: 0.0\n",
      "perspective: 0.0\n",
      "flipud: 0.0\n",
      "fliplr: 0.39101\n",
      "mosaic: 0.75165\n",
      "mixup: 0.0\n",
      "copy_paste: 0.0\n",
      "\n",
      "\u001b[34m\u001b[1mTuner: \u001b[0mStarting iteration 22/50 with hyperparameters: {'lr0': 0.01031, 'lrf': 0.00677, 'momentum': 0.82253, 'weight_decay': 0.00047, 'warmup_epochs': 2.21877, 'warmup_momentum': 0.95, 'box': 5.24807, 'cls': 0.5665, 'dfl': 1.6792, 'hsv_h': 0.01705, 'hsv_s': 0.63475, 'hsv_v': 0.27226, 'degrees': 0.0, 'translate': 0.0928, 'scale': 0.31444, 'shear': 0.0, 'perspective': 0.0, 'flipud': 0.0, 'fliplr': 0.40505, 'mosaic': 0.83778, 'mixup': 0.0, 'copy_paste': 0.0}\n",
      "Saved runs\\segment\\tune7\\tune_scatter_plots.png\n",
      "Saved runs\\segment\\tune7\\tune_fitness.png\n",
      "\n",
      "\u001b[34m\u001b[1mTuner: \u001b[0m22/50 iterations complete ✅ (14195.11s)\n",
      "\u001b[34m\u001b[1mTuner: \u001b[0mResults saved to \u001b[1mruns\\segment\\tune7\u001b[0m\n",
      "\u001b[34m\u001b[1mTuner: \u001b[0mBest fitness=0.55949 observed at iteration 21\n",
      "\u001b[34m\u001b[1mTuner: \u001b[0mBest fitness metrics are {'metrics/precision(B)': 0.67889, 'metrics/recall(B)': 0.34803, 'metrics/mAP50(B)': 0.37787, 'metrics/mAP50-95(B)': 0.28918, 'metrics/precision(M)': 0.66555, 'metrics/recall(M)': 0.33939, 'metrics/mAP50(M)': 0.36382, 'metrics/mAP50-95(M)': 0.25007, 'val/box_loss': 1.3131, 'val/seg_loss': 2.91663, 'val/cls_loss': 2.07098, 'val/dfl_loss': 0.85829, 'fitness': 0.55949}\n",
      "\u001b[34m\u001b[1mTuner: \u001b[0mBest fitness model is runs\\segment\\train35\n",
      "\u001b[34m\u001b[1mTuner: \u001b[0mBest fitness hyperparameters are printed below.\n",
      "\n",
      "Printing '\u001b[1m\u001b[30mruns\\segment\\tune7\\best_hyperparameters.yaml\u001b[0m'\n",
      "\n",
      "lr0: 0.01031\n",
      "lrf: 0.00676\n",
      "momentum: 0.82527\n",
      "weight_decay: 0.00055\n",
      "warmup_epochs: 3.08445\n",
      "warmup_momentum: 0.92751\n",
      "box: 8.2489\n",
      "cls: 0.68476\n",
      "dfl: 1.06562\n",
      "hsv_h: 0.01573\n",
      "hsv_s: 0.68002\n",
      "hsv_v: 0.3551\n",
      "degrees: 0.0\n",
      "translate: 0.09961\n",
      "scale: 0.23886\n",
      "shear: 0.0\n",
      "perspective: 0.0\n",
      "flipud: 0.0\n",
      "fliplr: 0.39101\n",
      "mosaic: 0.75165\n",
      "mixup: 0.0\n",
      "copy_paste: 0.0\n",
      "\n",
      "\u001b[34m\u001b[1mTuner: \u001b[0mStarting iteration 23/50 with hyperparameters: {'lr0': 0.01031, 'lrf': 0.00633, 'momentum': 0.83093, 'weight_decay': 0.0005, 'warmup_epochs': 2.88097, 'warmup_momentum': 0.90277, 'box': 6.19638, 'cls': 0.60916, 'dfl': 1.59168, 'hsv_h': 0.01372, 'hsv_s': 0.58928, 'hsv_v': 0.3844, 'degrees': 0.0, 'translate': 0.07933, 'scale': 0.30891, 'shear': 0.0, 'perspective': 0.0, 'flipud': 0.0, 'fliplr': 0.41833, 'mosaic': 1.0, 'mixup': 0.0, 'copy_paste': 0.0}\n",
      "Saved runs\\segment\\tune7\\tune_scatter_plots.png\n",
      "Saved runs\\segment\\tune7\\tune_fitness.png\n",
      "\n",
      "\u001b[34m\u001b[1mTuner: \u001b[0m23/50 iterations complete ✅ (14708.32s)\n",
      "\u001b[34m\u001b[1mTuner: \u001b[0mResults saved to \u001b[1mruns\\segment\\tune7\u001b[0m\n",
      "\u001b[34m\u001b[1mTuner: \u001b[0mBest fitness=0.55949 observed at iteration 21\n",
      "\u001b[34m\u001b[1mTuner: \u001b[0mBest fitness metrics are {'metrics/precision(B)': 0.67889, 'metrics/recall(B)': 0.34803, 'metrics/mAP50(B)': 0.37787, 'metrics/mAP50-95(B)': 0.28918, 'metrics/precision(M)': 0.66555, 'metrics/recall(M)': 0.33939, 'metrics/mAP50(M)': 0.36382, 'metrics/mAP50-95(M)': 0.25007, 'val/box_loss': 1.3131, 'val/seg_loss': 2.91663, 'val/cls_loss': 2.07098, 'val/dfl_loss': 0.85829, 'fitness': 0.55949}\n",
      "\u001b[34m\u001b[1mTuner: \u001b[0mBest fitness model is runs\\segment\\train35\n",
      "\u001b[34m\u001b[1mTuner: \u001b[0mBest fitness hyperparameters are printed below.\n",
      "\n",
      "Printing '\u001b[1m\u001b[30mruns\\segment\\tune7\\best_hyperparameters.yaml\u001b[0m'\n",
      "\n",
      "lr0: 0.01031\n",
      "lrf: 0.00676\n",
      "momentum: 0.82527\n",
      "weight_decay: 0.00055\n",
      "warmup_epochs: 3.08445\n",
      "warmup_momentum: 0.92751\n",
      "box: 8.2489\n",
      "cls: 0.68476\n",
      "dfl: 1.06562\n",
      "hsv_h: 0.01573\n",
      "hsv_s: 0.68002\n",
      "hsv_v: 0.3551\n",
      "degrees: 0.0\n",
      "translate: 0.09961\n",
      "scale: 0.23886\n",
      "shear: 0.0\n",
      "perspective: 0.0\n",
      "flipud: 0.0\n",
      "fliplr: 0.39101\n",
      "mosaic: 0.75165\n",
      "mixup: 0.0\n",
      "copy_paste: 0.0\n",
      "\n",
      "\u001b[34m\u001b[1mTuner: \u001b[0mStarting iteration 24/50 with hyperparameters: {'lr0': 0.01067, 'lrf': 0.00697, 'momentum': 0.83458, 'weight_decay': 0.00056, 'warmup_epochs': 3.08412, 'warmup_momentum': 0.90994, 'box': 8.55471, 'cls': 0.65598, 'dfl': 1.05193, 'hsv_h': 0.01573, 'hsv_s': 0.68002, 'hsv_v': 0.3482, 'degrees': 0.0, 'translate': 0.10097, 'scale': 0.23531, 'shear': 0.0, 'perspective': 0.0, 'flipud': 0.0, 'fliplr': 0.39698, 'mosaic': 0.7652, 'mixup': 0.0, 'copy_paste': 0.0}\n",
      "Saved runs\\segment\\tune7\\tune_scatter_plots.png\n",
      "Saved runs\\segment\\tune7\\tune_fitness.png\n",
      "\n",
      "\u001b[34m\u001b[1mTuner: \u001b[0m24/50 iterations complete ✅ (15219.55s)\n",
      "\u001b[34m\u001b[1mTuner: \u001b[0mResults saved to \u001b[1mruns\\segment\\tune7\u001b[0m\n",
      "\u001b[34m\u001b[1mTuner: \u001b[0mBest fitness=0.55949 observed at iteration 21\n",
      "\u001b[34m\u001b[1mTuner: \u001b[0mBest fitness metrics are {'metrics/precision(B)': 0.67889, 'metrics/recall(B)': 0.34803, 'metrics/mAP50(B)': 0.37787, 'metrics/mAP50-95(B)': 0.28918, 'metrics/precision(M)': 0.66555, 'metrics/recall(M)': 0.33939, 'metrics/mAP50(M)': 0.36382, 'metrics/mAP50-95(M)': 0.25007, 'val/box_loss': 1.3131, 'val/seg_loss': 2.91663, 'val/cls_loss': 2.07098, 'val/dfl_loss': 0.85829, 'fitness': 0.55949}\n",
      "\u001b[34m\u001b[1mTuner: \u001b[0mBest fitness model is runs\\segment\\train35\n",
      "\u001b[34m\u001b[1mTuner: \u001b[0mBest fitness hyperparameters are printed below.\n",
      "\n",
      "Printing '\u001b[1m\u001b[30mruns\\segment\\tune7\\best_hyperparameters.yaml\u001b[0m'\n",
      "\n",
      "lr0: 0.01031\n",
      "lrf: 0.00676\n",
      "momentum: 0.82527\n",
      "weight_decay: 0.00055\n",
      "warmup_epochs: 3.08445\n",
      "warmup_momentum: 0.92751\n",
      "box: 8.2489\n",
      "cls: 0.68476\n",
      "dfl: 1.06562\n",
      "hsv_h: 0.01573\n",
      "hsv_s: 0.68002\n",
      "hsv_v: 0.3551\n",
      "degrees: 0.0\n",
      "translate: 0.09961\n",
      "scale: 0.23886\n",
      "shear: 0.0\n",
      "perspective: 0.0\n",
      "flipud: 0.0\n",
      "fliplr: 0.39101\n",
      "mosaic: 0.75165\n",
      "mixup: 0.0\n",
      "copy_paste: 0.0\n",
      "\n",
      "\u001b[34m\u001b[1mTuner: \u001b[0mStarting iteration 25/50 with hyperparameters: {'lr0': 0.0097, 'lrf': 0.00676, 'momentum': 0.8054, 'weight_decay': 0.00059, 'warmup_epochs': 3.08445, 'warmup_momentum': 0.95, 'box': 8.07497, 'cls': 0.61839, 'dfl': 0.95084, 'hsv_h': 0.01573, 'hsv_s': 0.81571, 'hsv_v': 0.3551, 'degrees': 0.0, 'translate': 0.09527, 'scale': 0.2164, 'shear': 0.0, 'perspective': 0.0, 'flipud': 0.0, 'fliplr': 0.45303, 'mosaic': 0.90383, 'mixup': 0.0, 'copy_paste': 0.0}\n",
      "Saved runs\\segment\\tune7\\tune_scatter_plots.png\n",
      "Saved runs\\segment\\tune7\\tune_fitness.png\n",
      "\n",
      "\u001b[34m\u001b[1mTuner: \u001b[0m25/50 iterations complete ✅ (15731.75s)\n",
      "\u001b[34m\u001b[1mTuner: \u001b[0mResults saved to \u001b[1mruns\\segment\\tune7\u001b[0m\n",
      "\u001b[34m\u001b[1mTuner: \u001b[0mBest fitness=0.55949 observed at iteration 21\n",
      "\u001b[34m\u001b[1mTuner: \u001b[0mBest fitness metrics are {'metrics/precision(B)': 0.67889, 'metrics/recall(B)': 0.34803, 'metrics/mAP50(B)': 0.37787, 'metrics/mAP50-95(B)': 0.28918, 'metrics/precision(M)': 0.66555, 'metrics/recall(M)': 0.33939, 'metrics/mAP50(M)': 0.36382, 'metrics/mAP50-95(M)': 0.25007, 'val/box_loss': 1.3131, 'val/seg_loss': 2.91663, 'val/cls_loss': 2.07098, 'val/dfl_loss': 0.85829, 'fitness': 0.55949}\n",
      "\u001b[34m\u001b[1mTuner: \u001b[0mBest fitness model is runs\\segment\\train35\n",
      "\u001b[34m\u001b[1mTuner: \u001b[0mBest fitness hyperparameters are printed below.\n",
      "\n",
      "Printing '\u001b[1m\u001b[30mruns\\segment\\tune7\\best_hyperparameters.yaml\u001b[0m'\n",
      "\n",
      "lr0: 0.01031\n",
      "lrf: 0.00676\n",
      "momentum: 0.82527\n",
      "weight_decay: 0.00055\n",
      "warmup_epochs: 3.08445\n",
      "warmup_momentum: 0.92751\n",
      "box: 8.2489\n",
      "cls: 0.68476\n",
      "dfl: 1.06562\n",
      "hsv_h: 0.01573\n",
      "hsv_s: 0.68002\n",
      "hsv_v: 0.3551\n",
      "degrees: 0.0\n",
      "translate: 0.09961\n",
      "scale: 0.23886\n",
      "shear: 0.0\n",
      "perspective: 0.0\n",
      "flipud: 0.0\n",
      "fliplr: 0.39101\n",
      "mosaic: 0.75165\n",
      "mixup: 0.0\n",
      "copy_paste: 0.0\n",
      "\n",
      "\u001b[34m\u001b[1mTuner: \u001b[0mStarting iteration 26/50 with hyperparameters: {'lr0': 0.01031, 'lrf': 0.00448, 'momentum': 0.82439, 'weight_decay': 0.00051, 'warmup_epochs': 3.06492, 'warmup_momentum': 0.95, 'box': 9.31463, 'cls': 0.58177, 'dfl': 1.30815, 'hsv_h': 0.01641, 'hsv_s': 0.72925, 'hsv_v': 0.37959, 'degrees': 0.0, 'translate': 0.09274, 'scale': 0.21105, 'shear': 0.0, 'perspective': 0.0, 'flipud': 0.0, 'fliplr': 0.39101, 'mosaic': 0.78589, 'mixup': 0.0, 'copy_paste': 0.0}\n",
      "Saved runs\\segment\\tune7\\tune_scatter_plots.png\n",
      "Saved runs\\segment\\tune7\\tune_fitness.png\n",
      "\n",
      "\u001b[34m\u001b[1mTuner: \u001b[0m26/50 iterations complete ✅ (16245.91s)\n",
      "\u001b[34m\u001b[1mTuner: \u001b[0mResults saved to \u001b[1mruns\\segment\\tune7\u001b[0m\n",
      "\u001b[34m\u001b[1mTuner: \u001b[0mBest fitness=0.55988 observed at iteration 26\n",
      "\u001b[34m\u001b[1mTuner: \u001b[0mBest fitness metrics are {'metrics/precision(B)': 0.68123, 'metrics/recall(B)': 0.34655, 'metrics/mAP50(B)': 0.37417, 'metrics/mAP50-95(B)': 0.28787, 'metrics/precision(M)': 0.66219, 'metrics/recall(M)': 0.34074, 'metrics/mAP50(M)': 0.36279, 'metrics/mAP50-95(M)': 0.25233, 'val/box_loss': 1.47037, 'val/seg_loss': 3.22682, 'val/cls_loss': 1.76576, 'val/dfl_loss': 1.04693, 'fitness': 0.55988}\n",
      "\u001b[34m\u001b[1mTuner: \u001b[0mBest fitness model is runs\\segment\\train40\n",
      "\u001b[34m\u001b[1mTuner: \u001b[0mBest fitness hyperparameters are printed below.\n",
      "\n",
      "Printing '\u001b[1m\u001b[30mruns\\segment\\tune7\\best_hyperparameters.yaml\u001b[0m'\n",
      "\n",
      "lr0: 0.01031\n",
      "lrf: 0.00448\n",
      "momentum: 0.82439\n",
      "weight_decay: 0.00051\n",
      "warmup_epochs: 3.06492\n",
      "warmup_momentum: 0.95\n",
      "box: 9.31463\n",
      "cls: 0.58177\n",
      "dfl: 1.30815\n",
      "hsv_h: 0.01641\n",
      "hsv_s: 0.72925\n",
      "hsv_v: 0.37959\n",
      "degrees: 0.0\n",
      "translate: 0.09274\n",
      "scale: 0.21105\n",
      "shear: 0.0\n",
      "perspective: 0.0\n",
      "flipud: 0.0\n",
      "fliplr: 0.39101\n",
      "mosaic: 0.78589\n",
      "mixup: 0.0\n",
      "copy_paste: 0.0\n",
      "\n",
      "\u001b[34m\u001b[1mTuner: \u001b[0mStarting iteration 27/50 with hyperparameters: {'lr0': 0.01016, 'lrf': 0.00444, 'momentum': 0.82208, 'weight_decay': 0.00051, 'warmup_epochs': 3.08281, 'warmup_momentum': 0.92462, 'box': 9.31441, 'cls': 0.57656, 'dfl': 1.3122, 'hsv_h': 0.01641, 'hsv_s': 0.72878, 'hsv_v': 0.37829, 'degrees': 0.0, 'translate': 0.09274, 'scale': 0.20969, 'shear': 0.0, 'perspective': 0.0, 'flipud': 0.0, 'fliplr': 0.38889, 'mosaic': 0.78589, 'mixup': 0.0, 'copy_paste': 0.0}\n",
      "Saved runs\\segment\\tune7\\tune_scatter_plots.png\n",
      "Saved runs\\segment\\tune7\\tune_fitness.png\n",
      "\n",
      "\u001b[34m\u001b[1mTuner: \u001b[0m27/50 iterations complete ✅ (16758.53s)\n",
      "\u001b[34m\u001b[1mTuner: \u001b[0mResults saved to \u001b[1mruns\\segment\\tune7\u001b[0m\n",
      "\u001b[34m\u001b[1mTuner: \u001b[0mBest fitness=0.56616 observed at iteration 27\n",
      "\u001b[34m\u001b[1mTuner: \u001b[0mBest fitness metrics are {'metrics/precision(B)': 0.68626, 'metrics/recall(B)': 0.34806, 'metrics/mAP50(B)': 0.37996, 'metrics/mAP50-95(B)': 0.29178, 'metrics/precision(M)': 0.67684, 'metrics/recall(M)': 0.3413, 'metrics/mAP50(M)': 0.36791, 'metrics/mAP50-95(M)': 0.2542, 'val/box_loss': 1.48045, 'val/seg_loss': 3.27164, 'val/cls_loss': 1.74521, 'val/dfl_loss': 1.04894, 'fitness': 0.56616}\n",
      "\u001b[34m\u001b[1mTuner: \u001b[0mBest fitness model is runs\\segment\\train41\n",
      "\u001b[34m\u001b[1mTuner: \u001b[0mBest fitness hyperparameters are printed below.\n",
      "\n",
      "Printing '\u001b[1m\u001b[30mruns\\segment\\tune7\\best_hyperparameters.yaml\u001b[0m'\n",
      "\n",
      "lr0: 0.01016\n",
      "lrf: 0.00444\n",
      "momentum: 0.82208\n",
      "weight_decay: 0.00051\n",
      "warmup_epochs: 3.08281\n",
      "warmup_momentum: 0.92462\n",
      "box: 9.31441\n",
      "cls: 0.57656\n",
      "dfl: 1.3122\n",
      "hsv_h: 0.01641\n",
      "hsv_s: 0.72878\n",
      "hsv_v: 0.37829\n",
      "degrees: 0.0\n",
      "translate: 0.09274\n",
      "scale: 0.20969\n",
      "shear: 0.0\n",
      "perspective: 0.0\n",
      "flipud: 0.0\n",
      "fliplr: 0.38889\n",
      "mosaic: 0.78589\n",
      "mixup: 0.0\n",
      "copy_paste: 0.0\n",
      "\n",
      "\u001b[34m\u001b[1mTuner: \u001b[0mStarting iteration 28/50 with hyperparameters: {'lr0': 0.01086, 'lrf': 0.00439, 'momentum': 0.84606, 'weight_decay': 0.00046, 'warmup_epochs': 3.08281, 'warmup_momentum': 0.92462, 'box': 9.04304, 'cls': 0.54591, 'dfl': 1.28918, 'hsv_h': 0.01633, 'hsv_s': 0.78175, 'hsv_v': 0.3572, 'degrees': 0.0, 'translate': 0.09068, 'scale': 0.21601, 'shear': 0.0, 'perspective': 0.0, 'flipud': 0.0, 'fliplr': 0.38519, 'mosaic': 0.73962, 'mixup': 0.0, 'copy_paste': 0.0}\n",
      "Saved runs\\segment\\tune7\\tune_scatter_plots.png\n",
      "Saved runs\\segment\\tune7\\tune_fitness.png\n",
      "\n",
      "\u001b[34m\u001b[1mTuner: \u001b[0m28/50 iterations complete ✅ (17273.80s)\n",
      "\u001b[34m\u001b[1mTuner: \u001b[0mResults saved to \u001b[1mruns\\segment\\tune7\u001b[0m\n",
      "\u001b[34m\u001b[1mTuner: \u001b[0mBest fitness=0.56616 observed at iteration 27\n",
      "\u001b[34m\u001b[1mTuner: \u001b[0mBest fitness metrics are {'metrics/precision(B)': 0.68626, 'metrics/recall(B)': 0.34806, 'metrics/mAP50(B)': 0.37996, 'metrics/mAP50-95(B)': 0.29178, 'metrics/precision(M)': 0.67684, 'metrics/recall(M)': 0.3413, 'metrics/mAP50(M)': 0.36791, 'metrics/mAP50-95(M)': 0.2542, 'val/box_loss': 1.48045, 'val/seg_loss': 3.27164, 'val/cls_loss': 1.74521, 'val/dfl_loss': 1.04894, 'fitness': 0.56616}\n",
      "\u001b[34m\u001b[1mTuner: \u001b[0mBest fitness model is runs\\segment\\train41\n",
      "\u001b[34m\u001b[1mTuner: \u001b[0mBest fitness hyperparameters are printed below.\n",
      "\n",
      "Printing '\u001b[1m\u001b[30mruns\\segment\\tune7\\best_hyperparameters.yaml\u001b[0m'\n",
      "\n",
      "lr0: 0.01016\n",
      "lrf: 0.00444\n",
      "momentum: 0.82208\n",
      "weight_decay: 0.00051\n",
      "warmup_epochs: 3.08281\n",
      "warmup_momentum: 0.92462\n",
      "box: 9.31441\n",
      "cls: 0.57656\n",
      "dfl: 1.3122\n",
      "hsv_h: 0.01641\n",
      "hsv_s: 0.72878\n",
      "hsv_v: 0.37829\n",
      "degrees: 0.0\n",
      "translate: 0.09274\n",
      "scale: 0.20969\n",
      "shear: 0.0\n",
      "perspective: 0.0\n",
      "flipud: 0.0\n",
      "fliplr: 0.38889\n",
      "mosaic: 0.78589\n",
      "mixup: 0.0\n",
      "copy_paste: 0.0\n",
      "\n",
      "\u001b[34m\u001b[1mTuner: \u001b[0mStarting iteration 29/50 with hyperparameters: {'lr0': 0.01028, 'lrf': 0.00676, 'momentum': 0.86856, 'weight_decay': 0.00055, 'warmup_epochs': 2.83037, 'warmup_momentum': 0.88986, 'box': 8.49706, 'cls': 0.65037, 'dfl': 1.06562, 'hsv_h': 0.01573, 'hsv_s': 0.69651, 'hsv_v': 0.35291, 'degrees': 0.0, 'translate': 0.09961, 'scale': 0.23886, 'shear': 0.0, 'perspective': 0.0, 'flipud': 0.0, 'fliplr': 0.39101, 'mosaic': 0.75165, 'mixup': 0.0, 'copy_paste': 0.0}\n",
      "Saved runs\\segment\\tune7\\tune_scatter_plots.png\n",
      "Saved runs\\segment\\tune7\\tune_fitness.png\n",
      "\n",
      "\u001b[34m\u001b[1mTuner: \u001b[0m29/50 iterations complete ✅ (17784.72s)\n",
      "\u001b[34m\u001b[1mTuner: \u001b[0mResults saved to \u001b[1mruns\\segment\\tune7\u001b[0m\n",
      "\u001b[34m\u001b[1mTuner: \u001b[0mBest fitness=0.56616 observed at iteration 27\n",
      "\u001b[34m\u001b[1mTuner: \u001b[0mBest fitness metrics are {'metrics/precision(B)': 0.68626, 'metrics/recall(B)': 0.34806, 'metrics/mAP50(B)': 0.37996, 'metrics/mAP50-95(B)': 0.29178, 'metrics/precision(M)': 0.67684, 'metrics/recall(M)': 0.3413, 'metrics/mAP50(M)': 0.36791, 'metrics/mAP50-95(M)': 0.2542, 'val/box_loss': 1.48045, 'val/seg_loss': 3.27164, 'val/cls_loss': 1.74521, 'val/dfl_loss': 1.04894, 'fitness': 0.56616}\n",
      "\u001b[34m\u001b[1mTuner: \u001b[0mBest fitness model is runs\\segment\\train41\n",
      "\u001b[34m\u001b[1mTuner: \u001b[0mBest fitness hyperparameters are printed below.\n",
      "\n",
      "Printing '\u001b[1m\u001b[30mruns\\segment\\tune7\\best_hyperparameters.yaml\u001b[0m'\n",
      "\n",
      "lr0: 0.01016\n",
      "lrf: 0.00444\n",
      "momentum: 0.82208\n",
      "weight_decay: 0.00051\n",
      "warmup_epochs: 3.08281\n",
      "warmup_momentum: 0.92462\n",
      "box: 9.31441\n",
      "cls: 0.57656\n",
      "dfl: 1.3122\n",
      "hsv_h: 0.01641\n",
      "hsv_s: 0.72878\n",
      "hsv_v: 0.37829\n",
      "degrees: 0.0\n",
      "translate: 0.09274\n",
      "scale: 0.20969\n",
      "shear: 0.0\n",
      "perspective: 0.0\n",
      "flipud: 0.0\n",
      "fliplr: 0.38889\n",
      "mosaic: 0.78589\n",
      "mixup: 0.0\n",
      "copy_paste: 0.0\n",
      "\n",
      "\u001b[34m\u001b[1mTuner: \u001b[0mStarting iteration 30/50 with hyperparameters: {'lr0': 0.00999, 'lrf': 0.00407, 'momentum': 0.82377, 'weight_decay': 0.00051, 'warmup_epochs': 3.08281, 'warmup_momentum': 0.92462, 'box': 9.20355, 'cls': 0.57656, 'dfl': 1.33657, 'hsv_h': 0.01609, 'hsv_s': 0.7178, 'hsv_v': 0.36767, 'degrees': 0.0, 'translate': 0.08718, 'scale': 0.21123, 'shear': 0.0, 'perspective': 0.0, 'flipud': 0.0, 'fliplr': 0.38889, 'mosaic': 0.7682, 'mixup': 0.0, 'copy_paste': 0.0}\n",
      "Saved runs\\segment\\tune7\\tune_scatter_plots.png\n",
      "Saved runs\\segment\\tune7\\tune_fitness.png\n",
      "\n",
      "\u001b[34m\u001b[1mTuner: \u001b[0m30/50 iterations complete ✅ (18296.66s)\n",
      "\u001b[34m\u001b[1mTuner: \u001b[0mResults saved to \u001b[1mruns\\segment\\tune7\u001b[0m\n",
      "\u001b[34m\u001b[1mTuner: \u001b[0mBest fitness=0.56616 observed at iteration 27\n",
      "\u001b[34m\u001b[1mTuner: \u001b[0mBest fitness metrics are {'metrics/precision(B)': 0.68626, 'metrics/recall(B)': 0.34806, 'metrics/mAP50(B)': 0.37996, 'metrics/mAP50-95(B)': 0.29178, 'metrics/precision(M)': 0.67684, 'metrics/recall(M)': 0.3413, 'metrics/mAP50(M)': 0.36791, 'metrics/mAP50-95(M)': 0.2542, 'val/box_loss': 1.48045, 'val/seg_loss': 3.27164, 'val/cls_loss': 1.74521, 'val/dfl_loss': 1.04894, 'fitness': 0.56616}\n",
      "\u001b[34m\u001b[1mTuner: \u001b[0mBest fitness model is runs\\segment\\train41\n",
      "\u001b[34m\u001b[1mTuner: \u001b[0mBest fitness hyperparameters are printed below.\n",
      "\n",
      "Printing '\u001b[1m\u001b[30mruns\\segment\\tune7\\best_hyperparameters.yaml\u001b[0m'\n",
      "\n",
      "lr0: 0.01016\n",
      "lrf: 0.00444\n",
      "momentum: 0.82208\n",
      "weight_decay: 0.00051\n",
      "warmup_epochs: 3.08281\n",
      "warmup_momentum: 0.92462\n",
      "box: 9.31441\n",
      "cls: 0.57656\n",
      "dfl: 1.3122\n",
      "hsv_h: 0.01641\n",
      "hsv_s: 0.72878\n",
      "hsv_v: 0.37829\n",
      "degrees: 0.0\n",
      "translate: 0.09274\n",
      "scale: 0.20969\n",
      "shear: 0.0\n",
      "perspective: 0.0\n",
      "flipud: 0.0\n",
      "fliplr: 0.38889\n",
      "mosaic: 0.78589\n",
      "mixup: 0.0\n",
      "copy_paste: 0.0\n",
      "\n",
      "\u001b[34m\u001b[1mTuner: \u001b[0mStarting iteration 31/50 with hyperparameters: {'lr0': 0.01016, 'lrf': 0.00454, 'momentum': 0.80383, 'weight_decay': 0.00051, 'warmup_epochs': 3.11143, 'warmup_momentum': 0.92577, 'box': 8.72203, 'cls': 0.57656, 'dfl': 1.3122, 'hsv_h': 0.01694, 'hsv_s': 0.72189, 'hsv_v': 0.39684, 'degrees': 0.0, 'translate': 0.09559, 'scale': 0.20969, 'shear': 0.0, 'perspective': 0.0, 'flipud': 0.0, 'fliplr': 0.39533, 'mosaic': 0.81541, 'mixup': 0.0, 'copy_paste': 0.0}\n",
      "Saved runs\\segment\\tune7\\tune_scatter_plots.png\n",
      "Saved runs\\segment\\tune7\\tune_fitness.png\n",
      "\n",
      "\u001b[34m\u001b[1mTuner: \u001b[0m31/50 iterations complete ✅ (18813.55s)\n",
      "\u001b[34m\u001b[1mTuner: \u001b[0mResults saved to \u001b[1mruns\\segment\\tune7\u001b[0m\n",
      "\u001b[34m\u001b[1mTuner: \u001b[0mBest fitness=0.56616 observed at iteration 27\n",
      "\u001b[34m\u001b[1mTuner: \u001b[0mBest fitness metrics are {'metrics/precision(B)': 0.68626, 'metrics/recall(B)': 0.34806, 'metrics/mAP50(B)': 0.37996, 'metrics/mAP50-95(B)': 0.29178, 'metrics/precision(M)': 0.67684, 'metrics/recall(M)': 0.3413, 'metrics/mAP50(M)': 0.36791, 'metrics/mAP50-95(M)': 0.2542, 'val/box_loss': 1.48045, 'val/seg_loss': 3.27164, 'val/cls_loss': 1.74521, 'val/dfl_loss': 1.04894, 'fitness': 0.56616}\n",
      "\u001b[34m\u001b[1mTuner: \u001b[0mBest fitness model is runs\\segment\\train41\n",
      "\u001b[34m\u001b[1mTuner: \u001b[0mBest fitness hyperparameters are printed below.\n",
      "\n",
      "Printing '\u001b[1m\u001b[30mruns\\segment\\tune7\\best_hyperparameters.yaml\u001b[0m'\n",
      "\n",
      "lr0: 0.01016\n",
      "lrf: 0.00444\n",
      "momentum: 0.82208\n",
      "weight_decay: 0.00051\n",
      "warmup_epochs: 3.08281\n",
      "warmup_momentum: 0.92462\n",
      "box: 9.31441\n",
      "cls: 0.57656\n",
      "dfl: 1.3122\n",
      "hsv_h: 0.01641\n",
      "hsv_s: 0.72878\n",
      "hsv_v: 0.37829\n",
      "degrees: 0.0\n",
      "translate: 0.09274\n",
      "scale: 0.20969\n",
      "shear: 0.0\n",
      "perspective: 0.0\n",
      "flipud: 0.0\n",
      "fliplr: 0.38889\n",
      "mosaic: 0.78589\n",
      "mixup: 0.0\n",
      "copy_paste: 0.0\n",
      "\n",
      "\u001b[34m\u001b[1mTuner: \u001b[0mStarting iteration 32/50 with hyperparameters: {'lr0': 0.01082, 'lrf': 0.00444, 'momentum': 0.79952, 'weight_decay': 0.00051, 'warmup_epochs': 3.00726, 'warmup_momentum': 0.86941, 'box': 9.09799, 'cls': 0.54482, 'dfl': 1.27823, 'hsv_h': 0.01798, 'hsv_s': 0.75205, 'hsv_v': 0.38636, 'degrees': 0.0, 'translate': 0.08852, 'scale': 0.21796, 'shear': 0.0, 'perspective': 0.0, 'flipud': 0.0, 'fliplr': 0.38875, 'mosaic': 0.84195, 'mixup': 0.0, 'copy_paste': 0.0}\n",
      "Saved runs\\segment\\tune7\\tune_scatter_plots.png\n",
      "Saved runs\\segment\\tune7\\tune_fitness.png\n",
      "\n",
      "\u001b[34m\u001b[1mTuner: \u001b[0m32/50 iterations complete ✅ (19326.78s)\n",
      "\u001b[34m\u001b[1mTuner: \u001b[0mResults saved to \u001b[1mruns\\segment\\tune7\u001b[0m\n",
      "\u001b[34m\u001b[1mTuner: \u001b[0mBest fitness=0.56616 observed at iteration 27\n",
      "\u001b[34m\u001b[1mTuner: \u001b[0mBest fitness metrics are {'metrics/precision(B)': 0.68626, 'metrics/recall(B)': 0.34806, 'metrics/mAP50(B)': 0.37996, 'metrics/mAP50-95(B)': 0.29178, 'metrics/precision(M)': 0.67684, 'metrics/recall(M)': 0.3413, 'metrics/mAP50(M)': 0.36791, 'metrics/mAP50-95(M)': 0.2542, 'val/box_loss': 1.48045, 'val/seg_loss': 3.27164, 'val/cls_loss': 1.74521, 'val/dfl_loss': 1.04894, 'fitness': 0.56616}\n",
      "\u001b[34m\u001b[1mTuner: \u001b[0mBest fitness model is runs\\segment\\train41\n",
      "\u001b[34m\u001b[1mTuner: \u001b[0mBest fitness hyperparameters are printed below.\n",
      "\n",
      "Printing '\u001b[1m\u001b[30mruns\\segment\\tune7\\best_hyperparameters.yaml\u001b[0m'\n",
      "\n",
      "lr0: 0.01016\n",
      "lrf: 0.00444\n",
      "momentum: 0.82208\n",
      "weight_decay: 0.00051\n",
      "warmup_epochs: 3.08281\n",
      "warmup_momentum: 0.92462\n",
      "box: 9.31441\n",
      "cls: 0.57656\n",
      "dfl: 1.3122\n",
      "hsv_h: 0.01641\n",
      "hsv_s: 0.72878\n",
      "hsv_v: 0.37829\n",
      "degrees: 0.0\n",
      "translate: 0.09274\n",
      "scale: 0.20969\n",
      "shear: 0.0\n",
      "perspective: 0.0\n",
      "flipud: 0.0\n",
      "fliplr: 0.38889\n",
      "mosaic: 0.78589\n",
      "mixup: 0.0\n",
      "copy_paste: 0.0\n",
      "\n",
      "\u001b[34m\u001b[1mTuner: \u001b[0mStarting iteration 33/50 with hyperparameters: {'lr0': 0.00959, 'lrf': 0.00448, 'momentum': 0.82208, 'weight_decay': 0.00051, 'warmup_epochs': 3.01618, 'warmup_momentum': 0.92455, 'box': 9.59398, 'cls': 0.61612, 'dfl': 1.3122, 'hsv_h': 0.01576, 'hsv_s': 0.74332, 'hsv_v': 0.35769, 'degrees': 0.0, 'translate': 0.09274, 'scale': 0.20969, 'shear': 0.0, 'perspective': 0.0, 'flipud': 0.0, 'fliplr': 0.37619, 'mosaic': 0.78589, 'mixup': 0.0, 'copy_paste': 0.0}\n",
      "Saved runs\\segment\\tune7\\tune_scatter_plots.png\n",
      "Saved runs\\segment\\tune7\\tune_fitness.png\n",
      "\n",
      "\u001b[34m\u001b[1mTuner: \u001b[0m33/50 iterations complete ✅ (19840.10s)\n",
      "\u001b[34m\u001b[1mTuner: \u001b[0mResults saved to \u001b[1mruns\\segment\\tune7\u001b[0m\n",
      "\u001b[34m\u001b[1mTuner: \u001b[0mBest fitness=0.56616 observed at iteration 27\n",
      "\u001b[34m\u001b[1mTuner: \u001b[0mBest fitness metrics are {'metrics/precision(B)': 0.68626, 'metrics/recall(B)': 0.34806, 'metrics/mAP50(B)': 0.37996, 'metrics/mAP50-95(B)': 0.29178, 'metrics/precision(M)': 0.67684, 'metrics/recall(M)': 0.3413, 'metrics/mAP50(M)': 0.36791, 'metrics/mAP50-95(M)': 0.2542, 'val/box_loss': 1.48045, 'val/seg_loss': 3.27164, 'val/cls_loss': 1.74521, 'val/dfl_loss': 1.04894, 'fitness': 0.56616}\n",
      "\u001b[34m\u001b[1mTuner: \u001b[0mBest fitness model is runs\\segment\\train41\n",
      "\u001b[34m\u001b[1mTuner: \u001b[0mBest fitness hyperparameters are printed below.\n",
      "\n",
      "Printing '\u001b[1m\u001b[30mruns\\segment\\tune7\\best_hyperparameters.yaml\u001b[0m'\n",
      "\n",
      "lr0: 0.01016\n",
      "lrf: 0.00444\n",
      "momentum: 0.82208\n",
      "weight_decay: 0.00051\n",
      "warmup_epochs: 3.08281\n",
      "warmup_momentum: 0.92462\n",
      "box: 9.31441\n",
      "cls: 0.57656\n",
      "dfl: 1.3122\n",
      "hsv_h: 0.01641\n",
      "hsv_s: 0.72878\n",
      "hsv_v: 0.37829\n",
      "degrees: 0.0\n",
      "translate: 0.09274\n",
      "scale: 0.20969\n",
      "shear: 0.0\n",
      "perspective: 0.0\n",
      "flipud: 0.0\n",
      "fliplr: 0.38889\n",
      "mosaic: 0.78589\n",
      "mixup: 0.0\n",
      "copy_paste: 0.0\n",
      "\n",
      "\u001b[34m\u001b[1mTuner: \u001b[0mStarting iteration 34/50 with hyperparameters: {'lr0': 0.01016, 'lrf': 0.00386, 'momentum': 0.81552, 'weight_decay': 0.00051, 'warmup_epochs': 3.08281, 'warmup_momentum': 0.86092, 'box': 10.82473, 'cls': 0.57656, 'dfl': 1.3122, 'hsv_h': 0.01638, 'hsv_s': 0.70946, 'hsv_v': 0.37302, 'degrees': 0.0, 'translate': 0.0768, 'scale': 0.20969, 'shear': 0.0, 'perspective': 0.0, 'flipud': 0.0, 'fliplr': 0.38889, 'mosaic': 0.78229, 'mixup': 0.0, 'copy_paste': 0.0}\n",
      "Saved runs\\segment\\tune7\\tune_scatter_plots.png\n",
      "Saved runs\\segment\\tune7\\tune_fitness.png\n",
      "\n",
      "\u001b[34m\u001b[1mTuner: \u001b[0m34/50 iterations complete ✅ (20355.74s)\n",
      "\u001b[34m\u001b[1mTuner: \u001b[0mResults saved to \u001b[1mruns\\segment\\tune7\u001b[0m\n",
      "\u001b[34m\u001b[1mTuner: \u001b[0mBest fitness=0.56616 observed at iteration 27\n",
      "\u001b[34m\u001b[1mTuner: \u001b[0mBest fitness metrics are {'metrics/precision(B)': 0.68626, 'metrics/recall(B)': 0.34806, 'metrics/mAP50(B)': 0.37996, 'metrics/mAP50-95(B)': 0.29178, 'metrics/precision(M)': 0.67684, 'metrics/recall(M)': 0.3413, 'metrics/mAP50(M)': 0.36791, 'metrics/mAP50-95(M)': 0.2542, 'val/box_loss': 1.48045, 'val/seg_loss': 3.27164, 'val/cls_loss': 1.74521, 'val/dfl_loss': 1.04894, 'fitness': 0.56616}\n",
      "\u001b[34m\u001b[1mTuner: \u001b[0mBest fitness model is runs\\segment\\train41\n",
      "\u001b[34m\u001b[1mTuner: \u001b[0mBest fitness hyperparameters are printed below.\n",
      "\n",
      "Printing '\u001b[1m\u001b[30mruns\\segment\\tune7\\best_hyperparameters.yaml\u001b[0m'\n",
      "\n",
      "lr0: 0.01016\n",
      "lrf: 0.00444\n",
      "momentum: 0.82208\n",
      "weight_decay: 0.00051\n",
      "warmup_epochs: 3.08281\n",
      "warmup_momentum: 0.92462\n",
      "box: 9.31441\n",
      "cls: 0.57656\n",
      "dfl: 1.3122\n",
      "hsv_h: 0.01641\n",
      "hsv_s: 0.72878\n",
      "hsv_v: 0.37829\n",
      "degrees: 0.0\n",
      "translate: 0.09274\n",
      "scale: 0.20969\n",
      "shear: 0.0\n",
      "perspective: 0.0\n",
      "flipud: 0.0\n",
      "fliplr: 0.38889\n",
      "mosaic: 0.78589\n",
      "mixup: 0.0\n",
      "copy_paste: 0.0\n",
      "\n",
      "\u001b[34m\u001b[1mTuner: \u001b[0mStarting iteration 35/50 with hyperparameters: {'lr0': 0.01041, 'lrf': 0.00455, 'momentum': 0.82702, 'weight_decay': 0.00051, 'warmup_epochs': 3.08281, 'warmup_momentum': 0.8681, 'box': 9.31441, 'cls': 0.62656, 'dfl': 1.4642, 'hsv_h': 0.01475, 'hsv_s': 0.68159, 'hsv_v': 0.37829, 'degrees': 0.0, 'translate': 0.101, 'scale': 0.20493, 'shear': 0.0, 'perspective': 0.0, 'flipud': 0.0, 'fliplr': 0.42131, 'mosaic': 0.81147, 'mixup': 0.0, 'copy_paste': 0.0}\n",
      "Saved runs\\segment\\tune7\\tune_scatter_plots.png\n",
      "Saved runs\\segment\\tune7\\tune_fitness.png\n",
      "\n",
      "\u001b[34m\u001b[1mTuner: \u001b[0m35/50 iterations complete ✅ (20868.96s)\n",
      "\u001b[34m\u001b[1mTuner: \u001b[0mResults saved to \u001b[1mruns\\segment\\tune7\u001b[0m\n",
      "\u001b[34m\u001b[1mTuner: \u001b[0mBest fitness=0.56616 observed at iteration 27\n",
      "\u001b[34m\u001b[1mTuner: \u001b[0mBest fitness metrics are {'metrics/precision(B)': 0.68626, 'metrics/recall(B)': 0.34806, 'metrics/mAP50(B)': 0.37996, 'metrics/mAP50-95(B)': 0.29178, 'metrics/precision(M)': 0.67684, 'metrics/recall(M)': 0.3413, 'metrics/mAP50(M)': 0.36791, 'metrics/mAP50-95(M)': 0.2542, 'val/box_loss': 1.48045, 'val/seg_loss': 3.27164, 'val/cls_loss': 1.74521, 'val/dfl_loss': 1.04894, 'fitness': 0.56616}\n",
      "\u001b[34m\u001b[1mTuner: \u001b[0mBest fitness model is runs\\segment\\train41\n",
      "\u001b[34m\u001b[1mTuner: \u001b[0mBest fitness hyperparameters are printed below.\n",
      "\n",
      "Printing '\u001b[1m\u001b[30mruns\\segment\\tune7\\best_hyperparameters.yaml\u001b[0m'\n",
      "\n",
      "lr0: 0.01016\n",
      "lrf: 0.00444\n",
      "momentum: 0.82208\n",
      "weight_decay: 0.00051\n",
      "warmup_epochs: 3.08281\n",
      "warmup_momentum: 0.92462\n",
      "box: 9.31441\n",
      "cls: 0.57656\n",
      "dfl: 1.3122\n",
      "hsv_h: 0.01641\n",
      "hsv_s: 0.72878\n",
      "hsv_v: 0.37829\n",
      "degrees: 0.0\n",
      "translate: 0.09274\n",
      "scale: 0.20969\n",
      "shear: 0.0\n",
      "perspective: 0.0\n",
      "flipud: 0.0\n",
      "fliplr: 0.38889\n",
      "mosaic: 0.78589\n",
      "mixup: 0.0\n",
      "copy_paste: 0.0\n",
      "\n",
      "\u001b[34m\u001b[1mTuner: \u001b[0mStarting iteration 36/50 with hyperparameters: {'lr0': 0.01125, 'lrf': 0.00439, 'momentum': 0.81, 'weight_decay': 0.00052, 'warmup_epochs': 2.4807, 'warmup_momentum': 0.90372, 'box': 9.25678, 'cls': 0.62377, 'dfl': 1.55666, 'hsv_h': 0.01475, 'hsv_s': 0.68316, 'hsv_v': 0.38192, 'degrees': 0.0, 'translate': 0.10754, 'scale': 0.20493, 'shear': 0.0, 'perspective': 0.0, 'flipud': 0.0, 'fliplr': 0.42622, 'mosaic': 0.81147, 'mixup': 0.0, 'copy_paste': 0.0}\n",
      "Saved runs\\segment\\tune7\\tune_scatter_plots.png\n",
      "Saved runs\\segment\\tune7\\tune_fitness.png\n",
      "\n",
      "\u001b[34m\u001b[1mTuner: \u001b[0m36/50 iterations complete ✅ (21382.69s)\n",
      "\u001b[34m\u001b[1mTuner: \u001b[0mResults saved to \u001b[1mruns\\segment\\tune7\u001b[0m\n",
      "\u001b[34m\u001b[1mTuner: \u001b[0mBest fitness=0.56616 observed at iteration 27\n",
      "\u001b[34m\u001b[1mTuner: \u001b[0mBest fitness metrics are {'metrics/precision(B)': 0.68626, 'metrics/recall(B)': 0.34806, 'metrics/mAP50(B)': 0.37996, 'metrics/mAP50-95(B)': 0.29178, 'metrics/precision(M)': 0.67684, 'metrics/recall(M)': 0.3413, 'metrics/mAP50(M)': 0.36791, 'metrics/mAP50-95(M)': 0.2542, 'val/box_loss': 1.48045, 'val/seg_loss': 3.27164, 'val/cls_loss': 1.74521, 'val/dfl_loss': 1.04894, 'fitness': 0.56616}\n",
      "\u001b[34m\u001b[1mTuner: \u001b[0mBest fitness model is runs\\segment\\train41\n",
      "\u001b[34m\u001b[1mTuner: \u001b[0mBest fitness hyperparameters are printed below.\n",
      "\n",
      "Printing '\u001b[1m\u001b[30mruns\\segment\\tune7\\best_hyperparameters.yaml\u001b[0m'\n",
      "\n",
      "lr0: 0.01016\n",
      "lrf: 0.00444\n",
      "momentum: 0.82208\n",
      "weight_decay: 0.00051\n",
      "warmup_epochs: 3.08281\n",
      "warmup_momentum: 0.92462\n",
      "box: 9.31441\n",
      "cls: 0.57656\n",
      "dfl: 1.3122\n",
      "hsv_h: 0.01641\n",
      "hsv_s: 0.72878\n",
      "hsv_v: 0.37829\n",
      "degrees: 0.0\n",
      "translate: 0.09274\n",
      "scale: 0.20969\n",
      "shear: 0.0\n",
      "perspective: 0.0\n",
      "flipud: 0.0\n",
      "fliplr: 0.38889\n",
      "mosaic: 0.78589\n",
      "mixup: 0.0\n",
      "copy_paste: 0.0\n",
      "\n",
      "\u001b[34m\u001b[1mTuner: \u001b[0mStarting iteration 37/50 with hyperparameters: {'lr0': 0.00934, 'lrf': 0.00471, 'momentum': 0.85219, 'weight_decay': 0.00054, 'warmup_epochs': 3.70495, 'warmup_momentum': 0.94135, 'box': 7.93924, 'cls': 0.56646, 'dfl': 1.15351, 'hsv_h': 0.0137, 'hsv_s': 0.70642, 'hsv_v': 0.29955, 'degrees': 0.0, 'translate': 0.09274, 'scale': 0.20082, 'shear': 0.0, 'perspective': 0.0, 'flipud': 0.0, 'fliplr': 0.40132, 'mosaic': 0.83545, 'mixup': 0.0, 'copy_paste': 0.0}\n",
      "Saved runs\\segment\\tune7\\tune_scatter_plots.png\n",
      "Saved runs\\segment\\tune7\\tune_fitness.png\n",
      "\n",
      "\u001b[34m\u001b[1mTuner: \u001b[0m37/50 iterations complete ✅ (21900.88s)\n",
      "\u001b[34m\u001b[1mTuner: \u001b[0mResults saved to \u001b[1mruns\\segment\\tune7\u001b[0m\n",
      "\u001b[34m\u001b[1mTuner: \u001b[0mBest fitness=0.56616 observed at iteration 27\n",
      "\u001b[34m\u001b[1mTuner: \u001b[0mBest fitness metrics are {'metrics/precision(B)': 0.68626, 'metrics/recall(B)': 0.34806, 'metrics/mAP50(B)': 0.37996, 'metrics/mAP50-95(B)': 0.29178, 'metrics/precision(M)': 0.67684, 'metrics/recall(M)': 0.3413, 'metrics/mAP50(M)': 0.36791, 'metrics/mAP50-95(M)': 0.2542, 'val/box_loss': 1.48045, 'val/seg_loss': 3.27164, 'val/cls_loss': 1.74521, 'val/dfl_loss': 1.04894, 'fitness': 0.56616}\n",
      "\u001b[34m\u001b[1mTuner: \u001b[0mBest fitness model is runs\\segment\\train41\n",
      "\u001b[34m\u001b[1mTuner: \u001b[0mBest fitness hyperparameters are printed below.\n",
      "\n",
      "Printing '\u001b[1m\u001b[30mruns\\segment\\tune7\\best_hyperparameters.yaml\u001b[0m'\n",
      "\n",
      "lr0: 0.01016\n",
      "lrf: 0.00444\n",
      "momentum: 0.82208\n",
      "weight_decay: 0.00051\n",
      "warmup_epochs: 3.08281\n",
      "warmup_momentum: 0.92462\n",
      "box: 9.31441\n",
      "cls: 0.57656\n",
      "dfl: 1.3122\n",
      "hsv_h: 0.01641\n",
      "hsv_s: 0.72878\n",
      "hsv_v: 0.37829\n",
      "degrees: 0.0\n",
      "translate: 0.09274\n",
      "scale: 0.20969\n",
      "shear: 0.0\n",
      "perspective: 0.0\n",
      "flipud: 0.0\n",
      "fliplr: 0.38889\n",
      "mosaic: 0.78589\n",
      "mixup: 0.0\n",
      "copy_paste: 0.0\n",
      "\n",
      "\u001b[34m\u001b[1mTuner: \u001b[0mStarting iteration 38/50 with hyperparameters: {'lr0': 0.00792, 'lrf': 0.0043, 'momentum': 0.82488, 'weight_decay': 0.00058, 'warmup_epochs': 2.91223, 'warmup_momentum': 0.92462, 'box': 8.11029, 'cls': 0.57656, 'dfl': 1.04071, 'hsv_h': 0.01602, 'hsv_s': 0.7638, 'hsv_v': 0.45074, 'degrees': 0.0, 'translate': 0.10374, 'scale': 0.20969, 'shear': 0.0, 'perspective': 0.0, 'flipud': 0.0, 'fliplr': 0.40008, 'mosaic': 0.78589, 'mixup': 0.0, 'copy_paste': 0.0}\n",
      "Saved runs\\segment\\tune7\\tune_scatter_plots.png\n",
      "Saved runs\\segment\\tune7\\tune_fitness.png\n",
      "\n",
      "\u001b[34m\u001b[1mTuner: \u001b[0m38/50 iterations complete ✅ (22412.92s)\n",
      "\u001b[34m\u001b[1mTuner: \u001b[0mResults saved to \u001b[1mruns\\segment\\tune7\u001b[0m\n",
      "\u001b[34m\u001b[1mTuner: \u001b[0mBest fitness=0.56616 observed at iteration 27\n",
      "\u001b[34m\u001b[1mTuner: \u001b[0mBest fitness metrics are {'metrics/precision(B)': 0.68626, 'metrics/recall(B)': 0.34806, 'metrics/mAP50(B)': 0.37996, 'metrics/mAP50-95(B)': 0.29178, 'metrics/precision(M)': 0.67684, 'metrics/recall(M)': 0.3413, 'metrics/mAP50(M)': 0.36791, 'metrics/mAP50-95(M)': 0.2542, 'val/box_loss': 1.48045, 'val/seg_loss': 3.27164, 'val/cls_loss': 1.74521, 'val/dfl_loss': 1.04894, 'fitness': 0.56616}\n",
      "\u001b[34m\u001b[1mTuner: \u001b[0mBest fitness model is runs\\segment\\train41\n",
      "\u001b[34m\u001b[1mTuner: \u001b[0mBest fitness hyperparameters are printed below.\n",
      "\n",
      "Printing '\u001b[1m\u001b[30mruns\\segment\\tune7\\best_hyperparameters.yaml\u001b[0m'\n",
      "\n",
      "lr0: 0.01016\n",
      "lrf: 0.00444\n",
      "momentum: 0.82208\n",
      "weight_decay: 0.00051\n",
      "warmup_epochs: 3.08281\n",
      "warmup_momentum: 0.92462\n",
      "box: 9.31441\n",
      "cls: 0.57656\n",
      "dfl: 1.3122\n",
      "hsv_h: 0.01641\n",
      "hsv_s: 0.72878\n",
      "hsv_v: 0.37829\n",
      "degrees: 0.0\n",
      "translate: 0.09274\n",
      "scale: 0.20969\n",
      "shear: 0.0\n",
      "perspective: 0.0\n",
      "flipud: 0.0\n",
      "fliplr: 0.38889\n",
      "mosaic: 0.78589\n",
      "mixup: 0.0\n",
      "copy_paste: 0.0\n",
      "\n",
      "\u001b[34m\u001b[1mTuner: \u001b[0mStarting iteration 39/50 with hyperparameters: {'lr0': 0.00959, 'lrf': 0.00432, 'momentum': 0.81859, 'weight_decay': 0.00057, 'warmup_epochs': 3.03256, 'warmup_momentum': 0.91713, 'box': 8.78483, 'cls': 0.64256, 'dfl': 1.31027, 'hsv_h': 0.01541, 'hsv_s': 0.7196, 'hsv_v': 0.34939, 'degrees': 0.0, 'translate': 0.09425, 'scale': 0.2063, 'shear': 0.0, 'perspective': 0.0, 'flipud': 0.0, 'fliplr': 0.39258, 'mosaic': 0.79752, 'mixup': 0.0, 'copy_paste': 0.0}\n",
      "Saved runs\\segment\\tune7\\tune_scatter_plots.png\n",
      "Saved runs\\segment\\tune7\\tune_fitness.png\n",
      "\n",
      "\u001b[34m\u001b[1mTuner: \u001b[0m39/50 iterations complete ✅ (22925.46s)\n",
      "\u001b[34m\u001b[1mTuner: \u001b[0mResults saved to \u001b[1mruns\\segment\\tune7\u001b[0m\n",
      "\u001b[34m\u001b[1mTuner: \u001b[0mBest fitness=0.56891 observed at iteration 39\n",
      "\u001b[34m\u001b[1mTuner: \u001b[0mBest fitness metrics are {'metrics/precision(B)': 0.6824, 'metrics/recall(B)': 0.35434, 'metrics/mAP50(B)': 0.38272, 'metrics/mAP50-95(B)': 0.29287, 'metrics/precision(M)': 0.66873, 'metrics/recall(M)': 0.34269, 'metrics/mAP50(M)': 0.36751, 'metrics/mAP50-95(M)': 0.2559, 'val/box_loss': 1.4046, 'val/seg_loss': 3.08973, 'val/cls_loss': 1.93285, 'val/dfl_loss': 1.05, 'fitness': 0.56891}\n",
      "\u001b[34m\u001b[1mTuner: \u001b[0mBest fitness model is runs\\segment\\train53\n",
      "\u001b[34m\u001b[1mTuner: \u001b[0mBest fitness hyperparameters are printed below.\n",
      "\n",
      "Printing '\u001b[1m\u001b[30mruns\\segment\\tune7\\best_hyperparameters.yaml\u001b[0m'\n",
      "\n",
      "lr0: 0.00959\n",
      "lrf: 0.00432\n",
      "momentum: 0.81859\n",
      "weight_decay: 0.00057\n",
      "warmup_epochs: 3.03256\n",
      "warmup_momentum: 0.91713\n",
      "box: 8.78483\n",
      "cls: 0.64256\n",
      "dfl: 1.31027\n",
      "hsv_h: 0.01541\n",
      "hsv_s: 0.7196\n",
      "hsv_v: 0.34939\n",
      "degrees: 0.0\n",
      "translate: 0.09425\n",
      "scale: 0.2063\n",
      "shear: 0.0\n",
      "perspective: 0.0\n",
      "flipud: 0.0\n",
      "fliplr: 0.39258\n",
      "mosaic: 0.79752\n",
      "mixup: 0.0\n",
      "copy_paste: 0.0\n",
      "\n",
      "\u001b[34m\u001b[1mTuner: \u001b[0mStarting iteration 40/50 with hyperparameters: {'lr0': 0.01023, 'lrf': 0.00432, 'momentum': 0.82702, 'weight_decay': 0.00051, 'warmup_epochs': 3.05103, 'warmup_momentum': 0.8681, 'box': 8.91835, 'cls': 0.62656, 'dfl': 1.4642, 'hsv_h': 0.01511, 'hsv_s': 0.73221, 'hsv_v': 0.38531, 'degrees': 0.0, 'translate': 0.101, 'scale': 0.21301, 'shear': 0.0, 'perspective': 0.0, 'flipud': 0.0, 'fliplr': 0.40259, 'mosaic': 0.75889, 'mixup': 0.0, 'copy_paste': 0.0}\n",
      "Saved runs\\segment\\tune7\\tune_scatter_plots.png\n",
      "Saved runs\\segment\\tune7\\tune_fitness.png\n",
      "\n",
      "\u001b[34m\u001b[1mTuner: \u001b[0m40/50 iterations complete ✅ (23438.71s)\n",
      "\u001b[34m\u001b[1mTuner: \u001b[0mResults saved to \u001b[1mruns\\segment\\tune7\u001b[0m\n",
      "\u001b[34m\u001b[1mTuner: \u001b[0mBest fitness=0.56891 observed at iteration 39\n",
      "\u001b[34m\u001b[1mTuner: \u001b[0mBest fitness metrics are {'metrics/precision(B)': 0.6824, 'metrics/recall(B)': 0.35434, 'metrics/mAP50(B)': 0.38272, 'metrics/mAP50-95(B)': 0.29287, 'metrics/precision(M)': 0.66873, 'metrics/recall(M)': 0.34269, 'metrics/mAP50(M)': 0.36751, 'metrics/mAP50-95(M)': 0.2559, 'val/box_loss': 1.4046, 'val/seg_loss': 3.08973, 'val/cls_loss': 1.93285, 'val/dfl_loss': 1.05, 'fitness': 0.56891}\n",
      "\u001b[34m\u001b[1mTuner: \u001b[0mBest fitness model is runs\\segment\\train53\n",
      "\u001b[34m\u001b[1mTuner: \u001b[0mBest fitness hyperparameters are printed below.\n",
      "\n",
      "Printing '\u001b[1m\u001b[30mruns\\segment\\tune7\\best_hyperparameters.yaml\u001b[0m'\n",
      "\n",
      "lr0: 0.00959\n",
      "lrf: 0.00432\n",
      "momentum: 0.81859\n",
      "weight_decay: 0.00057\n",
      "warmup_epochs: 3.03256\n",
      "warmup_momentum: 0.91713\n",
      "box: 8.78483\n",
      "cls: 0.64256\n",
      "dfl: 1.31027\n",
      "hsv_h: 0.01541\n",
      "hsv_s: 0.7196\n",
      "hsv_v: 0.34939\n",
      "degrees: 0.0\n",
      "translate: 0.09425\n",
      "scale: 0.2063\n",
      "shear: 0.0\n",
      "perspective: 0.0\n",
      "flipud: 0.0\n",
      "fliplr: 0.39258\n",
      "mosaic: 0.79752\n",
      "mixup: 0.0\n",
      "copy_paste: 0.0\n",
      "\n",
      "\u001b[34m\u001b[1mTuner: \u001b[0mStarting iteration 41/50 with hyperparameters: {'lr0': 0.01055, 'lrf': 0.00444, 'momentum': 0.83648, 'weight_decay': 0.00051, 'warmup_epochs': 3.03047, 'warmup_momentum': 0.88652, 'box': 9.04105, 'cls': 0.61031, 'dfl': 1.27328, 'hsv_h': 0.01588, 'hsv_s': 0.72431, 'hsv_v': 0.38694, 'degrees': 0.0, 'translate': 0.09769, 'scale': 0.21528, 'shear': 0.0, 'perspective': 0.0, 'flipud': 0.0, 'fliplr': 0.41888, 'mosaic': 0.78459, 'mixup': 0.0, 'copy_paste': 0.0}\n",
      "Saved runs\\segment\\tune7\\tune_scatter_plots.png\n",
      "Saved runs\\segment\\tune7\\tune_fitness.png\n",
      "\n",
      "\u001b[34m\u001b[1mTuner: \u001b[0m41/50 iterations complete ✅ (23950.26s)\n",
      "\u001b[34m\u001b[1mTuner: \u001b[0mResults saved to \u001b[1mruns\\segment\\tune7\u001b[0m\n",
      "\u001b[34m\u001b[1mTuner: \u001b[0mBest fitness=0.56891 observed at iteration 39\n",
      "\u001b[34m\u001b[1mTuner: \u001b[0mBest fitness metrics are {'metrics/precision(B)': 0.6824, 'metrics/recall(B)': 0.35434, 'metrics/mAP50(B)': 0.38272, 'metrics/mAP50-95(B)': 0.29287, 'metrics/precision(M)': 0.66873, 'metrics/recall(M)': 0.34269, 'metrics/mAP50(M)': 0.36751, 'metrics/mAP50-95(M)': 0.2559, 'val/box_loss': 1.4046, 'val/seg_loss': 3.08973, 'val/cls_loss': 1.93285, 'val/dfl_loss': 1.05, 'fitness': 0.56891}\n",
      "\u001b[34m\u001b[1mTuner: \u001b[0mBest fitness model is runs\\segment\\train53\n",
      "\u001b[34m\u001b[1mTuner: \u001b[0mBest fitness hyperparameters are printed below.\n",
      "\n",
      "Printing '\u001b[1m\u001b[30mruns\\segment\\tune7\\best_hyperparameters.yaml\u001b[0m'\n",
      "\n",
      "lr0: 0.00959\n",
      "lrf: 0.00432\n",
      "momentum: 0.81859\n",
      "weight_decay: 0.00057\n",
      "warmup_epochs: 3.03256\n",
      "warmup_momentum: 0.91713\n",
      "box: 8.78483\n",
      "cls: 0.64256\n",
      "dfl: 1.31027\n",
      "hsv_h: 0.01541\n",
      "hsv_s: 0.7196\n",
      "hsv_v: 0.34939\n",
      "degrees: 0.0\n",
      "translate: 0.09425\n",
      "scale: 0.2063\n",
      "shear: 0.0\n",
      "perspective: 0.0\n",
      "flipud: 0.0\n",
      "fliplr: 0.39258\n",
      "mosaic: 0.79752\n",
      "mixup: 0.0\n",
      "copy_paste: 0.0\n",
      "\n",
      "\u001b[34m\u001b[1mTuner: \u001b[0mStarting iteration 42/50 with hyperparameters: {'lr0': 0.01008, 'lrf': 0.00382, 'momentum': 0.83105, 'weight_decay': 0.00056, 'warmup_epochs': 2.26996, 'warmup_momentum': 0.87945, 'box': 9.11933, 'cls': 0.62915, 'dfl': 1.16356, 'hsv_h': 0.01477, 'hsv_s': 0.68414, 'hsv_v': 0.42555, 'degrees': 0.0, 'translate': 0.08667, 'scale': 0.22361, 'shear': 0.0, 'perspective': 0.0, 'flipud': 0.0, 'fliplr': 0.40772, 'mosaic': 0.75803, 'mixup': 0.0, 'copy_paste': 0.0}\n",
      "Saved runs\\segment\\tune7\\tune_scatter_plots.png\n",
      "Saved runs\\segment\\tune7\\tune_fitness.png\n",
      "\n",
      "\u001b[34m\u001b[1mTuner: \u001b[0m42/50 iterations complete ✅ (24465.20s)\n",
      "\u001b[34m\u001b[1mTuner: \u001b[0mResults saved to \u001b[1mruns\\segment\\tune7\u001b[0m\n",
      "\u001b[34m\u001b[1mTuner: \u001b[0mBest fitness=0.56891 observed at iteration 39\n",
      "\u001b[34m\u001b[1mTuner: \u001b[0mBest fitness metrics are {'metrics/precision(B)': 0.6824, 'metrics/recall(B)': 0.35434, 'metrics/mAP50(B)': 0.38272, 'metrics/mAP50-95(B)': 0.29287, 'metrics/precision(M)': 0.66873, 'metrics/recall(M)': 0.34269, 'metrics/mAP50(M)': 0.36751, 'metrics/mAP50-95(M)': 0.2559, 'val/box_loss': 1.4046, 'val/seg_loss': 3.08973, 'val/cls_loss': 1.93285, 'val/dfl_loss': 1.05, 'fitness': 0.56891}\n",
      "\u001b[34m\u001b[1mTuner: \u001b[0mBest fitness model is runs\\segment\\train53\n",
      "\u001b[34m\u001b[1mTuner: \u001b[0mBest fitness hyperparameters are printed below.\n",
      "\n",
      "Printing '\u001b[1m\u001b[30mruns\\segment\\tune7\\best_hyperparameters.yaml\u001b[0m'\n",
      "\n",
      "lr0: 0.00959\n",
      "lrf: 0.00432\n",
      "momentum: 0.81859\n",
      "weight_decay: 0.00057\n",
      "warmup_epochs: 3.03256\n",
      "warmup_momentum: 0.91713\n",
      "box: 8.78483\n",
      "cls: 0.64256\n",
      "dfl: 1.31027\n",
      "hsv_h: 0.01541\n",
      "hsv_s: 0.7196\n",
      "hsv_v: 0.34939\n",
      "degrees: 0.0\n",
      "translate: 0.09425\n",
      "scale: 0.2063\n",
      "shear: 0.0\n",
      "perspective: 0.0\n",
      "flipud: 0.0\n",
      "fliplr: 0.39258\n",
      "mosaic: 0.79752\n",
      "mixup: 0.0\n",
      "copy_paste: 0.0\n",
      "\n",
      "\u001b[34m\u001b[1mTuner: \u001b[0mStarting iteration 43/50 with hyperparameters: {'lr0': 0.00959, 'lrf': 0.00494, 'momentum': 0.82377, 'weight_decay': 0.00062, 'warmup_epochs': 3.13255, 'warmup_momentum': 0.91713, 'box': 8.28174, 'cls': 0.65651, 'dfl': 1.31027, 'hsv_h': 0.01541, 'hsv_s': 0.7196, 'hsv_v': 0.41083, 'degrees': 0.0, 'translate': 0.06449, 'scale': 0.2063, 'shear': 0.0, 'perspective': 0.0, 'flipud': 0.0, 'fliplr': 0.37902, 'mosaic': 0.878, 'mixup': 0.0, 'copy_paste': 0.0}\n",
      "Saved runs\\segment\\tune7\\tune_scatter_plots.png\n",
      "Saved runs\\segment\\tune7\\tune_fitness.png\n",
      "\n",
      "\u001b[34m\u001b[1mTuner: \u001b[0m43/50 iterations complete ✅ (24975.68s)\n",
      "\u001b[34m\u001b[1mTuner: \u001b[0mResults saved to \u001b[1mruns\\segment\\tune7\u001b[0m\n",
      "\u001b[34m\u001b[1mTuner: \u001b[0mBest fitness=0.56891 observed at iteration 39\n",
      "\u001b[34m\u001b[1mTuner: \u001b[0mBest fitness metrics are {'metrics/precision(B)': 0.6824, 'metrics/recall(B)': 0.35434, 'metrics/mAP50(B)': 0.38272, 'metrics/mAP50-95(B)': 0.29287, 'metrics/precision(M)': 0.66873, 'metrics/recall(M)': 0.34269, 'metrics/mAP50(M)': 0.36751, 'metrics/mAP50-95(M)': 0.2559, 'val/box_loss': 1.4046, 'val/seg_loss': 3.08973, 'val/cls_loss': 1.93285, 'val/dfl_loss': 1.05, 'fitness': 0.56891}\n",
      "\u001b[34m\u001b[1mTuner: \u001b[0mBest fitness model is runs\\segment\\train53\n",
      "\u001b[34m\u001b[1mTuner: \u001b[0mBest fitness hyperparameters are printed below.\n",
      "\n",
      "Printing '\u001b[1m\u001b[30mruns\\segment\\tune7\\best_hyperparameters.yaml\u001b[0m'\n",
      "\n",
      "lr0: 0.00959\n",
      "lrf: 0.00432\n",
      "momentum: 0.81859\n",
      "weight_decay: 0.00057\n",
      "warmup_epochs: 3.03256\n",
      "warmup_momentum: 0.91713\n",
      "box: 8.78483\n",
      "cls: 0.64256\n",
      "dfl: 1.31027\n",
      "hsv_h: 0.01541\n",
      "hsv_s: 0.7196\n",
      "hsv_v: 0.34939\n",
      "degrees: 0.0\n",
      "translate: 0.09425\n",
      "scale: 0.2063\n",
      "shear: 0.0\n",
      "perspective: 0.0\n",
      "flipud: 0.0\n",
      "fliplr: 0.39258\n",
      "mosaic: 0.79752\n",
      "mixup: 0.0\n",
      "copy_paste: 0.0\n",
      "\n",
      "\u001b[34m\u001b[1mTuner: \u001b[0mStarting iteration 44/50 with hyperparameters: {'lr0': 0.01081, 'lrf': 0.0053, 'momentum': 0.80495, 'weight_decay': 0.00062, 'warmup_epochs': 2.90329, 'warmup_momentum': 0.91713, 'box': 8.62931, 'cls': 0.67172, 'dfl': 1.40459, 'hsv_h': 0.01594, 'hsv_s': 0.70872, 'hsv_v': 0.41083, 'degrees': 0.0, 'translate': 0.06454, 'scale': 0.16341, 'shear': 0.0, 'perspective': 0.0, 'flipud': 0.0, 'fliplr': 0.40428, 'mosaic': 0.68353, 'mixup': 0.0, 'copy_paste': 0.0}\n",
      "Saved runs\\segment\\tune7\\tune_scatter_plots.png\n",
      "Saved runs\\segment\\tune7\\tune_fitness.png\n",
      "\n",
      "\u001b[34m\u001b[1mTuner: \u001b[0m44/50 iterations complete ✅ (25486.00s)\n",
      "\u001b[34m\u001b[1mTuner: \u001b[0mResults saved to \u001b[1mruns\\segment\\tune7\u001b[0m\n",
      "\u001b[34m\u001b[1mTuner: \u001b[0mBest fitness=0.56891 observed at iteration 39\n",
      "\u001b[34m\u001b[1mTuner: \u001b[0mBest fitness metrics are {'metrics/precision(B)': 0.6824, 'metrics/recall(B)': 0.35434, 'metrics/mAP50(B)': 0.38272, 'metrics/mAP50-95(B)': 0.29287, 'metrics/precision(M)': 0.66873, 'metrics/recall(M)': 0.34269, 'metrics/mAP50(M)': 0.36751, 'metrics/mAP50-95(M)': 0.2559, 'val/box_loss': 1.4046, 'val/seg_loss': 3.08973, 'val/cls_loss': 1.93285, 'val/dfl_loss': 1.05, 'fitness': 0.56891}\n",
      "\u001b[34m\u001b[1mTuner: \u001b[0mBest fitness model is runs\\segment\\train53\n",
      "\u001b[34m\u001b[1mTuner: \u001b[0mBest fitness hyperparameters are printed below.\n",
      "\n",
      "Printing '\u001b[1m\u001b[30mruns\\segment\\tune7\\best_hyperparameters.yaml\u001b[0m'\n",
      "\n",
      "lr0: 0.00959\n",
      "lrf: 0.00432\n",
      "momentum: 0.81859\n",
      "weight_decay: 0.00057\n",
      "warmup_epochs: 3.03256\n",
      "warmup_momentum: 0.91713\n",
      "box: 8.78483\n",
      "cls: 0.64256\n",
      "dfl: 1.31027\n",
      "hsv_h: 0.01541\n",
      "hsv_s: 0.7196\n",
      "hsv_v: 0.34939\n",
      "degrees: 0.0\n",
      "translate: 0.09425\n",
      "scale: 0.2063\n",
      "shear: 0.0\n",
      "perspective: 0.0\n",
      "flipud: 0.0\n",
      "fliplr: 0.39258\n",
      "mosaic: 0.79752\n",
      "mixup: 0.0\n",
      "copy_paste: 0.0\n",
      "\n",
      "\u001b[34m\u001b[1mTuner: \u001b[0mStarting iteration 45/50 with hyperparameters: {'lr0': 0.00959, 'lrf': 0.00494, 'momentum': 0.80453, 'weight_decay': 0.00067, 'warmup_epochs': 2.96263, 'warmup_momentum': 0.75441, 'box': 8.80762, 'cls': 0.75753, 'dfl': 1.16531, 'hsv_h': 0.01541, 'hsv_s': 0.72021, 'hsv_v': 0.41083, 'degrees': 0.0, 'translate': 0.07489, 'scale': 0.19624, 'shear': 0.0, 'perspective': 0.0, 'flipud': 0.0, 'fliplr': 0.44121, 'mosaic': 1.0, 'mixup': 0.0, 'copy_paste': 0.0}\n",
      "Saved runs\\segment\\tune7\\tune_scatter_plots.png\n",
      "Saved runs\\segment\\tune7\\tune_fitness.png\n",
      "\n",
      "\u001b[34m\u001b[1mTuner: \u001b[0m45/50 iterations complete ✅ (26001.00s)\n",
      "\u001b[34m\u001b[1mTuner: \u001b[0mResults saved to \u001b[1mruns\\segment\\tune7\u001b[0m\n",
      "\u001b[34m\u001b[1mTuner: \u001b[0mBest fitness=0.56891 observed at iteration 39\n",
      "\u001b[34m\u001b[1mTuner: \u001b[0mBest fitness metrics are {'metrics/precision(B)': 0.6824, 'metrics/recall(B)': 0.35434, 'metrics/mAP50(B)': 0.38272, 'metrics/mAP50-95(B)': 0.29287, 'metrics/precision(M)': 0.66873, 'metrics/recall(M)': 0.34269, 'metrics/mAP50(M)': 0.36751, 'metrics/mAP50-95(M)': 0.2559, 'val/box_loss': 1.4046, 'val/seg_loss': 3.08973, 'val/cls_loss': 1.93285, 'val/dfl_loss': 1.05, 'fitness': 0.56891}\n",
      "\u001b[34m\u001b[1mTuner: \u001b[0mBest fitness model is runs\\segment\\train53\n",
      "\u001b[34m\u001b[1mTuner: \u001b[0mBest fitness hyperparameters are printed below.\n",
      "\n",
      "Printing '\u001b[1m\u001b[30mruns\\segment\\tune7\\best_hyperparameters.yaml\u001b[0m'\n",
      "\n",
      "lr0: 0.00959\n",
      "lrf: 0.00432\n",
      "momentum: 0.81859\n",
      "weight_decay: 0.00057\n",
      "warmup_epochs: 3.03256\n",
      "warmup_momentum: 0.91713\n",
      "box: 8.78483\n",
      "cls: 0.64256\n",
      "dfl: 1.31027\n",
      "hsv_h: 0.01541\n",
      "hsv_s: 0.7196\n",
      "hsv_v: 0.34939\n",
      "degrees: 0.0\n",
      "translate: 0.09425\n",
      "scale: 0.2063\n",
      "shear: 0.0\n",
      "perspective: 0.0\n",
      "flipud: 0.0\n",
      "fliplr: 0.39258\n",
      "mosaic: 0.79752\n",
      "mixup: 0.0\n",
      "copy_paste: 0.0\n",
      "\n",
      "\u001b[34m\u001b[1mTuner: \u001b[0mStarting iteration 46/50 with hyperparameters: {'lr0': 0.00959, 'lrf': 0.00437, 'momentum': 0.81787, 'weight_decay': 0.00055, 'warmup_epochs': 3.08324, 'warmup_momentum': 0.92671, 'box': 9.45909, 'cls': 0.6543, 'dfl': 1.33837, 'hsv_h': 0.01509, 'hsv_s': 0.74515, 'hsv_v': 0.36714, 'degrees': 0.0, 'translate': 0.09425, 'scale': 0.2063, 'shear': 0.0, 'perspective': 0.0, 'flipud': 0.0, 'fliplr': 0.39922, 'mosaic': 0.82459, 'mixup': 0.0, 'copy_paste': 0.0}\n",
      "Saved runs\\segment\\tune7\\tune_scatter_plots.png\n",
      "Saved runs\\segment\\tune7\\tune_fitness.png\n",
      "\n",
      "\u001b[34m\u001b[1mTuner: \u001b[0m46/50 iterations complete ✅ (26512.58s)\n",
      "\u001b[34m\u001b[1mTuner: \u001b[0mResults saved to \u001b[1mruns\\segment\\tune7\u001b[0m\n",
      "\u001b[34m\u001b[1mTuner: \u001b[0mBest fitness=0.56891 observed at iteration 39\n",
      "\u001b[34m\u001b[1mTuner: \u001b[0mBest fitness metrics are {'metrics/precision(B)': 0.6824, 'metrics/recall(B)': 0.35434, 'metrics/mAP50(B)': 0.38272, 'metrics/mAP50-95(B)': 0.29287, 'metrics/precision(M)': 0.66873, 'metrics/recall(M)': 0.34269, 'metrics/mAP50(M)': 0.36751, 'metrics/mAP50-95(M)': 0.2559, 'val/box_loss': 1.4046, 'val/seg_loss': 3.08973, 'val/cls_loss': 1.93285, 'val/dfl_loss': 1.05, 'fitness': 0.56891}\n",
      "\u001b[34m\u001b[1mTuner: \u001b[0mBest fitness model is runs\\segment\\train53\n",
      "\u001b[34m\u001b[1mTuner: \u001b[0mBest fitness hyperparameters are printed below.\n",
      "\n",
      "Printing '\u001b[1m\u001b[30mruns\\segment\\tune7\\best_hyperparameters.yaml\u001b[0m'\n",
      "\n",
      "lr0: 0.00959\n",
      "lrf: 0.00432\n",
      "momentum: 0.81859\n",
      "weight_decay: 0.00057\n",
      "warmup_epochs: 3.03256\n",
      "warmup_momentum: 0.91713\n",
      "box: 8.78483\n",
      "cls: 0.64256\n",
      "dfl: 1.31027\n",
      "hsv_h: 0.01541\n",
      "hsv_s: 0.7196\n",
      "hsv_v: 0.34939\n",
      "degrees: 0.0\n",
      "translate: 0.09425\n",
      "scale: 0.2063\n",
      "shear: 0.0\n",
      "perspective: 0.0\n",
      "flipud: 0.0\n",
      "fliplr: 0.39258\n",
      "mosaic: 0.79752\n",
      "mixup: 0.0\n",
      "copy_paste: 0.0\n",
      "\n",
      "\u001b[34m\u001b[1mTuner: \u001b[0mStarting iteration 47/50 with hyperparameters: {'lr0': 0.0102, 'lrf': 0.00387, 'momentum': 0.81859, 'weight_decay': 0.00068, 'warmup_epochs': 3.46434, 'warmup_momentum': 0.89747, 'box': 8.86819, 'cls': 0.80673, 'dfl': 1.31027, 'hsv_h': 0.01541, 'hsv_s': 0.74576, 'hsv_v': 0.3294, 'degrees': 0.0, 'translate': 0.10281, 'scale': 0.19924, 'shear': 0.0, 'perspective': 0.0, 'flipud': 0.0, 'fliplr': 0.39194, 'mosaic': 0.68242, 'mixup': 0.0, 'copy_paste': 0.0}\n",
      "Saved runs\\segment\\tune7\\tune_scatter_plots.png\n",
      "Saved runs\\segment\\tune7\\tune_fitness.png\n",
      "\n",
      "\u001b[34m\u001b[1mTuner: \u001b[0m47/50 iterations complete ✅ (27024.74s)\n",
      "\u001b[34m\u001b[1mTuner: \u001b[0mResults saved to \u001b[1mruns\\segment\\tune7\u001b[0m\n",
      "\u001b[34m\u001b[1mTuner: \u001b[0mBest fitness=0.56993 observed at iteration 47\n",
      "\u001b[34m\u001b[1mTuner: \u001b[0mBest fitness metrics are {'metrics/precision(B)': 0.7271, 'metrics/recall(B)': 0.34306, 'metrics/mAP50(B)': 0.38277, 'metrics/mAP50-95(B)': 0.29417, 'metrics/precision(M)': 0.70522, 'metrics/recall(M)': 0.33564, 'metrics/mAP50(M)': 0.36795, 'metrics/mAP50-95(M)': 0.25567, 'val/box_loss': 1.40611, 'val/seg_loss': 3.13504, 'val/cls_loss': 2.41309, 'val/dfl_loss': 1.05398, 'fitness': 0.56993}\n",
      "\u001b[34m\u001b[1mTuner: \u001b[0mBest fitness model is runs\\segment\\train61\n",
      "\u001b[34m\u001b[1mTuner: \u001b[0mBest fitness hyperparameters are printed below.\n",
      "\n",
      "Printing '\u001b[1m\u001b[30mruns\\segment\\tune7\\best_hyperparameters.yaml\u001b[0m'\n",
      "\n",
      "lr0: 0.0102\n",
      "lrf: 0.00387\n",
      "momentum: 0.81859\n",
      "weight_decay: 0.00068\n",
      "warmup_epochs: 3.46434\n",
      "warmup_momentum: 0.89747\n",
      "box: 8.86819\n",
      "cls: 0.80673\n",
      "dfl: 1.31027\n",
      "hsv_h: 0.01541\n",
      "hsv_s: 0.74576\n",
      "hsv_v: 0.3294\n",
      "degrees: 0.0\n",
      "translate: 0.10281\n",
      "scale: 0.19924\n",
      "shear: 0.0\n",
      "perspective: 0.0\n",
      "flipud: 0.0\n",
      "fliplr: 0.39194\n",
      "mosaic: 0.68242\n",
      "mixup: 0.0\n",
      "copy_paste: 0.0\n",
      "\n",
      "\u001b[34m\u001b[1mTuner: \u001b[0mStarting iteration 48/50 with hyperparameters: {'lr0': 0.01086, 'lrf': 0.00425, 'momentum': 0.81886, 'weight_decay': 0.00066, 'warmup_epochs': 3.9744, 'warmup_momentum': 0.88346, 'box': 9.14152, 'cls': 0.83282, 'dfl': 1.36486, 'hsv_h': 0.01548, 'hsv_s': 0.85235, 'hsv_v': 0.33068, 'degrees': 0.0, 'translate': 0.10002, 'scale': 0.19318, 'shear': 0.0, 'perspective': 0.0, 'flipud': 0.0, 'fliplr': 0.44302, 'mosaic': 0.6236, 'mixup': 0.0, 'copy_paste': 0.0}\n",
      "Saved runs\\segment\\tune7\\tune_scatter_plots.png\n",
      "Saved runs\\segment\\tune7\\tune_fitness.png\n",
      "\n",
      "\u001b[34m\u001b[1mTuner: \u001b[0m48/50 iterations complete ✅ (27543.02s)\n",
      "\u001b[34m\u001b[1mTuner: \u001b[0mResults saved to \u001b[1mruns\\segment\\tune7\u001b[0m\n",
      "\u001b[34m\u001b[1mTuner: \u001b[0mBest fitness=0.56993 observed at iteration 47\n",
      "\u001b[34m\u001b[1mTuner: \u001b[0mBest fitness metrics are {'metrics/precision(B)': 0.7271, 'metrics/recall(B)': 0.34306, 'metrics/mAP50(B)': 0.38277, 'metrics/mAP50-95(B)': 0.29417, 'metrics/precision(M)': 0.70522, 'metrics/recall(M)': 0.33564, 'metrics/mAP50(M)': 0.36795, 'metrics/mAP50-95(M)': 0.25567, 'val/box_loss': 1.40611, 'val/seg_loss': 3.13504, 'val/cls_loss': 2.41309, 'val/dfl_loss': 1.05398, 'fitness': 0.56993}\n",
      "\u001b[34m\u001b[1mTuner: \u001b[0mBest fitness model is runs\\segment\\train61\n",
      "\u001b[34m\u001b[1mTuner: \u001b[0mBest fitness hyperparameters are printed below.\n",
      "\n",
      "Printing '\u001b[1m\u001b[30mruns\\segment\\tune7\\best_hyperparameters.yaml\u001b[0m'\n",
      "\n",
      "lr0: 0.0102\n",
      "lrf: 0.00387\n",
      "momentum: 0.81859\n",
      "weight_decay: 0.00068\n",
      "warmup_epochs: 3.46434\n",
      "warmup_momentum: 0.89747\n",
      "box: 8.86819\n",
      "cls: 0.80673\n",
      "dfl: 1.31027\n",
      "hsv_h: 0.01541\n",
      "hsv_s: 0.74576\n",
      "hsv_v: 0.3294\n",
      "degrees: 0.0\n",
      "translate: 0.10281\n",
      "scale: 0.19924\n",
      "shear: 0.0\n",
      "perspective: 0.0\n",
      "flipud: 0.0\n",
      "fliplr: 0.39194\n",
      "mosaic: 0.68242\n",
      "mixup: 0.0\n",
      "copy_paste: 0.0\n",
      "\n",
      "\u001b[34m\u001b[1mTuner: \u001b[0mStarting iteration 49/50 with hyperparameters: {'lr0': 0.00915, 'lrf': 0.00547, 'momentum': 0.83121, 'weight_decay': 0.00062, 'warmup_epochs': 3.43903, 'warmup_momentum': 0.95, 'box': 8.65735, 'cls': 0.68896, 'dfl': 1.25067, 'hsv_h': 0.01558, 'hsv_s': 0.71539, 'hsv_v': 0.35685, 'degrees': 0.0, 'translate': 0.05908, 'scale': 0.2256, 'shear': 0.0, 'perspective': 0.0, 'flipud': 0.0, 'fliplr': 0.37565, 'mosaic': 0.9402, 'mixup': 0.0, 'copy_paste': 0.0}\n",
      "Saved runs\\segment\\tune7\\tune_scatter_plots.png\n",
      "Saved runs\\segment\\tune7\\tune_fitness.png\n",
      "\n",
      "\u001b[34m\u001b[1mTuner: \u001b[0m49/50 iterations complete ✅ (28053.92s)\n",
      "\u001b[34m\u001b[1mTuner: \u001b[0mResults saved to \u001b[1mruns\\segment\\tune7\u001b[0m\n",
      "\u001b[34m\u001b[1mTuner: \u001b[0mBest fitness=0.56993 observed at iteration 47\n",
      "\u001b[34m\u001b[1mTuner: \u001b[0mBest fitness metrics are {'metrics/precision(B)': 0.7271, 'metrics/recall(B)': 0.34306, 'metrics/mAP50(B)': 0.38277, 'metrics/mAP50-95(B)': 0.29417, 'metrics/precision(M)': 0.70522, 'metrics/recall(M)': 0.33564, 'metrics/mAP50(M)': 0.36795, 'metrics/mAP50-95(M)': 0.25567, 'val/box_loss': 1.40611, 'val/seg_loss': 3.13504, 'val/cls_loss': 2.41309, 'val/dfl_loss': 1.05398, 'fitness': 0.56993}\n",
      "\u001b[34m\u001b[1mTuner: \u001b[0mBest fitness model is runs\\segment\\train61\n",
      "\u001b[34m\u001b[1mTuner: \u001b[0mBest fitness hyperparameters are printed below.\n",
      "\n",
      "Printing '\u001b[1m\u001b[30mruns\\segment\\tune7\\best_hyperparameters.yaml\u001b[0m'\n",
      "\n",
      "lr0: 0.0102\n",
      "lrf: 0.00387\n",
      "momentum: 0.81859\n",
      "weight_decay: 0.00068\n",
      "warmup_epochs: 3.46434\n",
      "warmup_momentum: 0.89747\n",
      "box: 8.86819\n",
      "cls: 0.80673\n",
      "dfl: 1.31027\n",
      "hsv_h: 0.01541\n",
      "hsv_s: 0.74576\n",
      "hsv_v: 0.3294\n",
      "degrees: 0.0\n",
      "translate: 0.10281\n",
      "scale: 0.19924\n",
      "shear: 0.0\n",
      "perspective: 0.0\n",
      "flipud: 0.0\n",
      "fliplr: 0.39194\n",
      "mosaic: 0.68242\n",
      "mixup: 0.0\n",
      "copy_paste: 0.0\n",
      "\n",
      "\u001b[34m\u001b[1mTuner: \u001b[0mStarting iteration 50/50 with hyperparameters: {'lr0': 0.01128, 'lrf': 0.00387, 'momentum': 0.83924, 'weight_decay': 0.00068, 'warmup_epochs': 3.64312, 'warmup_momentum': 0.95, 'box': 8.44993, 'cls': 0.75717, 'dfl': 1.31027, 'hsv_h': 0.0163, 'hsv_s': 0.76042, 'hsv_v': 0.3294, 'degrees': 0.0, 'translate': 0.10281, 'scale': 0.2055, 'shear': 0.0, 'perspective': 0.0, 'flipud': 0.0, 'fliplr': 0.3945, 'mosaic': 0.67887, 'mixup': 0.0, 'copy_paste': 0.0}\n",
      "Saved runs\\segment\\tune7\\tune_scatter_plots.png\n",
      "Saved runs\\segment\\tune7\\tune_fitness.png\n",
      "\n",
      "\u001b[34m\u001b[1mTuner: \u001b[0m50/50 iterations complete ✅ (28565.76s)\n",
      "\u001b[34m\u001b[1mTuner: \u001b[0mResults saved to \u001b[1mruns\\segment\\tune7\u001b[0m\n",
      "\u001b[34m\u001b[1mTuner: \u001b[0mBest fitness=0.56993 observed at iteration 47\n",
      "\u001b[34m\u001b[1mTuner: \u001b[0mBest fitness metrics are {'metrics/precision(B)': 0.7271, 'metrics/recall(B)': 0.34306, 'metrics/mAP50(B)': 0.38277, 'metrics/mAP50-95(B)': 0.29417, 'metrics/precision(M)': 0.70522, 'metrics/recall(M)': 0.33564, 'metrics/mAP50(M)': 0.36795, 'metrics/mAP50-95(M)': 0.25567, 'val/box_loss': 1.40611, 'val/seg_loss': 3.13504, 'val/cls_loss': 2.41309, 'val/dfl_loss': 1.05398, 'fitness': 0.56993}\n",
      "\u001b[34m\u001b[1mTuner: \u001b[0mBest fitness model is runs\\segment\\train61\n",
      "\u001b[34m\u001b[1mTuner: \u001b[0mBest fitness hyperparameters are printed below.\n",
      "\n",
      "Printing '\u001b[1m\u001b[30mruns\\segment\\tune7\\best_hyperparameters.yaml\u001b[0m'\n",
      "\n",
      "lr0: 0.0102\n",
      "lrf: 0.00387\n",
      "momentum: 0.81859\n",
      "weight_decay: 0.00068\n",
      "warmup_epochs: 3.46434\n",
      "warmup_momentum: 0.89747\n",
      "box: 8.86819\n",
      "cls: 0.80673\n",
      "dfl: 1.31027\n",
      "hsv_h: 0.01541\n",
      "hsv_s: 0.74576\n",
      "hsv_v: 0.3294\n",
      "degrees: 0.0\n",
      "translate: 0.10281\n",
      "scale: 0.19924\n",
      "shear: 0.0\n",
      "perspective: 0.0\n",
      "flipud: 0.0\n",
      "fliplr: 0.39194\n",
      "mosaic: 0.68242\n",
      "mixup: 0.0\n",
      "copy_paste: 0.0\n",
      "\n"
     ]
    }
   ],
   "source": [
    "#Tuning the hyperparameters on a shorter run\n",
    "# Documentation and examples from : https://docs.ultralytics.com/guides/hyperparameter-tuning/#usage-example\n",
    "from ultralytics import YOLO\n",
    "\n",
    "model = YOLO('yolov8n-seg.pt')\n",
    "model.tune(data='dataset/dataset.yaml',optimizer='AdamW', epochs=10, iterations=50,imgsz=500, batch=-1,workers=4)"
   ]
  },
  {
   "cell_type": "markdown",
   "metadata": {},
   "source": [
    "Start the training,first cell contains the training with the default hyperparameters(this run was before the tuning), the next cell trains with the tuned hyperparameters //\n",
    "Tanítás először még az alap paraméterekkel, majd a hangolt paraméterekkel.(az első tanítás még az előző hangolás előtt történt időben, de ha már végigfutott benthagytam.)"
   ]
  },
  {
   "cell_type": "code",
   "execution_count": 1,
   "metadata": {},
   "outputs": [
    {
     "name": "stdout",
     "output_type": "stream",
     "text": [
      "New https://pypi.org/project/ultralytics/8.1.32 available 😃 Update with 'pip install -U ultralytics'\n",
      "Ultralytics YOLOv8.1.27 🚀 Python-3.11.8 torch-2.1.2+cu121 CUDA:0 (NVIDIA GeForce RTX 2070 SUPER, 8192MiB)\n",
      "\u001b[34m\u001b[1mengine\\trainer: \u001b[0mtask=segment, mode=train, model=yolov8n-seg.pt, data=dataset/dataset.yaml, epochs=200, time=None, patience=100, batch=16, imgsz=768, save=True, save_period=-1, cache=False, device=None, workers=8, project=None, name=train4, exist_ok=False, pretrained=True, optimizer=auto, verbose=True, seed=0, deterministic=True, single_cls=False, rect=False, cos_lr=False, close_mosaic=10, resume=False, amp=True, fraction=1.0, profile=False, freeze=None, multi_scale=False, overlap_mask=True, mask_ratio=4, dropout=0.0, val=True, split=val, save_json=False, save_hybrid=False, conf=None, iou=0.7, max_det=300, half=False, dnn=False, plots=True, source=None, vid_stride=1, stream_buffer=False, visualize=False, augment=False, agnostic_nms=False, classes=None, retina_masks=False, embed=None, show=False, save_frames=False, save_txt=False, save_conf=False, save_crop=False, show_labels=True, show_conf=True, show_boxes=True, line_width=None, format=torchscript, keras=False, optimize=False, int8=False, dynamic=False, simplify=False, opset=None, workspace=4, nms=False, lr0=0.01, lrf=0.01, momentum=0.937, weight_decay=0.0005, warmup_epochs=3.0, warmup_momentum=0.8, warmup_bias_lr=0.1, box=7.5, cls=0.5, dfl=1.5, pose=12.0, kobj=1.0, label_smoothing=0.0, nbs=64, hsv_h=0.015, hsv_s=0.7, hsv_v=0.4, degrees=0.0, translate=0.1, scale=0.5, shear=0.0, perspective=0.0, flipud=0.0, fliplr=0.5, mosaic=1.0, mixup=0.0, copy_paste=0.0, auto_augment=randaugment, erasing=0.4, crop_fraction=1.0, cfg=None, tracker=botsort.yaml, save_dir=runs\\segment\\train4\n",
      "Overriding model.yaml nc=80 with nc=20\n",
      "\n",
      "                   from  n    params  module                                       arguments                     \n",
      "  0                  -1  1       464  ultralytics.nn.modules.conv.Conv             [3, 16, 3, 2]                 \n",
      "  1                  -1  1      4672  ultralytics.nn.modules.conv.Conv             [16, 32, 3, 2]                \n",
      "  2                  -1  1      7360  ultralytics.nn.modules.block.C2f             [32, 32, 1, True]             \n",
      "  3                  -1  1     18560  ultralytics.nn.modules.conv.Conv             [32, 64, 3, 2]                \n",
      "  4                  -1  2     49664  ultralytics.nn.modules.block.C2f             [64, 64, 2, True]             \n",
      "  5                  -1  1     73984  ultralytics.nn.modules.conv.Conv             [64, 128, 3, 2]               \n",
      "  6                  -1  2    197632  ultralytics.nn.modules.block.C2f             [128, 128, 2, True]           \n",
      "  7                  -1  1    295424  ultralytics.nn.modules.conv.Conv             [128, 256, 3, 2]              \n",
      "  8                  -1  1    460288  ultralytics.nn.modules.block.C2f             [256, 256, 1, True]           \n",
      "  9                  -1  1    164608  ultralytics.nn.modules.block.SPPF            [256, 256, 5]                 \n",
      " 10                  -1  1         0  torch.nn.modules.upsampling.Upsample         [None, 2, 'nearest']          \n",
      " 11             [-1, 6]  1         0  ultralytics.nn.modules.conv.Concat           [1]                           \n",
      " 12                  -1  1    148224  ultralytics.nn.modules.block.C2f             [384, 128, 1]                 \n",
      " 13                  -1  1         0  torch.nn.modules.upsampling.Upsample         [None, 2, 'nearest']          \n",
      " 14             [-1, 4]  1         0  ultralytics.nn.modules.conv.Concat           [1]                           \n",
      " 15                  -1  1     37248  ultralytics.nn.modules.block.C2f             [192, 64, 1]                  \n",
      " 16                  -1  1     36992  ultralytics.nn.modules.conv.Conv             [64, 64, 3, 2]                \n",
      " 17            [-1, 12]  1         0  ultralytics.nn.modules.conv.Concat           [1]                           \n",
      " 18                  -1  1    123648  ultralytics.nn.modules.block.C2f             [192, 128, 1]                 \n",
      " 19                  -1  1    147712  ultralytics.nn.modules.conv.Conv             [128, 128, 3, 2]              \n",
      " 20             [-1, 9]  1         0  ultralytics.nn.modules.conv.Concat           [1]                           \n",
      " 21                  -1  1    493056  ultralytics.nn.modules.block.C2f             [384, 256, 1]                 \n",
      " 22        [15, 18, 21]  1   1007980  ultralytics.nn.modules.head.Segment          [20, 32, 64, [64, 128, 256]]  \n",
      "YOLOv8n-seg summary: 261 layers, 3267516 parameters, 3267500 gradients, 12.1 GFLOPs\n",
      "\n",
      "Transferred 381/417 items from pretrained weights\n",
      "Freezing layer 'model.22.dfl.conv.weight'\n",
      "\u001b[34m\u001b[1mAMP: \u001b[0mrunning Automatic Mixed Precision (AMP) checks with YOLOv8n...\n",
      "\u001b[34m\u001b[1mAMP: \u001b[0mchecks passed ✅\n"
     ]
    },
    {
     "name": "stderr",
     "output_type": "stream",
     "text": [
      "\u001b[34m\u001b[1mtrain: \u001b[0mScanning C:\\Onlab\\VOC_dataset\\VOCdevkit\\VOC2012\\dataset\\train\\labels.cache... 2646 images, 0 backgrounds, 0 corrupt: 100%|██████████| 2646/2646 [00:00<?, ?it/s]"
     ]
    },
    {
     "name": "stdout",
     "output_type": "stream",
     "text": [
      "\u001b[34m\u001b[1mtrain: \u001b[0mWARNING ⚠️ C:\\Onlab\\VOC_dataset\\VOCdevkit\\VOC2012\\dataset\\train\\images\\2009_004140.jpg: 1 duplicate labels removed\n",
      "\u001b[34m\u001b[1mtrain: \u001b[0mWARNING ⚠️ C:\\Onlab\\VOC_dataset\\VOCdevkit\\VOC2012\\dataset\\train\\images\\2010_000187.jpg: 1 duplicate labels removed\n",
      "\u001b[34m\u001b[1mtrain: \u001b[0mWARNING ⚠️ C:\\Onlab\\VOC_dataset\\VOCdevkit\\VOC2012\\dataset\\train\\images\\2010_001748.jpg: 1 duplicate labels removed\n",
      "\u001b[34m\u001b[1mtrain: \u001b[0mWARNING ⚠️ C:\\Onlab\\VOC_dataset\\VOCdevkit\\VOC2012\\dataset\\train\\images\\2010_001773.jpg: 1 duplicate labels removed\n",
      "\u001b[34m\u001b[1mtrain: \u001b[0mWARNING ⚠️ C:\\Onlab\\VOC_dataset\\VOCdevkit\\VOC2012\\dataset\\train\\images\\2010_002868.jpg: 9 duplicate labels removed\n",
      "\u001b[34m\u001b[1mtrain: \u001b[0mWARNING ⚠️ C:\\Onlab\\VOC_dataset\\VOCdevkit\\VOC2012\\dataset\\train\\images\\2010_005284.jpg: 1 duplicate labels removed\n"
     ]
    },
    {
     "name": "stderr",
     "output_type": "stream",
     "text": [
      "\n",
      "\u001b[34m\u001b[1mval: \u001b[0mScanning C:\\Onlab\\VOC_dataset\\VOCdevkit\\VOC2012\\dataset\\valid\\labels.cache... 807 images, 0 backgrounds, 0 corrupt: 100%|██████████| 807/807 [00:00<?, ?it/s]"
     ]
    },
    {
     "name": "stdout",
     "output_type": "stream",
     "text": [
      "\u001b[34m\u001b[1mval: \u001b[0mWARNING ⚠️ C:\\Onlab\\VOC_dataset\\VOCdevkit\\VOC2012\\dataset\\valid\\images\\2007_009295.jpg: 1 duplicate labels removed\n",
      "\u001b[34m\u001b[1mval: \u001b[0mWARNING ⚠️ C:\\Onlab\\VOC_dataset\\VOCdevkit\\VOC2012\\dataset\\valid\\images\\2008_007737.jpg: 3 duplicate labels removed\n",
      "\u001b[34m\u001b[1mval: \u001b[0mWARNING ⚠️ C:\\Onlab\\VOC_dataset\\VOCdevkit\\VOC2012\\dataset\\valid\\images\\2009_001514.jpg: 1 duplicate labels removed\n",
      "\u001b[34m\u001b[1mval: \u001b[0mWARNING ⚠️ C:\\Onlab\\VOC_dataset\\VOCdevkit\\VOC2012\\dataset\\valid\\images\\2009_004140.jpg: 1 duplicate labels removed\n",
      "\u001b[34m\u001b[1mval: \u001b[0mWARNING ⚠️ C:\\Onlab\\VOC_dataset\\VOCdevkit\\VOC2012\\dataset\\valid\\images\\2010_000187.jpg: 1 duplicate labels removed\n",
      "\u001b[34m\u001b[1mval: \u001b[0mWARNING ⚠️ C:\\Onlab\\VOC_dataset\\VOCdevkit\\VOC2012\\dataset\\valid\\images\\2010_000748.jpg: 1 duplicate labels removed\n",
      "\u001b[34m\u001b[1mval: \u001b[0mWARNING ⚠️ C:\\Onlab\\VOC_dataset\\VOCdevkit\\VOC2012\\dataset\\valid\\images\\2010_002868.jpg: 9 duplicate labels removed\n"
     ]
    },
    {
     "name": "stderr",
     "output_type": "stream",
     "text": [
      "\n"
     ]
    },
    {
     "name": "stdout",
     "output_type": "stream",
     "text": [
      "Plotting labels to runs\\segment\\train4\\labels.jpg... \n",
      "\u001b[34m\u001b[1moptimizer:\u001b[0m 'optimizer=auto' found, ignoring 'lr0=0.01' and 'momentum=0.937' and determining best 'optimizer', 'lr0' and 'momentum' automatically... \n",
      "\u001b[34m\u001b[1moptimizer:\u001b[0m AdamW(lr=0.000417, momentum=0.9) with parameter groups 66 weight(decay=0.0), 77 weight(decay=0.0005), 76 bias(decay=0.0)\n",
      "Image sizes 768 train, 768 val\n",
      "Using 8 dataloader workers\n",
      "Logging results to \u001b[1mruns\\segment\\train4\u001b[0m\n",
      "Starting training for 200 epochs...\n",
      "\n",
      "      Epoch    GPU_mem   box_loss   seg_loss   cls_loss   dfl_loss  Instances       Size\n"
     ]
    },
    {
     "name": "stderr",
     "output_type": "stream",
     "text": [
      "      1/200      6.34G      1.213      2.966      3.572      1.284         41        768: 100%|██████████| 166/166 [00:44<00:00,  3.77it/s]\n",
      "                 Class     Images  Instances      Box(P          R      mAP50  mAP50-95)     Mask(P          R      mAP50  mAP50-95): 100%|██████████| 26/26 [00:18<00:00,  1.42it/s]"
     ]
    },
    {
     "name": "stdout",
     "output_type": "stream",
     "text": [
      "                   all        807       7092      0.535       0.23      0.228      0.157       0.51      0.223      0.219      0.147\n"
     ]
    },
    {
     "name": "stderr",
     "output_type": "stream",
     "text": [
      "\n"
     ]
    },
    {
     "name": "stdout",
     "output_type": "stream",
     "text": [
      "\n",
      "      Epoch    GPU_mem   box_loss   seg_loss   cls_loss   dfl_loss  Instances       Size\n"
     ]
    },
    {
     "name": "stderr",
     "output_type": "stream",
     "text": [
      "      2/200      6.39G       1.25       2.76      2.514      1.294        112        768: 100%|██████████| 166/166 [00:40<00:00,  4.12it/s]\n",
      "                 Class     Images  Instances      Box(P          R      mAP50  mAP50-95)     Mask(P          R      mAP50  mAP50-95): 100%|██████████| 26/26 [00:08<00:00,  3.14it/s]"
     ]
    },
    {
     "name": "stdout",
     "output_type": "stream",
     "text": [
      "                   all        807       7092      0.541      0.257      0.255      0.175      0.528      0.252      0.248       0.16\n"
     ]
    },
    {
     "name": "stderr",
     "output_type": "stream",
     "text": [
      "\n"
     ]
    },
    {
     "name": "stdout",
     "output_type": "stream",
     "text": [
      "\n",
      "      Epoch    GPU_mem   box_loss   seg_loss   cls_loss   dfl_loss  Instances       Size\n"
     ]
    },
    {
     "name": "stderr",
     "output_type": "stream",
     "text": [
      "      3/200      5.74G      1.258      2.779      2.371      1.298         75        768: 100%|██████████| 166/166 [00:35<00:00,  4.69it/s]\n",
      "                 Class     Images  Instances      Box(P          R      mAP50  mAP50-95)     Mask(P          R      mAP50  mAP50-95): 100%|██████████| 26/26 [00:08<00:00,  3.16it/s]"
     ]
    },
    {
     "name": "stdout",
     "output_type": "stream",
     "text": [
      "                   all        807       7092      0.501      0.253      0.251      0.169      0.481      0.246       0.24      0.152\n"
     ]
    },
    {
     "name": "stderr",
     "output_type": "stream",
     "text": [
      "\n"
     ]
    },
    {
     "name": "stdout",
     "output_type": "stream",
     "text": [
      "\n",
      "      Epoch    GPU_mem   box_loss   seg_loss   cls_loss   dfl_loss  Instances       Size\n"
     ]
    },
    {
     "name": "stderr",
     "output_type": "stream",
     "text": [
      "      4/200      6.01G      1.265        2.8      2.263      1.307         69        768: 100%|██████████| 166/166 [00:35<00:00,  4.69it/s]\n",
      "                 Class     Images  Instances      Box(P          R      mAP50  mAP50-95)     Mask(P          R      mAP50  mAP50-95): 100%|██████████| 26/26 [00:06<00:00,  3.85it/s]"
     ]
    },
    {
     "name": "stdout",
     "output_type": "stream",
     "text": [
      "                   all        807       7092      0.484      0.262      0.259      0.171      0.465       0.25       0.25      0.155\n"
     ]
    },
    {
     "name": "stderr",
     "output_type": "stream",
     "text": [
      "\n"
     ]
    },
    {
     "name": "stdout",
     "output_type": "stream",
     "text": [
      "\n",
      "      Epoch    GPU_mem   box_loss   seg_loss   cls_loss   dfl_loss  Instances       Size\n"
     ]
    },
    {
     "name": "stderr",
     "output_type": "stream",
     "text": [
      "      5/200      6.07G      1.256      2.765       2.17      1.294         51        768: 100%|██████████| 166/166 [00:35<00:00,  4.71it/s]\n",
      "                 Class     Images  Instances      Box(P          R      mAP50  mAP50-95)     Mask(P          R      mAP50  mAP50-95): 100%|██████████| 26/26 [00:12<00:00,  2.02it/s]"
     ]
    },
    {
     "name": "stdout",
     "output_type": "stream",
     "text": [
      "                   all        807       7092       0.51      0.259      0.264      0.174      0.486      0.253      0.255      0.156\n"
     ]
    },
    {
     "name": "stderr",
     "output_type": "stream",
     "text": [
      "\n"
     ]
    },
    {
     "name": "stdout",
     "output_type": "stream",
     "text": [
      "\n",
      "      Epoch    GPU_mem   box_loss   seg_loss   cls_loss   dfl_loss  Instances       Size\n"
     ]
    },
    {
     "name": "stderr",
     "output_type": "stream",
     "text": [
      "      6/200      7.36G      1.237      2.727      2.103      1.282         88        768: 100%|██████████| 166/166 [00:36<00:00,  4.53it/s]\n",
      "                 Class     Images  Instances      Box(P          R      mAP50  mAP50-95)     Mask(P          R      mAP50  mAP50-95): 100%|██████████| 26/26 [00:12<00:00,  2.16it/s]"
     ]
    },
    {
     "name": "stdout",
     "output_type": "stream",
     "text": [
      "                   all        807       7092      0.524      0.267       0.27      0.183      0.517      0.258      0.261       0.16\n"
     ]
    },
    {
     "name": "stderr",
     "output_type": "stream",
     "text": [
      "\n"
     ]
    },
    {
     "name": "stdout",
     "output_type": "stream",
     "text": [
      "\n",
      "      Epoch    GPU_mem   box_loss   seg_loss   cls_loss   dfl_loss  Instances       Size\n"
     ]
    },
    {
     "name": "stderr",
     "output_type": "stream",
     "text": [
      "      7/200      7.05G      1.219      2.727      2.053      1.268         72        768: 100%|██████████| 166/166 [00:35<00:00,  4.70it/s]\n",
      "                 Class     Images  Instances      Box(P          R      mAP50  mAP50-95)     Mask(P          R      mAP50  mAP50-95): 100%|██████████| 26/26 [00:09<00:00,  2.83it/s]"
     ]
    },
    {
     "name": "stdout",
     "output_type": "stream",
     "text": [
      "                   all        807       7092      0.569      0.278       0.29      0.198      0.571      0.265      0.276      0.171\n"
     ]
    },
    {
     "name": "stderr",
     "output_type": "stream",
     "text": [
      "\n"
     ]
    },
    {
     "name": "stdout",
     "output_type": "stream",
     "text": [
      "\n",
      "      Epoch    GPU_mem   box_loss   seg_loss   cls_loss   dfl_loss  Instances       Size\n"
     ]
    },
    {
     "name": "stderr",
     "output_type": "stream",
     "text": [
      "      8/200      6.18G      1.212      2.702      1.982      1.265        117        768: 100%|██████████| 166/166 [00:35<00:00,  4.70it/s]\n",
      "                 Class     Images  Instances      Box(P          R      mAP50  mAP50-95)     Mask(P          R      mAP50  mAP50-95): 100%|██████████| 26/26 [00:13<00:00,  1.97it/s]\n"
     ]
    },
    {
     "name": "stdout",
     "output_type": "stream",
     "text": [
      "                   all        807       7092      0.577      0.291      0.305      0.217      0.567      0.283      0.292       0.19\n",
      "\n",
      "      Epoch    GPU_mem   box_loss   seg_loss   cls_loss   dfl_loss  Instances       Size\n"
     ]
    },
    {
     "name": "stderr",
     "output_type": "stream",
     "text": [
      "      9/200      5.69G      1.206      2.673      1.945      1.265         64        768: 100%|██████████| 166/166 [00:35<00:00,  4.63it/s]\n",
      "                 Class     Images  Instances      Box(P          R      mAP50  mAP50-95)     Mask(P          R      mAP50  mAP50-95): 100%|██████████| 26/26 [00:12<00:00,  2.12it/s]"
     ]
    },
    {
     "name": "stdout",
     "output_type": "stream",
     "text": [
      "                   all        807       7092      0.589      0.279      0.293      0.203      0.564      0.272       0.28      0.181\n"
     ]
    },
    {
     "name": "stderr",
     "output_type": "stream",
     "text": [
      "\n"
     ]
    },
    {
     "name": "stdout",
     "output_type": "stream",
     "text": [
      "\n",
      "      Epoch    GPU_mem   box_loss   seg_loss   cls_loss   dfl_loss  Instances       Size\n"
     ]
    },
    {
     "name": "stderr",
     "output_type": "stream",
     "text": [
      "     10/200      5.42G      1.186      2.628      1.866      1.246         40        768: 100%|██████████| 166/166 [00:38<00:00,  4.27it/s]\n",
      "                 Class     Images  Instances      Box(P          R      mAP50  mAP50-95)     Mask(P          R      mAP50  mAP50-95): 100%|██████████| 26/26 [00:06<00:00,  3.74it/s]"
     ]
    },
    {
     "name": "stdout",
     "output_type": "stream",
     "text": [
      "                   all        807       7092      0.593      0.286      0.305      0.214      0.566      0.277       0.29      0.185\n"
     ]
    },
    {
     "name": "stderr",
     "output_type": "stream",
     "text": [
      "\n"
     ]
    },
    {
     "name": "stdout",
     "output_type": "stream",
     "text": [
      "\n",
      "      Epoch    GPU_mem   box_loss   seg_loss   cls_loss   dfl_loss  Instances       Size\n"
     ]
    },
    {
     "name": "stderr",
     "output_type": "stream",
     "text": [
      "     11/200      7.42G      1.198      2.659      1.857      1.251         58        768: 100%|██████████| 166/166 [00:35<00:00,  4.65it/s]\n",
      "                 Class     Images  Instances      Box(P          R      mAP50  mAP50-95)     Mask(P          R      mAP50  mAP50-95): 100%|██████████| 26/26 [00:10<00:00,  2.50it/s]"
     ]
    },
    {
     "name": "stdout",
     "output_type": "stream",
     "text": [
      "                   all        807       7092       0.56      0.289      0.303       0.21      0.549       0.28      0.293      0.188\n"
     ]
    },
    {
     "name": "stderr",
     "output_type": "stream",
     "text": [
      "\n"
     ]
    },
    {
     "name": "stdout",
     "output_type": "stream",
     "text": [
      "\n",
      "      Epoch    GPU_mem   box_loss   seg_loss   cls_loss   dfl_loss  Instances       Size\n"
     ]
    },
    {
     "name": "stderr",
     "output_type": "stream",
     "text": [
      "     12/200      6.01G      1.178      2.619      1.825      1.244         98        768: 100%|██████████| 166/166 [00:35<00:00,  4.73it/s]\n",
      "                 Class     Images  Instances      Box(P          R      mAP50  mAP50-95)     Mask(P          R      mAP50  mAP50-95): 100%|██████████| 26/26 [00:09<00:00,  2.74it/s]"
     ]
    },
    {
     "name": "stdout",
     "output_type": "stream",
     "text": [
      "                   all        807       7092      0.616      0.275      0.304      0.217      0.585       0.27      0.291       0.19\n"
     ]
    },
    {
     "name": "stderr",
     "output_type": "stream",
     "text": [
      "\n"
     ]
    },
    {
     "name": "stdout",
     "output_type": "stream",
     "text": [
      "\n",
      "      Epoch    GPU_mem   box_loss   seg_loss   cls_loss   dfl_loss  Instances       Size\n"
     ]
    },
    {
     "name": "stderr",
     "output_type": "stream",
     "text": [
      "     13/200      7.15G      1.164      2.577      1.766      1.236         74        768: 100%|██████████| 166/166 [00:34<00:00,  4.85it/s]\n",
      "                 Class     Images  Instances      Box(P          R      mAP50  mAP50-95)     Mask(P          R      mAP50  mAP50-95): 100%|██████████| 26/26 [00:07<00:00,  3.44it/s]"
     ]
    },
    {
     "name": "stdout",
     "output_type": "stream",
     "text": [
      "                   all        807       7092      0.554      0.306      0.314      0.219      0.532      0.297        0.3      0.194\n"
     ]
    },
    {
     "name": "stderr",
     "output_type": "stream",
     "text": [
      "\n"
     ]
    },
    {
     "name": "stdout",
     "output_type": "stream",
     "text": [
      "\n",
      "      Epoch    GPU_mem   box_loss   seg_loss   cls_loss   dfl_loss  Instances       Size\n"
     ]
    },
    {
     "name": "stderr",
     "output_type": "stream",
     "text": [
      "     14/200      6.48G      1.163      2.588      1.731      1.226         56        768: 100%|██████████| 166/166 [00:33<00:00,  5.01it/s]\n",
      "                 Class     Images  Instances      Box(P          R      mAP50  mAP50-95)     Mask(P          R      mAP50  mAP50-95): 100%|██████████| 26/26 [00:06<00:00,  4.19it/s]"
     ]
    },
    {
     "name": "stdout",
     "output_type": "stream",
     "text": [
      "                   all        807       7092      0.588       0.31      0.327      0.231      0.574      0.301      0.314      0.202\n"
     ]
    },
    {
     "name": "stderr",
     "output_type": "stream",
     "text": [
      "\n"
     ]
    },
    {
     "name": "stdout",
     "output_type": "stream",
     "text": [
      "\n",
      "      Epoch    GPU_mem   box_loss   seg_loss   cls_loss   dfl_loss  Instances       Size\n"
     ]
    },
    {
     "name": "stderr",
     "output_type": "stream",
     "text": [
      "     15/200      6.01G       1.14      2.552      1.675      1.218        105        768: 100%|██████████| 166/166 [00:33<00:00,  5.01it/s]\n",
      "                 Class     Images  Instances      Box(P          R      mAP50  mAP50-95)     Mask(P          R      mAP50  mAP50-95): 100%|██████████| 26/26 [00:07<00:00,  3.29it/s]"
     ]
    },
    {
     "name": "stdout",
     "output_type": "stream",
     "text": [
      "                   all        807       7092      0.639      0.301       0.33      0.233      0.625      0.291      0.317      0.206\n"
     ]
    },
    {
     "name": "stderr",
     "output_type": "stream",
     "text": [
      "\n"
     ]
    },
    {
     "name": "stdout",
     "output_type": "stream",
     "text": [
      "\n",
      "      Epoch    GPU_mem   box_loss   seg_loss   cls_loss   dfl_loss  Instances       Size\n"
     ]
    },
    {
     "name": "stderr",
     "output_type": "stream",
     "text": [
      "     16/200      6.93G      1.156       2.57      1.691      1.222         26        768: 100%|██████████| 166/166 [00:33<00:00,  4.97it/s]\n",
      "                 Class     Images  Instances      Box(P          R      mAP50  mAP50-95)     Mask(P          R      mAP50  mAP50-95): 100%|██████████| 26/26 [00:15<00:00,  1.70it/s]\n"
     ]
    },
    {
     "name": "stdout",
     "output_type": "stream",
     "text": [
      "                   all        807       7092      0.586      0.313      0.332      0.235       0.61      0.293       0.32      0.206\n",
      "\n",
      "      Epoch    GPU_mem   box_loss   seg_loss   cls_loss   dfl_loss  Instances       Size\n"
     ]
    },
    {
     "name": "stderr",
     "output_type": "stream",
     "text": [
      "     17/200      6.53G      1.151       2.55      1.664      1.219        116        768: 100%|██████████| 166/166 [00:33<00:00,  4.94it/s]\n",
      "                 Class     Images  Instances      Box(P          R      mAP50  mAP50-95)     Mask(P          R      mAP50  mAP50-95): 100%|██████████| 26/26 [00:08<00:00,  3.19it/s]"
     ]
    },
    {
     "name": "stdout",
     "output_type": "stream",
     "text": [
      "                   all        807       7092      0.589      0.314      0.327      0.235      0.586      0.306      0.316      0.208\n"
     ]
    },
    {
     "name": "stderr",
     "output_type": "stream",
     "text": [
      "\n"
     ]
    },
    {
     "name": "stdout",
     "output_type": "stream",
     "text": [
      "\n",
      "      Epoch    GPU_mem   box_loss   seg_loss   cls_loss   dfl_loss  Instances       Size\n"
     ]
    },
    {
     "name": "stderr",
     "output_type": "stream",
     "text": [
      "     18/200      7.31G      1.149      2.548      1.641      1.213         52        768: 100%|██████████| 166/166 [00:33<00:00,  4.92it/s]\n",
      "                 Class     Images  Instances      Box(P          R      mAP50  mAP50-95)     Mask(P          R      mAP50  mAP50-95): 100%|██████████| 26/26 [00:07<00:00,  3.40it/s]"
     ]
    },
    {
     "name": "stdout",
     "output_type": "stream",
     "text": [
      "                   all        807       7092      0.558      0.308      0.332      0.237      0.609      0.286       0.32      0.207\n"
     ]
    },
    {
     "name": "stderr",
     "output_type": "stream",
     "text": [
      "\n"
     ]
    },
    {
     "name": "stdout",
     "output_type": "stream",
     "text": [
      "\n",
      "      Epoch    GPU_mem   box_loss   seg_loss   cls_loss   dfl_loss  Instances       Size\n"
     ]
    },
    {
     "name": "stderr",
     "output_type": "stream",
     "text": [
      "     19/200      5.61G      1.135      2.508      1.625      1.211         92        768: 100%|██████████| 166/166 [00:33<00:00,  4.99it/s]\n",
      "                 Class     Images  Instances      Box(P          R      mAP50  mAP50-95)     Mask(P          R      mAP50  mAP50-95): 100%|██████████| 26/26 [00:07<00:00,  3.61it/s]"
     ]
    },
    {
     "name": "stdout",
     "output_type": "stream",
     "text": [
      "                   all        807       7092      0.657      0.317      0.349       0.25      0.648      0.311      0.337      0.223\n"
     ]
    },
    {
     "name": "stderr",
     "output_type": "stream",
     "text": [
      "\n"
     ]
    },
    {
     "name": "stdout",
     "output_type": "stream",
     "text": [
      "\n",
      "      Epoch    GPU_mem   box_loss   seg_loss   cls_loss   dfl_loss  Instances       Size\n"
     ]
    },
    {
     "name": "stderr",
     "output_type": "stream",
     "text": [
      "     20/200      5.76G      1.121      2.486      1.555      1.201         84        768: 100%|██████████| 166/166 [00:33<00:00,  4.96it/s]\n",
      "                 Class     Images  Instances      Box(P          R      mAP50  mAP50-95)     Mask(P          R      mAP50  mAP50-95): 100%|██████████| 26/26 [00:06<00:00,  4.14it/s]"
     ]
    },
    {
     "name": "stdout",
     "output_type": "stream",
     "text": [
      "                   all        807       7092      0.649      0.306      0.342      0.244      0.629      0.301      0.329      0.215\n"
     ]
    },
    {
     "name": "stderr",
     "output_type": "stream",
     "text": [
      "\n"
     ]
    },
    {
     "name": "stdout",
     "output_type": "stream",
     "text": [
      "\n",
      "      Epoch    GPU_mem   box_loss   seg_loss   cls_loss   dfl_loss  Instances       Size\n"
     ]
    },
    {
     "name": "stderr",
     "output_type": "stream",
     "text": [
      "     21/200      5.53G      1.121      2.484      1.557      1.203        102        768: 100%|██████████| 166/166 [00:33<00:00,  4.94it/s]\n",
      "                 Class     Images  Instances      Box(P          R      mAP50  mAP50-95)     Mask(P          R      mAP50  mAP50-95): 100%|██████████| 26/26 [00:08<00:00,  3.05it/s]\n"
     ]
    },
    {
     "name": "stdout",
     "output_type": "stream",
     "text": [
      "                   all        807       7092      0.634      0.316      0.347      0.253      0.619      0.308      0.333       0.22\n",
      "\n",
      "      Epoch    GPU_mem   box_loss   seg_loss   cls_loss   dfl_loss  Instances       Size\n"
     ]
    },
    {
     "name": "stderr",
     "output_type": "stream",
     "text": [
      "     22/200       6.3G      1.121      2.502      1.527      1.196        197        768: 100%|██████████| 166/166 [00:35<00:00,  4.68it/s]\n",
      "                 Class     Images  Instances      Box(P          R      mAP50  mAP50-95)     Mask(P          R      mAP50  mAP50-95): 100%|██████████| 26/26 [00:06<00:00,  3.94it/s]"
     ]
    },
    {
     "name": "stdout",
     "output_type": "stream",
     "text": [
      "                   all        807       7092      0.618      0.319      0.339      0.243      0.599      0.311      0.324      0.209\n"
     ]
    },
    {
     "name": "stderr",
     "output_type": "stream",
     "text": [
      "\n"
     ]
    },
    {
     "name": "stdout",
     "output_type": "stream",
     "text": [
      "\n",
      "      Epoch    GPU_mem   box_loss   seg_loss   cls_loss   dfl_loss  Instances       Size\n"
     ]
    },
    {
     "name": "stderr",
     "output_type": "stream",
     "text": [
      "     23/200      6.04G      1.108      2.467      1.502      1.189        129        768: 100%|██████████| 166/166 [00:32<00:00,  5.04it/s]\n",
      "                 Class     Images  Instances      Box(P          R      mAP50  mAP50-95)     Mask(P          R      mAP50  mAP50-95): 100%|██████████| 26/26 [00:07<00:00,  3.33it/s]"
     ]
    },
    {
     "name": "stdout",
     "output_type": "stream",
     "text": [
      "                   all        807       7092      0.598       0.33      0.351       0.25      0.586      0.316      0.335      0.223\n"
     ]
    },
    {
     "name": "stderr",
     "output_type": "stream",
     "text": [
      "\n"
     ]
    },
    {
     "name": "stdout",
     "output_type": "stream",
     "text": [
      "\n",
      "      Epoch    GPU_mem   box_loss   seg_loss   cls_loss   dfl_loss  Instances       Size\n"
     ]
    },
    {
     "name": "stderr",
     "output_type": "stream",
     "text": [
      "     24/200      6.67G      1.124      2.492      1.506      1.192         82        768: 100%|██████████| 166/166 [00:33<00:00,  4.94it/s]\n",
      "                 Class     Images  Instances      Box(P          R      mAP50  mAP50-95)     Mask(P          R      mAP50  mAP50-95): 100%|██████████| 26/26 [00:09<00:00,  2.70it/s]"
     ]
    },
    {
     "name": "stdout",
     "output_type": "stream",
     "text": [
      "                   all        807       7092      0.679      0.319      0.361      0.258      0.676       0.31      0.348       0.23\n"
     ]
    },
    {
     "name": "stderr",
     "output_type": "stream",
     "text": [
      "\n"
     ]
    },
    {
     "name": "stdout",
     "output_type": "stream",
     "text": [
      "\n",
      "      Epoch    GPU_mem   box_loss   seg_loss   cls_loss   dfl_loss  Instances       Size\n"
     ]
    },
    {
     "name": "stderr",
     "output_type": "stream",
     "text": [
      "     25/200       6.9G      1.113      2.476      1.491      1.195        196        768: 100%|██████████| 166/166 [00:33<00:00,  4.90it/s]\n",
      "                 Class     Images  Instances      Box(P          R      mAP50  mAP50-95)     Mask(P          R      mAP50  mAP50-95): 100%|██████████| 26/26 [00:07<00:00,  3.44it/s]"
     ]
    },
    {
     "name": "stdout",
     "output_type": "stream",
     "text": [
      "                   all        807       7092      0.655      0.337      0.365      0.264      0.642      0.329      0.353      0.234\n"
     ]
    },
    {
     "name": "stderr",
     "output_type": "stream",
     "text": [
      "\n"
     ]
    },
    {
     "name": "stdout",
     "output_type": "stream",
     "text": [
      "\n",
      "      Epoch    GPU_mem   box_loss   seg_loss   cls_loss   dfl_loss  Instances       Size\n"
     ]
    },
    {
     "name": "stderr",
     "output_type": "stream",
     "text": [
      "     26/200      6.34G      1.101      2.459      1.472       1.19         55        768: 100%|██████████| 166/166 [00:33<00:00,  5.02it/s]\n",
      "                 Class     Images  Instances      Box(P          R      mAP50  mAP50-95)     Mask(P          R      mAP50  mAP50-95): 100%|██████████| 26/26 [00:09<00:00,  2.85it/s]"
     ]
    },
    {
     "name": "stdout",
     "output_type": "stream",
     "text": [
      "                   all        807       7092      0.641      0.339      0.362      0.263      0.631      0.327      0.347       0.23\n"
     ]
    },
    {
     "name": "stderr",
     "output_type": "stream",
     "text": [
      "\n"
     ]
    },
    {
     "name": "stdout",
     "output_type": "stream",
     "text": [
      "\n",
      "      Epoch    GPU_mem   box_loss   seg_loss   cls_loss   dfl_loss  Instances       Size\n"
     ]
    },
    {
     "name": "stderr",
     "output_type": "stream",
     "text": [
      "     27/200      6.69G      1.086      2.433      1.431      1.178        114        768: 100%|██████████| 166/166 [00:33<00:00,  4.91it/s]\n",
      "                 Class     Images  Instances      Box(P          R      mAP50  mAP50-95)     Mask(P          R      mAP50  mAP50-95): 100%|██████████| 26/26 [00:07<00:00,  3.39it/s]"
     ]
    },
    {
     "name": "stdout",
     "output_type": "stream",
     "text": [
      "                   all        807       7092      0.634      0.338       0.37      0.267      0.623      0.331      0.356      0.233\n"
     ]
    },
    {
     "name": "stderr",
     "output_type": "stream",
     "text": [
      "\n"
     ]
    },
    {
     "name": "stdout",
     "output_type": "stream",
     "text": [
      "\n",
      "      Epoch    GPU_mem   box_loss   seg_loss   cls_loss   dfl_loss  Instances       Size\n"
     ]
    },
    {
     "name": "stderr",
     "output_type": "stream",
     "text": [
      "     28/200      5.38G      1.104      2.442      1.435      1.184        112        768: 100%|██████████| 166/166 [00:34<00:00,  4.85it/s]\n",
      "                 Class     Images  Instances      Box(P          R      mAP50  mAP50-95)     Mask(P          R      mAP50  mAP50-95): 100%|██████████| 26/26 [00:06<00:00,  3.92it/s]"
     ]
    },
    {
     "name": "stdout",
     "output_type": "stream",
     "text": [
      "                   all        807       7092      0.681      0.334       0.37      0.269      0.652      0.324      0.354      0.238\n"
     ]
    },
    {
     "name": "stderr",
     "output_type": "stream",
     "text": [
      "\n"
     ]
    },
    {
     "name": "stdout",
     "output_type": "stream",
     "text": [
      "\n",
      "      Epoch    GPU_mem   box_loss   seg_loss   cls_loss   dfl_loss  Instances       Size\n"
     ]
    },
    {
     "name": "stderr",
     "output_type": "stream",
     "text": [
      "     29/200      4.88G       1.09      2.439      1.434      1.185        127        768: 100%|██████████| 166/166 [00:33<00:00,  4.96it/s]\n",
      "                 Class     Images  Instances      Box(P          R      mAP50  mAP50-95)     Mask(P          R      mAP50  mAP50-95): 100%|██████████| 26/26 [00:06<00:00,  4.11it/s]"
     ]
    },
    {
     "name": "stdout",
     "output_type": "stream",
     "text": [
      "                   all        807       7092      0.653      0.337      0.371      0.269      0.642      0.331      0.357      0.235\n"
     ]
    },
    {
     "name": "stderr",
     "output_type": "stream",
     "text": [
      "\n"
     ]
    },
    {
     "name": "stdout",
     "output_type": "stream",
     "text": [
      "\n",
      "      Epoch    GPU_mem   box_loss   seg_loss   cls_loss   dfl_loss  Instances       Size\n"
     ]
    },
    {
     "name": "stderr",
     "output_type": "stream",
     "text": [
      "     30/200       6.7G      1.094      2.415      1.411      1.183         86        768: 100%|██████████| 166/166 [00:33<00:00,  5.00it/s]\n",
      "                 Class     Images  Instances      Box(P          R      mAP50  mAP50-95)     Mask(P          R      mAP50  mAP50-95): 100%|██████████| 26/26 [00:10<00:00,  2.42it/s]"
     ]
    },
    {
     "name": "stdout",
     "output_type": "stream",
     "text": [
      "                   all        807       7092      0.683      0.336      0.377      0.274      0.663      0.327       0.36       0.24\n"
     ]
    },
    {
     "name": "stderr",
     "output_type": "stream",
     "text": [
      "\n"
     ]
    },
    {
     "name": "stdout",
     "output_type": "stream",
     "text": [
      "\n",
      "      Epoch    GPU_mem   box_loss   seg_loss   cls_loss   dfl_loss  Instances       Size\n"
     ]
    },
    {
     "name": "stderr",
     "output_type": "stream",
     "text": [
      "     31/200      7.41G      1.094      2.415      1.385      1.172        106        768: 100%|██████████| 166/166 [00:33<00:00,  4.89it/s]\n",
      "                 Class     Images  Instances      Box(P          R      mAP50  mAP50-95)     Mask(P          R      mAP50  mAP50-95): 100%|██████████| 26/26 [00:07<00:00,  3.42it/s]"
     ]
    },
    {
     "name": "stdout",
     "output_type": "stream",
     "text": [
      "                   all        807       7092      0.659      0.347      0.377      0.277      0.643       0.34      0.362      0.242\n"
     ]
    },
    {
     "name": "stderr",
     "output_type": "stream",
     "text": [
      "\n"
     ]
    },
    {
     "name": "stdout",
     "output_type": "stream",
     "text": [
      "\n",
      "      Epoch    GPU_mem   box_loss   seg_loss   cls_loss   dfl_loss  Instances       Size\n"
     ]
    },
    {
     "name": "stderr",
     "output_type": "stream",
     "text": [
      "     32/200      6.77G      1.068       2.39      1.376      1.166        100        768: 100%|██████████| 166/166 [00:33<00:00,  4.97it/s]\n",
      "                 Class     Images  Instances      Box(P          R      mAP50  mAP50-95)     Mask(P          R      mAP50  mAP50-95): 100%|██████████| 26/26 [00:09<00:00,  2.79it/s]"
     ]
    },
    {
     "name": "stdout",
     "output_type": "stream",
     "text": [
      "                   all        807       7092      0.694       0.34      0.378      0.275      0.673      0.332      0.363      0.241\n"
     ]
    },
    {
     "name": "stderr",
     "output_type": "stream",
     "text": [
      "\n"
     ]
    },
    {
     "name": "stdout",
     "output_type": "stream",
     "text": [
      "\n",
      "      Epoch    GPU_mem   box_loss   seg_loss   cls_loss   dfl_loss  Instances       Size\n"
     ]
    },
    {
     "name": "stderr",
     "output_type": "stream",
     "text": [
      "     33/200       8.1G      1.064      2.367      1.371      1.163        101        768: 100%|██████████| 166/166 [00:34<00:00,  4.82it/s]\n",
      "                 Class     Images  Instances      Box(P          R      mAP50  mAP50-95)     Mask(P          R      mAP50  mAP50-95): 100%|██████████| 26/26 [00:06<00:00,  3.96it/s]"
     ]
    },
    {
     "name": "stdout",
     "output_type": "stream",
     "text": [
      "                   all        807       7092      0.662      0.352      0.381      0.278      0.646      0.346      0.367      0.244\n"
     ]
    },
    {
     "name": "stderr",
     "output_type": "stream",
     "text": [
      "\n"
     ]
    },
    {
     "name": "stdout",
     "output_type": "stream",
     "text": [
      "\n",
      "      Epoch    GPU_mem   box_loss   seg_loss   cls_loss   dfl_loss  Instances       Size\n"
     ]
    },
    {
     "name": "stderr",
     "output_type": "stream",
     "text": [
      "     34/200      6.65G      1.086      2.416      1.352      1.163         72        768: 100%|██████████| 166/166 [00:33<00:00,  4.94it/s]\n",
      "                 Class     Images  Instances      Box(P          R      mAP50  mAP50-95)     Mask(P          R      mAP50  mAP50-95): 100%|██████████| 26/26 [00:07<00:00,  3.44it/s]"
     ]
    },
    {
     "name": "stdout",
     "output_type": "stream",
     "text": [
      "                   all        807       7092      0.723      0.343      0.386      0.282      0.715      0.332      0.369      0.249\n"
     ]
    },
    {
     "name": "stderr",
     "output_type": "stream",
     "text": [
      "\n"
     ]
    },
    {
     "name": "stdout",
     "output_type": "stream",
     "text": [
      "\n",
      "      Epoch    GPU_mem   box_loss   seg_loss   cls_loss   dfl_loss  Instances       Size\n"
     ]
    },
    {
     "name": "stderr",
     "output_type": "stream",
     "text": [
      "     35/200      6.08G      1.065      2.368      1.349      1.164         40        768: 100%|██████████| 166/166 [00:32<00:00,  5.04it/s]\n",
      "                 Class     Images  Instances      Box(P          R      mAP50  mAP50-95)     Mask(P          R      mAP50  mAP50-95): 100%|██████████| 26/26 [00:06<00:00,  4.25it/s]"
     ]
    },
    {
     "name": "stdout",
     "output_type": "stream",
     "text": [
      "                   all        807       7092      0.669      0.352      0.391      0.285      0.664      0.341      0.375       0.25\n"
     ]
    },
    {
     "name": "stderr",
     "output_type": "stream",
     "text": [
      "\n"
     ]
    },
    {
     "name": "stdout",
     "output_type": "stream",
     "text": [
      "\n",
      "      Epoch    GPU_mem   box_loss   seg_loss   cls_loss   dfl_loss  Instances       Size\n"
     ]
    },
    {
     "name": "stderr",
     "output_type": "stream",
     "text": [
      "     36/200      6.51G      1.072      2.374      1.339      1.158         54        768: 100%|██████████| 166/166 [00:32<00:00,  5.07it/s]\n",
      "                 Class     Images  Instances      Box(P          R      mAP50  mAP50-95)     Mask(P          R      mAP50  mAP50-95): 100%|██████████| 26/26 [00:08<00:00,  3.20it/s]"
     ]
    },
    {
     "name": "stdout",
     "output_type": "stream",
     "text": [
      "                   all        807       7092      0.686      0.354      0.385       0.28      0.666      0.347      0.371      0.248\n"
     ]
    },
    {
     "name": "stderr",
     "output_type": "stream",
     "text": [
      "\n"
     ]
    },
    {
     "name": "stdout",
     "output_type": "stream",
     "text": [
      "\n",
      "      Epoch    GPU_mem   box_loss   seg_loss   cls_loss   dfl_loss  Instances       Size\n"
     ]
    },
    {
     "name": "stderr",
     "output_type": "stream",
     "text": [
      "     37/200      6.42G      1.053       2.34      1.324      1.156         61        768: 100%|██████████| 166/166 [00:32<00:00,  5.07it/s]\n",
      "                 Class     Images  Instances      Box(P          R      mAP50  mAP50-95)     Mask(P          R      mAP50  mAP50-95): 100%|██████████| 26/26 [00:08<00:00,  3.15it/s]\n"
     ]
    },
    {
     "name": "stdout",
     "output_type": "stream",
     "text": [
      "                   all        807       7092        0.7      0.359      0.397      0.293      0.696      0.342      0.379      0.253\n",
      "\n",
      "      Epoch    GPU_mem   box_loss   seg_loss   cls_loss   dfl_loss  Instances       Size\n"
     ]
    },
    {
     "name": "stderr",
     "output_type": "stream",
     "text": [
      "     38/200      6.08G      1.067      2.384      1.333       1.16         31        768: 100%|██████████| 166/166 [00:32<00:00,  5.05it/s]\n",
      "                 Class     Images  Instances      Box(P          R      mAP50  mAP50-95)     Mask(P          R      mAP50  mAP50-95): 100%|██████████| 26/26 [00:07<00:00,  3.48it/s]"
     ]
    },
    {
     "name": "stdout",
     "output_type": "stream",
     "text": [
      "                   all        807       7092       0.65      0.363      0.398      0.295      0.659      0.348      0.381      0.257\n"
     ]
    },
    {
     "name": "stderr",
     "output_type": "stream",
     "text": [
      "\n"
     ]
    },
    {
     "name": "stdout",
     "output_type": "stream",
     "text": [
      "\n",
      "      Epoch    GPU_mem   box_loss   seg_loss   cls_loss   dfl_loss  Instances       Size\n"
     ]
    },
    {
     "name": "stderr",
     "output_type": "stream",
     "text": [
      "     39/200      6.91G      1.055      2.344      1.289      1.157         63        768: 100%|██████████| 166/166 [00:32<00:00,  5.16it/s]\n",
      "                 Class     Images  Instances      Box(P          R      mAP50  mAP50-95)     Mask(P          R      mAP50  mAP50-95): 100%|██████████| 26/26 [00:06<00:00,  4.15it/s]"
     ]
    },
    {
     "name": "stdout",
     "output_type": "stream",
     "text": [
      "                   all        807       7092      0.723      0.357      0.398       0.29      0.707      0.344       0.38      0.255\n"
     ]
    },
    {
     "name": "stderr",
     "output_type": "stream",
     "text": [
      "\n"
     ]
    },
    {
     "name": "stdout",
     "output_type": "stream",
     "text": [
      "\n",
      "      Epoch    GPU_mem   box_loss   seg_loss   cls_loss   dfl_loss  Instances       Size\n"
     ]
    },
    {
     "name": "stderr",
     "output_type": "stream",
     "text": [
      "     40/200      4.93G      1.042      2.339       1.28      1.146         43        768: 100%|██████████| 166/166 [00:32<00:00,  5.14it/s]\n",
      "                 Class     Images  Instances      Box(P          R      mAP50  mAP50-95)     Mask(P          R      mAP50  mAP50-95): 100%|██████████| 26/26 [00:06<00:00,  4.29it/s]"
     ]
    },
    {
     "name": "stdout",
     "output_type": "stream",
     "text": [
      "                   all        807       7092      0.706      0.359        0.4      0.296      0.698      0.349      0.386       0.26\n"
     ]
    },
    {
     "name": "stderr",
     "output_type": "stream",
     "text": [
      "\n"
     ]
    },
    {
     "name": "stdout",
     "output_type": "stream",
     "text": [
      "\n",
      "      Epoch    GPU_mem   box_loss   seg_loss   cls_loss   dfl_loss  Instances       Size\n"
     ]
    },
    {
     "name": "stderr",
     "output_type": "stream",
     "text": [
      "     41/200      6.01G      1.056      2.333        1.3      1.156         61        768: 100%|██████████| 166/166 [00:32<00:00,  5.14it/s]\n",
      "                 Class     Images  Instances      Box(P          R      mAP50  mAP50-95)     Mask(P          R      mAP50  mAP50-95): 100%|██████████| 26/26 [00:06<00:00,  3.75it/s]"
     ]
    },
    {
     "name": "stdout",
     "output_type": "stream",
     "text": [
      "                   all        807       7092      0.713      0.363      0.404      0.296      0.714      0.352      0.389      0.259\n"
     ]
    },
    {
     "name": "stderr",
     "output_type": "stream",
     "text": [
      "\n"
     ]
    },
    {
     "name": "stdout",
     "output_type": "stream",
     "text": [
      "\n",
      "      Epoch    GPU_mem   box_loss   seg_loss   cls_loss   dfl_loss  Instances       Size\n"
     ]
    },
    {
     "name": "stderr",
     "output_type": "stream",
     "text": [
      "     42/200      5.73G      1.036      2.327      1.273      1.145         41        768: 100%|██████████| 166/166 [00:32<00:00,  5.19it/s]\n",
      "                 Class     Images  Instances      Box(P          R      mAP50  mAP50-95)     Mask(P          R      mAP50  mAP50-95): 100%|██████████| 26/26 [00:05<00:00,  4.36it/s]"
     ]
    },
    {
     "name": "stdout",
     "output_type": "stream",
     "text": [
      "                   all        807       7092      0.684      0.373      0.405      0.301      0.681       0.36      0.389      0.264\n"
     ]
    },
    {
     "name": "stderr",
     "output_type": "stream",
     "text": [
      "\n"
     ]
    },
    {
     "name": "stdout",
     "output_type": "stream",
     "text": [
      "\n",
      "      Epoch    GPU_mem   box_loss   seg_loss   cls_loss   dfl_loss  Instances       Size\n"
     ]
    },
    {
     "name": "stderr",
     "output_type": "stream",
     "text": [
      "     43/200      6.38G      1.046      2.337      1.275      1.145         60        768: 100%|██████████| 166/166 [00:32<00:00,  5.17it/s]\n",
      "                 Class     Images  Instances      Box(P          R      mAP50  mAP50-95)     Mask(P          R      mAP50  mAP50-95): 100%|██████████| 26/26 [00:08<00:00,  3.16it/s]"
     ]
    },
    {
     "name": "stdout",
     "output_type": "stream",
     "text": [
      "                   all        807       7092       0.72      0.356      0.403      0.297      0.696       0.35      0.388       0.26\n"
     ]
    },
    {
     "name": "stderr",
     "output_type": "stream",
     "text": [
      "\n"
     ]
    },
    {
     "name": "stdout",
     "output_type": "stream",
     "text": [
      "\n",
      "      Epoch    GPU_mem   box_loss   seg_loss   cls_loss   dfl_loss  Instances       Size\n"
     ]
    },
    {
     "name": "stderr",
     "output_type": "stream",
     "text": [
      "     44/200      6.28G      1.043      2.335      1.258      1.144         76        768: 100%|██████████| 166/166 [00:32<00:00,  5.08it/s]\n",
      "                 Class     Images  Instances      Box(P          R      mAP50  mAP50-95)     Mask(P          R      mAP50  mAP50-95): 100%|██████████| 26/26 [00:06<00:00,  4.19it/s]"
     ]
    },
    {
     "name": "stdout",
     "output_type": "stream",
     "text": [
      "                   all        807       7092       0.67      0.374      0.407        0.3      0.664      0.359      0.389      0.262\n"
     ]
    },
    {
     "name": "stderr",
     "output_type": "stream",
     "text": [
      "\n"
     ]
    },
    {
     "name": "stdout",
     "output_type": "stream",
     "text": [
      "\n",
      "      Epoch    GPU_mem   box_loss   seg_loss   cls_loss   dfl_loss  Instances       Size\n"
     ]
    },
    {
     "name": "stderr",
     "output_type": "stream",
     "text": [
      "     45/200      5.33G       1.04      2.312      1.251      1.142        128        768: 100%|██████████| 166/166 [00:32<00:00,  5.08it/s]\n",
      "                 Class     Images  Instances      Box(P          R      mAP50  mAP50-95)     Mask(P          R      mAP50  mAP50-95): 100%|██████████| 26/26 [00:06<00:00,  4.22it/s]"
     ]
    },
    {
     "name": "stdout",
     "output_type": "stream",
     "text": [
      "                   all        807       7092      0.752      0.366      0.411      0.306      0.731      0.352      0.391      0.267\n"
     ]
    },
    {
     "name": "stderr",
     "output_type": "stream",
     "text": [
      "\n"
     ]
    },
    {
     "name": "stdout",
     "output_type": "stream",
     "text": [
      "\n",
      "      Epoch    GPU_mem   box_loss   seg_loss   cls_loss   dfl_loss  Instances       Size\n"
     ]
    },
    {
     "name": "stderr",
     "output_type": "stream",
     "text": [
      "     46/200      6.77G      1.031      2.296      1.243      1.132         58        768: 100%|██████████| 166/166 [00:32<00:00,  5.10it/s]\n",
      "                 Class     Images  Instances      Box(P          R      mAP50  mAP50-95)     Mask(P          R      mAP50  mAP50-95): 100%|██████████| 26/26 [00:07<00:00,  3.59it/s]"
     ]
    },
    {
     "name": "stdout",
     "output_type": "stream",
     "text": [
      "                   all        807       7092      0.706      0.366      0.408      0.301      0.701      0.352       0.39      0.261\n"
     ]
    },
    {
     "name": "stderr",
     "output_type": "stream",
     "text": [
      "\n"
     ]
    },
    {
     "name": "stdout",
     "output_type": "stream",
     "text": [
      "\n",
      "      Epoch    GPU_mem   box_loss   seg_loss   cls_loss   dfl_loss  Instances       Size\n"
     ]
    },
    {
     "name": "stderr",
     "output_type": "stream",
     "text": [
      "     47/200      5.55G      1.038       2.32      1.256      1.145         72        768: 100%|██████████| 166/166 [00:32<00:00,  5.13it/s]\n",
      "                 Class     Images  Instances      Box(P          R      mAP50  mAP50-95)     Mask(P          R      mAP50  mAP50-95): 100%|██████████| 26/26 [00:06<00:00,  4.33it/s]"
     ]
    },
    {
     "name": "stdout",
     "output_type": "stream",
     "text": [
      "                   all        807       7092      0.726      0.368      0.415      0.307      0.714      0.355      0.398      0.267\n"
     ]
    },
    {
     "name": "stderr",
     "output_type": "stream",
     "text": [
      "\n"
     ]
    },
    {
     "name": "stdout",
     "output_type": "stream",
     "text": [
      "\n",
      "      Epoch    GPU_mem   box_loss   seg_loss   cls_loss   dfl_loss  Instances       Size\n"
     ]
    },
    {
     "name": "stderr",
     "output_type": "stream",
     "text": [
      "     48/200      6.14G      1.037      2.314      1.243      1.141         87        768: 100%|██████████| 166/166 [00:32<00:00,  5.14it/s]\n",
      "                 Class     Images  Instances      Box(P          R      mAP50  mAP50-95)     Mask(P          R      mAP50  mAP50-95): 100%|██████████| 26/26 [00:07<00:00,  3.33it/s]"
     ]
    },
    {
     "name": "stdout",
     "output_type": "stream",
     "text": [
      "                   all        807       7092      0.703      0.377      0.416      0.306      0.709      0.364      0.398      0.266\n"
     ]
    },
    {
     "name": "stderr",
     "output_type": "stream",
     "text": [
      "\n"
     ]
    },
    {
     "name": "stdout",
     "output_type": "stream",
     "text": [
      "\n",
      "      Epoch    GPU_mem   box_loss   seg_loss   cls_loss   dfl_loss  Instances       Size\n"
     ]
    },
    {
     "name": "stderr",
     "output_type": "stream",
     "text": [
      "     49/200      5.83G       1.03      2.291      1.232      1.133        108        768: 100%|██████████| 166/166 [00:32<00:00,  5.12it/s]\n",
      "                 Class     Images  Instances      Box(P          R      mAP50  mAP50-95)     Mask(P          R      mAP50  mAP50-95): 100%|██████████| 26/26 [00:06<00:00,  3.90it/s]"
     ]
    },
    {
     "name": "stdout",
     "output_type": "stream",
     "text": [
      "                   all        807       7092      0.687      0.377      0.413      0.311      0.689      0.362      0.397       0.27\n"
     ]
    },
    {
     "name": "stderr",
     "output_type": "stream",
     "text": [
      "\n"
     ]
    },
    {
     "name": "stdout",
     "output_type": "stream",
     "text": [
      "\n",
      "      Epoch    GPU_mem   box_loss   seg_loss   cls_loss   dfl_loss  Instances       Size\n"
     ]
    },
    {
     "name": "stderr",
     "output_type": "stream",
     "text": [
      "     50/200      4.98G      1.013       2.26      1.205      1.129         47        768: 100%|██████████| 166/166 [00:32<00:00,  5.07it/s]\n",
      "                 Class     Images  Instances      Box(P          R      mAP50  mAP50-95)     Mask(P          R      mAP50  mAP50-95): 100%|██████████| 26/26 [00:06<00:00,  4.20it/s]"
     ]
    },
    {
     "name": "stdout",
     "output_type": "stream",
     "text": [
      "                   all        807       7092      0.724      0.368      0.408      0.306      0.716      0.361      0.395      0.267\n"
     ]
    },
    {
     "name": "stderr",
     "output_type": "stream",
     "text": [
      "\n"
     ]
    },
    {
     "name": "stdout",
     "output_type": "stream",
     "text": [
      "\n",
      "      Epoch    GPU_mem   box_loss   seg_loss   cls_loss   dfl_loss  Instances       Size\n"
     ]
    },
    {
     "name": "stderr",
     "output_type": "stream",
     "text": [
      "     51/200      5.77G      1.023      2.279      1.218      1.134         83        768: 100%|██████████| 166/166 [00:32<00:00,  5.15it/s]\n",
      "                 Class     Images  Instances      Box(P          R      mAP50  mAP50-95)     Mask(P          R      mAP50  mAP50-95): 100%|██████████| 26/26 [00:06<00:00,  4.14it/s]"
     ]
    },
    {
     "name": "stdout",
     "output_type": "stream",
     "text": [
      "                   all        807       7092      0.713      0.376      0.414      0.311        0.7      0.367      0.401      0.273\n"
     ]
    },
    {
     "name": "stderr",
     "output_type": "stream",
     "text": [
      "\n"
     ]
    },
    {
     "name": "stdout",
     "output_type": "stream",
     "text": [
      "\n",
      "      Epoch    GPU_mem   box_loss   seg_loss   cls_loss   dfl_loss  Instances       Size\n"
     ]
    },
    {
     "name": "stderr",
     "output_type": "stream",
     "text": [
      "     52/200      7.15G      1.026       2.28       1.21      1.139         85        768: 100%|██████████| 166/166 [00:32<00:00,  5.18it/s]\n",
      "                 Class     Images  Instances      Box(P          R      mAP50  mAP50-95)     Mask(P          R      mAP50  mAP50-95): 100%|██████████| 26/26 [00:08<00:00,  3.04it/s]"
     ]
    },
    {
     "name": "stdout",
     "output_type": "stream",
     "text": [
      "                   all        807       7092      0.689      0.387      0.419      0.316      0.705      0.366        0.4      0.275\n"
     ]
    },
    {
     "name": "stderr",
     "output_type": "stream",
     "text": [
      "\n"
     ]
    },
    {
     "name": "stdout",
     "output_type": "stream",
     "text": [
      "\n",
      "      Epoch    GPU_mem   box_loss   seg_loss   cls_loss   dfl_loss  Instances       Size\n"
     ]
    },
    {
     "name": "stderr",
     "output_type": "stream",
     "text": [
      "     53/200      5.92G      1.024      2.283      1.204      1.128         86        768: 100%|██████████| 166/166 [00:32<00:00,  5.13it/s]\n",
      "                 Class     Images  Instances      Box(P          R      mAP50  mAP50-95)     Mask(P          R      mAP50  mAP50-95): 100%|██████████| 26/26 [00:05<00:00,  4.35it/s]"
     ]
    },
    {
     "name": "stdout",
     "output_type": "stream",
     "text": [
      "                   all        807       7092      0.766       0.37      0.419      0.318      0.769      0.359      0.404      0.278\n"
     ]
    },
    {
     "name": "stderr",
     "output_type": "stream",
     "text": [
      "\n"
     ]
    },
    {
     "name": "stdout",
     "output_type": "stream",
     "text": [
      "\n",
      "      Epoch    GPU_mem   box_loss   seg_loss   cls_loss   dfl_loss  Instances       Size\n"
     ]
    },
    {
     "name": "stderr",
     "output_type": "stream",
     "text": [
      "     54/200      7.89G     0.9926      2.232      1.163      1.117         77        768: 100%|██████████| 166/166 [00:32<00:00,  5.11it/s]\n",
      "                 Class     Images  Instances      Box(P          R      mAP50  mAP50-95)     Mask(P          R      mAP50  mAP50-95): 100%|██████████| 26/26 [00:08<00:00,  3.23it/s]"
     ]
    },
    {
     "name": "stdout",
     "output_type": "stream",
     "text": [
      "                   all        807       7092       0.76      0.378      0.422      0.318      0.747      0.368      0.405      0.276\n"
     ]
    },
    {
     "name": "stderr",
     "output_type": "stream",
     "text": [
      "\n"
     ]
    },
    {
     "name": "stdout",
     "output_type": "stream",
     "text": [
      "\n",
      "      Epoch    GPU_mem   box_loss   seg_loss   cls_loss   dfl_loss  Instances       Size\n"
     ]
    },
    {
     "name": "stderr",
     "output_type": "stream",
     "text": [
      "     55/200      7.49G      1.014      2.278      1.172      1.118         59        768: 100%|██████████| 166/166 [00:32<00:00,  5.11it/s]\n",
      "                 Class     Images  Instances      Box(P          R      mAP50  mAP50-95)     Mask(P          R      mAP50  mAP50-95): 100%|██████████| 26/26 [00:07<00:00,  3.43it/s]"
     ]
    },
    {
     "name": "stdout",
     "output_type": "stream",
     "text": [
      "                   all        807       7092      0.724      0.384      0.423      0.321      0.715      0.376      0.408      0.281\n"
     ]
    },
    {
     "name": "stderr",
     "output_type": "stream",
     "text": [
      "\n"
     ]
    },
    {
     "name": "stdout",
     "output_type": "stream",
     "text": [
      "\n",
      "      Epoch    GPU_mem   box_loss   seg_loss   cls_loss   dfl_loss  Instances       Size\n"
     ]
    },
    {
     "name": "stderr",
     "output_type": "stream",
     "text": [
      "     56/200      8.01G      1.005      2.247      1.168      1.118         37        768: 100%|██████████| 166/166 [00:34<00:00,  4.76it/s]\n",
      "                 Class     Images  Instances      Box(P          R      mAP50  mAP50-95)     Mask(P          R      mAP50  mAP50-95): 100%|██████████| 26/26 [00:09<00:00,  2.80it/s]"
     ]
    },
    {
     "name": "stdout",
     "output_type": "stream",
     "text": [
      "                   all        807       7092      0.737      0.382      0.424      0.321      0.737      0.366      0.406      0.279\n"
     ]
    },
    {
     "name": "stderr",
     "output_type": "stream",
     "text": [
      "\n"
     ]
    },
    {
     "name": "stdout",
     "output_type": "stream",
     "text": [
      "\n",
      "      Epoch    GPU_mem   box_loss   seg_loss   cls_loss   dfl_loss  Instances       Size\n"
     ]
    },
    {
     "name": "stderr",
     "output_type": "stream",
     "text": [
      "     57/200      7.12G      1.022      2.268      1.165      1.123         74        768: 100%|██████████| 166/166 [00:32<00:00,  5.10it/s]\n",
      "                 Class     Images  Instances      Box(P          R      mAP50  mAP50-95)     Mask(P          R      mAP50  mAP50-95): 100%|██████████| 26/26 [00:09<00:00,  2.67it/s]"
     ]
    },
    {
     "name": "stdout",
     "output_type": "stream",
     "text": [
      "                   all        807       7092      0.759      0.376      0.426      0.326      0.759      0.366       0.41      0.282\n"
     ]
    },
    {
     "name": "stderr",
     "output_type": "stream",
     "text": [
      "\n"
     ]
    },
    {
     "name": "stdout",
     "output_type": "stream",
     "text": [
      "\n",
      "      Epoch    GPU_mem   box_loss   seg_loss   cls_loss   dfl_loss  Instances       Size\n"
     ]
    },
    {
     "name": "stderr",
     "output_type": "stream",
     "text": [
      "     58/200      6.49G      1.008      2.243      1.159      1.122         54        768: 100%|██████████| 166/166 [00:31<00:00,  5.22it/s]\n",
      "                 Class     Images  Instances      Box(P          R      mAP50  mAP50-95)     Mask(P          R      mAP50  mAP50-95): 100%|██████████| 26/26 [00:08<00:00,  3.25it/s]"
     ]
    },
    {
     "name": "stdout",
     "output_type": "stream",
     "text": [
      "                   all        807       7092       0.75      0.381      0.425       0.32      0.741      0.373       0.41      0.281\n"
     ]
    },
    {
     "name": "stderr",
     "output_type": "stream",
     "text": [
      "\n"
     ]
    },
    {
     "name": "stdout",
     "output_type": "stream",
     "text": [
      "\n",
      "      Epoch    GPU_mem   box_loss   seg_loss   cls_loss   dfl_loss  Instances       Size\n"
     ]
    },
    {
     "name": "stderr",
     "output_type": "stream",
     "text": [
      "     59/200      6.26G      0.992      2.215      1.155      1.113         40        768: 100%|██████████| 166/166 [00:31<00:00,  5.20it/s]\n",
      "                 Class     Images  Instances      Box(P          R      mAP50  mAP50-95)     Mask(P          R      mAP50  mAP50-95): 100%|██████████| 26/26 [00:06<00:00,  4.07it/s]"
     ]
    },
    {
     "name": "stdout",
     "output_type": "stream",
     "text": [
      "                   all        807       7092      0.713      0.387      0.427      0.324      0.717      0.378      0.414      0.283\n"
     ]
    },
    {
     "name": "stderr",
     "output_type": "stream",
     "text": [
      "\n"
     ]
    },
    {
     "name": "stdout",
     "output_type": "stream",
     "text": [
      "\n",
      "      Epoch    GPU_mem   box_loss   seg_loss   cls_loss   dfl_loss  Instances       Size\n"
     ]
    },
    {
     "name": "stderr",
     "output_type": "stream",
     "text": [
      "     60/200      6.52G      1.006       2.25      1.153      1.116        128        768: 100%|██████████| 166/166 [00:32<00:00,  5.05it/s]\n",
      "                 Class     Images  Instances      Box(P          R      mAP50  mAP50-95)     Mask(P          R      mAP50  mAP50-95): 100%|██████████| 26/26 [00:07<00:00,  3.65it/s]"
     ]
    },
    {
     "name": "stdout",
     "output_type": "stream",
     "text": [
      "                   all        807       7092      0.739      0.381      0.426      0.322      0.734       0.37      0.408      0.282\n"
     ]
    },
    {
     "name": "stderr",
     "output_type": "stream",
     "text": [
      "\n"
     ]
    },
    {
     "name": "stdout",
     "output_type": "stream",
     "text": [
      "\n",
      "      Epoch    GPU_mem   box_loss   seg_loss   cls_loss   dfl_loss  Instances       Size\n"
     ]
    },
    {
     "name": "stderr",
     "output_type": "stream",
     "text": [
      "     61/200      7.77G     0.9972      2.228      1.143      1.115         99        768: 100%|██████████| 166/166 [00:33<00:00,  5.01it/s]\n",
      "                 Class     Images  Instances      Box(P          R      mAP50  mAP50-95)     Mask(P          R      mAP50  mAP50-95): 100%|██████████| 26/26 [00:07<00:00,  3.43it/s]"
     ]
    },
    {
     "name": "stdout",
     "output_type": "stream",
     "text": [
      "                   all        807       7092      0.721      0.389      0.429      0.326      0.739      0.372      0.413      0.284\n"
     ]
    },
    {
     "name": "stderr",
     "output_type": "stream",
     "text": [
      "\n"
     ]
    },
    {
     "name": "stdout",
     "output_type": "stream",
     "text": [
      "\n",
      "      Epoch    GPU_mem   box_loss   seg_loss   cls_loss   dfl_loss  Instances       Size\n"
     ]
    },
    {
     "name": "stderr",
     "output_type": "stream",
     "text": [
      "     62/200      7.05G     0.9945      2.216      1.127      1.115         46        768: 100%|██████████| 166/166 [00:32<00:00,  5.16it/s]\n",
      "                 Class     Images  Instances      Box(P          R      mAP50  mAP50-95)     Mask(P          R      mAP50  mAP50-95): 100%|██████████| 26/26 [00:09<00:00,  2.83it/s]"
     ]
    },
    {
     "name": "stdout",
     "output_type": "stream",
     "text": [
      "                   all        807       7092      0.726      0.389      0.428      0.325      0.705      0.378       0.41       0.28\n"
     ]
    },
    {
     "name": "stderr",
     "output_type": "stream",
     "text": [
      "\n"
     ]
    },
    {
     "name": "stdout",
     "output_type": "stream",
     "text": [
      "\n",
      "      Epoch    GPU_mem   box_loss   seg_loss   cls_loss   dfl_loss  Instances       Size\n"
     ]
    },
    {
     "name": "stderr",
     "output_type": "stream",
     "text": [
      "     63/200      7.21G     0.9919      2.226      1.119      1.109         79        768: 100%|██████████| 166/166 [00:32<00:00,  5.13it/s]\n",
      "                 Class     Images  Instances      Box(P          R      mAP50  mAP50-95)     Mask(P          R      mAP50  mAP50-95): 100%|██████████| 26/26 [00:10<00:00,  2.54it/s]"
     ]
    },
    {
     "name": "stdout",
     "output_type": "stream",
     "text": [
      "                   all        807       7092      0.747      0.384      0.435       0.33      0.747       0.37      0.416      0.286\n"
     ]
    },
    {
     "name": "stderr",
     "output_type": "stream",
     "text": [
      "\n"
     ]
    },
    {
     "name": "stdout",
     "output_type": "stream",
     "text": [
      "\n",
      "      Epoch    GPU_mem   box_loss   seg_loss   cls_loss   dfl_loss  Instances       Size\n"
     ]
    },
    {
     "name": "stderr",
     "output_type": "stream",
     "text": [
      "     64/200       6.7G       1.01      2.252      1.135      1.115        134        768: 100%|██████████| 166/166 [00:32<00:00,  5.12it/s]\n",
      "                 Class     Images  Instances      Box(P          R      mAP50  mAP50-95)     Mask(P          R      mAP50  mAP50-95): 100%|██████████| 26/26 [00:05<00:00,  4.36it/s]"
     ]
    },
    {
     "name": "stdout",
     "output_type": "stream",
     "text": [
      "                   all        807       7092      0.735      0.393      0.434       0.33      0.752      0.375      0.418      0.289\n"
     ]
    },
    {
     "name": "stderr",
     "output_type": "stream",
     "text": [
      "\n"
     ]
    },
    {
     "name": "stdout",
     "output_type": "stream",
     "text": [
      "\n",
      "      Epoch    GPU_mem   box_loss   seg_loss   cls_loss   dfl_loss  Instances       Size\n"
     ]
    },
    {
     "name": "stderr",
     "output_type": "stream",
     "text": [
      "     65/200      6.67G     0.9746      2.191       1.11      1.108         71        768: 100%|██████████| 166/166 [00:31<00:00,  5.20it/s]\n",
      "                 Class     Images  Instances      Box(P          R      mAP50  mAP50-95)     Mask(P          R      mAP50  mAP50-95): 100%|██████████| 26/26 [00:05<00:00,  4.39it/s]"
     ]
    },
    {
     "name": "stdout",
     "output_type": "stream",
     "text": [
      "                   all        807       7092      0.763      0.384      0.435      0.335      0.745      0.376      0.418      0.289\n"
     ]
    },
    {
     "name": "stderr",
     "output_type": "stream",
     "text": [
      "\n"
     ]
    },
    {
     "name": "stdout",
     "output_type": "stream",
     "text": [
      "\n",
      "      Epoch    GPU_mem   box_loss   seg_loss   cls_loss   dfl_loss  Instances       Size\n"
     ]
    },
    {
     "name": "stderr",
     "output_type": "stream",
     "text": [
      "     66/200      5.01G     0.9805      2.194      1.098        1.1         52        768: 100%|██████████| 166/166 [00:31<00:00,  5.21it/s]\n",
      "                 Class     Images  Instances      Box(P          R      mAP50  mAP50-95)     Mask(P          R      mAP50  mAP50-95): 100%|██████████| 26/26 [00:05<00:00,  4.40it/s]"
     ]
    },
    {
     "name": "stdout",
     "output_type": "stream",
     "text": [
      "                   all        807       7092      0.782      0.389       0.44      0.337      0.761      0.382      0.424      0.293\n"
     ]
    },
    {
     "name": "stderr",
     "output_type": "stream",
     "text": [
      "\n"
     ]
    },
    {
     "name": "stdout",
     "output_type": "stream",
     "text": [
      "\n",
      "      Epoch    GPU_mem   box_loss   seg_loss   cls_loss   dfl_loss  Instances       Size\n"
     ]
    },
    {
     "name": "stderr",
     "output_type": "stream",
     "text": [
      "     67/200      6.81G     0.9845      2.198      1.101      1.101        121        768: 100%|██████████| 166/166 [00:32<00:00,  5.17it/s]\n",
      "                 Class     Images  Instances      Box(P          R      mAP50  mAP50-95)     Mask(P          R      mAP50  mAP50-95): 100%|██████████| 26/26 [00:08<00:00,  3.06it/s]"
     ]
    },
    {
     "name": "stdout",
     "output_type": "stream",
     "text": [
      "                   all        807       7092      0.774      0.387      0.438      0.333      0.771      0.376      0.421      0.288\n"
     ]
    },
    {
     "name": "stderr",
     "output_type": "stream",
     "text": [
      "\n"
     ]
    },
    {
     "name": "stdout",
     "output_type": "stream",
     "text": [
      "\n",
      "      Epoch    GPU_mem   box_loss   seg_loss   cls_loss   dfl_loss  Instances       Size\n"
     ]
    },
    {
     "name": "stderr",
     "output_type": "stream",
     "text": [
      "     68/200      6.99G     0.9761      2.176      1.102      1.108        101        768: 100%|██████████| 166/166 [00:32<00:00,  5.19it/s]\n",
      "                 Class     Images  Instances      Box(P          R      mAP50  mAP50-95)     Mask(P          R      mAP50  mAP50-95): 100%|██████████| 26/26 [00:06<00:00,  3.84it/s]"
     ]
    },
    {
     "name": "stdout",
     "output_type": "stream",
     "text": [
      "                   all        807       7092      0.775      0.386      0.436      0.334      0.764      0.374      0.419       0.29\n"
     ]
    },
    {
     "name": "stderr",
     "output_type": "stream",
     "text": [
      "\n"
     ]
    },
    {
     "name": "stdout",
     "output_type": "stream",
     "text": [
      "\n",
      "      Epoch    GPU_mem   box_loss   seg_loss   cls_loss   dfl_loss  Instances       Size\n"
     ]
    },
    {
     "name": "stderr",
     "output_type": "stream",
     "text": [
      "     69/200      6.21G      0.999      2.228      1.126       1.11         69        768: 100%|██████████| 166/166 [00:32<00:00,  5.12it/s]\n",
      "                 Class     Images  Instances      Box(P          R      mAP50  mAP50-95)     Mask(P          R      mAP50  mAP50-95): 100%|██████████| 26/26 [00:08<00:00,  3.04it/s]\n"
     ]
    },
    {
     "name": "stdout",
     "output_type": "stream",
     "text": [
      "                   all        807       7092      0.763      0.387      0.436      0.332      0.756      0.376      0.419      0.288\n",
      "\n",
      "      Epoch    GPU_mem   box_loss   seg_loss   cls_loss   dfl_loss  Instances       Size\n"
     ]
    },
    {
     "name": "stderr",
     "output_type": "stream",
     "text": [
      "     70/200      6.48G     0.9892      2.201      1.095      1.105         54        768: 100%|██████████| 166/166 [00:33<00:00,  4.99it/s]\n",
      "                 Class     Images  Instances      Box(P          R      mAP50  mAP50-95)     Mask(P          R      mAP50  mAP50-95): 100%|██████████| 26/26 [00:06<00:00,  4.03it/s]"
     ]
    },
    {
     "name": "stdout",
     "output_type": "stream",
     "text": [
      "                   all        807       7092      0.764      0.392      0.438      0.339      0.748      0.382      0.422      0.291\n"
     ]
    },
    {
     "name": "stderr",
     "output_type": "stream",
     "text": [
      "\n"
     ]
    },
    {
     "name": "stdout",
     "output_type": "stream",
     "text": [
      "\n",
      "      Epoch    GPU_mem   box_loss   seg_loss   cls_loss   dfl_loss  Instances       Size\n"
     ]
    },
    {
     "name": "stderr",
     "output_type": "stream",
     "text": [
      "     71/200       6.4G      0.992      2.219      1.088      1.105         73        768: 100%|██████████| 166/166 [00:32<00:00,  5.16it/s]\n",
      "                 Class     Images  Instances      Box(P          R      mAP50  mAP50-95)     Mask(P          R      mAP50  mAP50-95): 100%|██████████| 26/26 [00:07<00:00,  3.27it/s]"
     ]
    },
    {
     "name": "stdout",
     "output_type": "stream",
     "text": [
      "                   all        807       7092      0.754      0.398      0.441      0.338       0.76       0.38      0.425      0.296\n"
     ]
    },
    {
     "name": "stderr",
     "output_type": "stream",
     "text": [
      "\n"
     ]
    },
    {
     "name": "stdout",
     "output_type": "stream",
     "text": [
      "\n",
      "      Epoch    GPU_mem   box_loss   seg_loss   cls_loss   dfl_loss  Instances       Size\n"
     ]
    },
    {
     "name": "stderr",
     "output_type": "stream",
     "text": [
      "     72/200      7.07G     0.9621      2.153      1.058      1.089         82        768: 100%|██████████| 166/166 [00:32<00:00,  5.15it/s]\n",
      "                 Class     Images  Instances      Box(P          R      mAP50  mAP50-95)     Mask(P          R      mAP50  mAP50-95): 100%|██████████| 26/26 [00:10<00:00,  2.57it/s]"
     ]
    },
    {
     "name": "stdout",
     "output_type": "stream",
     "text": [
      "                   all        807       7092      0.786      0.389      0.442      0.339      0.747      0.383      0.425      0.296\n"
     ]
    },
    {
     "name": "stderr",
     "output_type": "stream",
     "text": [
      "\n"
     ]
    },
    {
     "name": "stdout",
     "output_type": "stream",
     "text": [
      "\n",
      "      Epoch    GPU_mem   box_loss   seg_loss   cls_loss   dfl_loss  Instances       Size\n"
     ]
    },
    {
     "name": "stderr",
     "output_type": "stream",
     "text": [
      "     73/200      6.28G     0.9838       2.21      1.077      1.096         52        768: 100%|██████████| 166/166 [00:32<00:00,  5.11it/s]\n",
      "                 Class     Images  Instances      Box(P          R      mAP50  mAP50-95)     Mask(P          R      mAP50  mAP50-95): 100%|██████████| 26/26 [00:08<00:00,  3.13it/s]"
     ]
    },
    {
     "name": "stdout",
     "output_type": "stream",
     "text": [
      "                   all        807       7092      0.747      0.398      0.439      0.334      0.728      0.384      0.417      0.288\n"
     ]
    },
    {
     "name": "stderr",
     "output_type": "stream",
     "text": [
      "\n"
     ]
    },
    {
     "name": "stdout",
     "output_type": "stream",
     "text": [
      "\n",
      "      Epoch    GPU_mem   box_loss   seg_loss   cls_loss   dfl_loss  Instances       Size\n"
     ]
    },
    {
     "name": "stderr",
     "output_type": "stream",
     "text": [
      "     74/200      8.24G     0.9596      2.148      1.065      1.093         64        768: 100%|██████████| 166/166 [00:33<00:00,  4.96it/s]\n",
      "                 Class     Images  Instances      Box(P          R      mAP50  mAP50-95)     Mask(P          R      mAP50  mAP50-95): 100%|██████████| 26/26 [00:09<00:00,  2.76it/s]"
     ]
    },
    {
     "name": "stdout",
     "output_type": "stream",
     "text": [
      "                   all        807       7092      0.787      0.389      0.445      0.342      0.767      0.382      0.426      0.296\n"
     ]
    },
    {
     "name": "stderr",
     "output_type": "stream",
     "text": [
      "\n"
     ]
    },
    {
     "name": "stdout",
     "output_type": "stream",
     "text": [
      "\n",
      "      Epoch    GPU_mem   box_loss   seg_loss   cls_loss   dfl_loss  Instances       Size\n"
     ]
    },
    {
     "name": "stderr",
     "output_type": "stream",
     "text": [
      "     75/200      6.34G     0.9816      2.201      1.069      1.101         91        768: 100%|██████████| 166/166 [00:32<00:00,  5.16it/s]\n",
      "                 Class     Images  Instances      Box(P          R      mAP50  mAP50-95)     Mask(P          R      mAP50  mAP50-95): 100%|██████████| 26/26 [00:06<00:00,  4.20it/s]"
     ]
    },
    {
     "name": "stdout",
     "output_type": "stream",
     "text": [
      "                   all        807       7092      0.751        0.4      0.447      0.342      0.761      0.384       0.43      0.297\n"
     ]
    },
    {
     "name": "stderr",
     "output_type": "stream",
     "text": [
      "\n"
     ]
    },
    {
     "name": "stdout",
     "output_type": "stream",
     "text": [
      "\n",
      "      Epoch    GPU_mem   box_loss   seg_loss   cls_loss   dfl_loss  Instances       Size\n"
     ]
    },
    {
     "name": "stderr",
     "output_type": "stream",
     "text": [
      "     76/200      6.96G     0.9773      2.181      1.069      1.097         61        768: 100%|██████████| 166/166 [00:32<00:00,  5.16it/s]\n",
      "                 Class     Images  Instances      Box(P          R      mAP50  mAP50-95)     Mask(P          R      mAP50  mAP50-95): 100%|██████████| 26/26 [00:09<00:00,  2.82it/s]"
     ]
    },
    {
     "name": "stdout",
     "output_type": "stream",
     "text": [
      "                   all        807       7092      0.753      0.403      0.448      0.345      0.733      0.393      0.429        0.3\n"
     ]
    },
    {
     "name": "stderr",
     "output_type": "stream",
     "text": [
      "\n"
     ]
    },
    {
     "name": "stdout",
     "output_type": "stream",
     "text": [
      "\n",
      "      Epoch    GPU_mem   box_loss   seg_loss   cls_loss   dfl_loss  Instances       Size\n"
     ]
    },
    {
     "name": "stderr",
     "output_type": "stream",
     "text": [
      "     77/200      6.98G     0.9697      2.178      1.053       1.09        102        768: 100%|██████████| 166/166 [00:32<00:00,  5.13it/s]\n",
      "                 Class     Images  Instances      Box(P          R      mAP50  mAP50-95)     Mask(P          R      mAP50  mAP50-95): 100%|██████████| 26/26 [00:08<00:00,  3.17it/s]"
     ]
    },
    {
     "name": "stdout",
     "output_type": "stream",
     "text": [
      "                   all        807       7092      0.759      0.402      0.449      0.344      0.775      0.386      0.431      0.299\n"
     ]
    },
    {
     "name": "stderr",
     "output_type": "stream",
     "text": [
      "\n"
     ]
    },
    {
     "name": "stdout",
     "output_type": "stream",
     "text": [
      "\n",
      "      Epoch    GPU_mem   box_loss   seg_loss   cls_loss   dfl_loss  Instances       Size\n"
     ]
    },
    {
     "name": "stderr",
     "output_type": "stream",
     "text": [
      "     78/200      6.48G     0.9543      2.144       1.03      1.087         51        768: 100%|██████████| 166/166 [00:32<00:00,  5.04it/s]\n",
      "                 Class     Images  Instances      Box(P          R      mAP50  mAP50-95)     Mask(P          R      mAP50  mAP50-95): 100%|██████████| 26/26 [00:06<00:00,  4.05it/s]"
     ]
    },
    {
     "name": "stdout",
     "output_type": "stream",
     "text": [
      "                   all        807       7092      0.753      0.404      0.446       0.34      0.754      0.388      0.428      0.295\n"
     ]
    },
    {
     "name": "stderr",
     "output_type": "stream",
     "text": [
      "\n"
     ]
    },
    {
     "name": "stdout",
     "output_type": "stream",
     "text": [
      "\n",
      "      Epoch    GPU_mem   box_loss   seg_loss   cls_loss   dfl_loss  Instances       Size\n"
     ]
    },
    {
     "name": "stderr",
     "output_type": "stream",
     "text": [
      "     79/200      8.04G     0.9685      2.174      1.061      1.095         68        768: 100%|██████████| 166/166 [00:32<00:00,  5.10it/s]\n",
      "                 Class     Images  Instances      Box(P          R      mAP50  mAP50-95)     Mask(P          R      mAP50  mAP50-95): 100%|██████████| 26/26 [00:09<00:00,  2.66it/s]"
     ]
    },
    {
     "name": "stdout",
     "output_type": "stream",
     "text": [
      "                   all        807       7092      0.752       0.41       0.45      0.347      0.741      0.396      0.431      0.299\n"
     ]
    },
    {
     "name": "stderr",
     "output_type": "stream",
     "text": [
      "\n"
     ]
    },
    {
     "name": "stdout",
     "output_type": "stream",
     "text": [
      "\n",
      "      Epoch    GPU_mem   box_loss   seg_loss   cls_loss   dfl_loss  Instances       Size\n"
     ]
    },
    {
     "name": "stderr",
     "output_type": "stream",
     "text": [
      "     80/200      7.34G     0.9548      2.159      1.038      1.089         60        768: 100%|██████████| 166/166 [00:32<00:00,  5.15it/s]\n",
      "                 Class     Images  Instances      Box(P          R      mAP50  mAP50-95)     Mask(P          R      mAP50  mAP50-95): 100%|██████████| 26/26 [00:13<00:00,  1.91it/s]"
     ]
    },
    {
     "name": "stdout",
     "output_type": "stream",
     "text": [
      "                   all        807       7092      0.767      0.409      0.456      0.352      0.772      0.392      0.434      0.302\n"
     ]
    },
    {
     "name": "stderr",
     "output_type": "stream",
     "text": [
      "\n"
     ]
    },
    {
     "name": "stdout",
     "output_type": "stream",
     "text": [
      "\n",
      "      Epoch    GPU_mem   box_loss   seg_loss   cls_loss   dfl_loss  Instances       Size\n"
     ]
    },
    {
     "name": "stderr",
     "output_type": "stream",
     "text": [
      "     81/200      6.01G     0.9689      2.166      1.049      1.092        115        768: 100%|██████████| 166/166 [00:32<00:00,  5.16it/s]\n",
      "                 Class     Images  Instances      Box(P          R      mAP50  mAP50-95)     Mask(P          R      mAP50  mAP50-95): 100%|██████████| 26/26 [00:07<00:00,  3.47it/s]"
     ]
    },
    {
     "name": "stdout",
     "output_type": "stream",
     "text": [
      "                   all        807       7092      0.787      0.403      0.449      0.345       0.78      0.391      0.429      0.298\n"
     ]
    },
    {
     "name": "stderr",
     "output_type": "stream",
     "text": [
      "\n"
     ]
    },
    {
     "name": "stdout",
     "output_type": "stream",
     "text": [
      "\n",
      "      Epoch    GPU_mem   box_loss   seg_loss   cls_loss   dfl_loss  Instances       Size\n"
     ]
    },
    {
     "name": "stderr",
     "output_type": "stream",
     "text": [
      "     82/200      5.95G     0.9642      2.145      1.028      1.088         61        768: 100%|██████████| 166/166 [00:32<00:00,  5.06it/s]\n",
      "                 Class     Images  Instances      Box(P          R      mAP50  mAP50-95)     Mask(P          R      mAP50  mAP50-95): 100%|██████████| 26/26 [00:05<00:00,  4.37it/s]"
     ]
    },
    {
     "name": "stdout",
     "output_type": "stream",
     "text": [
      "                   all        807       7092      0.802      0.403      0.454      0.351      0.786       0.39      0.434      0.303\n"
     ]
    },
    {
     "name": "stderr",
     "output_type": "stream",
     "text": [
      "\n"
     ]
    },
    {
     "name": "stdout",
     "output_type": "stream",
     "text": [
      "\n",
      "      Epoch    GPU_mem   box_loss   seg_loss   cls_loss   dfl_loss  Instances       Size\n"
     ]
    },
    {
     "name": "stderr",
     "output_type": "stream",
     "text": [
      "     83/200      7.03G     0.9462      2.128      1.029      1.086         81        768: 100%|██████████| 166/166 [00:32<00:00,  5.16it/s]\n",
      "                 Class     Images  Instances      Box(P          R      mAP50  mAP50-95)     Mask(P          R      mAP50  mAP50-95): 100%|██████████| 26/26 [00:08<00:00,  2.91it/s]"
     ]
    },
    {
     "name": "stdout",
     "output_type": "stream",
     "text": [
      "                   all        807       7092      0.823      0.395      0.452      0.349       0.82      0.384      0.437      0.302\n"
     ]
    },
    {
     "name": "stderr",
     "output_type": "stream",
     "text": [
      "\n"
     ]
    },
    {
     "name": "stdout",
     "output_type": "stream",
     "text": [
      "\n",
      "      Epoch    GPU_mem   box_loss   seg_loss   cls_loss   dfl_loss  Instances       Size\n"
     ]
    },
    {
     "name": "stderr",
     "output_type": "stream",
     "text": [
      "     84/200      5.97G     0.9416      2.112      1.018      1.084         42        768: 100%|██████████| 166/166 [00:31<00:00,  5.20it/s]\n",
      "                 Class     Images  Instances      Box(P          R      mAP50  mAP50-95)     Mask(P          R      mAP50  mAP50-95): 100%|██████████| 26/26 [00:08<00:00,  2.99it/s]"
     ]
    },
    {
     "name": "stdout",
     "output_type": "stream",
     "text": [
      "                   all        807       7092        0.8      0.403      0.454       0.35      0.779      0.395      0.437      0.303\n"
     ]
    },
    {
     "name": "stderr",
     "output_type": "stream",
     "text": [
      "\n"
     ]
    },
    {
     "name": "stdout",
     "output_type": "stream",
     "text": [
      "\n",
      "      Epoch    GPU_mem   box_loss   seg_loss   cls_loss   dfl_loss  Instances       Size\n"
     ]
    },
    {
     "name": "stderr",
     "output_type": "stream",
     "text": [
      "     85/200      5.13G       0.94      2.101      1.002      1.077         66        768: 100%|██████████| 166/166 [00:32<00:00,  5.18it/s]\n",
      "                 Class     Images  Instances      Box(P          R      mAP50  mAP50-95)     Mask(P          R      mAP50  mAP50-95): 100%|██████████| 26/26 [00:05<00:00,  4.38it/s]"
     ]
    },
    {
     "name": "stdout",
     "output_type": "stream",
     "text": [
      "                   all        807       7092      0.792      0.405      0.454      0.351      0.776      0.398      0.438      0.304\n"
     ]
    },
    {
     "name": "stderr",
     "output_type": "stream",
     "text": [
      "\n"
     ]
    },
    {
     "name": "stdout",
     "output_type": "stream",
     "text": [
      "\n",
      "      Epoch    GPU_mem   box_loss   seg_loss   cls_loss   dfl_loss  Instances       Size\n"
     ]
    },
    {
     "name": "stderr",
     "output_type": "stream",
     "text": [
      "     86/200      6.62G     0.9437      2.117      1.016      1.081        124        768: 100%|██████████| 166/166 [00:32<00:00,  5.17it/s]\n",
      "                 Class     Images  Instances      Box(P          R      mAP50  mAP50-95)     Mask(P          R      mAP50  mAP50-95): 100%|██████████| 26/26 [00:07<00:00,  3.44it/s]"
     ]
    },
    {
     "name": "stdout",
     "output_type": "stream",
     "text": [
      "                   all        807       7092      0.769      0.412      0.458      0.355      0.792      0.393      0.439      0.308\n"
     ]
    },
    {
     "name": "stderr",
     "output_type": "stream",
     "text": [
      "\n"
     ]
    },
    {
     "name": "stdout",
     "output_type": "stream",
     "text": [
      "\n",
      "      Epoch    GPU_mem   box_loss   seg_loss   cls_loss   dfl_loss  Instances       Size\n"
     ]
    },
    {
     "name": "stderr",
     "output_type": "stream",
     "text": [
      "     87/200      6.73G     0.9359      2.087     0.9989      1.077         49        768: 100%|██████████| 166/166 [00:32<00:00,  5.05it/s]\n",
      "                 Class     Images  Instances      Box(P          R      mAP50  mAP50-95)     Mask(P          R      mAP50  mAP50-95): 100%|██████████| 26/26 [00:06<00:00,  4.22it/s]"
     ]
    },
    {
     "name": "stdout",
     "output_type": "stream",
     "text": [
      "                   all        807       7092      0.782      0.413      0.461      0.355      0.765      0.403      0.444      0.307\n"
     ]
    },
    {
     "name": "stderr",
     "output_type": "stream",
     "text": [
      "\n"
     ]
    },
    {
     "name": "stdout",
     "output_type": "stream",
     "text": [
      "\n",
      "      Epoch    GPU_mem   box_loss   seg_loss   cls_loss   dfl_loss  Instances       Size\n"
     ]
    },
    {
     "name": "stderr",
     "output_type": "stream",
     "text": [
      "     88/200      6.44G     0.9435      2.126      1.006      1.077        150        768: 100%|██████████| 166/166 [00:32<00:00,  5.18it/s]\n",
      "                 Class     Images  Instances      Box(P          R      mAP50  mAP50-95)     Mask(P          R      mAP50  mAP50-95): 100%|██████████| 26/26 [00:05<00:00,  4.49it/s]"
     ]
    },
    {
     "name": "stdout",
     "output_type": "stream",
     "text": [
      "                   all        807       7092      0.773      0.413      0.457      0.354      0.772      0.398       0.44      0.306\n"
     ]
    },
    {
     "name": "stderr",
     "output_type": "stream",
     "text": [
      "\n"
     ]
    },
    {
     "name": "stdout",
     "output_type": "stream",
     "text": [
      "\n",
      "      Epoch    GPU_mem   box_loss   seg_loss   cls_loss   dfl_loss  Instances       Size\n"
     ]
    },
    {
     "name": "stderr",
     "output_type": "stream",
     "text": [
      "     89/200      6.13G     0.9455      2.125     0.9993      1.074        213        768: 100%|██████████| 166/166 [00:32<00:00,  5.18it/s]\n",
      "                 Class     Images  Instances      Box(P          R      mAP50  mAP50-95)     Mask(P          R      mAP50  mAP50-95): 100%|██████████| 26/26 [00:07<00:00,  3.56it/s]"
     ]
    },
    {
     "name": "stdout",
     "output_type": "stream",
     "text": [
      "                   all        807       7092      0.747       0.42       0.46      0.356      0.774      0.394      0.438      0.304\n"
     ]
    },
    {
     "name": "stderr",
     "output_type": "stream",
     "text": [
      "\n"
     ]
    },
    {
     "name": "stdout",
     "output_type": "stream",
     "text": [
      "\n",
      "      Epoch    GPU_mem   box_loss   seg_loss   cls_loss   dfl_loss  Instances       Size\n"
     ]
    },
    {
     "name": "stderr",
     "output_type": "stream",
     "text": [
      "     90/200      6.17G     0.9384      2.108     0.9933      1.077         60        768: 100%|██████████| 166/166 [00:32<00:00,  5.15it/s]\n",
      "                 Class     Images  Instances      Box(P          R      mAP50  mAP50-95)     Mask(P          R      mAP50  mAP50-95): 100%|██████████| 26/26 [00:07<00:00,  3.30it/s]"
     ]
    },
    {
     "name": "stdout",
     "output_type": "stream",
     "text": [
      "                   all        807       7092      0.771      0.417       0.46      0.355      0.768      0.401      0.443      0.304\n"
     ]
    },
    {
     "name": "stderr",
     "output_type": "stream",
     "text": [
      "\n"
     ]
    },
    {
     "name": "stdout",
     "output_type": "stream",
     "text": [
      "\n",
      "      Epoch    GPU_mem   box_loss   seg_loss   cls_loss   dfl_loss  Instances       Size\n"
     ]
    },
    {
     "name": "stderr",
     "output_type": "stream",
     "text": [
      "     91/200      7.17G     0.9472       2.12      1.009      1.074         39        768: 100%|██████████| 166/166 [00:33<00:00,  4.98it/s]\n",
      "                 Class     Images  Instances      Box(P          R      mAP50  mAP50-95)     Mask(P          R      mAP50  mAP50-95): 100%|██████████| 26/26 [00:07<00:00,  3.69it/s]"
     ]
    },
    {
     "name": "stdout",
     "output_type": "stream",
     "text": [
      "                   all        807       7092      0.814        0.4      0.456      0.351      0.796      0.389      0.435      0.301\n"
     ]
    },
    {
     "name": "stderr",
     "output_type": "stream",
     "text": [
      "\n"
     ]
    },
    {
     "name": "stdout",
     "output_type": "stream",
     "text": [
      "\n",
      "      Epoch    GPU_mem   box_loss   seg_loss   cls_loss   dfl_loss  Instances       Size\n"
     ]
    },
    {
     "name": "stderr",
     "output_type": "stream",
     "text": [
      "     92/200      6.98G     0.9285      2.108     0.9929      1.075        127        768: 100%|██████████| 166/166 [00:32<00:00,  5.16it/s]\n",
      "                 Class     Images  Instances      Box(P          R      mAP50  mAP50-95)     Mask(P          R      mAP50  mAP50-95): 100%|██████████| 26/26 [00:06<00:00,  3.82it/s]"
     ]
    },
    {
     "name": "stdout",
     "output_type": "stream",
     "text": [
      "                   all        807       7092       0.79      0.414      0.461      0.357       0.79        0.4       0.44      0.309\n"
     ]
    },
    {
     "name": "stderr",
     "output_type": "stream",
     "text": [
      "\n"
     ]
    },
    {
     "name": "stdout",
     "output_type": "stream",
     "text": [
      "\n",
      "      Epoch    GPU_mem   box_loss   seg_loss   cls_loss   dfl_loss  Instances       Size\n"
     ]
    },
    {
     "name": "stderr",
     "output_type": "stream",
     "text": [
      "     93/200      6.81G     0.9378      2.095     0.9904      1.075         89        768: 100%|██████████| 166/166 [00:32<00:00,  5.18it/s]\n",
      "                 Class     Images  Instances      Box(P          R      mAP50  mAP50-95)     Mask(P          R      mAP50  mAP50-95): 100%|██████████| 26/26 [00:10<00:00,  2.59it/s]"
     ]
    },
    {
     "name": "stdout",
     "output_type": "stream",
     "text": [
      "                   all        807       7092      0.789      0.409      0.461      0.354      0.787      0.396       0.44      0.305\n"
     ]
    },
    {
     "name": "stderr",
     "output_type": "stream",
     "text": [
      "\n"
     ]
    },
    {
     "name": "stdout",
     "output_type": "stream",
     "text": [
      "\n",
      "      Epoch    GPU_mem   box_loss   seg_loss   cls_loss   dfl_loss  Instances       Size\n"
     ]
    },
    {
     "name": "stderr",
     "output_type": "stream",
     "text": [
      "     94/200      6.71G     0.9291      2.073     0.9966      1.073         56        768: 100%|██████████| 166/166 [00:32<00:00,  5.09it/s]\n",
      "                 Class     Images  Instances      Box(P          R      mAP50  mAP50-95)     Mask(P          R      mAP50  mAP50-95): 100%|██████████| 26/26 [00:11<00:00,  2.29it/s]"
     ]
    },
    {
     "name": "stdout",
     "output_type": "stream",
     "text": [
      "                   all        807       7092      0.817      0.406      0.462      0.357      0.799      0.397      0.444       0.31\n"
     ]
    },
    {
     "name": "stderr",
     "output_type": "stream",
     "text": [
      "\n"
     ]
    },
    {
     "name": "stdout",
     "output_type": "stream",
     "text": [
      "\n",
      "      Epoch    GPU_mem   box_loss   seg_loss   cls_loss   dfl_loss  Instances       Size\n"
     ]
    },
    {
     "name": "stderr",
     "output_type": "stream",
     "text": [
      "     95/200       6.9G     0.9323      2.087     0.9855      1.072         67        768: 100%|██████████| 166/166 [00:36<00:00,  4.51it/s]\n",
      "                 Class     Images  Instances      Box(P          R      mAP50  mAP50-95)     Mask(P          R      mAP50  mAP50-95): 100%|██████████| 26/26 [00:07<00:00,  3.38it/s]"
     ]
    },
    {
     "name": "stdout",
     "output_type": "stream",
     "text": [
      "                   all        807       7092      0.794      0.414      0.461      0.358      0.801      0.396      0.443      0.309\n"
     ]
    },
    {
     "name": "stderr",
     "output_type": "stream",
     "text": [
      "\n"
     ]
    },
    {
     "name": "stdout",
     "output_type": "stream",
     "text": [
      "\n",
      "      Epoch    GPU_mem   box_loss   seg_loss   cls_loss   dfl_loss  Instances       Size\n"
     ]
    },
    {
     "name": "stderr",
     "output_type": "stream",
     "text": [
      "     96/200      6.74G      0.929      2.099     0.9708       1.07         74        768: 100%|██████████| 166/166 [00:31<00:00,  5.22it/s]\n",
      "                 Class     Images  Instances      Box(P          R      mAP50  mAP50-95)     Mask(P          R      mAP50  mAP50-95): 100%|██████████| 26/26 [00:06<00:00,  4.24it/s]"
     ]
    },
    {
     "name": "stdout",
     "output_type": "stream",
     "text": [
      "                   all        807       7092      0.788      0.415      0.465      0.361      0.775        0.4      0.445      0.312\n"
     ]
    },
    {
     "name": "stderr",
     "output_type": "stream",
     "text": [
      "\n"
     ]
    },
    {
     "name": "stdout",
     "output_type": "stream",
     "text": [
      "\n",
      "      Epoch    GPU_mem   box_loss   seg_loss   cls_loss   dfl_loss  Instances       Size\n"
     ]
    },
    {
     "name": "stderr",
     "output_type": "stream",
     "text": [
      "     97/200      6.33G     0.9301      2.086     0.9718      1.069        145        768: 100%|██████████| 166/166 [00:36<00:00,  4.53it/s]\n",
      "                 Class     Images  Instances      Box(P          R      mAP50  mAP50-95)     Mask(P          R      mAP50  mAP50-95): 100%|██████████| 26/26 [00:07<00:00,  3.29it/s]"
     ]
    },
    {
     "name": "stdout",
     "output_type": "stream",
     "text": [
      "                   all        807       7092      0.791      0.416      0.465      0.361      0.773      0.405      0.447      0.314\n"
     ]
    },
    {
     "name": "stderr",
     "output_type": "stream",
     "text": [
      "\n"
     ]
    },
    {
     "name": "stdout",
     "output_type": "stream",
     "text": [
      "\n",
      "      Epoch    GPU_mem   box_loss   seg_loss   cls_loss   dfl_loss  Instances       Size\n"
     ]
    },
    {
     "name": "stderr",
     "output_type": "stream",
     "text": [
      "     98/200       6.7G     0.9262      2.077     0.9673       1.07        110        768: 100%|██████████| 166/166 [00:32<00:00,  5.13it/s]\n",
      "                 Class     Images  Instances      Box(P          R      mAP50  mAP50-95)     Mask(P          R      mAP50  mAP50-95): 100%|██████████| 26/26 [00:08<00:00,  3.15it/s]"
     ]
    },
    {
     "name": "stdout",
     "output_type": "stream",
     "text": [
      "                   all        807       7092      0.751      0.427      0.462      0.357      0.794      0.396      0.442      0.306\n"
     ]
    },
    {
     "name": "stderr",
     "output_type": "stream",
     "text": [
      "\n"
     ]
    },
    {
     "name": "stdout",
     "output_type": "stream",
     "text": [
      "\n",
      "      Epoch    GPU_mem   box_loss   seg_loss   cls_loss   dfl_loss  Instances       Size\n"
     ]
    },
    {
     "name": "stderr",
     "output_type": "stream",
     "text": [
      "     99/200      6.56G      0.925      2.075     0.9633       1.07         65        768: 100%|██████████| 166/166 [00:32<00:00,  5.15it/s]\n",
      "                 Class     Images  Instances      Box(P          R      mAP50  mAP50-95)     Mask(P          R      mAP50  mAP50-95): 100%|██████████| 26/26 [00:06<00:00,  3.83it/s]"
     ]
    },
    {
     "name": "stdout",
     "output_type": "stream",
     "text": [
      "                   all        807       7092       0.79      0.417      0.463      0.362      0.786      0.403      0.446      0.313\n"
     ]
    },
    {
     "name": "stderr",
     "output_type": "stream",
     "text": [
      "\n"
     ]
    },
    {
     "name": "stdout",
     "output_type": "stream",
     "text": [
      "\n",
      "      Epoch    GPU_mem   box_loss   seg_loss   cls_loss   dfl_loss  Instances       Size\n"
     ]
    },
    {
     "name": "stderr",
     "output_type": "stream",
     "text": [
      "    100/200      5.92G     0.9201      2.072     0.9515      1.062         69        768: 100%|██████████| 166/166 [00:32<00:00,  5.19it/s]\n",
      "                 Class     Images  Instances      Box(P          R      mAP50  mAP50-95)     Mask(P          R      mAP50  mAP50-95): 100%|██████████| 26/26 [00:06<00:00,  4.29it/s]"
     ]
    },
    {
     "name": "stdout",
     "output_type": "stream",
     "text": [
      "                   all        807       7092      0.768      0.424      0.465      0.362      0.814      0.395      0.444      0.312\n"
     ]
    },
    {
     "name": "stderr",
     "output_type": "stream",
     "text": [
      "\n"
     ]
    },
    {
     "name": "stdout",
     "output_type": "stream",
     "text": [
      "\n",
      "      Epoch    GPU_mem   box_loss   seg_loss   cls_loss   dfl_loss  Instances       Size\n"
     ]
    },
    {
     "name": "stderr",
     "output_type": "stream",
     "text": [
      "    101/200      6.94G     0.9339      2.099       0.97      1.067        114        768: 100%|██████████| 166/166 [00:32<00:00,  5.19it/s]\n",
      "                 Class     Images  Instances      Box(P          R      mAP50  mAP50-95)     Mask(P          R      mAP50  mAP50-95): 100%|██████████| 26/26 [00:07<00:00,  3.64it/s]"
     ]
    },
    {
     "name": "stdout",
     "output_type": "stream",
     "text": [
      "                   all        807       7092      0.749      0.425      0.465      0.363      0.737      0.408      0.446      0.313\n"
     ]
    },
    {
     "name": "stderr",
     "output_type": "stream",
     "text": [
      "\n"
     ]
    },
    {
     "name": "stdout",
     "output_type": "stream",
     "text": [
      "\n",
      "      Epoch    GPU_mem   box_loss   seg_loss   cls_loss   dfl_loss  Instances       Size\n"
     ]
    },
    {
     "name": "stderr",
     "output_type": "stream",
     "text": [
      "    102/200      5.84G     0.9023      2.014     0.9501      1.061         85        768: 100%|██████████| 166/166 [00:31<00:00,  5.28it/s]\n",
      "                 Class     Images  Instances      Box(P          R      mAP50  mAP50-95)     Mask(P          R      mAP50  mAP50-95): 100%|██████████| 26/26 [00:06<00:00,  4.23it/s]"
     ]
    },
    {
     "name": "stdout",
     "output_type": "stream",
     "text": [
      "                   all        807       7092      0.815      0.412      0.468      0.365       0.83      0.396      0.449      0.315\n"
     ]
    },
    {
     "name": "stderr",
     "output_type": "stream",
     "text": [
      "\n"
     ]
    },
    {
     "name": "stdout",
     "output_type": "stream",
     "text": [
      "\n",
      "      Epoch    GPU_mem   box_loss   seg_loss   cls_loss   dfl_loss  Instances       Size\n"
     ]
    },
    {
     "name": "stderr",
     "output_type": "stream",
     "text": [
      "    103/200       6.6G     0.9129      2.059     0.9512      1.061         66        768: 100%|██████████| 166/166 [00:31<00:00,  5.20it/s]\n",
      "                 Class     Images  Instances      Box(P          R      mAP50  mAP50-95)     Mask(P          R      mAP50  mAP50-95): 100%|██████████| 26/26 [00:06<00:00,  4.12it/s]"
     ]
    },
    {
     "name": "stdout",
     "output_type": "stream",
     "text": [
      "                   all        807       7092      0.813      0.414      0.465      0.361       0.83      0.398      0.448      0.313\n"
     ]
    },
    {
     "name": "stderr",
     "output_type": "stream",
     "text": [
      "\n"
     ]
    },
    {
     "name": "stdout",
     "output_type": "stream",
     "text": [
      "\n",
      "      Epoch    GPU_mem   box_loss   seg_loss   cls_loss   dfl_loss  Instances       Size\n"
     ]
    },
    {
     "name": "stderr",
     "output_type": "stream",
     "text": [
      "    104/200      5.71G     0.9227      2.066     0.9558      1.064         27        768: 100%|██████████| 166/166 [00:31<00:00,  5.23it/s]\n",
      "                 Class     Images  Instances      Box(P          R      mAP50  mAP50-95)     Mask(P          R      mAP50  mAP50-95): 100%|██████████| 26/26 [00:05<00:00,  4.45it/s]"
     ]
    },
    {
     "name": "stdout",
     "output_type": "stream",
     "text": [
      "                   all        807       7092      0.778      0.424      0.469      0.366       0.76      0.413       0.45      0.315\n"
     ]
    },
    {
     "name": "stderr",
     "output_type": "stream",
     "text": [
      "\n"
     ]
    },
    {
     "name": "stdout",
     "output_type": "stream",
     "text": [
      "\n",
      "      Epoch    GPU_mem   box_loss   seg_loss   cls_loss   dfl_loss  Instances       Size\n"
     ]
    },
    {
     "name": "stderr",
     "output_type": "stream",
     "text": [
      "    105/200      6.77G     0.9133      2.064     0.9333      1.059        107        768: 100%|██████████| 166/166 [00:36<00:00,  4.61it/s]\n",
      "                 Class     Images  Instances      Box(P          R      mAP50  mAP50-95)     Mask(P          R      mAP50  mAP50-95): 100%|██████████| 26/26 [00:08<00:00,  3.08it/s]"
     ]
    },
    {
     "name": "stdout",
     "output_type": "stream",
     "text": [
      "                   all        807       7092      0.827      0.412      0.469      0.367       0.81      0.405       0.45      0.315\n"
     ]
    },
    {
     "name": "stderr",
     "output_type": "stream",
     "text": [
      "\n"
     ]
    },
    {
     "name": "stdout",
     "output_type": "stream",
     "text": [
      "\n",
      "      Epoch    GPU_mem   box_loss   seg_loss   cls_loss   dfl_loss  Instances       Size\n"
     ]
    },
    {
     "name": "stderr",
     "output_type": "stream",
     "text": [
      "    106/200      6.23G     0.9301      2.083     0.9539      1.061         41        768: 100%|██████████| 166/166 [00:31<00:00,  5.21it/s]\n",
      "                 Class     Images  Instances      Box(P          R      mAP50  mAP50-95)     Mask(P          R      mAP50  mAP50-95): 100%|██████████| 26/26 [00:09<00:00,  2.87it/s]"
     ]
    },
    {
     "name": "stdout",
     "output_type": "stream",
     "text": [
      "                   all        807       7092      0.801       0.42      0.467      0.367      0.794       0.41      0.451      0.315\n"
     ]
    },
    {
     "name": "stderr",
     "output_type": "stream",
     "text": [
      "\n"
     ]
    },
    {
     "name": "stdout",
     "output_type": "stream",
     "text": [
      "\n",
      "      Epoch    GPU_mem   box_loss   seg_loss   cls_loss   dfl_loss  Instances       Size\n"
     ]
    },
    {
     "name": "stderr",
     "output_type": "stream",
     "text": [
      "    107/200      6.38G     0.9223      2.068     0.9429      1.063         45        768: 100%|██████████| 166/166 [00:36<00:00,  4.49it/s]\n",
      "                 Class     Images  Instances      Box(P          R      mAP50  mAP50-95)     Mask(P          R      mAP50  mAP50-95): 100%|██████████| 26/26 [00:07<00:00,  3.52it/s]"
     ]
    },
    {
     "name": "stdout",
     "output_type": "stream",
     "text": [
      "                   all        807       7092       0.81      0.417      0.469      0.368      0.799      0.407      0.454      0.316\n"
     ]
    },
    {
     "name": "stderr",
     "output_type": "stream",
     "text": [
      "\n"
     ]
    },
    {
     "name": "stdout",
     "output_type": "stream",
     "text": [
      "\n",
      "      Epoch    GPU_mem   box_loss   seg_loss   cls_loss   dfl_loss  Instances       Size\n"
     ]
    },
    {
     "name": "stderr",
     "output_type": "stream",
     "text": [
      "    108/200      6.27G     0.9158      2.067     0.9283      1.057         82        768: 100%|██████████| 166/166 [00:32<00:00,  5.11it/s]\n",
      "                 Class     Images  Instances      Box(P          R      mAP50  mAP50-95)     Mask(P          R      mAP50  mAP50-95): 100%|██████████| 26/26 [00:05<00:00,  4.47it/s]"
     ]
    },
    {
     "name": "stdout",
     "output_type": "stream",
     "text": [
      "                   all        807       7092      0.815      0.412      0.469      0.366      0.837      0.398      0.452      0.317\n"
     ]
    },
    {
     "name": "stderr",
     "output_type": "stream",
     "text": [
      "\n"
     ]
    },
    {
     "name": "stdout",
     "output_type": "stream",
     "text": [
      "\n",
      "      Epoch    GPU_mem   box_loss   seg_loss   cls_loss   dfl_loss  Instances       Size\n"
     ]
    },
    {
     "name": "stderr",
     "output_type": "stream",
     "text": [
      "    109/200      6.68G     0.9072      2.027     0.9168      1.057         86        768: 100%|██████████| 166/166 [00:35<00:00,  4.65it/s]\n",
      "                 Class     Images  Instances      Box(P          R      mAP50  mAP50-95)     Mask(P          R      mAP50  mAP50-95): 100%|██████████| 26/26 [00:07<00:00,  3.27it/s]"
     ]
    },
    {
     "name": "stdout",
     "output_type": "stream",
     "text": [
      "                   all        807       7092      0.786      0.423       0.47      0.366      0.791       0.41      0.453      0.319\n"
     ]
    },
    {
     "name": "stderr",
     "output_type": "stream",
     "text": [
      "\n"
     ]
    },
    {
     "name": "stdout",
     "output_type": "stream",
     "text": [
      "\n",
      "      Epoch    GPU_mem   box_loss   seg_loss   cls_loss   dfl_loss  Instances       Size\n"
     ]
    },
    {
     "name": "stderr",
     "output_type": "stream",
     "text": [
      "    110/200       6.4G     0.9063      2.036     0.9354       1.06         77        768: 100%|██████████| 166/166 [00:31<00:00,  5.23it/s]\n",
      "                 Class     Images  Instances      Box(P          R      mAP50  mAP50-95)     Mask(P          R      mAP50  mAP50-95): 100%|██████████| 26/26 [00:07<00:00,  3.27it/s]"
     ]
    },
    {
     "name": "stdout",
     "output_type": "stream",
     "text": [
      "                   all        807       7092      0.803       0.42       0.47      0.366      0.782      0.409      0.452      0.316\n"
     ]
    },
    {
     "name": "stderr",
     "output_type": "stream",
     "text": [
      "\n"
     ]
    },
    {
     "name": "stdout",
     "output_type": "stream",
     "text": [
      "\n",
      "      Epoch    GPU_mem   box_loss   seg_loss   cls_loss   dfl_loss  Instances       Size\n"
     ]
    },
    {
     "name": "stderr",
     "output_type": "stream",
     "text": [
      "    111/200      6.35G     0.9044      2.024     0.9207      1.054         60        768: 100%|██████████| 166/166 [00:34<00:00,  4.79it/s]\n",
      "                 Class     Images  Instances      Box(P          R      mAP50  mAP50-95)     Mask(P          R      mAP50  mAP50-95): 100%|██████████| 26/26 [00:09<00:00,  2.64it/s]"
     ]
    },
    {
     "name": "stdout",
     "output_type": "stream",
     "text": [
      "                   all        807       7092      0.836      0.416      0.472      0.371      0.828      0.409      0.456       0.32\n"
     ]
    },
    {
     "name": "stderr",
     "output_type": "stream",
     "text": [
      "\n"
     ]
    },
    {
     "name": "stdout",
     "output_type": "stream",
     "text": [
      "\n",
      "      Epoch    GPU_mem   box_loss   seg_loss   cls_loss   dfl_loss  Instances       Size\n"
     ]
    },
    {
     "name": "stderr",
     "output_type": "stream",
     "text": [
      "    112/200      7.22G     0.9133      2.036      0.931      1.062        124        768: 100%|██████████| 166/166 [00:34<00:00,  4.85it/s]\n",
      "                 Class     Images  Instances      Box(P          R      mAP50  mAP50-95)     Mask(P          R      mAP50  mAP50-95): 100%|██████████| 26/26 [00:09<00:00,  2.86it/s]"
     ]
    },
    {
     "name": "stdout",
     "output_type": "stream",
     "text": [
      "                   all        807       7092      0.789      0.429      0.472       0.37      0.779      0.419      0.457      0.319\n"
     ]
    },
    {
     "name": "stderr",
     "output_type": "stream",
     "text": [
      "\n"
     ]
    },
    {
     "name": "stdout",
     "output_type": "stream",
     "text": [
      "\n",
      "      Epoch    GPU_mem   box_loss   seg_loss   cls_loss   dfl_loss  Instances       Size\n"
     ]
    },
    {
     "name": "stderr",
     "output_type": "stream",
     "text": [
      "    113/200      5.19G     0.9211      2.041      0.929      1.059         97        768: 100%|██████████| 166/166 [00:34<00:00,  4.77it/s]\n",
      "                 Class     Images  Instances      Box(P          R      mAP50  mAP50-95)     Mask(P          R      mAP50  mAP50-95): 100%|██████████| 26/26 [00:07<00:00,  3.39it/s]"
     ]
    },
    {
     "name": "stdout",
     "output_type": "stream",
     "text": [
      "                   all        807       7092      0.794      0.425      0.472      0.369      0.807      0.409      0.457      0.319\n"
     ]
    },
    {
     "name": "stderr",
     "output_type": "stream",
     "text": [
      "\n"
     ]
    },
    {
     "name": "stdout",
     "output_type": "stream",
     "text": [
      "\n",
      "      Epoch    GPU_mem   box_loss   seg_loss   cls_loss   dfl_loss  Instances       Size\n"
     ]
    },
    {
     "name": "stderr",
     "output_type": "stream",
     "text": [
      "    114/200      7.04G     0.8969      2.033     0.9178      1.055         68        768: 100%|██████████| 166/166 [00:31<00:00,  5.24it/s]\n",
      "                 Class     Images  Instances      Box(P          R      mAP50  mAP50-95)     Mask(P          R      mAP50  mAP50-95): 100%|██████████| 26/26 [00:15<00:00,  1.65it/s]"
     ]
    },
    {
     "name": "stdout",
     "output_type": "stream",
     "text": [
      "                   all        807       7092      0.824      0.419      0.472       0.37      0.817      0.407      0.455      0.318\n"
     ]
    },
    {
     "name": "stderr",
     "output_type": "stream",
     "text": [
      "\n"
     ]
    },
    {
     "name": "stdout",
     "output_type": "stream",
     "text": [
      "\n",
      "      Epoch    GPU_mem   box_loss   seg_loss   cls_loss   dfl_loss  Instances       Size\n"
     ]
    },
    {
     "name": "stderr",
     "output_type": "stream",
     "text": [
      "    115/200      5.83G     0.9188      2.054     0.9301      1.064         74        768: 100%|██████████| 166/166 [00:37<00:00,  4.38it/s]\n",
      "                 Class     Images  Instances      Box(P          R      mAP50  mAP50-95)     Mask(P          R      mAP50  mAP50-95): 100%|██████████| 26/26 [00:06<00:00,  4.29it/s]"
     ]
    },
    {
     "name": "stdout",
     "output_type": "stream",
     "text": [
      "                   all        807       7092      0.825      0.422      0.475      0.373      0.808       0.41      0.458      0.323\n"
     ]
    },
    {
     "name": "stderr",
     "output_type": "stream",
     "text": [
      "\n"
     ]
    },
    {
     "name": "stdout",
     "output_type": "stream",
     "text": [
      "\n",
      "      Epoch    GPU_mem   box_loss   seg_loss   cls_loss   dfl_loss  Instances       Size\n"
     ]
    },
    {
     "name": "stderr",
     "output_type": "stream",
     "text": [
      "    116/200       7.2G     0.9044      2.036     0.9258      1.055        162        768: 100%|██████████| 166/166 [00:32<00:00,  5.14it/s]\n",
      "                 Class     Images  Instances      Box(P          R      mAP50  mAP50-95)     Mask(P          R      mAP50  mAP50-95): 100%|██████████| 26/26 [00:06<00:00,  3.94it/s]"
     ]
    },
    {
     "name": "stdout",
     "output_type": "stream",
     "text": [
      "                   all        807       7092      0.824      0.424      0.475      0.374       0.82      0.411       0.46      0.321\n"
     ]
    },
    {
     "name": "stderr",
     "output_type": "stream",
     "text": [
      "\n"
     ]
    },
    {
     "name": "stdout",
     "output_type": "stream",
     "text": [
      "\n",
      "      Epoch    GPU_mem   box_loss   seg_loss   cls_loss   dfl_loss  Instances       Size\n"
     ]
    },
    {
     "name": "stderr",
     "output_type": "stream",
     "text": [
      "    117/200      6.25G     0.8989      2.035     0.9108      1.051         51        768: 100%|██████████| 166/166 [00:34<00:00,  4.79it/s]\n",
      "                 Class     Images  Instances      Box(P          R      mAP50  mAP50-95)     Mask(P          R      mAP50  mAP50-95): 100%|██████████| 26/26 [00:07<00:00,  3.36it/s]"
     ]
    },
    {
     "name": "stdout",
     "output_type": "stream",
     "text": [
      "                   all        807       7092       0.81      0.427      0.478      0.374      0.796      0.416      0.461      0.323\n"
     ]
    },
    {
     "name": "stderr",
     "output_type": "stream",
     "text": [
      "\n"
     ]
    },
    {
     "name": "stdout",
     "output_type": "stream",
     "text": [
      "\n",
      "      Epoch    GPU_mem   box_loss   seg_loss   cls_loss   dfl_loss  Instances       Size\n"
     ]
    },
    {
     "name": "stderr",
     "output_type": "stream",
     "text": [
      "    118/200       6.9G     0.8931      2.031     0.9039      1.053         88        768: 100%|██████████| 166/166 [00:31<00:00,  5.21it/s]\n",
      "                 Class     Images  Instances      Box(P          R      mAP50  mAP50-95)     Mask(P          R      mAP50  mAP50-95): 100%|██████████| 26/26 [00:06<00:00,  4.04it/s]"
     ]
    },
    {
     "name": "stdout",
     "output_type": "stream",
     "text": [
      "                   all        807       7092      0.809      0.432      0.479      0.378      0.805      0.414      0.462      0.324\n"
     ]
    },
    {
     "name": "stderr",
     "output_type": "stream",
     "text": [
      "\n"
     ]
    },
    {
     "name": "stdout",
     "output_type": "stream",
     "text": [
      "\n",
      "      Epoch    GPU_mem   box_loss   seg_loss   cls_loss   dfl_loss  Instances       Size\n"
     ]
    },
    {
     "name": "stderr",
     "output_type": "stream",
     "text": [
      "    119/200      6.15G     0.9063      2.031     0.9056      1.052         92        768: 100%|██████████| 166/166 [00:33<00:00,  4.88it/s]\n",
      "                 Class     Images  Instances      Box(P          R      mAP50  mAP50-95)     Mask(P          R      mAP50  mAP50-95): 100%|██████████| 26/26 [00:06<00:00,  4.10it/s]"
     ]
    },
    {
     "name": "stdout",
     "output_type": "stream",
     "text": [
      "                   all        807       7092      0.812      0.431       0.48      0.377      0.809      0.416      0.462      0.324\n"
     ]
    },
    {
     "name": "stderr",
     "output_type": "stream",
     "text": [
      "\n"
     ]
    },
    {
     "name": "stdout",
     "output_type": "stream",
     "text": [
      "\n",
      "      Epoch    GPU_mem   box_loss   seg_loss   cls_loss   dfl_loss  Instances       Size\n"
     ]
    },
    {
     "name": "stderr",
     "output_type": "stream",
     "text": [
      "    120/200      5.84G     0.8849      1.989     0.8967      1.047         80        768: 100%|██████████| 166/166 [00:33<00:00,  5.03it/s]\n",
      "                 Class     Images  Instances      Box(P          R      mAP50  mAP50-95)     Mask(P          R      mAP50  mAP50-95): 100%|██████████| 26/26 [00:06<00:00,  3.89it/s]"
     ]
    },
    {
     "name": "stdout",
     "output_type": "stream",
     "text": [
      "                   all        807       7092      0.829      0.423      0.478      0.379      0.813      0.411      0.461      0.327\n"
     ]
    },
    {
     "name": "stderr",
     "output_type": "stream",
     "text": [
      "\n"
     ]
    },
    {
     "name": "stdout",
     "output_type": "stream",
     "text": [
      "\n",
      "      Epoch    GPU_mem   box_loss   seg_loss   cls_loss   dfl_loss  Instances       Size\n"
     ]
    },
    {
     "name": "stderr",
     "output_type": "stream",
     "text": [
      "    121/200       5.7G     0.9028      2.055     0.9017       1.05         76        768: 100%|██████████| 166/166 [00:32<00:00,  5.06it/s]\n",
      "                 Class     Images  Instances      Box(P          R      mAP50  mAP50-95)     Mask(P          R      mAP50  mAP50-95): 100%|██████████| 26/26 [00:07<00:00,  3.45it/s]"
     ]
    },
    {
     "name": "stdout",
     "output_type": "stream",
     "text": [
      "                   all        807       7092      0.809      0.432      0.481      0.379      0.838      0.408      0.461      0.325\n"
     ]
    },
    {
     "name": "stderr",
     "output_type": "stream",
     "text": [
      "\n"
     ]
    },
    {
     "name": "stdout",
     "output_type": "stream",
     "text": [
      "\n",
      "      Epoch    GPU_mem   box_loss   seg_loss   cls_loss   dfl_loss  Instances       Size\n"
     ]
    },
    {
     "name": "stderr",
     "output_type": "stream",
     "text": [
      "    122/200      4.75G     0.8969      2.026     0.9022      1.052         64        768: 100%|██████████| 166/166 [00:34<00:00,  4.86it/s]\n",
      "                 Class     Images  Instances      Box(P          R      mAP50  mAP50-95)     Mask(P          R      mAP50  mAP50-95): 100%|██████████| 26/26 [00:05<00:00,  4.55it/s]"
     ]
    },
    {
     "name": "stdout",
     "output_type": "stream",
     "text": [
      "                   all        807       7092      0.819       0.43      0.479      0.379      0.794      0.418      0.464      0.324\n"
     ]
    },
    {
     "name": "stderr",
     "output_type": "stream",
     "text": [
      "\n"
     ]
    },
    {
     "name": "stdout",
     "output_type": "stream",
     "text": [
      "\n",
      "      Epoch    GPU_mem   box_loss   seg_loss   cls_loss   dfl_loss  Instances       Size\n"
     ]
    },
    {
     "name": "stderr",
     "output_type": "stream",
     "text": [
      "    123/200       7.1G     0.8997      2.015     0.8945       1.05         38        768: 100%|██████████| 166/166 [00:31<00:00,  5.20it/s]\n",
      "                 Class     Images  Instances      Box(P          R      mAP50  mAP50-95)     Mask(P          R      mAP50  mAP50-95): 100%|██████████| 26/26 [00:09<00:00,  2.62it/s]"
     ]
    },
    {
     "name": "stdout",
     "output_type": "stream",
     "text": [
      "                   all        807       7092      0.821      0.425       0.48       0.38      0.835      0.408      0.464      0.328\n"
     ]
    },
    {
     "name": "stderr",
     "output_type": "stream",
     "text": [
      "\n"
     ]
    },
    {
     "name": "stdout",
     "output_type": "stream",
     "text": [
      "\n",
      "      Epoch    GPU_mem   box_loss   seg_loss   cls_loss   dfl_loss  Instances       Size\n"
     ]
    },
    {
     "name": "stderr",
     "output_type": "stream",
     "text": [
      "    124/200      6.07G     0.9056      2.045     0.9078      1.057         66        768: 100%|██████████| 166/166 [00:35<00:00,  4.67it/s]\n",
      "                 Class     Images  Instances      Box(P          R      mAP50  mAP50-95)     Mask(P          R      mAP50  mAP50-95): 100%|██████████| 26/26 [00:06<00:00,  4.18it/s]"
     ]
    },
    {
     "name": "stdout",
     "output_type": "stream",
     "text": [
      "                   all        807       7092      0.803      0.431       0.48      0.378      0.805      0.416      0.464      0.325\n"
     ]
    },
    {
     "name": "stderr",
     "output_type": "stream",
     "text": [
      "\n"
     ]
    },
    {
     "name": "stdout",
     "output_type": "stream",
     "text": [
      "\n",
      "      Epoch    GPU_mem   box_loss   seg_loss   cls_loss   dfl_loss  Instances       Size\n"
     ]
    },
    {
     "name": "stderr",
     "output_type": "stream",
     "text": [
      "    125/200      5.61G     0.8927      2.018     0.8874      1.045         68        768: 100%|██████████| 166/166 [00:32<00:00,  5.15it/s]\n",
      "                 Class     Images  Instances      Box(P          R      mAP50  mAP50-95)     Mask(P          R      mAP50  mAP50-95): 100%|██████████| 26/26 [00:06<00:00,  4.23it/s]"
     ]
    },
    {
     "name": "stdout",
     "output_type": "stream",
     "text": [
      "                   all        807       7092      0.827      0.425      0.477      0.377      0.807      0.413      0.459      0.324\n"
     ]
    },
    {
     "name": "stderr",
     "output_type": "stream",
     "text": [
      "\n"
     ]
    },
    {
     "name": "stdout",
     "output_type": "stream",
     "text": [
      "\n",
      "      Epoch    GPU_mem   box_loss   seg_loss   cls_loss   dfl_loss  Instances       Size\n"
     ]
    },
    {
     "name": "stderr",
     "output_type": "stream",
     "text": [
      "    126/200       6.2G     0.8815      1.988     0.8793      1.041         75        768: 100%|██████████| 166/166 [00:36<00:00,  4.60it/s]\n",
      "                 Class     Images  Instances      Box(P          R      mAP50  mAP50-95)     Mask(P          R      mAP50  mAP50-95): 100%|██████████| 26/26 [00:08<00:00,  3.01it/s]"
     ]
    },
    {
     "name": "stdout",
     "output_type": "stream",
     "text": [
      "                   all        807       7092      0.807      0.431      0.479      0.379       0.79      0.419      0.461      0.325\n"
     ]
    },
    {
     "name": "stderr",
     "output_type": "stream",
     "text": [
      "\n"
     ]
    },
    {
     "name": "stdout",
     "output_type": "stream",
     "text": [
      "\n",
      "      Epoch    GPU_mem   box_loss   seg_loss   cls_loss   dfl_loss  Instances       Size\n"
     ]
    },
    {
     "name": "stderr",
     "output_type": "stream",
     "text": [
      "    127/200      6.89G      0.891      2.005     0.8862      1.046         90        768: 100%|██████████| 166/166 [00:34<00:00,  4.85it/s]\n",
      "                 Class     Images  Instances      Box(P          R      mAP50  mAP50-95)     Mask(P          R      mAP50  mAP50-95): 100%|██████████| 26/26 [00:06<00:00,  4.21it/s]"
     ]
    },
    {
     "name": "stdout",
     "output_type": "stream",
     "text": [
      "                   all        807       7092      0.826      0.433      0.478      0.379      0.811      0.419      0.463      0.325\n"
     ]
    },
    {
     "name": "stderr",
     "output_type": "stream",
     "text": [
      "\n"
     ]
    },
    {
     "name": "stdout",
     "output_type": "stream",
     "text": [
      "\n",
      "      Epoch    GPU_mem   box_loss   seg_loss   cls_loss   dfl_loss  Instances       Size\n"
     ]
    },
    {
     "name": "stderr",
     "output_type": "stream",
     "text": [
      "    128/200      5.28G       0.89      1.995     0.8899      1.045        108        768: 100%|██████████| 166/166 [00:36<00:00,  4.60it/s]\n",
      "                 Class     Images  Instances      Box(P          R      mAP50  mAP50-95)     Mask(P          R      mAP50  mAP50-95): 100%|██████████| 26/26 [00:06<00:00,  4.14it/s]"
     ]
    },
    {
     "name": "stdout",
     "output_type": "stream",
     "text": [
      "                   all        807       7092      0.826      0.422      0.479      0.379      0.817      0.412      0.461      0.324\n"
     ]
    },
    {
     "name": "stderr",
     "output_type": "stream",
     "text": [
      "\n"
     ]
    },
    {
     "name": "stdout",
     "output_type": "stream",
     "text": [
      "\n",
      "      Epoch    GPU_mem   box_loss   seg_loss   cls_loss   dfl_loss  Instances       Size\n"
     ]
    },
    {
     "name": "stderr",
     "output_type": "stream",
     "text": [
      "    129/200      6.56G     0.8855      2.014      0.879       1.04        128        768: 100%|██████████| 166/166 [00:31<00:00,  5.23it/s]\n",
      "                 Class     Images  Instances      Box(P          R      mAP50  mAP50-95)     Mask(P          R      mAP50  mAP50-95): 100%|██████████| 26/26 [00:08<00:00,  3.18it/s]"
     ]
    },
    {
     "name": "stdout",
     "output_type": "stream",
     "text": [
      "                   all        807       7092      0.836      0.428       0.48       0.38      0.815      0.419      0.464      0.326\n"
     ]
    },
    {
     "name": "stderr",
     "output_type": "stream",
     "text": [
      "\n"
     ]
    },
    {
     "name": "stdout",
     "output_type": "stream",
     "text": [
      "\n",
      "      Epoch    GPU_mem   box_loss   seg_loss   cls_loss   dfl_loss  Instances       Size\n"
     ]
    },
    {
     "name": "stderr",
     "output_type": "stream",
     "text": [
      "    130/200      6.74G     0.8711      1.981     0.8701      1.037        113        768: 100%|██████████| 166/166 [00:36<00:00,  4.55it/s]\n",
      "                 Class     Images  Instances      Box(P          R      mAP50  mAP50-95)     Mask(P          R      mAP50  mAP50-95): 100%|██████████| 26/26 [00:08<00:00,  2.92it/s]"
     ]
    },
    {
     "name": "stdout",
     "output_type": "stream",
     "text": [
      "                   all        807       7092      0.831      0.432      0.482       0.38      0.814      0.415      0.463      0.328\n"
     ]
    },
    {
     "name": "stderr",
     "output_type": "stream",
     "text": [
      "\n"
     ]
    },
    {
     "name": "stdout",
     "output_type": "stream",
     "text": [
      "\n",
      "      Epoch    GPU_mem   box_loss   seg_loss   cls_loss   dfl_loss  Instances       Size\n"
     ]
    },
    {
     "name": "stderr",
     "output_type": "stream",
     "text": [
      "    131/200      7.08G     0.8843      1.984     0.8838      1.044         85        768: 100%|██████████| 166/166 [00:31<00:00,  5.20it/s]\n",
      "                 Class     Images  Instances      Box(P          R      mAP50  mAP50-95)     Mask(P          R      mAP50  mAP50-95): 100%|██████████| 26/26 [00:08<00:00,  3.19it/s]"
     ]
    },
    {
     "name": "stdout",
     "output_type": "stream",
     "text": [
      "                   all        807       7092      0.843      0.426      0.481      0.381      0.825      0.415      0.461      0.327\n"
     ]
    },
    {
     "name": "stderr",
     "output_type": "stream",
     "text": [
      "\n"
     ]
    },
    {
     "name": "stdout",
     "output_type": "stream",
     "text": [
      "\n",
      "      Epoch    GPU_mem   box_loss   seg_loss   cls_loss   dfl_loss  Instances       Size\n"
     ]
    },
    {
     "name": "stderr",
     "output_type": "stream",
     "text": [
      "    132/200      6.63G     0.8798      2.004     0.8649      1.041         42        768: 100%|██████████| 166/166 [00:36<00:00,  4.52it/s]\n",
      "                 Class     Images  Instances      Box(P          R      mAP50  mAP50-95)     Mask(P          R      mAP50  mAP50-95): 100%|██████████| 26/26 [00:08<00:00,  2.96it/s]"
     ]
    },
    {
     "name": "stdout",
     "output_type": "stream",
     "text": [
      "                   all        807       7092      0.855      0.427      0.483      0.383      0.841      0.415      0.467      0.329\n"
     ]
    },
    {
     "name": "stderr",
     "output_type": "stream",
     "text": [
      "\n"
     ]
    },
    {
     "name": "stdout",
     "output_type": "stream",
     "text": [
      "\n",
      "      Epoch    GPU_mem   box_loss   seg_loss   cls_loss   dfl_loss  Instances       Size\n"
     ]
    },
    {
     "name": "stderr",
     "output_type": "stream",
     "text": [
      "    133/200      6.67G     0.8791      1.998     0.8742      1.042        103        768: 100%|██████████| 166/166 [00:32<00:00,  5.17it/s]\n",
      "                 Class     Images  Instances      Box(P          R      mAP50  mAP50-95)     Mask(P          R      mAP50  mAP50-95): 100%|██████████| 26/26 [00:08<00:00,  3.13it/s]"
     ]
    },
    {
     "name": "stdout",
     "output_type": "stream",
     "text": [
      "                   all        807       7092      0.814      0.435      0.481      0.379       0.83      0.416      0.464      0.326\n"
     ]
    },
    {
     "name": "stderr",
     "output_type": "stream",
     "text": [
      "\n"
     ]
    },
    {
     "name": "stdout",
     "output_type": "stream",
     "text": [
      "\n",
      "      Epoch    GPU_mem   box_loss   seg_loss   cls_loss   dfl_loss  Instances       Size\n"
     ]
    },
    {
     "name": "stderr",
     "output_type": "stream",
     "text": [
      "    134/200      7.48G     0.8819      2.003     0.8675      1.039        102        768: 100%|██████████| 166/166 [00:37<00:00,  4.48it/s]\n",
      "                 Class     Images  Instances      Box(P          R      mAP50  mAP50-95)     Mask(P          R      mAP50  mAP50-95): 100%|██████████| 26/26 [00:20<00:00,  1.26it/s]"
     ]
    },
    {
     "name": "stdout",
     "output_type": "stream",
     "text": [
      "                   all        807       7092      0.814      0.439      0.482      0.381      0.793      0.428      0.467      0.329\n"
     ]
    },
    {
     "name": "stderr",
     "output_type": "stream",
     "text": [
      "\n"
     ]
    },
    {
     "name": "stdout",
     "output_type": "stream",
     "text": [
      "\n",
      "      Epoch    GPU_mem   box_loss   seg_loss   cls_loss   dfl_loss  Instances       Size\n"
     ]
    },
    {
     "name": "stderr",
     "output_type": "stream",
     "text": [
      "    135/200      5.99G     0.8682      1.972     0.8544      1.038         46        768: 100%|██████████| 166/166 [00:33<00:00,  4.89it/s]\n",
      "                 Class     Images  Instances      Box(P          R      mAP50  mAP50-95)     Mask(P          R      mAP50  mAP50-95): 100%|██████████| 26/26 [00:09<00:00,  2.83it/s]"
     ]
    },
    {
     "name": "stdout",
     "output_type": "stream",
     "text": [
      "                   all        807       7092      0.848      0.423      0.482      0.382      0.835      0.413      0.466      0.328\n"
     ]
    },
    {
     "name": "stderr",
     "output_type": "stream",
     "text": [
      "\n"
     ]
    },
    {
     "name": "stdout",
     "output_type": "stream",
     "text": [
      "\n",
      "      Epoch    GPU_mem   box_loss   seg_loss   cls_loss   dfl_loss  Instances       Size\n"
     ]
    },
    {
     "name": "stderr",
     "output_type": "stream",
     "text": [
      "    136/200      6.84G       0.88      2.003     0.8697       1.04         59        768: 100%|██████████| 166/166 [00:34<00:00,  4.86it/s]\n",
      "                 Class     Images  Instances      Box(P          R      mAP50  mAP50-95)     Mask(P          R      mAP50  mAP50-95): 100%|██████████| 26/26 [00:08<00:00,  3.00it/s]"
     ]
    },
    {
     "name": "stdout",
     "output_type": "stream",
     "text": [
      "                   all        807       7092      0.848      0.426      0.481      0.381      0.824      0.419      0.465      0.328\n"
     ]
    },
    {
     "name": "stderr",
     "output_type": "stream",
     "text": [
      "\n"
     ]
    },
    {
     "name": "stdout",
     "output_type": "stream",
     "text": [
      "\n",
      "      Epoch    GPU_mem   box_loss   seg_loss   cls_loss   dfl_loss  Instances       Size\n"
     ]
    },
    {
     "name": "stderr",
     "output_type": "stream",
     "text": [
      "    137/200      5.59G      0.879      1.972     0.8592      1.037         47        768: 100%|██████████| 166/166 [00:31<00:00,  5.22it/s]\n",
      "                 Class     Images  Instances      Box(P          R      mAP50  mAP50-95)     Mask(P          R      mAP50  mAP50-95): 100%|██████████| 26/26 [00:07<00:00,  3.35it/s]"
     ]
    },
    {
     "name": "stdout",
     "output_type": "stream",
     "text": [
      "                   all        807       7092      0.812       0.43      0.481      0.382      0.791      0.421      0.465      0.329\n"
     ]
    },
    {
     "name": "stderr",
     "output_type": "stream",
     "text": [
      "\n"
     ]
    },
    {
     "name": "stdout",
     "output_type": "stream",
     "text": [
      "\n",
      "      Epoch    GPU_mem   box_loss   seg_loss   cls_loss   dfl_loss  Instances       Size\n"
     ]
    },
    {
     "name": "stderr",
     "output_type": "stream",
     "text": [
      "    138/200      5.99G       0.87      1.966     0.8537      1.034         51        768: 100%|██████████| 166/166 [00:35<00:00,  4.63it/s]\n",
      "                 Class     Images  Instances      Box(P          R      mAP50  mAP50-95)     Mask(P          R      mAP50  mAP50-95): 100%|██████████| 26/26 [00:06<00:00,  3.80it/s]"
     ]
    },
    {
     "name": "stdout",
     "output_type": "stream",
     "text": [
      "                   all        807       7092      0.854      0.421       0.48      0.381      0.846       0.41      0.464      0.328\n"
     ]
    },
    {
     "name": "stderr",
     "output_type": "stream",
     "text": [
      "\n"
     ]
    },
    {
     "name": "stdout",
     "output_type": "stream",
     "text": [
      "\n",
      "      Epoch    GPU_mem   box_loss   seg_loss   cls_loss   dfl_loss  Instances       Size\n"
     ]
    },
    {
     "name": "stderr",
     "output_type": "stream",
     "text": [
      "    139/200      6.66G     0.8743      1.987     0.8491      1.032         63        768: 100%|██████████| 166/166 [00:31<00:00,  5.22it/s]\n",
      "                 Class     Images  Instances      Box(P          R      mAP50  mAP50-95)     Mask(P          R      mAP50  mAP50-95): 100%|██████████| 26/26 [00:08<00:00,  3.12it/s]"
     ]
    },
    {
     "name": "stdout",
     "output_type": "stream",
     "text": [
      "                   all        807       7092      0.805      0.437      0.482      0.383      0.793      0.426      0.464      0.329\n"
     ]
    },
    {
     "name": "stderr",
     "output_type": "stream",
     "text": [
      "\n"
     ]
    },
    {
     "name": "stdout",
     "output_type": "stream",
     "text": [
      "\n",
      "      Epoch    GPU_mem   box_loss   seg_loss   cls_loss   dfl_loss  Instances       Size\n"
     ]
    },
    {
     "name": "stderr",
     "output_type": "stream",
     "text": [
      "    140/200      6.35G     0.8722      1.967      0.853      1.035         59        768: 100%|██████████| 166/166 [00:36<00:00,  4.59it/s]\n",
      "                 Class     Images  Instances      Box(P          R      mAP50  mAP50-95)     Mask(P          R      mAP50  mAP50-95): 100%|██████████| 26/26 [00:06<00:00,  3.84it/s]"
     ]
    },
    {
     "name": "stdout",
     "output_type": "stream",
     "text": [
      "                   all        807       7092      0.819      0.439      0.485      0.386      0.806      0.427      0.468      0.331\n"
     ]
    },
    {
     "name": "stderr",
     "output_type": "stream",
     "text": [
      "\n"
     ]
    },
    {
     "name": "stdout",
     "output_type": "stream",
     "text": [
      "\n",
      "      Epoch    GPU_mem   box_loss   seg_loss   cls_loss   dfl_loss  Instances       Size\n"
     ]
    },
    {
     "name": "stderr",
     "output_type": "stream",
     "text": [
      "    141/200      6.51G     0.8668      1.958     0.8578      1.038         63        768: 100%|██████████| 166/166 [00:32<00:00,  5.19it/s]\n",
      "                 Class     Images  Instances      Box(P          R      mAP50  mAP50-95)     Mask(P          R      mAP50  mAP50-95): 100%|██████████| 26/26 [00:07<00:00,  3.25it/s]"
     ]
    },
    {
     "name": "stdout",
     "output_type": "stream",
     "text": [
      "                   all        807       7092      0.828      0.435      0.486      0.386      0.817      0.422      0.468      0.332\n"
     ]
    },
    {
     "name": "stderr",
     "output_type": "stream",
     "text": [
      "\n"
     ]
    },
    {
     "name": "stdout",
     "output_type": "stream",
     "text": [
      "\n",
      "      Epoch    GPU_mem   box_loss   seg_loss   cls_loss   dfl_loss  Instances       Size\n"
     ]
    },
    {
     "name": "stderr",
     "output_type": "stream",
     "text": [
      "    142/200       6.1G     0.8727      1.974     0.8409      1.032        113        768: 100%|██████████| 166/166 [00:36<00:00,  4.55it/s]\n",
      "                 Class     Images  Instances      Box(P          R      mAP50  mAP50-95)     Mask(P          R      mAP50  mAP50-95): 100%|██████████| 26/26 [00:05<00:00,  4.67it/s]"
     ]
    },
    {
     "name": "stdout",
     "output_type": "stream",
     "text": [
      "                   all        807       7092      0.837      0.431      0.484      0.384      0.812       0.42      0.465      0.331\n"
     ]
    },
    {
     "name": "stderr",
     "output_type": "stream",
     "text": [
      "\n"
     ]
    },
    {
     "name": "stdout",
     "output_type": "stream",
     "text": [
      "\n",
      "      Epoch    GPU_mem   box_loss   seg_loss   cls_loss   dfl_loss  Instances       Size\n"
     ]
    },
    {
     "name": "stderr",
     "output_type": "stream",
     "text": [
      "    143/200      6.38G     0.8872          2      0.861      1.041         89        768: 100%|██████████| 166/166 [00:31<00:00,  5.19it/s]\n",
      "                 Class     Images  Instances      Box(P          R      mAP50  mAP50-95)     Mask(P          R      mAP50  mAP50-95): 100%|██████████| 26/26 [00:07<00:00,  3.29it/s]"
     ]
    },
    {
     "name": "stdout",
     "output_type": "stream",
     "text": [
      "                   all        807       7092      0.818      0.435      0.484      0.385      0.822      0.419      0.466      0.332\n"
     ]
    },
    {
     "name": "stderr",
     "output_type": "stream",
     "text": [
      "\n"
     ]
    },
    {
     "name": "stdout",
     "output_type": "stream",
     "text": [
      "\n",
      "      Epoch    GPU_mem   box_loss   seg_loss   cls_loss   dfl_loss  Instances       Size\n"
     ]
    },
    {
     "name": "stderr",
     "output_type": "stream",
     "text": [
      "    144/200      5.22G     0.8598      1.942     0.8295      1.027         47        768: 100%|██████████| 166/166 [00:36<00:00,  4.49it/s]\n",
      "                 Class     Images  Instances      Box(P          R      mAP50  mAP50-95)     Mask(P          R      mAP50  mAP50-95): 100%|██████████| 26/26 [00:05<00:00,  4.53it/s]"
     ]
    },
    {
     "name": "stdout",
     "output_type": "stream",
     "text": [
      "                   all        807       7092       0.82      0.437      0.484      0.387      0.816      0.422      0.467      0.332\n"
     ]
    },
    {
     "name": "stderr",
     "output_type": "stream",
     "text": [
      "\n"
     ]
    },
    {
     "name": "stdout",
     "output_type": "stream",
     "text": [
      "\n",
      "      Epoch    GPU_mem   box_loss   seg_loss   cls_loss   dfl_loss  Instances       Size\n"
     ]
    },
    {
     "name": "stderr",
     "output_type": "stream",
     "text": [
      "    145/200      6.93G     0.8663      1.966     0.8413      1.032         52        768: 100%|██████████| 166/166 [00:31<00:00,  5.22it/s]\n",
      "                 Class     Images  Instances      Box(P          R      mAP50  mAP50-95)     Mask(P          R      mAP50  mAP50-95): 100%|██████████| 26/26 [00:08<00:00,  3.05it/s]"
     ]
    },
    {
     "name": "stdout",
     "output_type": "stream",
     "text": [
      "                   all        807       7092      0.814      0.439      0.486      0.387      0.794      0.425      0.468      0.333\n"
     ]
    },
    {
     "name": "stderr",
     "output_type": "stream",
     "text": [
      "\n"
     ]
    },
    {
     "name": "stdout",
     "output_type": "stream",
     "text": [
      "\n",
      "      Epoch    GPU_mem   box_loss   seg_loss   cls_loss   dfl_loss  Instances       Size\n"
     ]
    },
    {
     "name": "stderr",
     "output_type": "stream",
     "text": [
      "    146/200      6.44G     0.8805      1.979     0.8479      1.037         64        768: 100%|██████████| 166/166 [00:36<00:00,  4.53it/s]\n",
      "                 Class     Images  Instances      Box(P          R      mAP50  mAP50-95)     Mask(P          R      mAP50  mAP50-95): 100%|██████████| 26/26 [00:09<00:00,  2.84it/s]"
     ]
    },
    {
     "name": "stdout",
     "output_type": "stream",
     "text": [
      "                   all        807       7092      0.844      0.433      0.486      0.386      0.825      0.423       0.47      0.332\n"
     ]
    },
    {
     "name": "stderr",
     "output_type": "stream",
     "text": [
      "\n"
     ]
    },
    {
     "name": "stdout",
     "output_type": "stream",
     "text": [
      "\n",
      "      Epoch    GPU_mem   box_loss   seg_loss   cls_loss   dfl_loss  Instances       Size\n"
     ]
    },
    {
     "name": "stderr",
     "output_type": "stream",
     "text": [
      "    147/200      5.69G     0.8742      1.964      0.842      1.032         67        768: 100%|██████████| 166/166 [00:32<00:00,  5.18it/s]\n",
      "                 Class     Images  Instances      Box(P          R      mAP50  mAP50-95)     Mask(P          R      mAP50  mAP50-95): 100%|██████████| 26/26 [00:06<00:00,  4.29it/s]"
     ]
    },
    {
     "name": "stdout",
     "output_type": "stream",
     "text": [
      "                   all        807       7092      0.825      0.437      0.488      0.387      0.809      0.426      0.471      0.333\n"
     ]
    },
    {
     "name": "stderr",
     "output_type": "stream",
     "text": [
      "\n"
     ]
    },
    {
     "name": "stdout",
     "output_type": "stream",
     "text": [
      "\n",
      "      Epoch    GPU_mem   box_loss   seg_loss   cls_loss   dfl_loss  Instances       Size\n"
     ]
    },
    {
     "name": "stderr",
     "output_type": "stream",
     "text": [
      "    148/200      5.96G     0.8478      1.918     0.8258      1.025         83        768: 100%|██████████| 166/166 [00:36<00:00,  4.53it/s]\n",
      "                 Class     Images  Instances      Box(P          R      mAP50  mAP50-95)     Mask(P          R      mAP50  mAP50-95): 100%|██████████| 26/26 [00:06<00:00,  3.85it/s]"
     ]
    },
    {
     "name": "stdout",
     "output_type": "stream",
     "text": [
      "                   all        807       7092      0.807      0.441      0.487      0.388      0.808      0.426      0.469      0.333\n"
     ]
    },
    {
     "name": "stderr",
     "output_type": "stream",
     "text": [
      "\n"
     ]
    },
    {
     "name": "stdout",
     "output_type": "stream",
     "text": [
      "\n",
      "      Epoch    GPU_mem   box_loss   seg_loss   cls_loss   dfl_loss  Instances       Size\n"
     ]
    },
    {
     "name": "stderr",
     "output_type": "stream",
     "text": [
      "    149/200      7.14G     0.8607      1.932     0.8362      1.028        135        768: 100%|██████████| 166/166 [00:31<00:00,  5.19it/s]\n",
      "                 Class     Images  Instances      Box(P          R      mAP50  mAP50-95)     Mask(P          R      mAP50  mAP50-95): 100%|██████████| 26/26 [00:07<00:00,  3.36it/s]"
     ]
    },
    {
     "name": "stdout",
     "output_type": "stream",
     "text": [
      "                   all        807       7092      0.832      0.436      0.485      0.388      0.818      0.424      0.468      0.333\n"
     ]
    },
    {
     "name": "stderr",
     "output_type": "stream",
     "text": [
      "\n"
     ]
    },
    {
     "name": "stdout",
     "output_type": "stream",
     "text": [
      "\n",
      "      Epoch    GPU_mem   box_loss   seg_loss   cls_loss   dfl_loss  Instances       Size\n"
     ]
    },
    {
     "name": "stderr",
     "output_type": "stream",
     "text": [
      "    150/200      6.66G     0.8518      1.922     0.8174      1.025         41        768: 100%|██████████| 166/166 [00:35<00:00,  4.61it/s]\n",
      "                 Class     Images  Instances      Box(P          R      mAP50  mAP50-95)     Mask(P          R      mAP50  mAP50-95): 100%|██████████| 26/26 [00:12<00:00,  2.06it/s]"
     ]
    },
    {
     "name": "stdout",
     "output_type": "stream",
     "text": [
      "                   all        807       7092      0.813      0.441      0.485      0.387      0.792      0.432      0.468      0.333\n"
     ]
    },
    {
     "name": "stderr",
     "output_type": "stream",
     "text": [
      "\n"
     ]
    },
    {
     "name": "stdout",
     "output_type": "stream",
     "text": [
      "\n",
      "      Epoch    GPU_mem   box_loss   seg_loss   cls_loss   dfl_loss  Instances       Size\n"
     ]
    },
    {
     "name": "stderr",
     "output_type": "stream",
     "text": [
      "    151/200      5.71G     0.8635      1.961     0.8221      1.028        127        768: 100%|██████████| 166/166 [00:32<00:00,  5.14it/s]\n",
      "                 Class     Images  Instances      Box(P          R      mAP50  mAP50-95)     Mask(P          R      mAP50  mAP50-95): 100%|██████████| 26/26 [00:05<00:00,  4.42it/s]"
     ]
    },
    {
     "name": "stdout",
     "output_type": "stream",
     "text": [
      "                   all        807       7092      0.806      0.441      0.488      0.389      0.824      0.421       0.47      0.333\n"
     ]
    },
    {
     "name": "stderr",
     "output_type": "stream",
     "text": [
      "\n"
     ]
    },
    {
     "name": "stdout",
     "output_type": "stream",
     "text": [
      "\n",
      "      Epoch    GPU_mem   box_loss   seg_loss   cls_loss   dfl_loss  Instances       Size\n"
     ]
    },
    {
     "name": "stderr",
     "output_type": "stream",
     "text": [
      "    152/200      6.99G      0.868      1.962     0.8326      1.028         85        768: 100%|██████████| 166/166 [00:36<00:00,  4.58it/s]\n",
      "                 Class     Images  Instances      Box(P          R      mAP50  mAP50-95)     Mask(P          R      mAP50  mAP50-95): 100%|██████████| 26/26 [00:07<00:00,  3.62it/s]"
     ]
    },
    {
     "name": "stdout",
     "output_type": "stream",
     "text": [
      "                   all        807       7092      0.807       0.44      0.486      0.389        0.8      0.428       0.47      0.333\n"
     ]
    },
    {
     "name": "stderr",
     "output_type": "stream",
     "text": [
      "\n"
     ]
    },
    {
     "name": "stdout",
     "output_type": "stream",
     "text": [
      "\n",
      "      Epoch    GPU_mem   box_loss   seg_loss   cls_loss   dfl_loss  Instances       Size\n"
     ]
    },
    {
     "name": "stderr",
     "output_type": "stream",
     "text": [
      "    153/200      6.75G     0.8591      1.957     0.8309       1.03         39        768: 100%|██████████| 166/166 [00:31<00:00,  5.22it/s]\n",
      "                 Class     Images  Instances      Box(P          R      mAP50  mAP50-95)     Mask(P          R      mAP50  mAP50-95): 100%|██████████| 26/26 [00:06<00:00,  4.04it/s]"
     ]
    },
    {
     "name": "stdout",
     "output_type": "stream",
     "text": [
      "                   all        807       7092      0.824      0.437      0.487      0.389      0.826      0.422      0.469      0.332\n"
     ]
    },
    {
     "name": "stderr",
     "output_type": "stream",
     "text": [
      "\n"
     ]
    },
    {
     "name": "stdout",
     "output_type": "stream",
     "text": [
      "\n",
      "      Epoch    GPU_mem   box_loss   seg_loss   cls_loss   dfl_loss  Instances       Size\n"
     ]
    },
    {
     "name": "stderr",
     "output_type": "stream",
     "text": [
      "    154/200       7.5G     0.8642      1.949     0.8263      1.026        121        768: 100%|██████████| 166/166 [00:34<00:00,  4.75it/s]\n",
      "                 Class     Images  Instances      Box(P          R      mAP50  mAP50-95)     Mask(P          R      mAP50  mAP50-95): 100%|██████████| 26/26 [00:12<00:00,  2.15it/s]"
     ]
    },
    {
     "name": "stdout",
     "output_type": "stream",
     "text": [
      "                   all        807       7092      0.827      0.439      0.487      0.389      0.812      0.428      0.471      0.331\n"
     ]
    },
    {
     "name": "stderr",
     "output_type": "stream",
     "text": [
      "\n"
     ]
    },
    {
     "name": "stdout",
     "output_type": "stream",
     "text": [
      "\n",
      "      Epoch    GPU_mem   box_loss   seg_loss   cls_loss   dfl_loss  Instances       Size\n"
     ]
    },
    {
     "name": "stderr",
     "output_type": "stream",
     "text": [
      "    155/200       5.7G      0.849      1.922     0.8158      1.023        104        768: 100%|██████████| 166/166 [00:32<00:00,  5.16it/s]\n",
      "                 Class     Images  Instances      Box(P          R      mAP50  mAP50-95)     Mask(P          R      mAP50  mAP50-95): 100%|██████████| 26/26 [00:05<00:00,  4.42it/s]"
     ]
    },
    {
     "name": "stdout",
     "output_type": "stream",
     "text": [
      "                   all        807       7092       0.82       0.44       0.49       0.39       0.85       0.42       0.47      0.332\n"
     ]
    },
    {
     "name": "stderr",
     "output_type": "stream",
     "text": [
      "\n"
     ]
    },
    {
     "name": "stdout",
     "output_type": "stream",
     "text": [
      "\n",
      "      Epoch    GPU_mem   box_loss   seg_loss   cls_loss   dfl_loss  Instances       Size\n"
     ]
    },
    {
     "name": "stderr",
     "output_type": "stream",
     "text": [
      "    156/200      6.42G     0.8542      1.932     0.8143      1.019         93        768: 100%|██████████| 166/166 [00:34<00:00,  4.75it/s]\n",
      "                 Class     Images  Instances      Box(P          R      mAP50  mAP50-95)     Mask(P          R      mAP50  mAP50-95): 100%|██████████| 26/26 [00:07<00:00,  3.30it/s]"
     ]
    },
    {
     "name": "stdout",
     "output_type": "stream",
     "text": [
      "                   all        807       7092       0.83      0.437      0.489       0.39      0.825      0.425      0.472      0.333\n"
     ]
    },
    {
     "name": "stderr",
     "output_type": "stream",
     "text": [
      "\n"
     ]
    },
    {
     "name": "stdout",
     "output_type": "stream",
     "text": [
      "\n",
      "      Epoch    GPU_mem   box_loss   seg_loss   cls_loss   dfl_loss  Instances       Size\n"
     ]
    },
    {
     "name": "stderr",
     "output_type": "stream",
     "text": [
      "    157/200      6.22G     0.8427      1.937     0.8046      1.017         53        768: 100%|██████████| 166/166 [00:32<00:00,  5.14it/s]\n",
      "                 Class     Images  Instances      Box(P          R      mAP50  mAP50-95)     Mask(P          R      mAP50  mAP50-95): 100%|██████████| 26/26 [00:07<00:00,  3.34it/s]"
     ]
    },
    {
     "name": "stdout",
     "output_type": "stream",
     "text": [
      "                   all        807       7092      0.808      0.447      0.488       0.39      0.801      0.429       0.47      0.332\n"
     ]
    },
    {
     "name": "stderr",
     "output_type": "stream",
     "text": [
      "\n"
     ]
    },
    {
     "name": "stdout",
     "output_type": "stream",
     "text": [
      "\n",
      "      Epoch    GPU_mem   box_loss   seg_loss   cls_loss   dfl_loss  Instances       Size\n"
     ]
    },
    {
     "name": "stderr",
     "output_type": "stream",
     "text": [
      "    158/200      7.22G     0.8393       1.91     0.8072       1.02         65        768: 100%|██████████| 166/166 [00:33<00:00,  4.92it/s]\n",
      "                 Class     Images  Instances      Box(P          R      mAP50  mAP50-95)     Mask(P          R      mAP50  mAP50-95): 100%|██████████| 26/26 [00:12<00:00,  2.13it/s]"
     ]
    },
    {
     "name": "stdout",
     "output_type": "stream",
     "text": [
      "                   all        807       7092      0.816      0.442      0.488       0.39      0.809      0.429      0.471      0.334\n"
     ]
    },
    {
     "name": "stderr",
     "output_type": "stream",
     "text": [
      "\n"
     ]
    },
    {
     "name": "stdout",
     "output_type": "stream",
     "text": [
      "\n",
      "      Epoch    GPU_mem   box_loss   seg_loss   cls_loss   dfl_loss  Instances       Size\n"
     ]
    },
    {
     "name": "stderr",
     "output_type": "stream",
     "text": [
      "    159/200      5.75G       0.85      1.941     0.8026      1.025         54        768: 100%|██████████| 166/166 [00:32<00:00,  5.03it/s]\n",
      "                 Class     Images  Instances      Box(P          R      mAP50  mAP50-95)     Mask(P          R      mAP50  mAP50-95): 100%|██████████| 26/26 [00:07<00:00,  3.62it/s]"
     ]
    },
    {
     "name": "stdout",
     "output_type": "stream",
     "text": [
      "                   all        807       7092      0.829      0.443      0.488      0.392      0.834      0.426      0.471      0.333\n"
     ]
    },
    {
     "name": "stderr",
     "output_type": "stream",
     "text": [
      "\n"
     ]
    },
    {
     "name": "stdout",
     "output_type": "stream",
     "text": [
      "\n",
      "      Epoch    GPU_mem   box_loss   seg_loss   cls_loss   dfl_loss  Instances       Size\n"
     ]
    },
    {
     "name": "stderr",
     "output_type": "stream",
     "text": [
      "    160/200      6.87G     0.8584      1.945     0.8235      1.026        219        768: 100%|██████████| 166/166 [00:33<00:00,  4.93it/s]\n",
      "                 Class     Images  Instances      Box(P          R      mAP50  mAP50-95)     Mask(P          R      mAP50  mAP50-95): 100%|██████████| 26/26 [00:09<00:00,  2.72it/s]"
     ]
    },
    {
     "name": "stdout",
     "output_type": "stream",
     "text": [
      "                   all        807       7092      0.829      0.442      0.487      0.391      0.816      0.429       0.47      0.334\n"
     ]
    },
    {
     "name": "stderr",
     "output_type": "stream",
     "text": [
      "\n"
     ]
    },
    {
     "name": "stdout",
     "output_type": "stream",
     "text": [
      "\n",
      "      Epoch    GPU_mem   box_loss   seg_loss   cls_loss   dfl_loss  Instances       Size\n"
     ]
    },
    {
     "name": "stderr",
     "output_type": "stream",
     "text": [
      "    161/200      5.52G     0.8537      1.924     0.8063      1.022         62        768: 100%|██████████| 166/166 [00:32<00:00,  5.11it/s]\n",
      "                 Class     Images  Instances      Box(P          R      mAP50  mAP50-95)     Mask(P          R      mAP50  mAP50-95): 100%|██████████| 26/26 [00:05<00:00,  4.57it/s]"
     ]
    },
    {
     "name": "stdout",
     "output_type": "stream",
     "text": [
      "                   all        807       7092      0.825      0.441      0.488       0.39      0.831      0.424       0.47      0.334\n"
     ]
    },
    {
     "name": "stderr",
     "output_type": "stream",
     "text": [
      "\n"
     ]
    },
    {
     "name": "stdout",
     "output_type": "stream",
     "text": [
      "\n",
      "      Epoch    GPU_mem   box_loss   seg_loss   cls_loss   dfl_loss  Instances       Size\n"
     ]
    },
    {
     "name": "stderr",
     "output_type": "stream",
     "text": [
      "    162/200      6.01G     0.8579      1.939     0.8117      1.027         55        768: 100%|██████████| 166/166 [00:32<00:00,  5.11it/s]\n",
      "                 Class     Images  Instances      Box(P          R      mAP50  mAP50-95)     Mask(P          R      mAP50  mAP50-95): 100%|██████████| 26/26 [00:07<00:00,  3.55it/s]"
     ]
    },
    {
     "name": "stdout",
     "output_type": "stream",
     "text": [
      "                   all        807       7092      0.823      0.444      0.489       0.39      0.818      0.426       0.47      0.333\n"
     ]
    },
    {
     "name": "stderr",
     "output_type": "stream",
     "text": [
      "\n"
     ]
    },
    {
     "name": "stdout",
     "output_type": "stream",
     "text": [
      "\n",
      "      Epoch    GPU_mem   box_loss   seg_loss   cls_loss   dfl_loss  Instances       Size\n"
     ]
    },
    {
     "name": "stderr",
     "output_type": "stream",
     "text": [
      "    163/200      5.87G     0.8445      1.918     0.8015      1.023         60        768: 100%|██████████| 166/166 [00:34<00:00,  4.87it/s]\n",
      "                 Class     Images  Instances      Box(P          R      mAP50  mAP50-95)     Mask(P          R      mAP50  mAP50-95): 100%|██████████| 26/26 [00:06<00:00,  3.82it/s]"
     ]
    },
    {
     "name": "stdout",
     "output_type": "stream",
     "text": [
      "                   all        807       7092      0.832      0.441      0.488       0.39      0.812      0.429       0.47      0.332\n"
     ]
    },
    {
     "name": "stderr",
     "output_type": "stream",
     "text": [
      "\n"
     ]
    },
    {
     "name": "stdout",
     "output_type": "stream",
     "text": [
      "\n",
      "      Epoch    GPU_mem   box_loss   seg_loss   cls_loss   dfl_loss  Instances       Size\n"
     ]
    },
    {
     "name": "stderr",
     "output_type": "stream",
     "text": [
      "    164/200       6.7G      0.844      1.917     0.7989      1.019        110        768: 100%|██████████| 166/166 [00:32<00:00,  5.09it/s]\n",
      "                 Class     Images  Instances      Box(P          R      mAP50  mAP50-95)     Mask(P          R      mAP50  mAP50-95): 100%|██████████| 26/26 [00:09<00:00,  2.71it/s]"
     ]
    },
    {
     "name": "stdout",
     "output_type": "stream",
     "text": [
      "                   all        807       7092      0.827      0.444      0.488      0.389      0.813      0.429       0.47      0.333\n"
     ]
    },
    {
     "name": "stderr",
     "output_type": "stream",
     "text": [
      "\n"
     ]
    },
    {
     "name": "stdout",
     "output_type": "stream",
     "text": [
      "\n",
      "      Epoch    GPU_mem   box_loss   seg_loss   cls_loss   dfl_loss  Instances       Size\n"
     ]
    },
    {
     "name": "stderr",
     "output_type": "stream",
     "text": [
      "    165/200      5.63G     0.8433      1.915     0.8059      1.022         99        768: 100%|██████████| 166/166 [00:34<00:00,  4.76it/s]\n",
      "                 Class     Images  Instances      Box(P          R      mAP50  mAP50-95)     Mask(P          R      mAP50  mAP50-95): 100%|██████████| 26/26 [00:06<00:00,  4.06it/s]"
     ]
    },
    {
     "name": "stdout",
     "output_type": "stream",
     "text": [
      "                   all        807       7092      0.826      0.446       0.49       0.39       0.81      0.431      0.471      0.334\n"
     ]
    },
    {
     "name": "stderr",
     "output_type": "stream",
     "text": [
      "\n"
     ]
    },
    {
     "name": "stdout",
     "output_type": "stream",
     "text": [
      "\n",
      "      Epoch    GPU_mem   box_loss   seg_loss   cls_loss   dfl_loss  Instances       Size\n"
     ]
    },
    {
     "name": "stderr",
     "output_type": "stream",
     "text": [
      "    166/200      5.33G     0.8267      1.879      0.792      1.013         69        768: 100%|██████████| 166/166 [00:32<00:00,  5.18it/s]\n",
      "                 Class     Images  Instances      Box(P          R      mAP50  mAP50-95)     Mask(P          R      mAP50  mAP50-95): 100%|██████████| 26/26 [00:06<00:00,  3.79it/s]"
     ]
    },
    {
     "name": "stdout",
     "output_type": "stream",
     "text": [
      "                   all        807       7092      0.826      0.449       0.49      0.391      0.812      0.432      0.472      0.335\n"
     ]
    },
    {
     "name": "stderr",
     "output_type": "stream",
     "text": [
      "\n"
     ]
    },
    {
     "name": "stdout",
     "output_type": "stream",
     "text": [
      "\n",
      "      Epoch    GPU_mem   box_loss   seg_loss   cls_loss   dfl_loss  Instances       Size\n"
     ]
    },
    {
     "name": "stderr",
     "output_type": "stream",
     "text": [
      "    167/200      5.98G      0.849      1.925     0.7994      1.017         62        768: 100%|██████████| 166/166 [00:37<00:00,  4.48it/s]\n",
      "                 Class     Images  Instances      Box(P          R      mAP50  mAP50-95)     Mask(P          R      mAP50  mAP50-95): 100%|██████████| 26/26 [00:07<00:00,  3.43it/s]"
     ]
    },
    {
     "name": "stdout",
     "output_type": "stream",
     "text": [
      "                   all        807       7092      0.803      0.452       0.49      0.392      0.824      0.428      0.473      0.335\n"
     ]
    },
    {
     "name": "stderr",
     "output_type": "stream",
     "text": [
      "\n"
     ]
    },
    {
     "name": "stdout",
     "output_type": "stream",
     "text": [
      "\n",
      "      Epoch    GPU_mem   box_loss   seg_loss   cls_loss   dfl_loss  Instances       Size\n"
     ]
    },
    {
     "name": "stderr",
     "output_type": "stream",
     "text": [
      "    168/200      5.81G     0.8442      1.911     0.8036      1.016        109        768: 100%|██████████| 166/166 [00:31<00:00,  5.21it/s]\n",
      "                 Class     Images  Instances      Box(P          R      mAP50  mAP50-95)     Mask(P          R      mAP50  mAP50-95): 100%|██████████| 26/26 [00:07<00:00,  3.63it/s]"
     ]
    },
    {
     "name": "stdout",
     "output_type": "stream",
     "text": [
      "                   all        807       7092      0.817      0.447      0.489       0.39      0.806      0.432      0.472      0.335\n"
     ]
    },
    {
     "name": "stderr",
     "output_type": "stream",
     "text": [
      "\n"
     ]
    },
    {
     "name": "stdout",
     "output_type": "stream",
     "text": [
      "\n",
      "      Epoch    GPU_mem   box_loss   seg_loss   cls_loss   dfl_loss  Instances       Size\n"
     ]
    },
    {
     "name": "stderr",
     "output_type": "stream",
     "text": [
      "    169/200      6.14G     0.8398      1.905     0.7914      1.016         38        768: 100%|██████████| 166/166 [00:36<00:00,  4.57it/s]\n",
      "                 Class     Images  Instances      Box(P          R      mAP50  mAP50-95)     Mask(P          R      mAP50  mAP50-95): 100%|██████████| 26/26 [00:06<00:00,  4.25it/s]"
     ]
    },
    {
     "name": "stdout",
     "output_type": "stream",
     "text": [
      "                   all        807       7092      0.838      0.441       0.49       0.39      0.839      0.426      0.472      0.335\n"
     ]
    },
    {
     "name": "stderr",
     "output_type": "stream",
     "text": [
      "\n"
     ]
    },
    {
     "name": "stdout",
     "output_type": "stream",
     "text": [
      "\n",
      "      Epoch    GPU_mem   box_loss   seg_loss   cls_loss   dfl_loss  Instances       Size\n"
     ]
    },
    {
     "name": "stderr",
     "output_type": "stream",
     "text": [
      "    170/200      6.73G     0.8324      1.919     0.7834      1.012         80        768: 100%|██████████| 166/166 [00:31<00:00,  5.20it/s]\n",
      "                 Class     Images  Instances      Box(P          R      mAP50  mAP50-95)     Mask(P          R      mAP50  mAP50-95): 100%|██████████| 26/26 [00:06<00:00,  4.25it/s]"
     ]
    },
    {
     "name": "stdout",
     "output_type": "stream",
     "text": [
      "                   all        807       7092      0.831      0.443      0.489      0.391      0.833      0.427      0.472      0.334\n"
     ]
    },
    {
     "name": "stderr",
     "output_type": "stream",
     "text": [
      "\n"
     ]
    },
    {
     "name": "stdout",
     "output_type": "stream",
     "text": [
      "\n",
      "      Epoch    GPU_mem   box_loss   seg_loss   cls_loss   dfl_loss  Instances       Size\n"
     ]
    },
    {
     "name": "stderr",
     "output_type": "stream",
     "text": [
      "    171/200       5.9G     0.8446       1.92     0.7872      1.019        116        768: 100%|██████████| 166/166 [00:36<00:00,  4.51it/s]\n",
      "                 Class     Images  Instances      Box(P          R      mAP50  mAP50-95)     Mask(P          R      mAP50  mAP50-95): 100%|██████████| 26/26 [00:06<00:00,  3.85it/s]"
     ]
    },
    {
     "name": "stdout",
     "output_type": "stream",
     "text": [
      "                   all        807       7092      0.833      0.445       0.49      0.392      0.828      0.429      0.472      0.335\n"
     ]
    },
    {
     "name": "stderr",
     "output_type": "stream",
     "text": [
      "\n"
     ]
    },
    {
     "name": "stdout",
     "output_type": "stream",
     "text": [
      "\n",
      "      Epoch    GPU_mem   box_loss   seg_loss   cls_loss   dfl_loss  Instances       Size\n"
     ]
    },
    {
     "name": "stderr",
     "output_type": "stream",
     "text": [
      "    172/200      5.96G     0.8404      1.902     0.8005      1.018         77        768: 100%|██████████| 166/166 [00:31<00:00,  5.20it/s]\n",
      "                 Class     Images  Instances      Box(P          R      mAP50  mAP50-95)     Mask(P          R      mAP50  mAP50-95): 100%|██████████| 26/26 [00:07<00:00,  3.70it/s]"
     ]
    },
    {
     "name": "stdout",
     "output_type": "stream",
     "text": [
      "                   all        807       7092      0.831      0.447       0.49      0.393      0.828      0.429      0.473      0.337\n"
     ]
    },
    {
     "name": "stderr",
     "output_type": "stream",
     "text": [
      "\n"
     ]
    },
    {
     "name": "stdout",
     "output_type": "stream",
     "text": [
      "\n",
      "      Epoch    GPU_mem   box_loss   seg_loss   cls_loss   dfl_loss  Instances       Size\n"
     ]
    },
    {
     "name": "stderr",
     "output_type": "stream",
     "text": [
      "    173/200      6.14G     0.8373      1.899     0.7789      1.011         47        768: 100%|██████████| 166/166 [00:36<00:00,  4.53it/s]\n",
      "                 Class     Images  Instances      Box(P          R      mAP50  mAP50-95)     Mask(P          R      mAP50  mAP50-95): 100%|██████████| 26/26 [00:07<00:00,  3.43it/s]"
     ]
    },
    {
     "name": "stdout",
     "output_type": "stream",
     "text": [
      "                   all        807       7092      0.834      0.444      0.492      0.394      0.847      0.426      0.474      0.336\n"
     ]
    },
    {
     "name": "stderr",
     "output_type": "stream",
     "text": [
      "\n"
     ]
    },
    {
     "name": "stdout",
     "output_type": "stream",
     "text": [
      "\n",
      "      Epoch    GPU_mem   box_loss   seg_loss   cls_loss   dfl_loss  Instances       Size\n"
     ]
    },
    {
     "name": "stderr",
     "output_type": "stream",
     "text": [
      "    174/200      5.48G     0.8426      1.921     0.7849      1.016        102        768: 100%|██████████| 166/166 [00:31<00:00,  5.24it/s]\n",
      "                 Class     Images  Instances      Box(P          R      mAP50  mAP50-95)     Mask(P          R      mAP50  mAP50-95): 100%|██████████| 26/26 [00:05<00:00,  4.57it/s]"
     ]
    },
    {
     "name": "stdout",
     "output_type": "stream",
     "text": [
      "                   all        807       7092       0.84      0.441      0.491      0.395      0.844      0.425      0.474      0.338\n"
     ]
    },
    {
     "name": "stderr",
     "output_type": "stream",
     "text": [
      "\n"
     ]
    },
    {
     "name": "stdout",
     "output_type": "stream",
     "text": [
      "\n",
      "      Epoch    GPU_mem   box_loss   seg_loss   cls_loss   dfl_loss  Instances       Size\n"
     ]
    },
    {
     "name": "stderr",
     "output_type": "stream",
     "text": [
      "    175/200      6.46G     0.8337        1.9     0.7791       1.01         55        768: 100%|██████████| 166/166 [00:36<00:00,  4.50it/s]\n",
      "                 Class     Images  Instances      Box(P          R      mAP50  mAP50-95)     Mask(P          R      mAP50  mAP50-95): 100%|██████████| 26/26 [00:06<00:00,  4.09it/s]"
     ]
    },
    {
     "name": "stdout",
     "output_type": "stream",
     "text": [
      "                   all        807       7092      0.846      0.441      0.491      0.395      0.839      0.427      0.475       0.34\n"
     ]
    },
    {
     "name": "stderr",
     "output_type": "stream",
     "text": [
      "\n"
     ]
    },
    {
     "name": "stdout",
     "output_type": "stream",
     "text": [
      "\n",
      "      Epoch    GPU_mem   box_loss   seg_loss   cls_loss   dfl_loss  Instances       Size\n"
     ]
    },
    {
     "name": "stderr",
     "output_type": "stream",
     "text": [
      "    176/200      7.33G     0.8277       1.87     0.7732      1.013         77        768: 100%|██████████| 166/166 [00:31<00:00,  5.24it/s]\n",
      "                 Class     Images  Instances      Box(P          R      mAP50  mAP50-95)     Mask(P          R      mAP50  mAP50-95): 100%|██████████| 26/26 [00:07<00:00,  3.52it/s]"
     ]
    },
    {
     "name": "stdout",
     "output_type": "stream",
     "text": [
      "                   all        807       7092      0.833      0.446      0.492      0.396      0.834       0.43      0.477       0.34\n"
     ]
    },
    {
     "name": "stderr",
     "output_type": "stream",
     "text": [
      "\n"
     ]
    },
    {
     "name": "stdout",
     "output_type": "stream",
     "text": [
      "\n",
      "      Epoch    GPU_mem   box_loss   seg_loss   cls_loss   dfl_loss  Instances       Size\n"
     ]
    },
    {
     "name": "stderr",
     "output_type": "stream",
     "text": [
      "    177/200      6.11G     0.8366      1.907     0.7837      1.016         48        768: 100%|██████████| 166/166 [00:35<00:00,  4.72it/s]\n",
      "                 Class     Images  Instances      Box(P          R      mAP50  mAP50-95)     Mask(P          R      mAP50  mAP50-95): 100%|██████████| 26/26 [00:06<00:00,  3.88it/s]"
     ]
    },
    {
     "name": "stdout",
     "output_type": "stream",
     "text": [
      "                   all        807       7092      0.836      0.446      0.492      0.396      0.824      0.433      0.476       0.34\n"
     ]
    },
    {
     "name": "stderr",
     "output_type": "stream",
     "text": [
      "\n"
     ]
    },
    {
     "name": "stdout",
     "output_type": "stream",
     "text": [
      "\n",
      "      Epoch    GPU_mem   box_loss   seg_loss   cls_loss   dfl_loss  Instances       Size\n"
     ]
    },
    {
     "name": "stderr",
     "output_type": "stream",
     "text": [
      "    178/200      5.64G     0.8263      1.878     0.7728      1.009        111        768: 100%|██████████| 166/166 [00:32<00:00,  5.10it/s]\n",
      "                 Class     Images  Instances      Box(P          R      mAP50  mAP50-95)     Mask(P          R      mAP50  mAP50-95): 100%|██████████| 26/26 [00:06<00:00,  4.13it/s]"
     ]
    },
    {
     "name": "stdout",
     "output_type": "stream",
     "text": [
      "                   all        807       7092      0.833      0.449      0.492      0.396      0.828      0.432      0.476      0.339\n"
     ]
    },
    {
     "name": "stderr",
     "output_type": "stream",
     "text": [
      "\n"
     ]
    },
    {
     "name": "stdout",
     "output_type": "stream",
     "text": [
      "\n",
      "      Epoch    GPU_mem   box_loss   seg_loss   cls_loss   dfl_loss  Instances       Size\n"
     ]
    },
    {
     "name": "stderr",
     "output_type": "stream",
     "text": [
      "    179/200      5.71G     0.8424      1.919     0.7855      1.015         76        768: 100%|██████████| 166/166 [00:33<00:00,  4.93it/s]\n",
      "                 Class     Images  Instances      Box(P          R      mAP50  mAP50-95)     Mask(P          R      mAP50  mAP50-95): 100%|██████████| 26/26 [00:07<00:00,  3.65it/s]"
     ]
    },
    {
     "name": "stdout",
     "output_type": "stream",
     "text": [
      "                   all        807       7092      0.837      0.449      0.493      0.396      0.819      0.435      0.477       0.34\n"
     ]
    },
    {
     "name": "stderr",
     "output_type": "stream",
     "text": [
      "\n"
     ]
    },
    {
     "name": "stdout",
     "output_type": "stream",
     "text": [
      "\n",
      "      Epoch    GPU_mem   box_loss   seg_loss   cls_loss   dfl_loss  Instances       Size\n"
     ]
    },
    {
     "name": "stderr",
     "output_type": "stream",
     "text": [
      "    180/200      7.23G     0.8282      1.899     0.7669       1.01         99        768: 100%|██████████| 166/166 [00:33<00:00,  4.97it/s]\n",
      "                 Class     Images  Instances      Box(P          R      mAP50  mAP50-95)     Mask(P          R      mAP50  mAP50-95): 100%|██████████| 26/26 [00:09<00:00,  2.84it/s]"
     ]
    },
    {
     "name": "stdout",
     "output_type": "stream",
     "text": [
      "                   all        807       7092      0.841      0.447      0.494      0.397      0.819      0.434      0.476       0.34\n"
     ]
    },
    {
     "name": "stderr",
     "output_type": "stream",
     "text": [
      "\n"
     ]
    },
    {
     "name": "stdout",
     "output_type": "stream",
     "text": [
      "\n",
      "      Epoch    GPU_mem   box_loss   seg_loss   cls_loss   dfl_loss  Instances       Size\n"
     ]
    },
    {
     "name": "stderr",
     "output_type": "stream",
     "text": [
      "    181/200      7.11G     0.8318      1.912     0.7793      1.012         43        768: 100%|██████████| 166/166 [00:32<00:00,  5.07it/s]\n",
      "                 Class     Images  Instances      Box(P          R      mAP50  mAP50-95)     Mask(P          R      mAP50  mAP50-95): 100%|██████████| 26/26 [00:09<00:00,  2.71it/s]"
     ]
    },
    {
     "name": "stdout",
     "output_type": "stream",
     "text": [
      "                   all        807       7092      0.845      0.444      0.493      0.398      0.824      0.432      0.475      0.339\n"
     ]
    },
    {
     "name": "stderr",
     "output_type": "stream",
     "text": [
      "\n"
     ]
    },
    {
     "name": "stdout",
     "output_type": "stream",
     "text": [
      "\n",
      "      Epoch    GPU_mem   box_loss   seg_loss   cls_loss   dfl_loss  Instances       Size\n"
     ]
    },
    {
     "name": "stderr",
     "output_type": "stream",
     "text": [
      "    182/200      6.53G     0.8244       1.88     0.7634       1.01         49        768: 100%|██████████| 166/166 [00:33<00:00,  4.99it/s]\n",
      "                 Class     Images  Instances      Box(P          R      mAP50  mAP50-95)     Mask(P          R      mAP50  mAP50-95): 100%|██████████| 26/26 [00:08<00:00,  3.12it/s]"
     ]
    },
    {
     "name": "stdout",
     "output_type": "stream",
     "text": [
      "                   all        807       7092      0.847      0.444      0.493      0.397      0.826      0.433      0.477      0.339\n"
     ]
    },
    {
     "name": "stderr",
     "output_type": "stream",
     "text": [
      "\n"
     ]
    },
    {
     "name": "stdout",
     "output_type": "stream",
     "text": [
      "\n",
      "      Epoch    GPU_mem   box_loss   seg_loss   cls_loss   dfl_loss  Instances       Size\n"
     ]
    },
    {
     "name": "stderr",
     "output_type": "stream",
     "text": [
      "    183/200      6.65G     0.8403      1.913     0.7813      1.013         76        768: 100%|██████████| 166/166 [00:32<00:00,  5.08it/s]\n",
      "                 Class     Images  Instances      Box(P          R      mAP50  mAP50-95)     Mask(P          R      mAP50  mAP50-95): 100%|██████████| 26/26 [00:12<00:00,  2.11it/s]\n"
     ]
    },
    {
     "name": "stdout",
     "output_type": "stream",
     "text": [
      "                   all        807       7092      0.845      0.445      0.494      0.398      0.826      0.434      0.478       0.34\n",
      "\n",
      "      Epoch    GPU_mem   box_loss   seg_loss   cls_loss   dfl_loss  Instances       Size\n"
     ]
    },
    {
     "name": "stderr",
     "output_type": "stream",
     "text": [
      "    184/200      7.06G     0.8337      1.907     0.7737      1.009         69        768: 100%|██████████| 166/166 [00:34<00:00,  4.84it/s]\n",
      "                 Class     Images  Instances      Box(P          R      mAP50  mAP50-95)     Mask(P          R      mAP50  mAP50-95): 100%|██████████| 26/26 [00:06<00:00,  3.73it/s]"
     ]
    },
    {
     "name": "stdout",
     "output_type": "stream",
     "text": [
      "                   all        807       7092      0.837       0.45      0.495      0.399      0.813      0.438      0.478      0.342\n"
     ]
    },
    {
     "name": "stderr",
     "output_type": "stream",
     "text": [
      "\n"
     ]
    },
    {
     "name": "stdout",
     "output_type": "stream",
     "text": [
      "\n",
      "      Epoch    GPU_mem   box_loss   seg_loss   cls_loss   dfl_loss  Instances       Size\n"
     ]
    },
    {
     "name": "stderr",
     "output_type": "stream",
     "text": [
      "    185/200      6.37G      0.815      1.871     0.7625      1.003        181        768: 100%|██████████| 166/166 [00:34<00:00,  4.88it/s]\n",
      "                 Class     Images  Instances      Box(P          R      mAP50  mAP50-95)     Mask(P          R      mAP50  mAP50-95): 100%|██████████| 26/26 [00:09<00:00,  2.81it/s]"
     ]
    },
    {
     "name": "stdout",
     "output_type": "stream",
     "text": [
      "                   all        807       7092       0.84      0.448      0.494      0.399      0.838      0.433      0.478       0.34\n"
     ]
    },
    {
     "name": "stderr",
     "output_type": "stream",
     "text": [
      "\n"
     ]
    },
    {
     "name": "stdout",
     "output_type": "stream",
     "text": [
      "\n",
      "      Epoch    GPU_mem   box_loss   seg_loss   cls_loss   dfl_loss  Instances       Size\n"
     ]
    },
    {
     "name": "stderr",
     "output_type": "stream",
     "text": [
      "    186/200      6.67G     0.8126      1.852     0.7576      1.002         66        768: 100%|██████████| 166/166 [00:34<00:00,  4.86it/s]\n",
      "                 Class     Images  Instances      Box(P          R      mAP50  mAP50-95)     Mask(P          R      mAP50  mAP50-95): 100%|██████████| 26/26 [00:08<00:00,  3.14it/s]"
     ]
    },
    {
     "name": "stdout",
     "output_type": "stream",
     "text": [
      "                   all        807       7092      0.838      0.448      0.495      0.399      0.834      0.432      0.477       0.34\n"
     ]
    },
    {
     "name": "stderr",
     "output_type": "stream",
     "text": [
      "\n"
     ]
    },
    {
     "name": "stdout",
     "output_type": "stream",
     "text": [
      "\n",
      "      Epoch    GPU_mem   box_loss   seg_loss   cls_loss   dfl_loss  Instances       Size\n"
     ]
    },
    {
     "name": "stderr",
     "output_type": "stream",
     "text": [
      "    187/200      6.01G       0.82      1.889     0.7588      1.007        120        768: 100%|██████████| 166/166 [00:32<00:00,  5.16it/s]\n",
      "                 Class     Images  Instances      Box(P          R      mAP50  mAP50-95)     Mask(P          R      mAP50  mAP50-95): 100%|██████████| 26/26 [00:10<00:00,  2.42it/s]"
     ]
    },
    {
     "name": "stdout",
     "output_type": "stream",
     "text": [
      "                   all        807       7092       0.85      0.446      0.495      0.398      0.837      0.432      0.477      0.341\n"
     ]
    },
    {
     "name": "stderr",
     "output_type": "stream",
     "text": [
      "\n"
     ]
    },
    {
     "name": "stdout",
     "output_type": "stream",
     "text": [
      "\n",
      "      Epoch    GPU_mem   box_loss   seg_loss   cls_loss   dfl_loss  Instances       Size\n"
     ]
    },
    {
     "name": "stderr",
     "output_type": "stream",
     "text": [
      "    188/200      7.54G     0.8024      1.856     0.7531      1.007         96        768: 100%|██████████| 166/166 [00:34<00:00,  4.84it/s]\n",
      "                 Class     Images  Instances      Box(P          R      mAP50  mAP50-95)     Mask(P          R      mAP50  mAP50-95): 100%|██████████| 26/26 [00:07<00:00,  3.43it/s]"
     ]
    },
    {
     "name": "stdout",
     "output_type": "stream",
     "text": [
      "                   all        807       7092      0.829       0.45      0.495      0.399      0.837       0.43      0.477      0.341\n"
     ]
    },
    {
     "name": "stderr",
     "output_type": "stream",
     "text": [
      "\n"
     ]
    },
    {
     "name": "stdout",
     "output_type": "stream",
     "text": [
      "\n",
      "      Epoch    GPU_mem   box_loss   seg_loss   cls_loss   dfl_loss  Instances       Size\n"
     ]
    },
    {
     "name": "stderr",
     "output_type": "stream",
     "text": [
      "    189/200      7.05G     0.8239      1.882     0.7686      1.008         46        768: 100%|██████████| 166/166 [00:33<00:00,  5.02it/s]\n",
      "                 Class     Images  Instances      Box(P          R      mAP50  mAP50-95)     Mask(P          R      mAP50  mAP50-95): 100%|██████████| 26/26 [00:10<00:00,  2.44it/s]"
     ]
    },
    {
     "name": "stdout",
     "output_type": "stream",
     "text": [
      "                   all        807       7092      0.843      0.446      0.495        0.4      0.836      0.432      0.477      0.341\n"
     ]
    },
    {
     "name": "stderr",
     "output_type": "stream",
     "text": [
      "\n"
     ]
    },
    {
     "name": "stdout",
     "output_type": "stream",
     "text": [
      "\n",
      "      Epoch    GPU_mem   box_loss   seg_loss   cls_loss   dfl_loss  Instances       Size\n"
     ]
    },
    {
     "name": "stderr",
     "output_type": "stream",
     "text": [
      "    190/200      7.17G     0.8159      1.853     0.7523      1.004        109        768: 100%|██████████| 166/166 [00:34<00:00,  4.85it/s]\n",
      "                 Class     Images  Instances      Box(P          R      mAP50  mAP50-95)     Mask(P          R      mAP50  mAP50-95): 100%|██████████| 26/26 [00:06<00:00,  3.84it/s]"
     ]
    },
    {
     "name": "stdout",
     "output_type": "stream",
     "text": [
      "                   all        807       7092      0.843      0.448      0.496      0.401      0.828      0.433      0.478      0.341\n"
     ]
    },
    {
     "name": "stderr",
     "output_type": "stream",
     "text": [
      "\n"
     ]
    },
    {
     "name": "stdout",
     "output_type": "stream",
     "text": [
      "Closing dataloader mosaic\n",
      "\n",
      "      Epoch    GPU_mem   box_loss   seg_loss   cls_loss   dfl_loss  Instances       Size\n"
     ]
    },
    {
     "name": "stderr",
     "output_type": "stream",
     "text": [
      "    191/200      5.67G     0.9145      2.025     0.7886      1.045         30        768: 100%|██████████| 166/166 [00:34<00:00,  4.84it/s]\n",
      "                 Class     Images  Instances      Box(P          R      mAP50  mAP50-95)     Mask(P          R      mAP50  mAP50-95): 100%|██████████| 26/26 [00:06<00:00,  3.87it/s]"
     ]
    },
    {
     "name": "stdout",
     "output_type": "stream",
     "text": [
      "                   all        807       7092      0.822      0.447      0.492      0.395       0.83      0.429      0.473      0.338\n"
     ]
    },
    {
     "name": "stderr",
     "output_type": "stream",
     "text": [
      "\n"
     ]
    },
    {
     "name": "stdout",
     "output_type": "stream",
     "text": [
      "\n",
      "      Epoch    GPU_mem   box_loss   seg_loss   cls_loss   dfl_loss  Instances       Size\n"
     ]
    },
    {
     "name": "stderr",
     "output_type": "stream",
     "text": [
      "    192/200      5.88G     0.8899      1.981     0.7424       1.03         52        768: 100%|██████████| 166/166 [00:29<00:00,  5.54it/s]\n",
      "                 Class     Images  Instances      Box(P          R      mAP50  mAP50-95)     Mask(P          R      mAP50  mAP50-95): 100%|██████████| 26/26 [00:06<00:00,  4.07it/s]"
     ]
    },
    {
     "name": "stdout",
     "output_type": "stream",
     "text": [
      "                   all        807       7092      0.859      0.441       0.49      0.393      0.843      0.426      0.472      0.335\n"
     ]
    },
    {
     "name": "stderr",
     "output_type": "stream",
     "text": [
      "\n"
     ]
    },
    {
     "name": "stdout",
     "output_type": "stream",
     "text": [
      "\n",
      "      Epoch    GPU_mem   box_loss   seg_loss   cls_loss   dfl_loss  Instances       Size\n"
     ]
    },
    {
     "name": "stderr",
     "output_type": "stream",
     "text": [
      "    193/200      5.72G      0.887       1.97     0.7297      1.024         27        768: 100%|██████████| 166/166 [00:32<00:00,  5.09it/s]\n",
      "                 Class     Images  Instances      Box(P          R      mAP50  mAP50-95)     Mask(P          R      mAP50  mAP50-95): 100%|██████████| 26/26 [00:07<00:00,  3.36it/s]"
     ]
    },
    {
     "name": "stdout",
     "output_type": "stream",
     "text": [
      "                   all        807       7092      0.857       0.44       0.49      0.393      0.838      0.428      0.473      0.335\n"
     ]
    },
    {
     "name": "stderr",
     "output_type": "stream",
     "text": [
      "\n"
     ]
    },
    {
     "name": "stdout",
     "output_type": "stream",
     "text": [
      "\n",
      "      Epoch    GPU_mem   box_loss   seg_loss   cls_loss   dfl_loss  Instances       Size\n"
     ]
    },
    {
     "name": "stderr",
     "output_type": "stream",
     "text": [
      "    194/200      6.35G     0.8877      1.971     0.7193       1.03         19        768: 100%|██████████| 166/166 [00:29<00:00,  5.65it/s]\n",
      "                 Class     Images  Instances      Box(P          R      mAP50  mAP50-95)     Mask(P          R      mAP50  mAP50-95): 100%|██████████| 26/26 [00:06<00:00,  4.18it/s]"
     ]
    },
    {
     "name": "stdout",
     "output_type": "stream",
     "text": [
      "                   all        807       7092      0.844      0.443       0.49      0.394      0.843      0.427      0.473      0.336\n"
     ]
    },
    {
     "name": "stderr",
     "output_type": "stream",
     "text": [
      "\n"
     ]
    },
    {
     "name": "stdout",
     "output_type": "stream",
     "text": [
      "\n",
      "      Epoch    GPU_mem   box_loss   seg_loss   cls_loss   dfl_loss  Instances       Size\n"
     ]
    },
    {
     "name": "stderr",
     "output_type": "stream",
     "text": [
      "    195/200      6.22G     0.8851      1.964     0.7192      1.026         36        768: 100%|██████████| 166/166 [00:31<00:00,  5.33it/s]\n",
      "                 Class     Images  Instances      Box(P          R      mAP50  mAP50-95)     Mask(P          R      mAP50  mAP50-95): 100%|██████████| 26/26 [00:06<00:00,  3.99it/s]"
     ]
    },
    {
     "name": "stdout",
     "output_type": "stream",
     "text": [
      "                   all        807       7092       0.83      0.447      0.491      0.396      0.849      0.426      0.476      0.337\n"
     ]
    },
    {
     "name": "stderr",
     "output_type": "stream",
     "text": [
      "\n"
     ]
    },
    {
     "name": "stdout",
     "output_type": "stream",
     "text": [
      "\n",
      "      Epoch    GPU_mem   box_loss   seg_loss   cls_loss   dfl_loss  Instances       Size\n"
     ]
    },
    {
     "name": "stderr",
     "output_type": "stream",
     "text": [
      "    196/200      6.65G     0.8759      1.951      0.716      1.026         42        768: 100%|██████████| 166/166 [00:31<00:00,  5.24it/s]\n",
      "                 Class     Images  Instances      Box(P          R      mAP50  mAP50-95)     Mask(P          R      mAP50  mAP50-95): 100%|██████████| 26/26 [00:06<00:00,  3.75it/s]"
     ]
    },
    {
     "name": "stdout",
     "output_type": "stream",
     "text": [
      "                   all        807       7092      0.866       0.44      0.492      0.396      0.848      0.425      0.475      0.337\n"
     ]
    },
    {
     "name": "stderr",
     "output_type": "stream",
     "text": [
      "\n"
     ]
    },
    {
     "name": "stdout",
     "output_type": "stream",
     "text": [
      "\n",
      "      Epoch    GPU_mem   box_loss   seg_loss   cls_loss   dfl_loss  Instances       Size\n"
     ]
    },
    {
     "name": "stderr",
     "output_type": "stream",
     "text": [
      "    197/200      5.79G     0.8698       1.95     0.7174      1.024         44        768: 100%|██████████| 166/166 [00:29<00:00,  5.57it/s]\n",
      "                 Class     Images  Instances      Box(P          R      mAP50  mAP50-95)     Mask(P          R      mAP50  mAP50-95): 100%|██████████| 26/26 [00:07<00:00,  3.51it/s]"
     ]
    },
    {
     "name": "stdout",
     "output_type": "stream",
     "text": [
      "                   all        807       7092       0.87       0.44      0.492      0.397      0.852      0.427      0.476      0.337\n"
     ]
    },
    {
     "name": "stderr",
     "output_type": "stream",
     "text": [
      "\n"
     ]
    },
    {
     "name": "stdout",
     "output_type": "stream",
     "text": [
      "\n",
      "      Epoch    GPU_mem   box_loss   seg_loss   cls_loss   dfl_loss  Instances       Size\n"
     ]
    },
    {
     "name": "stderr",
     "output_type": "stream",
     "text": [
      "    198/200      5.38G     0.8721      1.935     0.7048      1.019         41        768: 100%|██████████| 166/166 [00:35<00:00,  4.65it/s]\n",
      "                 Class     Images  Instances      Box(P          R      mAP50  mAP50-95)     Mask(P          R      mAP50  mAP50-95): 100%|██████████| 26/26 [00:05<00:00,  4.55it/s]"
     ]
    },
    {
     "name": "stdout",
     "output_type": "stream",
     "text": [
      "                   all        807       7092      0.879       0.44      0.493      0.397      0.856      0.427      0.476      0.339\n"
     ]
    },
    {
     "name": "stderr",
     "output_type": "stream",
     "text": [
      "\n"
     ]
    },
    {
     "name": "stdout",
     "output_type": "stream",
     "text": [
      "\n",
      "      Epoch    GPU_mem   box_loss   seg_loss   cls_loss   dfl_loss  Instances       Size\n"
     ]
    },
    {
     "name": "stderr",
     "output_type": "stream",
     "text": [
      "    199/200      6.15G     0.8729      1.947     0.7052       1.02         51        768: 100%|██████████| 166/166 [00:29<00:00,  5.65it/s]\n",
      "                 Class     Images  Instances      Box(P          R      mAP50  mAP50-95)     Mask(P          R      mAP50  mAP50-95): 100%|██████████| 26/26 [00:05<00:00,  4.37it/s]"
     ]
    },
    {
     "name": "stdout",
     "output_type": "stream",
     "text": [
      "                   all        807       7092      0.852      0.443      0.492      0.397      0.845      0.428      0.476      0.339\n"
     ]
    },
    {
     "name": "stderr",
     "output_type": "stream",
     "text": [
      "\n"
     ]
    },
    {
     "name": "stdout",
     "output_type": "stream",
     "text": [
      "\n",
      "      Epoch    GPU_mem   box_loss   seg_loss   cls_loss   dfl_loss  Instances       Size\n"
     ]
    },
    {
     "name": "stderr",
     "output_type": "stream",
     "text": [
      "    200/200      6.23G     0.8617      1.914     0.6993      1.012        115        768: 100%|██████████| 166/166 [00:33<00:00,  4.93it/s]\n",
      "                 Class     Images  Instances      Box(P          R      mAP50  mAP50-95)     Mask(P          R      mAP50  mAP50-95): 100%|██████████| 26/26 [00:06<00:00,  4.28it/s]"
     ]
    },
    {
     "name": "stdout",
     "output_type": "stream",
     "text": [
      "                   all        807       7092      0.859      0.443      0.492      0.397      0.839      0.431      0.476      0.339\n"
     ]
    },
    {
     "name": "stderr",
     "output_type": "stream",
     "text": [
      "\n"
     ]
    },
    {
     "name": "stdout",
     "output_type": "stream",
     "text": [
      "\n",
      "200 epochs completed in 2.329 hours.\n",
      "Optimizer stripped from runs\\segment\\train4\\weights\\last.pt, 6.8MB\n",
      "Optimizer stripped from runs\\segment\\train4\\weights\\best.pt, 6.8MB\n",
      "\n",
      "Validating runs\\segment\\train4\\weights\\best.pt...\n",
      "Ultralytics YOLOv8.1.27 🚀 Python-3.11.8 torch-2.1.2+cu121 CUDA:0 (NVIDIA GeForce RTX 2070 SUPER, 8192MiB)\n",
      "YOLOv8n-seg summary (fused): 195 layers, 3261964 parameters, 0 gradients, 12.0 GFLOPs\n"
     ]
    },
    {
     "name": "stderr",
     "output_type": "stream",
     "text": [
      "                 Class     Images  Instances      Box(P          R      mAP50  mAP50-95)     Mask(P          R      mAP50  mAP50-95): 100%|██████████| 26/26 [00:05<00:00,  4.96it/s]\n"
     ]
    },
    {
     "name": "stdout",
     "output_type": "stream",
     "text": [
      "                   all        807       7092      0.845      0.448      0.496      0.401      0.826      0.433      0.478      0.341\n",
      "                  sofa        807        112      0.821      0.705      0.727      0.643      0.814      0.696      0.703      0.596\n",
      "                 train        807        163      0.842      0.459      0.513      0.416       0.84      0.448      0.495      0.364\n",
      "               bicycle        807        731      0.745      0.185      0.221      0.152      0.614      0.145      0.149     0.0629\n",
      "                 horse        807        226      0.828      0.489      0.513      0.404      0.828      0.478      0.522      0.342\n",
      "             motorbike        807        401      0.837      0.327      0.407      0.292      0.817      0.311      0.387      0.209\n",
      "                 sheep        807        217      0.763      0.567      0.603      0.489      0.758      0.548      0.591      0.441\n",
      "                   cat        807        185      0.904      0.465      0.494      0.428      0.894      0.458      0.491      0.413\n",
      "                  bird        807        248      0.859      0.355      0.396      0.316      0.868      0.355      0.407      0.284\n",
      "                bottle        807        112      0.917      0.679      0.717      0.573      0.924      0.679      0.718       0.54\n",
      "                   cow        807        253      0.857      0.285      0.322       0.26      0.853      0.276      0.316      0.215\n",
      "                   bus        807        226      0.848      0.446       0.51      0.394      0.812       0.42      0.467      0.331\n",
      "           pottedplant        807       1331      0.739      0.158      0.205      0.124      0.734      0.152       0.19     0.0848\n",
      "           diningtable        807         70      0.907      0.643      0.703      0.625       0.87      0.614      0.664      0.513\n",
      "                person        807        995      0.878      0.558      0.612      0.491      0.874      0.547      0.602       0.41\n",
      "             tvmonitor        807         70       0.92      0.662      0.719      0.654        0.9      0.645      0.695      0.577\n",
      "                 chair        807        775      0.805      0.335      0.398      0.291      0.758      0.311      0.358      0.197\n",
      "                   dog        807        173      0.904      0.433      0.508      0.431      0.891      0.424      0.495      0.384\n",
      "                  boat        807        409      0.798      0.223      0.269      0.194      0.809      0.218      0.263      0.166\n",
      "                   car        807        180      0.861      0.584      0.647      0.507      0.828       0.55      0.621       0.43\n",
      "             aeroplane        807        215      0.859      0.397      0.435      0.327      0.829      0.381      0.418      0.265\n",
      "Speed: 0.2ms preprocess, 1.7ms inference, 0.0ms loss, 0.7ms postprocess per image\n",
      "Results saved to \u001b[1mruns\\segment\\train4\u001b[0m\n"
     ]
    }
   ],
   "source": [
    "#Training\n",
    "from ultralytics import YOLO\n",
    "\n",
    "# Load a model\n",
    "model = YOLO('yolov8n-seg.pt')  # load a pretrained model\n",
    "#model = YOLO('G:\\\\Onlab\\\\VOC_dataset\\\\VOCdevkit\\\\VOC2012\\\\runs\\\\segment\\\\train\\\\weights\\\\last.pt')# load the last training model\n",
    "# Train the model with default hyperparameters(this was the first training sessioon, i used the tuned hyperparameters in the second training in the next cell)\n",
    "results = model.train(data='dataset/dataset.yaml', epochs=200, imgsz=500, batch=16, workers=8)"
   ]
  },
  {
   "cell_type": "code",
   "execution_count": 2,
   "metadata": {},
   "outputs": [
    {
     "name": "stdout",
     "output_type": "stream",
     "text": [
      "New https://pypi.org/project/ultralytics/8.1.34 available 😃 Update with 'pip install -U ultralytics'\n",
      "Ultralytics YOLOv8.1.27 🚀 Python-3.11.8 torch-2.1.2+cu121 CUDA:0 (NVIDIA GeForce RTX 2070 SUPER, 8192MiB)\n",
      "\u001b[34m\u001b[1mengine\\trainer: \u001b[0mtask=segment, mode=train, model=yolov8n-seg.pt, data=dataset/dataset.yaml, epochs=200, time=None, patience=100, batch=16, imgsz=768, save=True, save_period=-1, cache=False, device=None, workers=8, project=None, name=train2, exist_ok=False, pretrained=True, optimizer=auto, verbose=True, seed=0, deterministic=True, single_cls=False, rect=False, cos_lr=False, close_mosaic=10, resume=False, amp=True, fraction=1.0, profile=False, freeze=None, multi_scale=False, overlap_mask=True, mask_ratio=4, dropout=0.0, val=True, split=val, save_json=False, save_hybrid=False, conf=None, iou=0.7, max_det=300, half=False, dnn=False, plots=True, source=None, vid_stride=1, stream_buffer=False, visualize=False, augment=False, agnostic_nms=False, classes=None, retina_masks=False, embed=None, show=False, save_frames=False, save_txt=False, save_conf=False, save_crop=False, show_labels=True, show_conf=True, show_boxes=True, line_width=None, format=torchscript, keras=False, optimize=False, int8=False, dynamic=False, simplify=False, opset=None, workspace=4, nms=False, lr0=0.0102, lrf=0.00387, momentum=0.81859, weight_decay=0.00068, warmup_epochs=3.46434, warmup_momentum=0.89747, warmup_bias_lr=0.1, box=8.86819, cls=0.80673, dfl=1.31027, pose=12.0, kobj=1.0, label_smoothing=0.0, nbs=64, hsv_h=0.01541, hsv_s=0.74576, hsv_v=0.3294, degrees=0.0, translate=0.10281, scale=0.19924, shear=0.0, perspective=0.0, flipud=0.0, fliplr=0.39194, mosaic=0.68242, mixup=0.0, copy_paste=0.0, auto_augment=randaugment, erasing=0.4, crop_fraction=1.0, cfg=None, tracker=botsort.yaml, save_dir=runs\\segment\\train2\n",
      "Overriding model.yaml nc=80 with nc=20\n",
      "\n",
      "                   from  n    params  module                                       arguments                     \n",
      "  0                  -1  1       464  ultralytics.nn.modules.conv.Conv             [3, 16, 3, 2]                 \n",
      "  1                  -1  1      4672  ultralytics.nn.modules.conv.Conv             [16, 32, 3, 2]                \n",
      "  2                  -1  1      7360  ultralytics.nn.modules.block.C2f             [32, 32, 1, True]             \n",
      "  3                  -1  1     18560  ultralytics.nn.modules.conv.Conv             [32, 64, 3, 2]                \n",
      "  4                  -1  2     49664  ultralytics.nn.modules.block.C2f             [64, 64, 2, True]             \n",
      "  5                  -1  1     73984  ultralytics.nn.modules.conv.Conv             [64, 128, 3, 2]               \n",
      "  6                  -1  2    197632  ultralytics.nn.modules.block.C2f             [128, 128, 2, True]           \n",
      "  7                  -1  1    295424  ultralytics.nn.modules.conv.Conv             [128, 256, 3, 2]              \n",
      "  8                  -1  1    460288  ultralytics.nn.modules.block.C2f             [256, 256, 1, True]           \n",
      "  9                  -1  1    164608  ultralytics.nn.modules.block.SPPF            [256, 256, 5]                 \n",
      " 10                  -1  1         0  torch.nn.modules.upsampling.Upsample         [None, 2, 'nearest']          \n",
      " 11             [-1, 6]  1         0  ultralytics.nn.modules.conv.Concat           [1]                           \n",
      " 12                  -1  1    148224  ultralytics.nn.modules.block.C2f             [384, 128, 1]                 \n",
      " 13                  -1  1         0  torch.nn.modules.upsampling.Upsample         [None, 2, 'nearest']          \n",
      " 14             [-1, 4]  1         0  ultralytics.nn.modules.conv.Concat           [1]                           \n",
      " 15                  -1  1     37248  ultralytics.nn.modules.block.C2f             [192, 64, 1]                  \n",
      " 16                  -1  1     36992  ultralytics.nn.modules.conv.Conv             [64, 64, 3, 2]                \n",
      " 17            [-1, 12]  1         0  ultralytics.nn.modules.conv.Concat           [1]                           \n",
      " 18                  -1  1    123648  ultralytics.nn.modules.block.C2f             [192, 128, 1]                 \n",
      " 19                  -1  1    147712  ultralytics.nn.modules.conv.Conv             [128, 128, 3, 2]              \n",
      " 20             [-1, 9]  1         0  ultralytics.nn.modules.conv.Concat           [1]                           \n",
      " 21                  -1  1    493056  ultralytics.nn.modules.block.C2f             [384, 256, 1]                 \n",
      " 22        [15, 18, 21]  1   1007980  ultralytics.nn.modules.head.Segment          [20, 32, 64, [64, 128, 256]]  \n",
      "YOLOv8n-seg summary: 261 layers, 3267516 parameters, 3267500 gradients, 12.1 GFLOPs\n",
      "\n",
      "Transferred 381/417 items from pretrained weights\n",
      "Freezing layer 'model.22.dfl.conv.weight'\n",
      "\u001b[34m\u001b[1mAMP: \u001b[0mrunning Automatic Mixed Precision (AMP) checks with YOLOv8n...\n",
      "\u001b[34m\u001b[1mAMP: \u001b[0mchecks passed ✅\n"
     ]
    },
    {
     "name": "stderr",
     "output_type": "stream",
     "text": [
      "\u001b[34m\u001b[1mtrain: \u001b[0mScanning C:\\Onlab\\VOC_dataset\\VOCdevkit\\VOC2012\\dataset\\train\\labels.cache... 2646 images, 0 backgrounds, 0 corrupt: 100%|██████████| 2646/2646 [00:00<?, ?it/s]"
     ]
    },
    {
     "name": "stdout",
     "output_type": "stream",
     "text": [
      "\u001b[34m\u001b[1mtrain: \u001b[0mWARNING ⚠️ C:\\Onlab\\VOC_dataset\\VOCdevkit\\VOC2012\\dataset\\train\\images\\2009_004140.jpg: 1 duplicate labels removed\n",
      "\u001b[34m\u001b[1mtrain: \u001b[0mWARNING ⚠️ C:\\Onlab\\VOC_dataset\\VOCdevkit\\VOC2012\\dataset\\train\\images\\2010_000187.jpg: 1 duplicate labels removed\n",
      "\u001b[34m\u001b[1mtrain: \u001b[0mWARNING ⚠️ C:\\Onlab\\VOC_dataset\\VOCdevkit\\VOC2012\\dataset\\train\\images\\2010_001748.jpg: 1 duplicate labels removed\n",
      "\u001b[34m\u001b[1mtrain: \u001b[0mWARNING ⚠️ C:\\Onlab\\VOC_dataset\\VOCdevkit\\VOC2012\\dataset\\train\\images\\2010_001773.jpg: 1 duplicate labels removed\n",
      "\u001b[34m\u001b[1mtrain: \u001b[0mWARNING ⚠️ C:\\Onlab\\VOC_dataset\\VOCdevkit\\VOC2012\\dataset\\train\\images\\2010_002868.jpg: 9 duplicate labels removed\n",
      "\u001b[34m\u001b[1mtrain: \u001b[0mWARNING ⚠️ C:\\Onlab\\VOC_dataset\\VOCdevkit\\VOC2012\\dataset\\train\\images\\2010_005284.jpg: 1 duplicate labels removed\n"
     ]
    },
    {
     "name": "stderr",
     "output_type": "stream",
     "text": [
      "\n",
      "\u001b[34m\u001b[1mval: \u001b[0mScanning C:\\Onlab\\VOC_dataset\\VOCdevkit\\VOC2012\\dataset\\valid\\labels.cache... 807 images, 0 backgrounds, 0 corrupt: 100%|██████████| 807/807 [00:00<?, ?it/s]"
     ]
    },
    {
     "name": "stdout",
     "output_type": "stream",
     "text": [
      "\u001b[34m\u001b[1mval: \u001b[0mWARNING ⚠️ C:\\Onlab\\VOC_dataset\\VOCdevkit\\VOC2012\\dataset\\valid\\images\\2007_009295.jpg: 1 duplicate labels removed\n",
      "\u001b[34m\u001b[1mval: \u001b[0mWARNING ⚠️ C:\\Onlab\\VOC_dataset\\VOCdevkit\\VOC2012\\dataset\\valid\\images\\2008_007737.jpg: 3 duplicate labels removed\n",
      "\u001b[34m\u001b[1mval: \u001b[0mWARNING ⚠️ C:\\Onlab\\VOC_dataset\\VOCdevkit\\VOC2012\\dataset\\valid\\images\\2009_001514.jpg: 1 duplicate labels removed\n",
      "\u001b[34m\u001b[1mval: \u001b[0mWARNING ⚠️ C:\\Onlab\\VOC_dataset\\VOCdevkit\\VOC2012\\dataset\\valid\\images\\2009_004140.jpg: 1 duplicate labels removed\n",
      "\u001b[34m\u001b[1mval: \u001b[0mWARNING ⚠️ C:\\Onlab\\VOC_dataset\\VOCdevkit\\VOC2012\\dataset\\valid\\images\\2010_000187.jpg: 1 duplicate labels removed\n",
      "\u001b[34m\u001b[1mval: \u001b[0mWARNING ⚠️ C:\\Onlab\\VOC_dataset\\VOCdevkit\\VOC2012\\dataset\\valid\\images\\2010_000748.jpg: 1 duplicate labels removed\n",
      "\u001b[34m\u001b[1mval: \u001b[0mWARNING ⚠️ C:\\Onlab\\VOC_dataset\\VOCdevkit\\VOC2012\\dataset\\valid\\images\\2010_002868.jpg: 9 duplicate labels removed\n"
     ]
    },
    {
     "name": "stderr",
     "output_type": "stream",
     "text": [
      "\n"
     ]
    },
    {
     "name": "stdout",
     "output_type": "stream",
     "text": [
      "Plotting labels to runs\\segment\\train2\\labels.jpg... \n",
      "\u001b[34m\u001b[1moptimizer:\u001b[0m 'optimizer=auto' found, ignoring 'lr0=0.0102' and 'momentum=0.81859' and determining best 'optimizer', 'lr0' and 'momentum' automatically... \n",
      "\u001b[34m\u001b[1moptimizer:\u001b[0m AdamW(lr=0.000417, momentum=0.9) with parameter groups 66 weight(decay=0.0), 77 weight(decay=0.00068), 76 bias(decay=0.0)\n",
      "Image sizes 768 train, 768 val\n",
      "Using 8 dataloader workers\n",
      "Logging results to \u001b[1mruns\\segment\\train2\u001b[0m\n",
      "Starting training for 200 epochs...\n",
      "\n",
      "      Epoch    GPU_mem   box_loss   seg_loss   cls_loss   dfl_loss  Instances       Size\n"
     ]
    },
    {
     "name": "stderr",
     "output_type": "stream",
     "text": [
      "      1/200      6.79G      1.448      3.549      5.947       1.16         54        768: 100%|██████████| 166/166 [00:38<00:00,  4.32it/s]\n",
      "                 Class     Images  Instances      Box(P          R      mAP50  mAP50-95)     Mask(P          R      mAP50  mAP50-95): 100%|██████████| 26/26 [00:12<00:00,  2.03it/s]"
     ]
    },
    {
     "name": "stdout",
     "output_type": "stream",
     "text": [
      "                   all        807       7092      0.547      0.225       0.23      0.162      0.543       0.22      0.225      0.152\n"
     ]
    },
    {
     "name": "stderr",
     "output_type": "stream",
     "text": [
      "\n"
     ]
    },
    {
     "name": "stdout",
     "output_type": "stream",
     "text": [
      "\n",
      "      Epoch    GPU_mem   box_loss   seg_loss   cls_loss   dfl_loss  Instances       Size\n"
     ]
    },
    {
     "name": "stderr",
     "output_type": "stream",
     "text": [
      "      2/200       5.7G      1.501      3.322      4.271      1.169         89        768: 100%|██████████| 166/166 [00:37<00:00,  4.43it/s]\n",
      "                 Class     Images  Instances      Box(P          R      mAP50  mAP50-95)     Mask(P          R      mAP50  mAP50-95): 100%|██████████| 26/26 [00:08<00:00,  3.19it/s]\n"
     ]
    },
    {
     "name": "stdout",
     "output_type": "stream",
     "text": [
      "                   all        807       7092      0.521      0.253       0.26      0.178      0.499      0.246       0.25      0.161\n",
      "\n",
      "      Epoch    GPU_mem   box_loss   seg_loss   cls_loss   dfl_loss  Instances       Size\n"
     ]
    },
    {
     "name": "stderr",
     "output_type": "stream",
     "text": [
      "      3/200      7.19G      1.516      3.309      4.029      1.173         79        768: 100%|██████████| 166/166 [00:35<00:00,  4.72it/s]\n",
      "                 Class     Images  Instances      Box(P          R      mAP50  mAP50-95)     Mask(P          R      mAP50  mAP50-95): 100%|██████████| 26/26 [00:12<00:00,  2.02it/s]"
     ]
    },
    {
     "name": "stdout",
     "output_type": "stream",
     "text": [
      "                   all        807       7092      0.471       0.26      0.257      0.179      0.444      0.254      0.246       0.16\n"
     ]
    },
    {
     "name": "stderr",
     "output_type": "stream",
     "text": [
      "\n"
     ]
    },
    {
     "name": "stdout",
     "output_type": "stream",
     "text": [
      "\n",
      "      Epoch    GPU_mem   box_loss   seg_loss   cls_loss   dfl_loss  Instances       Size\n"
     ]
    },
    {
     "name": "stderr",
     "output_type": "stream",
     "text": [
      "      4/200      6.15G      1.534      3.298      3.865      1.172        198        768: 100%|██████████| 166/166 [00:34<00:00,  4.76it/s]\n",
      "                 Class     Images  Instances      Box(P          R      mAP50  mAP50-95)     Mask(P          R      mAP50  mAP50-95): 100%|██████████| 26/26 [00:22<00:00,  1.16it/s]\n"
     ]
    },
    {
     "name": "stdout",
     "output_type": "stream",
     "text": [
      "                   all        807       7092      0.488      0.264      0.267      0.179      0.477      0.255      0.259      0.159\n",
      "\n",
      "      Epoch    GPU_mem   box_loss   seg_loss   cls_loss   dfl_loss  Instances       Size\n"
     ]
    },
    {
     "name": "stderr",
     "output_type": "stream",
     "text": [
      "      5/200       5.9G      1.499       3.27       3.66      1.165         57        768: 100%|██████████| 166/166 [00:37<00:00,  4.44it/s]\n",
      "                 Class     Images  Instances      Box(P          R      mAP50  mAP50-95)     Mask(P          R      mAP50  mAP50-95): 100%|██████████| 26/26 [00:11<00:00,  2.36it/s]"
     ]
    },
    {
     "name": "stdout",
     "output_type": "stream",
     "text": [
      "                   all        807       7092      0.549      0.269      0.278      0.188      0.531      0.262      0.265      0.169\n"
     ]
    },
    {
     "name": "stderr",
     "output_type": "stream",
     "text": [
      "\n"
     ]
    },
    {
     "name": "stdout",
     "output_type": "stream",
     "text": [
      "\n",
      "      Epoch    GPU_mem   box_loss   seg_loss   cls_loss   dfl_loss  Instances       Size\n"
     ]
    },
    {
     "name": "stderr",
     "output_type": "stream",
     "text": [
      "      6/200      6.16G      1.485      3.242      3.545      1.156         84        768: 100%|██████████| 166/166 [00:37<00:00,  4.44it/s]\n",
      "                 Class     Images  Instances      Box(P          R      mAP50  mAP50-95)     Mask(P          R      mAP50  mAP50-95): 100%|██████████| 26/26 [00:09<00:00,  2.62it/s]\n"
     ]
    },
    {
     "name": "stdout",
     "output_type": "stream",
     "text": [
      "                   all        807       7092       0.54       0.28       0.29      0.201      0.522      0.271      0.276      0.172\n",
      "\n",
      "      Epoch    GPU_mem   box_loss   seg_loss   cls_loss   dfl_loss  Instances       Size\n"
     ]
    },
    {
     "name": "stderr",
     "output_type": "stream",
     "text": [
      "      7/200      6.96G      1.477      3.194      3.419      1.145         33        768: 100%|██████████| 166/166 [00:35<00:00,  4.65it/s]\n",
      "                 Class     Images  Instances      Box(P          R      mAP50  mAP50-95)     Mask(P          R      mAP50  mAP50-95): 100%|██████████| 26/26 [00:08<00:00,  2.93it/s]"
     ]
    },
    {
     "name": "stdout",
     "output_type": "stream",
     "text": [
      "                   all        807       7092      0.561      0.289      0.301      0.212      0.539      0.276      0.286      0.181\n"
     ]
    },
    {
     "name": "stderr",
     "output_type": "stream",
     "text": [
      "\n"
     ]
    },
    {
     "name": "stdout",
     "output_type": "stream",
     "text": [
      "\n",
      "      Epoch    GPU_mem   box_loss   seg_loss   cls_loss   dfl_loss  Instances       Size\n"
     ]
    },
    {
     "name": "stderr",
     "output_type": "stream",
     "text": [
      "      8/200      7.33G      1.453      3.173      3.311      1.134        114        768: 100%|██████████| 166/166 [00:40<00:00,  4.12it/s]\n",
      "                 Class     Images  Instances      Box(P          R      mAP50  mAP50-95)     Mask(P          R      mAP50  mAP50-95): 100%|██████████| 26/26 [00:19<00:00,  1.31it/s]"
     ]
    },
    {
     "name": "stdout",
     "output_type": "stream",
     "text": [
      "                   all        807       7092      0.559      0.285      0.302      0.214      0.551      0.279      0.293      0.187\n"
     ]
    },
    {
     "name": "stderr",
     "output_type": "stream",
     "text": [
      "\n"
     ]
    },
    {
     "name": "stdout",
     "output_type": "stream",
     "text": [
      "\n",
      "      Epoch    GPU_mem   box_loss   seg_loss   cls_loss   dfl_loss  Instances       Size\n"
     ]
    },
    {
     "name": "stderr",
     "output_type": "stream",
     "text": [
      "      9/200         6G      1.439      3.155      3.155      1.125         72        768: 100%|██████████| 166/166 [00:37<00:00,  4.48it/s]\n",
      "                 Class     Images  Instances      Box(P          R      mAP50  mAP50-95)     Mask(P          R      mAP50  mAP50-95): 100%|██████████| 26/26 [00:18<00:00,  1.44it/s]\n"
     ]
    },
    {
     "name": "stdout",
     "output_type": "stream",
     "text": [
      "                   all        807       7092      0.591      0.314      0.326      0.229       0.57      0.304      0.314      0.203\n",
      "\n",
      "      Epoch    GPU_mem   box_loss   seg_loss   cls_loss   dfl_loss  Instances       Size\n"
     ]
    },
    {
     "name": "stderr",
     "output_type": "stream",
     "text": [
      "     10/200      7.04G      1.428      3.137      3.107      1.118         50        768: 100%|██████████| 166/166 [00:37<00:00,  4.45it/s]\n",
      "                 Class     Images  Instances      Box(P          R      mAP50  mAP50-95)     Mask(P          R      mAP50  mAP50-95): 100%|██████████| 26/26 [00:08<00:00,  3.25it/s]"
     ]
    },
    {
     "name": "stdout",
     "output_type": "stream",
     "text": [
      "                   all        807       7092      0.626      0.291       0.32      0.227      0.618      0.284      0.307        0.2\n"
     ]
    },
    {
     "name": "stderr",
     "output_type": "stream",
     "text": [
      "\n"
     ]
    },
    {
     "name": "stdout",
     "output_type": "stream",
     "text": [
      "\n",
      "      Epoch    GPU_mem   box_loss   seg_loss   cls_loss   dfl_loss  Instances       Size\n"
     ]
    },
    {
     "name": "stderr",
     "output_type": "stream",
     "text": [
      "     11/200      6.01G      1.392       3.07      2.965      1.109         49        768: 100%|██████████| 166/166 [00:34<00:00,  4.82it/s]\n",
      "                 Class     Images  Instances      Box(P          R      mAP50  mAP50-95)     Mask(P          R      mAP50  mAP50-95): 100%|██████████| 26/26 [00:08<00:00,  2.94it/s]"
     ]
    },
    {
     "name": "stdout",
     "output_type": "stream",
     "text": [
      "                   all        807       7092      0.609      0.316      0.333      0.231      0.572      0.308      0.319      0.204\n"
     ]
    },
    {
     "name": "stderr",
     "output_type": "stream",
     "text": [
      "\n"
     ]
    },
    {
     "name": "stdout",
     "output_type": "stream",
     "text": [
      "\n",
      "      Epoch    GPU_mem   box_loss   seg_loss   cls_loss   dfl_loss  Instances       Size\n"
     ]
    },
    {
     "name": "stderr",
     "output_type": "stream",
     "text": [
      "     12/200      6.67G      1.417      3.073      2.951       1.11         81        768: 100%|██████████| 166/166 [00:34<00:00,  4.81it/s]\n",
      "                 Class     Images  Instances      Box(P          R      mAP50  mAP50-95)     Mask(P          R      mAP50  mAP50-95): 100%|██████████| 26/26 [00:22<00:00,  1.15it/s]\n"
     ]
    },
    {
     "name": "stdout",
     "output_type": "stream",
     "text": [
      "                   all        807       7092      0.582      0.329      0.337       0.24      0.587      0.313      0.321       0.21\n",
      "\n",
      "      Epoch    GPU_mem   box_loss   seg_loss   cls_loss   dfl_loss  Instances       Size\n"
     ]
    },
    {
     "name": "stderr",
     "output_type": "stream",
     "text": [
      "     13/200      6.45G      1.376      3.009       2.85      1.099        107        768: 100%|██████████| 166/166 [00:34<00:00,  4.78it/s]\n",
      "                 Class     Images  Instances      Box(P          R      mAP50  mAP50-95)     Mask(P          R      mAP50  mAP50-95): 100%|██████████| 26/26 [00:13<00:00,  1.92it/s]\n"
     ]
    },
    {
     "name": "stdout",
     "output_type": "stream",
     "text": [
      "                   all        807       7092       0.61      0.315      0.339      0.242      0.592      0.305      0.326      0.213\n",
      "\n",
      "      Epoch    GPU_mem   box_loss   seg_loss   cls_loss   dfl_loss  Instances       Size\n"
     ]
    },
    {
     "name": "stderr",
     "output_type": "stream",
     "text": [
      "     14/200      4.74G      1.376      3.023      2.745       1.09         26        768: 100%|██████████| 166/166 [00:34<00:00,  4.74it/s]\n",
      "                 Class     Images  Instances      Box(P          R      mAP50  mAP50-95)     Mask(P          R      mAP50  mAP50-95): 100%|██████████| 26/26 [00:06<00:00,  3.88it/s]"
     ]
    },
    {
     "name": "stdout",
     "output_type": "stream",
     "text": [
      "                   all        807       7092      0.647      0.321      0.354      0.255      0.624      0.313       0.34      0.221\n"
     ]
    },
    {
     "name": "stderr",
     "output_type": "stream",
     "text": [
      "\n"
     ]
    },
    {
     "name": "stdout",
     "output_type": "stream",
     "text": [
      "\n",
      "      Epoch    GPU_mem   box_loss   seg_loss   cls_loss   dfl_loss  Instances       Size\n"
     ]
    },
    {
     "name": "stderr",
     "output_type": "stream",
     "text": [
      "     15/200      7.29G      1.369      2.998      2.727      1.084         72        768: 100%|██████████| 166/166 [00:35<00:00,  4.69it/s]\n",
      "                 Class     Images  Instances      Box(P          R      mAP50  mAP50-95)     Mask(P          R      mAP50  mAP50-95): 100%|██████████| 26/26 [00:09<00:00,  2.78it/s]"
     ]
    },
    {
     "name": "stdout",
     "output_type": "stream",
     "text": [
      "                   all        807       7092      0.639      0.329      0.357      0.255      0.615       0.32      0.341      0.223\n"
     ]
    },
    {
     "name": "stderr",
     "output_type": "stream",
     "text": [
      "\n"
     ]
    },
    {
     "name": "stdout",
     "output_type": "stream",
     "text": [
      "\n",
      "      Epoch    GPU_mem   box_loss   seg_loss   cls_loss   dfl_loss  Instances       Size\n"
     ]
    },
    {
     "name": "stderr",
     "output_type": "stream",
     "text": [
      "     16/200      6.99G      1.366      2.966      2.657      1.089         22        768: 100%|██████████| 166/166 [00:34<00:00,  4.75it/s]\n",
      "                 Class     Images  Instances      Box(P          R      mAP50  mAP50-95)     Mask(P          R      mAP50  mAP50-95): 100%|██████████| 26/26 [00:18<00:00,  1.42it/s]"
     ]
    },
    {
     "name": "stdout",
     "output_type": "stream",
     "text": [
      "                   all        807       7092      0.662      0.331      0.363      0.262      0.639      0.323      0.349      0.232\n"
     ]
    },
    {
     "name": "stderr",
     "output_type": "stream",
     "text": [
      "\n"
     ]
    },
    {
     "name": "stdout",
     "output_type": "stream",
     "text": [
      "\n",
      "      Epoch    GPU_mem   box_loss   seg_loss   cls_loss   dfl_loss  Instances       Size\n"
     ]
    },
    {
     "name": "stderr",
     "output_type": "stream",
     "text": [
      "     17/200      5.82G      1.358      2.973        2.6      1.076        125        768: 100%|██████████| 166/166 [00:36<00:00,  4.59it/s]\n",
      "                 Class     Images  Instances      Box(P          R      mAP50  mAP50-95)     Mask(P          R      mAP50  mAP50-95): 100%|██████████| 26/26 [00:09<00:00,  2.68it/s]"
     ]
    },
    {
     "name": "stdout",
     "output_type": "stream",
     "text": [
      "                   all        807       7092       0.69      0.337      0.375       0.27       0.67       0.33       0.36      0.235\n"
     ]
    },
    {
     "name": "stderr",
     "output_type": "stream",
     "text": [
      "\n"
     ]
    },
    {
     "name": "stdout",
     "output_type": "stream",
     "text": [
      "\n",
      "      Epoch    GPU_mem   box_loss   seg_loss   cls_loss   dfl_loss  Instances       Size\n"
     ]
    },
    {
     "name": "stderr",
     "output_type": "stream",
     "text": [
      "     18/200      6.77G      1.361      2.946      2.562      1.078         25        768: 100%|██████████| 166/166 [00:36<00:00,  4.59it/s]\n",
      "                 Class     Images  Instances      Box(P          R      mAP50  mAP50-95)     Mask(P          R      mAP50  mAP50-95): 100%|██████████| 26/26 [00:09<00:00,  2.77it/s]"
     ]
    },
    {
     "name": "stdout",
     "output_type": "stream",
     "text": [
      "                   all        807       7092      0.656      0.346      0.379      0.279      0.631      0.338      0.362       0.24\n"
     ]
    },
    {
     "name": "stderr",
     "output_type": "stream",
     "text": [
      "\n"
     ]
    },
    {
     "name": "stdout",
     "output_type": "stream",
     "text": [
      "\n",
      "      Epoch    GPU_mem   box_loss   seg_loss   cls_loss   dfl_loss  Instances       Size\n"
     ]
    },
    {
     "name": "stderr",
     "output_type": "stream",
     "text": [
      "     19/200      5.45G      1.355      2.916      2.524      1.073         55        768: 100%|██████████| 166/166 [00:34<00:00,  4.76it/s]\n",
      "                 Class     Images  Instances      Box(P          R      mAP50  mAP50-95)     Mask(P          R      mAP50  mAP50-95): 100%|██████████| 26/26 [00:07<00:00,  3.52it/s]"
     ]
    },
    {
     "name": "stdout",
     "output_type": "stream",
     "text": [
      "                   all        807       7092      0.693      0.346      0.381       0.28      0.695      0.333      0.369      0.244\n"
     ]
    },
    {
     "name": "stderr",
     "output_type": "stream",
     "text": [
      "\n"
     ]
    },
    {
     "name": "stdout",
     "output_type": "stream",
     "text": [
      "\n",
      "      Epoch    GPU_mem   box_loss   seg_loss   cls_loss   dfl_loss  Instances       Size\n"
     ]
    },
    {
     "name": "stderr",
     "output_type": "stream",
     "text": [
      "     20/200      6.25G      1.326      2.905      2.474      1.061         78        768: 100%|██████████| 166/166 [00:34<00:00,  4.85it/s]\n",
      "                 Class     Images  Instances      Box(P          R      mAP50  mAP50-95)     Mask(P          R      mAP50  mAP50-95): 100%|██████████| 26/26 [00:08<00:00,  2.91it/s]"
     ]
    },
    {
     "name": "stdout",
     "output_type": "stream",
     "text": [
      "                   all        807       7092      0.692      0.347      0.389      0.283      0.686      0.338      0.373      0.242\n"
     ]
    },
    {
     "name": "stderr",
     "output_type": "stream",
     "text": [
      "\n"
     ]
    },
    {
     "name": "stdout",
     "output_type": "stream",
     "text": [
      "\n",
      "      Epoch    GPU_mem   box_loss   seg_loss   cls_loss   dfl_loss  Instances       Size\n"
     ]
    },
    {
     "name": "stderr",
     "output_type": "stream",
     "text": [
      "     21/200      6.56G      1.333      2.907      2.422      1.061         64        768: 100%|██████████| 166/166 [00:34<00:00,  4.77it/s]\n",
      "                 Class     Images  Instances      Box(P          R      mAP50  mAP50-95)     Mask(P          R      mAP50  mAP50-95): 100%|██████████| 26/26 [00:13<00:00,  1.86it/s]"
     ]
    },
    {
     "name": "stdout",
     "output_type": "stream",
     "text": [
      "                   all        807       7092      0.673      0.356      0.386      0.285      0.652       0.35      0.374       0.25\n"
     ]
    },
    {
     "name": "stderr",
     "output_type": "stream",
     "text": [
      "\n"
     ]
    },
    {
     "name": "stdout",
     "output_type": "stream",
     "text": [
      "\n",
      "      Epoch    GPU_mem   box_loss   seg_loss   cls_loss   dfl_loss  Instances       Size\n"
     ]
    },
    {
     "name": "stderr",
     "output_type": "stream",
     "text": [
      "     22/200      6.41G       1.34      2.921      2.375      1.063         97        768: 100%|██████████| 166/166 [00:36<00:00,  4.53it/s]\n",
      "                 Class     Images  Instances      Box(P          R      mAP50  mAP50-95)     Mask(P          R      mAP50  mAP50-95): 100%|██████████| 26/26 [00:07<00:00,  3.26it/s]"
     ]
    },
    {
     "name": "stdout",
     "output_type": "stream",
     "text": [
      "                   all        807       7092       0.69      0.349      0.388      0.285      0.676      0.338      0.373      0.244\n"
     ]
    },
    {
     "name": "stderr",
     "output_type": "stream",
     "text": [
      "\n"
     ]
    },
    {
     "name": "stdout",
     "output_type": "stream",
     "text": [
      "\n",
      "      Epoch    GPU_mem   box_loss   seg_loss   cls_loss   dfl_loss  Instances       Size\n"
     ]
    },
    {
     "name": "stderr",
     "output_type": "stream",
     "text": [
      "     23/200       6.3G      1.312      2.865      2.338      1.056         41        768: 100%|██████████| 166/166 [00:35<00:00,  4.73it/s]\n",
      "                 Class     Images  Instances      Box(P          R      mAP50  mAP50-95)     Mask(P          R      mAP50  mAP50-95): 100%|██████████| 26/26 [00:08<00:00,  3.23it/s]"
     ]
    },
    {
     "name": "stdout",
     "output_type": "stream",
     "text": [
      "                   all        807       7092      0.742      0.344      0.396      0.294      0.717      0.339      0.382      0.254\n"
     ]
    },
    {
     "name": "stderr",
     "output_type": "stream",
     "text": [
      "\n"
     ]
    },
    {
     "name": "stdout",
     "output_type": "stream",
     "text": [
      "\n",
      "      Epoch    GPU_mem   box_loss   seg_loss   cls_loss   dfl_loss  Instances       Size\n"
     ]
    },
    {
     "name": "stderr",
     "output_type": "stream",
     "text": [
      "     24/200       6.9G      1.311      2.867      2.302      1.046        100        768: 100%|██████████| 166/166 [00:34<00:00,  4.75it/s]\n",
      "                 Class     Images  Instances      Box(P          R      mAP50  mAP50-95)     Mask(P          R      mAP50  mAP50-95): 100%|██████████| 26/26 [00:25<00:00,  1.01it/s]\n"
     ]
    },
    {
     "name": "stdout",
     "output_type": "stream",
     "text": [
      "                   all        807       7092      0.674      0.369        0.4      0.294      0.681      0.359      0.388      0.258\n",
      "\n",
      "      Epoch    GPU_mem   box_loss   seg_loss   cls_loss   dfl_loss  Instances       Size\n"
     ]
    },
    {
     "name": "stderr",
     "output_type": "stream",
     "text": [
      "     25/200      6.83G      1.304      2.838      2.296      1.049         45        768: 100%|██████████| 166/166 [00:35<00:00,  4.72it/s]\n",
      "                 Class     Images  Instances      Box(P          R      mAP50  mAP50-95)     Mask(P          R      mAP50  mAP50-95): 100%|██████████| 26/26 [00:10<00:00,  2.37it/s]"
     ]
    },
    {
     "name": "stdout",
     "output_type": "stream",
     "text": [
      "                   all        807       7092      0.697       0.37      0.402      0.299      0.686      0.359      0.387      0.258\n"
     ]
    },
    {
     "name": "stderr",
     "output_type": "stream",
     "text": [
      "\n"
     ]
    },
    {
     "name": "stdout",
     "output_type": "stream",
     "text": [
      "\n",
      "      Epoch    GPU_mem   box_loss   seg_loss   cls_loss   dfl_loss  Instances       Size\n"
     ]
    },
    {
     "name": "stderr",
     "output_type": "stream",
     "text": [
      "     26/200       6.4G      1.298      2.804       2.25      1.042         44        768: 100%|██████████| 166/166 [00:35<00:00,  4.69it/s]\n",
      "                 Class     Images  Instances      Box(P          R      mAP50  mAP50-95)     Mask(P          R      mAP50  mAP50-95): 100%|██████████| 26/26 [00:08<00:00,  3.09it/s]"
     ]
    },
    {
     "name": "stdout",
     "output_type": "stream",
     "text": [
      "                   all        807       7092      0.713      0.366      0.401      0.296      0.697      0.359      0.389      0.257\n"
     ]
    },
    {
     "name": "stderr",
     "output_type": "stream",
     "text": [
      "\n"
     ]
    },
    {
     "name": "stdout",
     "output_type": "stream",
     "text": [
      "\n",
      "      Epoch    GPU_mem   box_loss   seg_loss   cls_loss   dfl_loss  Instances       Size\n"
     ]
    },
    {
     "name": "stderr",
     "output_type": "stream",
     "text": [
      "     27/200      7.07G      1.285      2.801      2.208      1.037         30        768: 100%|██████████| 166/166 [00:34<00:00,  4.80it/s]\n",
      "                 Class     Images  Instances      Box(P          R      mAP50  mAP50-95)     Mask(P          R      mAP50  mAP50-95): 100%|██████████| 26/26 [00:09<00:00,  2.70it/s]"
     ]
    },
    {
     "name": "stdout",
     "output_type": "stream",
     "text": [
      "                   all        807       7092       0.74      0.367      0.413      0.305       0.72      0.358      0.398      0.263\n"
     ]
    },
    {
     "name": "stderr",
     "output_type": "stream",
     "text": [
      "\n"
     ]
    },
    {
     "name": "stdout",
     "output_type": "stream",
     "text": [
      "\n",
      "      Epoch    GPU_mem   box_loss   seg_loss   cls_loss   dfl_loss  Instances       Size\n"
     ]
    },
    {
     "name": "stderr",
     "output_type": "stream",
     "text": [
      "     28/200      6.09G      1.299      2.818      2.182      1.042         34        768: 100%|██████████| 166/166 [00:35<00:00,  4.73it/s]\n",
      "                 Class     Images  Instances      Box(P          R      mAP50  mAP50-95)     Mask(P          R      mAP50  mAP50-95): 100%|██████████| 26/26 [00:07<00:00,  3.31it/s]"
     ]
    },
    {
     "name": "stdout",
     "output_type": "stream",
     "text": [
      "                   all        807       7092      0.722      0.364      0.412      0.308      0.722      0.352      0.396      0.269\n"
     ]
    },
    {
     "name": "stderr",
     "output_type": "stream",
     "text": [
      "\n"
     ]
    },
    {
     "name": "stdout",
     "output_type": "stream",
     "text": [
      "\n",
      "      Epoch    GPU_mem   box_loss   seg_loss   cls_loss   dfl_loss  Instances       Size\n"
     ]
    },
    {
     "name": "stderr",
     "output_type": "stream",
     "text": [
      "     29/200      6.77G      1.284      2.834      2.174      1.037         54        768: 100%|██████████| 166/166 [00:35<00:00,  4.72it/s]\n",
      "                 Class     Images  Instances      Box(P          R      mAP50  mAP50-95)     Mask(P          R      mAP50  mAP50-95): 100%|██████████| 26/26 [00:09<00:00,  2.79it/s]\n"
     ]
    },
    {
     "name": "stdout",
     "output_type": "stream",
     "text": [
      "                   all        807       7092      0.701      0.372      0.408        0.3      0.693       0.36       0.39      0.258\n",
      "\n",
      "      Epoch    GPU_mem   box_loss   seg_loss   cls_loss   dfl_loss  Instances       Size\n"
     ]
    },
    {
     "name": "stderr",
     "output_type": "stream",
     "text": [
      "     30/200      8.23G      1.287      2.806      2.143      1.034         71        768: 100%|██████████| 166/166 [00:38<00:00,  4.28it/s]\n",
      "                 Class     Images  Instances      Box(P          R      mAP50  mAP50-95)     Mask(P          R      mAP50  mAP50-95): 100%|██████████| 26/26 [00:12<00:00,  2.11it/s]"
     ]
    },
    {
     "name": "stdout",
     "output_type": "stream",
     "text": [
      "                   all        807       7092      0.717      0.376      0.415      0.307      0.689      0.365      0.396      0.261\n"
     ]
    },
    {
     "name": "stderr",
     "output_type": "stream",
     "text": [
      "\n"
     ]
    },
    {
     "name": "stdout",
     "output_type": "stream",
     "text": [
      "\n",
      "      Epoch    GPU_mem   box_loss   seg_loss   cls_loss   dfl_loss  Instances       Size\n"
     ]
    },
    {
     "name": "stderr",
     "output_type": "stream",
     "text": [
      "     31/200      5.73G      1.277      2.769      2.105      1.024         39        768: 100%|██████████| 166/166 [00:35<00:00,  4.65it/s]\n",
      "                 Class     Images  Instances      Box(P          R      mAP50  mAP50-95)     Mask(P          R      mAP50  mAP50-95): 100%|██████████| 26/26 [00:08<00:00,  3.00it/s]"
     ]
    },
    {
     "name": "stdout",
     "output_type": "stream",
     "text": [
      "                   all        807       7092      0.719      0.373      0.411      0.307      0.715      0.364      0.397      0.268\n"
     ]
    },
    {
     "name": "stderr",
     "output_type": "stream",
     "text": [
      "\n"
     ]
    },
    {
     "name": "stdout",
     "output_type": "stream",
     "text": [
      "\n",
      "      Epoch    GPU_mem   box_loss   seg_loss   cls_loss   dfl_loss  Instances       Size\n"
     ]
    },
    {
     "name": "stderr",
     "output_type": "stream",
     "text": [
      "     32/200      6.19G      1.267      2.771      2.098      1.022         45        768: 100%|██████████| 166/166 [00:35<00:00,  4.68it/s]\n",
      "                 Class     Images  Instances      Box(P          R      mAP50  mAP50-95)     Mask(P          R      mAP50  mAP50-95): 100%|██████████| 26/26 [00:09<00:00,  2.65it/s]"
     ]
    },
    {
     "name": "stdout",
     "output_type": "stream",
     "text": [
      "                   all        807       7092      0.701       0.38      0.417      0.312      0.706      0.365      0.402      0.269\n"
     ]
    },
    {
     "name": "stderr",
     "output_type": "stream",
     "text": [
      "\n"
     ]
    },
    {
     "name": "stdout",
     "output_type": "stream",
     "text": [
      "\n",
      "      Epoch    GPU_mem   box_loss   seg_loss   cls_loss   dfl_loss  Instances       Size\n"
     ]
    },
    {
     "name": "stderr",
     "output_type": "stream",
     "text": [
      "     33/200      6.81G      1.255       2.74      2.073      1.023         77        768: 100%|██████████| 166/166 [00:35<00:00,  4.73it/s]\n",
      "                 Class     Images  Instances      Box(P          R      mAP50  mAP50-95)     Mask(P          R      mAP50  mAP50-95): 100%|██████████| 26/26 [00:13<00:00,  1.94it/s]"
     ]
    },
    {
     "name": "stdout",
     "output_type": "stream",
     "text": [
      "                   all        807       7092      0.755      0.378      0.422      0.315      0.744      0.369      0.407      0.268\n"
     ]
    },
    {
     "name": "stderr",
     "output_type": "stream",
     "text": [
      "\n"
     ]
    },
    {
     "name": "stdout",
     "output_type": "stream",
     "text": [
      "\n",
      "      Epoch    GPU_mem   box_loss   seg_loss   cls_loss   dfl_loss  Instances       Size\n"
     ]
    },
    {
     "name": "stderr",
     "output_type": "stream",
     "text": [
      "     34/200      6.35G      1.275      2.769      2.066      1.023         52        768: 100%|██████████| 166/166 [00:37<00:00,  4.42it/s]\n",
      "                 Class     Images  Instances      Box(P          R      mAP50  mAP50-95)     Mask(P          R      mAP50  mAP50-95): 100%|██████████| 26/26 [00:09<00:00,  2.86it/s]"
     ]
    },
    {
     "name": "stdout",
     "output_type": "stream",
     "text": [
      "                   all        807       7092      0.736      0.372      0.419      0.309       0.72      0.361      0.402      0.264\n"
     ]
    },
    {
     "name": "stderr",
     "output_type": "stream",
     "text": [
      "\n"
     ]
    },
    {
     "name": "stdout",
     "output_type": "stream",
     "text": [
      "\n",
      "      Epoch    GPU_mem   box_loss   seg_loss   cls_loss   dfl_loss  Instances       Size\n"
     ]
    },
    {
     "name": "stderr",
     "output_type": "stream",
     "text": [
      "     35/200      6.91G      1.255      2.733      2.032      1.021         52        768: 100%|██████████| 166/166 [00:35<00:00,  4.73it/s]\n",
      "                 Class     Images  Instances      Box(P          R      mAP50  mAP50-95)     Mask(P          R      mAP50  mAP50-95): 100%|██████████| 26/26 [00:08<00:00,  3.13it/s]"
     ]
    },
    {
     "name": "stdout",
     "output_type": "stream",
     "text": [
      "                   all        807       7092      0.741      0.381      0.425      0.318      0.749      0.368      0.407      0.273\n"
     ]
    },
    {
     "name": "stderr",
     "output_type": "stream",
     "text": [
      "\n"
     ]
    },
    {
     "name": "stdout",
     "output_type": "stream",
     "text": [
      "\n",
      "      Epoch    GPU_mem   box_loss   seg_loss   cls_loss   dfl_loss  Instances       Size\n"
     ]
    },
    {
     "name": "stderr",
     "output_type": "stream",
     "text": [
      "     36/200      5.69G      1.265      2.745      2.023      1.019         52        768: 100%|██████████| 166/166 [00:35<00:00,  4.72it/s]\n",
      "                 Class     Images  Instances      Box(P          R      mAP50  mAP50-95)     Mask(P          R      mAP50  mAP50-95): 100%|██████████| 26/26 [00:09<00:00,  2.78it/s]"
     ]
    },
    {
     "name": "stdout",
     "output_type": "stream",
     "text": [
      "                   all        807       7092      0.741      0.377      0.423      0.318      0.748      0.361      0.406      0.272\n"
     ]
    },
    {
     "name": "stderr",
     "output_type": "stream",
     "text": [
      "\n"
     ]
    },
    {
     "name": "stdout",
     "output_type": "stream",
     "text": [
      "\n",
      "      Epoch    GPU_mem   box_loss   seg_loss   cls_loss   dfl_loss  Instances       Size\n"
     ]
    },
    {
     "name": "stderr",
     "output_type": "stream",
     "text": [
      "     37/200      6.92G      1.242      2.692      2.005      1.017         62        768: 100%|██████████| 166/166 [00:35<00:00,  4.72it/s]\n",
      "                 Class     Images  Instances      Box(P          R      mAP50  mAP50-95)     Mask(P          R      mAP50  mAP50-95): 100%|██████████| 26/26 [00:09<00:00,  2.77it/s]"
     ]
    },
    {
     "name": "stdout",
     "output_type": "stream",
     "text": [
      "                   all        807       7092      0.752       0.38      0.426       0.32      0.737      0.367      0.404      0.273\n"
     ]
    },
    {
     "name": "stderr",
     "output_type": "stream",
     "text": [
      "\n"
     ]
    },
    {
     "name": "stdout",
     "output_type": "stream",
     "text": [
      "\n",
      "      Epoch    GPU_mem   box_loss   seg_loss   cls_loss   dfl_loss  Instances       Size\n"
     ]
    },
    {
     "name": "stderr",
     "output_type": "stream",
     "text": [
      "     38/200      7.69G      1.259      2.753      1.985      1.019         40        768: 100%|██████████| 166/166 [00:36<00:00,  4.55it/s]\n",
      "                 Class     Images  Instances      Box(P          R      mAP50  mAP50-95)     Mask(P          R      mAP50  mAP50-95): 100%|██████████| 26/26 [00:10<00:00,  2.59it/s]"
     ]
    },
    {
     "name": "stdout",
     "output_type": "stream",
     "text": [
      "                   all        807       7092      0.769      0.384      0.433      0.327      0.765      0.369      0.416      0.282\n"
     ]
    },
    {
     "name": "stderr",
     "output_type": "stream",
     "text": [
      "\n"
     ]
    },
    {
     "name": "stdout",
     "output_type": "stream",
     "text": [
      "\n",
      "      Epoch    GPU_mem   box_loss   seg_loss   cls_loss   dfl_loss  Instances       Size\n"
     ]
    },
    {
     "name": "stderr",
     "output_type": "stream",
     "text": [
      "     39/200      5.75G      1.243      2.716      1.954       1.01         53        768: 100%|██████████| 166/166 [00:34<00:00,  4.82it/s]\n",
      "                 Class     Images  Instances      Box(P          R      mAP50  mAP50-95)     Mask(P          R      mAP50  mAP50-95): 100%|██████████| 26/26 [00:06<00:00,  4.08it/s]"
     ]
    },
    {
     "name": "stdout",
     "output_type": "stream",
     "text": [
      "                   all        807       7092      0.744      0.389      0.432      0.328      0.737      0.378      0.416      0.281\n"
     ]
    },
    {
     "name": "stderr",
     "output_type": "stream",
     "text": [
      "\n"
     ]
    },
    {
     "name": "stdout",
     "output_type": "stream",
     "text": [
      "\n",
      "      Epoch    GPU_mem   box_loss   seg_loss   cls_loss   dfl_loss  Instances       Size\n"
     ]
    },
    {
     "name": "stderr",
     "output_type": "stream",
     "text": [
      "     40/200       6.6G      1.212      2.659      1.909          1         37        768: 100%|██████████| 166/166 [00:33<00:00,  4.89it/s]\n",
      "                 Class     Images  Instances      Box(P          R      mAP50  mAP50-95)     Mask(P          R      mAP50  mAP50-95): 100%|██████████| 26/26 [00:22<00:00,  1.16it/s]\n"
     ]
    },
    {
     "name": "stdout",
     "output_type": "stream",
     "text": [
      "                   all        807       7092      0.741      0.388      0.435      0.335      0.745      0.378      0.421      0.288\n",
      "\n",
      "      Epoch    GPU_mem   box_loss   seg_loss   cls_loss   dfl_loss  Instances       Size\n"
     ]
    },
    {
     "name": "stderr",
     "output_type": "stream",
     "text": [
      "     41/200      6.23G      1.218      2.681      1.916      1.003         62        768: 100%|██████████| 166/166 [00:37<00:00,  4.48it/s]\n",
      "                 Class     Images  Instances      Box(P          R      mAP50  mAP50-95)     Mask(P          R      mAP50  mAP50-95): 100%|██████████| 26/26 [00:07<00:00,  3.49it/s]"
     ]
    },
    {
     "name": "stdout",
     "output_type": "stream",
     "text": [
      "                   all        807       7092      0.745      0.396      0.437      0.335      0.739      0.385      0.422      0.288\n"
     ]
    },
    {
     "name": "stderr",
     "output_type": "stream",
     "text": [
      "\n"
     ]
    },
    {
     "name": "stdout",
     "output_type": "stream",
     "text": [
      "\n",
      "      Epoch    GPU_mem   box_loss   seg_loss   cls_loss   dfl_loss  Instances       Size\n"
     ]
    },
    {
     "name": "stderr",
     "output_type": "stream",
     "text": [
      "     42/200       5.9G      1.205      2.634      1.879      1.007         53        768: 100%|██████████| 166/166 [00:36<00:00,  4.60it/s]\n",
      "                 Class     Images  Instances      Box(P          R      mAP50  mAP50-95)     Mask(P          R      mAP50  mAP50-95): 100%|██████████| 26/26 [00:08<00:00,  3.05it/s]"
     ]
    },
    {
     "name": "stdout",
     "output_type": "stream",
     "text": [
      "                   all        807       7092      0.778      0.387      0.435      0.335      0.788      0.372       0.42      0.287\n"
     ]
    },
    {
     "name": "stderr",
     "output_type": "stream",
     "text": [
      "\n"
     ]
    },
    {
     "name": "stdout",
     "output_type": "stream",
     "text": [
      "\n",
      "      Epoch    GPU_mem   box_loss   seg_loss   cls_loss   dfl_loss  Instances       Size\n"
     ]
    },
    {
     "name": "stderr",
     "output_type": "stream",
     "text": [
      "     43/200      6.88G      1.205      2.638      1.892     0.9955         25        768: 100%|██████████| 166/166 [00:35<00:00,  4.70it/s]\n",
      "                 Class     Images  Instances      Box(P          R      mAP50  mAP50-95)     Mask(P          R      mAP50  mAP50-95): 100%|██████████| 26/26 [00:10<00:00,  2.38it/s]"
     ]
    },
    {
     "name": "stdout",
     "output_type": "stream",
     "text": [
      "                   all        807       7092      0.772      0.378      0.429      0.321      0.766      0.367      0.412      0.276\n"
     ]
    },
    {
     "name": "stderr",
     "output_type": "stream",
     "text": [
      "\n"
     ]
    },
    {
     "name": "stdout",
     "output_type": "stream",
     "text": [
      "\n",
      "      Epoch    GPU_mem   box_loss   seg_loss   cls_loss   dfl_loss  Instances       Size\n"
     ]
    },
    {
     "name": "stderr",
     "output_type": "stream",
     "text": [
      "     44/200      7.35G       1.21      2.637      1.855     0.9965         67        768: 100%|██████████| 166/166 [00:33<00:00,  4.90it/s]\n",
      "                 Class     Images  Instances      Box(P          R      mAP50  mAP50-95)     Mask(P          R      mAP50  mAP50-95): 100%|██████████| 26/26 [00:27<00:00,  1.05s/it]\n"
     ]
    },
    {
     "name": "stdout",
     "output_type": "stream",
     "text": [
      "                   all        807       7092      0.774      0.403      0.448      0.341      0.771       0.39      0.432      0.294\n",
      "\n",
      "      Epoch    GPU_mem   box_loss   seg_loss   cls_loss   dfl_loss  Instances       Size\n"
     ]
    },
    {
     "name": "stderr",
     "output_type": "stream",
     "text": [
      "     45/200      6.52G      1.192      2.618      1.835     0.9908         49        768: 100%|██████████| 166/166 [00:34<00:00,  4.78it/s]\n",
      "                 Class     Images  Instances      Box(P          R      mAP50  mAP50-95)     Mask(P          R      mAP50  mAP50-95): 100%|██████████| 26/26 [00:12<00:00,  2.07it/s]"
     ]
    },
    {
     "name": "stdout",
     "output_type": "stream",
     "text": [
      "                   all        807       7092      0.784      0.393      0.446      0.338      0.781      0.382       0.43      0.292\n"
     ]
    },
    {
     "name": "stderr",
     "output_type": "stream",
     "text": [
      "\n"
     ]
    },
    {
     "name": "stdout",
     "output_type": "stream",
     "text": [
      "\n",
      "      Epoch    GPU_mem   box_loss   seg_loss   cls_loss   dfl_loss  Instances       Size\n"
     ]
    },
    {
     "name": "stderr",
     "output_type": "stream",
     "text": [
      "     46/200      5.79G      1.207      2.639      1.829      0.994         30        768: 100%|██████████| 166/166 [00:36<00:00,  4.57it/s]\n",
      "                 Class     Images  Instances      Box(P          R      mAP50  mAP50-95)     Mask(P          R      mAP50  mAP50-95): 100%|██████████| 26/26 [00:08<00:00,  3.24it/s]"
     ]
    },
    {
     "name": "stdout",
     "output_type": "stream",
     "text": [
      "                   all        807       7092      0.798      0.391      0.443      0.338      0.789      0.385       0.43      0.292\n"
     ]
    },
    {
     "name": "stderr",
     "output_type": "stream",
     "text": [
      "\n"
     ]
    },
    {
     "name": "stdout",
     "output_type": "stream",
     "text": [
      "\n",
      "      Epoch    GPU_mem   box_loss   seg_loss   cls_loss   dfl_loss  Instances       Size\n"
     ]
    },
    {
     "name": "stderr",
     "output_type": "stream",
     "text": [
      "     47/200       6.2G      1.192      2.605       1.82     0.9902         36        768: 100%|██████████| 166/166 [00:35<00:00,  4.64it/s]\n",
      "                 Class     Images  Instances      Box(P          R      mAP50  mAP50-95)     Mask(P          R      mAP50  mAP50-95): 100%|██████████| 26/26 [00:09<00:00,  2.81it/s]"
     ]
    },
    {
     "name": "stdout",
     "output_type": "stream",
     "text": [
      "                   all        807       7092      0.766      0.401      0.443      0.334      0.748      0.392      0.426      0.289\n"
     ]
    },
    {
     "name": "stderr",
     "output_type": "stream",
     "text": [
      "\n"
     ]
    },
    {
     "name": "stdout",
     "output_type": "stream",
     "text": [
      "\n",
      "      Epoch    GPU_mem   box_loss   seg_loss   cls_loss   dfl_loss  Instances       Size\n"
     ]
    },
    {
     "name": "stderr",
     "output_type": "stream",
     "text": [
      "     48/200      6.51G      1.198      2.627      1.806     0.9919         37        768: 100%|██████████| 166/166 [00:35<00:00,  4.74it/s]\n",
      "                 Class     Images  Instances      Box(P          R      mAP50  mAP50-95)     Mask(P          R      mAP50  mAP50-95): 100%|██████████| 26/26 [00:11<00:00,  2.28it/s]"
     ]
    },
    {
     "name": "stdout",
     "output_type": "stream",
     "text": [
      "                   all        807       7092      0.784      0.406      0.452      0.343      0.772      0.396      0.435      0.295\n"
     ]
    },
    {
     "name": "stderr",
     "output_type": "stream",
     "text": [
      "\n"
     ]
    },
    {
     "name": "stdout",
     "output_type": "stream",
     "text": [
      "\n",
      "      Epoch    GPU_mem   box_loss   seg_loss   cls_loss   dfl_loss  Instances       Size\n"
     ]
    },
    {
     "name": "stderr",
     "output_type": "stream",
     "text": [
      "     49/200      6.86G      1.204      2.599      1.806     0.9937         64        768: 100%|██████████| 166/166 [00:33<00:00,  4.93it/s]\n",
      "                 Class     Images  Instances      Box(P          R      mAP50  mAP50-95)     Mask(P          R      mAP50  mAP50-95): 100%|██████████| 26/26 [00:10<00:00,  2.59it/s]"
     ]
    },
    {
     "name": "stdout",
     "output_type": "stream",
     "text": [
      "                   all        807       7092      0.808      0.401      0.452      0.347      0.784      0.392      0.435      0.297\n"
     ]
    },
    {
     "name": "stderr",
     "output_type": "stream",
     "text": [
      "\n"
     ]
    },
    {
     "name": "stdout",
     "output_type": "stream",
     "text": [
      "\n",
      "      Epoch    GPU_mem   box_loss   seg_loss   cls_loss   dfl_loss  Instances       Size\n"
     ]
    },
    {
     "name": "stderr",
     "output_type": "stream",
     "text": [
      "     50/200      6.78G      1.179      2.613      1.771     0.9829         90        768: 100%|██████████| 166/166 [00:35<00:00,  4.71it/s]\n",
      "                 Class     Images  Instances      Box(P          R      mAP50  mAP50-95)     Mask(P          R      mAP50  mAP50-95): 100%|██████████| 26/26 [00:07<00:00,  3.58it/s]"
     ]
    },
    {
     "name": "stdout",
     "output_type": "stream",
     "text": [
      "                   all        807       7092      0.786      0.406      0.452      0.349      0.762      0.395      0.434      0.299\n"
     ]
    },
    {
     "name": "stderr",
     "output_type": "stream",
     "text": [
      "\n"
     ]
    },
    {
     "name": "stdout",
     "output_type": "stream",
     "text": [
      "\n",
      "      Epoch    GPU_mem   box_loss   seg_loss   cls_loss   dfl_loss  Instances       Size\n"
     ]
    },
    {
     "name": "stderr",
     "output_type": "stream",
     "text": [
      "     51/200      6.67G      1.174      2.587      1.757     0.9796         73        768: 100%|██████████| 166/166 [00:34<00:00,  4.83it/s]\n",
      "                 Class     Images  Instances      Box(P          R      mAP50  mAP50-95)     Mask(P          R      mAP50  mAP50-95): 100%|██████████| 26/26 [00:09<00:00,  2.62it/s]"
     ]
    },
    {
     "name": "stdout",
     "output_type": "stream",
     "text": [
      "                   all        807       7092      0.768      0.406      0.449      0.344      0.739      0.398      0.433      0.296\n"
     ]
    },
    {
     "name": "stderr",
     "output_type": "stream",
     "text": [
      "\n"
     ]
    },
    {
     "name": "stdout",
     "output_type": "stream",
     "text": [
      "\n",
      "      Epoch    GPU_mem   box_loss   seg_loss   cls_loss   dfl_loss  Instances       Size\n"
     ]
    },
    {
     "name": "stderr",
     "output_type": "stream",
     "text": [
      "     52/200      6.41G      1.196      2.619       1.76     0.9806         44        768: 100%|██████████| 166/166 [00:34<00:00,  4.78it/s]\n",
      "                 Class     Images  Instances      Box(P          R      mAP50  mAP50-95)     Mask(P          R      mAP50  mAP50-95): 100%|██████████| 26/26 [00:07<00:00,  3.56it/s]"
     ]
    },
    {
     "name": "stdout",
     "output_type": "stream",
     "text": [
      "                   all        807       7092      0.804      0.403      0.458      0.353      0.791      0.394      0.442      0.301\n"
     ]
    },
    {
     "name": "stderr",
     "output_type": "stream",
     "text": [
      "\n"
     ]
    },
    {
     "name": "stdout",
     "output_type": "stream",
     "text": [
      "\n",
      "      Epoch    GPU_mem   box_loss   seg_loss   cls_loss   dfl_loss  Instances       Size\n"
     ]
    },
    {
     "name": "stderr",
     "output_type": "stream",
     "text": [
      "     53/200      5.99G      1.176      2.588      1.734     0.9777         59        768: 100%|██████████| 166/166 [00:35<00:00,  4.74it/s]\n",
      "                 Class     Images  Instances      Box(P          R      mAP50  mAP50-95)     Mask(P          R      mAP50  mAP50-95): 100%|██████████| 26/26 [00:10<00:00,  2.58it/s]"
     ]
    },
    {
     "name": "stdout",
     "output_type": "stream",
     "text": [
      "                   all        807       7092       0.79      0.407      0.457       0.35      0.777      0.398      0.438      0.299\n"
     ]
    },
    {
     "name": "stderr",
     "output_type": "stream",
     "text": [
      "\n"
     ]
    },
    {
     "name": "stdout",
     "output_type": "stream",
     "text": [
      "\n",
      "      Epoch    GPU_mem   box_loss   seg_loss   cls_loss   dfl_loss  Instances       Size\n"
     ]
    },
    {
     "name": "stderr",
     "output_type": "stream",
     "text": [
      "     54/200      5.62G      1.156      2.542      1.714     0.9778        116        768: 100%|██████████| 166/166 [00:33<00:00,  4.94it/s]\n",
      "                 Class     Images  Instances      Box(P          R      mAP50  mAP50-95)     Mask(P          R      mAP50  mAP50-95): 100%|██████████| 26/26 [00:07<00:00,  3.50it/s]"
     ]
    },
    {
     "name": "stdout",
     "output_type": "stream",
     "text": [
      "                   all        807       7092      0.799      0.414      0.459      0.352      0.771      0.404      0.442      0.303\n"
     ]
    },
    {
     "name": "stderr",
     "output_type": "stream",
     "text": [
      "\n"
     ]
    },
    {
     "name": "stdout",
     "output_type": "stream",
     "text": [
      "\n",
      "      Epoch    GPU_mem   box_loss   seg_loss   cls_loss   dfl_loss  Instances       Size\n"
     ]
    },
    {
     "name": "stderr",
     "output_type": "stream",
     "text": [
      "     55/200      6.64G      1.173      2.567      1.704     0.9741         80        768: 100%|██████████| 166/166 [00:33<00:00,  4.95it/s]\n",
      "                 Class     Images  Instances      Box(P          R      mAP50  mAP50-95)     Mask(P          R      mAP50  mAP50-95): 100%|██████████| 26/26 [00:09<00:00,  2.84it/s]"
     ]
    },
    {
     "name": "stdout",
     "output_type": "stream",
     "text": [
      "                   all        807       7092      0.784      0.418      0.462      0.352      0.817      0.394      0.443      0.302\n"
     ]
    },
    {
     "name": "stderr",
     "output_type": "stream",
     "text": [
      "\n"
     ]
    },
    {
     "name": "stdout",
     "output_type": "stream",
     "text": [
      "\n",
      "      Epoch    GPU_mem   box_loss   seg_loss   cls_loss   dfl_loss  Instances       Size\n"
     ]
    },
    {
     "name": "stderr",
     "output_type": "stream",
     "text": [
      "     56/200      5.94G      1.168      2.552      1.686     0.9703         73        768: 100%|██████████| 166/166 [00:33<00:00,  4.95it/s]\n",
      "                 Class     Images  Instances      Box(P          R      mAP50  mAP50-95)     Mask(P          R      mAP50  mAP50-95): 100%|██████████| 26/26 [00:06<00:00,  4.04it/s]"
     ]
    },
    {
     "name": "stdout",
     "output_type": "stream",
     "text": [
      "                   all        807       7092       0.78      0.412      0.458      0.356      0.775      0.397       0.44      0.304\n"
     ]
    },
    {
     "name": "stderr",
     "output_type": "stream",
     "text": [
      "\n"
     ]
    },
    {
     "name": "stdout",
     "output_type": "stream",
     "text": [
      "\n",
      "      Epoch    GPU_mem   box_loss   seg_loss   cls_loss   dfl_loss  Instances       Size\n"
     ]
    },
    {
     "name": "stderr",
     "output_type": "stream",
     "text": [
      "     57/200      5.51G      1.174      2.578      1.709     0.9753         40        768: 100%|██████████| 166/166 [00:34<00:00,  4.84it/s]\n",
      "                 Class     Images  Instances      Box(P          R      mAP50  mAP50-95)     Mask(P          R      mAP50  mAP50-95): 100%|██████████| 26/26 [00:08<00:00,  3.16it/s]\n"
     ]
    },
    {
     "name": "stdout",
     "output_type": "stream",
     "text": [
      "                   all        807       7092      0.826      0.417      0.468       0.36      0.829      0.399      0.449      0.307\n",
      "\n",
      "      Epoch    GPU_mem   box_loss   seg_loss   cls_loss   dfl_loss  Instances       Size\n"
     ]
    },
    {
     "name": "stderr",
     "output_type": "stream",
     "text": [
      "     58/200      6.31G      1.159      2.563      1.691     0.9699         40        768: 100%|██████████| 166/166 [00:37<00:00,  4.40it/s]\n",
      "                 Class     Images  Instances      Box(P          R      mAP50  mAP50-95)     Mask(P          R      mAP50  mAP50-95): 100%|██████████| 26/26 [00:10<00:00,  2.42it/s]"
     ]
    },
    {
     "name": "stdout",
     "output_type": "stream",
     "text": [
      "                   all        807       7092      0.781      0.424      0.463      0.357      0.771      0.412      0.447      0.309\n"
     ]
    },
    {
     "name": "stderr",
     "output_type": "stream",
     "text": [
      "\n"
     ]
    },
    {
     "name": "stdout",
     "output_type": "stream",
     "text": [
      "\n",
      "      Epoch    GPU_mem   box_loss   seg_loss   cls_loss   dfl_loss  Instances       Size\n"
     ]
    },
    {
     "name": "stderr",
     "output_type": "stream",
     "text": [
      "     59/200      5.67G       1.17      2.533      1.701     0.9774         46        768: 100%|██████████| 166/166 [00:34<00:00,  4.79it/s]\n",
      "                 Class     Images  Instances      Box(P          R      mAP50  mAP50-95)     Mask(P          R      mAP50  mAP50-95): 100%|██████████| 26/26 [00:06<00:00,  3.93it/s]"
     ]
    },
    {
     "name": "stdout",
     "output_type": "stream",
     "text": [
      "                   all        807       7092      0.766      0.424      0.466      0.358      0.817      0.396      0.446      0.306\n"
     ]
    },
    {
     "name": "stderr",
     "output_type": "stream",
     "text": [
      "\n"
     ]
    },
    {
     "name": "stdout",
     "output_type": "stream",
     "text": [
      "\n",
      "      Epoch    GPU_mem   box_loss   seg_loss   cls_loss   dfl_loss  Instances       Size\n"
     ]
    },
    {
     "name": "stderr",
     "output_type": "stream",
     "text": [
      "     60/200      6.32G       1.15      2.517      1.645     0.9627         53        768: 100%|██████████| 166/166 [00:35<00:00,  4.74it/s]\n",
      "                 Class     Images  Instances      Box(P          R      mAP50  mAP50-95)     Mask(P          R      mAP50  mAP50-95): 100%|██████████| 26/26 [00:11<00:00,  2.34it/s]"
     ]
    },
    {
     "name": "stdout",
     "output_type": "stream",
     "text": [
      "                   all        807       7092      0.806      0.419      0.466       0.36      0.798      0.406      0.449      0.309\n"
     ]
    },
    {
     "name": "stderr",
     "output_type": "stream",
     "text": [
      "\n"
     ]
    },
    {
     "name": "stdout",
     "output_type": "stream",
     "text": [
      "\n",
      "      Epoch    GPU_mem   box_loss   seg_loss   cls_loss   dfl_loss  Instances       Size\n"
     ]
    },
    {
     "name": "stderr",
     "output_type": "stream",
     "text": [
      "     61/200      5.63G      1.145      2.509      1.666     0.9655         75        768: 100%|██████████| 166/166 [00:34<00:00,  4.85it/s]\n",
      "                 Class     Images  Instances      Box(P          R      mAP50  mAP50-95)     Mask(P          R      mAP50  mAP50-95): 100%|██████████| 26/26 [00:09<00:00,  2.75it/s]"
     ]
    },
    {
     "name": "stdout",
     "output_type": "stream",
     "text": [
      "                   all        807       7092       0.78      0.424       0.47      0.364      0.791      0.407      0.453      0.311\n"
     ]
    },
    {
     "name": "stderr",
     "output_type": "stream",
     "text": [
      "\n"
     ]
    },
    {
     "name": "stdout",
     "output_type": "stream",
     "text": [
      "\n",
      "      Epoch    GPU_mem   box_loss   seg_loss   cls_loss   dfl_loss  Instances       Size\n"
     ]
    },
    {
     "name": "stderr",
     "output_type": "stream",
     "text": [
      "     62/200      6.42G      1.152      2.559      1.653     0.9642         52        768: 100%|██████████| 166/166 [00:38<00:00,  4.36it/s]\n",
      "                 Class     Images  Instances      Box(P          R      mAP50  mAP50-95)     Mask(P          R      mAP50  mAP50-95): 100%|██████████| 26/26 [00:07<00:00,  3.29it/s]"
     ]
    },
    {
     "name": "stdout",
     "output_type": "stream",
     "text": [
      "                   all        807       7092      0.834      0.416      0.471      0.362      0.827      0.402      0.453      0.311\n"
     ]
    },
    {
     "name": "stderr",
     "output_type": "stream",
     "text": [
      "\n"
     ]
    },
    {
     "name": "stdout",
     "output_type": "stream",
     "text": [
      "\n",
      "      Epoch    GPU_mem   box_loss   seg_loss   cls_loss   dfl_loss  Instances       Size\n"
     ]
    },
    {
     "name": "stderr",
     "output_type": "stream",
     "text": [
      "     63/200      6.63G      1.127      2.478      1.614     0.9596         69        768: 100%|██████████| 166/166 [00:35<00:00,  4.65it/s]\n",
      "                 Class     Images  Instances      Box(P          R      mAP50  mAP50-95)     Mask(P          R      mAP50  mAP50-95): 100%|██████████| 26/26 [00:09<00:00,  2.72it/s]"
     ]
    },
    {
     "name": "stdout",
     "output_type": "stream",
     "text": [
      "                   all        807       7092      0.823      0.417      0.472      0.362      0.812      0.407      0.455      0.312\n"
     ]
    },
    {
     "name": "stderr",
     "output_type": "stream",
     "text": [
      "\n"
     ]
    },
    {
     "name": "stdout",
     "output_type": "stream",
     "text": [
      "\n",
      "      Epoch    GPU_mem   box_loss   seg_loss   cls_loss   dfl_loss  Instances       Size\n"
     ]
    },
    {
     "name": "stderr",
     "output_type": "stream",
     "text": [
      "     64/200      6.64G      1.157       2.55      1.654     0.9647         40        768: 100%|██████████| 166/166 [00:35<00:00,  4.66it/s]\n",
      "                 Class     Images  Instances      Box(P          R      mAP50  mAP50-95)     Mask(P          R      mAP50  mAP50-95): 100%|██████████| 26/26 [00:13<00:00,  1.93it/s]"
     ]
    },
    {
     "name": "stdout",
     "output_type": "stream",
     "text": [
      "                   all        807       7092      0.827      0.417      0.473      0.363      0.815      0.407      0.458      0.313\n"
     ]
    },
    {
     "name": "stderr",
     "output_type": "stream",
     "text": [
      "\n"
     ]
    },
    {
     "name": "stdout",
     "output_type": "stream",
     "text": [
      "\n",
      "      Epoch    GPU_mem   box_loss   seg_loss   cls_loss   dfl_loss  Instances       Size\n"
     ]
    },
    {
     "name": "stderr",
     "output_type": "stream",
     "text": [
      "     65/200      6.53G       1.14      2.497      1.651     0.9613         18        768: 100%|██████████| 166/166 [00:35<00:00,  4.61it/s]\n",
      "                 Class     Images  Instances      Box(P          R      mAP50  mAP50-95)     Mask(P          R      mAP50  mAP50-95): 100%|██████████| 26/26 [00:08<00:00,  3.05it/s]"
     ]
    },
    {
     "name": "stdout",
     "output_type": "stream",
     "text": [
      "                   all        807       7092       0.81      0.421      0.473      0.367      0.808      0.405      0.454      0.316\n"
     ]
    },
    {
     "name": "stderr",
     "output_type": "stream",
     "text": [
      "\n"
     ]
    },
    {
     "name": "stdout",
     "output_type": "stream",
     "text": [
      "\n",
      "      Epoch    GPU_mem   box_loss   seg_loss   cls_loss   dfl_loss  Instances       Size\n"
     ]
    },
    {
     "name": "stderr",
     "output_type": "stream",
     "text": [
      "     66/200      6.03G      1.132      2.478      1.599     0.9622         27        768: 100%|██████████| 166/166 [00:36<00:00,  4.55it/s]\n",
      "                 Class     Images  Instances      Box(P          R      mAP50  mAP50-95)     Mask(P          R      mAP50  mAP50-95): 100%|██████████| 26/26 [00:08<00:00,  3.07it/s]"
     ]
    },
    {
     "name": "stdout",
     "output_type": "stream",
     "text": [
      "                   all        807       7092       0.79      0.431      0.471      0.364      0.778      0.413      0.451      0.313\n"
     ]
    },
    {
     "name": "stderr",
     "output_type": "stream",
     "text": [
      "\n"
     ]
    },
    {
     "name": "stdout",
     "output_type": "stream",
     "text": [
      "\n",
      "      Epoch    GPU_mem   box_loss   seg_loss   cls_loss   dfl_loss  Instances       Size\n"
     ]
    },
    {
     "name": "stderr",
     "output_type": "stream",
     "text": [
      "     67/200      5.18G      1.141      2.514      1.614      0.957         30        768: 100%|██████████| 166/166 [00:36<00:00,  4.51it/s]\n",
      "                 Class     Images  Instances      Box(P          R      mAP50  mAP50-95)     Mask(P          R      mAP50  mAP50-95): 100%|██████████| 26/26 [00:06<00:00,  3.89it/s]"
     ]
    },
    {
     "name": "stdout",
     "output_type": "stream",
     "text": [
      "                   all        807       7092      0.831      0.419      0.475      0.369      0.823      0.411      0.459      0.319\n"
     ]
    },
    {
     "name": "stderr",
     "output_type": "stream",
     "text": [
      "\n"
     ]
    },
    {
     "name": "stdout",
     "output_type": "stream",
     "text": [
      "\n",
      "      Epoch    GPU_mem   box_loss   seg_loss   cls_loss   dfl_loss  Instances       Size\n"
     ]
    },
    {
     "name": "stderr",
     "output_type": "stream",
     "text": [
      "     68/200       6.1G      1.118      2.444      1.574     0.9534         61        768: 100%|██████████| 166/166 [00:35<00:00,  4.65it/s]\n",
      "                 Class     Images  Instances      Box(P          R      mAP50  mAP50-95)     Mask(P          R      mAP50  mAP50-95): 100%|██████████| 26/26 [00:11<00:00,  2.17it/s]"
     ]
    },
    {
     "name": "stdout",
     "output_type": "stream",
     "text": [
      "                   all        807       7092      0.802      0.432      0.476      0.372       0.79       0.42      0.461       0.32\n"
     ]
    },
    {
     "name": "stderr",
     "output_type": "stream",
     "text": [
      "\n"
     ]
    },
    {
     "name": "stdout",
     "output_type": "stream",
     "text": [
      "\n",
      "      Epoch    GPU_mem   box_loss   seg_loss   cls_loss   dfl_loss  Instances       Size\n"
     ]
    },
    {
     "name": "stderr",
     "output_type": "stream",
     "text": [
      "     69/200      6.94G      1.136      2.503      1.571     0.9574         47        768: 100%|██████████| 166/166 [00:34<00:00,  4.79it/s]\n",
      "                 Class     Images  Instances      Box(P          R      mAP50  mAP50-95)     Mask(P          R      mAP50  mAP50-95): 100%|██████████| 26/26 [00:08<00:00,  3.00it/s]"
     ]
    },
    {
     "name": "stdout",
     "output_type": "stream",
     "text": [
      "                   all        807       7092      0.804      0.431      0.478      0.373      0.812      0.414      0.462      0.319\n"
     ]
    },
    {
     "name": "stderr",
     "output_type": "stream",
     "text": [
      "\n"
     ]
    },
    {
     "name": "stdout",
     "output_type": "stream",
     "text": [
      "\n",
      "      Epoch    GPU_mem   box_loss   seg_loss   cls_loss   dfl_loss  Instances       Size\n"
     ]
    },
    {
     "name": "stderr",
     "output_type": "stream",
     "text": [
      "     70/200      6.59G      1.124      2.484      1.583     0.9527         70        768: 100%|██████████| 166/166 [00:34<00:00,  4.76it/s]\n",
      "                 Class     Images  Instances      Box(P          R      mAP50  mAP50-95)     Mask(P          R      mAP50  mAP50-95): 100%|██████████| 26/26 [00:07<00:00,  3.38it/s]"
     ]
    },
    {
     "name": "stdout",
     "output_type": "stream",
     "text": [
      "                   all        807       7092      0.806      0.431      0.479      0.374      0.793       0.42      0.463      0.321\n"
     ]
    },
    {
     "name": "stderr",
     "output_type": "stream",
     "text": [
      "\n"
     ]
    },
    {
     "name": "stdout",
     "output_type": "stream",
     "text": [
      "\n",
      "      Epoch    GPU_mem   box_loss   seg_loss   cls_loss   dfl_loss  Instances       Size\n"
     ]
    },
    {
     "name": "stderr",
     "output_type": "stream",
     "text": [
      "     71/200      6.64G      1.122      2.486      1.571     0.9511         83        768: 100%|██████████| 166/166 [00:35<00:00,  4.72it/s]\n",
      "                 Class     Images  Instances      Box(P          R      mAP50  mAP50-95)     Mask(P          R      mAP50  mAP50-95): 100%|██████████| 26/26 [00:08<00:00,  3.15it/s]"
     ]
    },
    {
     "name": "stdout",
     "output_type": "stream",
     "text": [
      "                   all        807       7092       0.84      0.419      0.479      0.373      0.823      0.411      0.464       0.32\n"
     ]
    },
    {
     "name": "stderr",
     "output_type": "stream",
     "text": [
      "\n"
     ]
    },
    {
     "name": "stdout",
     "output_type": "stream",
     "text": [
      "\n",
      "      Epoch    GPU_mem   box_loss   seg_loss   cls_loss   dfl_loss  Instances       Size\n"
     ]
    },
    {
     "name": "stderr",
     "output_type": "stream",
     "text": [
      "     72/200      6.33G      1.109      2.452      1.548     0.9423         43        768: 100%|██████████| 166/166 [00:35<00:00,  4.72it/s]\n",
      "                 Class     Images  Instances      Box(P          R      mAP50  mAP50-95)     Mask(P          R      mAP50  mAP50-95): 100%|██████████| 26/26 [00:15<00:00,  1.72it/s]"
     ]
    },
    {
     "name": "stdout",
     "output_type": "stream",
     "text": [
      "                   all        807       7092      0.838      0.422      0.479      0.376      0.833       0.41      0.462       0.32\n"
     ]
    },
    {
     "name": "stderr",
     "output_type": "stream",
     "text": [
      "\n"
     ]
    },
    {
     "name": "stdout",
     "output_type": "stream",
     "text": [
      "\n",
      "      Epoch    GPU_mem   box_loss   seg_loss   cls_loss   dfl_loss  Instances       Size\n"
     ]
    },
    {
     "name": "stderr",
     "output_type": "stream",
     "text": [
      "     73/200      5.94G      1.119      2.462      1.541     0.9517         82        768: 100%|██████████| 166/166 [00:35<00:00,  4.74it/s]\n",
      "                 Class     Images  Instances      Box(P          R      mAP50  mAP50-95)     Mask(P          R      mAP50  mAP50-95): 100%|██████████| 26/26 [00:10<00:00,  2.55it/s]"
     ]
    },
    {
     "name": "stdout",
     "output_type": "stream",
     "text": [
      "                   all        807       7092      0.827      0.428      0.477      0.372      0.806      0.419      0.462      0.318\n"
     ]
    },
    {
     "name": "stderr",
     "output_type": "stream",
     "text": [
      "\n"
     ]
    },
    {
     "name": "stdout",
     "output_type": "stream",
     "text": [
      "\n",
      "      Epoch    GPU_mem   box_loss   seg_loss   cls_loss   dfl_loss  Instances       Size\n"
     ]
    },
    {
     "name": "stderr",
     "output_type": "stream",
     "text": [
      "     74/200      5.98G      1.102      2.437      1.521     0.9472         30        768: 100%|██████████| 166/166 [00:34<00:00,  4.75it/s]\n",
      "                 Class     Images  Instances      Box(P          R      mAP50  mAP50-95)     Mask(P          R      mAP50  mAP50-95): 100%|██████████| 26/26 [00:08<00:00,  2.96it/s]"
     ]
    },
    {
     "name": "stdout",
     "output_type": "stream",
     "text": [
      "                   all        807       7092      0.822      0.427      0.479      0.375      0.823      0.415      0.462      0.322\n"
     ]
    },
    {
     "name": "stderr",
     "output_type": "stream",
     "text": [
      "\n"
     ]
    },
    {
     "name": "stdout",
     "output_type": "stream",
     "text": [
      "\n",
      "      Epoch    GPU_mem   box_loss   seg_loss   cls_loss   dfl_loss  Instances       Size\n"
     ]
    },
    {
     "name": "stderr",
     "output_type": "stream",
     "text": [
      "     75/200      5.88G      1.131      2.479       1.55     0.9482         54        768: 100%|██████████| 166/166 [00:34<00:00,  4.79it/s]\n",
      "                 Class     Images  Instances      Box(P          R      mAP50  mAP50-95)     Mask(P          R      mAP50  mAP50-95): 100%|██████████| 26/26 [00:09<00:00,  2.89it/s]"
     ]
    },
    {
     "name": "stdout",
     "output_type": "stream",
     "text": [
      "                   all        807       7092      0.834      0.429       0.48      0.374      0.831      0.416      0.464      0.321\n"
     ]
    },
    {
     "name": "stderr",
     "output_type": "stream",
     "text": [
      "\n"
     ]
    },
    {
     "name": "stdout",
     "output_type": "stream",
     "text": [
      "\n",
      "      Epoch    GPU_mem   box_loss   seg_loss   cls_loss   dfl_loss  Instances       Size\n"
     ]
    },
    {
     "name": "stderr",
     "output_type": "stream",
     "text": [
      "     76/200      7.05G      1.108      2.446      1.507     0.9425         84        768: 100%|██████████| 166/166 [00:35<00:00,  4.63it/s]\n",
      "                 Class     Images  Instances      Box(P          R      mAP50  mAP50-95)     Mask(P          R      mAP50  mAP50-95): 100%|██████████| 26/26 [00:30<00:00,  1.17s/it]"
     ]
    },
    {
     "name": "stdout",
     "output_type": "stream",
     "text": [
      "                   all        807       7092       0.83      0.433      0.481      0.375      0.814      0.421      0.464      0.323\n"
     ]
    },
    {
     "name": "stderr",
     "output_type": "stream",
     "text": [
      "\n"
     ]
    },
    {
     "name": "stdout",
     "output_type": "stream",
     "text": [
      "\n",
      "      Epoch    GPU_mem   box_loss   seg_loss   cls_loss   dfl_loss  Instances       Size\n"
     ]
    },
    {
     "name": "stderr",
     "output_type": "stream",
     "text": [
      "     77/200      6.76G      1.103      2.433       1.51     0.9425         32        768: 100%|██████████| 166/166 [00:36<00:00,  4.51it/s]\n",
      "                 Class     Images  Instances      Box(P          R      mAP50  mAP50-95)     Mask(P          R      mAP50  mAP50-95): 100%|██████████| 26/26 [00:12<00:00,  2.07it/s]"
     ]
    },
    {
     "name": "stdout",
     "output_type": "stream",
     "text": [
      "                   all        807       7092      0.819      0.429      0.478      0.375      0.794       0.42      0.461      0.322\n"
     ]
    },
    {
     "name": "stderr",
     "output_type": "stream",
     "text": [
      "\n"
     ]
    },
    {
     "name": "stdout",
     "output_type": "stream",
     "text": [
      "\n",
      "      Epoch    GPU_mem   box_loss   seg_loss   cls_loss   dfl_loss  Instances       Size\n"
     ]
    },
    {
     "name": "stderr",
     "output_type": "stream",
     "text": [
      "     78/200      7.45G      1.086      2.418      1.504     0.9345         59        768: 100%|██████████| 166/166 [00:36<00:00,  4.50it/s]\n",
      "                 Class     Images  Instances      Box(P          R      mAP50  mAP50-95)     Mask(P          R      mAP50  mAP50-95): 100%|██████████| 26/26 [00:08<00:00,  2.90it/s]"
     ]
    },
    {
     "name": "stdout",
     "output_type": "stream",
     "text": [
      "                   all        807       7092      0.836      0.429      0.484       0.38      0.828      0.416      0.468      0.326\n"
     ]
    },
    {
     "name": "stderr",
     "output_type": "stream",
     "text": [
      "\n"
     ]
    },
    {
     "name": "stdout",
     "output_type": "stream",
     "text": [
      "\n",
      "      Epoch    GPU_mem   box_loss   seg_loss   cls_loss   dfl_loss  Instances       Size\n"
     ]
    },
    {
     "name": "stderr",
     "output_type": "stream",
     "text": [
      "     79/200      6.39G      1.091      2.399      1.485      0.938         75        768: 100%|██████████| 166/166 [00:33<00:00,  4.91it/s]\n",
      "                 Class     Images  Instances      Box(P          R      mAP50  mAP50-95)     Mask(P          R      mAP50  mAP50-95): 100%|██████████| 26/26 [00:07<00:00,  3.29it/s]"
     ]
    },
    {
     "name": "stdout",
     "output_type": "stream",
     "text": [
      "                   all        807       7092      0.835      0.431      0.483       0.38      0.809      0.418      0.465      0.324\n"
     ]
    },
    {
     "name": "stderr",
     "output_type": "stream",
     "text": [
      "\n"
     ]
    },
    {
     "name": "stdout",
     "output_type": "stream",
     "text": [
      "\n",
      "      Epoch    GPU_mem   box_loss   seg_loss   cls_loss   dfl_loss  Instances       Size\n"
     ]
    },
    {
     "name": "stderr",
     "output_type": "stream",
     "text": [
      "     80/200      7.43G      1.089      2.445        1.5     0.9426         30        768: 100%|██████████| 166/166 [00:36<00:00,  4.61it/s]\n",
      "                 Class     Images  Instances      Box(P          R      mAP50  mAP50-95)     Mask(P          R      mAP50  mAP50-95): 100%|██████████| 26/26 [00:10<00:00,  2.57it/s]"
     ]
    },
    {
     "name": "stdout",
     "output_type": "stream",
     "text": [
      "                   all        807       7092      0.827      0.436      0.482      0.377      0.817      0.421      0.465      0.321\n"
     ]
    },
    {
     "name": "stderr",
     "output_type": "stream",
     "text": [
      "\n"
     ]
    },
    {
     "name": "stdout",
     "output_type": "stream",
     "text": [
      "\n",
      "      Epoch    GPU_mem   box_loss   seg_loss   cls_loss   dfl_loss  Instances       Size\n"
     ]
    },
    {
     "name": "stderr",
     "output_type": "stream",
     "text": [
      "     81/200       5.5G      1.087      2.381      1.471     0.9413         57        768: 100%|██████████| 166/166 [00:34<00:00,  4.81it/s]\n",
      "                 Class     Images  Instances      Box(P          R      mAP50  mAP50-95)     Mask(P          R      mAP50  mAP50-95): 100%|██████████| 26/26 [00:06<00:00,  3.89it/s]"
     ]
    },
    {
     "name": "stdout",
     "output_type": "stream",
     "text": [
      "                   all        807       7092      0.827      0.435      0.483       0.38      0.815      0.426      0.466      0.324\n"
     ]
    },
    {
     "name": "stderr",
     "output_type": "stream",
     "text": [
      "\n"
     ]
    },
    {
     "name": "stdout",
     "output_type": "stream",
     "text": [
      "\n",
      "      Epoch    GPU_mem   box_loss   seg_loss   cls_loss   dfl_loss  Instances       Size\n"
     ]
    },
    {
     "name": "stderr",
     "output_type": "stream",
     "text": [
      "     82/200      6.12G      1.105      2.421      1.495     0.9399         17        768: 100%|██████████| 166/166 [00:34<00:00,  4.78it/s]\n",
      "                 Class     Images  Instances      Box(P          R      mAP50  mAP50-95)     Mask(P          R      mAP50  mAP50-95): 100%|██████████| 26/26 [00:09<00:00,  2.86it/s]"
     ]
    },
    {
     "name": "stdout",
     "output_type": "stream",
     "text": [
      "                   all        807       7092       0.83      0.437      0.485      0.383      0.822      0.423      0.468      0.326\n"
     ]
    },
    {
     "name": "stderr",
     "output_type": "stream",
     "text": [
      "\n"
     ]
    },
    {
     "name": "stdout",
     "output_type": "stream",
     "text": [
      "\n",
      "      Epoch    GPU_mem   box_loss   seg_loss   cls_loss   dfl_loss  Instances       Size\n"
     ]
    },
    {
     "name": "stderr",
     "output_type": "stream",
     "text": [
      "     83/200      5.43G       1.08      2.395      1.474     0.9365         35        768: 100%|██████████| 166/166 [00:34<00:00,  4.75it/s]\n",
      "                 Class     Images  Instances      Box(P          R      mAP50  mAP50-95)     Mask(P          R      mAP50  mAP50-95): 100%|██████████| 26/26 [00:06<00:00,  3.72it/s]"
     ]
    },
    {
     "name": "stdout",
     "output_type": "stream",
     "text": [
      "                   all        807       7092      0.841      0.432      0.482      0.379      0.844      0.418      0.466      0.323\n"
     ]
    },
    {
     "name": "stderr",
     "output_type": "stream",
     "text": [
      "\n"
     ]
    },
    {
     "name": "stdout",
     "output_type": "stream",
     "text": [
      "\n",
      "      Epoch    GPU_mem   box_loss   seg_loss   cls_loss   dfl_loss  Instances       Size\n"
     ]
    },
    {
     "name": "stderr",
     "output_type": "stream",
     "text": [
      "     84/200      7.56G      1.089      2.417      1.475     0.9364         89        768: 100%|██████████| 166/166 [00:35<00:00,  4.68it/s]\n",
      "                 Class     Images  Instances      Box(P          R      mAP50  mAP50-95)     Mask(P          R      mAP50  mAP50-95): 100%|██████████| 26/26 [00:08<00:00,  3.13it/s]"
     ]
    },
    {
     "name": "stdout",
     "output_type": "stream",
     "text": [
      "                   all        807       7092       0.82      0.444      0.486      0.381      0.804       0.43       0.47      0.327\n"
     ]
    },
    {
     "name": "stderr",
     "output_type": "stream",
     "text": [
      "\n"
     ]
    },
    {
     "name": "stdout",
     "output_type": "stream",
     "text": [
      "\n",
      "      Epoch    GPU_mem   box_loss   seg_loss   cls_loss   dfl_loss  Instances       Size\n"
     ]
    },
    {
     "name": "stderr",
     "output_type": "stream",
     "text": [
      "     85/200      6.65G      1.078      2.368      1.464     0.9339         50        768: 100%|██████████| 166/166 [00:34<00:00,  4.75it/s]\n",
      "                 Class     Images  Instances      Box(P          R      mAP50  mAP50-95)     Mask(P          R      mAP50  mAP50-95): 100%|██████████| 26/26 [00:12<00:00,  2.14it/s]\n"
     ]
    },
    {
     "name": "stdout",
     "output_type": "stream",
     "text": [
      "                   all        807       7092      0.835      0.437      0.486      0.382      0.826      0.423      0.469      0.328\n",
      "\n",
      "      Epoch    GPU_mem   box_loss   seg_loss   cls_loss   dfl_loss  Instances       Size\n"
     ]
    },
    {
     "name": "stderr",
     "output_type": "stream",
     "text": [
      "     86/200      7.06G       1.08      2.392      1.447      0.931         34        768: 100%|██████████| 166/166 [00:35<00:00,  4.62it/s]\n",
      "                 Class     Images  Instances      Box(P          R      mAP50  mAP50-95)     Mask(P          R      mAP50  mAP50-95): 100%|██████████| 26/26 [00:09<00:00,  2.87it/s]"
     ]
    },
    {
     "name": "stdout",
     "output_type": "stream",
     "text": [
      "                   all        807       7092      0.835      0.434      0.484      0.382      0.825       0.42      0.467      0.326\n"
     ]
    },
    {
     "name": "stderr",
     "output_type": "stream",
     "text": [
      "\n"
     ]
    },
    {
     "name": "stdout",
     "output_type": "stream",
     "text": [
      "\n",
      "      Epoch    GPU_mem   box_loss   seg_loss   cls_loss   dfl_loss  Instances       Size\n"
     ]
    },
    {
     "name": "stderr",
     "output_type": "stream",
     "text": [
      "     87/200      6.09G      1.079       2.36      1.448     0.9363         86        768: 100%|██████████| 166/166 [00:35<00:00,  4.67it/s]\n",
      "                 Class     Images  Instances      Box(P          R      mAP50  mAP50-95)     Mask(P          R      mAP50  mAP50-95): 100%|██████████| 26/26 [00:09<00:00,  2.88it/s]"
     ]
    },
    {
     "name": "stdout",
     "output_type": "stream",
     "text": [
      "                   all        807       7092      0.812      0.439      0.486      0.381      0.824      0.421      0.467      0.328\n"
     ]
    },
    {
     "name": "stderr",
     "output_type": "stream",
     "text": [
      "\n"
     ]
    },
    {
     "name": "stdout",
     "output_type": "stream",
     "text": [
      "\n",
      "      Epoch    GPU_mem   box_loss   seg_loss   cls_loss   dfl_loss  Instances       Size\n"
     ]
    },
    {
     "name": "stderr",
     "output_type": "stream",
     "text": [
      "     88/200      5.97G      1.073      2.382      1.438      0.929        143        768: 100%|██████████| 166/166 [00:34<00:00,  4.82it/s]\n",
      "                 Class     Images  Instances      Box(P          R      mAP50  mAP50-95)     Mask(P          R      mAP50  mAP50-95): 100%|██████████| 26/26 [00:08<00:00,  3.01it/s]"
     ]
    },
    {
     "name": "stdout",
     "output_type": "stream",
     "text": [
      "                   all        807       7092      0.822      0.441      0.486      0.386      0.833      0.422       0.47       0.33\n"
     ]
    },
    {
     "name": "stderr",
     "output_type": "stream",
     "text": [
      "\n"
     ]
    },
    {
     "name": "stdout",
     "output_type": "stream",
     "text": [
      "\n",
      "      Epoch    GPU_mem   box_loss   seg_loss   cls_loss   dfl_loss  Instances       Size\n"
     ]
    },
    {
     "name": "stderr",
     "output_type": "stream",
     "text": [
      "     89/200      7.03G      1.074      2.366      1.445     0.9306        105        768: 100%|██████████| 166/166 [00:34<00:00,  4.83it/s]\n",
      "                 Class     Images  Instances      Box(P          R      mAP50  mAP50-95)     Mask(P          R      mAP50  mAP50-95): 100%|██████████| 26/26 [00:10<00:00,  2.57it/s]"
     ]
    },
    {
     "name": "stdout",
     "output_type": "stream",
     "text": [
      "                   all        807       7092      0.823      0.439      0.486      0.386      0.824      0.423       0.47      0.329\n"
     ]
    },
    {
     "name": "stderr",
     "output_type": "stream",
     "text": [
      "\n"
     ]
    },
    {
     "name": "stdout",
     "output_type": "stream",
     "text": [
      "\n",
      "      Epoch    GPU_mem   box_loss   seg_loss   cls_loss   dfl_loss  Instances       Size\n"
     ]
    },
    {
     "name": "stderr",
     "output_type": "stream",
     "text": [
      "     90/200      6.81G      1.082      2.388      1.443     0.9351         74        768: 100%|██████████| 166/166 [00:35<00:00,  4.63it/s]\n",
      "                 Class     Images  Instances      Box(P          R      mAP50  mAP50-95)     Mask(P          R      mAP50  mAP50-95): 100%|██████████| 26/26 [00:10<00:00,  2.54it/s]"
     ]
    },
    {
     "name": "stdout",
     "output_type": "stream",
     "text": [
      "                   all        807       7092      0.844      0.438       0.49      0.387      0.844      0.419      0.471      0.331\n"
     ]
    },
    {
     "name": "stderr",
     "output_type": "stream",
     "text": [
      "\n"
     ]
    },
    {
     "name": "stdout",
     "output_type": "stream",
     "text": [
      "\n",
      "      Epoch    GPU_mem   box_loss   seg_loss   cls_loss   dfl_loss  Instances       Size\n"
     ]
    },
    {
     "name": "stderr",
     "output_type": "stream",
     "text": [
      "     91/200      6.74G      1.066      2.385      1.423     0.9293         41        768: 100%|██████████| 166/166 [00:35<00:00,  4.64it/s]\n",
      "                 Class     Images  Instances      Box(P          R      mAP50  mAP50-95)     Mask(P          R      mAP50  mAP50-95): 100%|██████████| 26/26 [00:07<00:00,  3.31it/s]"
     ]
    },
    {
     "name": "stdout",
     "output_type": "stream",
     "text": [
      "                   all        807       7092      0.842      0.444      0.489      0.385      0.844      0.426      0.471      0.328\n"
     ]
    },
    {
     "name": "stderr",
     "output_type": "stream",
     "text": [
      "\n"
     ]
    },
    {
     "name": "stdout",
     "output_type": "stream",
     "text": [
      "\n",
      "      Epoch    GPU_mem   box_loss   seg_loss   cls_loss   dfl_loss  Instances       Size\n"
     ]
    },
    {
     "name": "stderr",
     "output_type": "stream",
     "text": [
      "     92/200      5.64G      1.055      2.336      1.398     0.9264         43        768: 100%|██████████| 166/166 [00:36<00:00,  4.52it/s]\n",
      "                 Class     Images  Instances      Box(P          R      mAP50  mAP50-95)     Mask(P          R      mAP50  mAP50-95): 100%|██████████| 26/26 [00:08<00:00,  3.18it/s]"
     ]
    },
    {
     "name": "stdout",
     "output_type": "stream",
     "text": [
      "                   all        807       7092      0.845      0.445      0.487      0.385      0.832      0.432      0.471       0.33\n"
     ]
    },
    {
     "name": "stderr",
     "output_type": "stream",
     "text": [
      "\n"
     ]
    },
    {
     "name": "stdout",
     "output_type": "stream",
     "text": [
      "\n",
      "      Epoch    GPU_mem   box_loss   seg_loss   cls_loss   dfl_loss  Instances       Size\n"
     ]
    },
    {
     "name": "stderr",
     "output_type": "stream",
     "text": [
      "     93/200      7.44G      1.073      2.351      1.424     0.9292        169        768: 100%|██████████| 166/166 [00:42<00:00,  3.93it/s]\n",
      "                 Class     Images  Instances      Box(P          R      mAP50  mAP50-95)     Mask(P          R      mAP50  mAP50-95): 100%|██████████| 26/26 [00:20<00:00,  1.27it/s]"
     ]
    },
    {
     "name": "stdout",
     "output_type": "stream",
     "text": [
      "                   all        807       7092      0.856      0.439      0.492       0.39       0.85      0.422      0.474      0.332\n"
     ]
    },
    {
     "name": "stderr",
     "output_type": "stream",
     "text": [
      "\n"
     ]
    },
    {
     "name": "stdout",
     "output_type": "stream",
     "text": [
      "\n",
      "      Epoch    GPU_mem   box_loss   seg_loss   cls_loss   dfl_loss  Instances       Size\n"
     ]
    },
    {
     "name": "stderr",
     "output_type": "stream",
     "text": [
      "     94/200      6.19G      1.051      2.353      1.413     0.9238         74        768: 100%|██████████| 166/166 [00:37<00:00,  4.47it/s]\n",
      "                 Class     Images  Instances      Box(P          R      mAP50  mAP50-95)     Mask(P          R      mAP50  mAP50-95): 100%|██████████| 26/26 [00:21<00:00,  1.19it/s]"
     ]
    },
    {
     "name": "stdout",
     "output_type": "stream",
     "text": [
      "                   all        807       7092      0.847      0.446      0.492       0.39      0.846      0.429      0.473      0.329\n"
     ]
    },
    {
     "name": "stderr",
     "output_type": "stream",
     "text": [
      "\n"
     ]
    },
    {
     "name": "stdout",
     "output_type": "stream",
     "text": [
      "\n",
      "      Epoch    GPU_mem   box_loss   seg_loss   cls_loss   dfl_loss  Instances       Size\n"
     ]
    },
    {
     "name": "stderr",
     "output_type": "stream",
     "text": [
      "     95/200      7.13G      1.067      2.385      1.416     0.9252         32        768: 100%|██████████| 166/166 [00:37<00:00,  4.37it/s]\n",
      "                 Class     Images  Instances      Box(P          R      mAP50  mAP50-95)     Mask(P          R      mAP50  mAP50-95): 100%|██████████| 26/26 [00:09<00:00,  2.84it/s]"
     ]
    },
    {
     "name": "stdout",
     "output_type": "stream",
     "text": [
      "                   all        807       7092      0.848      0.439      0.492      0.391      0.849      0.423      0.475      0.333\n"
     ]
    },
    {
     "name": "stderr",
     "output_type": "stream",
     "text": [
      "\n"
     ]
    },
    {
     "name": "stdout",
     "output_type": "stream",
     "text": [
      "\n",
      "      Epoch    GPU_mem   box_loss   seg_loss   cls_loss   dfl_loss  Instances       Size\n"
     ]
    },
    {
     "name": "stderr",
     "output_type": "stream",
     "text": [
      "     96/200      6.05G      1.057      2.331      1.391     0.9243         49        768: 100%|██████████| 166/166 [00:34<00:00,  4.79it/s]\n",
      "                 Class     Images  Instances      Box(P          R      mAP50  mAP50-95)     Mask(P          R      mAP50  mAP50-95): 100%|██████████| 26/26 [00:06<00:00,  3.77it/s]"
     ]
    },
    {
     "name": "stdout",
     "output_type": "stream",
     "text": [
      "                   all        807       7092      0.847      0.447      0.493      0.393      0.828      0.436      0.479      0.335\n"
     ]
    },
    {
     "name": "stderr",
     "output_type": "stream",
     "text": [
      "\n"
     ]
    },
    {
     "name": "stdout",
     "output_type": "stream",
     "text": [
      "\n",
      "      Epoch    GPU_mem   box_loss   seg_loss   cls_loss   dfl_loss  Instances       Size\n"
     ]
    },
    {
     "name": "stderr",
     "output_type": "stream",
     "text": [
      "     97/200      5.72G      1.064       2.34       1.39     0.9201        139        768: 100%|██████████| 166/166 [00:34<00:00,  4.83it/s]\n",
      "                 Class     Images  Instances      Box(P          R      mAP50  mAP50-95)     Mask(P          R      mAP50  mAP50-95): 100%|██████████| 26/26 [00:06<00:00,  4.02it/s]"
     ]
    },
    {
     "name": "stdout",
     "output_type": "stream",
     "text": [
      "                   all        807       7092       0.86      0.442      0.493      0.394      0.844      0.425      0.474      0.335\n"
     ]
    },
    {
     "name": "stderr",
     "output_type": "stream",
     "text": [
      "\n"
     ]
    },
    {
     "name": "stdout",
     "output_type": "stream",
     "text": [
      "\n",
      "      Epoch    GPU_mem   box_loss   seg_loss   cls_loss   dfl_loss  Instances       Size\n"
     ]
    },
    {
     "name": "stderr",
     "output_type": "stream",
     "text": [
      "     98/200      5.99G      1.074      2.353      1.391     0.9232        176        768: 100%|██████████| 166/166 [00:34<00:00,  4.80it/s]\n",
      "                 Class     Images  Instances      Box(P          R      mAP50  mAP50-95)     Mask(P          R      mAP50  mAP50-95): 100%|██████████| 26/26 [00:08<00:00,  3.15it/s]"
     ]
    },
    {
     "name": "stdout",
     "output_type": "stream",
     "text": [
      "                   all        807       7092      0.827      0.453      0.494      0.394      0.821      0.437      0.478      0.335\n"
     ]
    },
    {
     "name": "stderr",
     "output_type": "stream",
     "text": [
      "\n"
     ]
    },
    {
     "name": "stdout",
     "output_type": "stream",
     "text": [
      "\n",
      "      Epoch    GPU_mem   box_loss   seg_loss   cls_loss   dfl_loss  Instances       Size\n"
     ]
    },
    {
     "name": "stderr",
     "output_type": "stream",
     "text": [
      "     99/200       6.2G      1.055      2.364      1.398     0.9198         32        768: 100%|██████████| 166/166 [00:35<00:00,  4.68it/s]\n",
      "                 Class     Images  Instances      Box(P          R      mAP50  mAP50-95)     Mask(P          R      mAP50  mAP50-95): 100%|██████████| 26/26 [00:07<00:00,  3.53it/s]"
     ]
    },
    {
     "name": "stdout",
     "output_type": "stream",
     "text": [
      "                   all        807       7092      0.844      0.447      0.494      0.394      0.862      0.426      0.476      0.336\n"
     ]
    },
    {
     "name": "stderr",
     "output_type": "stream",
     "text": [
      "\n"
     ]
    },
    {
     "name": "stdout",
     "output_type": "stream",
     "text": [
      "\n",
      "      Epoch    GPU_mem   box_loss   seg_loss   cls_loss   dfl_loss  Instances       Size\n"
     ]
    },
    {
     "name": "stderr",
     "output_type": "stream",
     "text": [
      "    100/200      5.45G      1.057      2.361      1.394     0.9207         72        768: 100%|██████████| 166/166 [00:35<00:00,  4.68it/s]\n",
      "                 Class     Images  Instances      Box(P          R      mAP50  mAP50-95)     Mask(P          R      mAP50  mAP50-95): 100%|██████████| 26/26 [00:08<00:00,  3.14it/s]"
     ]
    },
    {
     "name": "stdout",
     "output_type": "stream",
     "text": [
      "                   all        807       7092      0.869      0.445      0.496      0.395      0.872      0.428      0.482      0.334\n"
     ]
    },
    {
     "name": "stderr",
     "output_type": "stream",
     "text": [
      "\n"
     ]
    },
    {
     "name": "stdout",
     "output_type": "stream",
     "text": [
      "\n",
      "      Epoch    GPU_mem   box_loss   seg_loss   cls_loss   dfl_loss  Instances       Size\n"
     ]
    },
    {
     "name": "stderr",
     "output_type": "stream",
     "text": [
      "    101/200      6.21G       1.04       2.31      1.353     0.9167         99        768: 100%|██████████| 166/166 [00:33<00:00,  4.90it/s]\n",
      "                 Class     Images  Instances      Box(P          R      mAP50  mAP50-95)     Mask(P          R      mAP50  mAP50-95): 100%|██████████| 26/26 [00:17<00:00,  1.51it/s]"
     ]
    },
    {
     "name": "stdout",
     "output_type": "stream",
     "text": [
      "                   all        807       7092      0.829      0.451      0.495      0.394      0.831      0.433      0.479      0.336\n"
     ]
    },
    {
     "name": "stderr",
     "output_type": "stream",
     "text": [
      "\n"
     ]
    },
    {
     "name": "stdout",
     "output_type": "stream",
     "text": [
      "\n",
      "      Epoch    GPU_mem   box_loss   seg_loss   cls_loss   dfl_loss  Instances       Size\n"
     ]
    },
    {
     "name": "stderr",
     "output_type": "stream",
     "text": [
      "    102/200      6.02G      1.036      2.288      1.356     0.9114         43        768: 100%|██████████| 166/166 [00:34<00:00,  4.82it/s]\n",
      "                 Class     Images  Instances      Box(P          R      mAP50  mAP50-95)     Mask(P          R      mAP50  mAP50-95): 100%|██████████| 26/26 [00:09<00:00,  2.62it/s]"
     ]
    },
    {
     "name": "stdout",
     "output_type": "stream",
     "text": [
      "                   all        807       7092      0.816      0.454      0.495      0.396      0.817      0.438      0.481      0.337\n"
     ]
    },
    {
     "name": "stderr",
     "output_type": "stream",
     "text": [
      "\n"
     ]
    },
    {
     "name": "stdout",
     "output_type": "stream",
     "text": [
      "\n",
      "      Epoch    GPU_mem   box_loss   seg_loss   cls_loss   dfl_loss  Instances       Size\n"
     ]
    },
    {
     "name": "stderr",
     "output_type": "stream",
     "text": [
      "    103/200      6.32G      1.039      2.322      1.352     0.9133         57        768: 100%|██████████| 166/166 [00:33<00:00,  4.89it/s]\n",
      "                 Class     Images  Instances      Box(P          R      mAP50  mAP50-95)     Mask(P          R      mAP50  mAP50-95): 100%|██████████| 26/26 [00:07<00:00,  3.64it/s]"
     ]
    },
    {
     "name": "stdout",
     "output_type": "stream",
     "text": [
      "                   all        807       7092      0.858      0.443      0.497      0.398       0.84      0.436      0.484      0.337\n"
     ]
    },
    {
     "name": "stderr",
     "output_type": "stream",
     "text": [
      "\n"
     ]
    },
    {
     "name": "stdout",
     "output_type": "stream",
     "text": [
      "\n",
      "      Epoch    GPU_mem   box_loss   seg_loss   cls_loss   dfl_loss  Instances       Size\n"
     ]
    },
    {
     "name": "stderr",
     "output_type": "stream",
     "text": [
      "    104/200      6.04G      1.044      2.314      1.362     0.9167         37        768: 100%|██████████| 166/166 [00:34<00:00,  4.86it/s]\n",
      "                 Class     Images  Instances      Box(P          R      mAP50  mAP50-95)     Mask(P          R      mAP50  mAP50-95): 100%|██████████| 26/26 [00:06<00:00,  4.15it/s]"
     ]
    },
    {
     "name": "stdout",
     "output_type": "stream",
     "text": [
      "                   all        807       7092      0.843      0.446      0.494      0.397      0.838      0.431      0.477      0.336\n"
     ]
    },
    {
     "name": "stderr",
     "output_type": "stream",
     "text": [
      "\n"
     ]
    },
    {
     "name": "stdout",
     "output_type": "stream",
     "text": [
      "\n",
      "      Epoch    GPU_mem   box_loss   seg_loss   cls_loss   dfl_loss  Instances       Size\n"
     ]
    },
    {
     "name": "stderr",
     "output_type": "stream",
     "text": [
      "    105/200      6.32G      1.038      2.302      1.337     0.9164         49        768: 100%|██████████| 166/166 [00:33<00:00,  4.89it/s]\n",
      "                 Class     Images  Instances      Box(P          R      mAP50  mAP50-95)     Mask(P          R      mAP50  mAP50-95): 100%|██████████| 26/26 [00:11<00:00,  2.23it/s]"
     ]
    },
    {
     "name": "stdout",
     "output_type": "stream",
     "text": [
      "                   all        807       7092      0.839       0.45      0.496      0.397      0.829      0.438      0.485      0.337\n"
     ]
    },
    {
     "name": "stderr",
     "output_type": "stream",
     "text": [
      "\n"
     ]
    },
    {
     "name": "stdout",
     "output_type": "stream",
     "text": [
      "\n",
      "      Epoch    GPU_mem   box_loss   seg_loss   cls_loss   dfl_loss  Instances       Size\n"
     ]
    },
    {
     "name": "stderr",
     "output_type": "stream",
     "text": [
      "    106/200      6.34G      1.027      2.287      1.336     0.9141         78        768: 100%|██████████| 166/166 [00:34<00:00,  4.75it/s]\n",
      "                 Class     Images  Instances      Box(P          R      mAP50  mAP50-95)     Mask(P          R      mAP50  mAP50-95): 100%|██████████| 26/26 [00:10<00:00,  2.54it/s]"
     ]
    },
    {
     "name": "stdout",
     "output_type": "stream",
     "text": [
      "                   all        807       7092      0.859       0.45        0.5      0.401      0.833      0.437      0.485      0.341\n"
     ]
    },
    {
     "name": "stderr",
     "output_type": "stream",
     "text": [
      "\n"
     ]
    },
    {
     "name": "stdout",
     "output_type": "stream",
     "text": [
      "\n",
      "      Epoch    GPU_mem   box_loss   seg_loss   cls_loss   dfl_loss  Instances       Size\n"
     ]
    },
    {
     "name": "stderr",
     "output_type": "stream",
     "text": [
      "    107/200      6.37G      1.024      2.299      1.324     0.9084         44        768: 100%|██████████| 166/166 [00:34<00:00,  4.77it/s]\n",
      "                 Class     Images  Instances      Box(P          R      mAP50  mAP50-95)     Mask(P          R      mAP50  mAP50-95): 100%|██████████| 26/26 [00:08<00:00,  2.94it/s]"
     ]
    },
    {
     "name": "stdout",
     "output_type": "stream",
     "text": [
      "                   all        807       7092      0.841      0.448      0.496      0.398      0.831      0.435      0.482      0.337\n"
     ]
    },
    {
     "name": "stderr",
     "output_type": "stream",
     "text": [
      "\n"
     ]
    },
    {
     "name": "stdout",
     "output_type": "stream",
     "text": [
      "\n",
      "      Epoch    GPU_mem   box_loss   seg_loss   cls_loss   dfl_loss  Instances       Size\n"
     ]
    },
    {
     "name": "stderr",
     "output_type": "stream",
     "text": [
      "    108/200      6.61G      1.038      2.312      1.343      0.913         68        768: 100%|██████████| 166/166 [00:34<00:00,  4.83it/s]\n",
      "                 Class     Images  Instances      Box(P          R      mAP50  mAP50-95)     Mask(P          R      mAP50  mAP50-95): 100%|██████████| 26/26 [00:07<00:00,  3.29it/s]"
     ]
    },
    {
     "name": "stdout",
     "output_type": "stream",
     "text": [
      "                   all        807       7092      0.856      0.447      0.501      0.401      0.835      0.434      0.484      0.337\n"
     ]
    },
    {
     "name": "stderr",
     "output_type": "stream",
     "text": [
      "\n"
     ]
    },
    {
     "name": "stdout",
     "output_type": "stream",
     "text": [
      "\n",
      "      Epoch    GPU_mem   box_loss   seg_loss   cls_loss   dfl_loss  Instances       Size\n"
     ]
    },
    {
     "name": "stderr",
     "output_type": "stream",
     "text": [
      "    109/200      6.83G      1.056      2.323      1.335     0.9164         47        768: 100%|██████████| 166/166 [00:34<00:00,  4.81it/s]\n",
      "                 Class     Images  Instances      Box(P          R      mAP50  mAP50-95)     Mask(P          R      mAP50  mAP50-95): 100%|██████████| 26/26 [00:14<00:00,  1.76it/s]"
     ]
    },
    {
     "name": "stdout",
     "output_type": "stream",
     "text": [
      "                   all        807       7092      0.853       0.45        0.5      0.399      0.837      0.439      0.487      0.342\n"
     ]
    },
    {
     "name": "stderr",
     "output_type": "stream",
     "text": [
      "\n"
     ]
    },
    {
     "name": "stdout",
     "output_type": "stream",
     "text": [
      "\n",
      "      Epoch    GPU_mem   box_loss   seg_loss   cls_loss   dfl_loss  Instances       Size\n"
     ]
    },
    {
     "name": "stderr",
     "output_type": "stream",
     "text": [
      "    110/200       7.1G       1.04      2.308      1.303     0.9124         42        768: 100%|██████████| 166/166 [00:34<00:00,  4.78it/s]\n",
      "                 Class     Images  Instances      Box(P          R      mAP50  mAP50-95)     Mask(P          R      mAP50  mAP50-95): 100%|██████████| 26/26 [00:11<00:00,  2.32it/s]"
     ]
    },
    {
     "name": "stdout",
     "output_type": "stream",
     "text": [
      "                   all        807       7092      0.875      0.447        0.5        0.4      0.853      0.438      0.485       0.34\n"
     ]
    },
    {
     "name": "stderr",
     "output_type": "stream",
     "text": [
      "\n"
     ]
    },
    {
     "name": "stdout",
     "output_type": "stream",
     "text": [
      "\n",
      "      Epoch    GPU_mem   box_loss   seg_loss   cls_loss   dfl_loss  Instances       Size\n"
     ]
    },
    {
     "name": "stderr",
     "output_type": "stream",
     "text": [
      "    111/200      6.02G      1.014      2.263      1.297     0.9076         50        768: 100%|██████████| 166/166 [00:35<00:00,  4.71it/s]\n",
      "                 Class     Images  Instances      Box(P          R      mAP50  mAP50-95)     Mask(P          R      mAP50  mAP50-95): 100%|██████████| 26/26 [00:06<00:00,  4.04it/s]"
     ]
    },
    {
     "name": "stdout",
     "output_type": "stream",
     "text": [
      "                   all        807       7092      0.851      0.454      0.499      0.402      0.839      0.442      0.485      0.341\n"
     ]
    },
    {
     "name": "stderr",
     "output_type": "stream",
     "text": [
      "\n"
     ]
    },
    {
     "name": "stdout",
     "output_type": "stream",
     "text": [
      "\n",
      "      Epoch    GPU_mem   box_loss   seg_loss   cls_loss   dfl_loss  Instances       Size\n"
     ]
    },
    {
     "name": "stderr",
     "output_type": "stream",
     "text": [
      "    112/200      6.55G      1.024      2.283       1.32     0.9062        144        768: 100%|██████████| 166/166 [00:34<00:00,  4.86it/s]\n",
      "                 Class     Images  Instances      Box(P          R      mAP50  mAP50-95)     Mask(P          R      mAP50  mAP50-95): 100%|██████████| 26/26 [00:08<00:00,  3.14it/s]"
     ]
    },
    {
     "name": "stdout",
     "output_type": "stream",
     "text": [
      "                   all        807       7092      0.857      0.452      0.502      0.405      0.853      0.437      0.486      0.344\n"
     ]
    },
    {
     "name": "stderr",
     "output_type": "stream",
     "text": [
      "\n"
     ]
    },
    {
     "name": "stdout",
     "output_type": "stream",
     "text": [
      "\n",
      "      Epoch    GPU_mem   box_loss   seg_loss   cls_loss   dfl_loss  Instances       Size\n"
     ]
    },
    {
     "name": "stderr",
     "output_type": "stream",
     "text": [
      "    113/200      6.41G      1.009       2.25      1.322     0.9071         67        768: 100%|██████████| 166/166 [00:33<00:00,  4.90it/s]\n",
      "                 Class     Images  Instances      Box(P          R      mAP50  mAP50-95)     Mask(P          R      mAP50  mAP50-95): 100%|██████████| 26/26 [00:10<00:00,  2.56it/s]"
     ]
    },
    {
     "name": "stdout",
     "output_type": "stream",
     "text": [
      "                   all        807       7092      0.856      0.454      0.501      0.403      0.846       0.44      0.485      0.343\n"
     ]
    },
    {
     "name": "stderr",
     "output_type": "stream",
     "text": [
      "\n"
     ]
    },
    {
     "name": "stdout",
     "output_type": "stream",
     "text": [
      "\n",
      "      Epoch    GPU_mem   box_loss   seg_loss   cls_loss   dfl_loss  Instances       Size\n"
     ]
    },
    {
     "name": "stderr",
     "output_type": "stream",
     "text": [
      "    114/200      7.06G      1.021       2.28      1.299     0.9011         41        768: 100%|██████████| 166/166 [00:35<00:00,  4.66it/s]\n",
      "                 Class     Images  Instances      Box(P          R      mAP50  mAP50-95)     Mask(P          R      mAP50  mAP50-95): 100%|██████████| 26/26 [00:23<00:00,  1.10it/s]\n"
     ]
    },
    {
     "name": "stdout",
     "output_type": "stream",
     "text": [
      "                   all        807       7092      0.872      0.452      0.502      0.404      0.861      0.436      0.487      0.345\n",
      "\n",
      "      Epoch    GPU_mem   box_loss   seg_loss   cls_loss   dfl_loss  Instances       Size\n"
     ]
    },
    {
     "name": "stderr",
     "output_type": "stream",
     "text": [
      "    115/200      6.37G      1.024      2.287       1.31     0.9102         99        768: 100%|██████████| 166/166 [00:36<00:00,  4.53it/s]\n",
      "                 Class     Images  Instances      Box(P          R      mAP50  mAP50-95)     Mask(P          R      mAP50  mAP50-95): 100%|██████████| 26/26 [00:08<00:00,  2.90it/s]"
     ]
    },
    {
     "name": "stdout",
     "output_type": "stream",
     "text": [
      "                   all        807       7092      0.858      0.451      0.498      0.401      0.847      0.441      0.483      0.343\n"
     ]
    },
    {
     "name": "stderr",
     "output_type": "stream",
     "text": [
      "\n"
     ]
    },
    {
     "name": "stdout",
     "output_type": "stream",
     "text": [
      "\n",
      "      Epoch    GPU_mem   box_loss   seg_loss   cls_loss   dfl_loss  Instances       Size\n"
     ]
    },
    {
     "name": "stderr",
     "output_type": "stream",
     "text": [
      "    116/200      6.81G      1.014      2.282      1.287     0.9044         52        768: 100%|██████████| 166/166 [00:34<00:00,  4.86it/s]\n",
      "                 Class     Images  Instances      Box(P          R      mAP50  mAP50-95)     Mask(P          R      mAP50  mAP50-95): 100%|██████████| 26/26 [00:08<00:00,  3.23it/s]"
     ]
    },
    {
     "name": "stdout",
     "output_type": "stream",
     "text": [
      "                   all        807       7092      0.876      0.448        0.5      0.402      0.869      0.431      0.482       0.34\n"
     ]
    },
    {
     "name": "stderr",
     "output_type": "stream",
     "text": [
      "\n"
     ]
    },
    {
     "name": "stdout",
     "output_type": "stream",
     "text": [
      "\n",
      "      Epoch    GPU_mem   box_loss   seg_loss   cls_loss   dfl_loss  Instances       Size\n"
     ]
    },
    {
     "name": "stderr",
     "output_type": "stream",
     "text": [
      "    117/200      6.92G      1.029      2.276      1.313      0.906         81        768: 100%|██████████| 166/166 [00:34<00:00,  4.80it/s]\n",
      "                 Class     Images  Instances      Box(P          R      mAP50  mAP50-95)     Mask(P          R      mAP50  mAP50-95): 100%|██████████| 26/26 [00:13<00:00,  1.94it/s]"
     ]
    },
    {
     "name": "stdout",
     "output_type": "stream",
     "text": [
      "                   all        807       7092      0.844      0.454        0.5      0.402      0.841      0.441      0.485      0.343\n"
     ]
    },
    {
     "name": "stderr",
     "output_type": "stream",
     "text": [
      "\n"
     ]
    },
    {
     "name": "stdout",
     "output_type": "stream",
     "text": [
      "\n",
      "      Epoch    GPU_mem   box_loss   seg_loss   cls_loss   dfl_loss  Instances       Size\n"
     ]
    },
    {
     "name": "stderr",
     "output_type": "stream",
     "text": [
      "    118/200      6.11G      1.015      2.257      1.298     0.9058         39        768: 100%|██████████| 166/166 [00:34<00:00,  4.77it/s]\n",
      "                 Class     Images  Instances      Box(P          R      mAP50  mAP50-95)     Mask(P          R      mAP50  mAP50-95): 100%|██████████| 26/26 [00:08<00:00,  3.16it/s]"
     ]
    },
    {
     "name": "stdout",
     "output_type": "stream",
     "text": [
      "                   all        807       7092      0.849      0.456        0.5      0.402      0.864      0.439      0.487      0.343\n"
     ]
    },
    {
     "name": "stderr",
     "output_type": "stream",
     "text": [
      "\n"
     ]
    },
    {
     "name": "stdout",
     "output_type": "stream",
     "text": [
      "\n",
      "      Epoch    GPU_mem   box_loss   seg_loss   cls_loss   dfl_loss  Instances       Size\n"
     ]
    },
    {
     "name": "stderr",
     "output_type": "stream",
     "text": [
      "    119/200      4.98G      1.013      2.261      1.283     0.9006         74        768: 100%|██████████| 166/166 [00:34<00:00,  4.84it/s]\n",
      "                 Class     Images  Instances      Box(P          R      mAP50  mAP50-95)     Mask(P          R      mAP50  mAP50-95): 100%|██████████| 26/26 [00:06<00:00,  3.83it/s]"
     ]
    },
    {
     "name": "stdout",
     "output_type": "stream",
     "text": [
      "                   all        807       7092      0.869      0.451        0.5      0.403      0.847      0.439      0.487      0.343\n"
     ]
    },
    {
     "name": "stderr",
     "output_type": "stream",
     "text": [
      "\n"
     ]
    },
    {
     "name": "stdout",
     "output_type": "stream",
     "text": [
      "\n",
      "      Epoch    GPU_mem   box_loss   seg_loss   cls_loss   dfl_loss  Instances       Size\n"
     ]
    },
    {
     "name": "stderr",
     "output_type": "stream",
     "text": [
      "    120/200      6.61G      1.023      2.271      1.298     0.9067         81        768: 100%|██████████| 166/166 [00:34<00:00,  4.81it/s]\n",
      "                 Class     Images  Instances      Box(P          R      mAP50  mAP50-95)     Mask(P          R      mAP50  mAP50-95): 100%|██████████| 26/26 [00:09<00:00,  2.70it/s]"
     ]
    },
    {
     "name": "stdout",
     "output_type": "stream",
     "text": [
      "                   all        807       7092       0.86      0.456      0.503      0.406      0.842      0.443      0.489      0.344\n"
     ]
    },
    {
     "name": "stderr",
     "output_type": "stream",
     "text": [
      "\n"
     ]
    },
    {
     "name": "stdout",
     "output_type": "stream",
     "text": [
      "\n",
      "      Epoch    GPU_mem   box_loss   seg_loss   cls_loss   dfl_loss  Instances       Size\n"
     ]
    },
    {
     "name": "stderr",
     "output_type": "stream",
     "text": [
      "    121/200      6.04G      1.013      2.262      1.274     0.9034         45        768: 100%|██████████| 166/166 [00:34<00:00,  4.84it/s]\n",
      "                 Class     Images  Instances      Box(P          R      mAP50  mAP50-95)     Mask(P          R      mAP50  mAP50-95): 100%|██████████| 26/26 [00:15<00:00,  1.71it/s]"
     ]
    },
    {
     "name": "stdout",
     "output_type": "stream",
     "text": [
      "                   all        807       7092      0.863      0.459      0.506      0.406      0.854      0.446       0.49      0.347\n"
     ]
    },
    {
     "name": "stderr",
     "output_type": "stream",
     "text": [
      "\n"
     ]
    },
    {
     "name": "stdout",
     "output_type": "stream",
     "text": [
      "\n",
      "      Epoch    GPU_mem   box_loss   seg_loss   cls_loss   dfl_loss  Instances       Size\n"
     ]
    },
    {
     "name": "stderr",
     "output_type": "stream",
     "text": [
      "    122/200      5.85G     0.9944      2.227      1.262     0.8993        187        768: 100%|██████████| 166/166 [00:36<00:00,  4.49it/s]\n",
      "                 Class     Images  Instances      Box(P          R      mAP50  mAP50-95)     Mask(P          R      mAP50  mAP50-95): 100%|██████████| 26/26 [00:09<00:00,  2.73it/s]"
     ]
    },
    {
     "name": "stdout",
     "output_type": "stream",
     "text": [
      "                   all        807       7092      0.868      0.456      0.506      0.407      0.862      0.443      0.491      0.347\n"
     ]
    },
    {
     "name": "stderr",
     "output_type": "stream",
     "text": [
      "\n"
     ]
    },
    {
     "name": "stdout",
     "output_type": "stream",
     "text": [
      "\n",
      "      Epoch    GPU_mem   box_loss   seg_loss   cls_loss   dfl_loss  Instances       Size\n"
     ]
    },
    {
     "name": "stderr",
     "output_type": "stream",
     "text": [
      "    123/200      5.72G      1.009      2.229      1.261     0.8989         60        768: 100%|██████████| 166/166 [00:35<00:00,  4.74it/s]\n",
      "                 Class     Images  Instances      Box(P          R      mAP50  mAP50-95)     Mask(P          R      mAP50  mAP50-95): 100%|██████████| 26/26 [00:06<00:00,  3.97it/s]"
     ]
    },
    {
     "name": "stdout",
     "output_type": "stream",
     "text": [
      "                   all        807       7092      0.861      0.459      0.505       0.41      0.847      0.446       0.49      0.348\n"
     ]
    },
    {
     "name": "stderr",
     "output_type": "stream",
     "text": [
      "\n"
     ]
    },
    {
     "name": "stdout",
     "output_type": "stream",
     "text": [
      "\n",
      "      Epoch    GPU_mem   box_loss   seg_loss   cls_loss   dfl_loss  Instances       Size\n"
     ]
    },
    {
     "name": "stderr",
     "output_type": "stream",
     "text": [
      "    124/200      6.43G          1      2.237      1.253     0.8949         25        768: 100%|██████████| 166/166 [00:35<00:00,  4.68it/s]\n",
      "                 Class     Images  Instances      Box(P          R      mAP50  mAP50-95)     Mask(P          R      mAP50  mAP50-95): 100%|██████████| 26/26 [00:08<00:00,  3.07it/s]"
     ]
    },
    {
     "name": "stdout",
     "output_type": "stream",
     "text": [
      "                   all        807       7092      0.865      0.456      0.506      0.412      0.852      0.444      0.493      0.348\n"
     ]
    },
    {
     "name": "stderr",
     "output_type": "stream",
     "text": [
      "\n"
     ]
    },
    {
     "name": "stdout",
     "output_type": "stream",
     "text": [
      "\n",
      "      Epoch    GPU_mem   box_loss   seg_loss   cls_loss   dfl_loss  Instances       Size\n"
     ]
    },
    {
     "name": "stderr",
     "output_type": "stream",
     "text": [
      "    125/200      6.82G     0.9973       2.22      1.251     0.8937         32        768: 100%|██████████| 166/166 [00:35<00:00,  4.65it/s]\n",
      "                 Class     Images  Instances      Box(P          R      mAP50  mAP50-95)     Mask(P          R      mAP50  mAP50-95): 100%|██████████| 26/26 [00:13<00:00,  1.91it/s]"
     ]
    },
    {
     "name": "stdout",
     "output_type": "stream",
     "text": [
      "                   all        807       7092      0.871      0.453      0.504      0.408      0.857       0.44      0.491      0.346\n"
     ]
    },
    {
     "name": "stderr",
     "output_type": "stream",
     "text": [
      "\n"
     ]
    },
    {
     "name": "stdout",
     "output_type": "stream",
     "text": [
      "\n",
      "      Epoch    GPU_mem   box_loss   seg_loss   cls_loss   dfl_loss  Instances       Size\n"
     ]
    },
    {
     "name": "stderr",
     "output_type": "stream",
     "text": [
      "    126/200      6.62G     0.9976      2.213      1.256     0.9009         57        768: 100%|██████████| 166/166 [00:37<00:00,  4.48it/s]\n",
      "                 Class     Images  Instances      Box(P          R      mAP50  mAP50-95)     Mask(P          R      mAP50  mAP50-95): 100%|██████████| 26/26 [00:11<00:00,  2.23it/s]"
     ]
    },
    {
     "name": "stdout",
     "output_type": "stream",
     "text": [
      "                   all        807       7092      0.849      0.458      0.506      0.408      0.866       0.44      0.493      0.348\n"
     ]
    },
    {
     "name": "stderr",
     "output_type": "stream",
     "text": [
      "\n"
     ]
    },
    {
     "name": "stdout",
     "output_type": "stream",
     "text": [
      "\n",
      "      Epoch    GPU_mem   box_loss   seg_loss   cls_loss   dfl_loss  Instances       Size\n"
     ]
    },
    {
     "name": "stderr",
     "output_type": "stream",
     "text": [
      "    127/200      5.63G          1      2.228      1.259     0.8964        102        768: 100%|██████████| 166/166 [00:35<00:00,  4.69it/s]\n",
      "                 Class     Images  Instances      Box(P          R      mAP50  mAP50-95)     Mask(P          R      mAP50  mAP50-95): 100%|██████████| 26/26 [00:09<00:00,  2.69it/s]"
     ]
    },
    {
     "name": "stdout",
     "output_type": "stream",
     "text": [
      "                   all        807       7092      0.884      0.454      0.508       0.41      0.866      0.445      0.494      0.349\n"
     ]
    },
    {
     "name": "stderr",
     "output_type": "stream",
     "text": [
      "\n"
     ]
    },
    {
     "name": "stdout",
     "output_type": "stream",
     "text": [
      "\n",
      "      Epoch    GPU_mem   box_loss   seg_loss   cls_loss   dfl_loss  Instances       Size\n"
     ]
    },
    {
     "name": "stderr",
     "output_type": "stream",
     "text": [
      "    128/200         7G     0.9953      2.229      1.248     0.8956         47        768: 100%|██████████| 166/166 [00:36<00:00,  4.54it/s]\n",
      "                 Class     Images  Instances      Box(P          R      mAP50  mAP50-95)     Mask(P          R      mAP50  mAP50-95): 100%|██████████| 26/26 [00:09<00:00,  2.72it/s]"
     ]
    },
    {
     "name": "stdout",
     "output_type": "stream",
     "text": [
      "                   all        807       7092       0.84       0.46      0.506       0.41      0.814       0.45      0.493      0.349\n"
     ]
    },
    {
     "name": "stderr",
     "output_type": "stream",
     "text": [
      "\n"
     ]
    },
    {
     "name": "stdout",
     "output_type": "stream",
     "text": [
      "\n",
      "      Epoch    GPU_mem   box_loss   seg_loss   cls_loss   dfl_loss  Instances       Size\n"
     ]
    },
    {
     "name": "stderr",
     "output_type": "stream",
     "text": [
      "    129/200      5.57G     0.9974      2.249      1.244     0.8983        177        768: 100%|██████████| 166/166 [00:37<00:00,  4.47it/s]\n",
      "                 Class     Images  Instances      Box(P          R      mAP50  mAP50-95)     Mask(P          R      mAP50  mAP50-95): 100%|██████████| 26/26 [00:17<00:00,  1.51it/s]"
     ]
    },
    {
     "name": "stdout",
     "output_type": "stream",
     "text": [
      "                   all        807       7092      0.875      0.458      0.509      0.412      0.851      0.445      0.491      0.348\n"
     ]
    },
    {
     "name": "stderr",
     "output_type": "stream",
     "text": [
      "\n"
     ]
    },
    {
     "name": "stdout",
     "output_type": "stream",
     "text": [
      "\n",
      "      Epoch    GPU_mem   box_loss   seg_loss   cls_loss   dfl_loss  Instances       Size\n"
     ]
    },
    {
     "name": "stderr",
     "output_type": "stream",
     "text": [
      "    130/200      5.71G      1.002      2.245      1.247     0.8973         36        768: 100%|██████████| 166/166 [00:40<00:00,  4.06it/s]\n",
      "                 Class     Images  Instances      Box(P          R      mAP50  mAP50-95)     Mask(P          R      mAP50  mAP50-95): 100%|██████████| 26/26 [00:25<00:00,  1.02it/s]"
     ]
    },
    {
     "name": "stdout",
     "output_type": "stream",
     "text": [
      "                   all        807       7092      0.883      0.457      0.509      0.409       0.86      0.445      0.491      0.347\n"
     ]
    },
    {
     "name": "stderr",
     "output_type": "stream",
     "text": [
      "\n"
     ]
    },
    {
     "name": "stdout",
     "output_type": "stream",
     "text": [
      "\n",
      "      Epoch    GPU_mem   box_loss   seg_loss   cls_loss   dfl_loss  Instances       Size\n"
     ]
    },
    {
     "name": "stderr",
     "output_type": "stream",
     "text": [
      "    131/200      6.89G     0.9922      2.223      1.253     0.8955         32        768: 100%|██████████| 166/166 [00:38<00:00,  4.32it/s]\n",
      "                 Class     Images  Instances      Box(P          R      mAP50  mAP50-95)     Mask(P          R      mAP50  mAP50-95): 100%|██████████| 26/26 [00:10<00:00,  2.60it/s]"
     ]
    },
    {
     "name": "stdout",
     "output_type": "stream",
     "text": [
      "                   all        807       7092      0.877      0.458      0.509      0.411       0.87      0.445      0.495      0.351\n"
     ]
    },
    {
     "name": "stderr",
     "output_type": "stream",
     "text": [
      "\n"
     ]
    },
    {
     "name": "stdout",
     "output_type": "stream",
     "text": [
      "\n",
      "      Epoch    GPU_mem   box_loss   seg_loss   cls_loss   dfl_loss  Instances       Size\n"
     ]
    },
    {
     "name": "stderr",
     "output_type": "stream",
     "text": [
      "    132/200      6.86G     0.9938      2.233      1.239     0.8925         72        768: 100%|██████████| 166/166 [00:35<00:00,  4.70it/s]\n",
      "                 Class     Images  Instances      Box(P          R      mAP50  mAP50-95)     Mask(P          R      mAP50  mAP50-95): 100%|██████████| 26/26 [00:08<00:00,  3.04it/s]"
     ]
    },
    {
     "name": "stdout",
     "output_type": "stream",
     "text": [
      "                   all        807       7092      0.868       0.46      0.507      0.411       0.85      0.446      0.493      0.351\n"
     ]
    },
    {
     "name": "stderr",
     "output_type": "stream",
     "text": [
      "\n"
     ]
    },
    {
     "name": "stdout",
     "output_type": "stream",
     "text": [
      "\n",
      "      Epoch    GPU_mem   box_loss   seg_loss   cls_loss   dfl_loss  Instances       Size\n"
     ]
    },
    {
     "name": "stderr",
     "output_type": "stream",
     "text": [
      "    133/200      5.27G      0.982      2.196      1.219     0.8899        136        768: 100%|██████████| 166/166 [00:34<00:00,  4.83it/s]\n",
      "                 Class     Images  Instances      Box(P          R      mAP50  mAP50-95)     Mask(P          R      mAP50  mAP50-95): 100%|██████████| 26/26 [00:11<00:00,  2.29it/s]"
     ]
    },
    {
     "name": "stdout",
     "output_type": "stream",
     "text": [
      "                   all        807       7092      0.857      0.464      0.509      0.413      0.851      0.445      0.493       0.35\n"
     ]
    },
    {
     "name": "stderr",
     "output_type": "stream",
     "text": [
      "\n"
     ]
    },
    {
     "name": "stdout",
     "output_type": "stream",
     "text": [
      "\n",
      "      Epoch    GPU_mem   box_loss   seg_loss   cls_loss   dfl_loss  Instances       Size\n"
     ]
    },
    {
     "name": "stderr",
     "output_type": "stream",
     "text": [
      "    134/200      6.33G     0.9756      2.197      1.208     0.8903         33        768: 100%|██████████| 166/166 [00:38<00:00,  4.30it/s]\n",
      "                 Class     Images  Instances      Box(P          R      mAP50  mAP50-95)     Mask(P          R      mAP50  mAP50-95): 100%|██████████| 26/26 [00:12<00:00,  2.03it/s]"
     ]
    },
    {
     "name": "stdout",
     "output_type": "stream",
     "text": [
      "                   all        807       7092      0.878      0.457      0.509      0.412      0.864      0.446      0.495       0.35\n"
     ]
    },
    {
     "name": "stderr",
     "output_type": "stream",
     "text": [
      "\n"
     ]
    },
    {
     "name": "stdout",
     "output_type": "stream",
     "text": [
      "\n",
      "      Epoch    GPU_mem   box_loss   seg_loss   cls_loss   dfl_loss  Instances       Size\n"
     ]
    },
    {
     "name": "stderr",
     "output_type": "stream",
     "text": [
      "    135/200      6.17G     0.9903       2.21      1.224     0.8902         88        768: 100%|██████████| 166/166 [00:44<00:00,  3.69it/s]\n",
      "                 Class     Images  Instances      Box(P          R      mAP50  mAP50-95)     Mask(P          R      mAP50  mAP50-95): 100%|██████████| 26/26 [00:09<00:00,  2.77it/s]"
     ]
    },
    {
     "name": "stdout",
     "output_type": "stream",
     "text": [
      "                   all        807       7092      0.867      0.461      0.508      0.413      0.866      0.446      0.496      0.351\n"
     ]
    },
    {
     "name": "stderr",
     "output_type": "stream",
     "text": [
      "\n"
     ]
    },
    {
     "name": "stdout",
     "output_type": "stream",
     "text": [
      "\n",
      "      Epoch    GPU_mem   box_loss   seg_loss   cls_loss   dfl_loss  Instances       Size\n"
     ]
    },
    {
     "name": "stderr",
     "output_type": "stream",
     "text": [
      "    136/200      7.62G     0.9796      2.211       1.23     0.8882         99        768: 100%|██████████| 166/166 [00:35<00:00,  4.63it/s]\n",
      "                 Class     Images  Instances      Box(P          R      mAP50  mAP50-95)     Mask(P          R      mAP50  mAP50-95): 100%|██████████| 26/26 [00:10<00:00,  2.51it/s]"
     ]
    },
    {
     "name": "stdout",
     "output_type": "stream",
     "text": [
      "                   all        807       7092      0.883      0.456      0.509      0.414      0.867      0.445      0.494      0.351\n"
     ]
    },
    {
     "name": "stderr",
     "output_type": "stream",
     "text": [
      "\n"
     ]
    },
    {
     "name": "stdout",
     "output_type": "stream",
     "text": [
      "\n",
      "      Epoch    GPU_mem   box_loss   seg_loss   cls_loss   dfl_loss  Instances       Size\n"
     ]
    },
    {
     "name": "stderr",
     "output_type": "stream",
     "text": [
      "    137/200      6.92G     0.9945      2.228      1.217     0.8913         65        768: 100%|██████████| 166/166 [00:34<00:00,  4.86it/s]\n",
      "                 Class     Images  Instances      Box(P          R      mAP50  mAP50-95)     Mask(P          R      mAP50  mAP50-95): 100%|██████████| 26/26 [00:14<00:00,  1.78it/s]\n"
     ]
    },
    {
     "name": "stdout",
     "output_type": "stream",
     "text": [
      "                   all        807       7092      0.886      0.458      0.509      0.413      0.869      0.445      0.493      0.353\n",
      "\n",
      "      Epoch    GPU_mem   box_loss   seg_loss   cls_loss   dfl_loss  Instances       Size\n"
     ]
    },
    {
     "name": "stderr",
     "output_type": "stream",
     "text": [
      "    138/200      5.96G     0.9728      2.175      1.211     0.8858         37        768: 100%|██████████| 166/166 [00:36<00:00,  4.53it/s]\n",
      "                 Class     Images  Instances      Box(P          R      mAP50  mAP50-95)     Mask(P          R      mAP50  mAP50-95): 100%|██████████| 26/26 [00:07<00:00,  3.63it/s]"
     ]
    },
    {
     "name": "stdout",
     "output_type": "stream",
     "text": [
      "                   all        807       7092      0.862      0.462      0.511      0.416      0.877      0.445      0.497      0.354\n"
     ]
    },
    {
     "name": "stderr",
     "output_type": "stream",
     "text": [
      "\n"
     ]
    },
    {
     "name": "stdout",
     "output_type": "stream",
     "text": [
      "\n",
      "      Epoch    GPU_mem   box_loss   seg_loss   cls_loss   dfl_loss  Instances       Size\n"
     ]
    },
    {
     "name": "stderr",
     "output_type": "stream",
     "text": [
      "    139/200      6.18G      0.966      2.179      1.206     0.8857         93        768: 100%|██████████| 166/166 [00:36<00:00,  4.55it/s]\n",
      "                 Class     Images  Instances      Box(P          R      mAP50  mAP50-95)     Mask(P          R      mAP50  mAP50-95): 100%|██████████| 26/26 [00:08<00:00,  3.00it/s]"
     ]
    },
    {
     "name": "stdout",
     "output_type": "stream",
     "text": [
      "                   all        807       7092      0.865      0.463      0.511      0.415      0.861      0.446      0.496      0.351\n"
     ]
    },
    {
     "name": "stderr",
     "output_type": "stream",
     "text": [
      "\n"
     ]
    },
    {
     "name": "stdout",
     "output_type": "stream",
     "text": [
      "\n",
      "      Epoch    GPU_mem   box_loss   seg_loss   cls_loss   dfl_loss  Instances       Size\n"
     ]
    },
    {
     "name": "stderr",
     "output_type": "stream",
     "text": [
      "    140/200      6.16G     0.9714      2.196      1.212      0.886         28        768: 100%|██████████| 166/166 [00:34<00:00,  4.86it/s]\n",
      "                 Class     Images  Instances      Box(P          R      mAP50  mAP50-95)     Mask(P          R      mAP50  mAP50-95): 100%|██████████| 26/26 [00:07<00:00,  3.66it/s]"
     ]
    },
    {
     "name": "stdout",
     "output_type": "stream",
     "text": [
      "                   all        807       7092      0.879      0.459      0.511      0.416      0.858      0.447      0.497      0.352\n"
     ]
    },
    {
     "name": "stderr",
     "output_type": "stream",
     "text": [
      "\n"
     ]
    },
    {
     "name": "stdout",
     "output_type": "stream",
     "text": [
      "\n",
      "      Epoch    GPU_mem   box_loss   seg_loss   cls_loss   dfl_loss  Instances       Size\n"
     ]
    },
    {
     "name": "stderr",
     "output_type": "stream",
     "text": [
      "    141/200      6.39G     0.9762      2.198      1.207      0.889         68        768: 100%|██████████| 166/166 [00:33<00:00,  4.89it/s]\n",
      "                 Class     Images  Instances      Box(P          R      mAP50  mAP50-95)     Mask(P          R      mAP50  mAP50-95): 100%|██████████| 26/26 [00:08<00:00,  2.91it/s]"
     ]
    },
    {
     "name": "stdout",
     "output_type": "stream",
     "text": [
      "                   all        807       7092      0.865      0.461      0.511      0.416      0.857       0.45      0.497      0.351\n"
     ]
    },
    {
     "name": "stderr",
     "output_type": "stream",
     "text": [
      "\n"
     ]
    },
    {
     "name": "stdout",
     "output_type": "stream",
     "text": [
      "\n",
      "      Epoch    GPU_mem   box_loss   seg_loss   cls_loss   dfl_loss  Instances       Size\n"
     ]
    },
    {
     "name": "stderr",
     "output_type": "stream",
     "text": [
      "    142/200      6.18G     0.9811      2.177      1.214       0.89         31        768: 100%|██████████| 166/166 [00:34<00:00,  4.77it/s]\n",
      "                 Class     Images  Instances      Box(P          R      mAP50  mAP50-95)     Mask(P          R      mAP50  mAP50-95): 100%|██████████| 26/26 [00:09<00:00,  2.65it/s]"
     ]
    },
    {
     "name": "stdout",
     "output_type": "stream",
     "text": [
      "                   all        807       7092      0.865      0.465      0.513      0.417      0.845      0.454      0.499      0.354\n"
     ]
    },
    {
     "name": "stderr",
     "output_type": "stream",
     "text": [
      "\n"
     ]
    },
    {
     "name": "stdout",
     "output_type": "stream",
     "text": [
      "\n",
      "      Epoch    GPU_mem   box_loss   seg_loss   cls_loss   dfl_loss  Instances       Size\n"
     ]
    },
    {
     "name": "stderr",
     "output_type": "stream",
     "text": [
      "    143/200      5.64G     0.9669      2.175      1.194     0.8834         54        768: 100%|██████████| 166/166 [00:34<00:00,  4.75it/s]\n",
      "                 Class     Images  Instances      Box(P          R      mAP50  mAP50-95)     Mask(P          R      mAP50  mAP50-95): 100%|██████████| 26/26 [00:07<00:00,  3.41it/s]"
     ]
    },
    {
     "name": "stdout",
     "output_type": "stream",
     "text": [
      "                   all        807       7092      0.877      0.463      0.515       0.42      0.855      0.451      0.499      0.355\n"
     ]
    },
    {
     "name": "stderr",
     "output_type": "stream",
     "text": [
      "\n"
     ]
    },
    {
     "name": "stdout",
     "output_type": "stream",
     "text": [
      "\n",
      "      Epoch    GPU_mem   box_loss   seg_loss   cls_loss   dfl_loss  Instances       Size\n"
     ]
    },
    {
     "name": "stderr",
     "output_type": "stream",
     "text": [
      "    144/200      6.61G      0.962      2.161      1.183     0.8812         35        768: 100%|██████████| 166/166 [00:34<00:00,  4.87it/s]\n",
      "                 Class     Images  Instances      Box(P          R      mAP50  mAP50-95)     Mask(P          R      mAP50  mAP50-95): 100%|██████████| 26/26 [00:08<00:00,  3.24it/s]"
     ]
    },
    {
     "name": "stdout",
     "output_type": "stream",
     "text": [
      "                   all        807       7092      0.863      0.465      0.515      0.419       0.86      0.451        0.5      0.356\n"
     ]
    },
    {
     "name": "stderr",
     "output_type": "stream",
     "text": [
      "\n"
     ]
    },
    {
     "name": "stdout",
     "output_type": "stream",
     "text": [
      "\n",
      "      Epoch    GPU_mem   box_loss   seg_loss   cls_loss   dfl_loss  Instances       Size\n"
     ]
    },
    {
     "name": "stderr",
     "output_type": "stream",
     "text": [
      "    145/200       6.6G     0.9637       2.18      1.194     0.8841         33        768: 100%|██████████| 166/166 [00:34<00:00,  4.87it/s]\n",
      "                 Class     Images  Instances      Box(P          R      mAP50  mAP50-95)     Mask(P          R      mAP50  mAP50-95): 100%|██████████| 26/26 [00:10<00:00,  2.60it/s]"
     ]
    },
    {
     "name": "stdout",
     "output_type": "stream",
     "text": [
      "                   all        807       7092      0.865      0.461      0.513      0.419      0.875      0.445      0.498      0.353\n"
     ]
    },
    {
     "name": "stderr",
     "output_type": "stream",
     "text": [
      "\n"
     ]
    },
    {
     "name": "stdout",
     "output_type": "stream",
     "text": [
      "\n",
      "      Epoch    GPU_mem   box_loss   seg_loss   cls_loss   dfl_loss  Instances       Size\n"
     ]
    },
    {
     "name": "stderr",
     "output_type": "stream",
     "text": [
      "    146/200      6.38G     0.9774      2.184      1.199     0.8866         29        768: 100%|██████████| 166/166 [00:34<00:00,  4.78it/s]\n",
      "                 Class     Images  Instances      Box(P          R      mAP50  mAP50-95)     Mask(P          R      mAP50  mAP50-95): 100%|██████████| 26/26 [00:08<00:00,  3.15it/s]"
     ]
    },
    {
     "name": "stdout",
     "output_type": "stream",
     "text": [
      "                   all        807       7092      0.849      0.468      0.515      0.418      0.851      0.448      0.499      0.354\n"
     ]
    },
    {
     "name": "stderr",
     "output_type": "stream",
     "text": [
      "\n"
     ]
    },
    {
     "name": "stdout",
     "output_type": "stream",
     "text": [
      "\n",
      "      Epoch    GPU_mem   box_loss   seg_loss   cls_loss   dfl_loss  Instances       Size\n"
     ]
    },
    {
     "name": "stderr",
     "output_type": "stream",
     "text": [
      "    147/200      7.38G     0.9754      2.176      1.186     0.8881         35        768: 100%|██████████| 166/166 [00:34<00:00,  4.84it/s]\n",
      "                 Class     Images  Instances      Box(P          R      mAP50  mAP50-95)     Mask(P          R      mAP50  mAP50-95): 100%|██████████| 26/26 [00:08<00:00,  3.15it/s]"
     ]
    },
    {
     "name": "stdout",
     "output_type": "stream",
     "text": [
      "                   all        807       7092      0.862      0.463      0.512      0.418       0.88      0.446      0.499      0.353\n"
     ]
    },
    {
     "name": "stderr",
     "output_type": "stream",
     "text": [
      "\n"
     ]
    },
    {
     "name": "stdout",
     "output_type": "stream",
     "text": [
      "\n",
      "      Epoch    GPU_mem   box_loss   seg_loss   cls_loss   dfl_loss  Instances       Size\n"
     ]
    },
    {
     "name": "stderr",
     "output_type": "stream",
     "text": [
      "    148/200       6.5G     0.9703      2.185      1.179     0.8781         64        768: 100%|██████████| 166/166 [00:34<00:00,  4.87it/s]\n",
      "                 Class     Images  Instances      Box(P          R      mAP50  mAP50-95)     Mask(P          R      mAP50  mAP50-95): 100%|██████████| 26/26 [00:07<00:00,  3.34it/s]"
     ]
    },
    {
     "name": "stdout",
     "output_type": "stream",
     "text": [
      "                   all        807       7092      0.884       0.46      0.513      0.419      0.869      0.448      0.501      0.355\n"
     ]
    },
    {
     "name": "stderr",
     "output_type": "stream",
     "text": [
      "\n"
     ]
    },
    {
     "name": "stdout",
     "output_type": "stream",
     "text": [
      "\n",
      "      Epoch    GPU_mem   box_loss   seg_loss   cls_loss   dfl_loss  Instances       Size\n"
     ]
    },
    {
     "name": "stderr",
     "output_type": "stream",
     "text": [
      "    149/200      6.03G     0.9535      2.144       1.17     0.8804         74        768: 100%|██████████| 166/166 [00:33<00:00,  4.92it/s]\n",
      "                 Class     Images  Instances      Box(P          R      mAP50  mAP50-95)     Mask(P          R      mAP50  mAP50-95): 100%|██████████| 26/26 [00:12<00:00,  2.15it/s]"
     ]
    },
    {
     "name": "stdout",
     "output_type": "stream",
     "text": [
      "                   all        807       7092      0.874      0.463      0.515      0.422      0.856      0.453      0.501      0.356\n"
     ]
    },
    {
     "name": "stderr",
     "output_type": "stream",
     "text": [
      "\n"
     ]
    },
    {
     "name": "stdout",
     "output_type": "stream",
     "text": [
      "\n",
      "      Epoch    GPU_mem   box_loss   seg_loss   cls_loss   dfl_loss  Instances       Size\n"
     ]
    },
    {
     "name": "stderr",
     "output_type": "stream",
     "text": [
      "    150/200      5.82G     0.9674      2.169      1.185      0.885         64        768: 100%|██████████| 166/166 [00:34<00:00,  4.88it/s]\n",
      "                 Class     Images  Instances      Box(P          R      mAP50  mAP50-95)     Mask(P          R      mAP50  mAP50-95): 100%|██████████| 26/26 [00:09<00:00,  2.72it/s]\n"
     ]
    },
    {
     "name": "stdout",
     "output_type": "stream",
     "text": [
      "                   all        807       7092      0.872      0.466      0.513      0.422       0.87      0.451        0.5      0.357\n",
      "\n",
      "      Epoch    GPU_mem   box_loss   seg_loss   cls_loss   dfl_loss  Instances       Size\n"
     ]
    },
    {
     "name": "stderr",
     "output_type": "stream",
     "text": [
      "    151/200      6.82G     0.9481      2.127      1.152     0.8802         87        768: 100%|██████████| 166/166 [00:37<00:00,  4.45it/s]\n",
      "                 Class     Images  Instances      Box(P          R      mAP50  mAP50-95)     Mask(P          R      mAP50  mAP50-95): 100%|██████████| 26/26 [00:09<00:00,  2.74it/s]"
     ]
    },
    {
     "name": "stdout",
     "output_type": "stream",
     "text": [
      "                   all        807       7092      0.896      0.461      0.515      0.423      0.877      0.449        0.5      0.359\n"
     ]
    },
    {
     "name": "stderr",
     "output_type": "stream",
     "text": [
      "\n"
     ]
    },
    {
     "name": "stdout",
     "output_type": "stream",
     "text": [
      "\n",
      "      Epoch    GPU_mem   box_loss   seg_loss   cls_loss   dfl_loss  Instances       Size\n"
     ]
    },
    {
     "name": "stderr",
     "output_type": "stream",
     "text": [
      "    152/200      6.39G     0.9719      2.187      1.188     0.8794         28        768: 100%|██████████| 166/166 [00:34<00:00,  4.84it/s]\n",
      "                 Class     Images  Instances      Box(P          R      mAP50  mAP50-95)     Mask(P          R      mAP50  mAP50-95): 100%|██████████| 26/26 [00:07<00:00,  3.58it/s]"
     ]
    },
    {
     "name": "stdout",
     "output_type": "stream",
     "text": [
      "                   all        807       7092      0.871      0.465      0.516      0.422      0.877      0.446        0.5      0.358\n"
     ]
    },
    {
     "name": "stderr",
     "output_type": "stream",
     "text": [
      "\n"
     ]
    },
    {
     "name": "stdout",
     "output_type": "stream",
     "text": [
      "\n",
      "      Epoch    GPU_mem   box_loss   seg_loss   cls_loss   dfl_loss  Instances       Size\n"
     ]
    },
    {
     "name": "stderr",
     "output_type": "stream",
     "text": [
      "    153/200      6.36G     0.9633      2.153      1.156     0.8787         29        768: 100%|██████████| 166/166 [00:34<00:00,  4.86it/s]\n",
      "                 Class     Images  Instances      Box(P          R      mAP50  mAP50-95)     Mask(P          R      mAP50  mAP50-95): 100%|██████████| 26/26 [00:13<00:00,  1.96it/s]"
     ]
    },
    {
     "name": "stdout",
     "output_type": "stream",
     "text": [
      "                   all        807       7092      0.878      0.465      0.516      0.422      0.872      0.452      0.501      0.355\n"
     ]
    },
    {
     "name": "stderr",
     "output_type": "stream",
     "text": [
      "\n"
     ]
    },
    {
     "name": "stdout",
     "output_type": "stream",
     "text": [
      "\n",
      "      Epoch    GPU_mem   box_loss   seg_loss   cls_loss   dfl_loss  Instances       Size\n"
     ]
    },
    {
     "name": "stderr",
     "output_type": "stream",
     "text": [
      "    154/200      6.71G     0.9461      2.132      1.159     0.8782         29        768: 100%|██████████| 166/166 [00:36<00:00,  4.57it/s]\n",
      "                 Class     Images  Instances      Box(P          R      mAP50  mAP50-95)     Mask(P          R      mAP50  mAP50-95): 100%|██████████| 26/26 [00:08<00:00,  3.09it/s]"
     ]
    },
    {
     "name": "stdout",
     "output_type": "stream",
     "text": [
      "                   all        807       7092      0.871      0.465      0.515      0.421      0.852      0.454      0.502      0.357\n"
     ]
    },
    {
     "name": "stderr",
     "output_type": "stream",
     "text": [
      "\n"
     ]
    },
    {
     "name": "stdout",
     "output_type": "stream",
     "text": [
      "\n",
      "      Epoch    GPU_mem   box_loss   seg_loss   cls_loss   dfl_loss  Instances       Size\n"
     ]
    },
    {
     "name": "stderr",
     "output_type": "stream",
     "text": [
      "    155/200      6.18G     0.9442      2.158      1.154     0.8742         44        768: 100%|██████████| 166/166 [00:35<00:00,  4.68it/s]\n",
      "                 Class     Images  Instances      Box(P          R      mAP50  mAP50-95)     Mask(P          R      mAP50  mAP50-95): 100%|██████████| 26/26 [00:13<00:00,  1.99it/s]\n"
     ]
    },
    {
     "name": "stdout",
     "output_type": "stream",
     "text": [
      "                   all        807       7092      0.854      0.471      0.517      0.423      0.852      0.453      0.503      0.358\n",
      "\n",
      "      Epoch    GPU_mem   box_loss   seg_loss   cls_loss   dfl_loss  Instances       Size\n"
     ]
    },
    {
     "name": "stderr",
     "output_type": "stream",
     "text": [
      "    156/200      5.63G     0.9593      2.159      1.153     0.8794         59        768: 100%|██████████| 166/166 [00:38<00:00,  4.33it/s]\n",
      "                 Class     Images  Instances      Box(P          R      mAP50  mAP50-95)     Mask(P          R      mAP50  mAP50-95): 100%|██████████| 26/26 [00:10<00:00,  2.50it/s]"
     ]
    },
    {
     "name": "stdout",
     "output_type": "stream",
     "text": [
      "                   all        807       7092      0.876      0.465      0.516      0.423      0.854      0.452      0.502      0.357\n"
     ]
    },
    {
     "name": "stderr",
     "output_type": "stream",
     "text": [
      "\n"
     ]
    },
    {
     "name": "stdout",
     "output_type": "stream",
     "text": [
      "\n",
      "      Epoch    GPU_mem   box_loss   seg_loss   cls_loss   dfl_loss  Instances       Size\n"
     ]
    },
    {
     "name": "stderr",
     "output_type": "stream",
     "text": [
      "    157/200      6.26G     0.9489      2.153      1.135     0.8748         31        768: 100%|██████████| 166/166 [00:38<00:00,  4.29it/s]\n",
      "                 Class     Images  Instances      Box(P          R      mAP50  mAP50-95)     Mask(P          R      mAP50  mAP50-95): 100%|██████████| 26/26 [00:13<00:00,  1.98it/s]"
     ]
    },
    {
     "name": "stdout",
     "output_type": "stream",
     "text": [
      "                   all        807       7092      0.867      0.468      0.517      0.424      0.853      0.454      0.501      0.358\n"
     ]
    },
    {
     "name": "stderr",
     "output_type": "stream",
     "text": [
      "\n"
     ]
    },
    {
     "name": "stdout",
     "output_type": "stream",
     "text": [
      "\n",
      "      Epoch    GPU_mem   box_loss   seg_loss   cls_loss   dfl_loss  Instances       Size\n"
     ]
    },
    {
     "name": "stderr",
     "output_type": "stream",
     "text": [
      "    158/200      6.57G     0.9382      2.115      1.138     0.8735        219        768: 100%|██████████| 166/166 [00:38<00:00,  4.28it/s]\n",
      "                 Class     Images  Instances      Box(P          R      mAP50  mAP50-95)     Mask(P          R      mAP50  mAP50-95): 100%|██████████| 26/26 [00:16<00:00,  1.62it/s]\n"
     ]
    },
    {
     "name": "stdout",
     "output_type": "stream",
     "text": [
      "                   all        807       7092      0.863      0.467      0.516      0.424      0.846      0.458      0.504      0.358\n",
      "\n",
      "      Epoch    GPU_mem   box_loss   seg_loss   cls_loss   dfl_loss  Instances       Size\n"
     ]
    },
    {
     "name": "stderr",
     "output_type": "stream",
     "text": [
      "    159/200      6.66G      0.955      2.135      1.147     0.8785         74        768: 100%|██████████| 166/166 [00:39<00:00,  4.21it/s]\n",
      "                 Class     Images  Instances      Box(P          R      mAP50  mAP50-95)     Mask(P          R      mAP50  mAP50-95): 100%|██████████| 26/26 [00:11<00:00,  2.29it/s]"
     ]
    },
    {
     "name": "stdout",
     "output_type": "stream",
     "text": [
      "                   all        807       7092      0.893      0.464      0.518      0.426      0.852      0.457      0.504      0.359\n"
     ]
    },
    {
     "name": "stderr",
     "output_type": "stream",
     "text": [
      "\n"
     ]
    },
    {
     "name": "stdout",
     "output_type": "stream",
     "text": [
      "\n",
      "      Epoch    GPU_mem   box_loss   seg_loss   cls_loss   dfl_loss  Instances       Size\n"
     ]
    },
    {
     "name": "stderr",
     "output_type": "stream",
     "text": [
      "    160/200      6.89G     0.9385      2.133      1.136     0.8752        101        768: 100%|██████████| 166/166 [00:38<00:00,  4.32it/s]\n",
      "                 Class     Images  Instances      Box(P          R      mAP50  mAP50-95)     Mask(P          R      mAP50  mAP50-95): 100%|██████████| 26/26 [00:11<00:00,  2.25it/s]\n"
     ]
    },
    {
     "name": "stdout",
     "output_type": "stream",
     "text": [
      "                   all        807       7092      0.873      0.471      0.518      0.424      0.852      0.458      0.504      0.358\n",
      "\n",
      "      Epoch    GPU_mem   box_loss   seg_loss   cls_loss   dfl_loss  Instances       Size\n"
     ]
    },
    {
     "name": "stderr",
     "output_type": "stream",
     "text": [
      "    161/200      7.98G     0.9541      2.145      1.144     0.8724         17        768: 100%|██████████| 166/166 [00:53<00:00,  3.13it/s]\n",
      "                 Class     Images  Instances      Box(P          R      mAP50  mAP50-95)     Mask(P          R      mAP50  mAP50-95): 100%|██████████| 26/26 [00:22<00:00,  1.15it/s]"
     ]
    },
    {
     "name": "stdout",
     "output_type": "stream",
     "text": [
      "                   all        807       7092       0.88      0.468      0.518      0.425      0.869      0.453      0.503      0.359\n"
     ]
    },
    {
     "name": "stderr",
     "output_type": "stream",
     "text": [
      "\n"
     ]
    },
    {
     "name": "stdout",
     "output_type": "stream",
     "text": [
      "\n",
      "      Epoch    GPU_mem   box_loss   seg_loss   cls_loss   dfl_loss  Instances       Size\n"
     ]
    },
    {
     "name": "stderr",
     "output_type": "stream",
     "text": [
      "    162/200       6.3G     0.9246      2.099      1.113     0.8689        160        768: 100%|██████████| 166/166 [00:33<00:00,  5.01it/s]\n",
      "                 Class     Images  Instances      Box(P          R      mAP50  mAP50-95)     Mask(P          R      mAP50  mAP50-95): 100%|██████████| 26/26 [00:06<00:00,  3.72it/s]"
     ]
    },
    {
     "name": "stdout",
     "output_type": "stream",
     "text": [
      "                   all        807       7092      0.877      0.468      0.518      0.426      0.863      0.456      0.504      0.361\n"
     ]
    },
    {
     "name": "stderr",
     "output_type": "stream",
     "text": [
      "\n"
     ]
    },
    {
     "name": "stdout",
     "output_type": "stream",
     "text": [
      "\n",
      "      Epoch    GPU_mem   box_loss   seg_loss   cls_loss   dfl_loss  Instances       Size\n"
     ]
    },
    {
     "name": "stderr",
     "output_type": "stream",
     "text": [
      "    163/200      6.43G     0.9568      2.159       1.16     0.8768         94        768: 100%|██████████| 166/166 [00:34<00:00,  4.76it/s]\n",
      "                 Class     Images  Instances      Box(P          R      mAP50  mAP50-95)     Mask(P          R      mAP50  mAP50-95): 100%|██████████| 26/26 [00:09<00:00,  2.88it/s]"
     ]
    },
    {
     "name": "stdout",
     "output_type": "stream",
     "text": [
      "                   all        807       7092      0.879      0.469      0.517      0.426      0.858      0.457      0.504      0.361\n"
     ]
    },
    {
     "name": "stderr",
     "output_type": "stream",
     "text": [
      "\n"
     ]
    },
    {
     "name": "stdout",
     "output_type": "stream",
     "text": [
      "\n",
      "      Epoch    GPU_mem   box_loss   seg_loss   cls_loss   dfl_loss  Instances       Size\n"
     ]
    },
    {
     "name": "stderr",
     "output_type": "stream",
     "text": [
      "    164/200      6.99G     0.9395      2.149      1.121      0.872         83        768: 100%|██████████| 166/166 [00:33<00:00,  4.95it/s]\n",
      "                 Class     Images  Instances      Box(P          R      mAP50  mAP50-95)     Mask(P          R      mAP50  mAP50-95): 100%|██████████| 26/26 [00:08<00:00,  3.12it/s]"
     ]
    },
    {
     "name": "stdout",
     "output_type": "stream",
     "text": [
      "                   all        807       7092      0.867      0.471      0.517      0.426      0.841      0.458      0.502      0.361\n"
     ]
    },
    {
     "name": "stderr",
     "output_type": "stream",
     "text": [
      "\n"
     ]
    },
    {
     "name": "stdout",
     "output_type": "stream",
     "text": [
      "\n",
      "      Epoch    GPU_mem   box_loss   seg_loss   cls_loss   dfl_loss  Instances       Size\n"
     ]
    },
    {
     "name": "stderr",
     "output_type": "stream",
     "text": [
      "    165/200      7.27G     0.9507      2.142      1.132     0.8733         61        768: 100%|██████████| 166/166 [00:34<00:00,  4.83it/s]\n",
      "                 Class     Images  Instances      Box(P          R      mAP50  mAP50-95)     Mask(P          R      mAP50  mAP50-95): 100%|██████████| 26/26 [00:13<00:00,  1.86it/s]"
     ]
    },
    {
     "name": "stdout",
     "output_type": "stream",
     "text": [
      "                   all        807       7092      0.885       0.47      0.519      0.426      0.869      0.453      0.505      0.361\n"
     ]
    },
    {
     "name": "stderr",
     "output_type": "stream",
     "text": [
      "\n"
     ]
    },
    {
     "name": "stdout",
     "output_type": "stream",
     "text": [
      "\n",
      "      Epoch    GPU_mem   box_loss   seg_loss   cls_loss   dfl_loss  Instances       Size\n"
     ]
    },
    {
     "name": "stderr",
     "output_type": "stream",
     "text": [
      "    166/200      7.16G     0.9227      2.086      1.123     0.8679        141        768: 100%|██████████| 166/166 [00:42<00:00,  3.87it/s]\n",
      "                 Class     Images  Instances      Box(P          R      mAP50  mAP50-95)     Mask(P          R      mAP50  mAP50-95): 100%|██████████| 26/26 [00:08<00:00,  2.97it/s]"
     ]
    },
    {
     "name": "stdout",
     "output_type": "stream",
     "text": [
      "                   all        807       7092      0.864      0.471      0.517      0.426      0.856      0.458      0.505      0.361\n"
     ]
    },
    {
     "name": "stderr",
     "output_type": "stream",
     "text": [
      "\n"
     ]
    },
    {
     "name": "stdout",
     "output_type": "stream",
     "text": [
      "\n",
      "      Epoch    GPU_mem   box_loss   seg_loss   cls_loss   dfl_loss  Instances       Size\n"
     ]
    },
    {
     "name": "stderr",
     "output_type": "stream",
     "text": [
      "    167/200         6G     0.9419       2.13       1.14     0.8722         80        768: 100%|██████████| 166/166 [00:34<00:00,  4.81it/s]\n",
      "                 Class     Images  Instances      Box(P          R      mAP50  mAP50-95)     Mask(P          R      mAP50  mAP50-95): 100%|██████████| 26/26 [00:08<00:00,  2.96it/s]"
     ]
    },
    {
     "name": "stdout",
     "output_type": "stream",
     "text": [
      "                   all        807       7092       0.88      0.471      0.518      0.426      0.859      0.457      0.506       0.36\n"
     ]
    },
    {
     "name": "stderr",
     "output_type": "stream",
     "text": [
      "\n"
     ]
    },
    {
     "name": "stdout",
     "output_type": "stream",
     "text": [
      "\n",
      "      Epoch    GPU_mem   box_loss   seg_loss   cls_loss   dfl_loss  Instances       Size\n"
     ]
    },
    {
     "name": "stderr",
     "output_type": "stream",
     "text": [
      "    168/200      6.08G     0.9351      2.123       1.12     0.8661        126        768: 100%|██████████| 166/166 [00:33<00:00,  5.00it/s]\n",
      "                 Class     Images  Instances      Box(P          R      mAP50  mAP50-95)     Mask(P          R      mAP50  mAP50-95): 100%|██████████| 26/26 [00:09<00:00,  2.82it/s]"
     ]
    },
    {
     "name": "stdout",
     "output_type": "stream",
     "text": [
      "                   all        807       7092      0.866      0.471      0.519      0.428      0.871      0.453      0.507      0.362\n"
     ]
    },
    {
     "name": "stderr",
     "output_type": "stream",
     "text": [
      "\n"
     ]
    },
    {
     "name": "stdout",
     "output_type": "stream",
     "text": [
      "\n",
      "      Epoch    GPU_mem   box_loss   seg_loss   cls_loss   dfl_loss  Instances       Size\n"
     ]
    },
    {
     "name": "stderr",
     "output_type": "stream",
     "text": [
      "    169/200      6.25G     0.9302      2.124        1.1     0.8696        110        768: 100%|██████████| 166/166 [00:36<00:00,  4.61it/s]\n",
      "                 Class     Images  Instances      Box(P          R      mAP50  mAP50-95)     Mask(P          R      mAP50  mAP50-95): 100%|██████████| 26/26 [00:11<00:00,  2.21it/s]"
     ]
    },
    {
     "name": "stdout",
     "output_type": "stream",
     "text": [
      "                   all        807       7092      0.886      0.468      0.521      0.429       0.87      0.457      0.508      0.364\n"
     ]
    },
    {
     "name": "stderr",
     "output_type": "stream",
     "text": [
      "\n"
     ]
    },
    {
     "name": "stdout",
     "output_type": "stream",
     "text": [
      "\n",
      "      Epoch    GPU_mem   box_loss   seg_loss   cls_loss   dfl_loss  Instances       Size\n"
     ]
    },
    {
     "name": "stderr",
     "output_type": "stream",
     "text": [
      "    170/200      5.56G     0.9206      2.087      1.102     0.8683         61        768: 100%|██████████| 166/166 [00:36<00:00,  4.53it/s]\n",
      "                 Class     Images  Instances      Box(P          R      mAP50  mAP50-95)     Mask(P          R      mAP50  mAP50-95): 100%|██████████| 26/26 [00:15<00:00,  1.64it/s]"
     ]
    },
    {
     "name": "stdout",
     "output_type": "stream",
     "text": [
      "                   all        807       7092      0.888      0.469      0.521      0.429      0.872      0.457      0.507      0.363\n"
     ]
    },
    {
     "name": "stderr",
     "output_type": "stream",
     "text": [
      "\n"
     ]
    },
    {
     "name": "stdout",
     "output_type": "stream",
     "text": [
      "\n",
      "      Epoch    GPU_mem   box_loss   seg_loss   cls_loss   dfl_loss  Instances       Size\n"
     ]
    },
    {
     "name": "stderr",
     "output_type": "stream",
     "text": [
      "    171/200       6.1G     0.9285      2.105      1.113     0.8671         38        768: 100%|██████████| 166/166 [00:39<00:00,  4.17it/s]\n",
      "                 Class     Images  Instances      Box(P          R      mAP50  mAP50-95)     Mask(P          R      mAP50  mAP50-95): 100%|██████████| 26/26 [00:08<00:00,  2.97it/s]"
     ]
    },
    {
     "name": "stdout",
     "output_type": "stream",
     "text": [
      "                   all        807       7092      0.889      0.469      0.521      0.428      0.866      0.459      0.507      0.363\n"
     ]
    },
    {
     "name": "stderr",
     "output_type": "stream",
     "text": [
      "\n"
     ]
    },
    {
     "name": "stdout",
     "output_type": "stream",
     "text": [
      "\n",
      "      Epoch    GPU_mem   box_loss   seg_loss   cls_loss   dfl_loss  Instances       Size\n"
     ]
    },
    {
     "name": "stderr",
     "output_type": "stream",
     "text": [
      "    172/200       6.5G     0.9328      2.116      1.113     0.8721         74        768: 100%|██████████| 166/166 [00:35<00:00,  4.70it/s]\n",
      "                 Class     Images  Instances      Box(P          R      mAP50  mAP50-95)     Mask(P          R      mAP50  mAP50-95): 100%|██████████| 26/26 [00:09<00:00,  2.60it/s]"
     ]
    },
    {
     "name": "stdout",
     "output_type": "stream",
     "text": [
      "                   all        807       7092      0.891      0.468      0.522      0.429      0.873      0.457      0.507      0.363\n"
     ]
    },
    {
     "name": "stderr",
     "output_type": "stream",
     "text": [
      "\n"
     ]
    },
    {
     "name": "stdout",
     "output_type": "stream",
     "text": [
      "\n",
      "      Epoch    GPU_mem   box_loss   seg_loss   cls_loss   dfl_loss  Instances       Size\n"
     ]
    },
    {
     "name": "stderr",
     "output_type": "stream",
     "text": [
      "    173/200       7.1G     0.9262      2.105      1.116     0.8661         41        768: 100%|██████████| 166/166 [00:35<00:00,  4.66it/s]\n",
      "                 Class     Images  Instances      Box(P          R      mAP50  mAP50-95)     Mask(P          R      mAP50  mAP50-95): 100%|██████████| 26/26 [00:36<00:00,  1.42s/it]"
     ]
    },
    {
     "name": "stdout",
     "output_type": "stream",
     "text": [
      "                   all        807       7092      0.897      0.468      0.519      0.427      0.873      0.455      0.505      0.361\n"
     ]
    },
    {
     "name": "stderr",
     "output_type": "stream",
     "text": [
      "\n"
     ]
    },
    {
     "name": "stdout",
     "output_type": "stream",
     "text": [
      "\n",
      "      Epoch    GPU_mem   box_loss   seg_loss   cls_loss   dfl_loss  Instances       Size\n"
     ]
    },
    {
     "name": "stderr",
     "output_type": "stream",
     "text": [
      "    174/200      7.07G     0.9301      2.103      1.119     0.8695         40        768: 100%|██████████| 166/166 [00:36<00:00,  4.52it/s]\n",
      "                 Class     Images  Instances      Box(P          R      mAP50  mAP50-95)     Mask(P          R      mAP50  mAP50-95): 100%|██████████| 26/26 [00:10<00:00,  2.60it/s]"
     ]
    },
    {
     "name": "stdout",
     "output_type": "stream",
     "text": [
      "                   all        807       7092      0.895      0.469       0.52      0.428      0.874      0.455      0.505      0.362\n"
     ]
    },
    {
     "name": "stderr",
     "output_type": "stream",
     "text": [
      "\n"
     ]
    },
    {
     "name": "stdout",
     "output_type": "stream",
     "text": [
      "\n",
      "      Epoch    GPU_mem   box_loss   seg_loss   cls_loss   dfl_loss  Instances       Size\n"
     ]
    },
    {
     "name": "stderr",
     "output_type": "stream",
     "text": [
      "    175/200      6.32G     0.9408      2.131      1.113     0.8702        143        768: 100%|██████████| 166/166 [00:36<00:00,  4.58it/s]\n",
      "                 Class     Images  Instances      Box(P          R      mAP50  mAP50-95)     Mask(P          R      mAP50  mAP50-95): 100%|██████████| 26/26 [00:07<00:00,  3.28it/s]"
     ]
    },
    {
     "name": "stdout",
     "output_type": "stream",
     "text": [
      "                   all        807       7092      0.886      0.468      0.521      0.429      0.869      0.455      0.506      0.362\n"
     ]
    },
    {
     "name": "stderr",
     "output_type": "stream",
     "text": [
      "\n"
     ]
    },
    {
     "name": "stdout",
     "output_type": "stream",
     "text": [
      "\n",
      "      Epoch    GPU_mem   box_loss   seg_loss   cls_loss   dfl_loss  Instances       Size\n"
     ]
    },
    {
     "name": "stderr",
     "output_type": "stream",
     "text": [
      "    176/200       7.1G     0.9146      2.073      1.103     0.8702         46        768: 100%|██████████| 166/166 [00:35<00:00,  4.69it/s]\n",
      "                 Class     Images  Instances      Box(P          R      mAP50  mAP50-95)     Mask(P          R      mAP50  mAP50-95): 100%|██████████| 26/26 [00:08<00:00,  2.97it/s]"
     ]
    },
    {
     "name": "stdout",
     "output_type": "stream",
     "text": [
      "                   all        807       7092      0.877      0.472      0.521      0.428      0.856      0.459      0.506      0.364\n"
     ]
    },
    {
     "name": "stderr",
     "output_type": "stream",
     "text": [
      "\n"
     ]
    },
    {
     "name": "stdout",
     "output_type": "stream",
     "text": [
      "\n",
      "      Epoch    GPU_mem   box_loss   seg_loss   cls_loss   dfl_loss  Instances       Size\n"
     ]
    },
    {
     "name": "stderr",
     "output_type": "stream",
     "text": [
      "    177/200      6.33G     0.9102      2.054      1.078     0.8661         51        768: 100%|██████████| 166/166 [00:35<00:00,  4.69it/s]\n",
      "                 Class     Images  Instances      Box(P          R      mAP50  mAP50-95)     Mask(P          R      mAP50  mAP50-95): 100%|██████████| 26/26 [00:11<00:00,  2.24it/s]"
     ]
    },
    {
     "name": "stdout",
     "output_type": "stream",
     "text": [
      "                   all        807       7092      0.885      0.469      0.521      0.428      0.863      0.458      0.507      0.365\n"
     ]
    },
    {
     "name": "stderr",
     "output_type": "stream",
     "text": [
      "\n"
     ]
    },
    {
     "name": "stdout",
     "output_type": "stream",
     "text": [
      "\n",
      "      Epoch    GPU_mem   box_loss   seg_loss   cls_loss   dfl_loss  Instances       Size\n"
     ]
    },
    {
     "name": "stderr",
     "output_type": "stream",
     "text": [
      "    178/200      6.92G      0.917       2.08      1.081     0.8637         97        768: 100%|██████████| 166/166 [00:37<00:00,  4.48it/s]\n",
      "                 Class     Images  Instances      Box(P          R      mAP50  mAP50-95)     Mask(P          R      mAP50  mAP50-95): 100%|██████████| 26/26 [00:10<00:00,  2.39it/s]"
     ]
    },
    {
     "name": "stdout",
     "output_type": "stream",
     "text": [
      "                   all        807       7092      0.885      0.469      0.522       0.43      0.862      0.457      0.507      0.364\n"
     ]
    },
    {
     "name": "stderr",
     "output_type": "stream",
     "text": [
      "\n"
     ]
    },
    {
     "name": "stdout",
     "output_type": "stream",
     "text": [
      "\n",
      "      Epoch    GPU_mem   box_loss   seg_loss   cls_loss   dfl_loss  Instances       Size\n"
     ]
    },
    {
     "name": "stderr",
     "output_type": "stream",
     "text": [
      "    179/200      5.99G      0.906      2.078      1.085     0.8627         52        768: 100%|██████████| 166/166 [00:37<00:00,  4.38it/s]\n",
      "                 Class     Images  Instances      Box(P          R      mAP50  mAP50-95)     Mask(P          R      mAP50  mAP50-95): 100%|██████████| 26/26 [00:08<00:00,  2.94it/s]"
     ]
    },
    {
     "name": "stdout",
     "output_type": "stream",
     "text": [
      "                   all        807       7092      0.884      0.471      0.522      0.429      0.868      0.458      0.507      0.364\n"
     ]
    },
    {
     "name": "stderr",
     "output_type": "stream",
     "text": [
      "\n"
     ]
    },
    {
     "name": "stdout",
     "output_type": "stream",
     "text": [
      "\n",
      "      Epoch    GPU_mem   box_loss   seg_loss   cls_loss   dfl_loss  Instances       Size\n"
     ]
    },
    {
     "name": "stderr",
     "output_type": "stream",
     "text": [
      "    180/200      5.99G      0.911      2.086      1.072     0.8614         56        768: 100%|██████████| 166/166 [00:35<00:00,  4.70it/s]\n",
      "                 Class     Images  Instances      Box(P          R      mAP50  mAP50-95)     Mask(P          R      mAP50  mAP50-95): 100%|██████████| 26/26 [00:08<00:00,  3.02it/s]"
     ]
    },
    {
     "name": "stdout",
     "output_type": "stream",
     "text": [
      "                   all        807       7092      0.895      0.468      0.523       0.43      0.878      0.458      0.508      0.364\n"
     ]
    },
    {
     "name": "stderr",
     "output_type": "stream",
     "text": [
      "\n"
     ]
    },
    {
     "name": "stdout",
     "output_type": "stream",
     "text": [
      "\n",
      "      Epoch    GPU_mem   box_loss   seg_loss   cls_loss   dfl_loss  Instances       Size\n"
     ]
    },
    {
     "name": "stderr",
     "output_type": "stream",
     "text": [
      "    181/200       6.5G     0.9028      2.059       1.09     0.8639         78        768: 100%|██████████| 166/166 [00:35<00:00,  4.73it/s]\n",
      "                 Class     Images  Instances      Box(P          R      mAP50  mAP50-95)     Mask(P          R      mAP50  mAP50-95): 100%|██████████| 26/26 [00:11<00:00,  2.20it/s]"
     ]
    },
    {
     "name": "stdout",
     "output_type": "stream",
     "text": [
      "                   all        807       7092       0.89      0.468      0.522       0.43      0.865      0.458      0.507      0.364\n"
     ]
    },
    {
     "name": "stderr",
     "output_type": "stream",
     "text": [
      "\n"
     ]
    },
    {
     "name": "stdout",
     "output_type": "stream",
     "text": [
      "\n",
      "      Epoch    GPU_mem   box_loss   seg_loss   cls_loss   dfl_loss  Instances       Size\n"
     ]
    },
    {
     "name": "stderr",
     "output_type": "stream",
     "text": [
      "    182/200      5.69G     0.9169      2.086      1.093     0.8634        139        768: 100%|██████████| 166/166 [00:37<00:00,  4.45it/s]\n",
      "                 Class     Images  Instances      Box(P          R      mAP50  mAP50-95)     Mask(P          R      mAP50  mAP50-95): 100%|██████████| 26/26 [00:06<00:00,  4.20it/s]"
     ]
    },
    {
     "name": "stdout",
     "output_type": "stream",
     "text": [
      "                   all        807       7092      0.893      0.467      0.523      0.431      0.875      0.456      0.507      0.364\n"
     ]
    },
    {
     "name": "stderr",
     "output_type": "stream",
     "text": [
      "\n"
     ]
    },
    {
     "name": "stdout",
     "output_type": "stream",
     "text": [
      "\n",
      "      Epoch    GPU_mem   box_loss   seg_loss   cls_loss   dfl_loss  Instances       Size\n"
     ]
    },
    {
     "name": "stderr",
     "output_type": "stream",
     "text": [
      "    183/200      5.75G     0.9074      2.075      1.082     0.8657         90        768: 100%|██████████| 166/166 [00:34<00:00,  4.75it/s]\n",
      "                 Class     Images  Instances      Box(P          R      mAP50  mAP50-95)     Mask(P          R      mAP50  mAP50-95): 100%|██████████| 26/26 [00:08<00:00,  3.02it/s]"
     ]
    },
    {
     "name": "stdout",
     "output_type": "stream",
     "text": [
      "                   all        807       7092      0.884      0.469      0.522      0.431       0.88      0.454      0.507      0.365\n"
     ]
    },
    {
     "name": "stderr",
     "output_type": "stream",
     "text": [
      "\n"
     ]
    },
    {
     "name": "stdout",
     "output_type": "stream",
     "text": [
      "\n",
      "      Epoch    GPU_mem   box_loss   seg_loss   cls_loss   dfl_loss  Instances       Size\n"
     ]
    },
    {
     "name": "stderr",
     "output_type": "stream",
     "text": [
      "    184/200      7.42G     0.9295        2.1      1.093      0.867         32        768: 100%|██████████| 166/166 [00:36<00:00,  4.57it/s]\n",
      "                 Class     Images  Instances      Box(P          R      mAP50  mAP50-95)     Mask(P          R      mAP50  mAP50-95): 100%|██████████| 26/26 [00:09<00:00,  2.81it/s]"
     ]
    },
    {
     "name": "stdout",
     "output_type": "stream",
     "text": [
      "                   all        807       7092      0.894      0.465      0.521      0.431      0.881      0.454      0.508      0.365\n"
     ]
    },
    {
     "name": "stderr",
     "output_type": "stream",
     "text": [
      "\n"
     ]
    },
    {
     "name": "stdout",
     "output_type": "stream",
     "text": [
      "\n",
      "      Epoch    GPU_mem   box_loss   seg_loss   cls_loss   dfl_loss  Instances       Size\n"
     ]
    },
    {
     "name": "stderr",
     "output_type": "stream",
     "text": [
      "    185/200      6.04G     0.9187      2.093      1.088     0.8629         72        768: 100%|██████████| 166/166 [00:36<00:00,  4.52it/s]\n",
      "                 Class     Images  Instances      Box(P          R      mAP50  mAP50-95)     Mask(P          R      mAP50  mAP50-95): 100%|██████████| 26/26 [00:07<00:00,  3.50it/s]"
     ]
    },
    {
     "name": "stdout",
     "output_type": "stream",
     "text": [
      "                   all        807       7092      0.903      0.462      0.521      0.432      0.882      0.452      0.508      0.365\n"
     ]
    },
    {
     "name": "stderr",
     "output_type": "stream",
     "text": [
      "\n"
     ]
    },
    {
     "name": "stdout",
     "output_type": "stream",
     "text": [
      "\n",
      "      Epoch    GPU_mem   box_loss   seg_loss   cls_loss   dfl_loss  Instances       Size\n"
     ]
    },
    {
     "name": "stderr",
     "output_type": "stream",
     "text": [
      "    186/200      7.08G     0.9049      2.083      1.073     0.8602         91        768: 100%|██████████| 166/166 [00:35<00:00,  4.70it/s]\n",
      "                 Class     Images  Instances      Box(P          R      mAP50  mAP50-95)     Mask(P          R      mAP50  mAP50-95): 100%|██████████| 26/26 [00:09<00:00,  2.77it/s]"
     ]
    },
    {
     "name": "stdout",
     "output_type": "stream",
     "text": [
      "                   all        807       7092      0.871      0.471      0.522      0.432      0.879      0.453      0.508      0.366\n"
     ]
    },
    {
     "name": "stderr",
     "output_type": "stream",
     "text": [
      "\n"
     ]
    },
    {
     "name": "stdout",
     "output_type": "stream",
     "text": [
      "\n",
      "      Epoch    GPU_mem   box_loss   seg_loss   cls_loss   dfl_loss  Instances       Size\n"
     ]
    },
    {
     "name": "stderr",
     "output_type": "stream",
     "text": [
      "    187/200      6.68G     0.9078      2.065       1.08      0.861        142        768: 100%|██████████| 166/166 [00:35<00:00,  4.74it/s]\n",
      "                 Class     Images  Instances      Box(P          R      mAP50  mAP50-95)     Mask(P          R      mAP50  mAP50-95): 100%|██████████| 26/26 [00:09<00:00,  2.75it/s]"
     ]
    },
    {
     "name": "stdout",
     "output_type": "stream",
     "text": [
      "                   all        807       7092      0.872      0.472      0.522      0.433      0.881      0.454      0.509      0.366\n"
     ]
    },
    {
     "name": "stderr",
     "output_type": "stream",
     "text": [
      "\n"
     ]
    },
    {
     "name": "stdout",
     "output_type": "stream",
     "text": [
      "\n",
      "      Epoch    GPU_mem   box_loss   seg_loss   cls_loss   dfl_loss  Instances       Size\n"
     ]
    },
    {
     "name": "stderr",
     "output_type": "stream",
     "text": [
      "    188/200      6.61G     0.8969      2.058      1.067     0.8589         46        768: 100%|██████████| 166/166 [00:35<00:00,  4.63it/s]\n",
      "                 Class     Images  Instances      Box(P          R      mAP50  mAP50-95)     Mask(P          R      mAP50  mAP50-95): 100%|██████████| 26/26 [00:08<00:00,  3.15it/s]"
     ]
    },
    {
     "name": "stdout",
     "output_type": "stream",
     "text": [
      "                   all        807       7092      0.897      0.466      0.523      0.433      0.884      0.454      0.509      0.367\n"
     ]
    },
    {
     "name": "stderr",
     "output_type": "stream",
     "text": [
      "\n"
     ]
    },
    {
     "name": "stdout",
     "output_type": "stream",
     "text": [
      "\n",
      "      Epoch    GPU_mem   box_loss   seg_loss   cls_loss   dfl_loss  Instances       Size\n"
     ]
    },
    {
     "name": "stderr",
     "output_type": "stream",
     "text": [
      "    189/200      7.06G     0.9306      2.118      1.091     0.8633         55        768: 100%|██████████| 166/166 [00:35<00:00,  4.73it/s]\n",
      "                 Class     Images  Instances      Box(P          R      mAP50  mAP50-95)     Mask(P          R      mAP50  mAP50-95): 100%|██████████| 26/26 [00:08<00:00,  2.98it/s]"
     ]
    },
    {
     "name": "stdout",
     "output_type": "stream",
     "text": [
      "                   all        807       7092      0.887      0.468      0.522      0.432      0.897       0.45      0.509      0.366\n"
     ]
    },
    {
     "name": "stderr",
     "output_type": "stream",
     "text": [
      "\n"
     ]
    },
    {
     "name": "stdout",
     "output_type": "stream",
     "text": [
      "\n",
      "      Epoch    GPU_mem   box_loss   seg_loss   cls_loss   dfl_loss  Instances       Size\n"
     ]
    },
    {
     "name": "stderr",
     "output_type": "stream",
     "text": [
      "    190/200      7.02G     0.9057      2.053      1.085     0.8638         47        768: 100%|██████████| 166/166 [00:35<00:00,  4.71it/s]\n",
      "                 Class     Images  Instances      Box(P          R      mAP50  mAP50-95)     Mask(P          R      mAP50  mAP50-95): 100%|██████████| 26/26 [00:12<00:00,  2.07it/s]"
     ]
    },
    {
     "name": "stdout",
     "output_type": "stream",
     "text": [
      "                   all        807       7092      0.879       0.47      0.523      0.433       0.86      0.459      0.509      0.366\n"
     ]
    },
    {
     "name": "stderr",
     "output_type": "stream",
     "text": [
      "\n"
     ]
    },
    {
     "name": "stdout",
     "output_type": "stream",
     "text": [
      "Closing dataloader mosaic\n",
      "\n",
      "      Epoch    GPU_mem   box_loss   seg_loss   cls_loss   dfl_loss  Instances       Size\n"
     ]
    },
    {
     "name": "stderr",
     "output_type": "stream",
     "text": [
      "    191/200      6.67G     0.9108      2.076     0.9169     0.8346         30        768: 100%|██████████| 166/166 [00:34<00:00,  4.75it/s]\n",
      "                 Class     Images  Instances      Box(P          R      mAP50  mAP50-95)     Mask(P          R      mAP50  mAP50-95): 100%|██████████| 26/26 [00:10<00:00,  2.37it/s]"
     ]
    },
    {
     "name": "stdout",
     "output_type": "stream",
     "text": [
      "                   all        807       7092      0.887      0.469      0.522      0.431      0.866      0.459      0.509      0.365\n"
     ]
    },
    {
     "name": "stderr",
     "output_type": "stream",
     "text": [
      "\n"
     ]
    },
    {
     "name": "stdout",
     "output_type": "stream",
     "text": [
      "\n",
      "      Epoch    GPU_mem   box_loss   seg_loss   cls_loss   dfl_loss  Instances       Size\n"
     ]
    },
    {
     "name": "stderr",
     "output_type": "stream",
     "text": [
      "    192/200      6.87G     0.9029      2.045     0.8942     0.8323         56        768: 100%|██████████| 166/166 [00:34<00:00,  4.80it/s]\n",
      "                 Class     Images  Instances      Box(P          R      mAP50  mAP50-95)     Mask(P          R      mAP50  mAP50-95): 100%|██████████| 26/26 [00:09<00:00,  2.73it/s]"
     ]
    },
    {
     "name": "stdout",
     "output_type": "stream",
     "text": [
      "                   all        807       7092      0.886       0.47      0.522       0.43      0.867      0.459      0.509      0.365\n"
     ]
    },
    {
     "name": "stderr",
     "output_type": "stream",
     "text": [
      "\n"
     ]
    },
    {
     "name": "stdout",
     "output_type": "stream",
     "text": [
      "\n",
      "      Epoch    GPU_mem   box_loss   seg_loss   cls_loss   dfl_loss  Instances       Size\n"
     ]
    },
    {
     "name": "stderr",
     "output_type": "stream",
     "text": [
      "    193/200      5.94G     0.8985      2.061     0.8889     0.8275         27        768: 100%|██████████| 166/166 [00:33<00:00,  4.93it/s]\n",
      "                 Class     Images  Instances      Box(P          R      mAP50  mAP50-95)     Mask(P          R      mAP50  mAP50-95): 100%|██████████| 26/26 [00:07<00:00,  3.62it/s]"
     ]
    },
    {
     "name": "stdout",
     "output_type": "stream",
     "text": [
      "                   all        807       7092      0.888       0.47      0.522      0.431      0.868      0.459      0.509      0.364\n"
     ]
    },
    {
     "name": "stderr",
     "output_type": "stream",
     "text": [
      "\n"
     ]
    },
    {
     "name": "stdout",
     "output_type": "stream",
     "text": [
      "\n",
      "      Epoch    GPU_mem   box_loss   seg_loss   cls_loss   dfl_loss  Instances       Size\n"
     ]
    },
    {
     "name": "stderr",
     "output_type": "stream",
     "text": [
      "    194/200      6.83G     0.8931      2.049     0.8838     0.8303         19        768: 100%|██████████| 166/166 [00:34<00:00,  4.87it/s]\n",
      "                 Class     Images  Instances      Box(P          R      mAP50  mAP50-95)     Mask(P          R      mAP50  mAP50-95): 100%|██████████| 26/26 [00:11<00:00,  2.30it/s]"
     ]
    },
    {
     "name": "stdout",
     "output_type": "stream",
     "text": [
      "                   all        807       7092      0.894      0.468      0.523      0.432      0.871      0.458       0.51      0.366\n"
     ]
    },
    {
     "name": "stderr",
     "output_type": "stream",
     "text": [
      "\n"
     ]
    },
    {
     "name": "stdout",
     "output_type": "stream",
     "text": [
      "\n",
      "      Epoch    GPU_mem   box_loss   seg_loss   cls_loss   dfl_loss  Instances       Size\n"
     ]
    },
    {
     "name": "stderr",
     "output_type": "stream",
     "text": [
      "    195/200      6.29G     0.8951      2.062     0.8872     0.8275         36        768: 100%|██████████| 166/166 [00:33<00:00,  4.94it/s]\n",
      "                 Class     Images  Instances      Box(P          R      mAP50  mAP50-95)     Mask(P          R      mAP50  mAP50-95): 100%|██████████| 26/26 [00:12<00:00,  2.04it/s]"
     ]
    },
    {
     "name": "stdout",
     "output_type": "stream",
     "text": [
      "                   all        807       7092      0.897      0.468      0.524      0.432      0.875      0.458      0.511      0.366\n"
     ]
    },
    {
     "name": "stderr",
     "output_type": "stream",
     "text": [
      "\n"
     ]
    },
    {
     "name": "stdout",
     "output_type": "stream",
     "text": [
      "\n",
      "      Epoch    GPU_mem   box_loss   seg_loss   cls_loss   dfl_loss  Instances       Size\n"
     ]
    },
    {
     "name": "stderr",
     "output_type": "stream",
     "text": [
      "    196/200      5.83G     0.8889      2.032       0.88     0.8273         48        768: 100%|██████████| 166/166 [00:40<00:00,  4.14it/s]\n",
      "                 Class     Images  Instances      Box(P          R      mAP50  mAP50-95)     Mask(P          R      mAP50  mAP50-95): 100%|██████████| 26/26 [00:06<00:00,  4.07it/s]"
     ]
    },
    {
     "name": "stdout",
     "output_type": "stream",
     "text": [
      "                   all        807       7092      0.892      0.468      0.523      0.433      0.874      0.457       0.51      0.365\n"
     ]
    },
    {
     "name": "stderr",
     "output_type": "stream",
     "text": [
      "\n"
     ]
    },
    {
     "name": "stdout",
     "output_type": "stream",
     "text": [
      "\n",
      "      Epoch    GPU_mem   box_loss   seg_loss   cls_loss   dfl_loss  Instances       Size\n"
     ]
    },
    {
     "name": "stderr",
     "output_type": "stream",
     "text": [
      "    197/200      5.61G     0.8886      2.044     0.8714      0.825         43        768: 100%|██████████| 166/166 [00:33<00:00,  4.93it/s]\n",
      "                 Class     Images  Instances      Box(P          R      mAP50  mAP50-95)     Mask(P          R      mAP50  mAP50-95): 100%|██████████| 26/26 [00:06<00:00,  4.03it/s]"
     ]
    },
    {
     "name": "stdout",
     "output_type": "stream",
     "text": [
      "                   all        807       7092      0.888      0.469      0.524      0.433      0.872      0.458      0.511      0.366\n"
     ]
    },
    {
     "name": "stderr",
     "output_type": "stream",
     "text": [
      "\n"
     ]
    },
    {
     "name": "stdout",
     "output_type": "stream",
     "text": [
      "\n",
      "      Epoch    GPU_mem   box_loss   seg_loss   cls_loss   dfl_loss  Instances       Size\n"
     ]
    },
    {
     "name": "stderr",
     "output_type": "stream",
     "text": [
      "    198/200      5.42G     0.8929      2.051     0.8752     0.8261         44        768: 100%|██████████| 166/166 [00:34<00:00,  4.86it/s]\n",
      "                 Class     Images  Instances      Box(P          R      mAP50  mAP50-95)     Mask(P          R      mAP50  mAP50-95): 100%|██████████| 26/26 [00:06<00:00,  4.12it/s]"
     ]
    },
    {
     "name": "stdout",
     "output_type": "stream",
     "text": [
      "                   all        807       7092      0.886       0.47      0.524      0.433      0.868      0.458      0.512      0.366\n"
     ]
    },
    {
     "name": "stderr",
     "output_type": "stream",
     "text": [
      "\n"
     ]
    },
    {
     "name": "stdout",
     "output_type": "stream",
     "text": [
      "\n",
      "      Epoch    GPU_mem   box_loss   seg_loss   cls_loss   dfl_loss  Instances       Size\n"
     ]
    },
    {
     "name": "stderr",
     "output_type": "stream",
     "text": [
      "    199/200      6.06G     0.8855      2.037     0.8732     0.8258         54        768: 100%|██████████| 166/166 [00:34<00:00,  4.80it/s]\n",
      "                 Class     Images  Instances      Box(P          R      mAP50  mAP50-95)     Mask(P          R      mAP50  mAP50-95): 100%|██████████| 26/26 [00:18<00:00,  1.41it/s]"
     ]
    },
    {
     "name": "stdout",
     "output_type": "stream",
     "text": [
      "                   all        807       7092      0.887      0.469      0.525      0.434      0.862      0.459      0.511      0.366\n"
     ]
    },
    {
     "name": "stderr",
     "output_type": "stream",
     "text": [
      "\n"
     ]
    },
    {
     "name": "stdout",
     "output_type": "stream",
     "text": [
      "\n",
      "      Epoch    GPU_mem   box_loss   seg_loss   cls_loss   dfl_loss  Instances       Size\n"
     ]
    },
    {
     "name": "stderr",
     "output_type": "stream",
     "text": [
      "    200/200      6.06G     0.8755      2.023     0.8697     0.8233        118        768: 100%|██████████| 166/166 [00:37<00:00,  4.46it/s]\n",
      "                 Class     Images  Instances      Box(P          R      mAP50  mAP50-95)     Mask(P          R      mAP50  mAP50-95): 100%|██████████| 26/26 [00:07<00:00,  3.27it/s]"
     ]
    },
    {
     "name": "stdout",
     "output_type": "stream",
     "text": [
      "                   all        807       7092      0.874      0.472      0.524      0.433      0.864      0.459      0.511      0.366\n"
     ]
    },
    {
     "name": "stderr",
     "output_type": "stream",
     "text": [
      "\n"
     ]
    },
    {
     "name": "stdout",
     "output_type": "stream",
     "text": [
      "\n",
      "200 epochs completed in 2.611 hours.\n",
      "Optimizer stripped from runs\\segment\\train2\\weights\\last.pt, 6.8MB\n",
      "Optimizer stripped from runs\\segment\\train2\\weights\\best.pt, 6.8MB\n",
      "\n",
      "Validating runs\\segment\\train2\\weights\\best.pt...\n",
      "Ultralytics YOLOv8.1.27 🚀 Python-3.11.8 torch-2.1.2+cu121 CUDA:0 (NVIDIA GeForce RTX 2070 SUPER, 8192MiB)\n",
      "YOLOv8n-seg summary (fused): 195 layers, 3261964 parameters, 0 gradients, 12.0 GFLOPs\n"
     ]
    },
    {
     "name": "stderr",
     "output_type": "stream",
     "text": [
      "                 Class     Images  Instances      Box(P          R      mAP50  mAP50-95)     Mask(P          R      mAP50  mAP50-95): 100%|██████████| 26/26 [00:05<00:00,  4.40it/s]\n"
     ]
    },
    {
     "name": "stdout",
     "output_type": "stream",
     "text": [
      "                   all        807       7092      0.887      0.469      0.524      0.434      0.868      0.458      0.511      0.366\n",
      "                  sofa        807        112      0.887        0.7      0.745       0.69      0.864      0.681      0.724      0.616\n",
      "                 train        807        163      0.927      0.509      0.564      0.453      0.928      0.509      0.567      0.409\n",
      "               bicycle        807        731      0.822      0.211      0.258      0.177      0.701      0.176        0.2     0.0881\n",
      "                 horse        807        226      0.864        0.5      0.547      0.446      0.877      0.504      0.547      0.371\n",
      "             motorbike        807        401      0.814      0.382      0.442      0.322      0.806      0.369      0.435      0.235\n",
      "                 sheep        807        217      0.848      0.571      0.644      0.531      0.842      0.567       0.64      0.468\n",
      "                   cat        807        185      0.952      0.486      0.509      0.454      0.947      0.481      0.503      0.424\n",
      "                  bird        807        248      0.875      0.368      0.423      0.339      0.866      0.363      0.446      0.305\n",
      "                bottle        807        112      0.974      0.675      0.739      0.626      0.974      0.674      0.751      0.577\n",
      "                   cow        807        253      0.925      0.304      0.366      0.295      0.927      0.304      0.355      0.246\n",
      "                   bus        807        226      0.861      0.478      0.538      0.435       0.82      0.451      0.495      0.361\n",
      "           pottedplant        807       1331      0.818      0.188      0.236      0.153      0.772      0.174      0.223      0.105\n",
      "           diningtable        807         70      0.907        0.7      0.751      0.667      0.833      0.642      0.682      0.524\n",
      "                person        807        995      0.919      0.583       0.63      0.516      0.912      0.572      0.618      0.427\n",
      "             tvmonitor        807         70          1      0.666      0.731      0.663          1      0.665      0.722        0.6\n",
      "                 chair        807        775      0.825      0.375      0.442      0.339      0.769      0.347      0.414      0.239\n",
      "                   dog        807        173      0.866      0.474      0.517      0.464      0.846      0.462      0.496      0.395\n",
      "                  boat        807        409      0.846      0.228      0.294       0.21      0.857       0.23      0.286      0.176\n",
      "                   car        807        180      0.923      0.597      0.666      0.547       0.94      0.607      0.686      0.473\n",
      "             aeroplane        807        215      0.884      0.391      0.442      0.351      0.876      0.386      0.439      0.285\n",
      "Speed: 0.2ms preprocess, 2.0ms inference, 0.0ms loss, 0.7ms postprocess per image\n",
      "Results saved to \u001b[1mruns\\segment\\train2\u001b[0m\n"
     ]
    }
   ],
   "source": [
    "#Best hyperparameters from the tune session:\n",
    "\"\"\" lr0: 0.0102\n",
    "lrf: 0.00387\n",
    "momentum: 0.81859\n",
    "weight_decay: 0.00068\n",
    "warmup_epochs: 3.46434\n",
    "warmup_momentum: 0.89747\n",
    "box: 8.86819\n",
    "cls: 0.80673\n",
    "dfl: 1.31027\n",
    "hsv_h: 0.01541\n",
    "hsv_s: 0.74576\n",
    "hsv_v: 0.3294\n",
    "degrees: 0.0\n",
    "translate: 0.10281\n",
    "scale: 0.19924\n",
    "shear: 0.0\n",
    "perspective: 0.0\n",
    "flipud: 0.0\n",
    "fliplr: 0.39194\n",
    "mosaic: 0.68242\n",
    "mixup: 0.0\n",
    "copy_paste: 0.0 \"\"\"\n",
    "\n",
    "#Training\n",
    "from ultralytics import YOLO\n",
    "\n",
    "# Load a model\n",
    "model = YOLO('yolov8n-seg.pt')  # load a pretrained model\n",
    "#model = YOLO('G:\\\\Onlab\\\\VOC_dataset\\\\VOCdevkit\\\\VOC2012\\\\runs\\\\segment\\\\train\\\\weights\\\\last.pt')# load the last training model\n",
    "# Train the model with the tuned hyperparameters\n",
    "results = model.train(data='dataset/dataset.yaml', epochs=200, imgsz=500, batch=16, workers=8, optimizer='AdamW', patience=30, lr0= 0.0102, lrf= 0.00387, momentum= 0.81859, weight_decay= 0.00068, warmup_epochs= 3.46434, warmup_momentum= 0.89747, box= 8.86819, cls= 0.80673, dfl= 1.31027, hsv_h= 0.01541, hsv_s= 0.74576, hsv_v= 0.3294, degrees= 0.0, translate= 0.10281, scale= 0.19924, shear= 0.0, perspective= 0.0, flipud= 0.0, fliplr= 0.39194, mosaic= 0.68242, mixup= 0.0, copy_paste= 0.0)"
   ]
  },
  {
   "cell_type": "code",
   "execution_count": 1,
   "metadata": {},
   "outputs": [
    {
     "name": "stdout",
     "output_type": "stream",
     "text": [
      "New https://pypi.org/project/ultralytics/8.1.34 available 😃 Update with 'pip install -U ultralytics'\n",
      "Ultralytics YOLOv8.1.27 🚀 Python-3.11.8 torch-2.1.2+cu121 CUDA:0 (NVIDIA GeForce RTX 2070 SUPER, 8192MiB)\n",
      "\u001b[34m\u001b[1mengine\\trainer: \u001b[0mtask=segment, mode=train, model=C:\\Onlab\\VOC_dataset\\VOCdevkit\\VOC2012\\runs\\segment\\train3\\weights\\last.pt, data=dataset/dataset.yaml, epochs=500, time=None, patience=30, batch=-1, imgsz=500, save=True, save_period=-1, cache=True, device=None, workers=10, project=None, name=train, exist_ok=False, pretrained=True, optimizer=AdamW, verbose=True, seed=0, deterministic=True, single_cls=False, rect=False, cos_lr=False, close_mosaic=10, resume=False, amp=True, fraction=1.0, profile=False, freeze=None, multi_scale=False, overlap_mask=True, mask_ratio=4, dropout=0.0, val=True, split=val, save_json=False, save_hybrid=False, conf=None, iou=0.7, max_det=300, half=False, dnn=False, plots=True, source=None, vid_stride=1, stream_buffer=False, visualize=False, augment=False, agnostic_nms=False, classes=None, retina_masks=False, embed=None, show=False, save_frames=False, save_txt=False, save_conf=False, save_crop=False, show_labels=True, show_conf=True, show_boxes=True, line_width=None, format=torchscript, keras=False, optimize=False, int8=False, dynamic=False, simplify=False, opset=None, workspace=4, nms=False, lr0=0.0102, lrf=0.00387, momentum=0.81859, weight_decay=0.00068, warmup_epochs=3.46434, warmup_momentum=0.89747, warmup_bias_lr=0.1, box=8.86819, cls=0.80673, dfl=1.31027, pose=12.0, kobj=1.0, label_smoothing=0.0, nbs=64, hsv_h=0.01541, hsv_s=0.74576, hsv_v=0.3294, degrees=0.0, translate=0.10281, scale=0.19924, shear=0.0, perspective=0.0, flipud=0.0, fliplr=0.39194, mosaic=0.68242, mixup=0.0, copy_paste=0.0, auto_augment=randaugment, erasing=0.4, crop_fraction=1.0, cfg=None, tracker=botsort.yaml, save_dir=runs\\segment\\train\n",
      "\n",
      "                   from  n    params  module                                       arguments                     \n",
      "  0                  -1  1       464  ultralytics.nn.modules.conv.Conv             [3, 16, 3, 2]                 \n",
      "  1                  -1  1      4672  ultralytics.nn.modules.conv.Conv             [16, 32, 3, 2]                \n",
      "  2                  -1  1      7360  ultralytics.nn.modules.block.C2f             [32, 32, 1, True]             \n",
      "  3                  -1  1     18560  ultralytics.nn.modules.conv.Conv             [32, 64, 3, 2]                \n",
      "  4                  -1  2     49664  ultralytics.nn.modules.block.C2f             [64, 64, 2, True]             \n",
      "  5                  -1  1     73984  ultralytics.nn.modules.conv.Conv             [64, 128, 3, 2]               \n",
      "  6                  -1  2    197632  ultralytics.nn.modules.block.C2f             [128, 128, 2, True]           \n",
      "  7                  -1  1    295424  ultralytics.nn.modules.conv.Conv             [128, 256, 3, 2]              \n",
      "  8                  -1  1    460288  ultralytics.nn.modules.block.C2f             [256, 256, 1, True]           \n",
      "  9                  -1  1    164608  ultralytics.nn.modules.block.SPPF            [256, 256, 5]                 \n",
      " 10                  -1  1         0  torch.nn.modules.upsampling.Upsample         [None, 2, 'nearest']          \n",
      " 11             [-1, 6]  1         0  ultralytics.nn.modules.conv.Concat           [1]                           \n",
      " 12                  -1  1    148224  ultralytics.nn.modules.block.C2f             [384, 128, 1]                 \n",
      " 13                  -1  1         0  torch.nn.modules.upsampling.Upsample         [None, 2, 'nearest']          \n",
      " 14             [-1, 4]  1         0  ultralytics.nn.modules.conv.Concat           [1]                           \n",
      " 15                  -1  1     37248  ultralytics.nn.modules.block.C2f             [192, 64, 1]                  \n",
      " 16                  -1  1     36992  ultralytics.nn.modules.conv.Conv             [64, 64, 3, 2]                \n",
      " 17            [-1, 12]  1         0  ultralytics.nn.modules.conv.Concat           [1]                           \n",
      " 18                  -1  1    123648  ultralytics.nn.modules.block.C2f             [192, 128, 1]                 \n",
      " 19                  -1  1    147712  ultralytics.nn.modules.conv.Conv             [128, 128, 3, 2]              \n",
      " 20             [-1, 9]  1         0  ultralytics.nn.modules.conv.Concat           [1]                           \n",
      " 21                  -1  1    493056  ultralytics.nn.modules.block.C2f             [384, 256, 1]                 \n",
      " 22        [15, 18, 21]  1   1007980  ultralytics.nn.modules.head.Segment          [20, 32, 64, [64, 128, 256]]  \n",
      "YOLOv8n-seg summary: 261 layers, 3267516 parameters, 3267500 gradients, 12.1 GFLOPs\n",
      "\n",
      "Transferred 417/417 items from pretrained weights\n",
      "Freezing layer 'model.22.dfl.conv.weight'\n",
      "\u001b[34m\u001b[1mAMP: \u001b[0mrunning Automatic Mixed Precision (AMP) checks with YOLOv8n...\n",
      "\u001b[34m\u001b[1mAMP: \u001b[0mchecks passed ✅\n",
      "WARNING ⚠️ imgsz=[500] must be multiple of max stride 32, updating to [512]\n",
      "\u001b[34m\u001b[1mAutoBatch: \u001b[0mComputing optimal batch size for imgsz=512\n",
      "\u001b[34m\u001b[1mAutoBatch: \u001b[0mCUDA:0 (NVIDIA GeForce RTX 2070 SUPER) 8.00G total, 0.22G reserved, 0.06G allocated, 7.72G free\n",
      "      Params      GFLOPs  GPU_mem (GB)  forward (ms) backward (ms)                   input                  output\n",
      "     3267516       7.763         0.359          16.6           nan        (1, 3, 512, 512)                    list\n",
      "     3267516       15.53         0.403         13.33           nan        (2, 3, 512, 512)                    list\n",
      "     3267516       31.05         0.724            13           nan        (4, 3, 512, 512)                    list\n",
      "     3267516        62.1         1.390            16           nan        (8, 3, 512, 512)                    list\n",
      "     3267516       124.2         2.699            25           nan       (16, 3, 512, 512)                    list\n",
      "\u001b[34m\u001b[1mAutoBatch: \u001b[0mUsing batch-size 28 for CUDA:0 4.88G/8.00G (61%) ✅\n"
     ]
    },
    {
     "name": "stderr",
     "output_type": "stream",
     "text": [
      "\u001b[34m\u001b[1mtrain: \u001b[0mScanning C:\\Onlab\\VOC_dataset\\VOCdevkit\\VOC2012\\dataset\\train\\labels.cache... 2646 images, 0 backgrounds, 0 corrupt: 100%|██████████| 2646/2646 [00:00<?, ?it/s]"
     ]
    },
    {
     "name": "stdout",
     "output_type": "stream",
     "text": [
      "\u001b[34m\u001b[1mtrain: \u001b[0mWARNING ⚠️ C:\\Onlab\\VOC_dataset\\VOCdevkit\\VOC2012\\dataset\\train\\images\\2009_004140.jpg: 1 duplicate labels removed\n",
      "\u001b[34m\u001b[1mtrain: \u001b[0mWARNING ⚠️ C:\\Onlab\\VOC_dataset\\VOCdevkit\\VOC2012\\dataset\\train\\images\\2010_000187.jpg: 1 duplicate labels removed\n",
      "\u001b[34m\u001b[1mtrain: \u001b[0mWARNING ⚠️ C:\\Onlab\\VOC_dataset\\VOCdevkit\\VOC2012\\dataset\\train\\images\\2010_001748.jpg: 1 duplicate labels removed\n",
      "\u001b[34m\u001b[1mtrain: \u001b[0mWARNING ⚠️ C:\\Onlab\\VOC_dataset\\VOCdevkit\\VOC2012\\dataset\\train\\images\\2010_001773.jpg: 1 duplicate labels removed\n",
      "\u001b[34m\u001b[1mtrain: \u001b[0mWARNING ⚠️ C:\\Onlab\\VOC_dataset\\VOCdevkit\\VOC2012\\dataset\\train\\images\\2010_002868.jpg: 9 duplicate labels removed\n",
      "\u001b[34m\u001b[1mtrain: \u001b[0mWARNING ⚠️ C:\\Onlab\\VOC_dataset\\VOCdevkit\\VOC2012\\dataset\\train\\images\\2010_005284.jpg: 1 duplicate labels removed\n"
     ]
    },
    {
     "name": "stderr",
     "output_type": "stream",
     "text": [
      "\n",
      "\u001b[34m\u001b[1mtrain: \u001b[0mCaching images (1.4GB True): 100%|██████████| 2646/2646 [00:00<00:00, 3829.23it/s]\n",
      "\u001b[34m\u001b[1mval: \u001b[0mScanning C:\\Onlab\\VOC_dataset\\VOCdevkit\\VOC2012\\dataset\\valid\\labels.cache... 807 images, 0 backgrounds, 0 corrupt: 100%|██████████| 807/807 [00:00<?, ?it/s]"
     ]
    },
    {
     "name": "stdout",
     "output_type": "stream",
     "text": [
      "\u001b[34m\u001b[1mval: \u001b[0mWARNING ⚠️ C:\\Onlab\\VOC_dataset\\VOCdevkit\\VOC2012\\dataset\\valid\\images\\2007_009295.jpg: 1 duplicate labels removed\n",
      "\u001b[34m\u001b[1mval: \u001b[0mWARNING ⚠️ C:\\Onlab\\VOC_dataset\\VOCdevkit\\VOC2012\\dataset\\valid\\images\\2008_007737.jpg: 3 duplicate labels removed\n",
      "\u001b[34m\u001b[1mval: \u001b[0mWARNING ⚠️ C:\\Onlab\\VOC_dataset\\VOCdevkit\\VOC2012\\dataset\\valid\\images\\2009_001514.jpg: 1 duplicate labels removed\n",
      "\u001b[34m\u001b[1mval: \u001b[0mWARNING ⚠️ C:\\Onlab\\VOC_dataset\\VOCdevkit\\VOC2012\\dataset\\valid\\images\\2009_004140.jpg: 1 duplicate labels removed\n",
      "\u001b[34m\u001b[1mval: \u001b[0mWARNING ⚠️ C:\\Onlab\\VOC_dataset\\VOCdevkit\\VOC2012\\dataset\\valid\\images\\2010_000187.jpg: 1 duplicate labels removed\n",
      "\u001b[34m\u001b[1mval: \u001b[0mWARNING ⚠️ C:\\Onlab\\VOC_dataset\\VOCdevkit\\VOC2012\\dataset\\valid\\images\\2010_000748.jpg: 1 duplicate labels removed\n",
      "\u001b[34m\u001b[1mval: \u001b[0mWARNING ⚠️ C:\\Onlab\\VOC_dataset\\VOCdevkit\\VOC2012\\dataset\\valid\\images\\2010_002868.jpg: 9 duplicate labels removed\n"
     ]
    },
    {
     "name": "stderr",
     "output_type": "stream",
     "text": [
      "\n",
      "\u001b[34m\u001b[1mval: \u001b[0mCaching images (0.4GB True): 100%|██████████| 807/807 [00:00<00:00, 2312.30it/s]\n"
     ]
    },
    {
     "name": "stdout",
     "output_type": "stream",
     "text": [
      "Plotting labels to runs\\segment\\train\\labels.jpg... \n",
      "\u001b[34m\u001b[1moptimizer:\u001b[0m AdamW(lr=0.0102, momentum=0.81859) with parameter groups 66 weight(decay=0.0), 77 weight(decay=0.000595), 76 bias(decay=0.0)\n",
      "Image sizes 512 train, 512 val\n",
      "Using 10 dataloader workers\n",
      "Logging results to \u001b[1mruns\\segment\\train\u001b[0m\n",
      "Starting training for 500 epochs...\n",
      "\n",
      "      Epoch    GPU_mem   box_loss   seg_loss   cls_loss   dfl_loss  Instances       Size\n"
     ]
    },
    {
     "name": "stderr",
     "output_type": "stream",
     "text": [
      "      1/500      4.03G      1.549      3.416       2.76      1.098         94        512: 100%|██████████| 95/95 [00:20<00:00,  4.56it/s]\n",
      "                 Class     Images  Instances      Box(P          R      mAP50  mAP50-95)     Mask(P          R      mAP50  mAP50-95): 100%|██████████| 15/15 [00:04<00:00,  3.05it/s]"
     ]
    },
    {
     "name": "stdout",
     "output_type": "stream",
     "text": [
      "                   all        807       7092      0.525      0.227      0.238      0.159      0.511       0.21      0.216      0.125\n"
     ]
    },
    {
     "name": "stderr",
     "output_type": "stream",
     "text": [
      "\n"
     ]
    },
    {
     "name": "stdout",
     "output_type": "stream",
     "text": [
      "\n",
      "      Epoch    GPU_mem   box_loss   seg_loss   cls_loss   dfl_loss  Instances       Size\n"
     ]
    },
    {
     "name": "stderr",
     "output_type": "stream",
     "text": [
      "      2/500       4.3G       1.53        3.3      2.699      1.083        216        512: 100%|██████████| 95/95 [00:16<00:00,  5.62it/s]\n",
      "                 Class     Images  Instances      Box(P          R      mAP50  mAP50-95)     Mask(P          R      mAP50  mAP50-95): 100%|██████████| 15/15 [00:04<00:00,  3.37it/s]\n"
     ]
    },
    {
     "name": "stdout",
     "output_type": "stream",
     "text": [
      "                   all        807       7092      0.558      0.267      0.273      0.187      0.543      0.252      0.252      0.148\n",
      "\n",
      "      Epoch    GPU_mem   box_loss   seg_loss   cls_loss   dfl_loss  Instances       Size\n"
     ]
    },
    {
     "name": "stderr",
     "output_type": "stream",
     "text": [
      "      3/500      4.78G       1.54      3.351      2.682      1.086        137        512: 100%|██████████| 95/95 [00:16<00:00,  5.72it/s]\n",
      "                 Class     Images  Instances      Box(P          R      mAP50  mAP50-95)     Mask(P          R      mAP50  mAP50-95): 100%|██████████| 15/15 [00:04<00:00,  3.37it/s]\n"
     ]
    },
    {
     "name": "stdout",
     "output_type": "stream",
     "text": [
      "                   all        807       7092      0.528      0.254      0.266      0.179      0.505      0.242       0.25      0.146\n",
      "\n",
      "      Epoch    GPU_mem   box_loss   seg_loss   cls_loss   dfl_loss  Instances       Size\n"
     ]
    },
    {
     "name": "stderr",
     "output_type": "stream",
     "text": [
      "      4/500      4.01G       1.56      3.356      2.855        1.1         83        512: 100%|██████████| 95/95 [00:16<00:00,  5.76it/s]\n",
      "                 Class     Images  Instances      Box(P          R      mAP50  mAP50-95)     Mask(P          R      mAP50  mAP50-95): 100%|██████████| 15/15 [00:04<00:00,  3.34it/s]\n"
     ]
    },
    {
     "name": "stdout",
     "output_type": "stream",
     "text": [
      "                   all        807       7092      0.508      0.238      0.243       0.16      0.472      0.224      0.222      0.128\n",
      "\n",
      "      Epoch    GPU_mem   box_loss   seg_loss   cls_loss   dfl_loss  Instances       Size\n"
     ]
    },
    {
     "name": "stderr",
     "output_type": "stream",
     "text": [
      "      5/500      4.69G      1.587      3.413      2.865      1.115        180        512: 100%|██████████| 95/95 [00:16<00:00,  5.69it/s]\n",
      "                 Class     Images  Instances      Box(P          R      mAP50  mAP50-95)     Mask(P          R      mAP50  mAP50-95): 100%|██████████| 15/15 [00:04<00:00,  3.35it/s]\n"
     ]
    },
    {
     "name": "stdout",
     "output_type": "stream",
     "text": [
      "                   all        807       7092      0.484      0.244      0.237      0.158      0.473      0.223      0.218      0.123\n",
      "\n",
      "      Epoch    GPU_mem   box_loss   seg_loss   cls_loss   dfl_loss  Instances       Size\n"
     ]
    },
    {
     "name": "stderr",
     "output_type": "stream",
     "text": [
      "      6/500      4.93G       1.58      3.393      2.838        1.1         83        512: 100%|██████████| 95/95 [00:16<00:00,  5.69it/s]\n",
      "                 Class     Images  Instances      Box(P          R      mAP50  mAP50-95)     Mask(P          R      mAP50  mAP50-95): 100%|██████████| 15/15 [00:04<00:00,  3.39it/s]\n"
     ]
    },
    {
     "name": "stdout",
     "output_type": "stream",
     "text": [
      "                   all        807       7092      0.537      0.251      0.251      0.167       0.51       0.24      0.233      0.133\n",
      "\n",
      "      Epoch    GPU_mem   box_loss   seg_loss   cls_loss   dfl_loss  Instances       Size\n"
     ]
    },
    {
     "name": "stderr",
     "output_type": "stream",
     "text": [
      "      7/500      4.66G      1.577      3.399      2.826      1.108        156        512: 100%|██████████| 95/95 [00:16<00:00,  5.68it/s]\n",
      "                 Class     Images  Instances      Box(P          R      mAP50  mAP50-95)     Mask(P          R      mAP50  mAP50-95): 100%|██████████| 15/15 [00:04<00:00,  3.21it/s]\n"
     ]
    },
    {
     "name": "stdout",
     "output_type": "stream",
     "text": [
      "                   all        807       7092      0.446      0.188      0.187      0.122      0.495      0.161       0.17        0.1\n",
      "\n",
      "      Epoch    GPU_mem   box_loss   seg_loss   cls_loss   dfl_loss  Instances       Size\n"
     ]
    },
    {
     "name": "stderr",
     "output_type": "stream",
     "text": [
      "      8/500      5.25G      1.602      3.402      2.808      1.112        197        512: 100%|██████████| 95/95 [00:16<00:00,  5.59it/s]\n",
      "                 Class     Images  Instances      Box(P          R      mAP50  mAP50-95)     Mask(P          R      mAP50  mAP50-95): 100%|██████████| 15/15 [00:04<00:00,  3.33it/s]\n"
     ]
    },
    {
     "name": "stdout",
     "output_type": "stream",
     "text": [
      "                   all        807       7092       0.46      0.225      0.227      0.149      0.439      0.206      0.207      0.113\n",
      "\n",
      "      Epoch    GPU_mem   box_loss   seg_loss   cls_loss   dfl_loss  Instances       Size\n"
     ]
    },
    {
     "name": "stderr",
     "output_type": "stream",
     "text": [
      "      9/500      4.28G      1.561      3.382      2.793      1.102        136        512: 100%|██████████| 95/95 [00:16<00:00,  5.65it/s]\n",
      "                 Class     Images  Instances      Box(P          R      mAP50  mAP50-95)     Mask(P          R      mAP50  mAP50-95): 100%|██████████| 15/15 [00:04<00:00,  3.22it/s]\n"
     ]
    },
    {
     "name": "stdout",
     "output_type": "stream",
     "text": [
      "                   all        807       7092      0.512      0.255      0.263      0.177      0.508      0.241      0.246      0.142\n",
      "\n",
      "      Epoch    GPU_mem   box_loss   seg_loss   cls_loss   dfl_loss  Instances       Size\n"
     ]
    },
    {
     "name": "stderr",
     "output_type": "stream",
     "text": [
      "     10/500      5.13G      1.578      3.423       2.81      1.105        181        512: 100%|██████████| 95/95 [00:16<00:00,  5.66it/s]\n",
      "                 Class     Images  Instances      Box(P          R      mAP50  mAP50-95)     Mask(P          R      mAP50  mAP50-95): 100%|██████████| 15/15 [00:04<00:00,  3.24it/s]\n"
     ]
    },
    {
     "name": "stdout",
     "output_type": "stream",
     "text": [
      "                   all        807       7092      0.423      0.219      0.198      0.127      0.396      0.195      0.174     0.0941\n",
      "\n",
      "      Epoch    GPU_mem   box_loss   seg_loss   cls_loss   dfl_loss  Instances       Size\n"
     ]
    },
    {
     "name": "stderr",
     "output_type": "stream",
     "text": [
      "     11/500      4.23G      1.571      3.382      2.734      1.095        122        512: 100%|██████████| 95/95 [00:16<00:00,  5.66it/s]\n",
      "                 Class     Images  Instances      Box(P          R      mAP50  mAP50-95)     Mask(P          R      mAP50  mAP50-95): 100%|██████████| 15/15 [00:04<00:00,  3.35it/s]\n"
     ]
    },
    {
     "name": "stdout",
     "output_type": "stream",
     "text": [
      "                   all        807       7092      0.527      0.248      0.255       0.17        0.5      0.237      0.237       0.14\n",
      "\n",
      "      Epoch    GPU_mem   box_loss   seg_loss   cls_loss   dfl_loss  Instances       Size\n"
     ]
    },
    {
     "name": "stderr",
     "output_type": "stream",
     "text": [
      "     12/500      4.12G      1.552      3.341      2.717      1.091        120        512: 100%|██████████| 95/95 [00:16<00:00,  5.72it/s]\n",
      "                 Class     Images  Instances      Box(P          R      mAP50  mAP50-95)     Mask(P          R      mAP50  mAP50-95): 100%|██████████| 15/15 [00:04<00:00,  3.35it/s]\n"
     ]
    },
    {
     "name": "stdout",
     "output_type": "stream",
     "text": [
      "                   all        807       7092      0.524      0.251       0.26      0.175      0.516      0.233      0.241      0.135\n",
      "\n",
      "      Epoch    GPU_mem   box_loss   seg_loss   cls_loss   dfl_loss  Instances       Size\n"
     ]
    },
    {
     "name": "stderr",
     "output_type": "stream",
     "text": [
      "     13/500      3.97G      1.513      3.281      2.674      1.085         78        512: 100%|██████████| 95/95 [00:16<00:00,  5.73it/s]\n",
      "                 Class     Images  Instances      Box(P          R      mAP50  mAP50-95)     Mask(P          R      mAP50  mAP50-95): 100%|██████████| 15/15 [00:04<00:00,  3.26it/s]\n"
     ]
    },
    {
     "name": "stdout",
     "output_type": "stream",
     "text": [
      "                   all        807       7092      0.507      0.261      0.265       0.18      0.512      0.245      0.249      0.145\n",
      "\n",
      "      Epoch    GPU_mem   box_loss   seg_loss   cls_loss   dfl_loss  Instances       Size\n"
     ]
    },
    {
     "name": "stderr",
     "output_type": "stream",
     "text": [
      "     14/500      3.69G      1.548      3.366      2.694      1.089         89        512: 100%|██████████| 95/95 [00:16<00:00,  5.72it/s]\n",
      "                 Class     Images  Instances      Box(P          R      mAP50  mAP50-95)     Mask(P          R      mAP50  mAP50-95): 100%|██████████| 15/15 [00:04<00:00,  3.43it/s]"
     ]
    },
    {
     "name": "stdout",
     "output_type": "stream",
     "text": [
      "                   all        807       7092      0.584      0.268      0.292      0.205       0.57      0.252       0.27      0.164\n"
     ]
    },
    {
     "name": "stderr",
     "output_type": "stream",
     "text": [
      "\n"
     ]
    },
    {
     "name": "stdout",
     "output_type": "stream",
     "text": [
      "\n",
      "      Epoch    GPU_mem   box_loss   seg_loss   cls_loss   dfl_loss  Instances       Size\n"
     ]
    },
    {
     "name": "stderr",
     "output_type": "stream",
     "text": [
      "     15/500      4.31G      1.533      3.339      2.626       1.08        137        512: 100%|██████████| 95/95 [00:16<00:00,  5.77it/s]\n",
      "                 Class     Images  Instances      Box(P          R      mAP50  mAP50-95)     Mask(P          R      mAP50  mAP50-95): 100%|██████████| 15/15 [00:04<00:00,  3.51it/s]"
     ]
    },
    {
     "name": "stdout",
     "output_type": "stream",
     "text": [
      "                   all        807       7092      0.539      0.251      0.261      0.173      0.498      0.238      0.238       0.14\n"
     ]
    },
    {
     "name": "stderr",
     "output_type": "stream",
     "text": [
      "\n"
     ]
    },
    {
     "name": "stdout",
     "output_type": "stream",
     "text": [
      "\n",
      "      Epoch    GPU_mem   box_loss   seg_loss   cls_loss   dfl_loss  Instances       Size\n"
     ]
    },
    {
     "name": "stderr",
     "output_type": "stream",
     "text": [
      "     16/500      4.78G      1.509      3.314      2.618      1.079         96        512: 100%|██████████| 95/95 [00:16<00:00,  5.66it/s]\n",
      "                 Class     Images  Instances      Box(P          R      mAP50  mAP50-95)     Mask(P          R      mAP50  mAP50-95): 100%|██████████| 15/15 [00:04<00:00,  3.39it/s]"
     ]
    },
    {
     "name": "stdout",
     "output_type": "stream",
     "text": [
      "                   all        807       7092      0.564      0.274      0.284      0.198      0.537      0.257      0.264      0.159\n"
     ]
    },
    {
     "name": "stderr",
     "output_type": "stream",
     "text": [
      "\n"
     ]
    },
    {
     "name": "stdout",
     "output_type": "stream",
     "text": [
      "\n",
      "      Epoch    GPU_mem   box_loss   seg_loss   cls_loss   dfl_loss  Instances       Size\n"
     ]
    },
    {
     "name": "stderr",
     "output_type": "stream",
     "text": [
      "     17/500      3.91G      1.505      3.297      2.571      1.072        217        512: 100%|██████████| 95/95 [00:17<00:00,  5.33it/s]\n",
      "                 Class     Images  Instances      Box(P          R      mAP50  mAP50-95)     Mask(P          R      mAP50  mAP50-95): 100%|██████████| 15/15 [00:04<00:00,  3.26it/s]\n"
     ]
    },
    {
     "name": "stdout",
     "output_type": "stream",
     "text": [
      "                   all        807       7092      0.558      0.278      0.289      0.197      0.536      0.265      0.266      0.154\n",
      "\n",
      "      Epoch    GPU_mem   box_loss   seg_loss   cls_loss   dfl_loss  Instances       Size\n"
     ]
    },
    {
     "name": "stderr",
     "output_type": "stream",
     "text": [
      "     18/500      4.11G      1.493      3.268      2.542      1.065        163        512: 100%|██████████| 95/95 [00:16<00:00,  5.61it/s]\n",
      "                 Class     Images  Instances      Box(P          R      mAP50  mAP50-95)     Mask(P          R      mAP50  mAP50-95): 100%|██████████| 15/15 [00:04<00:00,  3.26it/s]\n"
     ]
    },
    {
     "name": "stdout",
     "output_type": "stream",
     "text": [
      "                   all        807       7092      0.614      0.292      0.309      0.218      0.575       0.28      0.288      0.173\n",
      "\n",
      "      Epoch    GPU_mem   box_loss   seg_loss   cls_loss   dfl_loss  Instances       Size\n"
     ]
    },
    {
     "name": "stderr",
     "output_type": "stream",
     "text": [
      "     19/500      4.71G      1.478      3.225      2.553      1.068         76        512: 100%|██████████| 95/95 [00:16<00:00,  5.68it/s]\n",
      "                 Class     Images  Instances      Box(P          R      mAP50  mAP50-95)     Mask(P          R      mAP50  mAP50-95): 100%|██████████| 15/15 [00:04<00:00,  3.39it/s]\n"
     ]
    },
    {
     "name": "stdout",
     "output_type": "stream",
     "text": [
      "                   all        807       7092      0.602      0.292      0.316      0.227      0.598      0.273      0.298      0.189\n",
      "\n",
      "      Epoch    GPU_mem   box_loss   seg_loss   cls_loss   dfl_loss  Instances       Size\n"
     ]
    },
    {
     "name": "stderr",
     "output_type": "stream",
     "text": [
      "     20/500      6.01G      1.482      3.254      2.554      1.064        110        512: 100%|██████████| 95/95 [00:16<00:00,  5.62it/s]\n",
      "                 Class     Images  Instances      Box(P          R      mAP50  mAP50-95)     Mask(P          R      mAP50  mAP50-95): 100%|██████████| 15/15 [00:04<00:00,  3.31it/s]\n"
     ]
    },
    {
     "name": "stdout",
     "output_type": "stream",
     "text": [
      "                   all        807       7092      0.645      0.273      0.303      0.216      0.635      0.264      0.289      0.179\n",
      "\n",
      "      Epoch    GPU_mem   box_loss   seg_loss   cls_loss   dfl_loss  Instances       Size\n"
     ]
    },
    {
     "name": "stderr",
     "output_type": "stream",
     "text": [
      "     21/500      5.33G      1.478      3.211      2.532      1.069        158        512: 100%|██████████| 95/95 [00:17<00:00,  5.56it/s]\n",
      "                 Class     Images  Instances      Box(P          R      mAP50  mAP50-95)     Mask(P          R      mAP50  mAP50-95): 100%|██████████| 15/15 [00:04<00:00,  3.36it/s]\n"
     ]
    },
    {
     "name": "stdout",
     "output_type": "stream",
     "text": [
      "                   all        807       7092      0.554      0.279      0.289      0.203      0.541      0.258       0.27      0.164\n",
      "\n",
      "      Epoch    GPU_mem   box_loss   seg_loss   cls_loss   dfl_loss  Instances       Size\n"
     ]
    },
    {
     "name": "stderr",
     "output_type": "stream",
     "text": [
      "     22/500      4.52G      1.491      3.266      2.532      1.067        202        512: 100%|██████████| 95/95 [00:16<00:00,  5.67it/s]\n",
      "                 Class     Images  Instances      Box(P          R      mAP50  mAP50-95)     Mask(P          R      mAP50  mAP50-95): 100%|██████████| 15/15 [00:04<00:00,  3.31it/s]\n"
     ]
    },
    {
     "name": "stdout",
     "output_type": "stream",
     "text": [
      "                   all        807       7092      0.539      0.285      0.293      0.208      0.532      0.267      0.272      0.162\n",
      "\n",
      "      Epoch    GPU_mem   box_loss   seg_loss   cls_loss   dfl_loss  Instances       Size\n"
     ]
    },
    {
     "name": "stderr",
     "output_type": "stream",
     "text": [
      "     23/500      3.95G      1.478      3.211      2.492      1.062        101        512: 100%|██████████| 95/95 [00:17<00:00,  5.45it/s]\n",
      "                 Class     Images  Instances      Box(P          R      mAP50  mAP50-95)     Mask(P          R      mAP50  mAP50-95): 100%|██████████| 15/15 [00:04<00:00,  3.17it/s]\n"
     ]
    },
    {
     "name": "stdout",
     "output_type": "stream",
     "text": [
      "                   all        807       7092      0.566      0.285      0.303      0.213       0.56      0.262      0.282       0.17\n",
      "\n",
      "      Epoch    GPU_mem   box_loss   seg_loss   cls_loss   dfl_loss  Instances       Size\n"
     ]
    },
    {
     "name": "stderr",
     "output_type": "stream",
     "text": [
      "     24/500      4.89G      1.466      3.218      2.491      1.058        113        512: 100%|██████████| 95/95 [00:17<00:00,  5.51it/s]\n",
      "                 Class     Images  Instances      Box(P          R      mAP50  mAP50-95)     Mask(P          R      mAP50  mAP50-95): 100%|██████████| 15/15 [00:04<00:00,  3.18it/s]\n"
     ]
    },
    {
     "name": "stdout",
     "output_type": "stream",
     "text": [
      "                   all        807       7092      0.636      0.289      0.316      0.228      0.627      0.276      0.299      0.187\n",
      "\n",
      "      Epoch    GPU_mem   box_loss   seg_loss   cls_loss   dfl_loss  Instances       Size\n"
     ]
    },
    {
     "name": "stderr",
     "output_type": "stream",
     "text": [
      "     25/500      4.19G      1.462      3.208      2.441      1.053        135        512: 100%|██████████| 95/95 [00:17<00:00,  5.55it/s]\n",
      "                 Class     Images  Instances      Box(P          R      mAP50  mAP50-95)     Mask(P          R      mAP50  mAP50-95): 100%|██████████| 15/15 [00:04<00:00,  3.29it/s]\n"
     ]
    },
    {
     "name": "stdout",
     "output_type": "stream",
     "text": [
      "                   all        807       7092      0.631      0.288      0.313      0.225      0.631      0.273      0.295      0.184\n",
      "\n",
      "      Epoch    GPU_mem   box_loss   seg_loss   cls_loss   dfl_loss  Instances       Size\n"
     ]
    },
    {
     "name": "stderr",
     "output_type": "stream",
     "text": [
      "     26/500      4.76G       1.46      3.169      2.432      1.053         99        512: 100%|██████████| 95/95 [00:17<00:00,  5.52it/s]\n",
      "                 Class     Images  Instances      Box(P          R      mAP50  mAP50-95)     Mask(P          R      mAP50  mAP50-95): 100%|██████████| 15/15 [00:04<00:00,  3.29it/s]\n"
     ]
    },
    {
     "name": "stdout",
     "output_type": "stream",
     "text": [
      "                   all        807       7092      0.623      0.292      0.317      0.226      0.596       0.28      0.297      0.179\n",
      "\n",
      "      Epoch    GPU_mem   box_loss   seg_loss   cls_loss   dfl_loss  Instances       Size\n"
     ]
    },
    {
     "name": "stderr",
     "output_type": "stream",
     "text": [
      "     27/500      4.88G      1.462      3.178      2.415      1.055         84        512: 100%|██████████| 95/95 [00:17<00:00,  5.53it/s]\n",
      "                 Class     Images  Instances      Box(P          R      mAP50  mAP50-95)     Mask(P          R      mAP50  mAP50-95): 100%|██████████| 15/15 [00:04<00:00,  3.31it/s]"
     ]
    },
    {
     "name": "stdout",
     "output_type": "stream",
     "text": [
      "                   all        807       7092      0.631      0.301      0.329       0.24      0.632      0.287      0.312      0.196\n"
     ]
    },
    {
     "name": "stderr",
     "output_type": "stream",
     "text": [
      "\n"
     ]
    },
    {
     "name": "stdout",
     "output_type": "stream",
     "text": [
      "\n",
      "      Epoch    GPU_mem   box_loss   seg_loss   cls_loss   dfl_loss  Instances       Size\n"
     ]
    },
    {
     "name": "stderr",
     "output_type": "stream",
     "text": [
      "     28/500      3.54G      1.431      3.158      2.406      1.044         73        512: 100%|██████████| 95/95 [00:16<00:00,  5.61it/s]\n",
      "                 Class     Images  Instances      Box(P          R      mAP50  mAP50-95)     Mask(P          R      mAP50  mAP50-95): 100%|██████████| 15/15 [00:04<00:00,  3.32it/s]\n"
     ]
    },
    {
     "name": "stdout",
     "output_type": "stream",
     "text": [
      "                   all        807       7092      0.592      0.311      0.329      0.236      0.568      0.299      0.309       0.19\n",
      "\n",
      "      Epoch    GPU_mem   box_loss   seg_loss   cls_loss   dfl_loss  Instances       Size\n"
     ]
    },
    {
     "name": "stderr",
     "output_type": "stream",
     "text": [
      "     29/500      4.89G      1.443      3.106      2.398      1.042        123        512: 100%|██████████| 95/95 [00:17<00:00,  5.54it/s]\n",
      "                 Class     Images  Instances      Box(P          R      mAP50  mAP50-95)     Mask(P          R      mAP50  mAP50-95): 100%|██████████| 15/15 [00:04<00:00,  3.29it/s]\n"
     ]
    },
    {
     "name": "stdout",
     "output_type": "stream",
     "text": [
      "                   all        807       7092       0.57       0.29      0.303      0.218      0.561      0.276      0.285      0.175\n",
      "\n",
      "      Epoch    GPU_mem   box_loss   seg_loss   cls_loss   dfl_loss  Instances       Size\n"
     ]
    },
    {
     "name": "stderr",
     "output_type": "stream",
     "text": [
      "     30/500      4.42G      1.417      3.096      2.359      1.034         76        512: 100%|██████████| 95/95 [00:16<00:00,  5.62it/s]\n",
      "                 Class     Images  Instances      Box(P          R      mAP50  mAP50-95)     Mask(P          R      mAP50  mAP50-95): 100%|██████████| 15/15 [00:04<00:00,  3.36it/s]\n"
     ]
    },
    {
     "name": "stdout",
     "output_type": "stream",
     "text": [
      "                   all        807       7092      0.628      0.307      0.331      0.242      0.605       0.29      0.307       0.19\n",
      "\n",
      "      Epoch    GPU_mem   box_loss   seg_loss   cls_loss   dfl_loss  Instances       Size\n"
     ]
    },
    {
     "name": "stderr",
     "output_type": "stream",
     "text": [
      "     31/500      4.55G      1.443      3.151      2.348       1.04        220        512: 100%|██████████| 95/95 [00:16<00:00,  5.65it/s]\n",
      "                 Class     Images  Instances      Box(P          R      mAP50  mAP50-95)     Mask(P          R      mAP50  mAP50-95): 100%|██████████| 15/15 [00:04<00:00,  3.38it/s]\n"
     ]
    },
    {
     "name": "stdout",
     "output_type": "stream",
     "text": [
      "                   all        807       7092      0.606      0.297      0.327      0.237      0.604      0.283       0.31      0.195\n",
      "\n",
      "      Epoch    GPU_mem   box_loss   seg_loss   cls_loss   dfl_loss  Instances       Size\n"
     ]
    },
    {
     "name": "stderr",
     "output_type": "stream",
     "text": [
      "     32/500      4.28G      1.422      3.109      2.345      1.041        186        512: 100%|██████████| 95/95 [00:16<00:00,  5.63it/s]\n",
      "                 Class     Images  Instances      Box(P          R      mAP50  mAP50-95)     Mask(P          R      mAP50  mAP50-95): 100%|██████████| 15/15 [00:04<00:00,  3.38it/s]\n"
     ]
    },
    {
     "name": "stdout",
     "output_type": "stream",
     "text": [
      "                   all        807       7092      0.586      0.288       0.31      0.224      0.575      0.272      0.292      0.181\n",
      "\n",
      "      Epoch    GPU_mem   box_loss   seg_loss   cls_loss   dfl_loss  Instances       Size\n"
     ]
    },
    {
     "name": "stderr",
     "output_type": "stream",
     "text": [
      "     33/500      4.57G      1.414      3.108      2.311      1.036        222        512: 100%|██████████| 95/95 [00:17<00:00,  5.57it/s]\n",
      "                 Class     Images  Instances      Box(P          R      mAP50  mAP50-95)     Mask(P          R      mAP50  mAP50-95): 100%|██████████| 15/15 [00:04<00:00,  3.36it/s]"
     ]
    },
    {
     "name": "stdout",
     "output_type": "stream",
     "text": [
      "                   all        807       7092      0.621       0.31      0.332       0.24      0.594      0.294      0.308       0.19\n"
     ]
    },
    {
     "name": "stderr",
     "output_type": "stream",
     "text": [
      "\n"
     ]
    },
    {
     "name": "stdout",
     "output_type": "stream",
     "text": [
      "\n",
      "      Epoch    GPU_mem   box_loss   seg_loss   cls_loss   dfl_loss  Instances       Size\n"
     ]
    },
    {
     "name": "stderr",
     "output_type": "stream",
     "text": [
      "     34/500      4.37G      1.389      3.072      2.273      1.026        154        512: 100%|██████████| 95/95 [00:17<00:00,  5.54it/s]\n",
      "                 Class     Images  Instances      Box(P          R      mAP50  mAP50-95)     Mask(P          R      mAP50  mAP50-95): 100%|██████████| 15/15 [00:04<00:00,  3.35it/s]\n"
     ]
    },
    {
     "name": "stdout",
     "output_type": "stream",
     "text": [
      "                   all        807       7092      0.616      0.313      0.338      0.245      0.602      0.297      0.316      0.194\n",
      "\n",
      "      Epoch    GPU_mem   box_loss   seg_loss   cls_loss   dfl_loss  Instances       Size\n"
     ]
    },
    {
     "name": "stderr",
     "output_type": "stream",
     "text": [
      "     35/500      3.74G      1.389      3.065      2.229      1.025        227        512: 100%|██████████| 95/95 [00:16<00:00,  5.69it/s]\n",
      "                 Class     Images  Instances      Box(P          R      mAP50  mAP50-95)     Mask(P          R      mAP50  mAP50-95): 100%|██████████| 15/15 [00:04<00:00,  3.37it/s]\n"
     ]
    },
    {
     "name": "stdout",
     "output_type": "stream",
     "text": [
      "                   all        807       7092       0.63      0.305      0.336      0.243      0.605       0.29      0.313      0.195\n",
      "\n",
      "      Epoch    GPU_mem   box_loss   seg_loss   cls_loss   dfl_loss  Instances       Size\n"
     ]
    },
    {
     "name": "stderr",
     "output_type": "stream",
     "text": [
      "     36/500      4.06G      1.394      3.081      2.249      1.025        220        512: 100%|██████████| 95/95 [00:16<00:00,  5.72it/s]\n",
      "                 Class     Images  Instances      Box(P          R      mAP50  mAP50-95)     Mask(P          R      mAP50  mAP50-95): 100%|██████████| 15/15 [00:04<00:00,  3.41it/s]\n"
     ]
    },
    {
     "name": "stdout",
     "output_type": "stream",
     "text": [
      "                   all        807       7092      0.666      0.309      0.342      0.251      0.654      0.295      0.321        0.2\n",
      "\n",
      "      Epoch    GPU_mem   box_loss   seg_loss   cls_loss   dfl_loss  Instances       Size\n"
     ]
    },
    {
     "name": "stderr",
     "output_type": "stream",
     "text": [
      "     37/500      4.94G      1.375      3.029      2.199      1.015        164        512: 100%|██████████| 95/95 [00:16<00:00,  5.72it/s]\n",
      "                 Class     Images  Instances      Box(P          R      mAP50  mAP50-95)     Mask(P          R      mAP50  mAP50-95): 100%|██████████| 15/15 [00:04<00:00,  3.44it/s]\n"
     ]
    },
    {
     "name": "stdout",
     "output_type": "stream",
     "text": [
      "                   all        807       7092        0.7      0.305       0.35      0.257      0.667      0.295      0.329      0.208\n",
      "\n",
      "      Epoch    GPU_mem   box_loss   seg_loss   cls_loss   dfl_loss  Instances       Size\n"
     ]
    },
    {
     "name": "stderr",
     "output_type": "stream",
     "text": [
      "     38/500       5.2G      1.383      3.052      2.194      1.021        166        512: 100%|██████████| 95/95 [00:16<00:00,  5.71it/s]\n",
      "                 Class     Images  Instances      Box(P          R      mAP50  mAP50-95)     Mask(P          R      mAP50  mAP50-95): 100%|██████████| 15/15 [00:04<00:00,  3.41it/s]\n"
     ]
    },
    {
     "name": "stdout",
     "output_type": "stream",
     "text": [
      "                   all        807       7092      0.667      0.323      0.354      0.258      0.644      0.307      0.332      0.208\n",
      "\n",
      "      Epoch    GPU_mem   box_loss   seg_loss   cls_loss   dfl_loss  Instances       Size\n"
     ]
    },
    {
     "name": "stderr",
     "output_type": "stream",
     "text": [
      "     39/500      5.29G      1.373      3.026      2.225      1.013         98        512: 100%|██████████| 95/95 [00:16<00:00,  5.68it/s]\n",
      "                 Class     Images  Instances      Box(P          R      mAP50  mAP50-95)     Mask(P          R      mAP50  mAP50-95): 100%|██████████| 15/15 [00:04<00:00,  3.43it/s]"
     ]
    },
    {
     "name": "stdout",
     "output_type": "stream",
     "text": [
      "                   all        807       7092       0.66      0.319      0.355       0.26      0.657      0.297       0.33       0.21\n"
     ]
    },
    {
     "name": "stderr",
     "output_type": "stream",
     "text": [
      "\n"
     ]
    },
    {
     "name": "stdout",
     "output_type": "stream",
     "text": [
      "\n",
      "      Epoch    GPU_mem   box_loss   seg_loss   cls_loss   dfl_loss  Instances       Size\n"
     ]
    },
    {
     "name": "stderr",
     "output_type": "stream",
     "text": [
      "     40/500      4.88G      1.383      3.026      2.194      1.023        162        512: 100%|██████████| 95/95 [00:16<00:00,  5.71it/s]\n",
      "                 Class     Images  Instances      Box(P          R      mAP50  mAP50-95)     Mask(P          R      mAP50  mAP50-95): 100%|██████████| 15/15 [00:04<00:00,  3.24it/s]"
     ]
    },
    {
     "name": "stdout",
     "output_type": "stream",
     "text": [
      "                   all        807       7092      0.631      0.329      0.349      0.256      0.613      0.317      0.331      0.208\n"
     ]
    },
    {
     "name": "stderr",
     "output_type": "stream",
     "text": [
      "\n"
     ]
    },
    {
     "name": "stdout",
     "output_type": "stream",
     "text": [
      "\n",
      "      Epoch    GPU_mem   box_loss   seg_loss   cls_loss   dfl_loss  Instances       Size\n"
     ]
    },
    {
     "name": "stderr",
     "output_type": "stream",
     "text": [
      "     41/500      3.84G      1.368      3.034      2.204      1.017         67        512: 100%|██████████| 95/95 [00:16<00:00,  5.67it/s]\n",
      "                 Class     Images  Instances      Box(P          R      mAP50  mAP50-95)     Mask(P          R      mAP50  mAP50-95): 100%|██████████| 15/15 [00:04<00:00,  3.34it/s]\n"
     ]
    },
    {
     "name": "stdout",
     "output_type": "stream",
     "text": [
      "                   all        807       7092      0.717      0.322      0.359      0.265      0.684      0.309      0.334      0.208\n",
      "\n",
      "      Epoch    GPU_mem   box_loss   seg_loss   cls_loss   dfl_loss  Instances       Size\n"
     ]
    },
    {
     "name": "stderr",
     "output_type": "stream",
     "text": [
      "     42/500      4.53G      1.378      3.022      2.197      1.025        129        512: 100%|██████████| 95/95 [00:16<00:00,  5.64it/s]\n",
      "                 Class     Images  Instances      Box(P          R      mAP50  mAP50-95)     Mask(P          R      mAP50  mAP50-95): 100%|██████████| 15/15 [00:04<00:00,  3.31it/s]\n"
     ]
    },
    {
     "name": "stdout",
     "output_type": "stream",
     "text": [
      "                   all        807       7092      0.643      0.326      0.351      0.258      0.635      0.309      0.333      0.211\n",
      "\n",
      "      Epoch    GPU_mem   box_loss   seg_loss   cls_loss   dfl_loss  Instances       Size\n"
     ]
    },
    {
     "name": "stderr",
     "output_type": "stream",
     "text": [
      "     43/500      5.02G      1.377      3.043      2.175      1.013        247        512: 100%|██████████| 95/95 [00:16<00:00,  5.66it/s]\n",
      "                 Class     Images  Instances      Box(P          R      mAP50  mAP50-95)     Mask(P          R      mAP50  mAP50-95): 100%|██████████| 15/15 [00:04<00:00,  3.27it/s]\n"
     ]
    },
    {
     "name": "stdout",
     "output_type": "stream",
     "text": [
      "                   all        807       7092      0.642      0.326      0.353      0.263      0.643      0.309      0.336      0.217\n",
      "\n",
      "      Epoch    GPU_mem   box_loss   seg_loss   cls_loss   dfl_loss  Instances       Size\n"
     ]
    },
    {
     "name": "stderr",
     "output_type": "stream",
     "text": [
      "     44/500      4.36G      1.364      3.006      2.149      1.015        265        512: 100%|██████████| 95/95 [00:16<00:00,  5.64it/s]\n",
      "                 Class     Images  Instances      Box(P          R      mAP50  mAP50-95)     Mask(P          R      mAP50  mAP50-95): 100%|██████████| 15/15 [00:04<00:00,  3.46it/s]\n"
     ]
    },
    {
     "name": "stdout",
     "output_type": "stream",
     "text": [
      "                   all        807       7092      0.654      0.336      0.366      0.271      0.655       0.32      0.344      0.218\n",
      "\n",
      "      Epoch    GPU_mem   box_loss   seg_loss   cls_loss   dfl_loss  Instances       Size\n"
     ]
    },
    {
     "name": "stderr",
     "output_type": "stream",
     "text": [
      "     45/500      4.32G      1.346      2.971      2.113      1.005         86        512: 100%|██████████| 95/95 [00:16<00:00,  5.68it/s]\n",
      "                 Class     Images  Instances      Box(P          R      mAP50  mAP50-95)     Mask(P          R      mAP50  mAP50-95): 100%|██████████| 15/15 [00:04<00:00,  3.36it/s]"
     ]
    },
    {
     "name": "stdout",
     "output_type": "stream",
     "text": [
      "                   all        807       7092      0.699      0.331      0.368      0.273      0.689      0.314      0.346      0.224\n"
     ]
    },
    {
     "name": "stderr",
     "output_type": "stream",
     "text": [
      "\n"
     ]
    },
    {
     "name": "stdout",
     "output_type": "stream",
     "text": [
      "\n",
      "      Epoch    GPU_mem   box_loss   seg_loss   cls_loss   dfl_loss  Instances       Size\n"
     ]
    },
    {
     "name": "stderr",
     "output_type": "stream",
     "text": [
      "     46/500       4.5G      1.352      2.976      2.134      1.009        181        512: 100%|██████████| 95/95 [00:16<00:00,  5.66it/s]\n",
      "                 Class     Images  Instances      Box(P          R      mAP50  mAP50-95)     Mask(P          R      mAP50  mAP50-95): 100%|██████████| 15/15 [00:04<00:00,  3.34it/s]\n"
     ]
    },
    {
     "name": "stdout",
     "output_type": "stream",
     "text": [
      "                   all        807       7092      0.694      0.338      0.374       0.28      0.667      0.329      0.356      0.227\n",
      "\n",
      "      Epoch    GPU_mem   box_loss   seg_loss   cls_loss   dfl_loss  Instances       Size\n"
     ]
    },
    {
     "name": "stderr",
     "output_type": "stream",
     "text": [
      "     47/500      4.07G      1.364      2.988      2.148      1.006        127        512: 100%|██████████| 95/95 [00:16<00:00,  5.65it/s]\n",
      "                 Class     Images  Instances      Box(P          R      mAP50  mAP50-95)     Mask(P          R      mAP50  mAP50-95): 100%|██████████| 15/15 [00:04<00:00,  3.44it/s]"
     ]
    },
    {
     "name": "stdout",
     "output_type": "stream",
     "text": [
      "                   all        807       7092      0.708      0.324      0.365      0.271      0.683      0.313      0.344      0.221\n"
     ]
    },
    {
     "name": "stderr",
     "output_type": "stream",
     "text": [
      "\n"
     ]
    },
    {
     "name": "stdout",
     "output_type": "stream",
     "text": [
      "\n",
      "      Epoch    GPU_mem   box_loss   seg_loss   cls_loss   dfl_loss  Instances       Size\n"
     ]
    },
    {
     "name": "stderr",
     "output_type": "stream",
     "text": [
      "     48/500      4.72G      1.337      2.961      2.114      1.001         79        512: 100%|██████████| 95/95 [00:16<00:00,  5.78it/s]\n",
      "                 Class     Images  Instances      Box(P          R      mAP50  mAP50-95)     Mask(P          R      mAP50  mAP50-95): 100%|██████████| 15/15 [00:04<00:00,  3.42it/s]"
     ]
    },
    {
     "name": "stdout",
     "output_type": "stream",
     "text": [
      "                   all        807       7092      0.726      0.325      0.367      0.274      0.693      0.314      0.347       0.22\n"
     ]
    },
    {
     "name": "stderr",
     "output_type": "stream",
     "text": [
      "\n"
     ]
    },
    {
     "name": "stdout",
     "output_type": "stream",
     "text": [
      "\n",
      "      Epoch    GPU_mem   box_loss   seg_loss   cls_loss   dfl_loss  Instances       Size\n"
     ]
    },
    {
     "name": "stderr",
     "output_type": "stream",
     "text": [
      "     49/500       4.8G      1.335      2.946       2.08     0.9986        103        512: 100%|██████████| 95/95 [00:16<00:00,  5.69it/s]\n",
      "                 Class     Images  Instances      Box(P          R      mAP50  mAP50-95)     Mask(P          R      mAP50  mAP50-95): 100%|██████████| 15/15 [00:04<00:00,  3.45it/s]"
     ]
    },
    {
     "name": "stdout",
     "output_type": "stream",
     "text": [
      "                   all        807       7092      0.684      0.343      0.377      0.284       0.69      0.323      0.356      0.229\n"
     ]
    },
    {
     "name": "stderr",
     "output_type": "stream",
     "text": [
      "\n"
     ]
    },
    {
     "name": "stdout",
     "output_type": "stream",
     "text": [
      "\n",
      "      Epoch    GPU_mem   box_loss   seg_loss   cls_loss   dfl_loss  Instances       Size\n"
     ]
    },
    {
     "name": "stderr",
     "output_type": "stream",
     "text": [
      "     50/500      4.05G        1.3      2.912      2.035     0.9935        175        512: 100%|██████████| 95/95 [00:17<00:00,  5.57it/s]\n",
      "                 Class     Images  Instances      Box(P          R      mAP50  mAP50-95)     Mask(P          R      mAP50  mAP50-95): 100%|██████████| 15/15 [00:04<00:00,  3.35it/s]"
     ]
    },
    {
     "name": "stdout",
     "output_type": "stream",
     "text": [
      "                   all        807       7092      0.709      0.332      0.372       0.28      0.694      0.319      0.352      0.227\n"
     ]
    },
    {
     "name": "stderr",
     "output_type": "stream",
     "text": [
      "\n"
     ]
    },
    {
     "name": "stdout",
     "output_type": "stream",
     "text": [
      "\n",
      "      Epoch    GPU_mem   box_loss   seg_loss   cls_loss   dfl_loss  Instances       Size\n"
     ]
    },
    {
     "name": "stderr",
     "output_type": "stream",
     "text": [
      "     51/500       4.3G      1.324      2.934      2.065     0.9972        208        512: 100%|██████████| 95/95 [00:16<00:00,  5.70it/s]\n",
      "                 Class     Images  Instances      Box(P          R      mAP50  mAP50-95)     Mask(P          R      mAP50  mAP50-95): 100%|██████████| 15/15 [00:04<00:00,  3.27it/s]\n"
     ]
    },
    {
     "name": "stdout",
     "output_type": "stream",
     "text": [
      "                   all        807       7092      0.686      0.339      0.376      0.285      0.712      0.318      0.358      0.232\n",
      "\n",
      "      Epoch    GPU_mem   box_loss   seg_loss   cls_loss   dfl_loss  Instances       Size\n"
     ]
    },
    {
     "name": "stderr",
     "output_type": "stream",
     "text": [
      "     52/500      4.75G      1.323      2.923      2.058     0.9958        104        512: 100%|██████████| 95/95 [00:16<00:00,  5.69it/s]\n",
      "                 Class     Images  Instances      Box(P          R      mAP50  mAP50-95)     Mask(P          R      mAP50  mAP50-95): 100%|██████████| 15/15 [00:04<00:00,  3.32it/s]"
     ]
    },
    {
     "name": "stdout",
     "output_type": "stream",
     "text": [
      "                   all        807       7092      0.659      0.347      0.376      0.282       0.66       0.33      0.357      0.228\n"
     ]
    },
    {
     "name": "stderr",
     "output_type": "stream",
     "text": [
      "\n"
     ]
    },
    {
     "name": "stdout",
     "output_type": "stream",
     "text": [
      "\n",
      "      Epoch    GPU_mem   box_loss   seg_loss   cls_loss   dfl_loss  Instances       Size\n"
     ]
    },
    {
     "name": "stderr",
     "output_type": "stream",
     "text": [
      "     53/500      4.16G      1.326      2.942      2.025       0.99        101        512: 100%|██████████| 95/95 [00:16<00:00,  5.69it/s]\n",
      "                 Class     Images  Instances      Box(P          R      mAP50  mAP50-95)     Mask(P          R      mAP50  mAP50-95): 100%|██████████| 15/15 [00:04<00:00,  3.38it/s]"
     ]
    },
    {
     "name": "stdout",
     "output_type": "stream",
     "text": [
      "                   all        807       7092      0.687      0.345      0.382      0.286      0.698       0.33      0.363      0.236\n"
     ]
    },
    {
     "name": "stderr",
     "output_type": "stream",
     "text": [
      "\n"
     ]
    },
    {
     "name": "stdout",
     "output_type": "stream",
     "text": [
      "\n",
      "      Epoch    GPU_mem   box_loss   seg_loss   cls_loss   dfl_loss  Instances       Size\n"
     ]
    },
    {
     "name": "stderr",
     "output_type": "stream",
     "text": [
      "     54/500      4.29G      1.328      2.926      2.054     0.9934        117        512: 100%|██████████| 95/95 [00:16<00:00,  5.61it/s]\n",
      "                 Class     Images  Instances      Box(P          R      mAP50  mAP50-95)     Mask(P          R      mAP50  mAP50-95): 100%|██████████| 15/15 [00:04<00:00,  3.38it/s]"
     ]
    },
    {
     "name": "stdout",
     "output_type": "stream",
     "text": [
      "                   all        807       7092      0.741      0.343      0.386       0.29      0.729      0.328      0.364      0.235\n"
     ]
    },
    {
     "name": "stderr",
     "output_type": "stream",
     "text": [
      "\n"
     ]
    },
    {
     "name": "stdout",
     "output_type": "stream",
     "text": [
      "\n",
      "      Epoch    GPU_mem   box_loss   seg_loss   cls_loss   dfl_loss  Instances       Size\n"
     ]
    },
    {
     "name": "stderr",
     "output_type": "stream",
     "text": [
      "     55/500       4.8G      1.326      2.925      2.035     0.9968        137        512: 100%|██████████| 95/95 [00:16<00:00,  5.69it/s]\n",
      "                 Class     Images  Instances      Box(P          R      mAP50  mAP50-95)     Mask(P          R      mAP50  mAP50-95): 100%|██████████| 15/15 [00:04<00:00,  3.42it/s]\n"
     ]
    },
    {
     "name": "stdout",
     "output_type": "stream",
     "text": [
      "                   all        807       7092      0.741      0.342      0.384      0.286      0.702      0.331      0.364      0.233\n",
      "\n",
      "      Epoch    GPU_mem   box_loss   seg_loss   cls_loss   dfl_loss  Instances       Size\n"
     ]
    },
    {
     "name": "stderr",
     "output_type": "stream",
     "text": [
      "     56/500      4.07G      1.311      2.882      2.009     0.9886        108        512: 100%|██████████| 95/95 [00:16<00:00,  5.66it/s]\n",
      "                 Class     Images  Instances      Box(P          R      mAP50  mAP50-95)     Mask(P          R      mAP50  mAP50-95): 100%|██████████| 15/15 [00:04<00:00,  3.41it/s]\n"
     ]
    },
    {
     "name": "stdout",
     "output_type": "stream",
     "text": [
      "                   all        807       7092      0.725      0.335      0.373      0.284      0.704      0.323      0.353      0.231\n",
      "\n",
      "      Epoch    GPU_mem   box_loss   seg_loss   cls_loss   dfl_loss  Instances       Size\n"
     ]
    },
    {
     "name": "stderr",
     "output_type": "stream",
     "text": [
      "     57/500      4.94G      1.329      2.938      2.032     0.9945        159        512: 100%|██████████| 95/95 [00:16<00:00,  5.60it/s]\n",
      "                 Class     Images  Instances      Box(P          R      mAP50  mAP50-95)     Mask(P          R      mAP50  mAP50-95): 100%|██████████| 15/15 [00:04<00:00,  3.28it/s]"
     ]
    },
    {
     "name": "stdout",
     "output_type": "stream",
     "text": [
      "                   all        807       7092      0.748      0.344      0.388      0.292      0.713      0.331      0.363      0.239\n"
     ]
    },
    {
     "name": "stderr",
     "output_type": "stream",
     "text": [
      "\n"
     ]
    },
    {
     "name": "stdout",
     "output_type": "stream",
     "text": [
      "\n",
      "      Epoch    GPU_mem   box_loss   seg_loss   cls_loss   dfl_loss  Instances       Size\n"
     ]
    },
    {
     "name": "stderr",
     "output_type": "stream",
     "text": [
      "     58/500      4.41G       1.31      2.886      1.994     0.9894        112        512: 100%|██████████| 95/95 [00:16<00:00,  5.60it/s]\n",
      "                 Class     Images  Instances      Box(P          R      mAP50  mAP50-95)     Mask(P          R      mAP50  mAP50-95): 100%|██████████| 15/15 [00:04<00:00,  3.37it/s]"
     ]
    },
    {
     "name": "stdout",
     "output_type": "stream",
     "text": [
      "                   all        807       7092      0.772      0.341      0.389      0.292      0.755      0.331       0.37      0.238\n"
     ]
    },
    {
     "name": "stderr",
     "output_type": "stream",
     "text": [
      "\n"
     ]
    },
    {
     "name": "stdout",
     "output_type": "stream",
     "text": [
      "\n",
      "      Epoch    GPU_mem   box_loss   seg_loss   cls_loss   dfl_loss  Instances       Size\n"
     ]
    },
    {
     "name": "stderr",
     "output_type": "stream",
     "text": [
      "     59/500       4.2G      1.301      2.911      1.984     0.9857        148        512: 100%|██████████| 95/95 [00:16<00:00,  5.62it/s]\n",
      "                 Class     Images  Instances      Box(P          R      mAP50  mAP50-95)     Mask(P          R      mAP50  mAP50-95): 100%|██████████| 15/15 [00:04<00:00,  3.31it/s]\n"
     ]
    },
    {
     "name": "stdout",
     "output_type": "stream",
     "text": [
      "                   all        807       7092      0.717      0.348      0.387      0.294      0.696      0.338      0.367      0.242\n",
      "\n",
      "      Epoch    GPU_mem   box_loss   seg_loss   cls_loss   dfl_loss  Instances       Size\n"
     ]
    },
    {
     "name": "stderr",
     "output_type": "stream",
     "text": [
      "     60/500       4.4G      1.288      2.847      1.924     0.9793        189        512: 100%|██████████| 95/95 [00:16<00:00,  5.61it/s]\n",
      "                 Class     Images  Instances      Box(P          R      mAP50  mAP50-95)     Mask(P          R      mAP50  mAP50-95): 100%|██████████| 15/15 [00:04<00:00,  3.35it/s]\n"
     ]
    },
    {
     "name": "stdout",
     "output_type": "stream",
     "text": [
      "                   all        807       7092      0.736      0.345      0.385       0.29      0.751      0.325      0.364      0.237\n",
      "\n",
      "      Epoch    GPU_mem   box_loss   seg_loss   cls_loss   dfl_loss  Instances       Size\n"
     ]
    },
    {
     "name": "stderr",
     "output_type": "stream",
     "text": [
      "     61/500      4.62G      1.287      2.837      1.954     0.9818        166        512: 100%|██████████| 95/95 [00:16<00:00,  5.64it/s]\n",
      "                 Class     Images  Instances      Box(P          R      mAP50  mAP50-95)     Mask(P          R      mAP50  mAP50-95): 100%|██████████| 15/15 [00:04<00:00,  3.41it/s]"
     ]
    },
    {
     "name": "stdout",
     "output_type": "stream",
     "text": [
      "                   all        807       7092      0.755      0.331       0.38      0.289      0.733      0.322       0.36      0.233\n"
     ]
    },
    {
     "name": "stderr",
     "output_type": "stream",
     "text": [
      "\n"
     ]
    },
    {
     "name": "stdout",
     "output_type": "stream",
     "text": [
      "\n",
      "      Epoch    GPU_mem   box_loss   seg_loss   cls_loss   dfl_loss  Instances       Size\n"
     ]
    },
    {
     "name": "stderr",
     "output_type": "stream",
     "text": [
      "     62/500      3.97G      1.298      2.865      1.992      0.986        235        512: 100%|██████████| 95/95 [00:16<00:00,  5.68it/s]\n",
      "                 Class     Images  Instances      Box(P          R      mAP50  mAP50-95)     Mask(P          R      mAP50  mAP50-95): 100%|██████████| 15/15 [00:04<00:00,  3.34it/s]\n"
     ]
    },
    {
     "name": "stdout",
     "output_type": "stream",
     "text": [
      "                   all        807       7092       0.74      0.357      0.394        0.3      0.735      0.341      0.373      0.245\n",
      "\n",
      "      Epoch    GPU_mem   box_loss   seg_loss   cls_loss   dfl_loss  Instances       Size\n"
     ]
    },
    {
     "name": "stderr",
     "output_type": "stream",
     "text": [
      "     63/500      4.11G      1.287      2.849      1.967     0.9792        169        512: 100%|██████████| 95/95 [00:17<00:00,  5.56it/s]\n",
      "                 Class     Images  Instances      Box(P          R      mAP50  mAP50-95)     Mask(P          R      mAP50  mAP50-95): 100%|██████████| 15/15 [00:04<00:00,  3.25it/s]"
     ]
    },
    {
     "name": "stdout",
     "output_type": "stream",
     "text": [
      "                   all        807       7092      0.707      0.352      0.391      0.297      0.689       0.34      0.371      0.241\n"
     ]
    },
    {
     "name": "stderr",
     "output_type": "stream",
     "text": [
      "\n"
     ]
    },
    {
     "name": "stdout",
     "output_type": "stream",
     "text": [
      "\n",
      "      Epoch    GPU_mem   box_loss   seg_loss   cls_loss   dfl_loss  Instances       Size\n"
     ]
    },
    {
     "name": "stderr",
     "output_type": "stream",
     "text": [
      "     64/500      3.85G      1.294      2.878      1.938     0.9797        124        512: 100%|██████████| 95/95 [00:16<00:00,  5.75it/s]\n",
      "                 Class     Images  Instances      Box(P          R      mAP50  mAP50-95)     Mask(P          R      mAP50  mAP50-95): 100%|██████████| 15/15 [00:04<00:00,  3.41it/s]"
     ]
    },
    {
     "name": "stdout",
     "output_type": "stream",
     "text": [
      "                   all        807       7092      0.732      0.354      0.394      0.299      0.724       0.34      0.372      0.241\n"
     ]
    },
    {
     "name": "stderr",
     "output_type": "stream",
     "text": [
      "\n"
     ]
    },
    {
     "name": "stdout",
     "output_type": "stream",
     "text": [
      "\n",
      "      Epoch    GPU_mem   box_loss   seg_loss   cls_loss   dfl_loss  Instances       Size\n"
     ]
    },
    {
     "name": "stderr",
     "output_type": "stream",
     "text": [
      "     65/500       4.2G      1.278      2.862      1.933     0.9721         86        512: 100%|██████████| 95/95 [00:16<00:00,  5.73it/s]\n",
      "                 Class     Images  Instances      Box(P          R      mAP50  mAP50-95)     Mask(P          R      mAP50  mAP50-95): 100%|██████████| 15/15 [00:04<00:00,  3.40it/s]"
     ]
    },
    {
     "name": "stdout",
     "output_type": "stream",
     "text": [
      "                   all        807       7092      0.766       0.36      0.402       0.31       0.74      0.347      0.381      0.254\n"
     ]
    },
    {
     "name": "stderr",
     "output_type": "stream",
     "text": [
      "\n"
     ]
    },
    {
     "name": "stdout",
     "output_type": "stream",
     "text": [
      "\n",
      "      Epoch    GPU_mem   box_loss   seg_loss   cls_loss   dfl_loss  Instances       Size\n"
     ]
    },
    {
     "name": "stderr",
     "output_type": "stream",
     "text": [
      "     66/500      4.17G      1.281      2.837      1.896     0.9753        152        512: 100%|██████████| 95/95 [00:16<00:00,  5.73it/s]\n",
      "                 Class     Images  Instances      Box(P          R      mAP50  mAP50-95)     Mask(P          R      mAP50  mAP50-95): 100%|██████████| 15/15 [00:04<00:00,  3.42it/s]"
     ]
    },
    {
     "name": "stdout",
     "output_type": "stream",
     "text": [
      "                   all        807       7092       0.74      0.363        0.4      0.308      0.709       0.35      0.379      0.253\n"
     ]
    },
    {
     "name": "stderr",
     "output_type": "stream",
     "text": [
      "\n"
     ]
    },
    {
     "name": "stdout",
     "output_type": "stream",
     "text": [
      "\n",
      "      Epoch    GPU_mem   box_loss   seg_loss   cls_loss   dfl_loss  Instances       Size\n"
     ]
    },
    {
     "name": "stderr",
     "output_type": "stream",
     "text": [
      "     67/500      4.33G      1.299      2.882      1.938     0.9824        136        512: 100%|██████████| 95/95 [00:16<00:00,  5.69it/s]\n",
      "                 Class     Images  Instances      Box(P          R      mAP50  mAP50-95)     Mask(P          R      mAP50  mAP50-95): 100%|██████████| 15/15 [00:04<00:00,  3.48it/s]\n"
     ]
    },
    {
     "name": "stdout",
     "output_type": "stream",
     "text": [
      "                   all        807       7092      0.758      0.354      0.396      0.301      0.758      0.337      0.372      0.245\n",
      "\n",
      "      Epoch    GPU_mem   box_loss   seg_loss   cls_loss   dfl_loss  Instances       Size\n"
     ]
    },
    {
     "name": "stderr",
     "output_type": "stream",
     "text": [
      "     68/500      4.17G      1.265      2.833       1.88     0.9701        179        512: 100%|██████████| 95/95 [00:16<00:00,  5.71it/s]\n",
      "                 Class     Images  Instances      Box(P          R      mAP50  mAP50-95)     Mask(P          R      mAP50  mAP50-95): 100%|██████████| 15/15 [00:04<00:00,  3.39it/s]"
     ]
    },
    {
     "name": "stdout",
     "output_type": "stream",
     "text": [
      "                   all        807       7092      0.753      0.356      0.398      0.306      0.749      0.341       0.38       0.25\n"
     ]
    },
    {
     "name": "stderr",
     "output_type": "stream",
     "text": [
      "\n"
     ]
    },
    {
     "name": "stdout",
     "output_type": "stream",
     "text": [
      "\n",
      "      Epoch    GPU_mem   box_loss   seg_loss   cls_loss   dfl_loss  Instances       Size\n"
     ]
    },
    {
     "name": "stderr",
     "output_type": "stream",
     "text": [
      "     69/500      4.73G      1.262      2.807      1.853     0.9691        186        512: 100%|██████████| 95/95 [00:16<00:00,  5.72it/s]\n",
      "                 Class     Images  Instances      Box(P          R      mAP50  mAP50-95)     Mask(P          R      mAP50  mAP50-95): 100%|██████████| 15/15 [00:04<00:00,  3.41it/s]"
     ]
    },
    {
     "name": "stdout",
     "output_type": "stream",
     "text": [
      "                   all        807       7092      0.724      0.364      0.401      0.309      0.724       0.35      0.381      0.249\n"
     ]
    },
    {
     "name": "stderr",
     "output_type": "stream",
     "text": [
      "\n"
     ]
    },
    {
     "name": "stdout",
     "output_type": "stream",
     "text": [
      "\n",
      "      Epoch    GPU_mem   box_loss   seg_loss   cls_loss   dfl_loss  Instances       Size\n"
     ]
    },
    {
     "name": "stderr",
     "output_type": "stream",
     "text": [
      "     70/500      4.31G      1.278      2.829      1.898     0.9687        104        512: 100%|██████████| 95/95 [00:16<00:00,  5.72it/s]\n",
      "                 Class     Images  Instances      Box(P          R      mAP50  mAP50-95)     Mask(P          R      mAP50  mAP50-95): 100%|██████████| 15/15 [00:04<00:00,  3.44it/s]"
     ]
    },
    {
     "name": "stdout",
     "output_type": "stream",
     "text": [
      "                   all        807       7092      0.765      0.357      0.402      0.307      0.768      0.343      0.384      0.251\n"
     ]
    },
    {
     "name": "stderr",
     "output_type": "stream",
     "text": [
      "\n"
     ]
    },
    {
     "name": "stdout",
     "output_type": "stream",
     "text": [
      "\n",
      "      Epoch    GPU_mem   box_loss   seg_loss   cls_loss   dfl_loss  Instances       Size\n"
     ]
    },
    {
     "name": "stderr",
     "output_type": "stream",
     "text": [
      "     71/500      4.26G      1.274      2.845      1.874     0.9716        216        512: 100%|██████████| 95/95 [00:16<00:00,  5.69it/s]\n",
      "                 Class     Images  Instances      Box(P          R      mAP50  mAP50-95)     Mask(P          R      mAP50  mAP50-95): 100%|██████████| 15/15 [00:04<00:00,  3.41it/s]\n"
     ]
    },
    {
     "name": "stdout",
     "output_type": "stream",
     "text": [
      "                   all        807       7092      0.769      0.363      0.401       0.31      0.747      0.349      0.382      0.252\n",
      "\n",
      "      Epoch    GPU_mem   box_loss   seg_loss   cls_loss   dfl_loss  Instances       Size\n"
     ]
    },
    {
     "name": "stderr",
     "output_type": "stream",
     "text": [
      "     72/500      4.88G      1.248      2.803      1.835     0.9644        108        512: 100%|██████████| 95/95 [00:16<00:00,  5.70it/s]\n",
      "                 Class     Images  Instances      Box(P          R      mAP50  mAP50-95)     Mask(P          R      mAP50  mAP50-95): 100%|██████████| 15/15 [00:04<00:00,  3.43it/s]"
     ]
    },
    {
     "name": "stdout",
     "output_type": "stream",
     "text": [
      "                   all        807       7092      0.776       0.36      0.403      0.311      0.757      0.347       0.38      0.253\n"
     ]
    },
    {
     "name": "stderr",
     "output_type": "stream",
     "text": [
      "\n"
     ]
    },
    {
     "name": "stdout",
     "output_type": "stream",
     "text": [
      "\n",
      "      Epoch    GPU_mem   box_loss   seg_loss   cls_loss   dfl_loss  Instances       Size\n"
     ]
    },
    {
     "name": "stderr",
     "output_type": "stream",
     "text": [
      "     73/500      4.64G      1.256        2.8      1.843     0.9628        105        512: 100%|██████████| 95/95 [00:16<00:00,  5.67it/s]\n",
      "                 Class     Images  Instances      Box(P          R      mAP50  mAP50-95)     Mask(P          R      mAP50  mAP50-95): 100%|██████████| 15/15 [00:04<00:00,  3.35it/s]\n"
     ]
    },
    {
     "name": "stdout",
     "output_type": "stream",
     "text": [
      "                   all        807       7092      0.798      0.356      0.404      0.309      0.772      0.346      0.385      0.251\n",
      "\n",
      "      Epoch    GPU_mem   box_loss   seg_loss   cls_loss   dfl_loss  Instances       Size\n"
     ]
    },
    {
     "name": "stderr",
     "output_type": "stream",
     "text": [
      "     74/500      4.89G      1.265      2.809      1.868      0.968        112        512: 100%|██████████| 95/95 [00:16<00:00,  5.63it/s]\n",
      "                 Class     Images  Instances      Box(P          R      mAP50  mAP50-95)     Mask(P          R      mAP50  mAP50-95): 100%|██████████| 15/15 [00:04<00:00,  3.35it/s]"
     ]
    },
    {
     "name": "stdout",
     "output_type": "stream",
     "text": [
      "                   all        807       7092      0.789      0.363      0.409      0.314      0.756       0.35      0.389      0.257\n"
     ]
    },
    {
     "name": "stderr",
     "output_type": "stream",
     "text": [
      "\n"
     ]
    },
    {
     "name": "stdout",
     "output_type": "stream",
     "text": [
      "\n",
      "      Epoch    GPU_mem   box_loss   seg_loss   cls_loss   dfl_loss  Instances       Size\n"
     ]
    },
    {
     "name": "stderr",
     "output_type": "stream",
     "text": [
      "     75/500      4.29G      1.246      2.774       1.84     0.9604         76        512: 100%|██████████| 95/95 [00:16<00:00,  5.63it/s]\n",
      "                 Class     Images  Instances      Box(P          R      mAP50  mAP50-95)     Mask(P          R      mAP50  mAP50-95): 100%|██████████| 15/15 [00:04<00:00,  3.33it/s]\n"
     ]
    },
    {
     "name": "stdout",
     "output_type": "stream",
     "text": [
      "                   all        807       7092      0.766      0.372      0.414      0.319      0.748      0.356      0.389       0.26\n",
      "\n",
      "      Epoch    GPU_mem   box_loss   seg_loss   cls_loss   dfl_loss  Instances       Size\n"
     ]
    },
    {
     "name": "stderr",
     "output_type": "stream",
     "text": [
      "     76/500      4.19G      1.256      2.747      1.839     0.9666        240        512: 100%|██████████| 95/95 [00:16<00:00,  5.65it/s]\n",
      "                 Class     Images  Instances      Box(P          R      mAP50  mAP50-95)     Mask(P          R      mAP50  mAP50-95): 100%|██████████| 15/15 [00:04<00:00,  3.26it/s]"
     ]
    },
    {
     "name": "stdout",
     "output_type": "stream",
     "text": [
      "                   all        807       7092      0.752      0.362      0.405      0.316      0.801      0.336      0.384      0.256\n"
     ]
    },
    {
     "name": "stderr",
     "output_type": "stream",
     "text": [
      "\n"
     ]
    },
    {
     "name": "stdout",
     "output_type": "stream",
     "text": [
      "\n",
      "      Epoch    GPU_mem   box_loss   seg_loss   cls_loss   dfl_loss  Instances       Size\n"
     ]
    },
    {
     "name": "stderr",
     "output_type": "stream",
     "text": [
      "     77/500      4.31G       1.25      2.803      1.831      0.963        127        512: 100%|██████████| 95/95 [00:16<00:00,  5.65it/s]\n",
      "                 Class     Images  Instances      Box(P          R      mAP50  mAP50-95)     Mask(P          R      mAP50  mAP50-95): 100%|██████████| 15/15 [00:04<00:00,  3.36it/s]"
     ]
    },
    {
     "name": "stdout",
     "output_type": "stream",
     "text": [
      "                   all        807       7092       0.76      0.366      0.408      0.317      0.731      0.356      0.388      0.257\n"
     ]
    },
    {
     "name": "stderr",
     "output_type": "stream",
     "text": [
      "\n"
     ]
    },
    {
     "name": "stdout",
     "output_type": "stream",
     "text": [
      "\n",
      "      Epoch    GPU_mem   box_loss   seg_loss   cls_loss   dfl_loss  Instances       Size\n"
     ]
    },
    {
     "name": "stderr",
     "output_type": "stream",
     "text": [
      "     78/500      4.66G       1.25      2.791      1.838     0.9613        131        512: 100%|██████████| 95/95 [00:16<00:00,  5.65it/s]\n",
      "                 Class     Images  Instances      Box(P          R      mAP50  mAP50-95)     Mask(P          R      mAP50  mAP50-95): 100%|██████████| 15/15 [00:04<00:00,  3.46it/s]"
     ]
    },
    {
     "name": "stdout",
     "output_type": "stream",
     "text": [
      "                   all        807       7092      0.804      0.359      0.406      0.316      0.782       0.35      0.387      0.257\n"
     ]
    },
    {
     "name": "stderr",
     "output_type": "stream",
     "text": [
      "\n"
     ]
    },
    {
     "name": "stdout",
     "output_type": "stream",
     "text": [
      "\n",
      "      Epoch    GPU_mem   box_loss   seg_loss   cls_loss   dfl_loss  Instances       Size\n"
     ]
    },
    {
     "name": "stderr",
     "output_type": "stream",
     "text": [
      "     79/500      4.95G      1.241      2.766      1.823     0.9582        130        512: 100%|██████████| 95/95 [00:16<00:00,  5.69it/s]\n",
      "                 Class     Images  Instances      Box(P          R      mAP50  mAP50-95)     Mask(P          R      mAP50  mAP50-95): 100%|██████████| 15/15 [00:04<00:00,  3.38it/s]"
     ]
    },
    {
     "name": "stdout",
     "output_type": "stream",
     "text": [
      "                   all        807       7092      0.831      0.357      0.413      0.319      0.799      0.346      0.394      0.264\n"
     ]
    },
    {
     "name": "stderr",
     "output_type": "stream",
     "text": [
      "\n"
     ]
    },
    {
     "name": "stdout",
     "output_type": "stream",
     "text": [
      "\n",
      "      Epoch    GPU_mem   box_loss   seg_loss   cls_loss   dfl_loss  Instances       Size\n"
     ]
    },
    {
     "name": "stderr",
     "output_type": "stream",
     "text": [
      "     80/500      4.33G      1.253      2.775      1.812     0.9598        149        512: 100%|██████████| 95/95 [00:16<00:00,  5.67it/s]\n",
      "                 Class     Images  Instances      Box(P          R      mAP50  mAP50-95)     Mask(P          R      mAP50  mAP50-95): 100%|██████████| 15/15 [00:04<00:00,  3.36it/s]"
     ]
    },
    {
     "name": "stdout",
     "output_type": "stream",
     "text": [
      "                   all        807       7092      0.778      0.362      0.407      0.313      0.777      0.345      0.385      0.254\n"
     ]
    },
    {
     "name": "stderr",
     "output_type": "stream",
     "text": [
      "\n"
     ]
    },
    {
     "name": "stdout",
     "output_type": "stream",
     "text": [
      "\n",
      "      Epoch    GPU_mem   box_loss   seg_loss   cls_loss   dfl_loss  Instances       Size\n"
     ]
    },
    {
     "name": "stderr",
     "output_type": "stream",
     "text": [
      "     81/500         5G      1.253      2.783      1.814     0.9622        151        512: 100%|██████████| 95/95 [00:16<00:00,  5.77it/s]\n",
      "                 Class     Images  Instances      Box(P          R      mAP50  mAP50-95)     Mask(P          R      mAP50  mAP50-95): 100%|██████████| 15/15 [00:04<00:00,  3.40it/s]"
     ]
    },
    {
     "name": "stdout",
     "output_type": "stream",
     "text": [
      "                   all        807       7092      0.776      0.376      0.415      0.323      0.752      0.362      0.394       0.26\n"
     ]
    },
    {
     "name": "stderr",
     "output_type": "stream",
     "text": [
      "\n"
     ]
    },
    {
     "name": "stdout",
     "output_type": "stream",
     "text": [
      "\n",
      "      Epoch    GPU_mem   box_loss   seg_loss   cls_loss   dfl_loss  Instances       Size\n"
     ]
    },
    {
     "name": "stderr",
     "output_type": "stream",
     "text": [
      "     82/500      4.24G      1.231       2.75      1.789     0.9541        132        512: 100%|██████████| 95/95 [00:16<00:00,  5.75it/s]\n",
      "                 Class     Images  Instances      Box(P          R      mAP50  mAP50-95)     Mask(P          R      mAP50  mAP50-95): 100%|██████████| 15/15 [00:04<00:00,  3.39it/s]"
     ]
    },
    {
     "name": "stdout",
     "output_type": "stream",
     "text": [
      "                   all        807       7092      0.773      0.372      0.413      0.321      0.767      0.355      0.388      0.261\n"
     ]
    },
    {
     "name": "stderr",
     "output_type": "stream",
     "text": [
      "\n"
     ]
    },
    {
     "name": "stdout",
     "output_type": "stream",
     "text": [
      "\n",
      "      Epoch    GPU_mem   box_loss   seg_loss   cls_loss   dfl_loss  Instances       Size\n"
     ]
    },
    {
     "name": "stderr",
     "output_type": "stream",
     "text": [
      "     83/500      4.55G      1.229      2.771      1.767     0.9528        139        512: 100%|██████████| 95/95 [00:16<00:00,  5.79it/s]\n",
      "                 Class     Images  Instances      Box(P          R      mAP50  mAP50-95)     Mask(P          R      mAP50  mAP50-95): 100%|██████████| 15/15 [00:04<00:00,  3.47it/s]"
     ]
    },
    {
     "name": "stdout",
     "output_type": "stream",
     "text": [
      "                   all        807       7092      0.761       0.37      0.412      0.317      0.758      0.353      0.387      0.257\n"
     ]
    },
    {
     "name": "stderr",
     "output_type": "stream",
     "text": [
      "\n"
     ]
    },
    {
     "name": "stdout",
     "output_type": "stream",
     "text": [
      "\n",
      "      Epoch    GPU_mem   box_loss   seg_loss   cls_loss   dfl_loss  Instances       Size\n"
     ]
    },
    {
     "name": "stderr",
     "output_type": "stream",
     "text": [
      "     84/500      4.87G      1.244      2.752      1.812       0.96        225        512: 100%|██████████| 95/95 [00:16<00:00,  5.68it/s]\n",
      "                 Class     Images  Instances      Box(P          R      mAP50  mAP50-95)     Mask(P          R      mAP50  mAP50-95): 100%|██████████| 15/15 [00:04<00:00,  3.52it/s]"
     ]
    },
    {
     "name": "stdout",
     "output_type": "stream",
     "text": [
      "                   all        807       7092      0.783       0.37      0.413      0.319      0.772      0.354      0.393      0.261\n"
     ]
    },
    {
     "name": "stderr",
     "output_type": "stream",
     "text": [
      "\n"
     ]
    },
    {
     "name": "stdout",
     "output_type": "stream",
     "text": [
      "\n",
      "      Epoch    GPU_mem   box_loss   seg_loss   cls_loss   dfl_loss  Instances       Size\n"
     ]
    },
    {
     "name": "stderr",
     "output_type": "stream",
     "text": [
      "     85/500      3.88G      1.229       2.74      1.797     0.9584        173        512: 100%|██████████| 95/95 [00:16<00:00,  5.73it/s]\n",
      "                 Class     Images  Instances      Box(P          R      mAP50  mAP50-95)     Mask(P          R      mAP50  mAP50-95): 100%|██████████| 15/15 [00:04<00:00,  3.32it/s]\n"
     ]
    },
    {
     "name": "stdout",
     "output_type": "stream",
     "text": [
      "                   all        807       7092      0.781      0.371      0.416      0.323       0.76      0.355      0.392      0.263\n",
      "\n",
      "      Epoch    GPU_mem   box_loss   seg_loss   cls_loss   dfl_loss  Instances       Size\n"
     ]
    },
    {
     "name": "stderr",
     "output_type": "stream",
     "text": [
      "     86/500      4.66G      1.227      2.716      1.779     0.9548        237        512: 100%|██████████| 95/95 [00:16<00:00,  5.72it/s]\n",
      "                 Class     Images  Instances      Box(P          R      mAP50  mAP50-95)     Mask(P          R      mAP50  mAP50-95): 100%|██████████| 15/15 [00:04<00:00,  3.45it/s]"
     ]
    },
    {
     "name": "stdout",
     "output_type": "stream",
     "text": [
      "                   all        807       7092      0.791      0.369      0.414      0.318       0.75      0.364      0.395       0.26\n"
     ]
    },
    {
     "name": "stderr",
     "output_type": "stream",
     "text": [
      "\n"
     ]
    },
    {
     "name": "stdout",
     "output_type": "stream",
     "text": [
      "\n",
      "      Epoch    GPU_mem   box_loss   seg_loss   cls_loss   dfl_loss  Instances       Size\n"
     ]
    },
    {
     "name": "stderr",
     "output_type": "stream",
     "text": [
      "     87/500      3.88G      1.229      2.775      1.775     0.9549        117        512: 100%|██████████| 95/95 [00:16<00:00,  5.73it/s]\n",
      "                 Class     Images  Instances      Box(P          R      mAP50  mAP50-95)     Mask(P          R      mAP50  mAP50-95): 100%|██████████| 15/15 [00:04<00:00,  3.38it/s]"
     ]
    },
    {
     "name": "stdout",
     "output_type": "stream",
     "text": [
      "                   all        807       7092      0.786      0.371      0.417      0.323       0.78      0.354      0.395      0.261\n"
     ]
    },
    {
     "name": "stderr",
     "output_type": "stream",
     "text": [
      "\n"
     ]
    },
    {
     "name": "stdout",
     "output_type": "stream",
     "text": [
      "\n",
      "      Epoch    GPU_mem   box_loss   seg_loss   cls_loss   dfl_loss  Instances       Size\n"
     ]
    },
    {
     "name": "stderr",
     "output_type": "stream",
     "text": [
      "     88/500      4.21G      1.228      2.764      1.777     0.9551        110        512: 100%|██████████| 95/95 [00:16<00:00,  5.71it/s]\n",
      "                 Class     Images  Instances      Box(P          R      mAP50  mAP50-95)     Mask(P          R      mAP50  mAP50-95): 100%|██████████| 15/15 [00:04<00:00,  3.43it/s]"
     ]
    },
    {
     "name": "stdout",
     "output_type": "stream",
     "text": [
      "                   all        807       7092      0.814      0.373       0.42      0.328       0.78      0.359      0.395       0.26\n"
     ]
    },
    {
     "name": "stderr",
     "output_type": "stream",
     "text": [
      "\n"
     ]
    },
    {
     "name": "stdout",
     "output_type": "stream",
     "text": [
      "\n",
      "      Epoch    GPU_mem   box_loss   seg_loss   cls_loss   dfl_loss  Instances       Size\n"
     ]
    },
    {
     "name": "stderr",
     "output_type": "stream",
     "text": [
      "     89/500      4.11G      1.222      2.734       1.77     0.9536        227        512: 100%|██████████| 95/95 [00:16<00:00,  5.73it/s]\n",
      "                 Class     Images  Instances      Box(P          R      mAP50  mAP50-95)     Mask(P          R      mAP50  mAP50-95): 100%|██████████| 15/15 [00:04<00:00,  3.43it/s]"
     ]
    },
    {
     "name": "stdout",
     "output_type": "stream",
     "text": [
      "                   all        807       7092      0.754      0.379      0.415      0.321      0.749      0.355      0.389      0.256\n"
     ]
    },
    {
     "name": "stderr",
     "output_type": "stream",
     "text": [
      "\n"
     ]
    },
    {
     "name": "stdout",
     "output_type": "stream",
     "text": [
      "\n",
      "      Epoch    GPU_mem   box_loss   seg_loss   cls_loss   dfl_loss  Instances       Size\n"
     ]
    },
    {
     "name": "stderr",
     "output_type": "stream",
     "text": [
      "     90/500      4.18G      1.203      2.696      1.712     0.9455        126        512: 100%|██████████| 95/95 [00:16<00:00,  5.73it/s]\n",
      "                 Class     Images  Instances      Box(P          R      mAP50  mAP50-95)     Mask(P          R      mAP50  mAP50-95): 100%|██████████| 15/15 [00:04<00:00,  3.28it/s]"
     ]
    },
    {
     "name": "stdout",
     "output_type": "stream",
     "text": [
      "                   all        807       7092      0.793       0.38      0.421      0.329      0.778      0.359      0.396      0.261\n"
     ]
    },
    {
     "name": "stderr",
     "output_type": "stream",
     "text": [
      "\n"
     ]
    },
    {
     "name": "stdout",
     "output_type": "stream",
     "text": [
      "\n",
      "      Epoch    GPU_mem   box_loss   seg_loss   cls_loss   dfl_loss  Instances       Size\n"
     ]
    },
    {
     "name": "stderr",
     "output_type": "stream",
     "text": [
      "     91/500      4.02G      1.213      2.726      1.735     0.9473        149        512: 100%|██████████| 95/95 [00:16<00:00,  5.68it/s]\n",
      "                 Class     Images  Instances      Box(P          R      mAP50  mAP50-95)     Mask(P          R      mAP50  mAP50-95): 100%|██████████| 15/15 [00:04<00:00,  3.31it/s]"
     ]
    },
    {
     "name": "stdout",
     "output_type": "stream",
     "text": [
      "                   all        807       7092      0.806      0.379      0.422      0.328      0.775       0.36      0.397      0.264\n"
     ]
    },
    {
     "name": "stderr",
     "output_type": "stream",
     "text": [
      "\n"
     ]
    },
    {
     "name": "stdout",
     "output_type": "stream",
     "text": [
      "\n",
      "      Epoch    GPU_mem   box_loss   seg_loss   cls_loss   dfl_loss  Instances       Size\n"
     ]
    },
    {
     "name": "stderr",
     "output_type": "stream",
     "text": [
      "     92/500      5.19G      1.204      2.678      1.734     0.9445         95        512: 100%|██████████| 95/95 [00:16<00:00,  5.66it/s]\n",
      "                 Class     Images  Instances      Box(P          R      mAP50  mAP50-95)     Mask(P          R      mAP50  mAP50-95): 100%|██████████| 15/15 [00:04<00:00,  3.37it/s]"
     ]
    },
    {
     "name": "stdout",
     "output_type": "stream",
     "text": [
      "                   all        807       7092       0.76      0.379      0.416      0.325      0.766      0.355      0.393      0.258\n"
     ]
    },
    {
     "name": "stderr",
     "output_type": "stream",
     "text": [
      "\n"
     ]
    },
    {
     "name": "stdout",
     "output_type": "stream",
     "text": [
      "\n",
      "      Epoch    GPU_mem   box_loss   seg_loss   cls_loss   dfl_loss  Instances       Size\n"
     ]
    },
    {
     "name": "stderr",
     "output_type": "stream",
     "text": [
      "     93/500      5.21G      1.212      2.712      1.731     0.9449        170        512: 100%|██████████| 95/95 [00:16<00:00,  5.69it/s]\n",
      "                 Class     Images  Instances      Box(P          R      mAP50  mAP50-95)     Mask(P          R      mAP50  mAP50-95): 100%|██████████| 15/15 [00:04<00:00,  3.32it/s]"
     ]
    },
    {
     "name": "stdout",
     "output_type": "stream",
     "text": [
      "                   all        807       7092      0.804      0.378      0.421      0.327      0.786       0.36      0.397      0.263\n"
     ]
    },
    {
     "name": "stderr",
     "output_type": "stream",
     "text": [
      "\n"
     ]
    },
    {
     "name": "stdout",
     "output_type": "stream",
     "text": [
      "\n",
      "      Epoch    GPU_mem   box_loss   seg_loss   cls_loss   dfl_loss  Instances       Size\n"
     ]
    },
    {
     "name": "stderr",
     "output_type": "stream",
     "text": [
      "     94/500      4.13G        1.2      2.687      1.743     0.9446        136        512: 100%|██████████| 95/95 [00:16<00:00,  5.67it/s]\n",
      "                 Class     Images  Instances      Box(P          R      mAP50  mAP50-95)     Mask(P          R      mAP50  mAP50-95): 100%|██████████| 15/15 [00:04<00:00,  3.30it/s]"
     ]
    },
    {
     "name": "stdout",
     "output_type": "stream",
     "text": [
      "                   all        807       7092      0.829      0.373       0.42      0.329      0.794       0.36      0.395      0.257\n"
     ]
    },
    {
     "name": "stderr",
     "output_type": "stream",
     "text": [
      "\n"
     ]
    },
    {
     "name": "stdout",
     "output_type": "stream",
     "text": [
      "\n",
      "      Epoch    GPU_mem   box_loss   seg_loss   cls_loss   dfl_loss  Instances       Size\n"
     ]
    },
    {
     "name": "stderr",
     "output_type": "stream",
     "text": [
      "     95/500      4.59G      1.227       2.74      1.739     0.9495        154        512: 100%|██████████| 95/95 [00:16<00:00,  5.64it/s]\n",
      "                 Class     Images  Instances      Box(P          R      mAP50  mAP50-95)     Mask(P          R      mAP50  mAP50-95): 100%|██████████| 15/15 [00:04<00:00,  3.43it/s]"
     ]
    },
    {
     "name": "stdout",
     "output_type": "stream",
     "text": [
      "                   all        807       7092      0.799      0.374      0.421       0.33       0.79      0.358      0.399      0.265\n"
     ]
    },
    {
     "name": "stderr",
     "output_type": "stream",
     "text": [
      "\n"
     ]
    },
    {
     "name": "stdout",
     "output_type": "stream",
     "text": [
      "\n",
      "      Epoch    GPU_mem   box_loss   seg_loss   cls_loss   dfl_loss  Instances       Size\n"
     ]
    },
    {
     "name": "stderr",
     "output_type": "stream",
     "text": [
      "     96/500      4.39G      1.215      2.719      1.717     0.9493        133        512: 100%|██████████| 95/95 [00:16<00:00,  5.68it/s]\n",
      "                 Class     Images  Instances      Box(P          R      mAP50  mAP50-95)     Mask(P          R      mAP50  mAP50-95): 100%|██████████| 15/15 [00:04<00:00,  3.35it/s]"
     ]
    },
    {
     "name": "stdout",
     "output_type": "stream",
     "text": [
      "                   all        807       7092      0.797      0.372      0.419      0.326      0.786      0.355      0.393      0.261\n"
     ]
    },
    {
     "name": "stderr",
     "output_type": "stream",
     "text": [
      "\n"
     ]
    },
    {
     "name": "stdout",
     "output_type": "stream",
     "text": [
      "\n",
      "      Epoch    GPU_mem   box_loss   seg_loss   cls_loss   dfl_loss  Instances       Size\n"
     ]
    },
    {
     "name": "stderr",
     "output_type": "stream",
     "text": [
      "     97/500      3.52G      1.204      2.685      1.714     0.9429        188        512: 100%|██████████| 95/95 [00:16<00:00,  5.68it/s]\n",
      "                 Class     Images  Instances      Box(P          R      mAP50  mAP50-95)     Mask(P          R      mAP50  mAP50-95): 100%|██████████| 15/15 [00:04<00:00,  3.43it/s]"
     ]
    },
    {
     "name": "stdout",
     "output_type": "stream",
     "text": [
      "                   all        807       7092      0.791      0.378      0.421       0.33      0.784      0.363      0.399      0.265\n"
     ]
    },
    {
     "name": "stderr",
     "output_type": "stream",
     "text": [
      "\n"
     ]
    },
    {
     "name": "stdout",
     "output_type": "stream",
     "text": [
      "\n",
      "      Epoch    GPU_mem   box_loss   seg_loss   cls_loss   dfl_loss  Instances       Size\n"
     ]
    },
    {
     "name": "stderr",
     "output_type": "stream",
     "text": [
      "     98/500       3.7G      1.202      2.687      1.682      0.942        219        512: 100%|██████████| 95/95 [00:16<00:00,  5.81it/s]\n",
      "                 Class     Images  Instances      Box(P          R      mAP50  mAP50-95)     Mask(P          R      mAP50  mAP50-95): 100%|██████████| 15/15 [00:04<00:00,  3.41it/s]"
     ]
    },
    {
     "name": "stdout",
     "output_type": "stream",
     "text": [
      "                   all        807       7092      0.844      0.368      0.423      0.331       0.81      0.354      0.398      0.264\n"
     ]
    },
    {
     "name": "stderr",
     "output_type": "stream",
     "text": [
      "\n"
     ]
    },
    {
     "name": "stdout",
     "output_type": "stream",
     "text": [
      "\n",
      "      Epoch    GPU_mem   box_loss   seg_loss   cls_loss   dfl_loss  Instances       Size\n"
     ]
    },
    {
     "name": "stderr",
     "output_type": "stream",
     "text": [
      "     99/500      4.69G      1.189      2.702      1.689      0.935        103        512: 100%|██████████| 95/95 [00:16<00:00,  5.71it/s]\n",
      "                 Class     Images  Instances      Box(P          R      mAP50  mAP50-95)     Mask(P          R      mAP50  mAP50-95): 100%|██████████| 15/15 [00:04<00:00,  3.44it/s]"
     ]
    },
    {
     "name": "stdout",
     "output_type": "stream",
     "text": [
      "                   all        807       7092      0.827      0.375      0.425      0.335      0.806       0.36      0.402      0.268\n"
     ]
    },
    {
     "name": "stderr",
     "output_type": "stream",
     "text": [
      "\n"
     ]
    },
    {
     "name": "stdout",
     "output_type": "stream",
     "text": [
      "\n",
      "      Epoch    GPU_mem   box_loss   seg_loss   cls_loss   dfl_loss  Instances       Size\n"
     ]
    },
    {
     "name": "stderr",
     "output_type": "stream",
     "text": [
      "    100/500      4.57G      1.188      2.685      1.695     0.9417         81        512: 100%|██████████| 95/95 [00:16<00:00,  5.76it/s]\n",
      "                 Class     Images  Instances      Box(P          R      mAP50  mAP50-95)     Mask(P          R      mAP50  mAP50-95): 100%|██████████| 15/15 [00:04<00:00,  3.47it/s]"
     ]
    },
    {
     "name": "stdout",
     "output_type": "stream",
     "text": [
      "                   all        807       7092      0.777      0.383      0.423      0.331      0.787      0.365      0.401      0.267\n"
     ]
    },
    {
     "name": "stderr",
     "output_type": "stream",
     "text": [
      "\n"
     ]
    },
    {
     "name": "stdout",
     "output_type": "stream",
     "text": [
      "\n",
      "      Epoch    GPU_mem   box_loss   seg_loss   cls_loss   dfl_loss  Instances       Size\n"
     ]
    },
    {
     "name": "stderr",
     "output_type": "stream",
     "text": [
      "    101/500      4.89G      1.214      2.719      1.692     0.9464        138        512: 100%|██████████| 95/95 [00:16<00:00,  5.70it/s]\n",
      "                 Class     Images  Instances      Box(P          R      mAP50  mAP50-95)     Mask(P          R      mAP50  mAP50-95): 100%|██████████| 15/15 [00:04<00:00,  3.44it/s]"
     ]
    },
    {
     "name": "stdout",
     "output_type": "stream",
     "text": [
      "                   all        807       7092      0.806      0.382      0.427      0.334      0.782      0.367      0.402       0.27\n"
     ]
    },
    {
     "name": "stderr",
     "output_type": "stream",
     "text": [
      "\n"
     ]
    },
    {
     "name": "stdout",
     "output_type": "stream",
     "text": [
      "\n",
      "      Epoch    GPU_mem   box_loss   seg_loss   cls_loss   dfl_loss  Instances       Size\n"
     ]
    },
    {
     "name": "stderr",
     "output_type": "stream",
     "text": [
      "    102/500      4.29G      1.183      2.653      1.686     0.9395        128        512: 100%|██████████| 95/95 [00:16<00:00,  5.69it/s]\n",
      "                 Class     Images  Instances      Box(P          R      mAP50  mAP50-95)     Mask(P          R      mAP50  mAP50-95): 100%|██████████| 15/15 [00:04<00:00,  3.37it/s]"
     ]
    },
    {
     "name": "stdout",
     "output_type": "stream",
     "text": [
      "                   all        807       7092      0.821      0.376      0.426      0.333      0.804      0.361      0.401      0.268\n"
     ]
    },
    {
     "name": "stderr",
     "output_type": "stream",
     "text": [
      "\n"
     ]
    },
    {
     "name": "stdout",
     "output_type": "stream",
     "text": [
      "\n",
      "      Epoch    GPU_mem   box_loss   seg_loss   cls_loss   dfl_loss  Instances       Size\n"
     ]
    },
    {
     "name": "stderr",
     "output_type": "stream",
     "text": [
      "    103/500      4.96G      1.208      2.703      1.677       0.94        177        512: 100%|██████████| 95/95 [00:16<00:00,  5.69it/s]\n",
      "                 Class     Images  Instances      Box(P          R      mAP50  mAP50-95)     Mask(P          R      mAP50  mAP50-95): 100%|██████████| 15/15 [00:04<00:00,  3.40it/s]"
     ]
    },
    {
     "name": "stdout",
     "output_type": "stream",
     "text": [
      "                   all        807       7092      0.811      0.382      0.426      0.333       0.78      0.364      0.402      0.268\n"
     ]
    },
    {
     "name": "stderr",
     "output_type": "stream",
     "text": [
      "\n"
     ]
    },
    {
     "name": "stdout",
     "output_type": "stream",
     "text": [
      "\n",
      "      Epoch    GPU_mem   box_loss   seg_loss   cls_loss   dfl_loss  Instances       Size\n"
     ]
    },
    {
     "name": "stderr",
     "output_type": "stream",
     "text": [
      "    104/500      5.32G      1.199      2.701      1.692     0.9387        157        512: 100%|██████████| 95/95 [00:16<00:00,  5.73it/s]\n",
      "                 Class     Images  Instances      Box(P          R      mAP50  mAP50-95)     Mask(P          R      mAP50  mAP50-95): 100%|██████████| 15/15 [00:04<00:00,  3.44it/s]"
     ]
    },
    {
     "name": "stdout",
     "output_type": "stream",
     "text": [
      "                   all        807       7092      0.797      0.384      0.429      0.336      0.775       0.37      0.405       0.27\n"
     ]
    },
    {
     "name": "stderr",
     "output_type": "stream",
     "text": [
      "\n"
     ]
    },
    {
     "name": "stdout",
     "output_type": "stream",
     "text": [
      "\n",
      "      Epoch    GPU_mem   box_loss   seg_loss   cls_loss   dfl_loss  Instances       Size\n"
     ]
    },
    {
     "name": "stderr",
     "output_type": "stream",
     "text": [
      "    105/500      4.46G      1.179      2.656      1.651      0.933        159        512: 100%|██████████| 95/95 [00:16<00:00,  5.77it/s]\n",
      "                 Class     Images  Instances      Box(P          R      mAP50  mAP50-95)     Mask(P          R      mAP50  mAP50-95): 100%|██████████| 15/15 [00:04<00:00,  3.42it/s]"
     ]
    },
    {
     "name": "stdout",
     "output_type": "stream",
     "text": [
      "                   all        807       7092      0.788      0.389      0.431      0.339      0.752      0.371        0.4      0.254\n"
     ]
    },
    {
     "name": "stderr",
     "output_type": "stream",
     "text": [
      "\n"
     ]
    },
    {
     "name": "stdout",
     "output_type": "stream",
     "text": [
      "\n",
      "      Epoch    GPU_mem   box_loss   seg_loss   cls_loss   dfl_loss  Instances       Size\n"
     ]
    },
    {
     "name": "stderr",
     "output_type": "stream",
     "text": [
      "    106/500      5.02G      1.174      2.619      1.663     0.9365        119        512: 100%|██████████| 95/95 [00:16<00:00,  5.76it/s]\n",
      "                 Class     Images  Instances      Box(P          R      mAP50  mAP50-95)     Mask(P          R      mAP50  mAP50-95): 100%|██████████| 15/15 [00:04<00:00,  3.49it/s]"
     ]
    },
    {
     "name": "stdout",
     "output_type": "stream",
     "text": [
      "                   all        807       7092      0.808      0.386      0.432      0.339        0.8      0.365      0.404      0.255\n"
     ]
    },
    {
     "name": "stderr",
     "output_type": "stream",
     "text": [
      "\n"
     ]
    },
    {
     "name": "stdout",
     "output_type": "stream",
     "text": [
      "\n",
      "      Epoch    GPU_mem   box_loss   seg_loss   cls_loss   dfl_loss  Instances       Size\n"
     ]
    },
    {
     "name": "stderr",
     "output_type": "stream",
     "text": [
      "    107/500      4.22G       1.18      2.655      1.669     0.9316        196        512: 100%|██████████| 95/95 [00:16<00:00,  5.65it/s]\n",
      "                 Class     Images  Instances      Box(P          R      mAP50  mAP50-95)     Mask(P          R      mAP50  mAP50-95): 100%|██████████| 15/15 [00:04<00:00,  3.32it/s]"
     ]
    },
    {
     "name": "stdout",
     "output_type": "stream",
     "text": [
      "                   all        807       7092      0.801      0.387      0.429      0.339      0.774      0.365      0.401      0.251\n"
     ]
    },
    {
     "name": "stderr",
     "output_type": "stream",
     "text": [
      "\n"
     ]
    },
    {
     "name": "stdout",
     "output_type": "stream",
     "text": [
      "\n",
      "      Epoch    GPU_mem   box_loss   seg_loss   cls_loss   dfl_loss  Instances       Size\n"
     ]
    },
    {
     "name": "stderr",
     "output_type": "stream",
     "text": [
      "    108/500      4.85G      1.185      2.647       1.66     0.9352        130        512: 100%|██████████| 95/95 [00:17<00:00,  5.58it/s]\n",
      "                 Class     Images  Instances      Box(P          R      mAP50  mAP50-95)     Mask(P          R      mAP50  mAP50-95): 100%|██████████| 15/15 [00:04<00:00,  3.39it/s]"
     ]
    },
    {
     "name": "stdout",
     "output_type": "stream",
     "text": [
      "                   all        807       7092      0.824      0.385      0.429      0.339      0.795      0.363      0.398       0.25\n"
     ]
    },
    {
     "name": "stderr",
     "output_type": "stream",
     "text": [
      "\n"
     ]
    },
    {
     "name": "stdout",
     "output_type": "stream",
     "text": [
      "\n",
      "      Epoch    GPU_mem   box_loss   seg_loss   cls_loss   dfl_loss  Instances       Size\n"
     ]
    },
    {
     "name": "stderr",
     "output_type": "stream",
     "text": [
      "    109/500      4.51G      1.165      2.637      1.649     0.9299        198        512: 100%|██████████| 95/95 [00:16<00:00,  5.70it/s]\n",
      "                 Class     Images  Instances      Box(P          R      mAP50  mAP50-95)     Mask(P          R      mAP50  mAP50-95): 100%|██████████| 15/15 [00:04<00:00,  3.39it/s]"
     ]
    },
    {
     "name": "stdout",
     "output_type": "stream",
     "text": [
      "                   all        807       7092      0.815      0.385       0.43      0.339       0.78      0.369      0.401      0.251\n"
     ]
    },
    {
     "name": "stderr",
     "output_type": "stream",
     "text": [
      "\n"
     ]
    },
    {
     "name": "stdout",
     "output_type": "stream",
     "text": [
      "\n",
      "      Epoch    GPU_mem   box_loss   seg_loss   cls_loss   dfl_loss  Instances       Size\n"
     ]
    },
    {
     "name": "stderr",
     "output_type": "stream",
     "text": [
      "    110/500      4.33G      1.172      2.633      1.647     0.9312         90        512: 100%|██████████| 95/95 [00:16<00:00,  5.66it/s]\n",
      "                 Class     Images  Instances      Box(P          R      mAP50  mAP50-95)     Mask(P          R      mAP50  mAP50-95): 100%|██████████| 15/15 [00:04<00:00,  3.45it/s]"
     ]
    },
    {
     "name": "stdout",
     "output_type": "stream",
     "text": [
      "                   all        807       7092      0.825      0.388      0.435      0.343      0.812      0.365      0.404       0.26\n"
     ]
    },
    {
     "name": "stderr",
     "output_type": "stream",
     "text": [
      "\n"
     ]
    },
    {
     "name": "stdout",
     "output_type": "stream",
     "text": [
      "\n",
      "      Epoch    GPU_mem   box_loss   seg_loss   cls_loss   dfl_loss  Instances       Size\n"
     ]
    },
    {
     "name": "stderr",
     "output_type": "stream",
     "text": [
      "    111/500      4.04G      1.176       2.61      1.629     0.9333        116        512: 100%|██████████| 95/95 [00:16<00:00,  5.70it/s]\n",
      "                 Class     Images  Instances      Box(P          R      mAP50  mAP50-95)     Mask(P          R      mAP50  mAP50-95): 100%|██████████| 15/15 [00:04<00:00,  3.43it/s]"
     ]
    },
    {
     "name": "stdout",
     "output_type": "stream",
     "text": [
      "                   all        807       7092      0.827      0.388      0.434      0.344      0.785       0.37      0.406      0.262\n"
     ]
    },
    {
     "name": "stderr",
     "output_type": "stream",
     "text": [
      "\n"
     ]
    },
    {
     "name": "stdout",
     "output_type": "stream",
     "text": [
      "\n",
      "      Epoch    GPU_mem   box_loss   seg_loss   cls_loss   dfl_loss  Instances       Size\n"
     ]
    },
    {
     "name": "stderr",
     "output_type": "stream",
     "text": [
      "    112/500      4.35G      1.169      2.633      1.643     0.9327        106        512: 100%|██████████| 95/95 [00:16<00:00,  5.69it/s]\n",
      "                 Class     Images  Instances      Box(P          R      mAP50  mAP50-95)     Mask(P          R      mAP50  mAP50-95): 100%|██████████| 15/15 [00:04<00:00,  3.47it/s]"
     ]
    },
    {
     "name": "stdout",
     "output_type": "stream",
     "text": [
      "                   all        807       7092      0.826      0.384      0.431      0.343       0.79      0.367      0.402      0.264\n"
     ]
    },
    {
     "name": "stderr",
     "output_type": "stream",
     "text": [
      "\n"
     ]
    },
    {
     "name": "stdout",
     "output_type": "stream",
     "text": [
      "\n",
      "      Epoch    GPU_mem   box_loss   seg_loss   cls_loss   dfl_loss  Instances       Size\n"
     ]
    },
    {
     "name": "stderr",
     "output_type": "stream",
     "text": [
      "    113/500      3.79G      1.173      2.635      1.618     0.9312        105        512: 100%|██████████| 95/95 [00:16<00:00,  5.65it/s]\n",
      "                 Class     Images  Instances      Box(P          R      mAP50  mAP50-95)     Mask(P          R      mAP50  mAP50-95): 100%|██████████| 15/15 [00:04<00:00,  3.41it/s]"
     ]
    },
    {
     "name": "stdout",
     "output_type": "stream",
     "text": [
      "                   all        807       7092      0.799      0.391      0.434      0.345      0.767      0.371      0.406      0.258\n"
     ]
    },
    {
     "name": "stderr",
     "output_type": "stream",
     "text": [
      "\n"
     ]
    },
    {
     "name": "stdout",
     "output_type": "stream",
     "text": [
      "\n",
      "      Epoch    GPU_mem   box_loss   seg_loss   cls_loss   dfl_loss  Instances       Size\n"
     ]
    },
    {
     "name": "stderr",
     "output_type": "stream",
     "text": [
      "    114/500       4.1G      1.179      2.642      1.631     0.9303         90        512: 100%|██████████| 95/95 [00:16<00:00,  5.73it/s]\n",
      "                 Class     Images  Instances      Box(P          R      mAP50  mAP50-95)     Mask(P          R      mAP50  mAP50-95): 100%|██████████| 15/15 [00:04<00:00,  3.45it/s]\n"
     ]
    },
    {
     "name": "stdout",
     "output_type": "stream",
     "text": [
      "                   all        807       7092      0.818      0.392      0.434      0.345      0.775      0.371        0.4      0.252\n",
      "\n",
      "      Epoch    GPU_mem   box_loss   seg_loss   cls_loss   dfl_loss  Instances       Size\n"
     ]
    },
    {
     "name": "stderr",
     "output_type": "stream",
     "text": [
      "    115/500      3.95G      1.179       2.65      1.617     0.9333        169        512: 100%|██████████| 95/95 [00:16<00:00,  5.75it/s]\n",
      "                 Class     Images  Instances      Box(P          R      mAP50  mAP50-95)     Mask(P          R      mAP50  mAP50-95): 100%|██████████| 15/15 [00:04<00:00,  3.42it/s]"
     ]
    },
    {
     "name": "stdout",
     "output_type": "stream",
     "text": [
      "                   all        807       7092      0.824      0.387      0.435      0.345      0.796      0.367      0.406       0.26\n"
     ]
    },
    {
     "name": "stderr",
     "output_type": "stream",
     "text": [
      "\n"
     ]
    },
    {
     "name": "stdout",
     "output_type": "stream",
     "text": [
      "\n",
      "      Epoch    GPU_mem   box_loss   seg_loss   cls_loss   dfl_loss  Instances       Size\n"
     ]
    },
    {
     "name": "stderr",
     "output_type": "stream",
     "text": [
      "    116/500       4.5G      1.166      2.604      1.617     0.9295        123        512: 100%|██████████| 95/95 [00:16<00:00,  5.76it/s]\n",
      "                 Class     Images  Instances      Box(P          R      mAP50  mAP50-95)     Mask(P          R      mAP50  mAP50-95): 100%|██████████| 15/15 [00:04<00:00,  3.42it/s]"
     ]
    },
    {
     "name": "stdout",
     "output_type": "stream",
     "text": [
      "                   all        807       7092      0.808      0.396      0.437      0.344      0.801      0.368      0.406      0.261\n"
     ]
    },
    {
     "name": "stderr",
     "output_type": "stream",
     "text": [
      "\n"
     ]
    },
    {
     "name": "stdout",
     "output_type": "stream",
     "text": [
      "\n",
      "      Epoch    GPU_mem   box_loss   seg_loss   cls_loss   dfl_loss  Instances       Size\n"
     ]
    },
    {
     "name": "stderr",
     "output_type": "stream",
     "text": [
      "    117/500      4.09G      1.155      2.589      1.604     0.9268        150        512: 100%|██████████| 95/95 [00:16<00:00,  5.72it/s]\n",
      "                 Class     Images  Instances      Box(P          R      mAP50  mAP50-95)     Mask(P          R      mAP50  mAP50-95): 100%|██████████| 15/15 [00:04<00:00,  3.50it/s]"
     ]
    },
    {
     "name": "stdout",
     "output_type": "stream",
     "text": [
      "                   all        807       7092       0.83      0.389      0.436      0.346      0.796      0.369      0.406      0.261\n"
     ]
    },
    {
     "name": "stderr",
     "output_type": "stream",
     "text": [
      "\n"
     ]
    },
    {
     "name": "stdout",
     "output_type": "stream",
     "text": [
      "\n",
      "      Epoch    GPU_mem   box_loss   seg_loss   cls_loss   dfl_loss  Instances       Size\n"
     ]
    },
    {
     "name": "stderr",
     "output_type": "stream",
     "text": [
      "    118/500      5.09G      1.158      2.625      1.589      0.926        135        512: 100%|██████████| 95/95 [00:16<00:00,  5.69it/s]\n",
      "                 Class     Images  Instances      Box(P          R      mAP50  mAP50-95)     Mask(P          R      mAP50  mAP50-95): 100%|██████████| 15/15 [00:04<00:00,  3.41it/s]"
     ]
    },
    {
     "name": "stdout",
     "output_type": "stream",
     "text": [
      "                   all        807       7092      0.825      0.395      0.441      0.346      0.802       0.37      0.409      0.268\n"
     ]
    },
    {
     "name": "stderr",
     "output_type": "stream",
     "text": [
      "\n"
     ]
    },
    {
     "name": "stdout",
     "output_type": "stream",
     "text": [
      "\n",
      "      Epoch    GPU_mem   box_loss   seg_loss   cls_loss   dfl_loss  Instances       Size\n"
     ]
    },
    {
     "name": "stderr",
     "output_type": "stream",
     "text": [
      "    119/500      3.66G       1.14      2.563       1.57     0.9211        229        512: 100%|██████████| 95/95 [00:16<00:00,  5.74it/s]\n",
      "                 Class     Images  Instances      Box(P          R      mAP50  mAP50-95)     Mask(P          R      mAP50  mAP50-95): 100%|██████████| 15/15 [00:04<00:00,  3.28it/s]"
     ]
    },
    {
     "name": "stdout",
     "output_type": "stream",
     "text": [
      "                   all        807       7092      0.844      0.389      0.438      0.344      0.808      0.371      0.405       0.26\n"
     ]
    },
    {
     "name": "stderr",
     "output_type": "stream",
     "text": [
      "\n"
     ]
    },
    {
     "name": "stdout",
     "output_type": "stream",
     "text": [
      "\n",
      "      Epoch    GPU_mem   box_loss   seg_loss   cls_loss   dfl_loss  Instances       Size\n"
     ]
    },
    {
     "name": "stderr",
     "output_type": "stream",
     "text": [
      "    120/500       4.7G      1.157      2.584      1.613     0.9282        188        512: 100%|██████████| 95/95 [00:16<00:00,  5.68it/s]\n",
      "                 Class     Images  Instances      Box(P          R      mAP50  mAP50-95)     Mask(P          R      mAP50  mAP50-95): 100%|██████████| 15/15 [00:04<00:00,  3.41it/s]"
     ]
    },
    {
     "name": "stdout",
     "output_type": "stream",
     "text": [
      "                   all        807       7092      0.827      0.393      0.438      0.345      0.803      0.374      0.406      0.261\n"
     ]
    },
    {
     "name": "stderr",
     "output_type": "stream",
     "text": [
      "\n"
     ]
    },
    {
     "name": "stdout",
     "output_type": "stream",
     "text": [
      "\n",
      "      Epoch    GPU_mem   box_loss   seg_loss   cls_loss   dfl_loss  Instances       Size\n"
     ]
    },
    {
     "name": "stderr",
     "output_type": "stream",
     "text": [
      "    121/500      4.49G      1.166      2.617      1.602     0.9288        136        512: 100%|██████████| 95/95 [00:16<00:00,  5.69it/s]\n",
      "                 Class     Images  Instances      Box(P          R      mAP50  mAP50-95)     Mask(P          R      mAP50  mAP50-95): 100%|██████████| 15/15 [00:04<00:00,  3.45it/s]"
     ]
    },
    {
     "name": "stdout",
     "output_type": "stream",
     "text": [
      "                   all        807       7092      0.839      0.392      0.438      0.347      0.799       0.37      0.406       0.26\n"
     ]
    },
    {
     "name": "stderr",
     "output_type": "stream",
     "text": [
      "\n"
     ]
    },
    {
     "name": "stdout",
     "output_type": "stream",
     "text": [
      "\n",
      "      Epoch    GPU_mem   box_loss   seg_loss   cls_loss   dfl_loss  Instances       Size\n"
     ]
    },
    {
     "name": "stderr",
     "output_type": "stream",
     "text": [
      "    122/500      4.43G      1.166      2.617      1.596     0.9244        165        512: 100%|██████████| 95/95 [00:16<00:00,  5.69it/s]\n",
      "                 Class     Images  Instances      Box(P          R      mAP50  mAP50-95)     Mask(P          R      mAP50  mAP50-95): 100%|██████████| 15/15 [00:04<00:00,  3.47it/s]"
     ]
    },
    {
     "name": "stdout",
     "output_type": "stream",
     "text": [
      "                   all        807       7092       0.81        0.4       0.44      0.348      0.788      0.375      0.409      0.266\n"
     ]
    },
    {
     "name": "stderr",
     "output_type": "stream",
     "text": [
      "\n"
     ]
    },
    {
     "name": "stdout",
     "output_type": "stream",
     "text": [
      "\n",
      "      Epoch    GPU_mem   box_loss   seg_loss   cls_loss   dfl_loss  Instances       Size\n"
     ]
    },
    {
     "name": "stderr",
     "output_type": "stream",
     "text": [
      "    123/500      4.91G      1.164       2.59      1.591     0.9245        101        512: 100%|██████████| 95/95 [00:16<00:00,  5.68it/s]\n",
      "                 Class     Images  Instances      Box(P          R      mAP50  mAP50-95)     Mask(P          R      mAP50  mAP50-95): 100%|██████████| 15/15 [00:04<00:00,  3.52it/s]"
     ]
    },
    {
     "name": "stdout",
     "output_type": "stream",
     "text": [
      "                   all        807       7092      0.862      0.392      0.442      0.351      0.823      0.373       0.41      0.264\n"
     ]
    },
    {
     "name": "stderr",
     "output_type": "stream",
     "text": [
      "\n"
     ]
    },
    {
     "name": "stdout",
     "output_type": "stream",
     "text": [
      "\n",
      "      Epoch    GPU_mem   box_loss   seg_loss   cls_loss   dfl_loss  Instances       Size\n"
     ]
    },
    {
     "name": "stderr",
     "output_type": "stream",
     "text": [
      "    124/500      4.13G      1.148      2.612      1.605     0.9229        146        512: 100%|██████████| 95/95 [00:16<00:00,  5.62it/s]\n",
      "                 Class     Images  Instances      Box(P          R      mAP50  mAP50-95)     Mask(P          R      mAP50  mAP50-95): 100%|██████████| 15/15 [00:04<00:00,  3.30it/s]"
     ]
    },
    {
     "name": "stdout",
     "output_type": "stream",
     "text": [
      "                   all        807       7092      0.816      0.398      0.441       0.35      0.803      0.375      0.412      0.266\n"
     ]
    },
    {
     "name": "stderr",
     "output_type": "stream",
     "text": [
      "\n"
     ]
    },
    {
     "name": "stdout",
     "output_type": "stream",
     "text": [
      "\n",
      "      Epoch    GPU_mem   box_loss   seg_loss   cls_loss   dfl_loss  Instances       Size\n"
     ]
    },
    {
     "name": "stderr",
     "output_type": "stream",
     "text": [
      "    125/500      4.43G      1.156      2.621      1.592     0.9244        100        512: 100%|██████████| 95/95 [00:16<00:00,  5.65it/s]\n",
      "                 Class     Images  Instances      Box(P          R      mAP50  mAP50-95)     Mask(P          R      mAP50  mAP50-95): 100%|██████████| 15/15 [00:04<00:00,  3.43it/s]"
     ]
    },
    {
     "name": "stdout",
     "output_type": "stream",
     "text": [
      "                   all        807       7092      0.818        0.4      0.444      0.352      0.805      0.375      0.413      0.263\n"
     ]
    },
    {
     "name": "stderr",
     "output_type": "stream",
     "text": [
      "\n"
     ]
    },
    {
     "name": "stdout",
     "output_type": "stream",
     "text": [
      "\n",
      "      Epoch    GPU_mem   box_loss   seg_loss   cls_loss   dfl_loss  Instances       Size\n"
     ]
    },
    {
     "name": "stderr",
     "output_type": "stream",
     "text": [
      "    126/500         4G      1.146       2.57      1.565     0.9224        139        512: 100%|██████████| 95/95 [00:16<00:00,  5.65it/s]\n",
      "                 Class     Images  Instances      Box(P          R      mAP50  mAP50-95)     Mask(P          R      mAP50  mAP50-95): 100%|██████████| 15/15 [00:04<00:00,  3.40it/s]"
     ]
    },
    {
     "name": "stdout",
     "output_type": "stream",
     "text": [
      "                   all        807       7092      0.847      0.393      0.443      0.351      0.822      0.374      0.411      0.264\n"
     ]
    },
    {
     "name": "stderr",
     "output_type": "stream",
     "text": [
      "\n"
     ]
    },
    {
     "name": "stdout",
     "output_type": "stream",
     "text": [
      "\n",
      "      Epoch    GPU_mem   box_loss   seg_loss   cls_loss   dfl_loss  Instances       Size\n"
     ]
    },
    {
     "name": "stderr",
     "output_type": "stream",
     "text": [
      "    127/500      4.26G      1.153      2.615      1.578     0.9222        240        512: 100%|██████████| 95/95 [00:16<00:00,  5.63it/s]\n",
      "                 Class     Images  Instances      Box(P          R      mAP50  mAP50-95)     Mask(P          R      mAP50  mAP50-95): 100%|██████████| 15/15 [00:04<00:00,  3.39it/s]"
     ]
    },
    {
     "name": "stdout",
     "output_type": "stream",
     "text": [
      "                   all        807       7092      0.826      0.398      0.443      0.353      0.798      0.371      0.403      0.249\n"
     ]
    },
    {
     "name": "stderr",
     "output_type": "stream",
     "text": [
      "\n"
     ]
    },
    {
     "name": "stdout",
     "output_type": "stream",
     "text": [
      "\n",
      "      Epoch    GPU_mem   box_loss   seg_loss   cls_loss   dfl_loss  Instances       Size\n"
     ]
    },
    {
     "name": "stderr",
     "output_type": "stream",
     "text": [
      "    128/500      4.65G      1.139      2.564      1.573     0.9177        123        512: 100%|██████████| 95/95 [00:16<00:00,  5.67it/s]\n",
      "                 Class     Images  Instances      Box(P          R      mAP50  mAP50-95)     Mask(P          R      mAP50  mAP50-95): 100%|██████████| 15/15 [00:04<00:00,  3.49it/s]"
     ]
    },
    {
     "name": "stdout",
     "output_type": "stream",
     "text": [
      "                   all        807       7092      0.789      0.405      0.442      0.349      0.788      0.369      0.401      0.245\n"
     ]
    },
    {
     "name": "stderr",
     "output_type": "stream",
     "text": [
      "\n"
     ]
    },
    {
     "name": "stdout",
     "output_type": "stream",
     "text": [
      "\n",
      "      Epoch    GPU_mem   box_loss   seg_loss   cls_loss   dfl_loss  Instances       Size\n"
     ]
    },
    {
     "name": "stderr",
     "output_type": "stream",
     "text": [
      "    129/500      4.14G      1.137      2.579      1.543     0.9196        182        512: 100%|██████████| 95/95 [00:16<00:00,  5.67it/s]\n",
      "                 Class     Images  Instances      Box(P          R      mAP50  mAP50-95)     Mask(P          R      mAP50  mAP50-95): 100%|██████████| 15/15 [00:04<00:00,  3.39it/s]"
     ]
    },
    {
     "name": "stdout",
     "output_type": "stream",
     "text": [
      "                   all        807       7092      0.849      0.398      0.443       0.35        0.8      0.371        0.4       0.25\n"
     ]
    },
    {
     "name": "stderr",
     "output_type": "stream",
     "text": [
      "\n"
     ]
    },
    {
     "name": "stdout",
     "output_type": "stream",
     "text": [
      "\n",
      "      Epoch    GPU_mem   box_loss   seg_loss   cls_loss   dfl_loss  Instances       Size\n"
     ]
    },
    {
     "name": "stderr",
     "output_type": "stream",
     "text": [
      "    130/500      4.35G      1.132      2.538      1.548      0.916        127        512: 100%|██████████| 95/95 [00:16<00:00,  5.68it/s]\n",
      "                 Class     Images  Instances      Box(P          R      mAP50  mAP50-95)     Mask(P          R      mAP50  mAP50-95): 100%|██████████| 15/15 [00:04<00:00,  3.39it/s]"
     ]
    },
    {
     "name": "stdout",
     "output_type": "stream",
     "text": [
      "                   all        807       7092       0.84      0.399      0.443      0.353      0.785      0.371      0.399      0.248\n"
     ]
    },
    {
     "name": "stderr",
     "output_type": "stream",
     "text": [
      "\n"
     ]
    },
    {
     "name": "stdout",
     "output_type": "stream",
     "text": [
      "\n",
      "      Epoch    GPU_mem   box_loss   seg_loss   cls_loss   dfl_loss  Instances       Size\n"
     ]
    },
    {
     "name": "stderr",
     "output_type": "stream",
     "text": [
      "    131/500      5.08G      1.125      2.524      1.533     0.9124        193        512: 100%|██████████| 95/95 [00:16<00:00,  5.74it/s]\n",
      "                 Class     Images  Instances      Box(P          R      mAP50  mAP50-95)     Mask(P          R      mAP50  mAP50-95): 100%|██████████| 15/15 [00:04<00:00,  3.48it/s]"
     ]
    },
    {
     "name": "stdout",
     "output_type": "stream",
     "text": [
      "                   all        807       7092       0.83      0.398      0.443      0.352      0.776       0.37      0.398      0.242\n"
     ]
    },
    {
     "name": "stderr",
     "output_type": "stream",
     "text": [
      "\n"
     ]
    },
    {
     "name": "stdout",
     "output_type": "stream",
     "text": [
      "\n",
      "      Epoch    GPU_mem   box_loss   seg_loss   cls_loss   dfl_loss  Instances       Size\n"
     ]
    },
    {
     "name": "stderr",
     "output_type": "stream",
     "text": [
      "    132/500      4.46G      1.134      2.543      1.551     0.9204        142        512: 100%|██████████| 95/95 [00:16<00:00,  5.80it/s]\n",
      "                 Class     Images  Instances      Box(P          R      mAP50  mAP50-95)     Mask(P          R      mAP50  mAP50-95): 100%|██████████| 15/15 [00:04<00:00,  3.50it/s]"
     ]
    },
    {
     "name": "stdout",
     "output_type": "stream",
     "text": [
      "                   all        807       7092      0.814      0.402      0.443      0.354      0.785      0.373      0.403      0.249\n"
     ]
    },
    {
     "name": "stderr",
     "output_type": "stream",
     "text": [
      "\n"
     ]
    },
    {
     "name": "stdout",
     "output_type": "stream",
     "text": [
      "\n",
      "      Epoch    GPU_mem   box_loss   seg_loss   cls_loss   dfl_loss  Instances       Size\n"
     ]
    },
    {
     "name": "stderr",
     "output_type": "stream",
     "text": [
      "    133/500      3.93G      1.139      2.571      1.547     0.9187        346        512: 100%|██████████| 95/95 [00:16<00:00,  5.74it/s]\n",
      "                 Class     Images  Instances      Box(P          R      mAP50  mAP50-95)     Mask(P          R      mAP50  mAP50-95): 100%|██████████| 15/15 [00:04<00:00,  3.44it/s]"
     ]
    },
    {
     "name": "stdout",
     "output_type": "stream",
     "text": [
      "                   all        807       7092      0.811      0.405      0.443      0.353      0.774      0.372      0.399      0.247\n"
     ]
    },
    {
     "name": "stderr",
     "output_type": "stream",
     "text": [
      "\n"
     ]
    },
    {
     "name": "stdout",
     "output_type": "stream",
     "text": [
      "\n",
      "      Epoch    GPU_mem   box_loss   seg_loss   cls_loss   dfl_loss  Instances       Size\n"
     ]
    },
    {
     "name": "stderr",
     "output_type": "stream",
     "text": [
      "    134/500      4.29G      1.148      2.579      1.565     0.9184        156        512: 100%|██████████| 95/95 [00:16<00:00,  5.71it/s]\n",
      "                 Class     Images  Instances      Box(P          R      mAP50  mAP50-95)     Mask(P          R      mAP50  mAP50-95): 100%|██████████| 15/15 [00:04<00:00,  3.52it/s]"
     ]
    },
    {
     "name": "stdout",
     "output_type": "stream",
     "text": [
      "                   all        807       7092      0.836      0.397      0.442      0.353      0.763       0.36      0.382      0.229\n"
     ]
    },
    {
     "name": "stderr",
     "output_type": "stream",
     "text": [
      "\n"
     ]
    },
    {
     "name": "stdout",
     "output_type": "stream",
     "text": [
      "\n",
      "      Epoch    GPU_mem   box_loss   seg_loss   cls_loss   dfl_loss  Instances       Size\n"
     ]
    },
    {
     "name": "stderr",
     "output_type": "stream",
     "text": [
      "    135/500      4.19G      1.125      2.534      1.542      0.915         73        512: 100%|██████████| 95/95 [00:16<00:00,  5.70it/s]\n",
      "                 Class     Images  Instances      Box(P          R      mAP50  mAP50-95)     Mask(P          R      mAP50  mAP50-95): 100%|██████████| 15/15 [00:04<00:00,  3.41it/s]"
     ]
    },
    {
     "name": "stdout",
     "output_type": "stream",
     "text": [
      "                   all        807       7092      0.841      0.394      0.444      0.355      0.758      0.356      0.381      0.219\n"
     ]
    },
    {
     "name": "stderr",
     "output_type": "stream",
     "text": [
      "\n"
     ]
    },
    {
     "name": "stdout",
     "output_type": "stream",
     "text": [
      "\n",
      "      Epoch    GPU_mem   box_loss   seg_loss   cls_loss   dfl_loss  Instances       Size\n"
     ]
    },
    {
     "name": "stderr",
     "output_type": "stream",
     "text": [
      "    136/500       4.5G      1.136      2.581      1.545     0.9138        101        512: 100%|██████████| 95/95 [00:16<00:00,  5.68it/s]\n",
      "                 Class     Images  Instances      Box(P          R      mAP50  mAP50-95)     Mask(P          R      mAP50  mAP50-95): 100%|██████████| 15/15 [00:04<00:00,  3.42it/s]"
     ]
    },
    {
     "name": "stdout",
     "output_type": "stream",
     "text": [
      "                   all        807       7092      0.826      0.398      0.446      0.355      0.754      0.361      0.387      0.225\n"
     ]
    },
    {
     "name": "stderr",
     "output_type": "stream",
     "text": [
      "\n"
     ]
    },
    {
     "name": "stdout",
     "output_type": "stream",
     "text": [
      "\n",
      "      Epoch    GPU_mem   box_loss   seg_loss   cls_loss   dfl_loss  Instances       Size\n"
     ]
    },
    {
     "name": "stderr",
     "output_type": "stream",
     "text": [
      "    137/500      3.74G       1.13      2.536      1.525     0.9164         74        512: 100%|██████████| 95/95 [00:16<00:00,  5.77it/s]\n",
      "                 Class     Images  Instances      Box(P          R      mAP50  mAP50-95)     Mask(P          R      mAP50  mAP50-95): 100%|██████████| 15/15 [00:04<00:00,  3.48it/s]"
     ]
    },
    {
     "name": "stdout",
     "output_type": "stream",
     "text": [
      "                   all        807       7092      0.832      0.399      0.444      0.353      0.771       0.36      0.383       0.22\n"
     ]
    },
    {
     "name": "stderr",
     "output_type": "stream",
     "text": [
      "\n"
     ]
    },
    {
     "name": "stdout",
     "output_type": "stream",
     "text": [
      "\n",
      "      Epoch    GPU_mem   box_loss   seg_loss   cls_loss   dfl_loss  Instances       Size\n"
     ]
    },
    {
     "name": "stderr",
     "output_type": "stream",
     "text": [
      "    138/500      4.62G      1.142       2.57       1.54     0.9178        152        512: 100%|██████████| 95/95 [00:16<00:00,  5.74it/s]\n",
      "                 Class     Images  Instances      Box(P          R      mAP50  mAP50-95)     Mask(P          R      mAP50  mAP50-95): 100%|██████████| 15/15 [00:04<00:00,  3.47it/s]"
     ]
    },
    {
     "name": "stdout",
     "output_type": "stream",
     "text": [
      "                   all        807       7092      0.842      0.403      0.446      0.355      0.762      0.367      0.387      0.223\n"
     ]
    },
    {
     "name": "stderr",
     "output_type": "stream",
     "text": [
      "\n"
     ]
    },
    {
     "name": "stdout",
     "output_type": "stream",
     "text": [
      "\n",
      "      Epoch    GPU_mem   box_loss   seg_loss   cls_loss   dfl_loss  Instances       Size\n"
     ]
    },
    {
     "name": "stderr",
     "output_type": "stream",
     "text": [
      "    139/500      4.12G      1.124      2.527      1.516     0.9076        132        512: 100%|██████████| 95/95 [00:16<00:00,  5.73it/s]\n",
      "                 Class     Images  Instances      Box(P          R      mAP50  mAP50-95)     Mask(P          R      mAP50  mAP50-95): 100%|██████████| 15/15 [00:04<00:00,  3.50it/s]"
     ]
    },
    {
     "name": "stdout",
     "output_type": "stream",
     "text": [
      "                   all        807       7092       0.83      0.403      0.446      0.358       0.75      0.368      0.389      0.226\n"
     ]
    },
    {
     "name": "stderr",
     "output_type": "stream",
     "text": [
      "\n"
     ]
    },
    {
     "name": "stdout",
     "output_type": "stream",
     "text": [
      "\n",
      "      Epoch    GPU_mem   box_loss   seg_loss   cls_loss   dfl_loss  Instances       Size\n"
     ]
    },
    {
     "name": "stderr",
     "output_type": "stream",
     "text": [
      "    140/500      4.48G      1.132      2.564      1.519     0.9131        148        512: 100%|██████████| 95/95 [00:16<00:00,  5.66it/s]\n",
      "                 Class     Images  Instances      Box(P          R      mAP50  mAP50-95)     Mask(P          R      mAP50  mAP50-95): 100%|██████████| 15/15 [00:04<00:00,  3.48it/s]"
     ]
    },
    {
     "name": "stdout",
     "output_type": "stream",
     "text": [
      "                   all        807       7092      0.828      0.405      0.449      0.359      0.766      0.369      0.389      0.226\n"
     ]
    },
    {
     "name": "stderr",
     "output_type": "stream",
     "text": [
      "\n"
     ]
    },
    {
     "name": "stdout",
     "output_type": "stream",
     "text": [
      "\n",
      "      Epoch    GPU_mem   box_loss   seg_loss   cls_loss   dfl_loss  Instances       Size\n"
     ]
    },
    {
     "name": "stderr",
     "output_type": "stream",
     "text": [
      "    141/500      4.32G      1.116      2.514       1.51     0.9106        173        512: 100%|██████████| 95/95 [00:16<00:00,  5.69it/s]\n",
      "                 Class     Images  Instances      Box(P          R      mAP50  mAP50-95)     Mask(P          R      mAP50  mAP50-95): 100%|██████████| 15/15 [00:04<00:00,  3.34it/s]"
     ]
    },
    {
     "name": "stdout",
     "output_type": "stream",
     "text": [
      "                   all        807       7092      0.856      0.398      0.448      0.359      0.778       0.36      0.385      0.222\n"
     ]
    },
    {
     "name": "stderr",
     "output_type": "stream",
     "text": [
      "\n"
     ]
    },
    {
     "name": "stdout",
     "output_type": "stream",
     "text": [
      "\n",
      "      Epoch    GPU_mem   box_loss   seg_loss   cls_loss   dfl_loss  Instances       Size\n"
     ]
    },
    {
     "name": "stderr",
     "output_type": "stream",
     "text": [
      "    142/500      5.24G       1.12      2.527      1.509      0.912        192        512: 100%|██████████| 95/95 [00:16<00:00,  5.63it/s]\n",
      "                 Class     Images  Instances      Box(P          R      mAP50  mAP50-95)     Mask(P          R      mAP50  mAP50-95): 100%|██████████| 15/15 [00:04<00:00,  3.45it/s]"
     ]
    },
    {
     "name": "stdout",
     "output_type": "stream",
     "text": [
      "                   all        807       7092      0.856        0.4      0.446      0.357      0.781      0.358       0.38      0.218\n"
     ]
    },
    {
     "name": "stderr",
     "output_type": "stream",
     "text": [
      "\n"
     ]
    },
    {
     "name": "stdout",
     "output_type": "stream",
     "text": [
      "\n",
      "      Epoch    GPU_mem   box_loss   seg_loss   cls_loss   dfl_loss  Instances       Size\n"
     ]
    },
    {
     "name": "stderr",
     "output_type": "stream",
     "text": [
      "    143/500       3.8G      1.122      2.548       1.53     0.9103         93        512: 100%|██████████| 95/95 [00:16<00:00,  5.62it/s]\n",
      "                 Class     Images  Instances      Box(P          R      mAP50  mAP50-95)     Mask(P          R      mAP50  mAP50-95): 100%|██████████| 15/15 [00:04<00:00,  3.43it/s]"
     ]
    },
    {
     "name": "stdout",
     "output_type": "stream",
     "text": [
      "                   all        807       7092      0.852      0.399      0.448       0.36       0.79      0.359      0.387      0.227\n"
     ]
    },
    {
     "name": "stderr",
     "output_type": "stream",
     "text": [
      "\n"
     ]
    },
    {
     "name": "stdout",
     "output_type": "stream",
     "text": [
      "\n",
      "      Epoch    GPU_mem   box_loss   seg_loss   cls_loss   dfl_loss  Instances       Size\n"
     ]
    },
    {
     "name": "stderr",
     "output_type": "stream",
     "text": [
      "    144/500      4.28G      1.112      2.502      1.503     0.9109        141        512: 100%|██████████| 95/95 [00:16<00:00,  5.72it/s]\n",
      "                 Class     Images  Instances      Box(P          R      mAP50  mAP50-95)     Mask(P          R      mAP50  mAP50-95): 100%|██████████| 15/15 [00:04<00:00,  3.39it/s]"
     ]
    },
    {
     "name": "stdout",
     "output_type": "stream",
     "text": [
      "                   all        807       7092      0.863      0.405      0.452      0.362      0.794      0.368      0.392      0.231\n"
     ]
    },
    {
     "name": "stderr",
     "output_type": "stream",
     "text": [
      "\n"
     ]
    },
    {
     "name": "stdout",
     "output_type": "stream",
     "text": [
      "\n",
      "      Epoch    GPU_mem   box_loss   seg_loss   cls_loss   dfl_loss  Instances       Size\n"
     ]
    },
    {
     "name": "stderr",
     "output_type": "stream",
     "text": [
      "    145/500      4.38G      1.108      2.516      1.489     0.9087         79        512: 100%|██████████| 95/95 [00:16<00:00,  5.66it/s]\n",
      "                 Class     Images  Instances      Box(P          R      mAP50  mAP50-95)     Mask(P          R      mAP50  mAP50-95): 100%|██████████| 15/15 [00:04<00:00,  3.46it/s]\n"
     ]
    },
    {
     "name": "stdout",
     "output_type": "stream",
     "text": [
      "                   all        807       7092       0.84      0.408      0.451       0.36      0.771      0.367      0.387      0.231\n",
      "\n",
      "      Epoch    GPU_mem   box_loss   seg_loss   cls_loss   dfl_loss  Instances       Size\n"
     ]
    },
    {
     "name": "stderr",
     "output_type": "stream",
     "text": [
      "    146/500      4.23G      1.109      2.505      1.509     0.9093        127        512: 100%|██████████| 95/95 [00:16<00:00,  5.71it/s]\n",
      "                 Class     Images  Instances      Box(P          R      mAP50  mAP50-95)     Mask(P          R      mAP50  mAP50-95): 100%|██████████| 15/15 [00:04<00:00,  3.39it/s]"
     ]
    },
    {
     "name": "stdout",
     "output_type": "stream",
     "text": [
      "                   all        807       7092      0.848      0.407      0.451      0.361        0.8      0.369      0.394      0.232\n"
     ]
    },
    {
     "name": "stderr",
     "output_type": "stream",
     "text": [
      "\n"
     ]
    },
    {
     "name": "stdout",
     "output_type": "stream",
     "text": [
      "\n",
      "      Epoch    GPU_mem   box_loss   seg_loss   cls_loss   dfl_loss  Instances       Size\n"
     ]
    },
    {
     "name": "stderr",
     "output_type": "stream",
     "text": [
      "    147/500      4.62G      1.127      2.563       1.52     0.9094        118        512: 100%|██████████| 95/95 [00:16<00:00,  5.70it/s]\n",
      "                 Class     Images  Instances      Box(P          R      mAP50  mAP50-95)     Mask(P          R      mAP50  mAP50-95): 100%|██████████| 15/15 [00:04<00:00,  3.44it/s]\n"
     ]
    },
    {
     "name": "stdout",
     "output_type": "stream",
     "text": [
      "                   all        807       7092      0.824      0.408      0.452      0.362      0.775      0.368      0.397      0.235\n",
      "\n",
      "      Epoch    GPU_mem   box_loss   seg_loss   cls_loss   dfl_loss  Instances       Size\n"
     ]
    },
    {
     "name": "stderr",
     "output_type": "stream",
     "text": [
      "    148/500      4.03G      1.112      2.515      1.483     0.9047        168        512: 100%|██████████| 95/95 [00:16<00:00,  5.71it/s]\n",
      "                 Class     Images  Instances      Box(P          R      mAP50  mAP50-95)     Mask(P          R      mAP50  mAP50-95): 100%|██████████| 15/15 [00:04<00:00,  3.42it/s]"
     ]
    },
    {
     "name": "stdout",
     "output_type": "stream",
     "text": [
      "                   all        807       7092      0.845      0.404       0.45      0.362      0.819       0.36      0.394      0.231\n"
     ]
    },
    {
     "name": "stderr",
     "output_type": "stream",
     "text": [
      "\n"
     ]
    },
    {
     "name": "stdout",
     "output_type": "stream",
     "text": [
      "\n",
      "      Epoch    GPU_mem   box_loss   seg_loss   cls_loss   dfl_loss  Instances       Size\n"
     ]
    },
    {
     "name": "stderr",
     "output_type": "stream",
     "text": [
      "    149/500      4.15G      1.113      2.536       1.48     0.9066        111        512: 100%|██████████| 95/95 [00:16<00:00,  5.76it/s]\n",
      "                 Class     Images  Instances      Box(P          R      mAP50  mAP50-95)     Mask(P          R      mAP50  mAP50-95): 100%|██████████| 15/15 [00:04<00:00,  3.44it/s]"
     ]
    },
    {
     "name": "stdout",
     "output_type": "stream",
     "text": [
      "                   all        807       7092      0.842      0.406      0.451      0.361      0.774      0.366       0.39      0.228\n"
     ]
    },
    {
     "name": "stderr",
     "output_type": "stream",
     "text": [
      "\n"
     ]
    },
    {
     "name": "stdout",
     "output_type": "stream",
     "text": [
      "\n",
      "      Epoch    GPU_mem   box_loss   seg_loss   cls_loss   dfl_loss  Instances       Size\n"
     ]
    },
    {
     "name": "stderr",
     "output_type": "stream",
     "text": [
      "    150/500         5G      1.134      2.561      1.508     0.9095        150        512: 100%|██████████| 95/95 [00:16<00:00,  5.67it/s]\n",
      "                 Class     Images  Instances      Box(P          R      mAP50  mAP50-95)     Mask(P          R      mAP50  mAP50-95): 100%|██████████| 15/15 [00:04<00:00,  3.47it/s]"
     ]
    },
    {
     "name": "stdout",
     "output_type": "stream",
     "text": [
      "                   all        807       7092       0.82      0.412      0.452      0.362      0.803      0.367      0.394      0.233\n"
     ]
    },
    {
     "name": "stderr",
     "output_type": "stream",
     "text": [
      "\n"
     ]
    },
    {
     "name": "stdout",
     "output_type": "stream",
     "text": [
      "\n",
      "      Epoch    GPU_mem   box_loss   seg_loss   cls_loss   dfl_loss  Instances       Size\n"
     ]
    },
    {
     "name": "stderr",
     "output_type": "stream",
     "text": [
      "    151/500      4.07G      1.125      2.536      1.494     0.9086        193        512: 100%|██████████| 95/95 [00:16<00:00,  5.70it/s]\n",
      "                 Class     Images  Instances      Box(P          R      mAP50  mAP50-95)     Mask(P          R      mAP50  mAP50-95): 100%|██████████| 15/15 [00:04<00:00,  3.43it/s]"
     ]
    },
    {
     "name": "stdout",
     "output_type": "stream",
     "text": [
      "                   all        807       7092      0.848      0.404      0.452      0.362      0.784      0.369      0.388       0.23\n"
     ]
    },
    {
     "name": "stderr",
     "output_type": "stream",
     "text": [
      "\n"
     ]
    },
    {
     "name": "stdout",
     "output_type": "stream",
     "text": [
      "\n",
      "      Epoch    GPU_mem   box_loss   seg_loss   cls_loss   dfl_loss  Instances       Size\n"
     ]
    },
    {
     "name": "stderr",
     "output_type": "stream",
     "text": [
      "    152/500      3.92G      1.093      2.486      1.479     0.9013        144        512: 100%|██████████| 95/95 [00:16<00:00,  5.66it/s]\n",
      "                 Class     Images  Instances      Box(P          R      mAP50  mAP50-95)     Mask(P          R      mAP50  mAP50-95): 100%|██████████| 15/15 [00:04<00:00,  3.43it/s]"
     ]
    },
    {
     "name": "stdout",
     "output_type": "stream",
     "text": [
      "                   all        807       7092      0.829      0.406      0.452      0.363      0.787      0.369      0.396      0.234\n"
     ]
    },
    {
     "name": "stderr",
     "output_type": "stream",
     "text": [
      "\n"
     ]
    },
    {
     "name": "stdout",
     "output_type": "stream",
     "text": [
      "\n",
      "      Epoch    GPU_mem   box_loss   seg_loss   cls_loss   dfl_loss  Instances       Size\n"
     ]
    },
    {
     "name": "stderr",
     "output_type": "stream",
     "text": [
      "    153/500      4.15G      1.102      2.497      1.469     0.9008         54        512: 100%|██████████| 95/95 [00:16<00:00,  5.72it/s]\n",
      "                 Class     Images  Instances      Box(P          R      mAP50  mAP50-95)     Mask(P          R      mAP50  mAP50-95): 100%|██████████| 15/15 [00:04<00:00,  3.45it/s]"
     ]
    },
    {
     "name": "stdout",
     "output_type": "stream",
     "text": [
      "                   all        807       7092      0.838      0.407      0.448       0.36      0.765      0.367      0.387      0.225\n"
     ]
    },
    {
     "name": "stderr",
     "output_type": "stream",
     "text": [
      "\n"
     ]
    },
    {
     "name": "stdout",
     "output_type": "stream",
     "text": [
      "\n",
      "      Epoch    GPU_mem   box_loss   seg_loss   cls_loss   dfl_loss  Instances       Size\n"
     ]
    },
    {
     "name": "stderr",
     "output_type": "stream",
     "text": [
      "    154/500      5.08G      1.104      2.526      1.486     0.9028        118        512: 100%|██████████| 95/95 [00:16<00:00,  5.73it/s]\n",
      "                 Class     Images  Instances      Box(P          R      mAP50  mAP50-95)     Mask(P          R      mAP50  mAP50-95): 100%|██████████| 15/15 [00:04<00:00,  3.48it/s]"
     ]
    },
    {
     "name": "stdout",
     "output_type": "stream",
     "text": [
      "                   all        807       7092      0.833      0.409      0.451      0.361      0.782       0.36      0.384      0.219\n"
     ]
    },
    {
     "name": "stderr",
     "output_type": "stream",
     "text": [
      "\n"
     ]
    },
    {
     "name": "stdout",
     "output_type": "stream",
     "text": [
      "Stopping training early as no improvement observed in last 30 epochs. Best results observed at epoch 124, best model saved as best.pt.\n",
      "To update EarlyStopping(patience=30) pass a new patience value, i.e. `patience=300` or use `patience=0` to disable EarlyStopping.\n",
      "\n",
      "154 epochs completed in 0.921 hours.\n",
      "Optimizer stripped from runs\\segment\\train\\weights\\last.pt, 6.8MB\n",
      "Optimizer stripped from runs\\segment\\train\\weights\\best.pt, 6.8MB\n",
      "\n",
      "Validating runs\\segment\\train\\weights\\best.pt...\n",
      "Ultralytics YOLOv8.1.27 🚀 Python-3.11.8 torch-2.1.2+cu121 CUDA:0 (NVIDIA GeForce RTX 2070 SUPER, 8192MiB)\n",
      "YOLOv8n-seg summary (fused): 195 layers, 3261964 parameters, 0 gradients, 12.0 GFLOPs\n"
     ]
    },
    {
     "name": "stderr",
     "output_type": "stream",
     "text": [
      "                 Class     Images  Instances      Box(P          R      mAP50  mAP50-95)     Mask(P          R      mAP50  mAP50-95): 100%|██████████| 15/15 [00:04<00:00,  3.45it/s]\n"
     ]
    },
    {
     "name": "stdout",
     "output_type": "stream",
     "text": [
      "                   all        807       7092      0.813      0.399      0.441       0.35      0.803      0.375      0.413      0.266\n",
      "                  sofa        807        112       0.84      0.659      0.699      0.615      0.837      0.643       0.67      0.471\n",
      "                 train        807        163      0.817       0.46      0.487      0.351      0.827      0.438      0.468      0.301\n",
      "               bicycle        807        731      0.788      0.156      0.196      0.132      0.567      0.103     0.0973     0.0396\n",
      "                 horse        807        226      0.783      0.425      0.455      0.353      0.804      0.407      0.446      0.252\n",
      "             motorbike        807        401      0.779      0.263      0.323      0.228      0.799      0.247      0.292      0.145\n",
      "                 sheep        807        217      0.796      0.512      0.551      0.426        0.8      0.499      0.552      0.369\n",
      "                   cat        807        185       0.89      0.432       0.48       0.43      0.903      0.422      0.471      0.363\n",
      "                  bird        807        248      0.793      0.309       0.34      0.271      0.836      0.302       0.34      0.216\n",
      "                bottle        807        112      0.829      0.518      0.547      0.418      0.831        0.5      0.535      0.352\n",
      "                   cow        807        253       0.85      0.265      0.313      0.242      0.838      0.245       0.29      0.189\n",
      "                   bus        807        226      0.864      0.381      0.451      0.347      0.874      0.337      0.397      0.267\n",
      "           pottedplant        807       1331      0.738      0.125      0.159     0.0935      0.702      0.106      0.125     0.0478\n",
      "           diningtable        807         70      0.755      0.614      0.666      0.566      0.733      0.571        0.6      0.406\n",
      "                person        807        995      0.852      0.479      0.538      0.417      0.853      0.455      0.508      0.298\n",
      "             tvmonitor        807         70      0.845      0.614      0.672      0.595      0.863        0.6      0.652      0.506\n",
      "                 chair        807        775      0.731      0.287      0.335      0.235      0.616      0.218      0.251      0.124\n",
      "                   dog        807        173      0.833      0.439      0.466      0.403      0.867      0.434       0.46      0.309\n",
      "                  boat        807        409      0.766      0.191      0.217      0.159      0.784      0.181      0.219      0.127\n",
      "                   car        807        180      0.832      0.506      0.545      0.429      0.827      0.472      0.499      0.324\n",
      "             aeroplane        807        215      0.889      0.336      0.379      0.291      0.909      0.326      0.377       0.21\n",
      "Speed: 0.1ms preprocess, 0.9ms inference, 0.0ms loss, 0.6ms postprocess per image\n",
      "Results saved to \u001b[1mruns\\segment\\train\u001b[0m\n"
     ]
    }
   ],
   "source": [
    "#Continue training, because the previous training results looked like it was still learning\n",
    "from ultralytics import YOLO\n",
    "\n",
    "# Load a model\n",
    "#model = YOLO('yolov8n-seg.pt')  # load a pretrained model\n",
    "model = YOLO('C:\\\\Onlab\\\\VOC_dataset\\\\VOCdevkit\\\\VOC2012\\\\runs\\\\segment\\\\train3\\\\weights\\\\last.pt')# load the last training model\n",
    "# Train the model with the tuned hyperparameters\n",
    "results = model.train(data='dataset/dataset.yaml', epochs=500,cache=True,imgsz=500, batch=-1, workers=10, optimizer='AdamW', patience=30, lr0= 0.0102, lrf= 0.00387, momentum= 0.81859, weight_decay= 0.00068, warmup_epochs= 3.46434, warmup_momentum= 0.89747, box= 8.86819, cls= 0.80673, dfl= 1.31027, hsv_h= 0.01541, hsv_s= 0.74576, hsv_v= 0.3294, degrees= 0.0, translate= 0.10281, scale= 0.19924, shear= 0.0, perspective= 0.0, flipud= 0.0, fliplr= 0.39194, mosaic= 0.68242, mixup= 0.0, copy_paste= 0.0)"
   ]
  },
  {
   "cell_type": "markdown",
   "metadata": {},
   "source": [
    "Use the trained models to segment the images in the test folder, then displaying them next to each other. //\n",
    "A tanítás utáni modellek használata a test mappában található képek szegmentálásához, majd ezek megjelenítése egymás mellett."
   ]
  },
  {
   "cell_type": "code",
   "execution_count": 8,
   "metadata": {},
   "outputs": [
    {
     "name": "stdout",
     "output_type": "stream",
     "text": [
      "\n",
      "image 1/22 c:\\Onlab\\VOC_dataset\\VOCdevkit\\VOC2012\\test\\2007_000027.jpg: 512x512 1 person, 4.0ms\n",
      "image 2/22 c:\\Onlab\\VOC_dataset\\VOCdevkit\\VOC2012\\test\\2007_000032.jpg: 288x512 4 persons, 3 aeroplanes, 4.0ms\n",
      "image 3/22 c:\\Onlab\\VOC_dataset\\VOCdevkit\\VOC2012\\test\\2007_000033.jpg: 384x512 8 aeroplanes, 4.0ms\n",
      "image 4/22 c:\\Onlab\\VOC_dataset\\VOCdevkit\\VOC2012\\test\\2007_000039.jpg: 384x512 1 tvmonitor, 4.0ms\n",
      "image 5/22 c:\\Onlab\\VOC_dataset\\VOCdevkit\\VOC2012\\test\\2007_000042.jpg: 352x512 6 trains, 6.3ms\n",
      "image 6/22 c:\\Onlab\\VOC_dataset\\VOCdevkit\\VOC2012\\test\\2007_000061.jpg: 352x512 2 boats, 4.0ms\n",
      "image 7/22 c:\\Onlab\\VOC_dataset\\VOCdevkit\\VOC2012\\test\\2007_000063.jpg: 384x512 2 chairs, 1 dog, 7.0ms\n",
      "image 8/22 c:\\Onlab\\VOC_dataset\\VOCdevkit\\VOC2012\\test\\2007_000068.jpg: 384x512 1 bird, 5.0ms\n",
      "image 9/22 c:\\Onlab\\VOC_dataset\\VOCdevkit\\VOC2012\\test\\2007_000121.jpg: 384x512 2 tvmonitors, 4.0ms\n",
      "image 10/22 c:\\Onlab\\VOC_dataset\\VOCdevkit\\VOC2012\\test\\2007_000123.jpg: 384x512 1 train, 3.0ms\n",
      "image 11/22 c:\\Onlab\\VOC_dataset\\VOCdevkit\\VOC2012\\test\\2007_000129.jpg: 512x352 5 bicycles, 5 persons, 4.0ms\n",
      "image 12/22 c:\\Onlab\\VOC_dataset\\VOCdevkit\\VOC2012\\test\\2007_000170.jpg: 384x512 3 bottles, 2 persons, 7.0ms\n",
      "image 13/22 c:\\Onlab\\VOC_dataset\\VOCdevkit\\VOC2012\\test\\2007_000175.jpg: 352x512 2 sheeps, 4.0ms\n",
      "image 14/22 c:\\Onlab\\VOC_dataset\\VOCdevkit\\VOC2012\\test\\2007_000187.jpg: 384x512 1 tvmonitor, 5.0ms\n",
      "image 15/22 c:\\Onlab\\VOC_dataset\\VOCdevkit\\VOC2012\\test\\2007_000241.jpg: 384x512 4 boats, 5.0ms\n",
      "image 16/22 c:\\Onlab\\VOC_dataset\\VOCdevkit\\VOC2012\\test\\2007_000243.jpg: 352x512 1 aeroplane, 5.0ms\n",
      "image 17/22 c:\\Onlab\\VOC_dataset\\VOCdevkit\\VOC2012\\test\\2007_000250.jpg: 384x512 1 bottle, 1 diningtable, 7.0ms\n",
      "image 18/22 c:\\Onlab\\VOC_dataset\\VOCdevkit\\VOC2012\\test\\2007_000256.jpg: 352x512 2 aeroplanes, 4.0ms\n",
      "image 19/22 c:\\Onlab\\VOC_dataset\\VOCdevkit\\VOC2012\\test\\2007_000272.jpg: 512x352 1 person, 4.0ms\n",
      "image 20/22 c:\\Onlab\\VOC_dataset\\VOCdevkit\\VOC2012\\test\\2007_000323.jpg: 384x512 2 persons, 5.0ms\n",
      "image 21/22 c:\\Onlab\\VOC_dataset\\VOCdevkit\\VOC2012\\test\\2007_000332.jpg: 352x512 8 horses, 4.0ms\n",
      "image 22/22 c:\\Onlab\\VOC_dataset\\VOCdevkit\\VOC2012\\test\\2007_000333.jpg: 352x512 1 train, 4.0ms\n",
      "Speed: 0.9ms preprocess, 4.7ms inference, 1.2ms postprocess per image at shape (1, 3, 352, 512)\n",
      "\n",
      "image 1/22 c:\\Onlab\\VOC_dataset\\VOCdevkit\\VOC2012\\test\\2007_000027.jpg: 768x768 1 person, 6.0ms\n",
      "image 2/22 c:\\Onlab\\VOC_dataset\\VOCdevkit\\VOC2012\\test\\2007_000032.jpg: 448x768 2 persons, 2 aeroplanes, 8.0ms\n",
      "image 3/22 c:\\Onlab\\VOC_dataset\\VOCdevkit\\VOC2012\\test\\2007_000033.jpg: 576x768 5 aeroplanes, 6.0ms\n",
      "image 4/22 c:\\Onlab\\VOC_dataset\\VOCdevkit\\VOC2012\\test\\2007_000039.jpg: 576x768 2 tvmonitors, 6.0ms\n",
      "image 5/22 c:\\Onlab\\VOC_dataset\\VOCdevkit\\VOC2012\\test\\2007_000042.jpg: 544x768 9 trains, 5.0ms\n",
      "image 6/22 c:\\Onlab\\VOC_dataset\\VOCdevkit\\VOC2012\\test\\2007_000061.jpg: 512x768 2 boats, 5.0ms\n",
      "image 7/22 c:\\Onlab\\VOC_dataset\\VOCdevkit\\VOC2012\\test\\2007_000063.jpg: 576x768 4 chairs, 3 dogs, 5.5ms\n",
      "image 8/22 c:\\Onlab\\VOC_dataset\\VOCdevkit\\VOC2012\\test\\2007_000068.jpg: 576x768 1 cat, 2 birds, 7.0ms\n",
      "image 9/22 c:\\Onlab\\VOC_dataset\\VOCdevkit\\VOC2012\\test\\2007_000121.jpg: 576x768 2 tvmonitors, 4.0ms\n",
      "image 10/22 c:\\Onlab\\VOC_dataset\\VOCdevkit\\VOC2012\\test\\2007_000123.jpg: 576x768 1 train, 5.0ms\n",
      "image 11/22 c:\\Onlab\\VOC_dataset\\VOCdevkit\\VOC2012\\test\\2007_000129.jpg: 768x544 3 bicycles, 1 horse, 4 persons, 8.5ms\n",
      "image 12/22 c:\\Onlab\\VOC_dataset\\VOCdevkit\\VOC2012\\test\\2007_000170.jpg: 576x768 4 bottles, 2 persons, 6.0ms\n",
      "image 13/22 c:\\Onlab\\VOC_dataset\\VOCdevkit\\VOC2012\\test\\2007_000175.jpg: 512x768 1 sheep, 5.0ms\n",
      "image 14/22 c:\\Onlab\\VOC_dataset\\VOCdevkit\\VOC2012\\test\\2007_000187.jpg: 576x768 1 tvmonitor, 6.0ms\n",
      "image 15/22 c:\\Onlab\\VOC_dataset\\VOCdevkit\\VOC2012\\test\\2007_000241.jpg: 576x768 4 boats, 4.0ms\n",
      "image 16/22 c:\\Onlab\\VOC_dataset\\VOCdevkit\\VOC2012\\test\\2007_000243.jpg: 512x768 1 aeroplane, 5.0ms\n",
      "image 17/22 c:\\Onlab\\VOC_dataset\\VOCdevkit\\VOC2012\\test\\2007_000250.jpg: 576x768 1 bottle, 1 diningtable, 6.0ms\n",
      "image 18/22 c:\\Onlab\\VOC_dataset\\VOCdevkit\\VOC2012\\test\\2007_000256.jpg: 544x768 1 aeroplane, 5.0ms\n",
      "image 19/22 c:\\Onlab\\VOC_dataset\\VOCdevkit\\VOC2012\\test\\2007_000272.jpg: 768x512 2 persons, 5.0ms\n",
      "image 20/22 c:\\Onlab\\VOC_dataset\\VOCdevkit\\VOC2012\\test\\2007_000323.jpg: 576x768 3 persons, 6.0ms\n",
      "image 21/22 c:\\Onlab\\VOC_dataset\\VOCdevkit\\VOC2012\\test\\2007_000332.jpg: 512x768 10 horses, 5.0ms\n",
      "image 22/22 c:\\Onlab\\VOC_dataset\\VOCdevkit\\VOC2012\\test\\2007_000333.jpg: 512x768 1 train, 5.0ms\n",
      "Speed: 1.1ms preprocess, 5.6ms inference, 1.5ms postprocess per image at shape (1, 3, 512, 768)\n",
      "\n",
      "image 1/22 c:\\Onlab\\VOC_dataset\\VOCdevkit\\VOC2012\\test\\2007_000027.jpg: 768x768 1 person, 7.0ms\n",
      "image 2/22 c:\\Onlab\\VOC_dataset\\VOCdevkit\\VOC2012\\test\\2007_000032.jpg: 448x768 2 persons, 3 aeroplanes, 5.0ms\n",
      "image 3/22 c:\\Onlab\\VOC_dataset\\VOCdevkit\\VOC2012\\test\\2007_000033.jpg: 576x768 3 aeroplanes, 5.0ms\n",
      "image 4/22 c:\\Onlab\\VOC_dataset\\VOCdevkit\\VOC2012\\test\\2007_000039.jpg: 576x768 1 tvmonitor, 5.0ms\n",
      "image 5/22 c:\\Onlab\\VOC_dataset\\VOCdevkit\\VOC2012\\test\\2007_000042.jpg: 544x768 19 trains, 5.0ms\n",
      "image 6/22 c:\\Onlab\\VOC_dataset\\VOCdevkit\\VOC2012\\test\\2007_000061.jpg: 512x768 2 boats, 5.0ms\n",
      "image 7/22 c:\\Onlab\\VOC_dataset\\VOCdevkit\\VOC2012\\test\\2007_000063.jpg: 576x768 3 chairs, 2 dogs, 5.0ms\n",
      "image 8/22 c:\\Onlab\\VOC_dataset\\VOCdevkit\\VOC2012\\test\\2007_000068.jpg: 576x768 1 bird, 5.0ms\n",
      "image 9/22 c:\\Onlab\\VOC_dataset\\VOCdevkit\\VOC2012\\test\\2007_000121.jpg: 576x768 2 tvmonitors, 4.5ms\n",
      "image 10/22 c:\\Onlab\\VOC_dataset\\VOCdevkit\\VOC2012\\test\\2007_000123.jpg: 576x768 1 train, 4.0ms\n",
      "image 11/22 c:\\Onlab\\VOC_dataset\\VOCdevkit\\VOC2012\\test\\2007_000129.jpg: 768x544 4 bicycles, 5 persons, 4.0ms\n",
      "image 12/22 c:\\Onlab\\VOC_dataset\\VOCdevkit\\VOC2012\\test\\2007_000170.jpg: 576x768 4 bottles, 2 persons, 5.0ms\n",
      "image 13/22 c:\\Onlab\\VOC_dataset\\VOCdevkit\\VOC2012\\test\\2007_000175.jpg: 512x768 3 sheeps, 5.0ms\n",
      "image 14/22 c:\\Onlab\\VOC_dataset\\VOCdevkit\\VOC2012\\test\\2007_000187.jpg: 576x768 1 tvmonitor, 5.1ms\n",
      "image 15/22 c:\\Onlab\\VOC_dataset\\VOCdevkit\\VOC2012\\test\\2007_000241.jpg: 576x768 7 boats, 4.0ms\n",
      "image 16/22 c:\\Onlab\\VOC_dataset\\VOCdevkit\\VOC2012\\test\\2007_000243.jpg: 512x768 1 aeroplane, 5.0ms\n",
      "image 17/22 c:\\Onlab\\VOC_dataset\\VOCdevkit\\VOC2012\\test\\2007_000250.jpg: 576x768 1 bottle, 1 diningtable, 5.0ms\n",
      "image 18/22 c:\\Onlab\\VOC_dataset\\VOCdevkit\\VOC2012\\test\\2007_000256.jpg: 544x768 1 aeroplane, 6.0ms\n",
      "image 19/22 c:\\Onlab\\VOC_dataset\\VOCdevkit\\VOC2012\\test\\2007_000272.jpg: 768x512 1 diningtable, 3 persons, 5.2ms\n",
      "image 20/22 c:\\Onlab\\VOC_dataset\\VOCdevkit\\VOC2012\\test\\2007_000323.jpg: 576x768 2 persons, 5.0ms\n",
      "image 21/22 c:\\Onlab\\VOC_dataset\\VOCdevkit\\VOC2012\\test\\2007_000332.jpg: 512x768 11 horses, 5.0ms\n",
      "image 22/22 c:\\Onlab\\VOC_dataset\\VOCdevkit\\VOC2012\\test\\2007_000333.jpg: 512x768 1 train, 4.0ms\n",
      "Speed: 1.1ms preprocess, 4.9ms inference, 1.3ms postprocess per image at shape (1, 3, 512, 768)\n",
      "\n",
      "image 1/22 c:\\Onlab\\VOC_dataset\\VOCdevkit\\VOC2012\\test\\2007_000027.jpg: 768x768 1 person, 5.0ms\n",
      "image 2/22 c:\\Onlab\\VOC_dataset\\VOCdevkit\\VOC2012\\test\\2007_000032.jpg: 448x768 2 persons, 1 boat, 2 aeroplanes, 5.0ms\n",
      "image 3/22 c:\\Onlab\\VOC_dataset\\VOCdevkit\\VOC2012\\test\\2007_000033.jpg: 576x768 5 aeroplanes, 5.0ms\n",
      "image 4/22 c:\\Onlab\\VOC_dataset\\VOCdevkit\\VOC2012\\test\\2007_000039.jpg: 576x768 2 tvmonitors, 4.0ms\n",
      "image 5/22 c:\\Onlab\\VOC_dataset\\VOCdevkit\\VOC2012\\test\\2007_000042.jpg: 544x768 16 trains, 5.0ms\n",
      "image 6/22 c:\\Onlab\\VOC_dataset\\VOCdevkit\\VOC2012\\test\\2007_000061.jpg: 512x768 2 boats, 5.0ms\n",
      "image 7/22 c:\\Onlab\\VOC_dataset\\VOCdevkit\\VOC2012\\test\\2007_000063.jpg: 576x768 5 chairs, 2 dogs, 5.0ms\n",
      "image 8/22 c:\\Onlab\\VOC_dataset\\VOCdevkit\\VOC2012\\test\\2007_000068.jpg: 576x768 1 bird, 5.0ms\n",
      "image 9/22 c:\\Onlab\\VOC_dataset\\VOCdevkit\\VOC2012\\test\\2007_000121.jpg: 576x768 2 tvmonitors, 5.0ms\n",
      "image 10/22 c:\\Onlab\\VOC_dataset\\VOCdevkit\\VOC2012\\test\\2007_000123.jpg: 576x768 1 train, 5.0ms\n",
      "image 11/22 c:\\Onlab\\VOC_dataset\\VOCdevkit\\VOC2012\\test\\2007_000129.jpg: 768x544 7 bicycles, 5 persons, 4.0ms\n",
      "image 12/22 c:\\Onlab\\VOC_dataset\\VOCdevkit\\VOC2012\\test\\2007_000170.jpg: 576x768 4 bottles, 2 persons, 5.0ms\n",
      "image 13/22 c:\\Onlab\\VOC_dataset\\VOCdevkit\\VOC2012\\test\\2007_000175.jpg: 512x768 2 sheeps, 5.0ms\n",
      "image 14/22 c:\\Onlab\\VOC_dataset\\VOCdevkit\\VOC2012\\test\\2007_000187.jpg: 576x768 1 tvmonitor, 5.0ms\n",
      "image 15/22 c:\\Onlab\\VOC_dataset\\VOCdevkit\\VOC2012\\test\\2007_000241.jpg: 576x768 3 boats, 4.0ms\n",
      "image 16/22 c:\\Onlab\\VOC_dataset\\VOCdevkit\\VOC2012\\test\\2007_000243.jpg: 512x768 1 aeroplane, 5.0ms\n",
      "image 17/22 c:\\Onlab\\VOC_dataset\\VOCdevkit\\VOC2012\\test\\2007_000250.jpg: 576x768 1 bottle, 1 diningtable, 5.0ms\n",
      "image 18/22 c:\\Onlab\\VOC_dataset\\VOCdevkit\\VOC2012\\test\\2007_000256.jpg: 544x768 2 aeroplanes, 5.0ms\n",
      "image 19/22 c:\\Onlab\\VOC_dataset\\VOCdevkit\\VOC2012\\test\\2007_000272.jpg: 768x512 2 persons, 1 chair, 5.0ms\n",
      "image 20/22 c:\\Onlab\\VOC_dataset\\VOCdevkit\\VOC2012\\test\\2007_000323.jpg: 576x768 2 persons, 5.0ms\n",
      "image 21/22 c:\\Onlab\\VOC_dataset\\VOCdevkit\\VOC2012\\test\\2007_000332.jpg: 512x768 8 horses, 5.0ms\n",
      "image 22/22 c:\\Onlab\\VOC_dataset\\VOCdevkit\\VOC2012\\test\\2007_000333.jpg: 512x768 1 train, 6.0ms\n",
      "Speed: 1.0ms preprocess, 4.9ms inference, 1.1ms postprocess per image at shape (1, 3, 512, 768)\n"
     ]
    }
   ],
   "source": [
    "#Code from ultralytics example+slight modification\n",
    "from ultralytics import YOLO\n",
    "from PIL import Image\n",
    "import os\n",
    "\n",
    "# List of models\n",
    "models = ['trainAdeamWopt+patience30', 'trainAdamWopt', 'trainautoopt', 'traindefhyppar']\n",
    "\n",
    "source = 'c:\\\\Onlab\\\\VOC_dataset\\\\VOCdevkit\\\\VOC2012\\\\test'\n",
    "\n",
    "# Iterate through each model\n",
    "for model_name in models:\n",
    "    # Load a model\n",
    "    model = YOLO(f'c:\\\\Onlab\\\\VOC_dataset\\\\VOCdevkit\\\\VOC2012\\\\runs\\\\segment\\\\{model_name}\\\\weights\\\\best.pt')# load last training model\n",
    "    \n",
    "    # Run batched inference on a list of images\n",
    "    results = model(source, stream=True)  # return a list of Results objects\n",
    "\n",
    "    for i, r in enumerate(results):\n",
    "        # Plot results image\n",
    "        im_bgr = r.plot()  # BGR-order numpy array\n",
    "        im_rgb = Image.fromarray(im_bgr[..., ::-1])  # RGB-order PIL image\n",
    "        \n",
    "        # Create the directory if it doesn't exist\n",
    "        os.makedirs(model_name, exist_ok=True)\n",
    "        \n",
    "        # Save results to disk\n",
    "        r.save(filename=f'{model_name}\\\\results{i}.jpg')"
   ]
  },
  {
   "cell_type": "code",
   "execution_count": null,
   "metadata": {},
   "outputs": [],
   "source": [
    "from PIL import Image\n",
    "import os\n",
    "import matplotlib.pyplot as plt\n",
    "\n",
    "# List of models\n",
    "models = ['trainAdeamWopt+patience30', 'trainAdamWopt', 'trainautoopt', 'traindefhyppar']\n",
    "\n",
    "# Base directory path\n",
    "base_directory_path = 'c:\\\\Onlab\\\\VOC_dataset\\\\VOCdevkit\\\\VOC2012'\n",
    "\n",
    "# Iterate through each model to get image files\n",
    "for model_name in models:\n",
    "    # Create the directory path\n",
    "    directory_path = f'{base_directory_path}\\\\{model_name}'\n",
    "    \n",
    "    # Get all jpg files in the directory\n",
    "    image_files = [f for f in os.listdir(directory_path) if f.endswith('.jpg')]\n",
    "    \n",
    "    # Iterate through each image file\n",
    "    for image_file in image_files:\n",
    "        # Create a figure and a grid of subplots with a larger size\n",
    "        fig, axs = plt.subplots(1, len(models), figsize=(20, 20))\n",
    "        \n",
    "        # Iterate through each model again to display the same image from each model\n",
    "        for i, model_name in enumerate(models):\n",
    "            # Create the directory path for the current model\n",
    "            current_directory_path = f'{base_directory_path}\\\\{model_name}'\n",
    "            \n",
    "            # Open the image file\n",
    "            img = Image.open(f'{current_directory_path}\\\\{image_file}')\n",
    "            \n",
    "            # Display the image in a subplot\n",
    "            axs[i].imshow(img)\n",
    "            axs[i].set_title(model_name)\n",
    "            axs[i].axis('off')\n",
    "        \n",
    "        # Display the figure with the images\n",
    "        plt.show()"
   ]
  }
 ],
 "metadata": {
  "kernelspec": {
   "display_name": "Python 3",
   "language": "python",
   "name": "python3"
  },
  "language_info": {
   "codemirror_mode": {
    "name": "ipython",
    "version": 3
   },
   "file_extension": ".py",
   "mimetype": "text/x-python",
   "name": "python",
   "nbconvert_exporter": "python",
   "pygments_lexer": "ipython3",
   "version": "3.11.8"
  }
 },
 "nbformat": 4,
 "nbformat_minor": 2
}
